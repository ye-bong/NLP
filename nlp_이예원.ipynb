{
  "cells": [
    {
      "cell_type": "markdown",
      "metadata": {},
      "source": [
        "## 자연어 처리 과제입니다\n",
        "\n",
        "파일명 제출 : nlp_{이름}.ipynb  \n",
        "제출기한일 : 2023.10.10  \n",
        "제출 이메일 : bluelemonsky7@gmail.com  \n",
        "분석 대상 데이터 : 네이버 평점 test 데이터\n",
        "\n",
        "평가 관점\n",
        "1. 코드를 작성하여 error 없이 진행해야 함\n",
        "2. 각종 모델을 비교하거나 선택한 이유 등을 작성\n",
        "3. train : test 비율은 7:3으로 함\n",
        "4. 최종 평가에서 train 데이터에 대한 정확도 90 이상, test 데이터에 대한 정확도는 85 이상을 목표로 함\n",
        "5. 모델 평가에서 고정된 결과가 나오도록 하세요"
      ]
    },
    {
      "cell_type": "markdown",
      "metadata": {},
      "source": [
        "Part 1 . 분석 환경에 대한 정보를 보여주세요\n",
        "\n",
        "1. python 버전 \n",
        "2. 주용 사용 패키지 버전 정보 \n"
      ]
    },
    {
      "cell_type": "code",
      "execution_count": 1,
      "metadata": {
        "colab": {
          "base_uri": "https://localhost:8080/"
        },
        "id": "I8aFRNL0d1Vy",
        "outputId": "b8005d5d-de62-4309-ed77-89cd44f75d7e"
      },
      "outputs": [
        {
          "name": "stdout",
          "output_type": "stream",
          "text": [
            "Defaulting to user installation because normal site-packages is not writeable\n",
            "Requirement already satisfied: xgboost in c:\\users\\leah5\\appdata\\roaming\\python\\python310\\site-packages (2.0.0)\n",
            "Requirement already satisfied: scipy in c:\\programdata\\anaconda3\\lib\\site-packages (from xgboost) (1.10.0)\n",
            "Requirement already satisfied: numpy in c:\\programdata\\anaconda3\\lib\\site-packages (from xgboost) (1.23.5)\n"
          ]
        }
      ],
      "source": [
        "# 졍규 표현식 패키지\n",
        "import re\n",
        "\n",
        "# 토크나이저 패키지\n",
        "from nltk.tokenize import word_tokenize\n",
        "from ckonlpy.tag import Twitter\n",
        "from konlpy.tag import Kkma\n",
        "\n",
        "from tokenizers import Tokenizer\n",
        "from nltk.tokenize import RegexpTokenizer\n",
        "\n",
        "# 벡터화 패키지\n",
        "from sklearn.feature_extraction.text import TfidfVectorizer\n",
        "\n",
        "# 분류 모델 패키지\n",
        "from sklearn.linear_model import LogisticRegression\n",
        "from sklearn.neighbors import KNeighborsClassifier\n",
        "from sklearn.tree import DecisionTreeClassifier\n",
        "from sklearn.ensemble import RandomForestClassifier\n",
        "from sklearn.neural_network import MLPClassifier\n",
        "from sklearn.ensemble import VotingClassifier\n",
        "\n",
        "!pip install xgboost\n",
        "from xgboost import XGBClassifier\n",
        "\n",
        "# 분류 모델 평가\n",
        "from sklearn.metrics import classification_report\n",
        "\n",
        "# 데이터 핸들링\n",
        "import numpy as np\n",
        "import pandas as pd\n",
        "\n",
        "# 기타\n",
        "from tqdm import tqdm # 분석 속도, 시간 확인, 정도 확인"
      ]
    },
    {
      "cell_type": "code",
      "execution_count": 2,
      "metadata": {
        "id": "A4JFv2APbvz0"
      },
      "outputs": [],
      "source": [
        "from konlpy.tag import Okt"
      ]
    },
    {
      "cell_type": "code",
      "execution_count": 3,
      "metadata": {
        "colab": {
          "base_uri": "https://localhost:8080/",
          "height": 35
        },
        "id": "gwZoiNtPb0aU",
        "outputId": "9b3dbc4c-2950-42c9-9ddd-34c34ff22106"
      },
      "outputs": [
        {
          "data": {
            "text/plain": [
              "'2.13.0'"
            ]
          },
          "execution_count": 3,
          "metadata": {},
          "output_type": "execute_result"
        }
      ],
      "source": [
        "import tensorflow as tf\n",
        "tf.__version__"
      ]
    },
    {
      "cell_type": "code",
      "execution_count": 4,
      "metadata": {
        "colab": {
          "base_uri": "https://localhost:8080/",
          "height": 35
        },
        "id": "__I0D_tlb82b",
        "outputId": "bf1b675a-f9e3-4790-b3a9-633cd8b9d169"
      },
      "outputs": [
        {
          "data": {
            "text/plain": [
              "'4.34.0'"
            ]
          },
          "execution_count": 4,
          "metadata": {},
          "output_type": "execute_result"
        }
      ],
      "source": [
        "import transformers\n",
        "transformers.__version__"
      ]
    },
    {
      "cell_type": "markdown",
      "metadata": {
        "id": "12aEpia4cIhs"
      },
      "source": [
        "Part 2. 분석 데이터를 로드하세요\n",
        "\n",
        "1. 판다스로 데이터를 read 하세요"
      ]
    },
    {
      "cell_type": "code",
      "execution_count": 5,
      "metadata": {
        "id": "qMyyQJGEcIP7"
      },
      "outputs": [],
      "source": [
        "# 데이터 로드\n",
        "test_df = pd.read_csv('./data/ratings_test.csv')\n",
        "test_df.dropna(inplace=True)"
      ]
    },
    {
      "cell_type": "code",
      "execution_count": 6,
      "metadata": {
        "colab": {
          "base_uri": "https://localhost:8080/",
          "height": 206
        },
        "id": "TM6b3R_dc_0C",
        "outputId": "932f3611-2894-4560-b385-8286723d9d91"
      },
      "outputs": [
        {
          "data": {
            "text/html": [
              "<div>\n",
              "<style scoped>\n",
              "    .dataframe tbody tr th:only-of-type {\n",
              "        vertical-align: middle;\n",
              "    }\n",
              "\n",
              "    .dataframe tbody tr th {\n",
              "        vertical-align: top;\n",
              "    }\n",
              "\n",
              "    .dataframe thead th {\n",
              "        text-align: right;\n",
              "    }\n",
              "</style>\n",
              "<table border=\"1\" class=\"dataframe\">\n",
              "  <thead>\n",
              "    <tr style=\"text-align: right;\">\n",
              "      <th></th>\n",
              "      <th>id</th>\n",
              "      <th>document</th>\n",
              "      <th>label</th>\n",
              "    </tr>\n",
              "  </thead>\n",
              "  <tbody>\n",
              "    <tr>\n",
              "      <th>0</th>\n",
              "      <td>6270596</td>\n",
              "      <td>굳 ㅋ</td>\n",
              "      <td>1</td>\n",
              "    </tr>\n",
              "    <tr>\n",
              "      <th>1</th>\n",
              "      <td>9274899</td>\n",
              "      <td>GDNTOPCLASSINTHECLUB</td>\n",
              "      <td>0</td>\n",
              "    </tr>\n",
              "    <tr>\n",
              "      <th>2</th>\n",
              "      <td>8544678</td>\n",
              "      <td>뭐야 이 평점들은.... 나쁘진 않지만 10점 짜리는 더더욱 아니잖아</td>\n",
              "      <td>0</td>\n",
              "    </tr>\n",
              "    <tr>\n",
              "      <th>3</th>\n",
              "      <td>6825595</td>\n",
              "      <td>지루하지는 않은데 완전 막장임... 돈주고 보기에는....</td>\n",
              "      <td>0</td>\n",
              "    </tr>\n",
              "    <tr>\n",
              "      <th>4</th>\n",
              "      <td>6723715</td>\n",
              "      <td>3D만 아니었어도 별 다섯 개 줬을텐데.. 왜 3D로 나와서 제 심기를 불편하게 하죠??</td>\n",
              "      <td>0</td>\n",
              "    </tr>\n",
              "  </tbody>\n",
              "</table>\n",
              "</div>"
            ],
            "text/plain": [
              "        id                                           document  label\n",
              "0  6270596                                                굳 ㅋ      1\n",
              "1  9274899                               GDNTOPCLASSINTHECLUB      0\n",
              "2  8544678             뭐야 이 평점들은.... 나쁘진 않지만 10점 짜리는 더더욱 아니잖아      0\n",
              "3  6825595                   지루하지는 않은데 완전 막장임... 돈주고 보기에는....      0\n",
              "4  6723715  3D만 아니었어도 별 다섯 개 줬을텐데.. 왜 3D로 나와서 제 심기를 불편하게 하죠??      0"
            ]
          },
          "execution_count": 6,
          "metadata": {},
          "output_type": "execute_result"
        }
      ],
      "source": [
        "test_df.head()"
      ]
    },
    {
      "cell_type": "code",
      "execution_count": 7,
      "metadata": {
        "colab": {
          "base_uri": "https://localhost:8080/"
        },
        "id": "JGxovxpclpmt",
        "outputId": "29c985a1-c4f5-4d9b-9385-da9c8de02189"
      },
      "outputs": [
        {
          "data": {
            "text/plain": [
              "(49997, 3)"
            ]
          },
          "execution_count": 7,
          "metadata": {},
          "output_type": "execute_result"
        }
      ],
      "source": [
        "test_df.shape"
      ]
    },
    {
      "cell_type": "code",
      "execution_count": 8,
      "metadata": {},
      "outputs": [
        {
          "name": "stderr",
          "output_type": "stream",
          "text": [
            "C:\\Users\\leah5\\AppData\\Local\\Temp\\ipykernel_3180\\19351791.py:3: FutureWarning: The default value of regex will change from True to False in a future version.\n",
            "  test_df['document'] = test_df['document'].str.replace(\"[^ㄱ-ㅎㅏ-ㅣ가-힣]\", \" \")\n"
          ]
        }
      ],
      "source": [
        "# 데이터 전처리\n",
        "# 한글만 남기기\n",
        "test_df['document'] = test_df['document'].str.replace(\"[^ㄱ-ㅎㅏ-ㅣ가-힣]\", \" \")"
      ]
    },
    {
      "cell_type": "code",
      "execution_count": 9,
      "metadata": {},
      "outputs": [
        {
          "data": {
            "text/html": [
              "<div>\n",
              "<style scoped>\n",
              "    .dataframe tbody tr th:only-of-type {\n",
              "        vertical-align: middle;\n",
              "    }\n",
              "\n",
              "    .dataframe tbody tr th {\n",
              "        vertical-align: top;\n",
              "    }\n",
              "\n",
              "    .dataframe thead th {\n",
              "        text-align: right;\n",
              "    }\n",
              "</style>\n",
              "<table border=\"1\" class=\"dataframe\">\n",
              "  <thead>\n",
              "    <tr style=\"text-align: right;\">\n",
              "      <th></th>\n",
              "      <th>id</th>\n",
              "      <th>document</th>\n",
              "      <th>label</th>\n",
              "    </tr>\n",
              "  </thead>\n",
              "  <tbody>\n",
              "    <tr>\n",
              "      <th>0</th>\n",
              "      <td>6270596</td>\n",
              "      <td>굳 ㅋ</td>\n",
              "      <td>1</td>\n",
              "    </tr>\n",
              "    <tr>\n",
              "      <th>1</th>\n",
              "      <td>9274899</td>\n",
              "      <td></td>\n",
              "      <td>0</td>\n",
              "    </tr>\n",
              "    <tr>\n",
              "      <th>2</th>\n",
              "      <td>8544678</td>\n",
              "      <td>뭐야 이 평점들은     나쁘진 않지만   점 짜리는 더더욱 아니잖아</td>\n",
              "      <td>0</td>\n",
              "    </tr>\n",
              "    <tr>\n",
              "      <th>3</th>\n",
              "      <td>6825595</td>\n",
              "      <td>지루하지는 않은데 완전 막장임    돈주고 보기에는</td>\n",
              "      <td>0</td>\n",
              "    </tr>\n",
              "    <tr>\n",
              "      <th>4</th>\n",
              "      <td>6723715</td>\n",
              "      <td>만 아니었어도 별 다섯 개 줬을텐데   왜   로 나와서 제 심기를 불편하게 하죠</td>\n",
              "      <td>0</td>\n",
              "    </tr>\n",
              "    <tr>\n",
              "      <th>...</th>\n",
              "      <td>...</td>\n",
              "      <td>...</td>\n",
              "      <td>...</td>\n",
              "    </tr>\n",
              "    <tr>\n",
              "      <th>49995</th>\n",
              "      <td>4608761</td>\n",
              "      <td>오랜만에 평점 로긴했네ㅋㅋ 킹왕짱 쌈뽕한 영화를 만났습니다 강렬하게 육쾌함</td>\n",
              "      <td>1</td>\n",
              "    </tr>\n",
              "    <tr>\n",
              "      <th>49996</th>\n",
              "      <td>5308387</td>\n",
              "      <td>의지 박약들이나 하는거다 탈영은 일단 주인공 김대희 닮았고 이등병 찐따</td>\n",
              "      <td>0</td>\n",
              "    </tr>\n",
              "    <tr>\n",
              "      <th>49997</th>\n",
              "      <td>9072549</td>\n",
              "      <td>그림도 좋고 완성도도 높았지만    보는 내내 불안하게 만든다</td>\n",
              "      <td>0</td>\n",
              "    </tr>\n",
              "    <tr>\n",
              "      <th>49998</th>\n",
              "      <td>5802125</td>\n",
              "      <td>절대 봐서는 안 될 영화   재미도 없고 기분만 잡치고   한 세트장에서 다 해먹네</td>\n",
              "      <td>0</td>\n",
              "    </tr>\n",
              "    <tr>\n",
              "      <th>49999</th>\n",
              "      <td>6070594</td>\n",
              "      <td>마무리는 또 왜이래</td>\n",
              "      <td>0</td>\n",
              "    </tr>\n",
              "  </tbody>\n",
              "</table>\n",
              "<p>49997 rows × 3 columns</p>\n",
              "</div>"
            ],
            "text/plain": [
              "            id                                           document  label\n",
              "0      6270596                                                굳 ㅋ      1\n",
              "1      9274899                                                         0\n",
              "2      8544678             뭐야 이 평점들은     나쁘진 않지만   점 짜리는 더더욱 아니잖아      0\n",
              "3      6825595                   지루하지는 않은데 완전 막장임    돈주고 보기에는          0\n",
              "4      6723715    만 아니었어도 별 다섯 개 줬을텐데   왜   로 나와서 제 심기를 불편하게 하죠        0\n",
              "...        ...                                                ...    ...\n",
              "49995  4608761          오랜만에 평점 로긴했네ㅋㅋ 킹왕짱 쌈뽕한 영화를 만났습니다 강렬하게 육쾌함      1\n",
              "49996  5308387       의지 박약들이나 하는거다 탈영은 일단 주인공 김대희 닮았고 이등병 찐따           0\n",
              "49997  9072549                 그림도 좋고 완성도도 높았지만    보는 내내 불안하게 만든다      0\n",
              "49998  5802125     절대 봐서는 안 될 영화   재미도 없고 기분만 잡치고   한 세트장에서 다 해먹네      0\n",
              "49999  6070594                                         마무리는 또 왜이래      0\n",
              "\n",
              "[49997 rows x 3 columns]"
            ]
          },
          "execution_count": 9,
          "metadata": {},
          "output_type": "execute_result"
        }
      ],
      "source": [
        "test_df"
      ]
    },
    {
      "cell_type": "code",
      "execution_count": 10,
      "metadata": {},
      "outputs": [],
      "source": [
        "# 영어를 지우고 나오는 공백 제거\n",
        "test_df['document'].replace('                    ', np.nan, inplace=True)"
      ]
    },
    {
      "cell_type": "code",
      "execution_count": 11,
      "metadata": {},
      "outputs": [
        {
          "data": {
            "text/html": [
              "<div>\n",
              "<style scoped>\n",
              "    .dataframe tbody tr th:only-of-type {\n",
              "        vertical-align: middle;\n",
              "    }\n",
              "\n",
              "    .dataframe tbody tr th {\n",
              "        vertical-align: top;\n",
              "    }\n",
              "\n",
              "    .dataframe thead th {\n",
              "        text-align: right;\n",
              "    }\n",
              "</style>\n",
              "<table border=\"1\" class=\"dataframe\">\n",
              "  <thead>\n",
              "    <tr style=\"text-align: right;\">\n",
              "      <th></th>\n",
              "      <th>id</th>\n",
              "      <th>document</th>\n",
              "      <th>label</th>\n",
              "    </tr>\n",
              "  </thead>\n",
              "  <tbody>\n",
              "    <tr>\n",
              "      <th>0</th>\n",
              "      <td>6270596</td>\n",
              "      <td>굳 ㅋ</td>\n",
              "      <td>1</td>\n",
              "    </tr>\n",
              "    <tr>\n",
              "      <th>1</th>\n",
              "      <td>9274899</td>\n",
              "      <td>NaN</td>\n",
              "      <td>0</td>\n",
              "    </tr>\n",
              "    <tr>\n",
              "      <th>2</th>\n",
              "      <td>8544678</td>\n",
              "      <td>뭐야 이 평점들은     나쁘진 않지만   점 짜리는 더더욱 아니잖아</td>\n",
              "      <td>0</td>\n",
              "    </tr>\n",
              "    <tr>\n",
              "      <th>3</th>\n",
              "      <td>6825595</td>\n",
              "      <td>지루하지는 않은데 완전 막장임    돈주고 보기에는</td>\n",
              "      <td>0</td>\n",
              "    </tr>\n",
              "    <tr>\n",
              "      <th>4</th>\n",
              "      <td>6723715</td>\n",
              "      <td>만 아니었어도 별 다섯 개 줬을텐데   왜   로 나와서 제 심기를 불편하게 하죠</td>\n",
              "      <td>0</td>\n",
              "    </tr>\n",
              "    <tr>\n",
              "      <th>...</th>\n",
              "      <td>...</td>\n",
              "      <td>...</td>\n",
              "      <td>...</td>\n",
              "    </tr>\n",
              "    <tr>\n",
              "      <th>49995</th>\n",
              "      <td>4608761</td>\n",
              "      <td>오랜만에 평점 로긴했네ㅋㅋ 킹왕짱 쌈뽕한 영화를 만났습니다 강렬하게 육쾌함</td>\n",
              "      <td>1</td>\n",
              "    </tr>\n",
              "    <tr>\n",
              "      <th>49996</th>\n",
              "      <td>5308387</td>\n",
              "      <td>의지 박약들이나 하는거다 탈영은 일단 주인공 김대희 닮았고 이등병 찐따</td>\n",
              "      <td>0</td>\n",
              "    </tr>\n",
              "    <tr>\n",
              "      <th>49997</th>\n",
              "      <td>9072549</td>\n",
              "      <td>그림도 좋고 완성도도 높았지만    보는 내내 불안하게 만든다</td>\n",
              "      <td>0</td>\n",
              "    </tr>\n",
              "    <tr>\n",
              "      <th>49998</th>\n",
              "      <td>5802125</td>\n",
              "      <td>절대 봐서는 안 될 영화   재미도 없고 기분만 잡치고   한 세트장에서 다 해먹네</td>\n",
              "      <td>0</td>\n",
              "    </tr>\n",
              "    <tr>\n",
              "      <th>49999</th>\n",
              "      <td>6070594</td>\n",
              "      <td>마무리는 또 왜이래</td>\n",
              "      <td>0</td>\n",
              "    </tr>\n",
              "  </tbody>\n",
              "</table>\n",
              "<p>49997 rows × 3 columns</p>\n",
              "</div>"
            ],
            "text/plain": [
              "            id                                           document  label\n",
              "0      6270596                                                굳 ㅋ      1\n",
              "1      9274899                                                NaN      0\n",
              "2      8544678             뭐야 이 평점들은     나쁘진 않지만   점 짜리는 더더욱 아니잖아      0\n",
              "3      6825595                   지루하지는 않은데 완전 막장임    돈주고 보기에는          0\n",
              "4      6723715    만 아니었어도 별 다섯 개 줬을텐데   왜   로 나와서 제 심기를 불편하게 하죠        0\n",
              "...        ...                                                ...    ...\n",
              "49995  4608761          오랜만에 평점 로긴했네ㅋㅋ 킹왕짱 쌈뽕한 영화를 만났습니다 강렬하게 육쾌함      1\n",
              "49996  5308387       의지 박약들이나 하는거다 탈영은 일단 주인공 김대희 닮았고 이등병 찐따           0\n",
              "49997  9072549                 그림도 좋고 완성도도 높았지만    보는 내내 불안하게 만든다      0\n",
              "49998  5802125     절대 봐서는 안 될 영화   재미도 없고 기분만 잡치고   한 세트장에서 다 해먹네      0\n",
              "49999  6070594                                         마무리는 또 왜이래      0\n",
              "\n",
              "[49997 rows x 3 columns]"
            ]
          },
          "execution_count": 11,
          "metadata": {},
          "output_type": "execute_result"
        }
      ],
      "source": [
        "test_df"
      ]
    },
    {
      "cell_type": "code",
      "execution_count": 12,
      "metadata": {},
      "outputs": [
        {
          "data": {
            "text/plain": [
              "id          34365544\n",
              "document           0\n",
              "label              3\n",
              "dtype: object"
            ]
          },
          "execution_count": 12,
          "metadata": {},
          "output_type": "execute_result"
        }
      ],
      "source": [
        "# 3개의 nan값이 있음\n",
        "test_df.loc[test_df.document.isnull()].sum()"
      ]
    },
    {
      "cell_type": "code",
      "execution_count": 13,
      "metadata": {},
      "outputs": [
        {
          "name": "stdout",
          "output_type": "stream",
          "text": [
            "49993\n"
          ]
        }
      ],
      "source": [
        "# nan값 제거\n",
        "test_df = test_df.dropna(how = 'any')\n",
        "print(len(test_df))"
      ]
    },
    {
      "cell_type": "code",
      "execution_count": 16,
      "metadata": {
        "id": "0cw4_9zdli0T"
      },
      "outputs": [],
      "source": [
        "# 7:3으로 데이터 분리\n",
        "X_train, y_train = test_df['document'][:34995], test_df['label'][:34995]\n",
        "X_test, y_test = test_df['document'][34995:] , test_df['label'][34995:]"
      ]
    },
    {
      "cell_type": "code",
      "execution_count": 17,
      "metadata": {},
      "outputs": [
        {
          "data": {
            "text/plain": [
              "((34995,), (14998,))"
            ]
          },
          "execution_count": 17,
          "metadata": {},
          "output_type": "execute_result"
        }
      ],
      "source": [
        "X_train.shape , X_test.shape"
      ]
    },
    {
      "cell_type": "markdown",
      "metadata": {
        "id": "CsJZakc2dGqo"
      },
      "source": [
        "Part 3. 텍스트 데이터를 EDA하세요\n",
        "\n",
        "1. 통계적으로 텍스트를 확인해 보세요\n",
        "2. 시각화 해보세요\n",
        "3. 불용어(stop words)를 찾아보세요\n",
        "4. 기타 여러 방법으로 EDA를 해보세요"
      ]
    },
    {
      "cell_type": "code",
      "execution_count": 18,
      "metadata": {
        "colab": {
          "base_uri": "https://localhost:8080/",
          "height": 206
        },
        "id": "ZuQycVG2dNKW",
        "outputId": "785c5138-7d39-421a-de6f-38fcbaaf5150"
      },
      "outputs": [
        {
          "data": {
            "text/html": [
              "<div>\n",
              "<style scoped>\n",
              "    .dataframe tbody tr th:only-of-type {\n",
              "        vertical-align: middle;\n",
              "    }\n",
              "\n",
              "    .dataframe tbody tr th {\n",
              "        vertical-align: top;\n",
              "    }\n",
              "\n",
              "    .dataframe thead th {\n",
              "        text-align: right;\n",
              "    }\n",
              "</style>\n",
              "<table border=\"1\" class=\"dataframe\">\n",
              "  <thead>\n",
              "    <tr style=\"text-align: right;\">\n",
              "      <th></th>\n",
              "      <th>id</th>\n",
              "      <th>document</th>\n",
              "      <th>label</th>\n",
              "    </tr>\n",
              "  </thead>\n",
              "  <tbody>\n",
              "    <tr>\n",
              "      <th>0</th>\n",
              "      <td>6270596</td>\n",
              "      <td>굳 ㅋ</td>\n",
              "      <td>1</td>\n",
              "    </tr>\n",
              "    <tr>\n",
              "      <th>2</th>\n",
              "      <td>8544678</td>\n",
              "      <td>뭐야 이 평점들은     나쁘진 않지만   점 짜리는 더더욱 아니잖아</td>\n",
              "      <td>0</td>\n",
              "    </tr>\n",
              "    <tr>\n",
              "      <th>3</th>\n",
              "      <td>6825595</td>\n",
              "      <td>지루하지는 않은데 완전 막장임    돈주고 보기에는</td>\n",
              "      <td>0</td>\n",
              "    </tr>\n",
              "    <tr>\n",
              "      <th>4</th>\n",
              "      <td>6723715</td>\n",
              "      <td>만 아니었어도 별 다섯 개 줬을텐데   왜   로 나와서 제 심기를 불편하게 하죠</td>\n",
              "      <td>0</td>\n",
              "    </tr>\n",
              "    <tr>\n",
              "      <th>5</th>\n",
              "      <td>7898805</td>\n",
              "      <td>음악이 주가 된  최고의 음악영화</td>\n",
              "      <td>1</td>\n",
              "    </tr>\n",
              "  </tbody>\n",
              "</table>\n",
              "</div>"
            ],
            "text/plain": [
              "        id                                           document  label\n",
              "0  6270596                                                굳 ㅋ      1\n",
              "2  8544678             뭐야 이 평점들은     나쁘진 않지만   점 짜리는 더더욱 아니잖아      0\n",
              "3  6825595                   지루하지는 않은데 완전 막장임    돈주고 보기에는          0\n",
              "4  6723715    만 아니었어도 별 다섯 개 줬을텐데   왜   로 나와서 제 심기를 불편하게 하죠        0\n",
              "5  7898805                                 음악이 주가 된  최고의 음악영화      1"
            ]
          },
          "execution_count": 18,
          "metadata": {},
          "output_type": "execute_result"
        }
      ],
      "source": [
        "test_df.head()"
      ]
    },
    {
      "cell_type": "code",
      "execution_count": 20,
      "metadata": {
        "id": "uT_t0ed1ft_v"
      },
      "outputs": [],
      "source": [
        "# 불용어 정의\n",
        "stopwords = ['의', '가', '이', '은', '들', '는', '좀', '을', '를', '는', '으로', '에', '와', '과','이', '것', '그','잘','좀','것','점','내','한','하다']"
      ]
    },
    {
      "cell_type": "code",
      "execution_count": 21,
      "metadata": {
        "id": "xZ9bjy2ldOaf"
      },
      "outputs": [],
      "source": [
        "# 토크나이저에 불용어 적용\n",
        "\n",
        "okt = Okt()\n",
        "\n",
        "tokenized_words , sentence_nouns = [] , []\n",
        "\n",
        "for sentence in test_df['document'] :\n",
        "    # 형태소 분석 토큰화\n",
        "    tokenized_word = okt.morphs(sentence, stem=True) # 토큰화 및 정규화\n",
        "    stopwords_removed_sentence = [word for word in tokenized_word if not word in stopwords]\n",
        "    tokenized_words.append(stopwords_removed_sentence)\n",
        "\n",
        "    # 명사만 추출\n",
        "    nouns = okt.nouns(sentence)\n",
        "    sentence_nouns.append(nouns)"
      ]
    },
    {
      "cell_type": "code",
      "execution_count": 22,
      "metadata": {
        "colab": {
          "base_uri": "https://localhost:8080/"
        },
        "id": "KK4MrhANdQTf",
        "outputId": "40cdad23-9195-47ff-8d3e-f909ebf9303c"
      },
      "outputs": [
        {
          "name": "stdout",
          "output_type": "stream",
          "text": [
            "가장 긴 단어 길이 : 63 || 가장 짧은 단어 길이 : 0\n",
            "가장 긴 명사 길이 : 39 || 가장 짧은 명사 길이 : 0\n"
          ]
        }
      ],
      "source": [
        "# 리뷰의 최대 길이\n",
        "word_len = [len(l) for l in tokenized_words]\n",
        "nouns_len = [len(l) for l in sentence_nouns]\n",
        "\n",
        "print(f\"가장 긴 단어 길이 : {max(word_len)} || 가장 짧은 단어 길이 : {min(word_len)}\")\n",
        "print(f\"가장 긴 명사 길이 : {max(nouns_len)} || 가장 짧은 명사 길이 : {min(nouns_len)}\")\n"
      ]
    },
    {
      "cell_type": "code",
      "execution_count": 23,
      "metadata": {},
      "outputs": [
        {
          "name": "stdout",
          "output_type": "stream",
          "text": [
            "{'Adjective': 0, 'Adverb': 0, 'Alpha': 0, 'Conjunction': 0, 'Determiner': 0, 'Eomi': 0, 'Exclamation': 0, 'Foreign': 0, 'Hashtag': 0, 'Josa': 0, 'KoreanParticle': 0, 'Noun': 0, 'Number': 0, 'PreEomi': 0, 'Punctuation': 0, 'ScreenName': 0, 'Suffix': 0, 'Unknown': 0, 'Verb': 0}\n",
            "{'Adjective': 63484, 'Adverb': 14923, 'Alpha': 0, 'Conjunction': 1342, 'Determiner': 5899, 'Eomi': 173, 'Exclamation': 2075, 'Foreign': 0, 'Hashtag': 0, 'Josa': 122113, 'KoreanParticle': 8992, 'Noun': 302912, 'Number': 0, 'PreEomi': 10, 'Punctuation': 0, 'ScreenName': 0, 'Suffix': 15575, 'Unknown': 0, 'Verb': 89369, 'Modifier': 11136, 'VerbPrefix': 3671}\n"
          ]
        }
      ],
      "source": [
        "# 데이터에서 추출된 품사 보기\n",
        "pos_dict = {}\n",
        "for tag in okt.tagset.keys():\n",
        "    pos_dict[tag] = 0\n",
        "\n",
        "print(pos_dict)\n",
        "\n",
        "for doc in test_df['document']:\n",
        "    doc_pos = okt.pos(str(doc))\n",
        "    for uni_pos in doc_pos:\n",
        "        if uni_pos[1] in pos_dict.keys():\n",
        "            pos_dict[uni_pos[1]] = pos_dict[uni_pos[1]] + 1\n",
        "        else:\n",
        "            pos_dict[uni_pos[1]] = 1\n",
        "\n",
        "print(pos_dict)"
      ]
    },
    {
      "cell_type": "code",
      "execution_count": 24,
      "metadata": {},
      "outputs": [
        {
          "data": {
            "text/plain": [
              "<Axes: >"
            ]
          },
          "execution_count": 24,
          "metadata": {},
          "output_type": "execute_result"
        },
        {
          "data": {
            "image/png": "[encoded data removed]",
            "text/plain": [
              "<Figure size 640x480 with 1 Axes>"
            ]
          },
          "metadata": {},
          "output_type": "display_data"
        }
      ],
      "source": [
        "# 품사 빈도 시각화\n",
        "# 명사가 가장 많은 빈도를 차지함\n",
        "pd.DataFrame(pos_dict.values(), index=pos_dict.keys(), columns=['counting']).plot.bar()"
      ]
    },
    {
      "cell_type": "code",
      "execution_count": 25,
      "metadata": {},
      "outputs": [
        {
          "name": "stdout",
          "output_type": "stream",
          "text": [
            "Defaulting to user installation because normal site-packages is not writeable\n",
            "Requirement already satisfied: wordcloud in c:\\users\\leah5\\appdata\\roaming\\python\\python310\\site-packages (1.9.2)\n",
            "Requirement already satisfied: koreanize_matplotlib in c:\\users\\leah5\\appdata\\roaming\\python\\python310\\site-packages (0.1.1)\n",
            "Requirement already satisfied: matplotlib in c:\\programdata\\anaconda3\\lib\\site-packages (from wordcloud) (3.7.0)\n",
            "Requirement already satisfied: pillow in c:\\programdata\\anaconda3\\lib\\site-packages (from wordcloud) (9.4.0)\n",
            "Requirement already satisfied: numpy>=1.6.1 in c:\\programdata\\anaconda3\\lib\\site-packages (from wordcloud) (1.23.5)\n",
            "Requirement already satisfied: fonttools>=4.22.0 in c:\\programdata\\anaconda3\\lib\\site-packages (from matplotlib->wordcloud) (4.25.0)\n",
            "Requirement already satisfied: kiwisolver>=1.0.1 in c:\\programdata\\anaconda3\\lib\\site-packages (from matplotlib->wordcloud) (1.4.4)\n",
            "Requirement already satisfied: packaging>=20.0 in c:\\programdata\\anaconda3\\lib\\site-packages (from matplotlib->wordcloud) (22.0)\n",
            "Requirement already satisfied: cycler>=0.10 in c:\\programdata\\anaconda3\\lib\\site-packages (from matplotlib->wordcloud) (0.11.0)\n",
            "Requirement already satisfied: contourpy>=1.0.1 in c:\\programdata\\anaconda3\\lib\\site-packages (from matplotlib->wordcloud) (1.0.5)\n",
            "Requirement already satisfied: pyparsing>=2.3.1 in c:\\programdata\\anaconda3\\lib\\site-packages (from matplotlib->wordcloud) (3.0.9)\n",
            "Requirement already satisfied: python-dateutil>=2.7 in c:\\programdata\\anaconda3\\lib\\site-packages (from matplotlib->wordcloud) (2.8.2)\n",
            "Requirement already satisfied: six>=1.5 in c:\\programdata\\anaconda3\\lib\\site-packages (from python-dateutil>=2.7->matplotlib->wordcloud) (1.16.0)\n"
          ]
        }
      ],
      "source": [
        "!pip install wordcloud koreanize_matplotlib"
      ]
    },
    {
      "cell_type": "code",
      "execution_count": 26,
      "metadata": {},
      "outputs": [
        {
          "data": {
            "image/png": "[encoded data removed]",
            "text/plain": [
              "<Figure size 640x480 with 1 Axes>"
            ]
          },
          "metadata": {},
          "output_type": "display_data"
        }
      ],
      "source": [
        "# 가장 많이 쓰인 명사 시각화\n",
        "from nltk import Text\n",
        "import matplotlib.pyplot as plt\n",
        "import koreanize_matplotlib\n",
        "\n",
        "all_reviews = ' '.join(test_df['document'][:1000].astype('str'))\n",
        "\n",
        "review_nouns = Text(okt.nouns(all_reviews), name = \"naver movie review\")\n",
        "review_nouns.plot(30)\n",
        "plt.show()"
      ]
    },
    {
      "cell_type": "code",
      "execution_count": 27,
      "metadata": {},
      "outputs": [
        {
          "data": {
            "image/png": "[encoded data removed]",
            "text/plain": [
              "<Figure size 640x480 with 1 Axes>"
            ]
          },
          "metadata": {},
          "output_type": "display_data"
        }
      ],
      "source": [
        "from wordcloud import WordCloud\n",
        "import matplotlib.pyplot as plt\n",
        "\n",
        "font_path = 'C:\\\\Windows\\\\Fonts\\\\H2SA1M.TTF'\n",
        "\n",
        "wc = WordCloud(width=1000, height=600, background_color=\"white\", font_path=font_path)\n",
        "plt.imshow(wc.generate_from_frequencies(review_nouns.vocab()))\n",
        "plt.axis(\"off\")\n",
        "plt.show()"
      ]
    },
    {
      "cell_type": "markdown",
      "metadata": {
        "id": "MJ5f5mYFf_-f"
      },
      "source": [
        "Part 4. 텍스트 데이터를 임베딩 하세요\n",
        "\n",
        "1. 텍스트 토크나이즈를 해보세요\n",
        "2. 텍스트를 벡터화 하세요"
      ]
    },
    {
      "cell_type": "code",
      "execution_count": 28,
      "metadata": {
        "id": "Tf7KQDucgtIC"
      },
      "outputs": [],
      "source": [
        "class UserTokenizers :\n",
        "    def __init__(self) -> None:\n",
        "        self.okt = Twitter()\n",
        "        self.kkma = Kkma()\n",
        "        self.bpe_tokenizer_pretrained = Tokenizer.from_file('./tokenizer_data/bpe_tokenizer.json')\n",
        "\n",
        "    @staticmethod\n",
        "    def whitespaceToken(data : str) -> list :\n",
        "        token_rs = data.split(' ')\n",
        "        return token_rs\n",
        "\n",
        "    @staticmethod\n",
        "    def regexsplitToken(data : str , pat : str = '[\\,\\.!?\\n]') -> list :\n",
        "        re_rs = re.split(pat, data , maxsplit= 0)\n",
        "        token_rs = [rs_unit.strip() for rs_unit in re_rs if len(rs_unit.strip()) > 1]\n",
        "        return token_rs\n",
        "\n",
        "    @staticmethod\n",
        "    def regexselectToken(data : str , pat : str = '[\\w]+') -> list :\n",
        "        token_rs = RegexpTokenizer(pat).tokenize(data)\n",
        "        return token_rs\n",
        "\n",
        "    def BPETokenizer(self, data : str ) -> list :\n",
        "        token_rs = self.bpe_tokenizer_pretrained.encode(data).tokens\n",
        "        return token_rs\n",
        "\n",
        "    #한글과 영어를 같이 사용\n",
        "    def tokenizingKorEng(self, data :str ) -> list :\n",
        "        kor_re = re.findall('[ㄱ-ㅎ|ㅏ-ㅣ|가-힣]+', data)\n",
        "        kor_str = ' '.join(kor_re)\n",
        "\n",
        "        eng_re = re.findall('[a-zA-Z]+', data)\n",
        "        eng_str = ' '.join(eng_re)\n",
        "\n",
        "        kor_rs = self.okt.morphs(kor_str)\n",
        "        eng_rs = word_tokenize(eng_str)\n",
        "\n",
        "        token_rs = kor_rs + eng_rs\n",
        "\n",
        "        return token_rs\n",
        "\n",
        "    def konlpyNounsTokenizer(self, data:str) -> list :\n",
        "        token_rs = self.kkma.nouns(data)\n",
        "        return token_rs\n"
      ]
    },
    {
      "cell_type": "code",
      "execution_count": 29,
      "metadata": {
        "colab": {
          "base_uri": "https://localhost:8080/",
          "height": 309
        },
        "id": "DRyjouWWmeF3",
        "outputId": "c222a5cc-c828-49ab-aaf3-618ac1c0d90d"
      },
      "outputs": [
        {
          "name": "stderr",
          "output_type": "stream",
          "text": [
            "c:\\ProgramData\\anaconda3\\lib\\site-packages\\konlpy\\tag\\_okt.py:17: UserWarning: \"Twitter\" has changed to \"Okt\" since KoNLPy v0.4.5.\n",
            "  warn('\"Twitter\" has changed to \"Okt\" since KoNLPy v0.4.5.')\n"
          ]
        }
      ],
      "source": [
        "ut_cls = UserTokenizers()"
      ]
    },
    {
      "cell_type": "code",
      "execution_count": 30,
      "metadata": {
        "id": "0Kj4jg2MoPTf"
      },
      "outputs": [
        {
          "data": {
            "text/plain": [
              "'마치 미국애니에서 튀어나온듯한 창의력없는 로봇디자인부터가 고개를 젖게한다'"
            ]
          },
          "execution_count": 30,
          "metadata": {},
          "output_type": "execute_result"
        }
      ],
      "source": [
        "# 사용자 토크나이저 적용 확인\n",
        "X_train[7]"
      ]
    },
    {
      "cell_type": "code",
      "execution_count": 31,
      "metadata": {
        "id": "19F0MKCcoUAw"
      },
      "outputs": [
        {
          "data": {
            "text/plain": [
              "['마치',\n",
              " '미국',\n",
              " '애니',\n",
              " '에서',\n",
              " '튀어',\n",
              " '나',\n",
              " '온',\n",
              " '듯',\n",
              " '한',\n",
              " '창의력',\n",
              " '없는',\n",
              " '로봇',\n",
              " '디자인',\n",
              " '부터가',\n",
              " '고개',\n",
              " '를',\n",
              " '젖게',\n",
              " '한다']"
            ]
          },
          "execution_count": 31,
          "metadata": {},
          "output_type": "execute_result"
        }
      ],
      "source": [
        "ut_cls.tokenizingKorEng(X_train[7])"
      ]
    },
    {
      "cell_type": "code",
      "execution_count": 32,
      "metadata": {
        "id": "5HPQmd8soWPi"
      },
      "outputs": [
        {
          "data": {
            "text/plain": [
              "['미국', '미국애', '애', '창의력', '로봇', '로봇디자인', '디자인', '고개']"
            ]
          },
          "execution_count": 32,
          "metadata": {},
          "output_type": "execute_result"
        }
      ],
      "source": [
        "ut_cls.konlpyNounsTokenizer(X_train[7])"
      ]
    },
    {
      "cell_type": "code",
      "execution_count": 33,
      "metadata": {
        "id": "J7ToByNtoWwo"
      },
      "outputs": [
        {
          "data": {
            "text/plain": [
              "['마치</w>',\n",
              " '미국',\n",
              " '애니',\n",
              " '에서</w>',\n",
              " '튀',\n",
              " '어',\n",
              " '나온',\n",
              " '듯한</w>',\n",
              " '창의',\n",
              " '력',\n",
              " '없는</w>',\n",
              " '로봇',\n",
              " '디자',\n",
              " '인',\n",
              " '부터가</w>',\n",
              " '고',\n",
              " '개를</w>',\n",
              " '게',\n",
              " '한다</w>']"
            ]
          },
          "execution_count": 33,
          "metadata": {},
          "output_type": "execute_result"
        }
      ],
      "source": [
        "ut_cls.BPETokenizer(X_train[7])"
      ]
    },
    {
      "cell_type": "code",
      "execution_count": 34,
      "metadata": {},
      "outputs": [
        {
          "name": "stdout",
          "output_type": "stream",
          "text": [
            "['의', '가', '이', '은', '들', '는', '좀', '을', '를', '는', '으로', '에', '와', '과', '이', '것', '그', '잘', '좀', '것', '점', '내', '한', '하다']\n"
          ]
        }
      ],
      "source": [
        "# 불용어 사전 불러오기\n",
        "print(stopwords)"
      ]
    },
    {
      "cell_type": "code",
      "execution_count": 35,
      "metadata": {
        "id": "7ApVgw_goYbj"
      },
      "outputs": [],
      "source": [
        "# 벡터화 하기\n",
        "tfidf_vect = TfidfVectorizer(tokenizer=ut_cls.BPETokenizer , stop_words=stopwords)"
      ]
    },
    {
      "cell_type": "code",
      "execution_count": 36,
      "metadata": {
        "id": "ipcYg0zcodSL"
      },
      "outputs": [
        {
          "name": "stderr",
          "output_type": "stream",
          "text": [
            "c:\\ProgramData\\anaconda3\\lib\\site-packages\\sklearn\\feature_extraction\\text.py:528: UserWarning: The parameter 'token_pattern' will not be used since 'tokenizer' is not None'\n",
            "  warnings.warn(\n",
            "c:\\ProgramData\\anaconda3\\lib\\site-packages\\sklearn\\feature_extraction\\text.py:409: UserWarning: Your stop_words may be inconsistent with your preprocessing. Tokenizing the stop words generated tokens ['가</w>', '것</w>', '과</w>', '그</w>', '내</w>', '는</w>', '들</w>', '를</w>', '에</w>', '와</w>', '으로</w>', '은</w>', '을</w>', '의</w>', '이</w>', '잘</w>', '점</w>', '좀</w>', '하다</w>', '한</w>'] not in stop_words.\n",
            "  warnings.warn(\n"
          ]
        },
        {
          "data": {
            "text/html": [
              "<style>#sk-container-id-1 {color: black;background-color: white;}#sk-container-id-1 pre{padding: 0;}#sk-container-id-1 div.sk-toggleable {background-color: white;}#sk-container-id-1 label.sk-toggleable__label {cursor: pointer;display: block;width: 100%;margin-bottom: 0;padding: 0.3em;box-sizing: border-box;text-align: center;}#sk-container-id-1 label.sk-toggleable__label-arrow:before {content: \"▸\";float: left;margin-right: 0.25em;color: #696969;}#sk-container-id-1 label.sk-toggleable__label-arrow:hover:before {color: black;}#sk-container-id-1 div.sk-estimator:hover label.sk-toggleable__label-arrow:before {color: black;}#sk-container-id-1 div.sk-toggleable__content {max-height: 0;max-width: 0;overflow: hidden;text-align: left;background-color: #f0f8ff;}#sk-container-id-1 div.sk-toggleable__content pre {margin: 0.2em;color: black;border-radius: 0.25em;background-color: #f0f8ff;}#sk-container-id-1 input.sk-toggleable__control:checked~div.sk-toggleable__content {max-height: 200px;max-width: 100%;overflow: auto;}#sk-container-id-1 input.sk-toggleable__control:checked~label.sk-toggleable__label-arrow:before {content: \"▾\";}#sk-container-id-1 div.sk-estimator input.sk-toggleable__control:checked~label.sk-toggleable__label {background-color: #d4ebff;}#sk-container-id-1 div.sk-label input.sk-toggleable__control:checked~label.sk-toggleable__label {background-color: #d4ebff;}#sk-container-id-1 input.sk-hidden--visually {border: 0;clip: rect(1px 1px 1px 1px);clip: rect(1px, 1px, 1px, 1px);height: 1px;margin: -1px;overflow: hidden;padding: 0;position: absolute;width: 1px;}#sk-container-id-1 div.sk-estimator {font-family: monospace;background-color: #f0f8ff;border: 1px dotted black;border-radius: 0.25em;box-sizing: border-box;margin-bottom: 0.5em;}#sk-container-id-1 div.sk-estimator:hover {background-color: #d4ebff;}#sk-container-id-1 div.sk-parallel-item::after {content: \"\";width: 100%;border-bottom: 1px solid gray;flex-grow: 1;}#sk-container-id-1 div.sk-label:hover label.sk-toggleable__label {background-color: #d4ebff;}#sk-container-id-1 div.sk-serial::before {content: \"\";position: absolute;border-left: 1px solid gray;box-sizing: border-box;top: 0;bottom: 0;left: 50%;z-index: 0;}#sk-container-id-1 div.sk-serial {display: flex;flex-direction: column;align-items: center;background-color: white;padding-right: 0.2em;padding-left: 0.2em;position: relative;}#sk-container-id-1 div.sk-item {position: relative;z-index: 1;}#sk-container-id-1 div.sk-parallel {display: flex;align-items: stretch;justify-content: center;background-color: white;position: relative;}#sk-container-id-1 div.sk-item::before, #sk-container-id-1 div.sk-parallel-item::before {content: \"\";position: absolute;border-left: 1px solid gray;box-sizing: border-box;top: 0;bottom: 0;left: 50%;z-index: -1;}#sk-container-id-1 div.sk-parallel-item {display: flex;flex-direction: column;z-index: 1;position: relative;background-color: white;}#sk-container-id-1 div.sk-parallel-item:first-child::after {align-self: flex-end;width: 50%;}#sk-container-id-1 div.sk-parallel-item:last-child::after {align-self: flex-start;width: 50%;}#sk-container-id-1 div.sk-parallel-item:only-child::after {width: 0;}#sk-container-id-1 div.sk-dashed-wrapped {border: 1px dashed gray;margin: 0 0.4em 0.5em 0.4em;box-sizing: border-box;padding-bottom: 0.4em;background-color: white;}#sk-container-id-1 div.sk-label label {font-family: monospace;font-weight: bold;display: inline-block;line-height: 1.2em;}#sk-container-id-1 div.sk-label-container {text-align: center;}#sk-container-id-1 div.sk-container {/* jupyter's `normalize.less` sets `[hidden] { display: none; }` but bootstrap.min.css set `[hidden] { display: none !important; }` so we also need the `!important` here to be able to override the default hidden behavior on the sphinx rendered scikit-learn.org. See: https://github.com/scikit-learn/scikit-learn/issues/21755 */display: inline-block !important;position: relative;}#sk-container-id-1 div.sk-text-repr-fallback {display: none;}</style><div id=\"sk-container-id-1\" class=\"sk-top-container\"><div class=\"sk-text-repr-fallback\"><pre>TfidfVectorizer(stop_words=[&#x27;의&#x27;, &#x27;가&#x27;, &#x27;이&#x27;, &#x27;은&#x27;, &#x27;들&#x27;, &#x27;는&#x27;, &#x27;좀&#x27;, &#x27;을&#x27;, &#x27;를&#x27;, &#x27;는&#x27;,\n",
              "                            &#x27;으로&#x27;, &#x27;에&#x27;, &#x27;와&#x27;, &#x27;과&#x27;, &#x27;이&#x27;, &#x27;것&#x27;, &#x27;그&#x27;, &#x27;잘&#x27;, &#x27;좀&#x27;, &#x27;것&#x27;,\n",
              "                            &#x27;점&#x27;, &#x27;내&#x27;, &#x27;한&#x27;, &#x27;하다&#x27;],\n",
              "                tokenizer=&lt;bound method UserTokenizers.BPETokenizer of &lt;__main__.UserTokenizers object at 0x0000026C04248B20&gt;&gt;)</pre><b>In a Jupyter environment, please rerun this cell to show the HTML representation or trust the notebook. <br />On GitHub, the HTML representation is unable to render, please try loading this page with nbviewer.org.</b></div><div class=\"sk-container\" hidden><div class=\"sk-item\"><div class=\"sk-estimator sk-toggleable\"><input class=\"sk-toggleable__control sk-hidden--visually\" id=\"sk-estimator-id-1\" type=\"checkbox\" checked><label for=\"sk-estimator-id-1\" class=\"sk-toggleable__label sk-toggleable__label-arrow\">TfidfVectorizer</label><div class=\"sk-toggleable__content\"><pre>TfidfVectorizer(stop_words=[&#x27;의&#x27;, &#x27;가&#x27;, &#x27;이&#x27;, &#x27;은&#x27;, &#x27;들&#x27;, &#x27;는&#x27;, &#x27;좀&#x27;, &#x27;을&#x27;, &#x27;를&#x27;, &#x27;는&#x27;,\n",
              "                            &#x27;으로&#x27;, &#x27;에&#x27;, &#x27;와&#x27;, &#x27;과&#x27;, &#x27;이&#x27;, &#x27;것&#x27;, &#x27;그&#x27;, &#x27;잘&#x27;, &#x27;좀&#x27;, &#x27;것&#x27;,\n",
              "                            &#x27;점&#x27;, &#x27;내&#x27;, &#x27;한&#x27;, &#x27;하다&#x27;],\n",
              "                tokenizer=&lt;bound method UserTokenizers.BPETokenizer of &lt;__main__.UserTokenizers object at 0x0000026C04248B20&gt;&gt;)</pre></div></div></div></div></div>"
            ],
            "text/plain": [
              "TfidfVectorizer(stop_words=['의', '가', '이', '은', '들', '는', '좀', '을', '를', '는',\n",
              "                            '으로', '에', '와', '과', '이', '것', '그', '잘', '좀', '것',\n",
              "                            '점', '내', '한', '하다'],\n",
              "                tokenizer=<bound method UserTokenizers.BPETokenizer of <__main__.UserTokenizers object at 0x0000026C04248B20>>)"
            ]
          },
          "execution_count": 36,
          "metadata": {},
          "output_type": "execute_result"
        }
      ],
      "source": [
        "tfidf_vect.fit(X_train)"
      ]
    },
    {
      "cell_type": "code",
      "execution_count": 37,
      "metadata": {
        "id": "KFejTgHVoeom"
      },
      "outputs": [
        {
          "data": {
            "text/plain": [
              "array(['ㄱ', 'ㄱ</w>', 'ㄱㄱ</w>', ..., '힘들었다</w>', '힘을</w>', '힘이</w>'],\n",
              "      dtype=object)"
            ]
          },
          "execution_count": 37,
          "metadata": {},
          "output_type": "execute_result"
        }
      ],
      "source": [
        "tfidf_vect.get_feature_names_out()"
      ]
    },
    {
      "cell_type": "code",
      "execution_count": 38,
      "metadata": {
        "id": "trBrTe1DoiwR"
      },
      "outputs": [],
      "source": [
        "class TransformVect :\n",
        "    def __init__(self, vec_model) -> None:\n",
        "        # 서비스로 개발을 한다면, 저장된 vec_model을 로딩하는 부분으로 변경\n",
        "        self.vec_model = vec_model\n",
        "\n",
        "    def transVect_run(self, chunk_size : int = 500 , data : pd.DataFrame = None ) -> np.array :\n",
        "\n",
        "        data_len = len(data)\n",
        "\n",
        "        for st_idx in tqdm(range(0, data_len, chunk_size)):\n",
        "            tmp_data = data[st_idx:st_idx+chunk_size]\n",
        "\n",
        "            if st_idx == 0:\n",
        "                vec_arr = self.vec_model.transform(tmp_data).toarray()\n",
        "                # print(f\"num1 : {vec_arr.shape} || dim : {vec_arr.ndim}\")\n",
        "\n",
        "            else :\n",
        "                tmp_data_arr = self.vec_model.transform(tmp_data).toarray()\n",
        "                # print(f\"num2 : {tmp_data_arr.shape} || dim : {tmp_data_arr.ndim}\")\n",
        "\n",
        "                vec_arr = np.concatenate([vec_arr, tmp_data_arr], 0)\n",
        "                # print(f\"num2 more : tmp_data_arr : {tmp_data_arr.shape} || vec_arr : {vec_arr.shape}\")\n",
        "\n",
        "        return vec_arr\n"
      ]
    },
    {
      "cell_type": "code",
      "execution_count": 39,
      "metadata": {
        "id": "xDupeWH0ojhP"
      },
      "outputs": [],
      "source": [
        "tfv_cls = TransformVect(tfidf_vect)"
      ]
    },
    {
      "cell_type": "code",
      "execution_count": 40,
      "metadata": {
        "id": "IYGbINXeokY7"
      },
      "outputs": [
        {
          "data": {
            "text/plain": [
              "(17666, 34995, 7502, 14998)"
            ]
          },
          "execution_count": 40,
          "metadata": {},
          "output_type": "execute_result"
        }
      ],
      "source": [
        "y_train.sum() , y_train.count() , y_test.sum() , y_test.count()"
      ]
    },
    {
      "cell_type": "code",
      "execution_count": 41,
      "metadata": {
        "id": "aBjll3Bfol46"
      },
      "outputs": [
        {
          "name": "stderr",
          "output_type": "stream",
          "text": [
            "100%|██████████| 350/350 [01:46<00:00,  3.29it/s]\n"
          ]
        }
      ],
      "source": [
        "x_train = tfv_cls.transVect_run(chunk_size=100, data=X_train)"
      ]
    },
    {
      "cell_type": "code",
      "execution_count": 42,
      "metadata": {
        "id": "AzF50W1_oopd"
      },
      "outputs": [
        {
          "name": "stderr",
          "output_type": "stream",
          "text": [
            "100%|██████████| 150/150 [00:20<00:00,  7.48it/s]\n"
          ]
        }
      ],
      "source": [
        "x_test = tfv_cls.transVect_run(chunk_size=100, data=X_test)"
      ]
    },
    {
      "cell_type": "code",
      "execution_count": 43,
      "metadata": {
        "id": "38CAZYHLoqSB"
      },
      "outputs": [
        {
          "data": {
            "text/plain": [
              "((34995, 9433), (14998, 9433))"
            ]
          },
          "execution_count": 43,
          "metadata": {},
          "output_type": "execute_result"
        }
      ],
      "source": [
        "x_train.shape , x_test.shape"
      ]
    },
    {
      "cell_type": "markdown",
      "metadata": {
        "id": "y66rfMJwhse0"
      },
      "source": [
        "Part 5. 분류 모델을 훈련하고 적용해 보세요"
      ]
    },
    {
      "cell_type": "code",
      "execution_count": 44,
      "metadata": {
        "id": "yz1Mi9pmhswq"
      },
      "outputs": [],
      "source": [
        "# 고정된 모델 결과\n",
        "random_seed_num = 42"
      ]
    },
    {
      "cell_type": "code",
      "execution_count": 45,
      "metadata": {
        "id": "6Cy4zG7jhte7"
      },
      "outputs": [],
      "source": [
        "# 의사결정나무\n",
        "clf_decision = DecisionTreeClassifier(random_state=random_seed_num, max_depth=5)\n",
        "clf_decision.fit(x_train, y_train)\n",
        "\n",
        "y_train_pred = clf_decision.predict(x_train)\n",
        "y_test_pred = clf_decision.predict(x_test)"
      ]
    },
    {
      "cell_type": "code",
      "execution_count": 40,
      "metadata": {
        "id": "lM30bU5MoxZq"
      },
      "outputs": [
        {
          "name": "stdout",
          "output_type": "stream",
          "text": [
            "              precision    recall  f1-score   support\n",
            "\n",
            "           0       0.53      0.96      0.69     17330\n",
            "           1       0.81      0.19      0.30     17670\n",
            "\n",
            "    accuracy                           0.57     35000\n",
            "   macro avg       0.67      0.57      0.49     35000\n",
            "weighted avg       0.67      0.57      0.49     35000\n",
            "\n",
            "              precision    recall  f1-score   support\n",
            "\n",
            "           0       0.54      0.95      0.69      7496\n",
            "           1       0.80      0.18      0.29      7501\n",
            "\n",
            "    accuracy                           0.57     14997\n",
            "   macro avg       0.67      0.57      0.49     14997\n",
            "weighted avg       0.67      0.57      0.49     14997\n",
            "\n"
          ]
        }
      ],
      "source": [
        "# 1번째 try => 전처리x, 토크나이저: BPETokenizer\n",
        "print(classification_report(y_train, y_train_pred))\n",
        "print(classification_report(y_test, y_test_pred))"
      ]
    },
    {
      "cell_type": "code",
      "execution_count": 46,
      "metadata": {},
      "outputs": [
        {
          "name": "stdout",
          "output_type": "stream",
          "text": [
            "              precision    recall  f1-score   support\n",
            "\n",
            "           0       0.95      0.06      0.11     17329\n",
            "           1       0.52      1.00      0.68     17666\n",
            "\n",
            "    accuracy                           0.53     34995\n",
            "   macro avg       0.74      0.53      0.39     34995\n",
            "weighted avg       0.73      0.53      0.40     34995\n",
            "\n",
            "              precision    recall  f1-score   support\n",
            "\n",
            "           0       0.92      0.05      0.10      7496\n",
            "           1       0.51      1.00      0.68      7502\n",
            "\n",
            "    accuracy                           0.53     14998\n",
            "   macro avg       0.72      0.52      0.39     14998\n",
            "weighted avg       0.72      0.53      0.39     14998\n",
            "\n"
          ]
        }
      ],
      "source": [
        "# 2번째 try => 전처리ㅇ, 토크나이저: BPETokenizer\n",
        "print(classification_report(y_train, y_train_pred))\n",
        "print(classification_report(y_test, y_test_pred))"
      ]
    },
    {
      "cell_type": "code",
      "execution_count": 47,
      "metadata": {
        "id": "BZXWeg1nowcP"
      },
      "outputs": [],
      "source": [
        "# randomforest\n",
        "\n",
        "rfc_decision = RandomForestClassifier(random_state=random_seed_num, max_depth=5)\n",
        "rfc_decision.fit(x_train, y_train)\n",
        "\n",
        "y_train_pred = rfc_decision.predict(x_train)\n",
        "y_test_pred = rfc_decision.predict(x_test)"
      ]
    },
    {
      "cell_type": "code",
      "execution_count": 42,
      "metadata": {},
      "outputs": [
        {
          "name": "stdout",
          "output_type": "stream",
          "text": [
            "              precision    recall  f1-score   support\n",
            "\n",
            "           0       0.82      0.48      0.61     17330\n",
            "           1       0.64      0.90      0.75     17670\n",
            "\n",
            "    accuracy                           0.69     35000\n",
            "   macro avg       0.73      0.69      0.68     35000\n",
            "weighted avg       0.73      0.69      0.68     35000\n",
            "\n",
            "              precision    recall  f1-score   support\n",
            "\n",
            "           0       0.81      0.47      0.59      7496\n",
            "           1       0.62      0.89      0.73      7501\n",
            "\n",
            "    accuracy                           0.68     14997\n",
            "   macro avg       0.71      0.68      0.66     14997\n",
            "weighted avg       0.71      0.68      0.66     14997\n",
            "\n"
          ]
        }
      ],
      "source": [
        "# 1번째 try => 전처리x, 토크나이저: BPETokenizer\n",
        "print(classification_report(y_train, y_train_pred))\n",
        "print(classification_report(y_test, y_test_pred))"
      ]
    },
    {
      "cell_type": "code",
      "execution_count": 48,
      "metadata": {},
      "outputs": [
        {
          "name": "stdout",
          "output_type": "stream",
          "text": [
            "              precision    recall  f1-score   support\n",
            "\n",
            "           0       0.86      0.43      0.57     17329\n",
            "           1       0.63      0.93      0.75     17666\n",
            "\n",
            "    accuracy                           0.68     34995\n",
            "   macro avg       0.74      0.68      0.66     34995\n",
            "weighted avg       0.74      0.68      0.66     34995\n",
            "\n",
            "              precision    recall  f1-score   support\n",
            "\n",
            "           0       0.84      0.41      0.55      7496\n",
            "           1       0.61      0.92      0.73      7502\n",
            "\n",
            "    accuracy                           0.67     14998\n",
            "   macro avg       0.72      0.67      0.64     14998\n",
            "weighted avg       0.72      0.67      0.64     14998\n",
            "\n"
          ]
        }
      ],
      "source": [
        "# 2번째 try => 전처리ㅇ, 토크나이저: BPETokenizer\n",
        "print(classification_report(y_train, y_train_pred))\n",
        "print(classification_report(y_test, y_test_pred))"
      ]
    },
    {
      "cell_type": "code",
      "execution_count": 49,
      "metadata": {
        "id": "nNqTgdlnoygm"
      },
      "outputs": [],
      "source": [
        "# kneighbors\n",
        "\n",
        "clf_kneighbors = KNeighborsClassifier(n_neighbors=3 , weights='distance', leaf_size=50)\n",
        "clf_kneighbors.fit(x_train, y_train)\n",
        "\n",
        "y_train_pred = clf_kneighbors.predict(x_train)\n",
        "y_test_pred = clf_kneighbors.predict(x_test)"
      ]
    },
    {
      "cell_type": "code",
      "execution_count": 44,
      "metadata": {
        "id": "5Syn334vozf7"
      },
      "outputs": [
        {
          "name": "stdout",
          "output_type": "stream",
          "text": [
            "              precision    recall  f1-score   support\n",
            "\n",
            "           0       1.00      1.00      1.00     17330\n",
            "           1       1.00      1.00      1.00     17670\n",
            "\n",
            "    accuracy                           1.00     35000\n",
            "   macro avg       1.00      1.00      1.00     35000\n",
            "weighted avg       1.00      1.00      1.00     35000\n",
            "\n",
            "              precision    recall  f1-score   support\n",
            "\n",
            "           0       0.53      0.97      0.68      7496\n",
            "           1       0.80      0.14      0.23      7501\n",
            "\n",
            "    accuracy                           0.55     14997\n",
            "   macro avg       0.66      0.55      0.46     14997\n",
            "weighted avg       0.66      0.55      0.46     14997\n",
            "\n"
          ]
        }
      ],
      "source": [
        "# 1번째 try => 전처리x, 토크나이저: BPETokenizer\n",
        "print(classification_report(y_train, y_train_pred))\n",
        "print(classification_report(y_test, y_test_pred))"
      ]
    },
    {
      "cell_type": "code",
      "execution_count": 50,
      "metadata": {},
      "outputs": [
        {
          "name": "stdout",
          "output_type": "stream",
          "text": [
            "              precision    recall  f1-score   support\n",
            "\n",
            "           0       0.99      1.00      0.99     17329\n",
            "           1       1.00      0.99      0.99     17666\n",
            "\n",
            "    accuracy                           0.99     34995\n",
            "   macro avg       0.99      0.99      0.99     34995\n",
            "weighted avg       0.99      0.99      0.99     34995\n",
            "\n",
            "              precision    recall  f1-score   support\n",
            "\n",
            "           0       0.53      0.97      0.69      7496\n",
            "           1       0.84      0.15      0.25      7502\n",
            "\n",
            "    accuracy                           0.56     14998\n",
            "   macro avg       0.69      0.56      0.47     14998\n",
            "weighted avg       0.69      0.56      0.47     14998\n",
            "\n"
          ]
        }
      ],
      "source": [
        "# 2번째 try => 전처리ㅇ, 토크나이저: BPETokenizer\n",
        "print(classification_report(y_train, y_train_pred))\n",
        "print(classification_report(y_test, y_test_pred))"
      ]
    },
    {
      "cell_type": "code",
      "execution_count": 51,
      "metadata": {
        "id": "SXsbZ-FYo1Hu"
      },
      "outputs": [],
      "source": [
        "# 로지스틱\n",
        "\n",
        "clf_logistic = LogisticRegression(max_iter=3000, random_state=random_seed_num)\n",
        "clf_logistic.fit(x_train, y_train)\n",
        "\n",
        "y_train_pred = clf_logistic.predict(x_train)\n",
        "y_test_pred = clf_logistic.predict(x_test)"
      ]
    },
    {
      "cell_type": "code",
      "execution_count": 46,
      "metadata": {
        "id": "NzkWLtJoo2EN"
      },
      "outputs": [
        {
          "name": "stdout",
          "output_type": "stream",
          "text": [
            "              precision    recall  f1-score   support\n",
            "\n",
            "           0       0.88      0.89      0.88     17330\n",
            "           1       0.89      0.88      0.88     17670\n",
            "\n",
            "    accuracy                           0.88     35000\n",
            "   macro avg       0.88      0.88      0.88     35000\n",
            "weighted avg       0.88      0.88      0.88     35000\n",
            "\n",
            "              precision    recall  f1-score   support\n",
            "\n",
            "           0       0.82      0.83      0.82      7496\n",
            "           1       0.83      0.82      0.82      7501\n",
            "\n",
            "    accuracy                           0.82     14997\n",
            "   macro avg       0.82      0.82      0.82     14997\n",
            "weighted avg       0.82      0.82      0.82     14997\n",
            "\n"
          ]
        }
      ],
      "source": [
        "# 1번째 try => 전처리x, 토크나이저: BPETokenizer\n",
        "print(classification_report(y_train, y_train_pred))\n",
        "print(classification_report(y_test, y_test_pred))"
      ]
    },
    {
      "cell_type": "code",
      "execution_count": 52,
      "metadata": {},
      "outputs": [
        {
          "name": "stdout",
          "output_type": "stream",
          "text": [
            "              precision    recall  f1-score   support\n",
            "\n",
            "           0       0.87      0.89      0.88     17329\n",
            "           1       0.89      0.87      0.88     17666\n",
            "\n",
            "    accuracy                           0.88     34995\n",
            "   macro avg       0.88      0.88      0.88     34995\n",
            "weighted avg       0.88      0.88      0.88     34995\n",
            "\n",
            "              precision    recall  f1-score   support\n",
            "\n",
            "           0       0.82      0.83      0.82      7496\n",
            "           1       0.82      0.81      0.82      7502\n",
            "\n",
            "    accuracy                           0.82     14998\n",
            "   macro avg       0.82      0.82      0.82     14998\n",
            "weighted avg       0.82      0.82      0.82     14998\n",
            "\n"
          ]
        }
      ],
      "source": [
        "# 2번째 try => 전처리ㅇ, 토크나이저: BPETokenizer\n",
        "print(classification_report(y_train, y_train_pred))\n",
        "print(classification_report(y_test, y_test_pred))"
      ]
    },
    {
      "cell_type": "code",
      "execution_count": 53,
      "metadata": {
        "id": "il_G-YH3o3f7"
      },
      "outputs": [],
      "source": [
        "# xgb\n",
        "clf_xgb = XGBClassifier(random_state = random_seed_num, max_depth=5)\n",
        "clf_xgb.fit(x_train, y_train)\n",
        "\n",
        "y_train_pred = clf_xgb.predict(x_train)\n",
        "y_test_pred = clf_xgb.predict(x_test)"
      ]
    },
    {
      "cell_type": "code",
      "execution_count": 109,
      "metadata": {},
      "outputs": [
        {
          "name": "stdout",
          "output_type": "stream",
          "text": [
            "              precision    recall  f1-score   support\n",
            "\n",
            "           0       0.72      0.85      0.78     17316\n",
            "           1       0.83      0.68      0.75     17646\n",
            "\n",
            "    accuracy                           0.77     34962\n",
            "   macro avg       0.77      0.77      0.76     34962\n",
            "weighted avg       0.77      0.77      0.76     34962\n",
            "\n",
            "              precision    recall  f1-score   support\n",
            "\n",
            "           0       0.70      0.82      0.75      7490\n",
            "           1       0.78      0.65      0.71      7494\n",
            "\n",
            "    accuracy                           0.73     14984\n",
            "   macro avg       0.74      0.73      0.73     14984\n",
            "weighted avg       0.74      0.73      0.73     14984\n",
            "\n"
          ]
        }
      ],
      "source": [
        "# 1번째 try => 전처리x, 토크나이저: BPETokenizer\n",
        "print(classification_report(y_train, y_train_pred))\n",
        "print(classification_report(y_test, y_test_pred))"
      ]
    },
    {
      "cell_type": "code",
      "execution_count": 54,
      "metadata": {
        "id": "Ytt0ZJg8o5MR"
      },
      "outputs": [
        {
          "name": "stdout",
          "output_type": "stream",
          "text": [
            "              precision    recall  f1-score   support\n",
            "\n",
            "           0       0.72      0.85      0.78     17329\n",
            "           1       0.82      0.68      0.75     17666\n",
            "\n",
            "    accuracy                           0.77     34995\n",
            "   macro avg       0.77      0.77      0.76     34995\n",
            "weighted avg       0.77      0.77      0.76     34995\n",
            "\n",
            "              precision    recall  f1-score   support\n",
            "\n",
            "           0       0.70      0.81      0.75      7496\n",
            "           1       0.78      0.65      0.71      7502\n",
            "\n",
            "    accuracy                           0.73     14998\n",
            "   macro avg       0.74      0.73      0.73     14998\n",
            "weighted avg       0.74      0.73      0.73     14998\n",
            "\n"
          ]
        }
      ],
      "source": [
        "# 2번째 try => 전처리ㅇ, 토크나이저: BPETokenizer\n",
        "print(classification_report(y_train, y_train_pred))\n",
        "print(classification_report(y_test, y_test_pred))"
      ]
    },
    {
      "cell_type": "code",
      "execution_count": 55,
      "metadata": {
        "id": "tHDrFXZ4o6oE"
      },
      "outputs": [],
      "source": [
        "# 앙상블 모델\n",
        "\n",
        "# voting 방식\n",
        "## soft : 각 모델의 결과가 특정 라벨이라고 하는 확률값을 사용하여 결과 도출\n",
        "## hard : 각 모델의 최종 결과(라벨)에서 다수로 라벨링된 결과를 도출, 0 : 5개 , 1 : 1개 => 0인 라벨 / 보팅 모델의 세부 총수 : 6개\n",
        "\n",
        "clf_ensemble = VotingClassifier(estimators=[('logistic', clf_logistic), ('kneighbors', clf_kneighbors), ('xgboost', clf_xgb)], voting = 'soft')\n",
        "clf_ensemble.fit(x_train, y_train)\n",
        "\n",
        "y_train_pred = clf_ensemble.predict(x_train)\n",
        "y_test_pred = clf_ensemble.predict(x_test)"
      ]
    },
    {
      "cell_type": "code",
      "execution_count": 50,
      "metadata": {
        "id": "8XcxaMrDo7Dv"
      },
      "outputs": [
        {
          "name": "stdout",
          "output_type": "stream",
          "text": [
            "              precision    recall  f1-score   support\n",
            "\n",
            "           0       0.99      0.99      0.99     17330\n",
            "           1       0.99      0.99      0.99     17670\n",
            "\n",
            "    accuracy                           0.99     35000\n",
            "   macro avg       0.99      0.99      0.99     35000\n",
            "weighted avg       0.99      0.99      0.99     35000\n",
            "\n",
            "              precision    recall  f1-score   support\n",
            "\n",
            "           0       0.67      0.94      0.78      7496\n",
            "           1       0.90      0.53      0.67      7501\n",
            "\n",
            "    accuracy                           0.74     14997\n",
            "   macro avg       0.78      0.74      0.72     14997\n",
            "weighted avg       0.78      0.74      0.72     14997\n",
            "\n"
          ]
        }
      ],
      "source": [
        "# 1번째 try => 전처리x, 토크나이저: BPETokenizer\n",
        "print(classification_report(y_train, y_train_pred))\n",
        "print(classification_report(y_test, y_test_pred))"
      ]
    },
    {
      "cell_type": "code",
      "execution_count": 56,
      "metadata": {},
      "outputs": [
        {
          "name": "stdout",
          "output_type": "stream",
          "text": [
            "              precision    recall  f1-score   support\n",
            "\n",
            "           0       0.98      0.99      0.99     17329\n",
            "           1       0.99      0.98      0.99     17666\n",
            "\n",
            "    accuracy                           0.99     34995\n",
            "   macro avg       0.99      0.99      0.99     34995\n",
            "weighted avg       0.99      0.99      0.99     34995\n",
            "\n",
            "              precision    recall  f1-score   support\n",
            "\n",
            "           0       0.74      0.90      0.81      7496\n",
            "           1       0.88      0.68      0.77      7502\n",
            "\n",
            "    accuracy                           0.79     14998\n",
            "   macro avg       0.81      0.79      0.79     14998\n",
            "weighted avg       0.81      0.79      0.79     14998\n",
            "\n"
          ]
        }
      ],
      "source": [
        "# 2번째 try => 전처리ㅇ, 토크나이저: BPETokenizer\n",
        "print(classification_report(y_train, y_train_pred))\n",
        "print(classification_report(y_test, y_test_pred))"
      ]
    },
    {
      "cell_type": "markdown",
      "metadata": {
        "id": "zyTKrmqJhvYi"
      },
      "source": [
        "Part 6. 모델을 평가하세요"
      ]
    },
    {
      "cell_type": "markdown",
      "metadata": {},
      "source": [
        "<사용한 모델>   \n",
        "- 의사결정나무    \n",
        "- randomforest    \n",
        "- kneighbors  \n",
        "- 로지스틱    \n",
        "- xgb \n",
        "- 앙상블 모델   \n",
        "\n",
        "\n",
        "<비교 기준>\n",
        "- 총 5가지 모델을 가지고 훈련을 실시했습니다. \n",
        "- 토큰화는 BPETokenizer으로 실시했습니다. \n",
        "- 첫번째 시도는 아무런 전처리(nan값만 제거)를 하지 않았고     \n",
        "- 두번째 시도는 전처리를(특수문자,영어,nan 제거) 실시했습니다.        \n",
        "\n",
        "\n",
        "<결과>\n",
        "- 각각의 정확도는 다음과 같습니다.        \n",
        "\n",
        "대체로 의사결정나무, randomforest, kneighbors는 전처리 전이 전처리 후보다 정확도가 높고,        \n",
        "로지스틱, xgb는 전처리 전과 후의 정확도가 같습니다.     \n",
        "그리고 앙상블 모델이 유일하게 전처리 후의 정확도가 전처리 전의 정확도보다 높습니다.     \n",
        "\n",
        "그리고 train과 test의 정확도가 둘 다 비교적 높은 모델은     \n",
        "- 1순위: 전처리 전,후 로지스틱 train = 88%, test = 82%        \n",
        "- 2순위: 전처리 후 앙상블 모델 train = 99%, test = 79%        \n",
        "- 3순위: 전처리 전,후 xgb train = 77%, test = 73%     입니다.\n",
        "\n",
        "<아쉬운 점>\n",
        "- 패딩과 같은 전처리를 시도해보고 딥러닝 모델을 이용하는 시도를 해보고 싶은 아쉬움이 있습니다.\n",
        "- 데이터에 맞는 꼼꼼한 전처리가 중요함을 깨달았습니다."
      ]
    },
    {
      "cell_type": "code",
      "execution_count": null,
      "metadata": {
        "id": "2UPlBo-Qhvnz"
      },
      "outputs": [],
      "source": []
    }
  ],
  "metadata": {
    "colab": {
      "provenance": []
    },
    "kernelspec": {
      "display_name": "Python 3",
      "name": "python3"
    },
    "language_info": {
      "codemirror_mode": {
        "name": "ipython",
        "version": 3
      },
      "file_extension": ".py",
      "mimetype": "text/x-python",
      "name": "python",
      "nbconvert_exporter": "python",
      "pygments_lexer": "ipython3",
      "version": "3.10.9"
    }
  },
  "nbformat": 4,
  "nbformat_minor": 0
}
