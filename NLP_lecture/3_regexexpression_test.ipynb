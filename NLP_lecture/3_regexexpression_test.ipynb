{
 "cells": [
  {
   "cell_type": "markdown",
   "metadata": {},
   "source": [
    "## 기본 정규 표현식 사용하기"
   ]
  },
  {
   "cell_type": "code",
   "execution_count": 1,
   "metadata": {},
   "outputs": [],
   "source": [
    "import re"
   ]
  },
  {
   "cell_type": "markdown",
   "metadata": {},
   "source": [
    "## 정규표현식 기본 문법 익히기\n",
    "\n",
    "* 메타 문자\n",
    "* 선택 패턴\n",
    "* 수량 한정자\n",
    "* 그룹"
   ]
  },
  {
   "cell_type": "markdown",
   "metadata": {},
   "source": [
    ".문자: 모든 문자 1개"
   ]
  },
  {
   "cell_type": "code",
   "execution_count": 2,
   "metadata": {},
   "outputs": [],
   "source": [
    "r = re.compile(\"a.c\")"
   ]
  },
  {
   "cell_type": "code",
   "execution_count": 3,
   "metadata": {},
   "outputs": [
    {
     "name": "stdout",
     "output_type": "stream",
     "text": [
      "None <class 'NoneType'>\n"
     ]
    }
   ],
   "source": [
    "rs = r.search(\"kkk\")\n",
    "print(rs ,  type(rs))"
   ]
  },
  {
   "cell_type": "code",
   "execution_count": 4,
   "metadata": {},
   "outputs": [
    {
     "name": "stdout",
     "output_type": "stream",
     "text": [
      "<re.Match object; span=(0, 3), match='abc'> <class 're.Match'>\n"
     ]
    }
   ],
   "source": [
    "rs = r.search(\"abc\")\n",
    "print(rs, type(rs))"
   ]
  },
  {
   "cell_type": "markdown",
   "metadata": {},
   "source": [
    "x? : 존재여부를 표현하며, x 문자가 존재할 수도 존재하지 않을 수도 있음을 의미"
   ]
  },
  {
   "cell_type": "code",
   "execution_count": 5,
   "metadata": {},
   "outputs": [],
   "source": [
    "r = re.compile(\"ab?c\")"
   ]
  },
  {
   "cell_type": "code",
   "execution_count": 6,
   "metadata": {},
   "outputs": [
    {
     "data": {
      "text/plain": [
       "<re.Match object; span=(0, 2), match='ac'>"
      ]
     },
     "execution_count": 6,
     "metadata": {},
     "output_type": "execute_result"
    }
   ],
   "source": [
    "r.search(\"ac\")"
   ]
  },
  {
   "cell_type": "markdown",
   "metadata": {},
   "source": [
    "x* : 반복여부를 표현, x 문자가 0번 또는 그 이상 반복됨을 의미"
   ]
  },
  {
   "cell_type": "code",
   "execution_count": 7,
   "metadata": {},
   "outputs": [],
   "source": [
    "r = re.compile(\"ab*c\")"
   ]
  },
  {
   "cell_type": "code",
   "execution_count": 8,
   "metadata": {},
   "outputs": [
    {
     "data": {
      "text/plain": [
       "<re.Match object; span=(0, 2), match='ac'>"
      ]
     },
     "execution_count": 8,
     "metadata": {},
     "output_type": "execute_result"
    }
   ],
   "source": [
    "r.search(\"ac\")"
   ]
  },
  {
   "cell_type": "code",
   "execution_count": 9,
   "metadata": {},
   "outputs": [
    {
     "data": {
      "text/plain": [
       "<re.Match object; span=(0, 16), match='abbbbbbbbbbbbbbc'>"
      ]
     },
     "execution_count": 9,
     "metadata": {},
     "output_type": "execute_result"
    }
   ],
   "source": [
    "r.search(\"abbbbbbbbbbbbbbc\")"
   ]
  },
  {
   "cell_type": "markdown",
   "metadata": {},
   "source": [
    "x+ : 반복을 표현하며 x문자가 한 번 이상 반복됨을 의미"
   ]
  },
  {
   "cell_type": "code",
   "execution_count": 10,
   "metadata": {},
   "outputs": [],
   "source": [
    "r = re.compile(\"ab+c\")"
   ]
  },
  {
   "cell_type": "code",
   "execution_count": 12,
   "metadata": {},
   "outputs": [
    {
     "name": "stdout",
     "output_type": "stream",
     "text": [
      "None\n"
     ]
    }
   ],
   "source": [
    "print(r.search(\"ac\"))"
   ]
  },
  {
   "cell_type": "code",
   "execution_count": 13,
   "metadata": {},
   "outputs": [
    {
     "data": {
      "text/plain": [
       "<re.Match object; span=(0, 7), match='abbbbbc'>"
      ]
     },
     "execution_count": 13,
     "metadata": {},
     "output_type": "execute_result"
    }
   ],
   "source": [
    "r.search(\"abbbbbc\")"
   ]
  },
  {
   "cell_type": "markdown",
   "metadata": {},
   "source": [
    "^x : 문자열의 시작을 표현하며 x 문자로 시작됨을 의미"
   ]
  },
  {
   "cell_type": "code",
   "execution_count": 14,
   "metadata": {},
   "outputs": [],
   "source": [
    "r = re.compile(\"^ab\")"
   ]
  },
  {
   "cell_type": "code",
   "execution_count": 15,
   "metadata": {},
   "outputs": [],
   "source": [
    "r.search(\"bbc\")"
   ]
  },
  {
   "cell_type": "code",
   "execution_count": 16,
   "metadata": {},
   "outputs": [],
   "source": [
    "r.search(\"zab\")"
   ]
  },
  {
   "cell_type": "code",
   "execution_count": 17,
   "metadata": {},
   "outputs": [
    {
     "data": {
      "text/plain": [
       "<re.Match object; span=(0, 2), match='ab'>"
      ]
     },
     "execution_count": 17,
     "metadata": {},
     "output_type": "execute_result"
    }
   ],
   "source": [
    "r.search(\"abdsdkfjieowhe\")"
   ]
  },
  {
   "cell_type": "markdown",
   "metadata": {},
   "source": [
    "x{n} : x 문자가 n번 반복됨 "
   ]
  },
  {
   "cell_type": "code",
   "execution_count": 18,
   "metadata": {},
   "outputs": [],
   "source": [
    "r = re.compile(\"ab{2}c\")"
   ]
  },
  {
   "cell_type": "code",
   "execution_count": 19,
   "metadata": {},
   "outputs": [],
   "source": [
    "r.search(\"abc\")"
   ]
  },
  {
   "cell_type": "code",
   "execution_count": 20,
   "metadata": {},
   "outputs": [],
   "source": [
    "r.search(\"abbbbbbbbbbbc\")"
   ]
  },
  {
   "cell_type": "code",
   "execution_count": 21,
   "metadata": {},
   "outputs": [
    {
     "data": {
      "text/plain": [
       "<re.Match object; span=(0, 4), match='abbc'>"
      ]
     },
     "execution_count": 21,
     "metadata": {},
     "output_type": "execute_result"
    }
   ],
   "source": [
    "r.search(\"abbcbbbbbbbbbc\")"
   ]
  },
  {
   "cell_type": "markdown",
   "metadata": {},
   "source": [
    "x{n,m} : x 문자가 최소 n번 이상 최대 m번 이하로 반복됨"
   ]
  },
  {
   "cell_type": "code",
   "execution_count": 22,
   "metadata": {},
   "outputs": [],
   "source": [
    "r = re.compile(\"ab{2,8}c\")"
   ]
  },
  {
   "cell_type": "code",
   "execution_count": 23,
   "metadata": {},
   "outputs": [],
   "source": [
    "r.search(\"abc\")"
   ]
  },
  {
   "cell_type": "code",
   "execution_count": 24,
   "metadata": {},
   "outputs": [
    {
     "data": {
      "text/plain": [
       "<re.Match object; span=(0, 4), match='abbc'>"
      ]
     },
     "execution_count": 24,
     "metadata": {},
     "output_type": "execute_result"
    }
   ],
   "source": [
    "r.search(\"abbc\")"
   ]
  },
  {
   "cell_type": "code",
   "execution_count": 25,
   "metadata": {},
   "outputs": [
    {
     "data": {
      "text/plain": [
       "<re.Match object; span=(0, 10), match='abbbbbbbbc'>"
      ]
     },
     "execution_count": 25,
     "metadata": {},
     "output_type": "execute_result"
    }
   ],
   "source": [
    "r.search(\"abbbbbbbbc\")"
   ]
  },
  {
   "cell_type": "code",
   "execution_count": 26,
   "metadata": {},
   "outputs": [],
   "source": [
    "r.search(\"abbbbbbbbbc\")"
   ]
  },
  {
   "cell_type": "markdown",
   "metadata": {},
   "source": [
    "x{n,} : x문자가 n번 이상 반복됨"
   ]
  },
  {
   "cell_type": "code",
   "execution_count": 27,
   "metadata": {},
   "outputs": [],
   "source": [
    "r = re.compile(\"a{2,}bc\")"
   ]
  },
  {
   "cell_type": "code",
   "execution_count": 28,
   "metadata": {},
   "outputs": [],
   "source": [
    "r.search(\"abc\")"
   ]
  },
  {
   "cell_type": "code",
   "execution_count": 29,
   "metadata": {},
   "outputs": [
    {
     "data": {
      "text/plain": [
       "<re.Match object; span=(0, 4), match='aabc'>"
      ]
     },
     "execution_count": 29,
     "metadata": {},
     "output_type": "execute_result"
    }
   ],
   "source": [
    "r.search(\"aabc\")"
   ]
  },
  {
   "cell_type": "code",
   "execution_count": 30,
   "metadata": {},
   "outputs": [],
   "source": [
    "r.search(\"AAbc\")"
   ]
  },
  {
   "cell_type": "markdown",
   "metadata": {},
   "source": [
    "[ ] : or를 의미하며 [abc]의 [a-c]와 같음"
   ]
  },
  {
   "cell_type": "code",
   "execution_count": 31,
   "metadata": {},
   "outputs": [],
   "source": [
    "r_p1 = re.compile(\"[abc]\")\n",
    "r_p2 = re.compile(\"[a-c]\")"
   ]
  },
  {
   "cell_type": "code",
   "execution_count": 32,
   "metadata": {},
   "outputs": [
    {
     "data": {
      "text/plain": [
       "<re.Match object; span=(0, 1), match='b'>"
      ]
     },
     "execution_count": 32,
     "metadata": {},
     "output_type": "execute_result"
    }
   ],
   "source": [
    "r_p1.search('b')"
   ]
  },
  {
   "cell_type": "code",
   "execution_count": 33,
   "metadata": {},
   "outputs": [
    {
     "data": {
      "text/plain": [
       "<re.Match object; span=(8, 9), match='b'>"
      ]
     },
     "execution_count": 33,
     "metadata": {},
     "output_type": "execute_result"
    }
   ],
   "source": [
    "r_p2.search('mmnkjpkjbpoipoi')"
   ]
  },
  {
   "cell_type": "code",
   "execution_count": 34,
   "metadata": {},
   "outputs": [
    {
     "data": {
      "text/plain": [
       "<re.Match object; span=(2, 3), match='a'>"
      ]
     },
     "execution_count": 34,
     "metadata": {},
     "output_type": "execute_result"
    }
   ],
   "source": [
    "r_p2.search('mmaankjpkjbpoipoi')"
   ]
  },
  {
   "cell_type": "code",
   "execution_count": 35,
   "metadata": {},
   "outputs": [
    {
     "data": {
      "text/plain": [
       "<re.Match object; span=(0, 1), match='a'>"
      ]
     },
     "execution_count": 35,
     "metadata": {},
     "output_type": "execute_result"
    }
   ],
   "source": [
    "r_p2.search('aaaaaa')"
   ]
  },
  {
   "cell_type": "markdown",
   "metadata": {},
   "source": [
    "[^x] : ^기호 뒤에 붙은 문자들을 제외한 모든 문자를 매치"
   ]
  },
  {
   "cell_type": "code",
   "execution_count": 36,
   "metadata": {},
   "outputs": [],
   "source": [
    "r = re.compile(\"[^abc]\")"
   ]
  },
  {
   "cell_type": "code",
   "execution_count": 37,
   "metadata": {},
   "outputs": [
    {
     "data": {
      "text/plain": [
       "<re.Match object; span=(1, 2), match='k'>"
      ]
     },
     "execution_count": 37,
     "metadata": {},
     "output_type": "execute_result"
    }
   ],
   "source": [
    "r.search(\"aklakbetpodkhs\")"
   ]
  },
  {
   "cell_type": "markdown",
   "metadata": {},
   "source": [
    "## re.match() 와 re.search() 의 차이\n",
    "\n",
    "* re.search() : 정규 표현식 전체에 대해서 문자열이 매치하는지 확인\n",
    "* re.match() : 문자열의 첫 부분부터 정규표현식과 매치하는지를 확인\n",
    "  * group : 매치된 문자열을 리턴\n",
    "  * start : 매치된 문자열의 시작 위치\n",
    "  * end : 매치된 문자열의 끝 위치\n",
    "  * span : 매치된 문자열의 (시작, 끝)에 해당하는 튜플을 리턴"
   ]
  },
  {
   "cell_type": "code",
   "execution_count": 39,
   "metadata": {},
   "outputs": [],
   "source": [
    "r = re.compile(\"ab.\")"
   ]
  },
  {
   "cell_type": "code",
   "execution_count": 40,
   "metadata": {},
   "outputs": [
    {
     "name": "stdout",
     "output_type": "stream",
     "text": [
      "None\n",
      "<re.Match object; span=(3, 6), match='abc'>\n"
     ]
    }
   ],
   "source": [
    "print(r.match(\"kkkabc\"))\n",
    "print(r.search(\"kkkabc\"))"
   ]
  },
  {
   "cell_type": "code",
   "execution_count": 42,
   "metadata": {},
   "outputs": [
    {
     "name": "stdout",
     "output_type": "stream",
     "text": [
      "<re.Match object; span=(0, 2), match='kk'>\n",
      "<re.Match object; span=(1, 3), match='kk'>\n"
     ]
    }
   ],
   "source": [
    "r = re.compile(\"k{2}\")\n",
    "print(r.match(\"kkkabc\"))\n",
    "print(r.search(\"kkkabc\", 1))"
   ]
  },
  {
   "cell_type": "code",
   "execution_count": 43,
   "metadata": {},
   "outputs": [
    {
     "name": "stdout",
     "output_type": "stream",
     "text": [
      "kk\n",
      "0\n",
      "2\n",
      "(0, 2)\n"
     ]
    }
   ],
   "source": [
    "m = r.match(\"kkkabc\")\n",
    "print(m.group())\n",
    "print(m.start())\n",
    "print(m.end())\n",
    "print(m.span())"
   ]
  },
  {
   "cell_type": "markdown",
   "metadata": {},
   "source": [
    "## findall() \n",
    "\n",
    "정규식과 매치되는 모든 문자열(substring)을 리스트로 리턴"
   ]
  },
  {
   "cell_type": "code",
   "execution_count": 50,
   "metadata": {},
   "outputs": [],
   "source": [
    "text = \"\"\"\n",
    "이름 : 홍길동\n",
    "핸드폰번호 : 010-0896-3456\n",
    "나이 : 19\n",
    "성별 : 남\n",
    "\"\"\""
   ]
  },
  {
   "cell_type": "code",
   "execution_count": 53,
   "metadata": {},
   "outputs": [
    {
     "name": "stdout",
     "output_type": "stream",
     "text": [
      "['010', '0896', '3456', '19']\n",
      "['010', '0896', '3456']\n",
      "['010-0896-3456']\n"
     ]
    }
   ],
   "source": [
    "# 숫자 데이터 찾기\n",
    "print(re.findall(\"\\d+\", text))\n",
    "print(re.findall(\"[0-9]{3,4}\", text))\n",
    "print(re.findall(\"[0-9]{3,4}-[0-9]{3,4}-[0-9]{3,4}\", text))"
   ]
  },
  {
   "cell_type": "code",
   "execution_count": 54,
   "metadata": {},
   "outputs": [
    {
     "data": {
      "text/plain": [
       "['life', 'is', 'too', 'short', 'since']"
      ]
     },
     "execution_count": 54,
     "metadata": {},
     "output_type": "execute_result"
    }
   ],
   "source": [
    "# 문자 데이터 찾기\n",
    "p = re.compile('[a-z]+')\n",
    "result = p.findall('life is too short!! since 1111')\n",
    "result"
   ]
  },
  {
   "cell_type": "markdown",
   "metadata": {},
   "source": [
    "## finditer()\n",
    "\n",
    "정규식과 매치되는 모든 문자열을 반복 가능한 객체로 리턴"
   ]
  },
  {
   "cell_type": "code",
   "execution_count": 55,
   "metadata": {},
   "outputs": [
    {
     "data": {
      "text/plain": [
       "<callable_iterator at 0x17f25d50760>"
      ]
     },
     "execution_count": 55,
     "metadata": {},
     "output_type": "execute_result"
    }
   ],
   "source": [
    "p = re.compile('[a-z]+')\n",
    "result = p.finditer('life is too short!! since 1111')\n",
    "result"
   ]
  },
  {
   "cell_type": "code",
   "execution_count": 56,
   "metadata": {},
   "outputs": [
    {
     "name": "stdout",
     "output_type": "stream",
     "text": [
      "<re.Match object; span=(0, 4), match='life'>\n",
      "<re.Match object; span=(5, 7), match='is'>\n",
      "<re.Match object; span=(8, 11), match='too'>\n",
      "<re.Match object; span=(12, 17), match='short'>\n",
      "<re.Match object; span=(20, 25), match='since'>\n"
     ]
    }
   ],
   "source": [
    "for r in result:\n",
    "    print(r)"
   ]
  },
  {
   "cell_type": "markdown",
   "metadata": {},
   "source": [
    "## re.split()\n",
    "\n",
    "정규 표현식을 기준으로 문자열들을 분리하여 리스트로 리턴함"
   ]
  },
  {
   "cell_type": "code",
   "execution_count": 57,
   "metadata": {},
   "outputs": [
    {
     "name": "stdout",
     "output_type": "stream",
     "text": [
      "['사과', '딸기', '수박', '메론', '바나나']\n"
     ]
    }
   ],
   "source": [
    "text = \"사과 딸기 수박 메론 바나나\"\n",
    "print(re.split(\" \", text))"
   ]
  },
  {
   "cell_type": "code",
   "execution_count": 61,
   "metadata": {},
   "outputs": [
    {
     "data": {
      "text/plain": [
       "['', '사과', '딸기', '수박', '메론', '바나나', '']"
      ]
     },
     "execution_count": 61,
     "metadata": {},
     "output_type": "execute_result"
    }
   ],
   "source": [
    "text = \"\"\"\n",
    "사과\n",
    "딸기\n",
    "수박\n",
    "메론\n",
    "바나나\n",
    "\"\"\"\n",
    "\n",
    "re.split('\\n', text)"
   ]
  },
  {
   "cell_type": "markdown",
   "metadata": {},
   "source": [
    "## re.sub() \n",
    "\n",
    "정규 표현식 패턴과 일치하는 문자열을 찾아 다른 문자열로 대체  \n",
    "특수 문자 제거시 많이 사용함"
   ]
  },
  {
   "cell_type": "code",
   "execution_count": 62,
   "metadata": {},
   "outputs": [
    {
     "data": {
      "text/plain": [
       "' 인공지능 AI 스타트업 업스테이지는 한국지능정보사회진흥원 NIA 과 한국어 거대언어모델 LLM 성능을 평가하는 오픈 코 LLM 리더보드 Open Ko LLM 를 구축한다고 일 밝혔다. 리더보드는 누구나 한국어 거대언어모델을 등록하고 다른 모델과 성능을 비교하는 공개 플랫폼이다. 업스테이지는 NIA와 한국어의 특성과 문화를 반영한 데이터를 자체 구축할 계획이다. 임희석 고려대 컴퓨터학과 교수와 역사 왜곡, 환각 오류, 형태소 오류, 불규칙 활용 오류, 혐오 표현 등을 고려한 상식 생성 기준도 추가한다. AI가 만든 결과물이 한국어 사용자가 가진 일반 상식에 부합하는지 확인할 수 있다는 것이 업체의 설명이다. KT는 이번 리더보드 개설에 클라우드의 인프라 지원할 계획이다. 자세한 내용은 이달 일부터 AI 플랫폼 허깅페이스 의 오픈 코 LLM 리더보드 스페이스에서 확인할 수 있다. 김성훈 업스테이지 대표는 앞으로도 조 토큰 클럽 T 클럽 등을 통해 고품질 한국어 데이터를 공유하고 리더보드를 통한 협업 촉진과 빠른 기술 전파 등으로 국내 AI 생태계를 넓혀나가겠다 고 말했다. 김주완 기자 kjwan hankyung.com '"
      ]
     },
     "execution_count": 62,
     "metadata": {},
     "output_type": "execute_result"
    }
   ],
   "source": [
    "text = \"\"\"\n",
    "인공지능(AI) 스타트업 업스테이지는 한국지능정보사회진흥원(NIA)과 한국어 거대언어모델(LLM) 성능을 평가하는 '오픈 코-LLM 리더보드(Open Ko-LLM)'를 구축한다고 25일 밝혔다.\n",
    "\n",
    "리더보드는 누구나 한국어 거대언어모델을 등록하고 다른 모델과 성능을 비교하는 공개 플랫폼이다. 업스테이지는 NIA와 한국어의 특성과 문화를 반영한 데이터를 자체 구축할 계획이다.\n",
    "\n",
    "임희석 고려대 컴퓨터학과 교수와 역사 왜곡, 환각 오류, 형태소 오류, 불규칙 활용 오류, 혐오 표현 등을 고려한 '상식 생성' 기준도 추가한다. AI가 만든 결과물이 한국어 사용자가 가진 일반 상식에 부합하는지 확인할 수 있다는 것이 업체의 설명이다.\n",
    "\n",
    "KT는 이번 리더보드 개설에 클라우드의 인프라 지원할 계획이다. 자세한 내용은 이달 27일부터 AI 플랫폼 '허깅페이스'의 오픈 코-LLM 리더보드 스페이스에서 확인할 수 있다.\n",
    "\n",
    "김성훈 업스테이지 대표는 \"앞으로도 '1조 토큰 클럽' (1T 클럽) 등을 통해 고품질 한국어 데이터를 공유하고 리더보드를 통한 협업 촉진과 빠른 기술 전파 등으로 국내 AI 생태계를 넓혀나가겠다\"고 말했다.\n",
    "\n",
    "김주완 기자 kjwan@hankyung.com\n",
    "\"\"\"\n",
    "\n",
    "re.sub('[^ㄱ-ㅎ가-힣a-zA-Z\\.\\,]+' , \" \", text)"
   ]
  },
  {
   "cell_type": "markdown",
   "metadata": {},
   "source": [
    "re.compile 대소문자 구분 무시"
   ]
  },
  {
   "cell_type": "code",
   "execution_count": 63,
   "metadata": {},
   "outputs": [
    {
     "name": "stdout",
     "output_type": "stream",
     "text": [
      "<re.Match object; span=(0, 1), match='K'>\n"
     ]
    }
   ],
   "source": [
    "r = re.compile(\"k\", re.I)\n",
    "print(r.search(\"Kkkasf\"))"
   ]
  },
  {
   "cell_type": "markdown",
   "metadata": {},
   "source": [
    "## 정규표현식을 이용한 토큰화"
   ]
  },
  {
   "cell_type": "code",
   "execution_count": 64,
   "metadata": {},
   "outputs": [],
   "source": [
    "from nltk.tokenize import RegexpTokenizer\n",
    "\n",
    "text = \"\"\" \n",
    "Break issues into actionable tasks\n",
    "Tackle complex issues with task lists and track their status with new progress indicators. Convert tasks into their own issues and navigate your work hierarchy.\n",
    "\"\"\""
   ]
  },
  {
   "cell_type": "code",
   "execution_count": 65,
   "metadata": {},
   "outputs": [
    {
     "name": "stdout",
     "output_type": "stream",
     "text": [
      "['Break', 'issues', 'into', 'actionable', 'tasks', 'Tackle', 'complex', 'issues', 'with', 'task', 'lists', 'and', 'track', 'their', 'status', 'with', 'new', 'progress', 'indicators', 'Convert', 'tasks', 'into', 'their', 'own', 'issues', 'and', 'navigate', 'your', 'work', 'hierarchy']\n",
      "['Break', 'issues', 'into', 'actionable', 'tasks', 'Tackle', 'complex', 'issues', 'with', 'task', 'lists', 'and', 'track', 'their', 'status', 'with', 'new', 'progress', 'indicators.', 'Convert', 'tasks', 'into', 'their', 'own', 'issues', 'and', 'navigate', 'your', 'work', 'hierarchy.']\n"
     ]
    }
   ],
   "source": [
    "tokenizer1 = RegexpTokenizer('[\\w]+')\n",
    "tokenizer2 = RegexpTokenizer('\\s+', gaps=True) \n",
    "\n",
    "print(tokenizer1.tokenize(text))\n",
    "print(tokenizer2.tokenize(text))\n"
   ]
  },
  {
   "cell_type": "code",
   "execution_count": null,
   "metadata": {},
   "outputs": [],
   "source": []
  }
 ],
 "metadata": {
  "kernelspec": {
   "display_name": "base",
   "language": "python",
   "name": "python3"
  },
  "language_info": {
   "codemirror_mode": {
    "name": "ipython",
    "version": 3
   },
   "file_extension": ".py",
   "mimetype": "text/x-python",
   "name": "python",
   "nbconvert_exporter": "python",
   "pygments_lexer": "ipython3",
   "version": "3.9.13"
  },
  "orig_nbformat": 4
 },
 "nbformat": 4,
 "nbformat_minor": 2
}
