{
 "cells": [
  {
   "cell_type": "markdown",
   "metadata": {},
   "source": [
    "Bard "
   ]
  },
  {
   "cell_type": "code",
   "execution_count": 2,
   "metadata": {},
   "outputs": [
    {
     "name": "stdout",
     "output_type": "stream",
     "text": [
      "Requirement already satisfied: bardapi in c:\\programdata\\anaconda3\\envs\\llm_env\\lib\\site-packages (0.1.38)\n",
      "Requirement already satisfied: httpx[http2]>=0.20.0 in c:\\programdata\\anaconda3\\envs\\llm_env\\lib\\site-packages (from bardapi) (0.25.0)\n",
      "Requirement already satisfied: requests in c:\\programdata\\anaconda3\\envs\\llm_env\\lib\\site-packages (from bardapi) (2.31.0)\n",
      "Requirement already satisfied: deep-translator in c:\\programdata\\anaconda3\\envs\\llm_env\\lib\\site-packages (from bardapi) (1.11.4)\n",
      "Requirement already satisfied: colorama in c:\\programdata\\anaconda3\\envs\\llm_env\\lib\\site-packages (from bardapi) (0.4.6)\n",
      "Requirement already satisfied: google-cloud-translate in c:\\programdata\\anaconda3\\envs\\llm_env\\lib\\site-packages (from bardapi) (3.12.0)\n",
      "Requirement already satisfied: browser-cookie3 in c:\\programdata\\anaconda3\\envs\\llm_env\\lib\\site-packages (from bardapi) (0.19.1)\n",
      "Requirement already satisfied: langdetect in c:\\programdata\\anaconda3\\envs\\llm_env\\lib\\site-packages (from bardapi) (1.0.9)\n",
      "Requirement already satisfied: certifi in c:\\programdata\\anaconda3\\envs\\llm_env\\lib\\site-packages (from httpx[http2]>=0.20.0->bardapi) (2023.7.22)\n",
      "Requirement already satisfied: httpcore<0.19.0,>=0.18.0 in c:\\programdata\\anaconda3\\envs\\llm_env\\lib\\site-packages (from httpx[http2]>=0.20.0->bardapi) (0.18.0)\n",
      "Requirement already satisfied: idna in c:\\programdata\\anaconda3\\envs\\llm_env\\lib\\site-packages (from httpx[http2]>=0.20.0->bardapi) (3.4)\n",
      "Requirement already satisfied: sniffio in c:\\programdata\\anaconda3\\envs\\llm_env\\lib\\site-packages (from httpx[http2]>=0.20.0->bardapi) (1.3.0)\n",
      "Requirement already satisfied: h2<5,>=3 in c:\\programdata\\anaconda3\\envs\\llm_env\\lib\\site-packages (from httpx[http2]>=0.20.0->bardapi) (4.1.0)\n",
      "Requirement already satisfied: lz4 in c:\\programdata\\anaconda3\\envs\\llm_env\\lib\\site-packages (from browser-cookie3->bardapi) (4.3.2)\n",
      "Requirement already satisfied: pycryptodomex in c:\\programdata\\anaconda3\\envs\\llm_env\\lib\\site-packages (from browser-cookie3->bardapi) (3.19.0)\n",
      "Requirement already satisfied: beautifulsoup4<5.0.0,>=4.9.1 in c:\\programdata\\anaconda3\\envs\\llm_env\\lib\\site-packages (from deep-translator->bardapi) (4.12.2)\n",
      "Requirement already satisfied: charset-normalizer<4,>=2 in c:\\programdata\\anaconda3\\envs\\llm_env\\lib\\site-packages (from requests->bardapi) (3.3.0)\n",
      "Requirement already satisfied: urllib3<3,>=1.21.1 in c:\\programdata\\anaconda3\\envs\\llm_env\\lib\\site-packages (from requests->bardapi) (2.0.6)\n",
      "Requirement already satisfied: google-api-core[grpc]!=2.0.*,!=2.1.*,!=2.10.*,!=2.2.*,!=2.3.*,!=2.4.*,!=2.5.*,!=2.6.*,!=2.7.*,!=2.8.*,!=2.9.*,<3.0.0dev,>=1.34.0 in c:\\programdata\\anaconda3\\envs\\llm_env\\lib\\site-packages (from google-cloud-translate->bardapi) (2.12.0)\n",
      "Requirement already satisfied: google-cloud-core<3.0.0dev,>=1.3.0 in c:\\programdata\\anaconda3\\envs\\llm_env\\lib\\site-packages (from google-cloud-translate->bardapi) (2.3.3)\n",
      "Requirement already satisfied: proto-plus<2.0.0dev,>=1.22.0 in c:\\programdata\\anaconda3\\envs\\llm_env\\lib\\site-packages (from google-cloud-translate->bardapi) (1.22.3)\n",
      "Requirement already satisfied: protobuf!=3.20.0,!=3.20.1,!=4.21.0,!=4.21.1,!=4.21.2,!=4.21.3,!=4.21.4,!=4.21.5,<5.0.0dev,>=3.19.5 in c:\\programdata\\anaconda3\\envs\\llm_env\\lib\\site-packages (from google-cloud-translate->bardapi) (4.24.4)\n",
      "Requirement already satisfied: six in c:\\programdata\\anaconda3\\envs\\llm_env\\lib\\site-packages (from langdetect->bardapi) (1.16.0)\n",
      "Requirement already satisfied: soupsieve>1.2 in c:\\programdata\\anaconda3\\envs\\llm_env\\lib\\site-packages (from beautifulsoup4<5.0.0,>=4.9.1->deep-translator->bardapi) (2.5)\n",
      "Requirement already satisfied: googleapis-common-protos<2.0.dev0,>=1.56.2 in c:\\programdata\\anaconda3\\envs\\llm_env\\lib\\site-packages (from google-api-core[grpc]!=2.0.*,!=2.1.*,!=2.10.*,!=2.2.*,!=2.3.*,!=2.4.*,!=2.5.*,!=2.6.*,!=2.7.*,!=2.8.*,!=2.9.*,<3.0.0dev,>=1.34.0->google-cloud-translate->bardapi) (1.60.0)\n",
      "Requirement already satisfied: google-auth<3.0.dev0,>=2.14.1 in c:\\programdata\\anaconda3\\envs\\llm_env\\lib\\site-packages (from google-api-core[grpc]!=2.0.*,!=2.1.*,!=2.10.*,!=2.2.*,!=2.3.*,!=2.4.*,!=2.5.*,!=2.6.*,!=2.7.*,!=2.8.*,!=2.9.*,<3.0.0dev,>=1.34.0->google-cloud-translate->bardapi) (2.23.2)\n",
      "Requirement already satisfied: grpcio<2.0dev,>=1.33.2 in c:\\programdata\\anaconda3\\envs\\llm_env\\lib\\site-packages (from google-api-core[grpc]!=2.0.*,!=2.1.*,!=2.10.*,!=2.2.*,!=2.3.*,!=2.4.*,!=2.5.*,!=2.6.*,!=2.7.*,!=2.8.*,!=2.9.*,<3.0.0dev,>=1.34.0->google-cloud-translate->bardapi) (1.59.0)\n",
      "Requirement already satisfied: grpcio-status<2.0.dev0,>=1.33.2 in c:\\programdata\\anaconda3\\envs\\llm_env\\lib\\site-packages (from google-api-core[grpc]!=2.0.*,!=2.1.*,!=2.10.*,!=2.2.*,!=2.3.*,!=2.4.*,!=2.5.*,!=2.6.*,!=2.7.*,!=2.8.*,!=2.9.*,<3.0.0dev,>=1.34.0->google-cloud-translate->bardapi) (1.59.0)\n",
      "Requirement already satisfied: hyperframe<7,>=6.0 in c:\\programdata\\anaconda3\\envs\\llm_env\\lib\\site-packages (from h2<5,>=3->httpx[http2]>=0.20.0->bardapi) (6.0.1)\n",
      "Requirement already satisfied: hpack<5,>=4.0 in c:\\programdata\\anaconda3\\envs\\llm_env\\lib\\site-packages (from h2<5,>=3->httpx[http2]>=0.20.0->bardapi) (4.0.0)\n",
      "Requirement already satisfied: anyio<5.0,>=3.0 in c:\\programdata\\anaconda3\\envs\\llm_env\\lib\\site-packages (from httpcore<0.19.0,>=0.18.0->httpx[http2]>=0.20.0->bardapi) (4.0.0)\n",
      "Requirement already satisfied: h11<0.15,>=0.13 in c:\\programdata\\anaconda3\\envs\\llm_env\\lib\\site-packages (from httpcore<0.19.0,>=0.18.0->httpx[http2]>=0.20.0->bardapi) (0.14.0)\n",
      "Requirement already satisfied: exceptiongroup>=1.0.2 in c:\\programdata\\anaconda3\\envs\\llm_env\\lib\\site-packages (from anyio<5.0,>=3.0->httpcore<0.19.0,>=0.18.0->httpx[http2]>=0.20.0->bardapi) (1.0.4)\n",
      "Requirement already satisfied: cachetools<6.0,>=2.0.0 in c:\\programdata\\anaconda3\\envs\\llm_env\\lib\\site-packages (from google-auth<3.0.dev0,>=2.14.1->google-api-core[grpc]!=2.0.*,!=2.1.*,!=2.10.*,!=2.2.*,!=2.3.*,!=2.4.*,!=2.5.*,!=2.6.*,!=2.7.*,!=2.8.*,!=2.9.*,<3.0.0dev,>=1.34.0->google-cloud-translate->bardapi) (5.3.1)\n",
      "Requirement already satisfied: pyasn1-modules>=0.2.1 in c:\\programdata\\anaconda3\\envs\\llm_env\\lib\\site-packages (from google-auth<3.0.dev0,>=2.14.1->google-api-core[grpc]!=2.0.*,!=2.1.*,!=2.10.*,!=2.2.*,!=2.3.*,!=2.4.*,!=2.5.*,!=2.6.*,!=2.7.*,!=2.8.*,!=2.9.*,<3.0.0dev,>=1.34.0->google-cloud-translate->bardapi) (0.3.0)\n",
      "Requirement already satisfied: rsa<5,>=3.1.4 in c:\\programdata\\anaconda3\\envs\\llm_env\\lib\\site-packages (from google-auth<3.0.dev0,>=2.14.1->google-api-core[grpc]!=2.0.*,!=2.1.*,!=2.10.*,!=2.2.*,!=2.3.*,!=2.4.*,!=2.5.*,!=2.6.*,!=2.7.*,!=2.8.*,!=2.9.*,<3.0.0dev,>=1.34.0->google-cloud-translate->bardapi) (4.9)\n",
      "Requirement already satisfied: pyasn1<0.6.0,>=0.4.6 in c:\\programdata\\anaconda3\\envs\\llm_env\\lib\\site-packages (from pyasn1-modules>=0.2.1->google-auth<3.0.dev0,>=2.14.1->google-api-core[grpc]!=2.0.*,!=2.1.*,!=2.10.*,!=2.2.*,!=2.3.*,!=2.4.*,!=2.5.*,!=2.6.*,!=2.7.*,!=2.8.*,!=2.9.*,<3.0.0dev,>=1.34.0->google-cloud-translate->bardapi) (0.5.0)\n"
     ]
    }
   ],
   "source": [
    "!pip install bardapi"
   ]
  },
  {
   "cell_type": "code",
   "execution_count": 3,
   "metadata": {},
   "outputs": [],
   "source": [
    "from bardapi import Bard\n",
    "import os "
   ]
  },
  {
   "cell_type": "code",
   "execution_count": 4,
   "metadata": {},
   "outputs": [],
   "source": [
    "import bardapi"
   ]
  },
  {
   "cell_type": "code",
   "execution_count": 5,
   "metadata": {},
   "outputs": [
    {
     "data": {
      "text/plain": [
       "'0.1.38'"
      ]
     },
     "execution_count": 5,
     "metadata": {},
     "output_type": "execute_result"
    }
   ],
   "source": [
    "bardapi.__version__"
   ]
  },
  {
   "cell_type": "code",
   "execution_count": 6,
   "metadata": {},
   "outputs": [],
   "source": [
    "# 0.1.23a 버전이 그나마 쿠키 api에서 문제가 덜 발생함"
   ]
  },
  {
   "cell_type": "code",
   "execution_count": 7,
   "metadata": {},
   "outputs": [],
   "source": [
    "token = ''"
   ]
  },
  {
   "cell_type": "code",
   "execution_count": 8,
   "metadata": {},
   "outputs": [],
   "source": [
    "os.environ['_BARD_API_KEY'] = token"
   ]
  },
  {
   "cell_type": "code",
   "execution_count": 9,
   "metadata": {},
   "outputs": [
    {
     "ename": "Exception",
     "evalue": "Response status code is not 200. Response Status is 429",
     "output_type": "error",
     "traceback": [
      "\u001b[1;31m---------------------------------------------------------------------------\u001b[0m",
      "\u001b[1;31mException\u001b[0m                                 Traceback (most recent call last)",
      "Cell \u001b[1;32mIn[9], line 1\u001b[0m\n\u001b[1;32m----> 1\u001b[0m bard \u001b[39m=\u001b[39m Bard()\n\u001b[0;32m      2\u001b[0m response \u001b[39m=\u001b[39m bard\u001b[39m.\u001b[39mget_answer(\u001b[39m\"\u001b[39m\u001b[39m자연어 처리란 무엇일까?\u001b[39m\u001b[39m\"\u001b[39m)\n",
      "File \u001b[1;32mc:\\ProgramData\\Anaconda3\\envs\\llm_env\\lib\\site-packages\\bardapi\\core.py:78\u001b[0m, in \u001b[0;36mBard.__init__\u001b[1;34m(self, token, timeout, proxies, session, conversation_id, google_translator_api_key, language, run_code, token_from_browser)\u001b[0m\n\u001b[0;32m     76\u001b[0m \u001b[39mself\u001b[39m\u001b[39m.\u001b[39mchoice_id \u001b[39m=\u001b[39m \u001b[39m\"\u001b[39m\u001b[39m\"\u001b[39m\n\u001b[0;32m     77\u001b[0m \u001b[39mself\u001b[39m\u001b[39m.\u001b[39msession \u001b[39m=\u001b[39m \u001b[39mself\u001b[39m\u001b[39m.\u001b[39m_get_session(session)\n\u001b[1;32m---> 78\u001b[0m \u001b[39mself\u001b[39m\u001b[39m.\u001b[39mSNlM0e \u001b[39m=\u001b[39m \u001b[39mself\u001b[39;49m\u001b[39m.\u001b[39;49m_get_snim0e()\n\u001b[0;32m     79\u001b[0m \u001b[39mself\u001b[39m\u001b[39m.\u001b[39mlanguage \u001b[39m=\u001b[39m language \u001b[39mor\u001b[39;00m os\u001b[39m.\u001b[39mgetenv(\u001b[39m\"\u001b[39m\u001b[39m_BARD_API_LANG\u001b[39m\u001b[39m\"\u001b[39m)\n\u001b[0;32m     80\u001b[0m \u001b[39mself\u001b[39m\u001b[39m.\u001b[39mrun_code \u001b[39m=\u001b[39m run_code\n",
      "File \u001b[1;32mc:\\ProgramData\\Anaconda3\\envs\\llm_env\\lib\\site-packages\\bardapi\\core.py:149\u001b[0m, in \u001b[0;36mBard._get_snim0e\u001b[1;34m(self)\u001b[0m\n\u001b[0;32m    145\u001b[0m resp \u001b[39m=\u001b[39m \u001b[39mself\u001b[39m\u001b[39m.\u001b[39msession\u001b[39m.\u001b[39mget(\n\u001b[0;32m    146\u001b[0m     \u001b[39m\"\u001b[39m\u001b[39mhttps://bard.google.com/\u001b[39m\u001b[39m\"\u001b[39m, timeout\u001b[39m=\u001b[39m\u001b[39mself\u001b[39m\u001b[39m.\u001b[39mtimeout, proxies\u001b[39m=\u001b[39m\u001b[39mself\u001b[39m\u001b[39m.\u001b[39mproxies\n\u001b[0;32m    147\u001b[0m )\n\u001b[0;32m    148\u001b[0m \u001b[39mif\u001b[39;00m resp\u001b[39m.\u001b[39mstatus_code \u001b[39m!=\u001b[39m \u001b[39m200\u001b[39m:\n\u001b[1;32m--> 149\u001b[0m     \u001b[39mraise\u001b[39;00m \u001b[39mException\u001b[39;00m(\n\u001b[0;32m    150\u001b[0m         \u001b[39mf\u001b[39m\u001b[39m\"\u001b[39m\u001b[39mResponse status code is not 200. Response Status is \u001b[39m\u001b[39m{\u001b[39;00mresp\u001b[39m.\u001b[39mstatus_code\u001b[39m}\u001b[39;00m\u001b[39m\"\u001b[39m\n\u001b[0;32m    151\u001b[0m     )\n\u001b[0;32m    152\u001b[0m snim0e \u001b[39m=\u001b[39m re\u001b[39m.\u001b[39msearch(\u001b[39mr\u001b[39m\u001b[39m\"\u001b[39m\u001b[39mSNlM0e\u001b[39m\u001b[39m\\\"\u001b[39;00m\u001b[39m:\u001b[39m\u001b[39m\\\"\u001b[39;00m\u001b[39m(.*?)\u001b[39m\u001b[39m\\\"\u001b[39;00m\u001b[39m\"\u001b[39m, resp\u001b[39m.\u001b[39mtext)\n\u001b[0;32m    153\u001b[0m \u001b[39mif\u001b[39;00m \u001b[39mnot\u001b[39;00m snim0e:\n",
      "\u001b[1;31mException\u001b[0m: Response status code is not 200. Response Status is 429"
     ]
    }
   ],
   "source": [
    "bard = Bard()\n",
    "response = bard.get_answer(\"자연어 처리란 무엇일까?\")"
   ]
  },
  {
   "cell_type": "code",
   "execution_count": null,
   "metadata": {},
   "outputs": [],
   "source": []
  }
 ],
 "metadata": {
  "kernelspec": {
   "display_name": "base",
   "language": "python",
   "name": "python3"
  },
  "language_info": {
   "codemirror_mode": {
    "name": "ipython",
    "version": 3
   },
   "file_extension": ".py",
   "mimetype": "text/x-python",
   "name": "python",
   "nbconvert_exporter": "python",
   "pygments_lexer": "ipython3",
   "version": "3.9.18"
  },
  "orig_nbformat": 4
 },
 "nbformat": 4,
 "nbformat_minor": 2
}
