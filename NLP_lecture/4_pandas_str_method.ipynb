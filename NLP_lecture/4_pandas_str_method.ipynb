{
 "cells": [
  {
   "cell_type": "markdown",
   "metadata": {},
   "source": [
    "## 판다스를 이용한 문자 다루기\n",
    "\n",
    "* 테스트 데이터\n",
    "  * 우편번호 데이터 \n",
    "  * 네이버 평점 데이터 "
   ]
  },
  {
   "cell_type": "code",
   "execution_count": 1,
   "metadata": {},
   "outputs": [],
   "source": [
    "import pandas as pd"
   ]
  },
  {
   "cell_type": "code",
   "execution_count": 2,
   "metadata": {},
   "outputs": [
    {
     "name": "stderr",
     "output_type": "stream",
     "text": [
      "C:\\Users\\user\\AppData\\Local\\Temp\\ipykernel_14640\\4181035106.py:1: DtypeWarning: Columns (5,6,18) have mixed types. Specify dtype option on import or set low_memory=False.\n",
      "  data = pd.read_csv('./data/경기도.txt', sep='|')\n"
     ]
    }
   ],
   "source": [
    "data = pd.read_csv('./data/경기도.txt', sep='|')"
   ]
  },
  {
   "cell_type": "code",
   "execution_count": 3,
   "metadata": {},
   "outputs": [
    {
     "name": "stdout",
     "output_type": "stream",
     "text": [
      "<class 'pandas.core.frame.DataFrame'>\n",
      "RangeIndex: 1020769 entries, 0 to 1020768\n",
      "Data columns (total 26 columns):\n",
      " #   Column    Non-Null Count    Dtype  \n",
      "---  ------    --------------    -----  \n",
      " 0   우편번호      1020769 non-null  int64  \n",
      " 1   시도        1020769 non-null  object \n",
      " 2   시도영문      1020769 non-null  object \n",
      " 3   시군구       1020769 non-null  object \n",
      " 4   시군구영문     1020769 non-null  object \n",
      " 5   읍면        503815 non-null   object \n",
      " 6   읍면영문      503815 non-null   object \n",
      " 7   도로명코드     1020769 non-null  int64  \n",
      " 8   도로명       1020769 non-null  object \n",
      " 9   도로명영문     1020769 non-null  object \n",
      " 10  지하여부      1020769 non-null  int64  \n",
      " 11  건물번호본번    1020769 non-null  int64  \n",
      " 12  건물번호부번    1020769 non-null  int64  \n",
      " 13  건물관리번호    1020769 non-null  object \n",
      " 14  다량배달처명    0 non-null        float64\n",
      " 15  시군구용건물명   136610 non-null   object \n",
      " 16  법정동코드     1020769 non-null  int64  \n",
      " 17  법정동명      516954 non-null   object \n",
      " 18  리명        503815 non-null   object \n",
      " 19  행정동명      966845 non-null   object \n",
      " 20  산여부       1020769 non-null  int64  \n",
      " 21  지번본번      1020769 non-null  int64  \n",
      " 22  읍면동일련번호   1020769 non-null  int64  \n",
      " 23  지번부번      1020769 non-null  int64  \n",
      " 24  구우편번호     0 non-null        float64\n",
      " 25  우편번호일련번호  0 non-null        float64\n",
      "dtypes: float64(3), int64(10), object(13)\n",
      "memory usage: 202.5+ MB\n"
     ]
    }
   ],
   "source": [
    "data.info()"
   ]
  },
  {
   "cell_type": "code",
   "execution_count": 4,
   "metadata": {},
   "outputs": [
    {
     "data": {
      "text/html": [
       "<div>\n",
       "<style scoped>\n",
       "    .dataframe tbody tr th:only-of-type {\n",
       "        vertical-align: middle;\n",
       "    }\n",
       "\n",
       "    .dataframe tbody tr th {\n",
       "        vertical-align: top;\n",
       "    }\n",
       "\n",
       "    .dataframe thead th {\n",
       "        text-align: right;\n",
       "    }\n",
       "</style>\n",
       "<table border=\"1\" class=\"dataframe\">\n",
       "  <thead>\n",
       "    <tr style=\"text-align: right;\">\n",
       "      <th></th>\n",
       "      <th>우편번호</th>\n",
       "      <th>시도</th>\n",
       "      <th>시도영문</th>\n",
       "      <th>시군구</th>\n",
       "      <th>시군구영문</th>\n",
       "      <th>읍면</th>\n",
       "      <th>읍면영문</th>\n",
       "      <th>도로명코드</th>\n",
       "      <th>도로명</th>\n",
       "      <th>도로명영문</th>\n",
       "      <th>...</th>\n",
       "      <th>법정동코드</th>\n",
       "      <th>법정동명</th>\n",
       "      <th>리명</th>\n",
       "      <th>행정동명</th>\n",
       "      <th>산여부</th>\n",
       "      <th>지번본번</th>\n",
       "      <th>읍면동일련번호</th>\n",
       "      <th>지번부번</th>\n",
       "      <th>구우편번호</th>\n",
       "      <th>우편번호일련번호</th>\n",
       "    </tr>\n",
       "  </thead>\n",
       "  <tbody>\n",
       "    <tr>\n",
       "      <th>0</th>\n",
       "      <td>12410</td>\n",
       "      <td>경기도</td>\n",
       "      <td>Gyeonggi-do</td>\n",
       "      <td>가평군</td>\n",
       "      <td>Gapyeong-gun</td>\n",
       "      <td>가평읍</td>\n",
       "      <td>Gapyeong-eup</td>\n",
       "      <td>418204448035</td>\n",
       "      <td>능모루길</td>\n",
       "      <td>Neungmoru-gil</td>\n",
       "      <td>...</td>\n",
       "      <td>4182025030</td>\n",
       "      <td>NaN</td>\n",
       "      <td>개곡리</td>\n",
       "      <td>가평읍</td>\n",
       "      <td>0</td>\n",
       "      <td>1111</td>\n",
       "      <td>1</td>\n",
       "      <td>8</td>\n",
       "      <td>NaN</td>\n",
       "      <td>NaN</td>\n",
       "    </tr>\n",
       "    <tr>\n",
       "      <th>1</th>\n",
       "      <td>12410</td>\n",
       "      <td>경기도</td>\n",
       "      <td>Gyeonggi-do</td>\n",
       "      <td>가평군</td>\n",
       "      <td>Gapyeong-gun</td>\n",
       "      <td>가평읍</td>\n",
       "      <td>Gapyeong-eup</td>\n",
       "      <td>418204448042</td>\n",
       "      <td>당목가일길</td>\n",
       "      <td>Dangmokgail-gil</td>\n",
       "      <td>...</td>\n",
       "      <td>4182025030</td>\n",
       "      <td>NaN</td>\n",
       "      <td>개곡리</td>\n",
       "      <td>가평읍</td>\n",
       "      <td>0</td>\n",
       "      <td>604</td>\n",
       "      <td>1</td>\n",
       "      <td>5</td>\n",
       "      <td>NaN</td>\n",
       "      <td>NaN</td>\n",
       "    </tr>\n",
       "    <tr>\n",
       "      <th>2</th>\n",
       "      <td>12410</td>\n",
       "      <td>경기도</td>\n",
       "      <td>Gyeonggi-do</td>\n",
       "      <td>가평군</td>\n",
       "      <td>Gapyeong-gun</td>\n",
       "      <td>가평읍</td>\n",
       "      <td>Gapyeong-eup</td>\n",
       "      <td>418204448042</td>\n",
       "      <td>당목가일길</td>\n",
       "      <td>Dangmokgail-gil</td>\n",
       "      <td>...</td>\n",
       "      <td>4182025030</td>\n",
       "      <td>NaN</td>\n",
       "      <td>개곡리</td>\n",
       "      <td>가평읍</td>\n",
       "      <td>0</td>\n",
       "      <td>380</td>\n",
       "      <td>1</td>\n",
       "      <td>6</td>\n",
       "      <td>NaN</td>\n",
       "      <td>NaN</td>\n",
       "    </tr>\n",
       "    <tr>\n",
       "      <th>3</th>\n",
       "      <td>12410</td>\n",
       "      <td>경기도</td>\n",
       "      <td>Gyeonggi-do</td>\n",
       "      <td>가평군</td>\n",
       "      <td>Gapyeong-gun</td>\n",
       "      <td>가평읍</td>\n",
       "      <td>Gapyeong-eup</td>\n",
       "      <td>418204448042</td>\n",
       "      <td>당목가일길</td>\n",
       "      <td>Dangmokgail-gil</td>\n",
       "      <td>...</td>\n",
       "      <td>4182025030</td>\n",
       "      <td>NaN</td>\n",
       "      <td>개곡리</td>\n",
       "      <td>가평읍</td>\n",
       "      <td>0</td>\n",
       "      <td>836</td>\n",
       "      <td>1</td>\n",
       "      <td>3</td>\n",
       "      <td>NaN</td>\n",
       "      <td>NaN</td>\n",
       "    </tr>\n",
       "    <tr>\n",
       "      <th>4</th>\n",
       "      <td>12410</td>\n",
       "      <td>경기도</td>\n",
       "      <td>Gyeonggi-do</td>\n",
       "      <td>가평군</td>\n",
       "      <td>Gapyeong-gun</td>\n",
       "      <td>가평읍</td>\n",
       "      <td>Gapyeong-eup</td>\n",
       "      <td>418204448042</td>\n",
       "      <td>당목가일길</td>\n",
       "      <td>Dangmokgail-gil</td>\n",
       "      <td>...</td>\n",
       "      <td>4182025030</td>\n",
       "      <td>NaN</td>\n",
       "      <td>개곡리</td>\n",
       "      <td>가평읍</td>\n",
       "      <td>0</td>\n",
       "      <td>186</td>\n",
       "      <td>1</td>\n",
       "      <td>0</td>\n",
       "      <td>NaN</td>\n",
       "      <td>NaN</td>\n",
       "    </tr>\n",
       "  </tbody>\n",
       "</table>\n",
       "<p>5 rows × 26 columns</p>\n",
       "</div>"
      ],
      "text/plain": [
       "    우편번호   시도         시도영문  시군구         시군구영문   읍면          읍면영문  \\\n",
       "0  12410  경기도  Gyeonggi-do  가평군  Gapyeong-gun  가평읍  Gapyeong-eup   \n",
       "1  12410  경기도  Gyeonggi-do  가평군  Gapyeong-gun  가평읍  Gapyeong-eup   \n",
       "2  12410  경기도  Gyeonggi-do  가평군  Gapyeong-gun  가평읍  Gapyeong-eup   \n",
       "3  12410  경기도  Gyeonggi-do  가평군  Gapyeong-gun  가평읍  Gapyeong-eup   \n",
       "4  12410  경기도  Gyeonggi-do  가평군  Gapyeong-gun  가평읍  Gapyeong-eup   \n",
       "\n",
       "          도로명코드    도로명            도로명영문  ...       법정동코드  법정동명   리명 행정동명  산여부  \\\n",
       "0  418204448035   능모루길    Neungmoru-gil  ...  4182025030   NaN  개곡리  가평읍    0   \n",
       "1  418204448042  당목가일길  Dangmokgail-gil  ...  4182025030   NaN  개곡리  가평읍    0   \n",
       "2  418204448042  당목가일길  Dangmokgail-gil  ...  4182025030   NaN  개곡리  가평읍    0   \n",
       "3  418204448042  당목가일길  Dangmokgail-gil  ...  4182025030   NaN  개곡리  가평읍    0   \n",
       "4  418204448042  당목가일길  Dangmokgail-gil  ...  4182025030   NaN  개곡리  가평읍    0   \n",
       "\n",
       "   지번본번  읍면동일련번호 지번부번 구우편번호 우편번호일련번호  \n",
       "0  1111        1    8   NaN      NaN  \n",
       "1   604        1    5   NaN      NaN  \n",
       "2   380        1    6   NaN      NaN  \n",
       "3   836        1    3   NaN      NaN  \n",
       "4   186        1    0   NaN      NaN  \n",
       "\n",
       "[5 rows x 26 columns]"
      ]
     },
     "execution_count": 4,
     "metadata": {},
     "output_type": "execute_result"
    }
   ],
   "source": [
    "data.head()"
   ]
  },
  {
   "cell_type": "code",
   "execution_count": 5,
   "metadata": {},
   "outputs": [
    {
     "data": {
      "text/plain": [
       "우편번호                            12410\n",
       "시도                                경기도\n",
       "시도영문                      Gyeonggi-do\n",
       "시군구                               가평군\n",
       "시군구영문                    Gapyeong-gun\n",
       "읍면                                가평읍\n",
       "읍면영문                     Gapyeong-eup\n",
       "도로명코드                    418204448035\n",
       "도로명                              능모루길\n",
       "도로명영문                   Neungmoru-gil\n",
       "지하여부                                0\n",
       "건물번호본번                             58\n",
       "건물번호부번                             59\n",
       "건물관리번호      4182025030111110008000001\n",
       "다량배달처명                            NaN\n",
       "시군구용건물명                           NaN\n",
       "법정동코드                      4182025030\n",
       "법정동명                              NaN\n",
       "리명                                개곡리\n",
       "행정동명                              가평읍\n",
       "산여부                                 0\n",
       "지번본번                             1111\n",
       "읍면동일련번호                             1\n",
       "지번부번                                8\n",
       "구우편번호                             NaN\n",
       "우편번호일련번호                          NaN\n",
       "Name: 0, dtype: object"
      ]
     },
     "execution_count": 5,
     "metadata": {},
     "output_type": "execute_result"
    }
   ],
   "source": [
    "data.iloc[0]"
   ]
  },
  {
   "cell_type": "markdown",
   "metadata": {},
   "source": [
    "## 인덱싱 사용하기\n",
    "\n",
    "* 시군구 확인하기"
   ]
  },
  {
   "cell_type": "code",
   "execution_count": 6,
   "metadata": {},
   "outputs": [],
   "source": [
    "data['시군구_구분'] = data['시군구'].str[-1]"
   ]
  },
  {
   "cell_type": "code",
   "execution_count": 7,
   "metadata": {},
   "outputs": [
    {
     "data": {
      "text/plain": [
       "0    군\n",
       "1    군\n",
       "2    군\n",
       "3    군\n",
       "4    군\n",
       "Name: 시군구_구분, dtype: object"
      ]
     },
     "execution_count": 7,
     "metadata": {},
     "output_type": "execute_result"
    }
   ],
   "source": [
    "data['시군구_구분'].head()"
   ]
  },
  {
   "cell_type": "code",
   "execution_count": 8,
   "metadata": {},
   "outputs": [
    {
     "data": {
      "text/html": [
       "<div>\n",
       "<style scoped>\n",
       "    .dataframe tbody tr th:only-of-type {\n",
       "        vertical-align: middle;\n",
       "    }\n",
       "\n",
       "    .dataframe tbody tr th {\n",
       "        vertical-align: top;\n",
       "    }\n",
       "\n",
       "    .dataframe thead th {\n",
       "        text-align: right;\n",
       "    }\n",
       "</style>\n",
       "<table border=\"1\" class=\"dataframe\">\n",
       "  <thead>\n",
       "    <tr style=\"text-align: right;\">\n",
       "      <th></th>\n",
       "      <th>우편번호</th>\n",
       "      <th>시도</th>\n",
       "      <th>시도영문</th>\n",
       "      <th>시군구</th>\n",
       "      <th>시군구영문</th>\n",
       "      <th>읍면</th>\n",
       "      <th>읍면영문</th>\n",
       "      <th>도로명코드</th>\n",
       "      <th>도로명</th>\n",
       "      <th>도로명영문</th>\n",
       "      <th>...</th>\n",
       "      <th>법정동코드</th>\n",
       "      <th>법정동명</th>\n",
       "      <th>리명</th>\n",
       "      <th>행정동명</th>\n",
       "      <th>산여부</th>\n",
       "      <th>지번본번</th>\n",
       "      <th>읍면동일련번호</th>\n",
       "      <th>지번부번</th>\n",
       "      <th>구우편번호</th>\n",
       "      <th>우편번호일련번호</th>\n",
       "    </tr>\n",
       "    <tr>\n",
       "      <th>시군구_구분</th>\n",
       "      <th></th>\n",
       "      <th></th>\n",
       "      <th></th>\n",
       "      <th></th>\n",
       "      <th></th>\n",
       "      <th></th>\n",
       "      <th></th>\n",
       "      <th></th>\n",
       "      <th></th>\n",
       "      <th></th>\n",
       "      <th></th>\n",
       "      <th></th>\n",
       "      <th></th>\n",
       "      <th></th>\n",
       "      <th></th>\n",
       "      <th></th>\n",
       "      <th></th>\n",
       "      <th></th>\n",
       "      <th></th>\n",
       "      <th></th>\n",
       "      <th></th>\n",
       "    </tr>\n",
       "  </thead>\n",
       "  <tbody>\n",
       "    <tr>\n",
       "      <th>구</th>\n",
       "      <td>261171</td>\n",
       "      <td>261171</td>\n",
       "      <td>261171</td>\n",
       "      <td>261171</td>\n",
       "      <td>261171</td>\n",
       "      <td>31882</td>\n",
       "      <td>31882</td>\n",
       "      <td>261171</td>\n",
       "      <td>261171</td>\n",
       "      <td>261171</td>\n",
       "      <td>...</td>\n",
       "      <td>261171</td>\n",
       "      <td>229289</td>\n",
       "      <td>31882</td>\n",
       "      <td>241678</td>\n",
       "      <td>261171</td>\n",
       "      <td>261171</td>\n",
       "      <td>261171</td>\n",
       "      <td>261171</td>\n",
       "      <td>0</td>\n",
       "      <td>0</td>\n",
       "    </tr>\n",
       "    <tr>\n",
       "      <th>군</th>\n",
       "      <td>92703</td>\n",
       "      <td>92703</td>\n",
       "      <td>92703</td>\n",
       "      <td>92703</td>\n",
       "      <td>92703</td>\n",
       "      <td>92703</td>\n",
       "      <td>92703</td>\n",
       "      <td>92703</td>\n",
       "      <td>92703</td>\n",
       "      <td>92703</td>\n",
       "      <td>...</td>\n",
       "      <td>92703</td>\n",
       "      <td>0</td>\n",
       "      <td>92703</td>\n",
       "      <td>88758</td>\n",
       "      <td>92703</td>\n",
       "      <td>92703</td>\n",
       "      <td>92703</td>\n",
       "      <td>92703</td>\n",
       "      <td>0</td>\n",
       "      <td>0</td>\n",
       "    </tr>\n",
       "    <tr>\n",
       "      <th>시</th>\n",
       "      <td>666895</td>\n",
       "      <td>666895</td>\n",
       "      <td>666895</td>\n",
       "      <td>666895</td>\n",
       "      <td>666895</td>\n",
       "      <td>379230</td>\n",
       "      <td>379230</td>\n",
       "      <td>666895</td>\n",
       "      <td>666895</td>\n",
       "      <td>666895</td>\n",
       "      <td>...</td>\n",
       "      <td>666895</td>\n",
       "      <td>287665</td>\n",
       "      <td>379230</td>\n",
       "      <td>636409</td>\n",
       "      <td>666895</td>\n",
       "      <td>666895</td>\n",
       "      <td>666895</td>\n",
       "      <td>666895</td>\n",
       "      <td>0</td>\n",
       "      <td>0</td>\n",
       "    </tr>\n",
       "  </tbody>\n",
       "</table>\n",
       "<p>3 rows × 26 columns</p>\n",
       "</div>"
      ],
      "text/plain": [
       "          우편번호      시도    시도영문     시군구   시군구영문      읍면    읍면영문   도로명코드  \\\n",
       "시군구_구분                                                                   \n",
       "구       261171  261171  261171  261171  261171   31882   31882  261171   \n",
       "군        92703   92703   92703   92703   92703   92703   92703   92703   \n",
       "시       666895  666895  666895  666895  666895  379230  379230  666895   \n",
       "\n",
       "           도로명   도로명영문  ...   법정동코드    법정동명      리명    행정동명     산여부    지번본번  \\\n",
       "시군구_구분                  ...                                                   \n",
       "구       261171  261171  ...  261171  229289   31882  241678  261171  261171   \n",
       "군        92703   92703  ...   92703       0   92703   88758   92703   92703   \n",
       "시       666895  666895  ...  666895  287665  379230  636409  666895  666895   \n",
       "\n",
       "        읍면동일련번호    지번부번  구우편번호  우편번호일련번호  \n",
       "시군구_구분                                    \n",
       "구        261171  261171      0         0  \n",
       "군         92703   92703      0         0  \n",
       "시        666895  666895      0         0  \n",
       "\n",
       "[3 rows x 26 columns]"
      ]
     },
     "execution_count": 8,
     "metadata": {},
     "output_type": "execute_result"
    }
   ],
   "source": [
    "data.groupby('시군구_구분').count()"
   ]
  },
  {
   "cell_type": "markdown",
   "metadata": {},
   "source": [
    "## 데이터 합치기"
   ]
  },
  {
   "cell_type": "code",
   "execution_count": 9,
   "metadata": {},
   "outputs": [
    {
     "data": {
      "text/plain": [
       "0    경기도_가평군\n",
       "1    경기도_가평군\n",
       "2    경기도_가평군\n",
       "3    경기도_가평군\n",
       "4    경기도_가평군\n",
       "Name: 시도_시군구, dtype: object"
      ]
     },
     "execution_count": 9,
     "metadata": {},
     "output_type": "execute_result"
    }
   ],
   "source": [
    "data['시도_시군구'] = data['시도'].str.cat(data['시군구'], sep='_')\n",
    "data['시도_시군구'].head()"
   ]
  },
  {
   "cell_type": "markdown",
   "metadata": {},
   "source": [
    "## 데이터 분리하기"
   ]
  },
  {
   "cell_type": "code",
   "execution_count": 10,
   "metadata": {},
   "outputs": [
    {
     "data": {
      "text/plain": [
       "0          [Gapyeong, gun]\n",
       "1          [Gapyeong, gun]\n",
       "2          [Gapyeong, gun]\n",
       "3          [Gapyeong, gun]\n",
       "4          [Gapyeong, gun]\n",
       "                ...       \n",
       "1020764     [Hwaseong, si]\n",
       "1020765     [Hwaseong, si]\n",
       "1020766     [Hwaseong, si]\n",
       "1020767     [Hwaseong, si]\n",
       "1020768     [Hwaseong, si]\n",
       "Name: 시군구영문, Length: 1020769, dtype: object"
      ]
     },
     "execution_count": 10,
     "metadata": {},
     "output_type": "execute_result"
    }
   ],
   "source": [
    "data['시군구영문'].str.split(\"-\")"
   ]
  },
  {
   "cell_type": "code",
   "execution_count": 11,
   "metadata": {},
   "outputs": [
    {
     "data": {
      "text/html": [
       "<div>\n",
       "<style scoped>\n",
       "    .dataframe tbody tr th:only-of-type {\n",
       "        vertical-align: middle;\n",
       "    }\n",
       "\n",
       "    .dataframe tbody tr th {\n",
       "        vertical-align: top;\n",
       "    }\n",
       "\n",
       "    .dataframe thead th {\n",
       "        text-align: right;\n",
       "    }\n",
       "</style>\n",
       "<table border=\"1\" class=\"dataframe\">\n",
       "  <thead>\n",
       "    <tr style=\"text-align: right;\">\n",
       "      <th></th>\n",
       "      <th>0</th>\n",
       "      <th>1</th>\n",
       "      <th>2</th>\n",
       "    </tr>\n",
       "  </thead>\n",
       "  <tbody>\n",
       "    <tr>\n",
       "      <th>0</th>\n",
       "      <td>Gapyeong</td>\n",
       "      <td>gun</td>\n",
       "      <td>None</td>\n",
       "    </tr>\n",
       "    <tr>\n",
       "      <th>1</th>\n",
       "      <td>Gapyeong</td>\n",
       "      <td>gun</td>\n",
       "      <td>None</td>\n",
       "    </tr>\n",
       "    <tr>\n",
       "      <th>2</th>\n",
       "      <td>Gapyeong</td>\n",
       "      <td>gun</td>\n",
       "      <td>None</td>\n",
       "    </tr>\n",
       "    <tr>\n",
       "      <th>3</th>\n",
       "      <td>Gapyeong</td>\n",
       "      <td>gun</td>\n",
       "      <td>None</td>\n",
       "    </tr>\n",
       "    <tr>\n",
       "      <th>4</th>\n",
       "      <td>Gapyeong</td>\n",
       "      <td>gun</td>\n",
       "      <td>None</td>\n",
       "    </tr>\n",
       "    <tr>\n",
       "      <th>...</th>\n",
       "      <td>...</td>\n",
       "      <td>...</td>\n",
       "      <td>...</td>\n",
       "    </tr>\n",
       "    <tr>\n",
       "      <th>1020764</th>\n",
       "      <td>Hwaseong</td>\n",
       "      <td>si</td>\n",
       "      <td>None</td>\n",
       "    </tr>\n",
       "    <tr>\n",
       "      <th>1020765</th>\n",
       "      <td>Hwaseong</td>\n",
       "      <td>si</td>\n",
       "      <td>None</td>\n",
       "    </tr>\n",
       "    <tr>\n",
       "      <th>1020766</th>\n",
       "      <td>Hwaseong</td>\n",
       "      <td>si</td>\n",
       "      <td>None</td>\n",
       "    </tr>\n",
       "    <tr>\n",
       "      <th>1020767</th>\n",
       "      <td>Hwaseong</td>\n",
       "      <td>si</td>\n",
       "      <td>None</td>\n",
       "    </tr>\n",
       "    <tr>\n",
       "      <th>1020768</th>\n",
       "      <td>Hwaseong</td>\n",
       "      <td>si</td>\n",
       "      <td>None</td>\n",
       "    </tr>\n",
       "  </tbody>\n",
       "</table>\n",
       "<p>1020769 rows × 3 columns</p>\n",
       "</div>"
      ],
      "text/plain": [
       "                0    1     2\n",
       "0        Gapyeong  gun  None\n",
       "1        Gapyeong  gun  None\n",
       "2        Gapyeong  gun  None\n",
       "3        Gapyeong  gun  None\n",
       "4        Gapyeong  gun  None\n",
       "...           ...  ...   ...\n",
       "1020764  Hwaseong   si  None\n",
       "1020765  Hwaseong   si  None\n",
       "1020766  Hwaseong   si  None\n",
       "1020767  Hwaseong   si  None\n",
       "1020768  Hwaseong   si  None\n",
       "\n",
       "[1020769 rows x 3 columns]"
      ]
     },
     "execution_count": 11,
     "metadata": {},
     "output_type": "execute_result"
    }
   ],
   "source": [
    "data['시군구영문'].str.split(\"-\", expand=True)"
   ]
  },
  {
   "cell_type": "code",
   "execution_count": 13,
   "metadata": {},
   "outputs": [],
   "source": [
    "data['시군구영문_선택'] = data['시군구영문'].str.split(\"-\", expand=True)[0]"
   ]
  },
  {
   "cell_type": "code",
   "execution_count": 14,
   "metadata": {},
   "outputs": [
    {
     "data": {
      "text/plain": [
       "0          Gapyeong\n",
       "1          Gapyeong\n",
       "2          Gapyeong\n",
       "3          Gapyeong\n",
       "4          Gapyeong\n",
       "             ...   \n",
       "1020764    Hwaseong\n",
       "1020765    Hwaseong\n",
       "1020766    Hwaseong\n",
       "1020767    Hwaseong\n",
       "1020768    Hwaseong\n",
       "Name: 시군구영문_선택, Length: 1020769, dtype: object"
      ]
     },
     "execution_count": 14,
     "metadata": {},
     "output_type": "execute_result"
    }
   ],
   "source": [
    "data['시군구영문_선택']"
   ]
  },
  {
   "cell_type": "markdown",
   "metadata": {},
   "source": [
    "## 시작글자 인식"
   ]
  },
  {
   "cell_type": "code",
   "execution_count": 15,
   "metadata": {},
   "outputs": [
    {
     "data": {
      "text/plain": [
       "0           True\n",
       "1           True\n",
       "2           True\n",
       "3           True\n",
       "4           True\n",
       "           ...  \n",
       "1020764    False\n",
       "1020765    False\n",
       "1020766    False\n",
       "1020767    False\n",
       "1020768    False\n",
       "Name: 시군구, Length: 1020769, dtype: bool"
      ]
     },
     "execution_count": 15,
     "metadata": {},
     "output_type": "execute_result"
    }
   ],
   "source": [
    "tmp_series = data['시군구'].str.startswith(\"가\")\n",
    "tmp_series"
   ]
  },
  {
   "cell_type": "code",
   "execution_count": 16,
   "metadata": {},
   "outputs": [
    {
     "data": {
      "text/plain": [
       "25872"
      ]
     },
     "execution_count": 16,
     "metadata": {},
     "output_type": "execute_result"
    }
   ],
   "source": [
    "tmp_series.sum()"
   ]
  },
  {
   "cell_type": "markdown",
   "metadata": {},
   "source": [
    "## 끝글자 인식"
   ]
  },
  {
   "cell_type": "code",
   "execution_count": 17,
   "metadata": {},
   "outputs": [
    {
     "data": {
      "text/plain": [
       "666895"
      ]
     },
     "execution_count": 17,
     "metadata": {},
     "output_type": "execute_result"
    }
   ],
   "source": [
    "tmp_series = data['시군구'].str.endswith(\"시\")\n",
    "tmp_series.sum()"
   ]
  },
  {
   "cell_type": "markdown",
   "metadata": {},
   "source": [
    "## 네이버 평점 데이터"
   ]
  },
  {
   "cell_type": "code",
   "execution_count": 18,
   "metadata": {},
   "outputs": [],
   "source": [
    "train_data = pd.read_csv('https://raw.githubusercontent.com/e9t/nsmc/master/ratings_train.txt', sep='\\t', encoding='utf-8')"
   ]
  },
  {
   "cell_type": "code",
   "execution_count": 19,
   "metadata": {},
   "outputs": [
    {
     "name": "stdout",
     "output_type": "stream",
     "text": [
      "<class 'pandas.core.frame.DataFrame'>\n",
      "RangeIndex: 150000 entries, 0 to 149999\n",
      "Data columns (total 3 columns):\n",
      " #   Column    Non-Null Count   Dtype \n",
      "---  ------    --------------   ----- \n",
      " 0   id        150000 non-null  int64 \n",
      " 1   document  149995 non-null  object\n",
      " 2   label     150000 non-null  int64 \n",
      "dtypes: int64(2), object(1)\n",
      "memory usage: 3.4+ MB\n"
     ]
    }
   ],
   "source": [
    "train_data.info()"
   ]
  },
  {
   "cell_type": "code",
   "execution_count": 20,
   "metadata": {},
   "outputs": [
    {
     "data": {
      "text/html": [
       "<div>\n",
       "<style scoped>\n",
       "    .dataframe tbody tr th:only-of-type {\n",
       "        vertical-align: middle;\n",
       "    }\n",
       "\n",
       "    .dataframe tbody tr th {\n",
       "        vertical-align: top;\n",
       "    }\n",
       "\n",
       "    .dataframe thead th {\n",
       "        text-align: right;\n",
       "    }\n",
       "</style>\n",
       "<table border=\"1\" class=\"dataframe\">\n",
       "  <thead>\n",
       "    <tr style=\"text-align: right;\">\n",
       "      <th></th>\n",
       "      <th>id</th>\n",
       "      <th>document</th>\n",
       "      <th>label</th>\n",
       "    </tr>\n",
       "  </thead>\n",
       "  <tbody>\n",
       "    <tr>\n",
       "      <th>0</th>\n",
       "      <td>9976970</td>\n",
       "      <td>아 더빙.. 진짜 짜증나네요 목소리</td>\n",
       "      <td>0</td>\n",
       "    </tr>\n",
       "    <tr>\n",
       "      <th>1</th>\n",
       "      <td>3819312</td>\n",
       "      <td>흠...포스터보고 초딩영화줄....오버연기조차 가볍지 않구나</td>\n",
       "      <td>1</td>\n",
       "    </tr>\n",
       "    <tr>\n",
       "      <th>2</th>\n",
       "      <td>10265843</td>\n",
       "      <td>너무재밓었다그래서보는것을추천한다</td>\n",
       "      <td>0</td>\n",
       "    </tr>\n",
       "    <tr>\n",
       "      <th>3</th>\n",
       "      <td>9045019</td>\n",
       "      <td>교도소 이야기구먼 ..솔직히 재미는 없다..평점 조정</td>\n",
       "      <td>0</td>\n",
       "    </tr>\n",
       "    <tr>\n",
       "      <th>4</th>\n",
       "      <td>6483659</td>\n",
       "      <td>사이몬페그의 익살스런 연기가 돋보였던 영화!스파이더맨에서 늙어보이기만 했던 커스틴 ...</td>\n",
       "      <td>1</td>\n",
       "    </tr>\n",
       "  </tbody>\n",
       "</table>\n",
       "</div>"
      ],
      "text/plain": [
       "         id                                           document  label\n",
       "0   9976970                                아 더빙.. 진짜 짜증나네요 목소리      0\n",
       "1   3819312                  흠...포스터보고 초딩영화줄....오버연기조차 가볍지 않구나      1\n",
       "2  10265843                                  너무재밓었다그래서보는것을추천한다      0\n",
       "3   9045019                      교도소 이야기구먼 ..솔직히 재미는 없다..평점 조정      0\n",
       "4   6483659  사이몬페그의 익살스런 연기가 돋보였던 영화!스파이더맨에서 늙어보이기만 했던 커스틴 ...      1"
      ]
     },
     "execution_count": 20,
     "metadata": {},
     "output_type": "execute_result"
    }
   ],
   "source": [
    "train_data.head()"
   ]
  },
  {
   "cell_type": "markdown",
   "metadata": {},
   "source": [
    "## 공백제거"
   ]
  },
  {
   "cell_type": "code",
   "execution_count": 21,
   "metadata": {},
   "outputs": [],
   "source": [
    "train_data['document'] = train_data['document'].str.strip()"
   ]
  },
  {
   "cell_type": "markdown",
   "metadata": {},
   "source": [
    "## 단어 포함 확인"
   ]
  },
  {
   "cell_type": "code",
   "execution_count": 22,
   "metadata": {},
   "outputs": [
    {
     "data": {
      "text/plain": [
       "0         False\n",
       "1         False\n",
       "2          True\n",
       "3         False\n",
       "4         False\n",
       "          ...  \n",
       "149995    False\n",
       "149996    False\n",
       "149997    False\n",
       "149998    False\n",
       "149999    False\n",
       "Name: document, Length: 150000, dtype: object"
      ]
     },
     "execution_count": 22,
     "metadata": {},
     "output_type": "execute_result"
    }
   ],
   "source": [
    "tmp_series = train_data['document'].str.contains('추천')\n",
    "tmp_series"
   ]
  },
  {
   "cell_type": "code",
   "execution_count": 23,
   "metadata": {},
   "outputs": [
    {
     "data": {
      "text/plain": [
       "1158"
      ]
     },
     "execution_count": 23,
     "metadata": {},
     "output_type": "execute_result"
    }
   ],
   "source": [
    "tmp_series.sum()"
   ]
  },
  {
   "cell_type": "code",
   "execution_count": 24,
   "metadata": {},
   "outputs": [
    {
     "data": {
      "text/plain": [
       "36"
      ]
     },
     "execution_count": 24,
     "metadata": {},
     "output_type": "execute_result"
    }
   ],
   "source": [
    "tmp_series = train_data['document'].str.contains('비추천')\n",
    "tmp_series.sum()"
   ]
  },
  {
   "cell_type": "code",
   "execution_count": 25,
   "metadata": {},
   "outputs": [
    {
     "data": {
      "text/plain": [
       "879"
      ]
     },
     "execution_count": 25,
     "metadata": {},
     "output_type": "execute_result"
    }
   ],
   "source": [
    "tmp_series = train_data['document'].str.contains(' 추천')\n",
    "tmp_series.sum()"
   ]
  },
  {
   "cell_type": "markdown",
   "metadata": {},
   "source": [
    "## 문자 사용된 횟수 확인"
   ]
  },
  {
   "cell_type": "code",
   "execution_count": 26,
   "metadata": {},
   "outputs": [
    {
     "data": {
      "text/plain": [
       "0         0.0\n",
       "1         0.0\n",
       "2         1.0\n",
       "3         0.0\n",
       "4         0.0\n",
       "         ... \n",
       "149995    0.0\n",
       "149996    0.0\n",
       "149997    0.0\n",
       "149998    0.0\n",
       "149999    0.0\n",
       "Name: document, Length: 150000, dtype: float64"
      ]
     },
     "execution_count": 26,
     "metadata": {},
     "output_type": "execute_result"
    }
   ],
   "source": [
    "tmp_series = train_data['document'].str.count('추천')\n",
    "tmp_series"
   ]
  },
  {
   "cell_type": "code",
   "execution_count": 27,
   "metadata": {},
   "outputs": [
    {
     "data": {
      "text/plain": [
       "(0.0, 2.0)"
      ]
     },
     "execution_count": 27,
     "metadata": {},
     "output_type": "execute_result"
    }
   ],
   "source": [
    "tmp_series.min() , tmp_series.max()"
   ]
  },
  {
   "cell_type": "markdown",
   "metadata": {},
   "source": [
    "## 형변환 후 길이 확인"
   ]
  },
  {
   "cell_type": "code",
   "execution_count": 28,
   "metadata": {},
   "outputs": [
    {
     "name": "stdout",
     "output_type": "stream",
     "text": [
      "<class 'pandas.core.frame.DataFrame'>\n",
      "RangeIndex: 150000 entries, 0 to 149999\n",
      "Data columns (total 3 columns):\n",
      " #   Column    Non-Null Count   Dtype \n",
      "---  ------    --------------   ----- \n",
      " 0   id        150000 non-null  object\n",
      " 1   document  149995 non-null  object\n",
      " 2   label     150000 non-null  int64 \n",
      "dtypes: int64(1), object(2)\n",
      "memory usage: 3.4+ MB\n"
     ]
    }
   ],
   "source": [
    "train_data['id'] = train_data['id'].astype('str')\n",
    "train_data.info()"
   ]
  },
  {
   "cell_type": "code",
   "execution_count": 29,
   "metadata": {},
   "outputs": [
    {
     "data": {
      "text/plain": [
       "0         7\n",
       "1         7\n",
       "2         8\n",
       "3         7\n",
       "4         7\n",
       "         ..\n",
       "149995    7\n",
       "149996    7\n",
       "149997    7\n",
       "149998    7\n",
       "149999    7\n",
       "Name: id_len, Length: 150000, dtype: int64"
      ]
     },
     "execution_count": 29,
     "metadata": {},
     "output_type": "execute_result"
    }
   ],
   "source": [
    "train_data['id_len'] = train_data['id'].str.len()\n",
    "train_data['id_len']"
   ]
  },
  {
   "cell_type": "code",
   "execution_count": 30,
   "metadata": {},
   "outputs": [
    {
     "data": {
      "text/plain": [
       "(2, 8)"
      ]
     },
     "execution_count": 30,
     "metadata": {},
     "output_type": "execute_result"
    }
   ],
   "source": [
    "train_data['id_len'].min() , train_data['id_len'].max()"
   ]
  },
  {
   "cell_type": "markdown",
   "metadata": {},
   "source": [
    "## 문자열 패딩"
   ]
  },
  {
   "cell_type": "code",
   "execution_count": 31,
   "metadata": {},
   "outputs": [
    {
     "data": {
      "text/plain": [
       "0         09976970\n",
       "1         03819312\n",
       "2         10265843\n",
       "3         09045019\n",
       "4         06483659\n",
       "            ...   \n",
       "149995    06222902\n",
       "149996    08549745\n",
       "149997    09311800\n",
       "149998    02376369\n",
       "149999    09619869\n",
       "Name: id, Length: 150000, dtype: object"
      ]
     },
     "execution_count": 31,
     "metadata": {},
     "output_type": "execute_result"
    }
   ],
   "source": [
    "train_data['id'] = train_data['id'].str.pad(width=8, side='left', fillchar='0')\n",
    "train_data['id']"
   ]
  },
  {
   "cell_type": "markdown",
   "metadata": {},
   "source": [
    "## 정규표현식을 이용하여 데이터 찾기\n",
    "\n",
    "영어 데이터가 있는지 확인하기"
   ]
  },
  {
   "cell_type": "code",
   "execution_count": 32,
   "metadata": {},
   "outputs": [
    {
     "data": {
      "text/plain": [
       "0        -1.0\n",
       "1        -1.0\n",
       "2        -1.0\n",
       "3        -1.0\n",
       "4        -1.0\n",
       "         ... \n",
       "149995   -1.0\n",
       "149996   -1.0\n",
       "149997   -1.0\n",
       "149998   -1.0\n",
       "149999   -1.0\n",
       "Name: document, Length: 150000, dtype: float64"
      ]
     },
     "execution_count": 32,
     "metadata": {},
     "output_type": "execute_result"
    }
   ],
   "source": [
    "tmp_series = train_data['document'].str.find('([a-zA-Z]+)')\n",
    "tmp_series"
   ]
  },
  {
   "cell_type": "code",
   "execution_count": 33,
   "metadata": {},
   "outputs": [
    {
     "data": {
      "text/plain": [
       "-149995.0"
      ]
     },
     "execution_count": 33,
     "metadata": {},
     "output_type": "execute_result"
    }
   ],
   "source": [
    "tmp_series.sum()"
   ]
  },
  {
   "cell_type": "code",
   "execution_count": 34,
   "metadata": {},
   "outputs": [
    {
     "data": {
      "text/plain": [
       "0         []\n",
       "1         []\n",
       "2         []\n",
       "3         []\n",
       "4         []\n",
       "          ..\n",
       "149995    []\n",
       "149996    []\n",
       "149997    []\n",
       "149998    []\n",
       "149999    []\n",
       "Name: document, Length: 150000, dtype: object"
      ]
     },
     "execution_count": 34,
     "metadata": {},
     "output_type": "execute_result"
    }
   ],
   "source": [
    "tmp_series = train_data['document'].str.findall('[a-zA-Z]+')\n",
    "tmp_series"
   ]
  },
  {
   "cell_type": "code",
   "execution_count": 35,
   "metadata": {},
   "outputs": [
    {
     "data": {
      "text/html": [
       "<div>\n",
       "<style scoped>\n",
       "    .dataframe tbody tr th:only-of-type {\n",
       "        vertical-align: middle;\n",
       "    }\n",
       "\n",
       "    .dataframe tbody tr th {\n",
       "        vertical-align: top;\n",
       "    }\n",
       "\n",
       "    .dataframe thead th {\n",
       "        text-align: right;\n",
       "    }\n",
       "</style>\n",
       "<table border=\"1\" class=\"dataframe\">\n",
       "  <thead>\n",
       "    <tr style=\"text-align: right;\">\n",
       "      <th></th>\n",
       "      <th>0</th>\n",
       "    </tr>\n",
       "  </thead>\n",
       "  <tbody>\n",
       "    <tr>\n",
       "      <th>0</th>\n",
       "      <td>NaN</td>\n",
       "    </tr>\n",
       "    <tr>\n",
       "      <th>1</th>\n",
       "      <td>NaN</td>\n",
       "    </tr>\n",
       "    <tr>\n",
       "      <th>2</th>\n",
       "      <td>NaN</td>\n",
       "    </tr>\n",
       "    <tr>\n",
       "      <th>3</th>\n",
       "      <td>NaN</td>\n",
       "    </tr>\n",
       "    <tr>\n",
       "      <th>4</th>\n",
       "      <td>NaN</td>\n",
       "    </tr>\n",
       "    <tr>\n",
       "      <th>...</th>\n",
       "      <td>...</td>\n",
       "    </tr>\n",
       "    <tr>\n",
       "      <th>149995</th>\n",
       "      <td>NaN</td>\n",
       "    </tr>\n",
       "    <tr>\n",
       "      <th>149996</th>\n",
       "      <td>NaN</td>\n",
       "    </tr>\n",
       "    <tr>\n",
       "      <th>149997</th>\n",
       "      <td>NaN</td>\n",
       "    </tr>\n",
       "    <tr>\n",
       "      <th>149998</th>\n",
       "      <td>NaN</td>\n",
       "    </tr>\n",
       "    <tr>\n",
       "      <th>149999</th>\n",
       "      <td>NaN</td>\n",
       "    </tr>\n",
       "  </tbody>\n",
       "</table>\n",
       "<p>150000 rows × 1 columns</p>\n",
       "</div>"
      ],
      "text/plain": [
       "          0\n",
       "0       NaN\n",
       "1       NaN\n",
       "2       NaN\n",
       "3       NaN\n",
       "4       NaN\n",
       "...     ...\n",
       "149995  NaN\n",
       "149996  NaN\n",
       "149997  NaN\n",
       "149998  NaN\n",
       "149999  NaN\n",
       "\n",
       "[150000 rows x 1 columns]"
      ]
     },
     "execution_count": 35,
     "metadata": {},
     "output_type": "execute_result"
    }
   ],
   "source": [
    "tmp_series = train_data['document'].str.extract('([a-zA-Z]+)')\n",
    "tmp_series"
   ]
  },
  {
   "cell_type": "code",
   "execution_count": 36,
   "metadata": {},
   "outputs": [
    {
     "data": {
      "text/html": [
       "<div>\n",
       "<style scoped>\n",
       "    .dataframe tbody tr th:only-of-type {\n",
       "        vertical-align: middle;\n",
       "    }\n",
       "\n",
       "    .dataframe tbody tr th {\n",
       "        vertical-align: top;\n",
       "    }\n",
       "\n",
       "    .dataframe thead th {\n",
       "        text-align: right;\n",
       "    }\n",
       "</style>\n",
       "<table border=\"1\" class=\"dataframe\">\n",
       "  <thead>\n",
       "    <tr style=\"text-align: right;\">\n",
       "      <th></th>\n",
       "      <th>0</th>\n",
       "    </tr>\n",
       "  </thead>\n",
       "  <tbody>\n",
       "    <tr>\n",
       "      <th>26</th>\n",
       "      <td>kl</td>\n",
       "    </tr>\n",
       "    <tr>\n",
       "      <th>53</th>\n",
       "      <td>OO</td>\n",
       "    </tr>\n",
       "    <tr>\n",
       "      <th>69</th>\n",
       "      <td>mama</td>\n",
       "    </tr>\n",
       "    <tr>\n",
       "      <th>116</th>\n",
       "      <td>D</td>\n",
       "    </tr>\n",
       "    <tr>\n",
       "      <th>163</th>\n",
       "      <td>MBC</td>\n",
       "    </tr>\n",
       "    <tr>\n",
       "      <th>...</th>\n",
       "      <td>...</td>\n",
       "    </tr>\n",
       "    <tr>\n",
       "      <th>149949</th>\n",
       "      <td>OO</td>\n",
       "    </tr>\n",
       "    <tr>\n",
       "      <th>149962</th>\n",
       "      <td>tv</td>\n",
       "    </tr>\n",
       "    <tr>\n",
       "      <th>149983</th>\n",
       "      <td>OOO</td>\n",
       "    </tr>\n",
       "    <tr>\n",
       "      <th>149991</th>\n",
       "      <td>http</td>\n",
       "    </tr>\n",
       "    <tr>\n",
       "      <th>149993</th>\n",
       "      <td>For</td>\n",
       "    </tr>\n",
       "  </tbody>\n",
       "</table>\n",
       "<p>8794 rows × 1 columns</p>\n",
       "</div>"
      ],
      "text/plain": [
       "           0\n",
       "26        kl\n",
       "53        OO\n",
       "69      mama\n",
       "116        D\n",
       "163      MBC\n",
       "...      ...\n",
       "149949    OO\n",
       "149962    tv\n",
       "149983   OOO\n",
       "149991  http\n",
       "149993   For\n",
       "\n",
       "[8794 rows x 1 columns]"
      ]
     },
     "execution_count": 36,
     "metadata": {},
     "output_type": "execute_result"
    }
   ],
   "source": [
    "tmp_series.dropna()"
   ]
  },
  {
   "cell_type": "code",
   "execution_count": 37,
   "metadata": {},
   "outputs": [
    {
     "data": {
      "text/html": [
       "<div>\n",
       "<style scoped>\n",
       "    .dataframe tbody tr th:only-of-type {\n",
       "        vertical-align: middle;\n",
       "    }\n",
       "\n",
       "    .dataframe tbody tr th {\n",
       "        vertical-align: top;\n",
       "    }\n",
       "\n",
       "    .dataframe thead th {\n",
       "        text-align: right;\n",
       "    }\n",
       "</style>\n",
       "<table border=\"1\" class=\"dataframe\">\n",
       "  <thead>\n",
       "    <tr style=\"text-align: right;\">\n",
       "      <th></th>\n",
       "      <th></th>\n",
       "      <th>0</th>\n",
       "    </tr>\n",
       "    <tr>\n",
       "      <th></th>\n",
       "      <th>match</th>\n",
       "      <th></th>\n",
       "    </tr>\n",
       "  </thead>\n",
       "  <tbody>\n",
       "    <tr>\n",
       "      <th rowspan=\"2\" valign=\"top\">26</th>\n",
       "      <th>0</th>\n",
       "      <td>kl</td>\n",
       "    </tr>\n",
       "    <tr>\n",
       "      <th>1</th>\n",
       "      <td>g</td>\n",
       "    </tr>\n",
       "    <tr>\n",
       "      <th rowspan=\"2\" valign=\"top\">53</th>\n",
       "      <th>0</th>\n",
       "      <td>OO</td>\n",
       "    </tr>\n",
       "    <tr>\n",
       "      <th>1</th>\n",
       "      <td>OO</td>\n",
       "    </tr>\n",
       "    <tr>\n",
       "      <th>69</th>\n",
       "      <th>0</th>\n",
       "      <td>mama</td>\n",
       "    </tr>\n",
       "    <tr>\n",
       "      <th>...</th>\n",
       "      <th>...</th>\n",
       "      <td>...</td>\n",
       "    </tr>\n",
       "    <tr>\n",
       "      <th rowspan=\"3\" valign=\"top\">149991</th>\n",
       "      <th>2</th>\n",
       "      <td>naver</td>\n",
       "    </tr>\n",
       "    <tr>\n",
       "      <th>3</th>\n",
       "      <td>com</td>\n",
       "    </tr>\n",
       "    <tr>\n",
       "      <th>4</th>\n",
       "      <td>oroblast</td>\n",
       "    </tr>\n",
       "    <tr>\n",
       "      <th rowspan=\"2\" valign=\"top\">149993</th>\n",
       "      <th>0</th>\n",
       "      <td>For</td>\n",
       "    </tr>\n",
       "    <tr>\n",
       "      <th>1</th>\n",
       "      <td>Carl</td>\n",
       "    </tr>\n",
       "  </tbody>\n",
       "</table>\n",
       "<p>13342 rows × 1 columns</p>\n",
       "</div>"
      ],
      "text/plain": [
       "                     0\n",
       "       match          \n",
       "26     0            kl\n",
       "       1             g\n",
       "53     0            OO\n",
       "       1            OO\n",
       "69     0          mama\n",
       "...                ...\n",
       "149991 2         naver\n",
       "       3           com\n",
       "       4      oroblast\n",
       "149993 0           For\n",
       "       1          Carl\n",
       "\n",
       "[13342 rows x 1 columns]"
      ]
     },
     "execution_count": 37,
     "metadata": {},
     "output_type": "execute_result"
    }
   ],
   "source": [
    "tmp_series = train_data['document'].str.extractall('([a-zA-Z]+)')\n",
    "tmp_series"
   ]
  },
  {
   "cell_type": "code",
   "execution_count": 38,
   "metadata": {},
   "outputs": [
    {
     "data": {
      "text/plain": [
       "'kl2g 고추를 털어버려야 할텐데'"
      ]
     },
     "execution_count": 38,
     "metadata": {},
     "output_type": "execute_result"
    }
   ],
   "source": [
    "train_data['document'].iloc[26]"
   ]
  },
  {
   "cell_type": "code",
   "execution_count": 39,
   "metadata": {},
   "outputs": [
    {
     "data": {
      "text/plain": [
       "'노래실력으로뽑는게 맞냐? 박시환이 mama나가면 진짜 망신이다'"
      ]
     },
     "execution_count": 39,
     "metadata": {},
     "output_type": "execute_result"
    }
   ],
   "source": [
    "train_data['document'].iloc[69]"
   ]
  },
  {
   "cell_type": "code",
   "execution_count": 41,
   "metadata": {},
   "outputs": [
    {
     "data": {
      "text/plain": [
       "'http://blog.naver.com/oroblast/220215679580 나쁜 인상은 아니지만,오랫동안 기억에 남아....종종 떠올라서....조금은 사람을 피곤하게 만드는 영화. ^^'"
      ]
     },
     "execution_count": 41,
     "metadata": {},
     "output_type": "execute_result"
    }
   ],
   "source": [
    "train_data['document'].iloc[149991]"
   ]
  }
 ],
 "metadata": {
  "kernelspec": {
   "display_name": "base",
   "language": "python",
   "name": "python3"
  },
  "language_info": {
   "codemirror_mode": {
    "name": "ipython",
    "version": 3
   },
   "file_extension": ".py",
   "mimetype": "text/x-python",
   "name": "python",
   "nbconvert_exporter": "python",
   "pygments_lexer": "ipython3",
   "version": "3.9.13"
  },
  "orig_nbformat": 4
 },
 "nbformat": 4,
 "nbformat_minor": 2
}
