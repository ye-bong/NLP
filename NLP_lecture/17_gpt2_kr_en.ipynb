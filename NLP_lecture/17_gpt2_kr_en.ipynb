{
 "cells": [
  {
   "cell_type": "markdown",
   "metadata": {},
   "source": [
    "gpt 모델 아키텍처\n",
    "\n",
    "- 목적 : 한글 영어 번역"
   ]
  },
  {
   "cell_type": "code",
   "execution_count": 1,
   "metadata": {},
   "outputs": [],
   "source": [
    "import os\n",
    "import re\n",
    "import time\n",
    "import numpy as np\n",
    "import matplotlib.pyplot as plt\n",
    "import tensorflow as tf\n",
    "\n",
    "from tqdm import tqdm, tqdm_notebook, trange\n",
    "\n",
    "from tensorflow.keras.layers import Dense , Input \n",
    "from tensorflow.keras.optimizers import Adam \n",
    "from tensorflow.keras.models import Model \n"
   ]
  },
  {
   "cell_type": "code",
   "execution_count": 2,
   "metadata": {},
   "outputs": [
    {
     "data": {
      "text/plain": [
       "'2.13.0'"
      ]
     },
     "execution_count": 2,
     "metadata": {},
     "output_type": "execute_result"
    }
   ],
   "source": [
    "tf.__version__"
   ]
  },
  {
   "cell_type": "code",
   "execution_count": 3,
   "metadata": {},
   "outputs": [],
   "source": [
    "tf.random.set_seed(42)\n",
    "AUTO = tf.data.experimental.AUTOTUNE"
   ]
  },
  {
   "cell_type": "code",
   "execution_count": 4,
   "metadata": {},
   "outputs": [],
   "source": [
    "# 모델 훈련 파라미터 값\n",
    "ENCODER_LEN = 61\n",
    "DECODER_LEN = ENCODER_LEN\n",
    "BATCH_SIZE = 256\n",
    "BUFFER_SIZE = 20000\n",
    "\n",
    "N_EPRCHS = 20"
   ]
  },
  {
   "cell_type": "code",
   "execution_count": 5,
   "metadata": {},
   "outputs": [],
   "source": [
    "# 훈련 데이터셋 로딩 \n",
    "import urllib3\n",
    "import zipfile\n",
    "import shutil\n",
    "import pandas as pd"
   ]
  },
  {
   "cell_type": "code",
   "execution_count": 6,
   "metadata": {},
   "outputs": [],
   "source": [
    "pd.set_option('display.max_colwidth', None)"
   ]
  },
  {
   "cell_type": "code",
   "execution_count": 7,
   "metadata": {},
   "outputs": [],
   "source": [
    "http = urllib3.PoolManager()\n",
    "url = \"https://raw.githubusercontent.com/Huffon/pytorch-transformer-kor-eng/master/data/corpus.csv\"\n",
    "filename = './data/corpus.csv'\n",
    "path = os.getcwd()\n",
    "zipfilename = os.path.join(path, filename)\n",
    "with http.request('GET', url, preload_content = False ) as r , open(zipfilename, 'wb') as out_file:\n",
    "    shutil.copyfileobj(r, out_file)"
   ]
  },
  {
   "cell_type": "code",
   "execution_count": 8,
   "metadata": {},
   "outputs": [],
   "source": [
    "total_df = pd.read_csv('./data/corpus.csv')\n",
    "\n",
    "total_df.rename(columns={\"english\":'SRC', \"korean\":'TRG'}, inplace=True)"
   ]
  },
  {
   "cell_type": "code",
   "execution_count": 9,
   "metadata": {},
   "outputs": [
    {
     "data": {
      "text/html": [
       "<div>\n",
       "<style scoped>\n",
       "    .dataframe tbody tr th:only-of-type {\n",
       "        vertical-align: middle;\n",
       "    }\n",
       "\n",
       "    .dataframe tbody tr th {\n",
       "        vertical-align: top;\n",
       "    }\n",
       "\n",
       "    .dataframe thead th {\n",
       "        text-align: right;\n",
       "    }\n",
       "</style>\n",
       "<table border=\"1\" class=\"dataframe\">\n",
       "  <thead>\n",
       "    <tr style=\"text-align: right;\">\n",
       "      <th></th>\n",
       "      <th>TRG</th>\n",
       "      <th>SRC</th>\n",
       "      <th>src_len</th>\n",
       "      <th>tar_len</th>\n",
       "    </tr>\n",
       "  </thead>\n",
       "  <tbody>\n",
       "    <tr>\n",
       "      <th>0</th>\n",
       "      <td>나는 매일 저녁 배트를 만나러 다락방으로 가요.</td>\n",
       "      <td>I go to the attic every evening to meet Bat.</td>\n",
       "      <td></td>\n",
       "      <td></td>\n",
       "    </tr>\n",
       "    <tr>\n",
       "      <th>1</th>\n",
       "      <td>선생님 이문장이 이해가 안 가요.</td>\n",
       "      <td>Sir, I don't understand this sentence here.</td>\n",
       "      <td></td>\n",
       "      <td></td>\n",
       "    </tr>\n",
       "    <tr>\n",
       "      <th>2</th>\n",
       "      <td>컴퓨터를 시작하면 시간이 너무 빠르게 가요.</td>\n",
       "      <td>Time flies when you start using the computer.</td>\n",
       "      <td></td>\n",
       "      <td></td>\n",
       "    </tr>\n",
       "    <tr>\n",
       "      <th>3</th>\n",
       "      <td>나는 오늘 자정에 한국으로 돌아 가요.</td>\n",
       "      <td>I'm going back to Korea today at midnight.</td>\n",
       "      <td></td>\n",
       "      <td></td>\n",
       "    </tr>\n",
       "    <tr>\n",
       "      <th>4</th>\n",
       "      <td>나는 일어나자마자 화장실에 가요.</td>\n",
       "      <td>I go to bathroom as soon as I wake up.</td>\n",
       "      <td></td>\n",
       "      <td></td>\n",
       "    </tr>\n",
       "  </tbody>\n",
       "</table>\n",
       "</div>"
      ],
      "text/plain": [
       "                          TRG                                            SRC  \\\n",
       "0  나는 매일 저녁 배트를 만나러 다락방으로 가요.   I go to the attic every evening to meet Bat.   \n",
       "1          선생님 이문장이 이해가 안 가요.    Sir, I don't understand this sentence here.   \n",
       "2    컴퓨터를 시작하면 시간이 너무 빠르게 가요.  Time flies when you start using the computer.   \n",
       "3       나는 오늘 자정에 한국으로 돌아 가요.     I'm going back to Korea today at midnight.   \n",
       "4          나는 일어나자마자 화장실에 가요.         I go to bathroom as soon as I wake up.   \n",
       "\n",
       "  src_len tar_len  \n",
       "0                  \n",
       "1                  \n",
       "2                  \n",
       "3                  \n",
       "4                  "
      ]
     },
     "execution_count": 9,
     "metadata": {},
     "output_type": "execute_result"
    }
   ],
   "source": [
    "total_df['src_len'] = \"\"\n",
    "total_df['tar_len'] = \"\"\n",
    "total_df.head()"
   ]
  },
  {
   "cell_type": "code",
   "execution_count": 10,
   "metadata": {},
   "outputs": [],
   "source": [
    "# 공백으로 구분해서 사용\n",
    "for idx in range(len(total_df)) :\n",
    "    text_eng = str(total_df.iloc[idx]['SRC'])\n",
    "\n",
    "    result_eng = len(text_eng.split())\n",
    "    total_df.at[idx, 'src_len'] = result_eng\n",
    "\n",
    "    text_fra = str(total_df.iloc[idx]['TRG'])\n",
    "    result_fra = len(text_fra.split())\n",
    "    total_df.at[idx, 'tar_len'] = result_fra"
   ]
  },
  {
   "cell_type": "code",
   "execution_count": 11,
   "metadata": {},
   "outputs": [
    {
     "data": {
      "text/html": [
       "<div>\n",
       "<style scoped>\n",
       "    .dataframe tbody tr th:only-of-type {\n",
       "        vertical-align: middle;\n",
       "    }\n",
       "\n",
       "    .dataframe tbody tr th {\n",
       "        vertical-align: top;\n",
       "    }\n",
       "\n",
       "    .dataframe thead th {\n",
       "        text-align: right;\n",
       "    }\n",
       "</style>\n",
       "<table border=\"1\" class=\"dataframe\">\n",
       "  <thead>\n",
       "    <tr style=\"text-align: right;\">\n",
       "      <th></th>\n",
       "      <th>TRG</th>\n",
       "      <th>SRC</th>\n",
       "      <th>src_len</th>\n",
       "      <th>tar_len</th>\n",
       "    </tr>\n",
       "  </thead>\n",
       "  <tbody>\n",
       "    <tr>\n",
       "      <th>0</th>\n",
       "      <td>나는 매일 저녁 배트를 만나러 다락방으로 가요.</td>\n",
       "      <td>I go to the attic every evening to meet Bat.</td>\n",
       "      <td>10</td>\n",
       "      <td>7</td>\n",
       "    </tr>\n",
       "    <tr>\n",
       "      <th>1</th>\n",
       "      <td>선생님 이문장이 이해가 안 가요.</td>\n",
       "      <td>Sir, I don't understand this sentence here.</td>\n",
       "      <td>7</td>\n",
       "      <td>5</td>\n",
       "    </tr>\n",
       "    <tr>\n",
       "      <th>2</th>\n",
       "      <td>컴퓨터를 시작하면 시간이 너무 빠르게 가요.</td>\n",
       "      <td>Time flies when you start using the computer.</td>\n",
       "      <td>8</td>\n",
       "      <td>6</td>\n",
       "    </tr>\n",
       "    <tr>\n",
       "      <th>3</th>\n",
       "      <td>나는 오늘 자정에 한국으로 돌아 가요.</td>\n",
       "      <td>I'm going back to Korea today at midnight.</td>\n",
       "      <td>8</td>\n",
       "      <td>6</td>\n",
       "    </tr>\n",
       "    <tr>\n",
       "      <th>4</th>\n",
       "      <td>나는 일어나자마자 화장실에 가요.</td>\n",
       "      <td>I go to bathroom as soon as I wake up.</td>\n",
       "      <td>10</td>\n",
       "      <td>4</td>\n",
       "    </tr>\n",
       "  </tbody>\n",
       "</table>\n",
       "</div>"
      ],
      "text/plain": [
       "                          TRG                                            SRC  \\\n",
       "0  나는 매일 저녁 배트를 만나러 다락방으로 가요.   I go to the attic every evening to meet Bat.   \n",
       "1          선생님 이문장이 이해가 안 가요.    Sir, I don't understand this sentence here.   \n",
       "2    컴퓨터를 시작하면 시간이 너무 빠르게 가요.  Time flies when you start using the computer.   \n",
       "3       나는 오늘 자정에 한국으로 돌아 가요.     I'm going back to Korea today at midnight.   \n",
       "4          나는 일어나자마자 화장실에 가요.         I go to bathroom as soon as I wake up.   \n",
       "\n",
       "  src_len tar_len  \n",
       "0      10       7  \n",
       "1       7       5  \n",
       "2       8       6  \n",
       "3       8       6  \n",
       "4      10       4  "
      ]
     },
     "execution_count": 11,
     "metadata": {},
     "output_type": "execute_result"
    }
   ],
   "source": [
    "total_df.head()"
   ]
  },
  {
   "cell_type": "code",
   "execution_count": 12,
   "metadata": {},
   "outputs": [
    {
     "name": "stdout",
     "output_type": "stream",
     "text": [
      "115000\n"
     ]
    }
   ],
   "source": [
    "print(len(total_df))"
   ]
  },
  {
   "cell_type": "code",
   "execution_count": 13,
   "metadata": {},
   "outputs": [
    {
     "name": "stdout",
     "output_type": "stream",
     "text": [
      "99006\n"
     ]
    }
   ],
   "source": [
    "total_df = total_df.drop_duplicates(subset=[\"SRC\"])\n",
    "print(len(total_df))"
   ]
  },
  {
   "cell_type": "code",
   "execution_count": 14,
   "metadata": {},
   "outputs": [
    {
     "name": "stdout",
     "output_type": "stream",
     "text": [
      "95453\n"
     ]
    }
   ],
   "source": [
    "total_df = total_df.drop_duplicates(subset=[\"TRG\"])\n",
    "print(len(total_df))"
   ]
  },
  {
   "cell_type": "code",
   "execution_count": 15,
   "metadata": {},
   "outputs": [],
   "source": [
    "is_within_len = (7 < total_df['src_len']) & (total_df['tar_len'] <= 20) &  (7 < total_df['tar_len']) & (total_df['src_len'] <= 20)"
   ]
  },
  {
   "cell_type": "code",
   "execution_count": 16,
   "metadata": {},
   "outputs": [
    {
     "data": {
      "text/plain": [
       "21132"
      ]
     },
     "execution_count": 16,
     "metadata": {},
     "output_type": "execute_result"
    }
   ],
   "source": [
    "total_df = total_df[is_within_len]\n",
    "len(total_df)"
   ]
  },
  {
   "cell_type": "code",
   "execution_count": 17,
   "metadata": {},
   "outputs": [
    {
     "name": "stdout",
     "output_type": "stream",
     "text": [
      "<class 'pandas.core.frame.DataFrame'>\n",
      "Int64Index: 8192 entries, 38672 to 7829\n",
      "Data columns (total 4 columns):\n",
      " #   Column   Non-Null Count  Dtype \n",
      "---  ------   --------------  ----- \n",
      " 0   TRG      8192 non-null   object\n",
      " 1   SRC      8192 non-null   object\n",
      " 2   src_len  8192 non-null   object\n",
      " 3   tar_len  8192 non-null   object\n",
      "dtypes: object(4)\n",
      "memory usage: 320.0+ KB\n"
     ]
    }
   ],
   "source": [
    "train_data = total_df.sample(n=1024*8 , random_state=42)\n",
    "train_data.info()"
   ]
  },
  {
   "cell_type": "code",
   "execution_count": 18,
   "metadata": {},
   "outputs": [
    {
     "data": {
      "text/plain": [
       "TRG        0\n",
       "SRC        0\n",
       "src_len    0\n",
       "tar_len    0\n",
       "dtype: int64"
      ]
     },
     "execution_count": 18,
     "metadata": {},
     "output_type": "execute_result"
    }
   ],
   "source": [
    "train_data.isnull().sum()"
   ]
  },
  {
   "cell_type": "code",
   "execution_count": 19,
   "metadata": {},
   "outputs": [],
   "source": [
    "raw_src = []\n",
    "\n",
    "for sentence in train_data['SRC'] :\n",
    "    sentence = sentence.lower().strip()\n",
    "    sentence = re.sub(r\"([?.!,])\", \" \\1\" , sentence)\n",
    "    sentence = re.sub(r\"[' ']+\" , \" \" , sentence)\n",
    "    sentence = re.sub(r\"i'm\", 'i am', sentence)\n",
    "    sentence = re.sub(r\"he's\", 'he is', sentence)\n",
    "    sentence = re.sub(r\"she's\", 'she is', sentence)\n",
    "    sentence = re.sub(r\"it's\", 'it is', sentence)\n",
    "    sentence = re.sub(r\"that's\", 'that is', sentence)\n",
    "    sentence = re.sub(r\"what's\", 'what is', sentence)\n",
    "    sentence = re.sub(r\"where's\", 'where is', sentence)\n",
    "    sentence = re.sub(r\"how's\", 'how is', sentence)\n",
    "    sentence = re.sub(r\"\\'ll\", 'will', sentence)\n",
    "    sentence = re.sub(r\"\\'ve\", 'have', sentence)\n",
    "    sentence = re.sub(r\"\\'re\", 'are', sentence)\n",
    "    sentence = re.sub(r\"\\'d\", 'would', sentence)\n",
    "    sentence = re.sub(r\"won't\", 'will not', sentence)\n",
    "    sentence = re.sub(r\"can't\", 'cannot', sentence)\n",
    "    sentence = re.sub(r\"n't\", 'not', sentence)\n",
    "    sentence = re.sub(r\"n'\", 'ng', sentence)\n",
    "\n",
    "    sentence = re.sub(r\"[^a-z]+\" , ' ', sentence)\n",
    "    sentence = sentence.strip()\n",
    "    raw_src.append(sentence)\n",
    "\n"
   ]
  },
  {
   "cell_type": "code",
   "execution_count": 20,
   "metadata": {},
   "outputs": [],
   "source": [
    "raw_trg = []\n",
    "for sentence in train_data['TRG'] :\n",
    "    sentence = re.sub(r\"[?.!,]\", \" \\1\" , sentence)\n",
    "    sentence = sentence.strip()\n",
    "    raw_trg.append(sentence)"
   ]
  },
  {
   "cell_type": "code",
   "execution_count": 21,
   "metadata": {},
   "outputs": [
    {
     "data": {
      "text/plain": [
       "8192"
      ]
     },
     "execution_count": 21,
     "metadata": {},
     "output_type": "execute_result"
    }
   ],
   "source": [
    "len(raw_trg)"
   ]
  },
  {
   "cell_type": "code",
   "execution_count": 22,
   "metadata": {},
   "outputs": [
    {
     "name": "stdout",
     "output_type": "stream",
     "text": [
      "['또한 좋은 의상을 만들고자하는 그녀의 노력에 감명을 받았어요 \\x01', '저는 상대방을 대할 때 항상 배려해주려 노력하고 솔직하게 대해요 \\x01', '그렇군요 \\x01 한국전자에서 요청한 변경 사항은 범위가 얼마나 돼요 \\x01', '공원 안에서 자전거를 빌릴 수 있는 곳이 있나요 \\x01', '페루라니 엄청나게 먼 나라인데 \\x01 그곳에서 사람들이 케이팝을 듣는다고 \\x01']\n",
      "['i m also impressed by her efforts to make good costumes', 'i always try to treat others in thoughtful and truthful ways', 'i see what is the range of modification requested by korea electronics', 'is there a place in the park where i can rent bikes', 'peru is a country so far away people listen to k pop there']\n"
     ]
    }
   ],
   "source": [
    "print(raw_trg[:5])\n",
    "print(raw_src[:5])"
   ]
  },
  {
   "cell_type": "code",
   "execution_count": 23,
   "metadata": {},
   "outputs": [],
   "source": [
    "df1 = pd.DataFrame(raw_src)\n",
    "df2 = pd.DataFrame(raw_trg)"
   ]
  },
  {
   "cell_type": "code",
   "execution_count": 24,
   "metadata": {},
   "outputs": [],
   "source": [
    "df1.rename(columns={0:\"SRC\"}, inplace=True)\n",
    "df2.rename(columns={0:\"TRG\"}, inplace=True)\n",
    "train_df = pd.concat([df1, df2], axis=1)"
   ]
  },
  {
   "cell_type": "code",
   "execution_count": 25,
   "metadata": {},
   "outputs": [],
   "source": [
    "raw_src = train_df['SRC']\n",
    "raw_trg = train_df['TRG']"
   ]
  },
  {
   "cell_type": "code",
   "execution_count": 26,
   "metadata": {},
   "outputs": [],
   "source": [
    "# 토큰 적용을 위한 전처리 부분\n",
    "special_tkns = \"<PAD> <SOS> <EOS> <CLS> <SEP> <MASK> \"\n",
    "src_sentence = raw_src.apply(lambda x : \"<CLS> \" + str(x) + \"<SEP>\")\n",
    "trg_sentence = raw_trg.apply(lambda x : str(x) + \"<SEP>\")\n",
    "\n",
    "filters = '!\"#$%&()*+,-./:;=?@[\\\\]^_`{|}~\\t\\n'\n",
    "oov_token = '<unk>'"
   ]
  },
  {
   "cell_type": "code",
   "execution_count": 27,
   "metadata": {},
   "outputs": [],
   "source": [
    "# 토크나이저 정의\n",
    "SRC_tokenizer = tf.keras.preprocessing.text.Tokenizer(filters=filters, oov_token=oov_token)\n",
    "TRG_tokenizer = tf.keras.preprocessing.text.Tokenizer(filters=filters, oov_token=oov_token)\n",
    "\n",
    "SRC_tokenizer.fit_on_texts(special_tkns + src_sentence)\n",
    "TRG_tokenizer.fit_on_texts(special_tkns + trg_sentence)\n",
    "\n",
    "n_enc_vocab = len(SRC_tokenizer.word_index) + 7\n",
    "n_dec_vocab = len(TRG_tokenizer.word_index) + 6 "
   ]
  },
  {
   "cell_type": "code",
   "execution_count": 28,
   "metadata": {},
   "outputs": [
    {
     "data": {
      "text/plain": [
       "(8600, 21395)"
      ]
     },
     "execution_count": 28,
     "metadata": {},
     "output_type": "execute_result"
    }
   ],
   "source": [
    "n_enc_vocab , n_dec_vocab"
   ]
  },
  {
   "cell_type": "code",
   "execution_count": 29,
   "metadata": {},
   "outputs": [],
   "source": [
    "lines = [\n",
    "    \"It is winter and the weather is very cold.\",\n",
    "    \"Will this Christmas be a white Christmas?\",\n",
    "    \"Be careful not to catch a cold in winter\"\n",
    "]"
   ]
  },
  {
   "cell_type": "code",
   "execution_count": 30,
   "metadata": {},
   "outputs": [
    {
     "name": "stdout",
     "output_type": "stream",
     "text": [
      "Input      : It is winter and the weather is very cold.\n",
      "txt_2_ids  : [[13, 14, 894, 15, 9, 1113, 14, 115, 716]]\n",
      "ids_2_txt  : it is winter and the weather is very cold \n",
      "\n",
      "Input      : Will this Christmas be a white Christmas?\n",
      "txt_2_ids  : [[29, 26, 1492, 27, 12, 705, 1492]]\n",
      "ids_2_txt  : will this christmas be a white christmas \n",
      "\n",
      "Input      : Be careful not to catch a cold in winter\n",
      "txt_2_ids  : [[27, 1248, 40, 10, 890, 12, 716, 17, 894]]\n",
      "ids_2_txt  : be careful not to catch a cold in winter \n",
      "\n"
     ]
    }
   ],
   "source": [
    "for line in lines :\n",
    "    txt_2_ids = SRC_tokenizer.texts_to_sequences([line])\n",
    "    ids_2_txt = SRC_tokenizer.sequences_to_texts(txt_2_ids)\n",
    "    print(\"Input      :\", line)\n",
    "    print(\"txt_2_ids  :\", txt_2_ids)\n",
    "    print(\"ids_2_txt  :\", ids_2_txt[0], \"\\n\")"
   ]
  },
  {
   "cell_type": "code",
   "execution_count": 31,
   "metadata": {},
   "outputs": [],
   "source": [
    "lines = [\n",
    "    \"딥 러닝 자연어 처리에서 역시 전처리는 어려워요\",\n",
    "    \"여러분들이 데이터 사이언티스트가 되어 현장에서 함께 하고 싶어요\",\n",
    "    \"오늘은 즐거운 불금입니다.\"\n",
    "]"
   ]
  },
  {
   "cell_type": "code",
   "execution_count": 32,
   "metadata": {},
   "outputs": [
    {
     "name": "stdout",
     "output_type": "stream",
     "text": [
      "Input      : 딥 러닝 자연어 처리에서 역시 전처리는 어려워요\n",
      "txt_2_ids  : [[1, 1, 1, 1, 735, 1, 11034]]\n",
      "ids_2_txt  : <unk> <unk> <unk> <unk> 역시 <unk> 어려워요 \n",
      "\n",
      "Input      : 여러분들이 데이터 사이언티스트가 되어 현장에서 함께 하고 싶어요\n",
      "txt_2_ids  : [[1, 17750, 1, 349, 13168, 71, 47, 123]]\n",
      "ids_2_txt  : <unk> 데이터 <unk> 되어 현장에서 함께 하고 싶어요 \n",
      "\n",
      "Input      : 오늘은 즐거운 불금입니다.\n",
      "txt_2_ids  : [[263, 786, 1]]\n",
      "ids_2_txt  : 오늘은 즐거운 <unk> \n",
      "\n"
     ]
    }
   ],
   "source": [
    "for line in lines :\n",
    "    txt_2_ids =  TRG_tokenizer.texts_to_sequences([line])\n",
    "    ids_2_txt = TRG_tokenizer.sequences_to_texts(txt_2_ids)\n",
    "    print(\"Input      :\", line)\n",
    "    print(\"txt_2_ids  :\", txt_2_ids)\n",
    "    print(\"ids_2_txt  :\", ids_2_txt[0], \"\\n\")"
   ]
  },
  {
   "cell_type": "code",
   "execution_count": 33,
   "metadata": {},
   "outputs": [],
   "source": [
    "# 텍스트 데이터의 길이를 맞춰주는 전처리\n",
    "tokenized_inputs = SRC_tokenizer.texts_to_sequences(src_sentence)\n",
    "tokenized_outputs = TRG_tokenizer.texts_to_sequences(trg_sentence)\n",
    "\n",
    "pad_idx = SRC_tokenizer.texts_to_sequences(['<PAD>'])\n",
    "\n",
    "tkn_sources = []\n",
    "tkn_targets = []\n",
    "\n",
    "for idx in range(len(tokenized_inputs)):\n",
    "    indexed_src_tkns = tokenized_inputs[idx] + [0] * (ENCODER_LEN - len(tokenized_inputs[idx]))\n",
    "    indexed_trg_tkns = [0] * len(tokenized_inputs[idx]) + tokenized_outputs[idx] + [0]*(ENCODER_LEN - len(tokenized_inputs[idx]) - len(tokenized_outputs[idx]))\n",
    "\n",
    "    tkn_sources.append(indexed_src_tkns)\n",
    "    tkn_targets.append(indexed_trg_tkns)"
   ]
  },
  {
   "cell_type": "code",
   "execution_count": 34,
   "metadata": {},
   "outputs": [],
   "source": [
    "# list -> tf \n",
    "tensors_src = tf.cast(tkn_sources, dtype=tf.int64)\n",
    "tensors_trg = tf.cast(tkn_targets, dtype=tf.int64)"
   ]
  },
  {
   "cell_type": "code",
   "execution_count": 35,
   "metadata": {},
   "outputs": [
    {
     "data": {
      "text/plain": [
       "(TensorShape([8192, 61]), TensorShape([8192, 61]))"
      ]
     },
     "execution_count": 35,
     "metadata": {},
     "output_type": "execute_result"
    }
   ],
   "source": [
    "tensors_src.shape , tensors_trg.shape"
   ]
  },
  {
   "cell_type": "code",
   "execution_count": 36,
   "metadata": {},
   "outputs": [
    {
     "data": {
      "text/plain": [
       "<tf.Tensor: shape=(61,), dtype=int64, numpy=\n",
       "array([   2,    8,   42,  107, 1254,   78,  160, 2331,   10,   70,   68,\n",
       "       4264,    0,    0,    0,    0,    0,    0,    0,    0,    0,    0,\n",
       "          0,    0,    0,    0,    0,    0,    0,    0,    0,    0,    0,\n",
       "          0,    0,    0,    0,    0,    0,    0,    0,    0,    0,    0,\n",
       "          0,    0,    0,    0,    0,    0,    0,    0,    0,    0,    0,\n",
       "          0,    0,    0,    0,    0,    0], dtype=int64)>"
      ]
     },
     "execution_count": 36,
     "metadata": {},
     "output_type": "execute_result"
    }
   ],
   "source": [
    "tensors_src[0]"
   ]
  },
  {
   "cell_type": "code",
   "execution_count": 37,
   "metadata": {},
   "outputs": [
    {
     "data": {
      "text/plain": [
       "<tf.Tensor: shape=(61,), dtype=int64, numpy=\n",
       "array([   0,    0,    0,    0,    0,    0,    0,    0,    0,    0,    0,\n",
       "          0,  199,   38, 3966, 6776,  485, 2820, 2821,  514,    8,    0,\n",
       "          0,    0,    0,    0,    0,    0,    0,    0,    0,    0,    0,\n",
       "          0,    0,    0,    0,    0,    0,    0,    0,    0,    0,    0,\n",
       "          0,    0,    0,    0,    0,    0,    0,    0,    0,    0,    0,\n",
       "          0,    0,    0,    0,    0,    0], dtype=int64)>"
      ]
     },
     "execution_count": 37,
     "metadata": {},
     "output_type": "execute_result"
    }
   ],
   "source": [
    "tensors_trg[0]"
   ]
  },
  {
   "cell_type": "markdown",
   "metadata": {},
   "source": [
    "모델 아키텍처"
   ]
  },
  {
   "cell_type": "code",
   "execution_count": 38,
   "metadata": {},
   "outputs": [],
   "source": [
    "# 모델 파라미터 추가\n",
    "n_layers = 6 \n",
    "hid_dim = 128\n",
    "pf_dim = 1024\n",
    "n_heads = 8\n",
    "dropout = 0.3"
   ]
  },
  {
   "cell_type": "code",
   "execution_count": 39,
   "metadata": {},
   "outputs": [],
   "source": [
    "datasets = tf.data.Dataset.from_tensor_slices((tensors_src, tensors_trg))\n",
    "\n",
    "datasets = datasets.cache()\n",
    "datasets = datasets.shuffle(BUFFER_SIZE)\n",
    "datasets = datasets.batch(BATCH_SIZE)\n",
    "datasets = datasets.prefetch(tf.data.experimental.AUTOTUNE)"
   ]
  },
  {
   "cell_type": "code",
   "execution_count": 40,
   "metadata": {},
   "outputs": [],
   "source": [
    "\"\"\" sinusoid position encoding \"\"\"\n",
    "def get_sinusoid_encoding_table(position, hid_dim) :\n",
    "    position = np.arange(position)[:, np.newaxis]\n",
    "    angle_rates = 1 / np.power(10000, (2 * (np.arange(hid_dim)[np.newaxis, :] // 2 )) / np.float32(hid_dim))\n",
    "    angle_rads = position * angle_rates\n",
    "\n",
    "    angle_rads[:, 0::2] = np.sin(angle_rads[:, 0::2])\n",
    "    angle_rads[:, 1::2] = np.cos(angle_rads[:, 1::2])\n",
    "\n",
    "    pos_encoding = angle_rads[np.newaxis, ...]\n",
    "\n",
    "    return tf.cast(pos_encoding, dtype=tf.float32)\n"
   ]
  },
  {
   "cell_type": "code",
   "execution_count": 41,
   "metadata": {},
   "outputs": [
    {
     "data": {
      "image/png": "[encoded data removed]",
      "text/plain": [
       "<Figure size 640x480 with 2 Axes>"
      ]
     },
     "metadata": {},
     "output_type": "display_data"
    }
   ],
   "source": [
    "# 예시 \n",
    "\n",
    "sample_pos_encoding = get_sinusoid_encoding_table(50, 128)\n",
    "\n",
    "plt.pcolormesh(sample_pos_encoding._numpy()[0], cmap=\"RdBu\")\n",
    "plt.xlabel('Depth')\n",
    "plt.xlim((0, 128))\n",
    "plt.ylabel('Position')\n",
    "plt.colorbar()\n",
    "plt.show()"
   ]
  },
  {
   "cell_type": "code",
   "execution_count": 42,
   "metadata": {},
   "outputs": [],
   "source": [
    "\"\"\" attention pad mask \"\"\"\n",
    "def create_padding_mask(seq):\n",
    "    seq = tf.cast(tf.math.equal(seq, 0), tf.float32)\n",
    "    # (batch_size , 1, 1, key의 문장 길이)\n",
    "    return seq[:, tf.newaxis , tf.newaxis , :]"
   ]
  },
  {
   "cell_type": "code",
   "execution_count": 43,
   "metadata": {},
   "outputs": [],
   "source": [
    "\"\"\" attention decoder mask \"\"\"\n",
    "def create_look_ahead_mask(size):\n",
    "    mask = 1 - tf.linalg.band_part(tf.ones((size, size)), -1, 0)\n",
    "    return mask"
   ]
  },
  {
   "cell_type": "code",
   "execution_count": 44,
   "metadata": {},
   "outputs": [],
   "source": [
    "\"\"\" scale dot product attention \"\"\"\n",
    "def ScaledDotProductAttention(query, key, value, mask) :\n",
    "    \"\"\"\n",
    "    query , key, value의 leading dimension은 동일해야 함\n",
    "    key, value에는 끝에서 두 번째 차원이 있어야 함(예: seq_len_k = seq_len_v)\n",
    "    MASK는 유형에 따라 모양이 다름\n",
    "\n",
    "    Args : \n",
    "        query : query.shape == (batch_size, n_heads, seq_len_q, depth)\n",
    "        key   : key.shape   == (batch_size, n_heads, seq_len_k, depth)\n",
    "        value : value.shape == (batch_size, n_heads , seq_len_v, depth_v)\n",
    "        mask  : mask.shape == (batch_size, n_heads, seq_len_q, seq_len_k)  # Default to None\n",
    "\n",
    "    return :\n",
    "        output , attention_weights\n",
    "    \"\"\"\n",
    "    # transpose_b=True : 곱하기 전에 트랜스포즈(전치)\n",
    "    matmul_pk = tf.matmul(query, key, transpose_b=True )\n",
    "    #(..., seq_len_q, seq_len_k)\n",
    "\n",
    "    # scale matmul_qk \n",
    "    dk = tf.cast(tf.shape(key)[-1], tf.float32)\n",
    "    scaled_attention_logits = matmul_pk / tf.math.sqrt(dk)\n",
    "\n",
    "    # add the mask to the scaled tensor\n",
    "    if mask is not None :\n",
    "        scaled_attention_logits += (mask * -1e9)\n",
    "    \n",
    "    # softmax 정규화\n",
    "    attention_weights = tf.nn.softmax(scaled_attention_logits, axis= -1)\n",
    "\n",
    "    output = tf.matmul(attention_weights, value) # (..., seq_len_q, depth_v)\n",
    "\n",
    "    return output, attention_weights\n",
    "\n"
   ]
  },
  {
   "cell_type": "code",
   "execution_count": 45,
   "metadata": {},
   "outputs": [],
   "source": [
    "\"\"\" Multi head attention \"\"\"\n",
    "class MultiHeadAttentionLayer(tf.keras.layers.Layer):\n",
    "    def __init__(self, hid_dim, n_heads):\n",
    "        super(MultiHeadAttentionLayer, self).__init__()\n",
    "        self.n_heads = n_heads\n",
    "        assert hid_dim % self.n_heads == 0\n",
    "        self.hid_dim = hid_dim\n",
    "\n",
    "        self.depth = int(hid_dim / self.n_heads)\n",
    "\n",
    "        # WQ, WK, WV에 해당하는 밀집층 정의\n",
    "        self.q_linear = tf.keras.layers.Dense(hid_dim)\n",
    "        self.k_linear = tf.keras.layers.Dense(hid_dim)\n",
    "        self.v_linear = tf.keras.layers.Dense(hid_dim)\n",
    "\n",
    "        # WO에 해당하는 밀집층 정의\n",
    "        self.out = tf.keras.layers.Dense(hid_dim)\n",
    "\n",
    "    def split_heads(self, inputs, batch_size) :\n",
    "        \"\"\" \n",
    "        마지막 차원을 변경 (n_heads, depth)\n",
    "        \"\"\"\n",
    "        inputs = tf.reshape(inputs, (batch_size, -1, self.n_heads, self.depth))\n",
    "        return tf.transpose(inputs, perm=[0,2,1,3])\n",
    "    \n",
    "    def call(self, value, key, query, mask):\n",
    "        batch_size = tf.shape(query)[0]\n",
    "\n",
    "        # step1 : WQ, WK, WV에 해당하는 밀집층 지나기\n",
    "        query = self.q_linear(query)\n",
    "        key = self.k_linear(key)\n",
    "        value = self.v_linear(value)\n",
    "\n",
    "        # step2 : 헤드 나누기\n",
    "        query = self.split_heads(query, batch_size)\n",
    "        key = self.split_heads(key, batch_size)\n",
    "        value = self.split_heads(value, batch_size)\n",
    "\n",
    "        # step3 : 스케일드 닷 프로덕트 어텐션\n",
    "        scaled_attention, attention_weights = ScaledDotProductAttention(query, key, value, mask)\n",
    "        scaled_attention = tf.transpose(scaled_attention, perm=[0, 2, 1, 3])\n",
    "\n",
    "        # step4 : 헤드 연결\n",
    "        concat_attention = tf.reshape(scaled_attention, (batch_size, -1, self.hid_dim))\n",
    "\n",
    "        # step5 : WO 해당하는 밀집층 지나기\n",
    "        outputs = self.out(concat_attention)\n",
    "\n",
    "        return outputs, attention_weights\n"
   ]
  },
  {
   "cell_type": "code",
   "execution_count": 46,
   "metadata": {},
   "outputs": [],
   "source": [
    "\"\"\" feed forward \"\"\"\n",
    "class PositionwiseFeedforwardLayer(tf.keras.layers.Layer):\n",
    "    def __init__(self, hid_dim, pf_dim):\n",
    "        super(PositionwiseFeedforwardLayer, self).__init__()\n",
    "        self.linear_1 = tf.keras.layers.Dense(pf_dim, activation='relu')\n",
    "        self.linear_2 = tf.keras.layers.Dense(hid_dim)\n",
    "\n",
    "    def forword(self, attention):\n",
    "        output = self.linear_1(attention)\n",
    "        output = self.linear_2(output)\n",
    "        return output"
   ]
  },
  {
   "cell_type": "code",
   "execution_count": 47,
   "metadata": {},
   "outputs": [],
   "source": [
    "\"\"\" decoder layer \"\"\"\n",
    "class DecoderLayer(tf.keras.layers.Layer) :\n",
    "    def __init__(self, pf_dim, hid_dim, n_heads, dropout):\n",
    "        super(DecoderLayer, self).__init__()\n",
    "\n",
    "        self.attn = MultiHeadAttentionLayer(hid_dim, n_heads)\n",
    "\n",
    "        self.ffn = PositionwiseFeedforwardLayer(hid_dim, pf_dim)\n",
    "\n",
    "        self.layernorm1 = tf.keras.layers.LayerNormalization(epsilon=1e-6)\n",
    "\n",
    "        self.layernorm3 = tf.keras.layers.LayerNormalization(epsilon=1e-6)\n",
    "\n",
    "        self.dropout1 = tf.keras.layers.Dropout(dropout)\n",
    "\n",
    "        self.dropout3 = tf.keras.layers.Dropout(dropout)\n",
    "\n",
    "    def call(self, inputs, training, look_ahead_mask) :\n",
    "        attention1, attn_weights_block1 = self.attn(inputs, inputs, inputs, look_ahead_mask)\n",
    "        attention1 = self.dropout1(attention1, training= training)\n",
    "        attention1 = self.layernorm1(inputs + attention1)\n",
    "\n",
    "        ffn_outputs = self.ffn(attention1)\n",
    "        ffn_outputs = self.dropout3(ffn_outputs, training = training)\n",
    "        ffn_outputs = self.layernorm3(attention1 + ffn_outputs)\n",
    "\n",
    "        return ffn_outputs , attn_weights_block1\n",
    "\n"
   ]
  },
  {
   "cell_type": "code",
   "execution_count": 48,
   "metadata": {},
   "outputs": [],
   "source": [
    "\"\"\" decoder \"\"\"\n",
    "class Decoder(tf.keras.layers.Layer):\n",
    "    def __init__(self, n_dec_vocab, n_layers, pf_dim, hid_dim, n_heads, maximum_position_encoding, dropout) :\n",
    "        super(Decoder, self).__init__()\n",
    "\n",
    "        self.hid_dim = hid_dim\n",
    "        self.n_layers = n_layers\n",
    "        self.embedding = tf.keras.layers.Embedding(n_dec_vocab, hid_dim)\n",
    "        self.pos_encoding = get_sinusoid_encoding_table(maximum_position_encoding, hid_dim)\n",
    "\n",
    "        self.dec_layers = [DecoderLayer(pf_dim, hid_dim, n_heads, dropout) for _ in range(n_layers)]\n",
    "\n",
    "        # 수정\n",
    "        self.dropout = tf.keras.layers.Dropout(dropout)\n",
    "\n",
    "    def call(self, dec_input, training, look_ahead_mask):\n",
    "        seq_len = tf.shape(dec_input)[1]\n",
    "        attention_weights = {}\n",
    "\n",
    "        emb = self.embedding(dec_input)\n",
    "        emb*= tf.math.sqrt(tf.cast(self.hid_dim, tf.float32))\n",
    "        emb+= self.pos_encoding[:, :seq_len, :]\n",
    "\n",
    "        output = self.dropout(emb , training= training)\n",
    "\n",
    "        for i in range(self.n_layers):\n",
    "            output, block1 = self.dec_layers[i](output, training, look_ahead_mask)\n",
    "            attention_weights['decoder_layer{}_block1'.format(i+1)] = block1\n",
    "\n",
    "        return output, attention_weights"
   ]
  },
  {
   "cell_type": "code",
   "execution_count": 49,
   "metadata": {},
   "outputs": [],
   "source": [
    "def create_masks(tar) :\n",
    "    look_ahead_mask = create_look_ahead_mask(tf.shape(tar)[1])\n",
    "    dec_target_padding_mask = create_padding_mask(tar)\n",
    "    look_ahead_mask = tf.maximum(dec_target_padding_mask, look_ahead_mask)\n",
    "\n",
    "    return look_ahead_mask"
   ]
  },
  {
   "cell_type": "code",
   "execution_count": 50,
   "metadata": {},
   "outputs": [],
   "source": [
    "# Model 정의\n",
    "\"\"\" transformer \"\"\"\n",
    "class GPT2(tf.keras.Model) :\n",
    "    def __init__(self, n_enc_vocab, n_dec_vocab, n_layers, pf_dim, hid_dim, n_heads, pe_input, pe_target, dropout):\n",
    "        super(GPT2, self).__init__()\n",
    "\n",
    "        self.decoder = Decoder(n_dec_vocab,\n",
    "                               n_layers, pf_dim, hid_dim, n_heads, \n",
    "                               pe_target, dropout)\n",
    "        \n",
    "        self.fin_output = tf.keras.layers.Dense(n_dec_vocab)\n",
    "\n",
    "    def call(self, inp, training, look_ahead_mask) :\n",
    "        dec_output, attention_weights = self.decoder(inp, training, look_ahead_mask)\n",
    "\n",
    "        final_output = self.fin_output(dec_output)\n",
    "\n",
    "        return final_output, attention_weights\n"
   ]
  },
  {
   "cell_type": "code",
   "execution_count": 51,
   "metadata": {},
   "outputs": [],
   "source": [
    "loss_object = tf.keras.losses.SparseCategoricalCrossentropy(from_logits=True, reduction='none')"
   ]
  },
  {
   "cell_type": "code",
   "execution_count": 52,
   "metadata": {},
   "outputs": [],
   "source": [
    "def loss_function(real, pred):\n",
    "    mask = tf.math.logical_not(tf.math.equal(real, 0))\n",
    "    loss_ = loss_object(real, pred)\n",
    "\n",
    "    mask = tf.cast(mask, dtype=loss_.dtype)\n",
    "    loss_ *= mask\n",
    "\n",
    "    return tf.reduce_sum(loss_) / tf.reduce_sum(mask)\n"
   ]
  },
  {
   "cell_type": "code",
   "execution_count": 53,
   "metadata": {},
   "outputs": [],
   "source": [
    "learning_rate = 0.01 \n",
    "optimizer = tf.keras.optimizers.Adam(learning_rate, beta_1 = 0.9, beta_2 = 0.98, epsilon=1e-9)"
   ]
  },
  {
   "cell_type": "code",
   "execution_count": 54,
   "metadata": {},
   "outputs": [],
   "source": [
    "def accuracy_function(real, pred):\n",
    "    accuracies = tf.equal(real, tf.argmax(pred, axis=2))\n",
    "    mask = tf.math.logical_not(tf.math.equal(real, 0))\n",
    "    accuracies = tf.math.logical_and(mask, accuracies)\n",
    "    accuracies = tf.cast(accuracies, dtype=tf.float32)\n",
    "    mask = tf.cast(mask, dtype=tf.float32)\n",
    "    return tf.reduce_sum(accuracies) / tf.reduce_sum(mask)\n"
   ]
  },
  {
   "cell_type": "code",
   "execution_count": 55,
   "metadata": {},
   "outputs": [],
   "source": [
    "train_loss = tf.keras.metrics.Mean(name='train_loss')\n",
    "train_accuracy = tf.keras.metrics.Mean(name='train_accuracy')"
   ]
  },
  {
   "cell_type": "code",
   "execution_count": 56,
   "metadata": {},
   "outputs": [],
   "source": [
    "\"\"\" Training and checkpointing \"\"\"\n",
    "\n",
    "model = GPT2(\n",
    "    n_enc_vocab=n_enc_vocab , \n",
    "    n_dec_vocab=n_dec_vocab , \n",
    "    n_layers=n_layers , \n",
    "    pf_dim=pf_dim , \n",
    "    hid_dim=hid_dim, \n",
    "    n_heads=n_heads,\n",
    "    pe_input= 512 ,\n",
    "    pe_target= 512 , \n",
    "    dropout= dropout\n",
    ")"
   ]
  },
  {
   "cell_type": "code",
   "execution_count": 57,
   "metadata": {},
   "outputs": [],
   "source": [
    "checkpoint_path = \"./checkpoints\"\n",
    "\n",
    "ckpt = tf.train.Checkpoint(model=model, optimizer= optimizer)\n",
    "\n",
    "ckpt_manager = tf.train.CheckpointManager(ckpt, checkpoint_path, max_to_keep=5)\n",
    "\n",
    "if ckpt_manager.latest_checkpoint :\n",
    "    ckpt.restore(ckpt_manager.latest_checkpoint)\n",
    "    print(\"Lastest checkpoint restored!!\")\n",
    "# import logging\n",
    "# logging.DEBUG('')"
   ]
  },
  {
   "cell_type": "code",
   "execution_count": 58,
   "metadata": {},
   "outputs": [],
   "source": [
    "@tf.function\n",
    "def train_step(inp, tar):\n",
    "    combined_mask = create_masks(inp)\n",
    "\n",
    "    with tf.GradientTape() as tape :\n",
    "        predictions, _ = model(inp, True, combined_mask)\n",
    "        loss = loss_function(tar, predictions)\n",
    "\n",
    "    gradients = tape.gradient(loss, model.trainable_variables)\n",
    "    optimizer.apply_gradients(zip(gradients, model.trainable_variables))\n",
    "\n",
    "    train_loss(loss)\n",
    "    train_accuracy(accuracy_function(tar, predictions))\n"
   ]
  },
  {
   "cell_type": "code",
   "execution_count": 59,
   "metadata": {},
   "outputs": [
    {
     "name": "stderr",
     "output_type": "stream",
     "text": [
      "C:\\Users\\user\\AppData\\Local\\Temp\\ipykernel_27444\\142244732.py:4: TqdmDeprecationWarning: This function will be removed in tqdm==5.0.0\n",
      "Please use `tqdm.notebook.tqdm` instead of `tqdm.tqdm_notebook`\n",
      "  with tqdm_notebook(total=len(datasets), desc = f'Train {epoch+1}') as pbar :\n"
     ]
    },
    {
     "data": {
      "application/vnd.jupyter.widget-view+json": {
       "model_id": "ef4588da933e4a0eaedef85c2fba6e28",
       "version_major": 2,
       "version_minor": 0
      },
      "text/plain": [
       "Train 1:   0%|          | 0/32 [00:00<?, ?it/s]"
      ]
     },
     "metadata": {},
     "output_type": "display_data"
    },
    {
     "ename": "AttributeError",
     "evalue": "in user code:\n\n    File \"C:\\Users\\user\\AppData\\Local\\Temp\\ipykernel_27444\\3924528485.py\", line 6, in train_step  *\n        predictions, _ = model(inp, True, combined_mask)\n    File \"c:\\ProgramData\\Anaconda3\\lib\\site-packages\\keras\\src\\utils\\traceback_utils.py\", line 70, in error_handler  **\n        raise e.with_traceback(filtered_tb) from None\n    File \"C:\\Users\\user\\AppData\\Local\\Temp\\__autograph_generated_filecwljnz7p.py\", line 10, in tf__call\n        (dec_output, attention_weights) = ag__.converted_call(ag__.ld(self).decoder, (ag__.ld(inp), ag__.ld(training), ag__.ld(look_ahead_mask)), None, fscope)\n    File \"C:\\Users\\user\\AppData\\Local\\Temp\\__autograph_generated_fileqv8hqgw_.py\", line 33, in tf__call\n        ag__.for_stmt(ag__.converted_call(ag__.ld(range), (ag__.ld(self).n_layers,), None, fscope), None, loop_body, get_state, set_state, ('output',), {'iterate_names': 'i'})\n    File \"C:\\Users\\user\\AppData\\Local\\Temp\\__autograph_generated_fileqv8hqgw_.py\", line 29, in loop_body\n        (output, block1) = ag__.converted_call(ag__.ld(self).dec_layers[ag__.ld(i)], (ag__.ld(output), ag__.ld(training), ag__.ld(look_ahead_mask)), None, fscope)\n    File \"C:\\Users\\user\\AppData\\Local\\Temp\\__autograph_generated_files64w0xxv.py\", line 10, in tf__call\n        (attention1, attn_weights_block1) = ag__.converted_call(ag__.ld(self).attn, (ag__.ld(inputs), ag__.ld(inputs), ag__.ld(inputs), ag__.ld(look_ahead_mask)), None, fscope)\n    File \"C:\\Users\\user\\AppData\\Local\\Temp\\__autograph_generated_fileoogvb3ty.py\", line 17, in tf__call\n        (scaled_attention, attention_weights) = ag__.converted_call(ag__.ld(ScaledDotProductAttention), (ag__.ld(query), ag__.ld(key), ag__.ld(value), ag__.ld(mask)), None, fscope)\n    File \"C:\\Users\\user\\AppData\\Local\\Temp\\__autograph_generated_file1at9d0_i.py\", line 25, in tf__ScaledDotProductAttention\n        dk = ag__.converted_call(ag__.ld(tf).cast, (ag__.converted_call(ag__.ld(tf).shape, (ag__.ld(key),), None, fscope)[-1].tf.float32,), None, fscope)\n\n    AttributeError: Exception encountered when calling layer 'gpt2' (type GPT2).\n    \n    in user code:\n    \n        File \"C:\\Users\\user\\AppData\\Local\\Temp\\ipykernel_27444\\4084406977.py\", line 14, in call  *\n            dec_output, attention_weights = self.decoder(inp, training, look_ahead_mask)\n        File \"c:\\ProgramData\\Anaconda3\\lib\\site-packages\\keras\\src\\utils\\traceback_utils.py\", line 70, in error_handler  **\n            raise e.with_traceback(filtered_tb) from None\n        File \"C:\\Users\\user\\AppData\\Local\\Temp\\__autograph_generated_fileqv8hqgw_.py\", line 33, in tf__call\n            ag__.for_stmt(ag__.converted_call(ag__.ld(range), (ag__.ld(self).n_layers,), None, fscope), None, loop_body, get_state, set_state, ('output',), {'iterate_names': 'i'})\n        File \"C:\\Users\\user\\AppData\\Local\\Temp\\__autograph_generated_fileqv8hqgw_.py\", line 29, in loop_body\n            (output, block1) = ag__.converted_call(ag__.ld(self).dec_layers[ag__.ld(i)], (ag__.ld(output), ag__.ld(training), ag__.ld(look_ahead_mask)), None, fscope)\n        File \"C:\\Users\\user\\AppData\\Local\\Temp\\__autograph_generated_files64w0xxv.py\", line 10, in tf__call\n            (attention1, attn_weights_block1) = ag__.converted_call(ag__.ld(self).attn, (ag__.ld(inputs), ag__.ld(inputs), ag__.ld(inputs), ag__.ld(look_ahead_mask)), None, fscope)\n        File \"C:\\Users\\user\\AppData\\Local\\Temp\\__autograph_generated_fileoogvb3ty.py\", line 17, in tf__call\n            (scaled_attention, attention_weights) = ag__.converted_call(ag__.ld(ScaledDotProductAttention), (ag__.ld(query), ag__.ld(key), ag__.ld(value), ag__.ld(mask)), None, fscope)\n        File \"C:\\Users\\user\\AppData\\Local\\Temp\\__autograph_generated_file1at9d0_i.py\", line 25, in tf__ScaledDotProductAttention\n            dk = ag__.converted_call(ag__.ld(tf).cast, (ag__.converted_call(ag__.ld(tf).shape, (ag__.ld(key),), None, fscope)[-1].tf.float32,), None, fscope)\n    \n        AttributeError: Exception encountered when calling layer 'decoder' (type Decoder).\n        \n        in user code:\n        \n            File \"C:\\Users\\user\\AppData\\Local\\Temp\\ipykernel_27444\\3466053320.py\", line 27, in call  *\n                output, block1 = self.dec_layers[i](output, training, look_ahead_mask)\n            File \"c:\\ProgramData\\Anaconda3\\lib\\site-packages\\keras\\src\\utils\\traceback_utils.py\", line 70, in error_handler  **\n                raise e.with_traceback(filtered_tb) from None\n            File \"C:\\Users\\user\\AppData\\Local\\Temp\\__autograph_generated_files64w0xxv.py\", line 10, in tf__call\n                (attention1, attn_weights_block1) = ag__.converted_call(ag__.ld(self).attn, (ag__.ld(inputs), ag__.ld(inputs), ag__.ld(inputs), ag__.ld(look_ahead_mask)), None, fscope)\n            File \"C:\\Users\\user\\AppData\\Local\\Temp\\__autograph_generated_fileoogvb3ty.py\", line 17, in tf__call\n                (scaled_attention, attention_weights) = ag__.converted_call(ag__.ld(ScaledDotProductAttention), (ag__.ld(query), ag__.ld(key), ag__.ld(value), ag__.ld(mask)), None, fscope)\n            File \"C:\\Users\\user\\AppData\\Local\\Temp\\__autograph_generated_file1at9d0_i.py\", line 25, in tf__ScaledDotProductAttention\n                dk = ag__.converted_call(ag__.ld(tf).cast, (ag__.converted_call(ag__.ld(tf).shape, (ag__.ld(key),), None, fscope)[-1].tf.float32,), None, fscope)\n        \n            AttributeError: Exception encountered when calling layer 'decoder_layer' (type DecoderLayer).\n            \n            in user code:\n            \n                File \"C:\\Users\\user\\AppData\\Local\\Temp\\ipykernel_27444\\3315783466.py\", line 19, in call  *\n                    attention1, attn_weights_block1 = self.attn(inputs, inputs, inputs, look_ahead_mask)\n                File \"c:\\ProgramData\\Anaconda3\\lib\\site-packages\\keras\\src\\utils\\traceback_utils.py\", line 70, in error_handler  **\n                    raise e.with_traceback(filtered_tb) from None\n                File \"C:\\Users\\user\\AppData\\Local\\Temp\\__autograph_generated_fileoogvb3ty.py\", line 17, in tf__call\n                    (scaled_attention, attention_weights) = ag__.converted_call(ag__.ld(ScaledDotProductAttention), (ag__.ld(query), ag__.ld(key), ag__.ld(value), ag__.ld(mask)), None, fscope)\n                File \"C:\\Users\\user\\AppData\\Local\\Temp\\__autograph_generated_file1at9d0_i.py\", line 25, in tf__ScaledDotProductAttention\n                    dk = ag__.converted_call(ag__.ld(tf).cast, (ag__.converted_call(ag__.ld(tf).shape, (ag__.ld(key),), None, fscope)[-1].tf.float32,), None, fscope)\n            \n                AttributeError: Exception encountered when calling layer 'multi_head_attention_layer' (type MultiHeadAttentionLayer).\n                \n                in user code:\n                \n                    File \"C:\\Users\\user\\AppData\\Local\\Temp\\ipykernel_27444\\4203886506.py\", line 40, in call  *\n                        scaled_attention, attention_weights = ScaledDotProductAttention(query, key, value, mask)\n                    File \"C:\\Users\\user\\AppData\\Local\\Temp\\ipykernel_27444\\580998220.py\", line 22, in ScaledDotProductAttention  *\n                        dk = tf.cast(tf.shape(key)[-1]. tf.float32)\n                \n                    AttributeError: 'Tensor' object has no attribute 'tf'\n                \n                \n                Call arguments received by layer 'multi_head_attention_layer' (type MultiHeadAttentionLayer):\n                  • value=tf.Tensor(shape=(256, 61, 128), dtype=float32)\n                  • key=tf.Tensor(shape=(256, 61, 128), dtype=float32)\n                  • query=tf.Tensor(shape=(256, 61, 128), dtype=float32)\n                  • mask=tf.Tensor(shape=(256, 1, 61, 61), dtype=float32)\n            \n            \n            Call arguments received by layer 'decoder_layer' (type DecoderLayer):\n              • inputs=tf.Tensor(shape=(256, 61, 128), dtype=float32)\n              • training=True\n              • look_ahead_mask=tf.Tensor(shape=(256, 1, 61, 61), dtype=float32)\n        \n        \n        Call arguments received by layer 'decoder' (type Decoder):\n          • dec_input=tf.Tensor(shape=(256, 61), dtype=int64)\n          • training=True\n          • look_ahead_mask=tf.Tensor(shape=(256, 1, 61, 61), dtype=float32)\n    \n    \n    Call arguments received by layer 'gpt2' (type GPT2):\n      • inp=tf.Tensor(shape=(256, 61), dtype=int64)\n      • training=True\n      • look_ahead_mask=tf.Tensor(shape=(256, 1, 61, 61), dtype=float32)\n",
     "output_type": "error",
     "traceback": [
      "\u001b[1;31m---------------------------------------------------------------------------\u001b[0m",
      "\u001b[1;31mAttributeError\u001b[0m                            Traceback (most recent call last)",
      "\u001b[1;32m~\\AppData\\Local\\Temp\\ipykernel_27444\\142244732.py\u001b[0m in \u001b[0;36m<module>\u001b[1;34m\u001b[0m\n\u001b[0;32m      4\u001b[0m     \u001b[1;32mwith\u001b[0m \u001b[0mtqdm_notebook\u001b[0m\u001b[1;33m(\u001b[0m\u001b[0mtotal\u001b[0m\u001b[1;33m=\u001b[0m\u001b[0mlen\u001b[0m\u001b[1;33m(\u001b[0m\u001b[0mdatasets\u001b[0m\u001b[1;33m)\u001b[0m\u001b[1;33m,\u001b[0m \u001b[0mdesc\u001b[0m \u001b[1;33m=\u001b[0m \u001b[1;34mf'Train {epoch+1}'\u001b[0m\u001b[1;33m)\u001b[0m \u001b[1;32mas\u001b[0m \u001b[0mpbar\u001b[0m \u001b[1;33m:\u001b[0m\u001b[1;33m\u001b[0m\u001b[1;33m\u001b[0m\u001b[0m\n\u001b[0;32m      5\u001b[0m         \u001b[1;32mfor\u001b[0m \u001b[1;33m(\u001b[0m\u001b[0mbatch\u001b[0m\u001b[1;33m,\u001b[0m \u001b[1;33m(\u001b[0m\u001b[0minp\u001b[0m\u001b[1;33m,\u001b[0m \u001b[0mtar\u001b[0m\u001b[1;33m)\u001b[0m\u001b[1;33m)\u001b[0m \u001b[1;32min\u001b[0m \u001b[0menumerate\u001b[0m\u001b[1;33m(\u001b[0m\u001b[0mdatasets\u001b[0m\u001b[1;33m)\u001b[0m\u001b[1;33m:\u001b[0m\u001b[1;33m\u001b[0m\u001b[1;33m\u001b[0m\u001b[0m\n\u001b[1;32m----> 6\u001b[1;33m             \u001b[0mtrain_step\u001b[0m\u001b[1;33m(\u001b[0m\u001b[0minp\u001b[0m\u001b[1;33m,\u001b[0m \u001b[0mtar\u001b[0m\u001b[1;33m)\u001b[0m\u001b[1;33m\u001b[0m\u001b[1;33m\u001b[0m\u001b[0m\n\u001b[0m\u001b[0;32m      7\u001b[0m \u001b[1;33m\u001b[0m\u001b[0m\n\u001b[0;32m      8\u001b[0m             \u001b[0mpbar\u001b[0m\u001b[1;33m.\u001b[0m\u001b[0mupdate\u001b[0m\u001b[1;33m(\u001b[0m\u001b[1;36m1\u001b[0m\u001b[1;33m)\u001b[0m\u001b[1;33m\u001b[0m\u001b[1;33m\u001b[0m\u001b[0m\n",
      "\u001b[1;32mc:\\ProgramData\\Anaconda3\\lib\\site-packages\\tensorflow\\python\\util\\traceback_utils.py\u001b[0m in \u001b[0;36merror_handler\u001b[1;34m(*args, **kwargs)\u001b[0m\n\u001b[0;32m    151\u001b[0m     \u001b[1;32mexcept\u001b[0m \u001b[0mException\u001b[0m \u001b[1;32mas\u001b[0m \u001b[0me\u001b[0m\u001b[1;33m:\u001b[0m\u001b[1;33m\u001b[0m\u001b[1;33m\u001b[0m\u001b[0m\n\u001b[0;32m    152\u001b[0m       \u001b[0mfiltered_tb\u001b[0m \u001b[1;33m=\u001b[0m \u001b[0m_process_traceback_frames\u001b[0m\u001b[1;33m(\u001b[0m\u001b[0me\u001b[0m\u001b[1;33m.\u001b[0m\u001b[0m__traceback__\u001b[0m\u001b[1;33m)\u001b[0m\u001b[1;33m\u001b[0m\u001b[1;33m\u001b[0m\u001b[0m\n\u001b[1;32m--> 153\u001b[1;33m       \u001b[1;32mraise\u001b[0m \u001b[0me\u001b[0m\u001b[1;33m.\u001b[0m\u001b[0mwith_traceback\u001b[0m\u001b[1;33m(\u001b[0m\u001b[0mfiltered_tb\u001b[0m\u001b[1;33m)\u001b[0m \u001b[1;32mfrom\u001b[0m \u001b[1;32mNone\u001b[0m\u001b[1;33m\u001b[0m\u001b[1;33m\u001b[0m\u001b[0m\n\u001b[0m\u001b[0;32m    154\u001b[0m     \u001b[1;32mfinally\u001b[0m\u001b[1;33m:\u001b[0m\u001b[1;33m\u001b[0m\u001b[1;33m\u001b[0m\u001b[0m\n\u001b[0;32m    155\u001b[0m       \u001b[1;32mdel\u001b[0m \u001b[0mfiltered_tb\u001b[0m\u001b[1;33m\u001b[0m\u001b[1;33m\u001b[0m\u001b[0m\n",
      "\u001b[1;32m~\\AppData\\Local\\Temp\\__autograph_generated_filegzw7qpw_.py\u001b[0m in \u001b[0;36mtf__train_step\u001b[1;34m(inp, tar)\u001b[0m\n\u001b[0;32m      8\u001b[0m                 \u001b[0mcombined_mask\u001b[0m \u001b[1;33m=\u001b[0m \u001b[0mag__\u001b[0m\u001b[1;33m.\u001b[0m\u001b[0mconverted_call\u001b[0m\u001b[1;33m(\u001b[0m\u001b[0mag__\u001b[0m\u001b[1;33m.\u001b[0m\u001b[0mld\u001b[0m\u001b[1;33m(\u001b[0m\u001b[0mcreate_masks\u001b[0m\u001b[1;33m)\u001b[0m\u001b[1;33m,\u001b[0m \u001b[1;33m(\u001b[0m\u001b[0mag__\u001b[0m\u001b[1;33m.\u001b[0m\u001b[0mld\u001b[0m\u001b[1;33m(\u001b[0m\u001b[0minp\u001b[0m\u001b[1;33m)\u001b[0m\u001b[1;33m,\u001b[0m\u001b[1;33m)\u001b[0m\u001b[1;33m,\u001b[0m \u001b[1;32mNone\u001b[0m\u001b[1;33m,\u001b[0m \u001b[0mfscope\u001b[0m\u001b[1;33m)\u001b[0m\u001b[1;33m\u001b[0m\u001b[1;33m\u001b[0m\u001b[0m\n\u001b[0;32m      9\u001b[0m                 \u001b[1;32mwith\u001b[0m \u001b[0mag__\u001b[0m\u001b[1;33m.\u001b[0m\u001b[0mld\u001b[0m\u001b[1;33m(\u001b[0m\u001b[0mtf\u001b[0m\u001b[1;33m)\u001b[0m\u001b[1;33m.\u001b[0m\u001b[0mGradientTape\u001b[0m\u001b[1;33m(\u001b[0m\u001b[1;33m)\u001b[0m \u001b[1;32mas\u001b[0m \u001b[0mtape\u001b[0m\u001b[1;33m:\u001b[0m\u001b[1;33m\u001b[0m\u001b[1;33m\u001b[0m\u001b[0m\n\u001b[1;32m---> 10\u001b[1;33m                     \u001b[1;33m(\u001b[0m\u001b[0mpredictions\u001b[0m\u001b[1;33m,\u001b[0m \u001b[0m_\u001b[0m\u001b[1;33m)\u001b[0m \u001b[1;33m=\u001b[0m \u001b[0mag__\u001b[0m\u001b[1;33m.\u001b[0m\u001b[0mconverted_call\u001b[0m\u001b[1;33m(\u001b[0m\u001b[0mag__\u001b[0m\u001b[1;33m.\u001b[0m\u001b[0mld\u001b[0m\u001b[1;33m(\u001b[0m\u001b[0mmodel\u001b[0m\u001b[1;33m)\u001b[0m\u001b[1;33m,\u001b[0m \u001b[1;33m(\u001b[0m\u001b[0mag__\u001b[0m\u001b[1;33m.\u001b[0m\u001b[0mld\u001b[0m\u001b[1;33m(\u001b[0m\u001b[0minp\u001b[0m\u001b[1;33m)\u001b[0m\u001b[1;33m,\u001b[0m \u001b[1;32mTrue\u001b[0m\u001b[1;33m,\u001b[0m \u001b[0mag__\u001b[0m\u001b[1;33m.\u001b[0m\u001b[0mld\u001b[0m\u001b[1;33m(\u001b[0m\u001b[0mcombined_mask\u001b[0m\u001b[1;33m)\u001b[0m\u001b[1;33m)\u001b[0m\u001b[1;33m,\u001b[0m \u001b[1;32mNone\u001b[0m\u001b[1;33m,\u001b[0m \u001b[0mfscope\u001b[0m\u001b[1;33m)\u001b[0m\u001b[1;33m\u001b[0m\u001b[1;33m\u001b[0m\u001b[0m\n\u001b[0m\u001b[0;32m     11\u001b[0m                     \u001b[0mloss\u001b[0m \u001b[1;33m=\u001b[0m \u001b[0mag__\u001b[0m\u001b[1;33m.\u001b[0m\u001b[0mconverted_call\u001b[0m\u001b[1;33m(\u001b[0m\u001b[0mag__\u001b[0m\u001b[1;33m.\u001b[0m\u001b[0mld\u001b[0m\u001b[1;33m(\u001b[0m\u001b[0mloss_function\u001b[0m\u001b[1;33m)\u001b[0m\u001b[1;33m,\u001b[0m \u001b[1;33m(\u001b[0m\u001b[0mag__\u001b[0m\u001b[1;33m.\u001b[0m\u001b[0mld\u001b[0m\u001b[1;33m(\u001b[0m\u001b[0mtar\u001b[0m\u001b[1;33m)\u001b[0m\u001b[1;33m,\u001b[0m \u001b[0mag__\u001b[0m\u001b[1;33m.\u001b[0m\u001b[0mld\u001b[0m\u001b[1;33m(\u001b[0m\u001b[0mpredictions\u001b[0m\u001b[1;33m)\u001b[0m\u001b[1;33m)\u001b[0m\u001b[1;33m,\u001b[0m \u001b[1;32mNone\u001b[0m\u001b[1;33m,\u001b[0m \u001b[0mfscope\u001b[0m\u001b[1;33m)\u001b[0m\u001b[1;33m\u001b[0m\u001b[1;33m\u001b[0m\u001b[0m\n\u001b[0;32m     12\u001b[0m                 \u001b[0mgradients\u001b[0m \u001b[1;33m=\u001b[0m \u001b[0mag__\u001b[0m\u001b[1;33m.\u001b[0m\u001b[0mconverted_call\u001b[0m\u001b[1;33m(\u001b[0m\u001b[0mag__\u001b[0m\u001b[1;33m.\u001b[0m\u001b[0mld\u001b[0m\u001b[1;33m(\u001b[0m\u001b[0mtape\u001b[0m\u001b[1;33m)\u001b[0m\u001b[1;33m.\u001b[0m\u001b[0mgradient\u001b[0m\u001b[1;33m,\u001b[0m \u001b[1;33m(\u001b[0m\u001b[0mag__\u001b[0m\u001b[1;33m.\u001b[0m\u001b[0mld\u001b[0m\u001b[1;33m(\u001b[0m\u001b[0mloss\u001b[0m\u001b[1;33m)\u001b[0m\u001b[1;33m,\u001b[0m \u001b[0mag__\u001b[0m\u001b[1;33m.\u001b[0m\u001b[0mld\u001b[0m\u001b[1;33m(\u001b[0m\u001b[0mmodel\u001b[0m\u001b[1;33m)\u001b[0m\u001b[1;33m.\u001b[0m\u001b[0mtrainable_variables\u001b[0m\u001b[1;33m)\u001b[0m\u001b[1;33m,\u001b[0m \u001b[1;32mNone\u001b[0m\u001b[1;33m,\u001b[0m \u001b[0mfscope\u001b[0m\u001b[1;33m)\u001b[0m\u001b[1;33m\u001b[0m\u001b[1;33m\u001b[0m\u001b[0m\n",
      "\u001b[1;32mc:\\ProgramData\\Anaconda3\\lib\\site-packages\\keras\\src\\utils\\traceback_utils.py\u001b[0m in \u001b[0;36merror_handler\u001b[1;34m(*args, **kwargs)\u001b[0m\n\u001b[0;32m     68\u001b[0m             \u001b[1;31m# To get the full stack trace, call:\u001b[0m\u001b[1;33m\u001b[0m\u001b[1;33m\u001b[0m\u001b[0m\n\u001b[0;32m     69\u001b[0m             \u001b[1;31m# `tf.debugging.disable_traceback_filtering()`\u001b[0m\u001b[1;33m\u001b[0m\u001b[1;33m\u001b[0m\u001b[0m\n\u001b[1;32m---> 70\u001b[1;33m             \u001b[1;32mraise\u001b[0m \u001b[0me\u001b[0m\u001b[1;33m.\u001b[0m\u001b[0mwith_traceback\u001b[0m\u001b[1;33m(\u001b[0m\u001b[0mfiltered_tb\u001b[0m\u001b[1;33m)\u001b[0m \u001b[1;32mfrom\u001b[0m \u001b[1;32mNone\u001b[0m\u001b[1;33m\u001b[0m\u001b[1;33m\u001b[0m\u001b[0m\n\u001b[0m\u001b[0;32m     71\u001b[0m         \u001b[1;32mfinally\u001b[0m\u001b[1;33m:\u001b[0m\u001b[1;33m\u001b[0m\u001b[1;33m\u001b[0m\u001b[0m\n\u001b[0;32m     72\u001b[0m             \u001b[1;32mdel\u001b[0m \u001b[0mfiltered_tb\u001b[0m\u001b[1;33m\u001b[0m\u001b[1;33m\u001b[0m\u001b[0m\n",
      "\u001b[1;32m~\\AppData\\Local\\Temp\\__autograph_generated_filecwljnz7p.py\u001b[0m in \u001b[0;36mtf__call\u001b[1;34m(self, inp, training, look_ahead_mask)\u001b[0m\n\u001b[0;32m      8\u001b[0m                 \u001b[0mdo_return\u001b[0m \u001b[1;33m=\u001b[0m \u001b[1;32mFalse\u001b[0m\u001b[1;33m\u001b[0m\u001b[1;33m\u001b[0m\u001b[0m\n\u001b[0;32m      9\u001b[0m                 \u001b[0mretval_\u001b[0m \u001b[1;33m=\u001b[0m \u001b[0mag__\u001b[0m\u001b[1;33m.\u001b[0m\u001b[0mUndefinedReturnValue\u001b[0m\u001b[1;33m(\u001b[0m\u001b[1;33m)\u001b[0m\u001b[1;33m\u001b[0m\u001b[1;33m\u001b[0m\u001b[0m\n\u001b[1;32m---> 10\u001b[1;33m                 \u001b[1;33m(\u001b[0m\u001b[0mdec_output\u001b[0m\u001b[1;33m,\u001b[0m \u001b[0mattention_weights\u001b[0m\u001b[1;33m)\u001b[0m \u001b[1;33m=\u001b[0m \u001b[0mag__\u001b[0m\u001b[1;33m.\u001b[0m\u001b[0mconverted_call\u001b[0m\u001b[1;33m(\u001b[0m\u001b[0mag__\u001b[0m\u001b[1;33m.\u001b[0m\u001b[0mld\u001b[0m\u001b[1;33m(\u001b[0m\u001b[0mself\u001b[0m\u001b[1;33m)\u001b[0m\u001b[1;33m.\u001b[0m\u001b[0mdecoder\u001b[0m\u001b[1;33m,\u001b[0m \u001b[1;33m(\u001b[0m\u001b[0mag__\u001b[0m\u001b[1;33m.\u001b[0m\u001b[0mld\u001b[0m\u001b[1;33m(\u001b[0m\u001b[0minp\u001b[0m\u001b[1;33m)\u001b[0m\u001b[1;33m,\u001b[0m \u001b[0mag__\u001b[0m\u001b[1;33m.\u001b[0m\u001b[0mld\u001b[0m\u001b[1;33m(\u001b[0m\u001b[0mtraining\u001b[0m\u001b[1;33m)\u001b[0m\u001b[1;33m,\u001b[0m \u001b[0mag__\u001b[0m\u001b[1;33m.\u001b[0m\u001b[0mld\u001b[0m\u001b[1;33m(\u001b[0m\u001b[0mlook_ahead_mask\u001b[0m\u001b[1;33m)\u001b[0m\u001b[1;33m)\u001b[0m\u001b[1;33m,\u001b[0m \u001b[1;32mNone\u001b[0m\u001b[1;33m,\u001b[0m \u001b[0mfscope\u001b[0m\u001b[1;33m)\u001b[0m\u001b[1;33m\u001b[0m\u001b[1;33m\u001b[0m\u001b[0m\n\u001b[0m\u001b[0;32m     11\u001b[0m                 \u001b[0mfinal_output\u001b[0m \u001b[1;33m=\u001b[0m \u001b[0mag__\u001b[0m\u001b[1;33m.\u001b[0m\u001b[0mconverted_call\u001b[0m\u001b[1;33m(\u001b[0m\u001b[0mag__\u001b[0m\u001b[1;33m.\u001b[0m\u001b[0mld\u001b[0m\u001b[1;33m(\u001b[0m\u001b[0mself\u001b[0m\u001b[1;33m)\u001b[0m\u001b[1;33m.\u001b[0m\u001b[0mfin_output\u001b[0m\u001b[1;33m,\u001b[0m \u001b[1;33m(\u001b[0m\u001b[0mag__\u001b[0m\u001b[1;33m.\u001b[0m\u001b[0mld\u001b[0m\u001b[1;33m(\u001b[0m\u001b[0mdec_output\u001b[0m\u001b[1;33m)\u001b[0m\u001b[1;33m,\u001b[0m\u001b[1;33m)\u001b[0m\u001b[1;33m,\u001b[0m \u001b[1;32mNone\u001b[0m\u001b[1;33m,\u001b[0m \u001b[0mfscope\u001b[0m\u001b[1;33m)\u001b[0m\u001b[1;33m\u001b[0m\u001b[1;33m\u001b[0m\u001b[0m\n\u001b[0;32m     12\u001b[0m                 \u001b[1;32mtry\u001b[0m\u001b[1;33m:\u001b[0m\u001b[1;33m\u001b[0m\u001b[1;33m\u001b[0m\u001b[0m\n",
      "\u001b[1;32m~\\AppData\\Local\\Temp\\__autograph_generated_fileqv8hqgw_.py\u001b[0m in \u001b[0;36mtf__call\u001b[1;34m(self, dec_input, training, look_ahead_mask)\u001b[0m\n\u001b[0;32m     31\u001b[0m                 \u001b[0mblock1\u001b[0m \u001b[1;33m=\u001b[0m \u001b[0mag__\u001b[0m\u001b[1;33m.\u001b[0m\u001b[0mUndefined\u001b[0m\u001b[1;33m(\u001b[0m\u001b[1;34m'block1'\u001b[0m\u001b[1;33m)\u001b[0m\u001b[1;33m\u001b[0m\u001b[1;33m\u001b[0m\u001b[0m\n\u001b[0;32m     32\u001b[0m                 \u001b[0mi\u001b[0m \u001b[1;33m=\u001b[0m \u001b[0mag__\u001b[0m\u001b[1;33m.\u001b[0m\u001b[0mUndefined\u001b[0m\u001b[1;33m(\u001b[0m\u001b[1;34m'i'\u001b[0m\u001b[1;33m)\u001b[0m\u001b[1;33m\u001b[0m\u001b[1;33m\u001b[0m\u001b[0m\n\u001b[1;32m---> 33\u001b[1;33m                 \u001b[0mag__\u001b[0m\u001b[1;33m.\u001b[0m\u001b[0mfor_stmt\u001b[0m\u001b[1;33m(\u001b[0m\u001b[0mag__\u001b[0m\u001b[1;33m.\u001b[0m\u001b[0mconverted_call\u001b[0m\u001b[1;33m(\u001b[0m\u001b[0mag__\u001b[0m\u001b[1;33m.\u001b[0m\u001b[0mld\u001b[0m\u001b[1;33m(\u001b[0m\u001b[0mrange\u001b[0m\u001b[1;33m)\u001b[0m\u001b[1;33m,\u001b[0m \u001b[1;33m(\u001b[0m\u001b[0mag__\u001b[0m\u001b[1;33m.\u001b[0m\u001b[0mld\u001b[0m\u001b[1;33m(\u001b[0m\u001b[0mself\u001b[0m\u001b[1;33m)\u001b[0m\u001b[1;33m.\u001b[0m\u001b[0mn_layers\u001b[0m\u001b[1;33m,\u001b[0m\u001b[1;33m)\u001b[0m\u001b[1;33m,\u001b[0m \u001b[1;32mNone\u001b[0m\u001b[1;33m,\u001b[0m \u001b[0mfscope\u001b[0m\u001b[1;33m)\u001b[0m\u001b[1;33m,\u001b[0m \u001b[1;32mNone\u001b[0m\u001b[1;33m,\u001b[0m \u001b[0mloop_body\u001b[0m\u001b[1;33m,\u001b[0m \u001b[0mget_state\u001b[0m\u001b[1;33m,\u001b[0m \u001b[0mset_state\u001b[0m\u001b[1;33m,\u001b[0m \u001b[1;33m(\u001b[0m\u001b[1;34m'output'\u001b[0m\u001b[1;33m,\u001b[0m\u001b[1;33m)\u001b[0m\u001b[1;33m,\u001b[0m \u001b[1;33m{\u001b[0m\u001b[1;34m'iterate_names'\u001b[0m\u001b[1;33m:\u001b[0m \u001b[1;34m'i'\u001b[0m\u001b[1;33m}\u001b[0m\u001b[1;33m)\u001b[0m\u001b[1;33m\u001b[0m\u001b[1;33m\u001b[0m\u001b[0m\n\u001b[0m\u001b[0;32m     34\u001b[0m                 \u001b[1;32mtry\u001b[0m\u001b[1;33m:\u001b[0m\u001b[1;33m\u001b[0m\u001b[1;33m\u001b[0m\u001b[0m\n\u001b[0;32m     35\u001b[0m                     \u001b[0mdo_return\u001b[0m \u001b[1;33m=\u001b[0m \u001b[1;32mTrue\u001b[0m\u001b[1;33m\u001b[0m\u001b[1;33m\u001b[0m\u001b[0m\n",
      "\u001b[1;32m~\\AppData\\Local\\Temp\\__autograph_generated_fileqv8hqgw_.py\u001b[0m in \u001b[0;36mloop_body\u001b[1;34m(itr)\u001b[0m\n\u001b[0;32m     27\u001b[0m                     \u001b[1;32mnonlocal\u001b[0m \u001b[0moutput\u001b[0m\u001b[1;33m\u001b[0m\u001b[1;33m\u001b[0m\u001b[0m\n\u001b[0;32m     28\u001b[0m                     \u001b[0mi\u001b[0m \u001b[1;33m=\u001b[0m \u001b[0mitr\u001b[0m\u001b[1;33m\u001b[0m\u001b[1;33m\u001b[0m\u001b[0m\n\u001b[1;32m---> 29\u001b[1;33m                     \u001b[1;33m(\u001b[0m\u001b[0moutput\u001b[0m\u001b[1;33m,\u001b[0m \u001b[0mblock1\u001b[0m\u001b[1;33m)\u001b[0m \u001b[1;33m=\u001b[0m \u001b[0mag__\u001b[0m\u001b[1;33m.\u001b[0m\u001b[0mconverted_call\u001b[0m\u001b[1;33m(\u001b[0m\u001b[0mag__\u001b[0m\u001b[1;33m.\u001b[0m\u001b[0mld\u001b[0m\u001b[1;33m(\u001b[0m\u001b[0mself\u001b[0m\u001b[1;33m)\u001b[0m\u001b[1;33m.\u001b[0m\u001b[0mdec_layers\u001b[0m\u001b[1;33m[\u001b[0m\u001b[0mag__\u001b[0m\u001b[1;33m.\u001b[0m\u001b[0mld\u001b[0m\u001b[1;33m(\u001b[0m\u001b[0mi\u001b[0m\u001b[1;33m)\u001b[0m\u001b[1;33m]\u001b[0m\u001b[1;33m,\u001b[0m \u001b[1;33m(\u001b[0m\u001b[0mag__\u001b[0m\u001b[1;33m.\u001b[0m\u001b[0mld\u001b[0m\u001b[1;33m(\u001b[0m\u001b[0moutput\u001b[0m\u001b[1;33m)\u001b[0m\u001b[1;33m,\u001b[0m \u001b[0mag__\u001b[0m\u001b[1;33m.\u001b[0m\u001b[0mld\u001b[0m\u001b[1;33m(\u001b[0m\u001b[0mtraining\u001b[0m\u001b[1;33m)\u001b[0m\u001b[1;33m,\u001b[0m \u001b[0mag__\u001b[0m\u001b[1;33m.\u001b[0m\u001b[0mld\u001b[0m\u001b[1;33m(\u001b[0m\u001b[0mlook_ahead_mask\u001b[0m\u001b[1;33m)\u001b[0m\u001b[1;33m)\u001b[0m\u001b[1;33m,\u001b[0m \u001b[1;32mNone\u001b[0m\u001b[1;33m,\u001b[0m \u001b[0mfscope\u001b[0m\u001b[1;33m)\u001b[0m\u001b[1;33m\u001b[0m\u001b[1;33m\u001b[0m\u001b[0m\n\u001b[0m\u001b[0;32m     30\u001b[0m                     \u001b[0mag__\u001b[0m\u001b[1;33m.\u001b[0m\u001b[0mld\u001b[0m\u001b[1;33m(\u001b[0m\u001b[0mattention_weights\u001b[0m\u001b[1;33m)\u001b[0m\u001b[1;33m[\u001b[0m\u001b[0mag__\u001b[0m\u001b[1;33m.\u001b[0m\u001b[0mconverted_call\u001b[0m\u001b[1;33m(\u001b[0m\u001b[1;34m'decoder_layer{}_block1'\u001b[0m\u001b[1;33m.\u001b[0m\u001b[0mformat\u001b[0m\u001b[1;33m,\u001b[0m \u001b[1;33m(\u001b[0m\u001b[0mag__\u001b[0m\u001b[1;33m.\u001b[0m\u001b[0mld\u001b[0m\u001b[1;33m(\u001b[0m\u001b[0mi\u001b[0m\u001b[1;33m)\u001b[0m \u001b[1;33m+\u001b[0m \u001b[1;36m1\u001b[0m\u001b[1;33m,\u001b[0m\u001b[1;33m)\u001b[0m\u001b[1;33m,\u001b[0m \u001b[1;32mNone\u001b[0m\u001b[1;33m,\u001b[0m \u001b[0mfscope\u001b[0m\u001b[1;33m)\u001b[0m\u001b[1;33m]\u001b[0m \u001b[1;33m=\u001b[0m \u001b[0mag__\u001b[0m\u001b[1;33m.\u001b[0m\u001b[0mld\u001b[0m\u001b[1;33m(\u001b[0m\u001b[0mblock1\u001b[0m\u001b[1;33m)\u001b[0m\u001b[1;33m\u001b[0m\u001b[1;33m\u001b[0m\u001b[0m\n\u001b[0;32m     31\u001b[0m                 \u001b[0mblock1\u001b[0m \u001b[1;33m=\u001b[0m \u001b[0mag__\u001b[0m\u001b[1;33m.\u001b[0m\u001b[0mUndefined\u001b[0m\u001b[1;33m(\u001b[0m\u001b[1;34m'block1'\u001b[0m\u001b[1;33m)\u001b[0m\u001b[1;33m\u001b[0m\u001b[1;33m\u001b[0m\u001b[0m\n",
      "\u001b[1;32m~\\AppData\\Local\\Temp\\__autograph_generated_files64w0xxv.py\u001b[0m in \u001b[0;36mtf__call\u001b[1;34m(self, inputs, training, look_ahead_mask)\u001b[0m\n\u001b[0;32m      8\u001b[0m                 \u001b[0mdo_return\u001b[0m \u001b[1;33m=\u001b[0m \u001b[1;32mFalse\u001b[0m\u001b[1;33m\u001b[0m\u001b[1;33m\u001b[0m\u001b[0m\n\u001b[0;32m      9\u001b[0m                 \u001b[0mretval_\u001b[0m \u001b[1;33m=\u001b[0m \u001b[0mag__\u001b[0m\u001b[1;33m.\u001b[0m\u001b[0mUndefinedReturnValue\u001b[0m\u001b[1;33m(\u001b[0m\u001b[1;33m)\u001b[0m\u001b[1;33m\u001b[0m\u001b[1;33m\u001b[0m\u001b[0m\n\u001b[1;32m---> 10\u001b[1;33m                 \u001b[1;33m(\u001b[0m\u001b[0mattention1\u001b[0m\u001b[1;33m,\u001b[0m \u001b[0mattn_weights_block1\u001b[0m\u001b[1;33m)\u001b[0m \u001b[1;33m=\u001b[0m \u001b[0mag__\u001b[0m\u001b[1;33m.\u001b[0m\u001b[0mconverted_call\u001b[0m\u001b[1;33m(\u001b[0m\u001b[0mag__\u001b[0m\u001b[1;33m.\u001b[0m\u001b[0mld\u001b[0m\u001b[1;33m(\u001b[0m\u001b[0mself\u001b[0m\u001b[1;33m)\u001b[0m\u001b[1;33m.\u001b[0m\u001b[0mattn\u001b[0m\u001b[1;33m,\u001b[0m \u001b[1;33m(\u001b[0m\u001b[0mag__\u001b[0m\u001b[1;33m.\u001b[0m\u001b[0mld\u001b[0m\u001b[1;33m(\u001b[0m\u001b[0minputs\u001b[0m\u001b[1;33m)\u001b[0m\u001b[1;33m,\u001b[0m \u001b[0mag__\u001b[0m\u001b[1;33m.\u001b[0m\u001b[0mld\u001b[0m\u001b[1;33m(\u001b[0m\u001b[0minputs\u001b[0m\u001b[1;33m)\u001b[0m\u001b[1;33m,\u001b[0m \u001b[0mag__\u001b[0m\u001b[1;33m.\u001b[0m\u001b[0mld\u001b[0m\u001b[1;33m(\u001b[0m\u001b[0minputs\u001b[0m\u001b[1;33m)\u001b[0m\u001b[1;33m,\u001b[0m \u001b[0mag__\u001b[0m\u001b[1;33m.\u001b[0m\u001b[0mld\u001b[0m\u001b[1;33m(\u001b[0m\u001b[0mlook_ahead_mask\u001b[0m\u001b[1;33m)\u001b[0m\u001b[1;33m)\u001b[0m\u001b[1;33m,\u001b[0m \u001b[1;32mNone\u001b[0m\u001b[1;33m,\u001b[0m \u001b[0mfscope\u001b[0m\u001b[1;33m)\u001b[0m\u001b[1;33m\u001b[0m\u001b[1;33m\u001b[0m\u001b[0m\n\u001b[0m\u001b[0;32m     11\u001b[0m                 \u001b[0mattention1\u001b[0m \u001b[1;33m=\u001b[0m \u001b[0mag__\u001b[0m\u001b[1;33m.\u001b[0m\u001b[0mconverted_call\u001b[0m\u001b[1;33m(\u001b[0m\u001b[0mag__\u001b[0m\u001b[1;33m.\u001b[0m\u001b[0mld\u001b[0m\u001b[1;33m(\u001b[0m\u001b[0mself\u001b[0m\u001b[1;33m)\u001b[0m\u001b[1;33m.\u001b[0m\u001b[0mdropout1\u001b[0m\u001b[1;33m,\u001b[0m \u001b[1;33m(\u001b[0m\u001b[0mag__\u001b[0m\u001b[1;33m.\u001b[0m\u001b[0mld\u001b[0m\u001b[1;33m(\u001b[0m\u001b[0mattention1\u001b[0m\u001b[1;33m)\u001b[0m\u001b[1;33m,\u001b[0m\u001b[1;33m)\u001b[0m\u001b[1;33m,\u001b[0m \u001b[0mdict\u001b[0m\u001b[1;33m(\u001b[0m\u001b[0mtraining\u001b[0m\u001b[1;33m=\u001b[0m\u001b[0mag__\u001b[0m\u001b[1;33m.\u001b[0m\u001b[0mld\u001b[0m\u001b[1;33m(\u001b[0m\u001b[0mtraining\u001b[0m\u001b[1;33m)\u001b[0m\u001b[1;33m)\u001b[0m\u001b[1;33m,\u001b[0m \u001b[0mfscope\u001b[0m\u001b[1;33m)\u001b[0m\u001b[1;33m\u001b[0m\u001b[1;33m\u001b[0m\u001b[0m\n\u001b[0;32m     12\u001b[0m                 \u001b[0mattention1\u001b[0m \u001b[1;33m=\u001b[0m \u001b[0mag__\u001b[0m\u001b[1;33m.\u001b[0m\u001b[0mconverted_call\u001b[0m\u001b[1;33m(\u001b[0m\u001b[0mag__\u001b[0m\u001b[1;33m.\u001b[0m\u001b[0mld\u001b[0m\u001b[1;33m(\u001b[0m\u001b[0mself\u001b[0m\u001b[1;33m)\u001b[0m\u001b[1;33m.\u001b[0m\u001b[0mlayernorm1\u001b[0m\u001b[1;33m,\u001b[0m \u001b[1;33m(\u001b[0m\u001b[0mag__\u001b[0m\u001b[1;33m.\u001b[0m\u001b[0mld\u001b[0m\u001b[1;33m(\u001b[0m\u001b[0minputs\u001b[0m\u001b[1;33m)\u001b[0m \u001b[1;33m+\u001b[0m \u001b[0mag__\u001b[0m\u001b[1;33m.\u001b[0m\u001b[0mld\u001b[0m\u001b[1;33m(\u001b[0m\u001b[0mattention1\u001b[0m\u001b[1;33m)\u001b[0m\u001b[1;33m,\u001b[0m\u001b[1;33m)\u001b[0m\u001b[1;33m,\u001b[0m \u001b[1;32mNone\u001b[0m\u001b[1;33m,\u001b[0m \u001b[0mfscope\u001b[0m\u001b[1;33m)\u001b[0m\u001b[1;33m\u001b[0m\u001b[1;33m\u001b[0m\u001b[0m\n",
      "\u001b[1;32m~\\AppData\\Local\\Temp\\__autograph_generated_fileoogvb3ty.py\u001b[0m in \u001b[0;36mtf__call\u001b[1;34m(self, value, key, query, mask)\u001b[0m\n\u001b[0;32m     15\u001b[0m                 \u001b[0mkey\u001b[0m \u001b[1;33m=\u001b[0m \u001b[0mag__\u001b[0m\u001b[1;33m.\u001b[0m\u001b[0mconverted_call\u001b[0m\u001b[1;33m(\u001b[0m\u001b[0mag__\u001b[0m\u001b[1;33m.\u001b[0m\u001b[0mld\u001b[0m\u001b[1;33m(\u001b[0m\u001b[0mself\u001b[0m\u001b[1;33m)\u001b[0m\u001b[1;33m.\u001b[0m\u001b[0msplit_heads\u001b[0m\u001b[1;33m,\u001b[0m \u001b[1;33m(\u001b[0m\u001b[0mag__\u001b[0m\u001b[1;33m.\u001b[0m\u001b[0mld\u001b[0m\u001b[1;33m(\u001b[0m\u001b[0mkey\u001b[0m\u001b[1;33m)\u001b[0m\u001b[1;33m,\u001b[0m \u001b[0mag__\u001b[0m\u001b[1;33m.\u001b[0m\u001b[0mld\u001b[0m\u001b[1;33m(\u001b[0m\u001b[0mbatch_size\u001b[0m\u001b[1;33m)\u001b[0m\u001b[1;33m)\u001b[0m\u001b[1;33m,\u001b[0m \u001b[1;32mNone\u001b[0m\u001b[1;33m,\u001b[0m \u001b[0mfscope\u001b[0m\u001b[1;33m)\u001b[0m\u001b[1;33m\u001b[0m\u001b[1;33m\u001b[0m\u001b[0m\n\u001b[0;32m     16\u001b[0m                 \u001b[0mvalue\u001b[0m \u001b[1;33m=\u001b[0m \u001b[0mag__\u001b[0m\u001b[1;33m.\u001b[0m\u001b[0mconverted_call\u001b[0m\u001b[1;33m(\u001b[0m\u001b[0mag__\u001b[0m\u001b[1;33m.\u001b[0m\u001b[0mld\u001b[0m\u001b[1;33m(\u001b[0m\u001b[0mself\u001b[0m\u001b[1;33m)\u001b[0m\u001b[1;33m.\u001b[0m\u001b[0msplit_heads\u001b[0m\u001b[1;33m,\u001b[0m \u001b[1;33m(\u001b[0m\u001b[0mag__\u001b[0m\u001b[1;33m.\u001b[0m\u001b[0mld\u001b[0m\u001b[1;33m(\u001b[0m\u001b[0mvalue\u001b[0m\u001b[1;33m)\u001b[0m\u001b[1;33m,\u001b[0m \u001b[0mag__\u001b[0m\u001b[1;33m.\u001b[0m\u001b[0mld\u001b[0m\u001b[1;33m(\u001b[0m\u001b[0mbatch_size\u001b[0m\u001b[1;33m)\u001b[0m\u001b[1;33m)\u001b[0m\u001b[1;33m,\u001b[0m \u001b[1;32mNone\u001b[0m\u001b[1;33m,\u001b[0m \u001b[0mfscope\u001b[0m\u001b[1;33m)\u001b[0m\u001b[1;33m\u001b[0m\u001b[1;33m\u001b[0m\u001b[0m\n\u001b[1;32m---> 17\u001b[1;33m                 \u001b[1;33m(\u001b[0m\u001b[0mscaled_attention\u001b[0m\u001b[1;33m,\u001b[0m \u001b[0mattention_weights\u001b[0m\u001b[1;33m)\u001b[0m \u001b[1;33m=\u001b[0m \u001b[0mag__\u001b[0m\u001b[1;33m.\u001b[0m\u001b[0mconverted_call\u001b[0m\u001b[1;33m(\u001b[0m\u001b[0mag__\u001b[0m\u001b[1;33m.\u001b[0m\u001b[0mld\u001b[0m\u001b[1;33m(\u001b[0m\u001b[0mScaledDotProductAttention\u001b[0m\u001b[1;33m)\u001b[0m\u001b[1;33m,\u001b[0m \u001b[1;33m(\u001b[0m\u001b[0mag__\u001b[0m\u001b[1;33m.\u001b[0m\u001b[0mld\u001b[0m\u001b[1;33m(\u001b[0m\u001b[0mquery\u001b[0m\u001b[1;33m)\u001b[0m\u001b[1;33m,\u001b[0m \u001b[0mag__\u001b[0m\u001b[1;33m.\u001b[0m\u001b[0mld\u001b[0m\u001b[1;33m(\u001b[0m\u001b[0mkey\u001b[0m\u001b[1;33m)\u001b[0m\u001b[1;33m,\u001b[0m \u001b[0mag__\u001b[0m\u001b[1;33m.\u001b[0m\u001b[0mld\u001b[0m\u001b[1;33m(\u001b[0m\u001b[0mvalue\u001b[0m\u001b[1;33m)\u001b[0m\u001b[1;33m,\u001b[0m \u001b[0mag__\u001b[0m\u001b[1;33m.\u001b[0m\u001b[0mld\u001b[0m\u001b[1;33m(\u001b[0m\u001b[0mmask\u001b[0m\u001b[1;33m)\u001b[0m\u001b[1;33m)\u001b[0m\u001b[1;33m,\u001b[0m \u001b[1;32mNone\u001b[0m\u001b[1;33m,\u001b[0m \u001b[0mfscope\u001b[0m\u001b[1;33m)\u001b[0m\u001b[1;33m\u001b[0m\u001b[1;33m\u001b[0m\u001b[0m\n\u001b[0m\u001b[0;32m     18\u001b[0m                 \u001b[0mscaled_attention\u001b[0m \u001b[1;33m=\u001b[0m \u001b[0mag__\u001b[0m\u001b[1;33m.\u001b[0m\u001b[0mconverted_call\u001b[0m\u001b[1;33m(\u001b[0m\u001b[0mag__\u001b[0m\u001b[1;33m.\u001b[0m\u001b[0mld\u001b[0m\u001b[1;33m(\u001b[0m\u001b[0mtf\u001b[0m\u001b[1;33m)\u001b[0m\u001b[1;33m.\u001b[0m\u001b[0mtranspose\u001b[0m\u001b[1;33m,\u001b[0m \u001b[1;33m(\u001b[0m\u001b[0mag__\u001b[0m\u001b[1;33m.\u001b[0m\u001b[0mld\u001b[0m\u001b[1;33m(\u001b[0m\u001b[0mscaled_attention\u001b[0m\u001b[1;33m)\u001b[0m\u001b[1;33m,\u001b[0m\u001b[1;33m)\u001b[0m\u001b[1;33m,\u001b[0m \u001b[0mdict\u001b[0m\u001b[1;33m(\u001b[0m\u001b[0mperm\u001b[0m\u001b[1;33m=\u001b[0m\u001b[1;33m[\u001b[0m\u001b[1;36m0\u001b[0m\u001b[1;33m,\u001b[0m \u001b[1;36m2\u001b[0m\u001b[1;33m,\u001b[0m \u001b[1;36m1\u001b[0m\u001b[1;33m,\u001b[0m \u001b[1;36m3\u001b[0m\u001b[1;33m]\u001b[0m\u001b[1;33m)\u001b[0m\u001b[1;33m,\u001b[0m \u001b[0mfscope\u001b[0m\u001b[1;33m)\u001b[0m\u001b[1;33m\u001b[0m\u001b[1;33m\u001b[0m\u001b[0m\n\u001b[0;32m     19\u001b[0m                 \u001b[0mconcat_attention\u001b[0m \u001b[1;33m=\u001b[0m \u001b[0mag__\u001b[0m\u001b[1;33m.\u001b[0m\u001b[0mconverted_call\u001b[0m\u001b[1;33m(\u001b[0m\u001b[0mag__\u001b[0m\u001b[1;33m.\u001b[0m\u001b[0mld\u001b[0m\u001b[1;33m(\u001b[0m\u001b[0mtf\u001b[0m\u001b[1;33m)\u001b[0m\u001b[1;33m.\u001b[0m\u001b[0mreshape\u001b[0m\u001b[1;33m,\u001b[0m \u001b[1;33m(\u001b[0m\u001b[0mag__\u001b[0m\u001b[1;33m.\u001b[0m\u001b[0mld\u001b[0m\u001b[1;33m(\u001b[0m\u001b[0mscaled_attention\u001b[0m\u001b[1;33m)\u001b[0m\u001b[1;33m,\u001b[0m \u001b[1;33m(\u001b[0m\u001b[0mag__\u001b[0m\u001b[1;33m.\u001b[0m\u001b[0mld\u001b[0m\u001b[1;33m(\u001b[0m\u001b[0mbatch_size\u001b[0m\u001b[1;33m)\u001b[0m\u001b[1;33m,\u001b[0m \u001b[1;33m-\u001b[0m\u001b[1;36m1\u001b[0m\u001b[1;33m,\u001b[0m \u001b[0mag__\u001b[0m\u001b[1;33m.\u001b[0m\u001b[0mld\u001b[0m\u001b[1;33m(\u001b[0m\u001b[0mself\u001b[0m\u001b[1;33m)\u001b[0m\u001b[1;33m.\u001b[0m\u001b[0mhid_dim\u001b[0m\u001b[1;33m)\u001b[0m\u001b[1;33m)\u001b[0m\u001b[1;33m,\u001b[0m \u001b[1;32mNone\u001b[0m\u001b[1;33m,\u001b[0m \u001b[0mfscope\u001b[0m\u001b[1;33m)\u001b[0m\u001b[1;33m\u001b[0m\u001b[1;33m\u001b[0m\u001b[0m\n",
      "\u001b[1;32m~\\AppData\\Local\\Temp\\__autograph_generated_file1at9d0_i.py\u001b[0m in \u001b[0;36mtf__ScaledDotProductAttention\u001b[1;34m(query, key, value, mask)\u001b[0m\n\u001b[0;32m     23\u001b[0m                 \u001b[0mretval_\u001b[0m \u001b[1;33m=\u001b[0m \u001b[0mag__\u001b[0m\u001b[1;33m.\u001b[0m\u001b[0mUndefinedReturnValue\u001b[0m\u001b[1;33m(\u001b[0m\u001b[1;33m)\u001b[0m\u001b[1;33m\u001b[0m\u001b[1;33m\u001b[0m\u001b[0m\n\u001b[0;32m     24\u001b[0m                 \u001b[0mmatmul_pk\u001b[0m \u001b[1;33m=\u001b[0m \u001b[0mag__\u001b[0m\u001b[1;33m.\u001b[0m\u001b[0mconverted_call\u001b[0m\u001b[1;33m(\u001b[0m\u001b[0mag__\u001b[0m\u001b[1;33m.\u001b[0m\u001b[0mld\u001b[0m\u001b[1;33m(\u001b[0m\u001b[0mtf\u001b[0m\u001b[1;33m)\u001b[0m\u001b[1;33m.\u001b[0m\u001b[0mmatmul\u001b[0m\u001b[1;33m,\u001b[0m \u001b[1;33m(\u001b[0m\u001b[0mag__\u001b[0m\u001b[1;33m.\u001b[0m\u001b[0mld\u001b[0m\u001b[1;33m(\u001b[0m\u001b[0mquery\u001b[0m\u001b[1;33m)\u001b[0m\u001b[1;33m,\u001b[0m \u001b[0mag__\u001b[0m\u001b[1;33m.\u001b[0m\u001b[0mld\u001b[0m\u001b[1;33m(\u001b[0m\u001b[0mkey\u001b[0m\u001b[1;33m)\u001b[0m\u001b[1;33m)\u001b[0m\u001b[1;33m,\u001b[0m \u001b[0mdict\u001b[0m\u001b[1;33m(\u001b[0m\u001b[0mtranspose_b\u001b[0m\u001b[1;33m=\u001b[0m\u001b[1;32mTrue\u001b[0m\u001b[1;33m)\u001b[0m\u001b[1;33m,\u001b[0m \u001b[0mfscope\u001b[0m\u001b[1;33m)\u001b[0m\u001b[1;33m\u001b[0m\u001b[1;33m\u001b[0m\u001b[0m\n\u001b[1;32m---> 25\u001b[1;33m                 \u001b[0mdk\u001b[0m \u001b[1;33m=\u001b[0m \u001b[0mag__\u001b[0m\u001b[1;33m.\u001b[0m\u001b[0mconverted_call\u001b[0m\u001b[1;33m(\u001b[0m\u001b[0mag__\u001b[0m\u001b[1;33m.\u001b[0m\u001b[0mld\u001b[0m\u001b[1;33m(\u001b[0m\u001b[0mtf\u001b[0m\u001b[1;33m)\u001b[0m\u001b[1;33m.\u001b[0m\u001b[0mcast\u001b[0m\u001b[1;33m,\u001b[0m \u001b[1;33m(\u001b[0m\u001b[0mag__\u001b[0m\u001b[1;33m.\u001b[0m\u001b[0mconverted_call\u001b[0m\u001b[1;33m(\u001b[0m\u001b[0mag__\u001b[0m\u001b[1;33m.\u001b[0m\u001b[0mld\u001b[0m\u001b[1;33m(\u001b[0m\u001b[0mtf\u001b[0m\u001b[1;33m)\u001b[0m\u001b[1;33m.\u001b[0m\u001b[0mshape\u001b[0m\u001b[1;33m,\u001b[0m \u001b[1;33m(\u001b[0m\u001b[0mag__\u001b[0m\u001b[1;33m.\u001b[0m\u001b[0mld\u001b[0m\u001b[1;33m(\u001b[0m\u001b[0mkey\u001b[0m\u001b[1;33m)\u001b[0m\u001b[1;33m,\u001b[0m\u001b[1;33m)\u001b[0m\u001b[1;33m,\u001b[0m \u001b[1;32mNone\u001b[0m\u001b[1;33m,\u001b[0m \u001b[0mfscope\u001b[0m\u001b[1;33m)\u001b[0m\u001b[1;33m[\u001b[0m\u001b[1;33m-\u001b[0m\u001b[1;36m1\u001b[0m\u001b[1;33m]\u001b[0m\u001b[1;33m.\u001b[0m\u001b[0mtf\u001b[0m\u001b[1;33m.\u001b[0m\u001b[0mfloat32\u001b[0m\u001b[1;33m,\u001b[0m\u001b[1;33m)\u001b[0m\u001b[1;33m,\u001b[0m \u001b[1;32mNone\u001b[0m\u001b[1;33m,\u001b[0m \u001b[0mfscope\u001b[0m\u001b[1;33m)\u001b[0m\u001b[1;33m\u001b[0m\u001b[1;33m\u001b[0m\u001b[0m\n\u001b[0m\u001b[0;32m     26\u001b[0m                 \u001b[0mscaled_attention_logits\u001b[0m \u001b[1;33m=\u001b[0m \u001b[0mag__\u001b[0m\u001b[1;33m.\u001b[0m\u001b[0mld\u001b[0m\u001b[1;33m(\u001b[0m\u001b[0mmatmul_pk\u001b[0m\u001b[1;33m)\u001b[0m \u001b[1;33m/\u001b[0m \u001b[0mag__\u001b[0m\u001b[1;33m.\u001b[0m\u001b[0mconverted_call\u001b[0m\u001b[1;33m(\u001b[0m\u001b[0mag__\u001b[0m\u001b[1;33m.\u001b[0m\u001b[0mld\u001b[0m\u001b[1;33m(\u001b[0m\u001b[0mtf\u001b[0m\u001b[1;33m)\u001b[0m\u001b[1;33m.\u001b[0m\u001b[0mmath\u001b[0m\u001b[1;33m.\u001b[0m\u001b[0msqrt\u001b[0m\u001b[1;33m,\u001b[0m \u001b[1;33m(\u001b[0m\u001b[0mag__\u001b[0m\u001b[1;33m.\u001b[0m\u001b[0mld\u001b[0m\u001b[1;33m(\u001b[0m\u001b[0mdk\u001b[0m\u001b[1;33m)\u001b[0m\u001b[1;33m,\u001b[0m\u001b[1;33m)\u001b[0m\u001b[1;33m,\u001b[0m \u001b[1;32mNone\u001b[0m\u001b[1;33m,\u001b[0m \u001b[0mfscope\u001b[0m\u001b[1;33m)\u001b[0m\u001b[1;33m\u001b[0m\u001b[1;33m\u001b[0m\u001b[0m\n\u001b[0;32m     27\u001b[0m \u001b[1;33m\u001b[0m\u001b[0m\n",
      "\u001b[1;31mAttributeError\u001b[0m: in user code:\n\n    File \"C:\\Users\\user\\AppData\\Local\\Temp\\ipykernel_27444\\3924528485.py\", line 6, in train_step  *\n        predictions, _ = model(inp, True, combined_mask)\n    File \"c:\\ProgramData\\Anaconda3\\lib\\site-packages\\keras\\src\\utils\\traceback_utils.py\", line 70, in error_handler  **\n        raise e.with_traceback(filtered_tb) from None\n    File \"C:\\Users\\user\\AppData\\Local\\Temp\\__autograph_generated_filecwljnz7p.py\", line 10, in tf__call\n        (dec_output, attention_weights) = ag__.converted_call(ag__.ld(self).decoder, (ag__.ld(inp), ag__.ld(training), ag__.ld(look_ahead_mask)), None, fscope)\n    File \"C:\\Users\\user\\AppData\\Local\\Temp\\__autograph_generated_fileqv8hqgw_.py\", line 33, in tf__call\n        ag__.for_stmt(ag__.converted_call(ag__.ld(range), (ag__.ld(self).n_layers,), None, fscope), None, loop_body, get_state, set_state, ('output',), {'iterate_names': 'i'})\n    File \"C:\\Users\\user\\AppData\\Local\\Temp\\__autograph_generated_fileqv8hqgw_.py\", line 29, in loop_body\n        (output, block1) = ag__.converted_call(ag__.ld(self).dec_layers[ag__.ld(i)], (ag__.ld(output), ag__.ld(training), ag__.ld(look_ahead_mask)), None, fscope)\n    File \"C:\\Users\\user\\AppData\\Local\\Temp\\__autograph_generated_files64w0xxv.py\", line 10, in tf__call\n        (attention1, attn_weights_block1) = ag__.converted_call(ag__.ld(self).attn, (ag__.ld(inputs), ag__.ld(inputs), ag__.ld(inputs), ag__.ld(look_ahead_mask)), None, fscope)\n    File \"C:\\Users\\user\\AppData\\Local\\Temp\\__autograph_generated_fileoogvb3ty.py\", line 17, in tf__call\n        (scaled_attention, attention_weights) = ag__.converted_call(ag__.ld(ScaledDotProductAttention), (ag__.ld(query), ag__.ld(key), ag__.ld(value), ag__.ld(mask)), None, fscope)\n    File \"C:\\Users\\user\\AppData\\Local\\Temp\\__autograph_generated_file1at9d0_i.py\", line 25, in tf__ScaledDotProductAttention\n        dk = ag__.converted_call(ag__.ld(tf).cast, (ag__.converted_call(ag__.ld(tf).shape, (ag__.ld(key),), None, fscope)[-1].tf.float32,), None, fscope)\n\n    AttributeError: Exception encountered when calling layer 'gpt2' (type GPT2).\n    \n    in user code:\n    \n        File \"C:\\Users\\user\\AppData\\Local\\Temp\\ipykernel_27444\\4084406977.py\", line 14, in call  *\n            dec_output, attention_weights = self.decoder(inp, training, look_ahead_mask)\n        File \"c:\\ProgramData\\Anaconda3\\lib\\site-packages\\keras\\src\\utils\\traceback_utils.py\", line 70, in error_handler  **\n            raise e.with_traceback(filtered_tb) from None\n        File \"C:\\Users\\user\\AppData\\Local\\Temp\\__autograph_generated_fileqv8hqgw_.py\", line 33, in tf__call\n            ag__.for_stmt(ag__.converted_call(ag__.ld(range), (ag__.ld(self).n_layers,), None, fscope), None, loop_body, get_state, set_state, ('output',), {'iterate_names': 'i'})\n        File \"C:\\Users\\user\\AppData\\Local\\Temp\\__autograph_generated_fileqv8hqgw_.py\", line 29, in loop_body\n            (output, block1) = ag__.converted_call(ag__.ld(self).dec_layers[ag__.ld(i)], (ag__.ld(output), ag__.ld(training), ag__.ld(look_ahead_mask)), None, fscope)\n        File \"C:\\Users\\user\\AppData\\Local\\Temp\\__autograph_generated_files64w0xxv.py\", line 10, in tf__call\n            (attention1, attn_weights_block1) = ag__.converted_call(ag__.ld(self).attn, (ag__.ld(inputs), ag__.ld(inputs), ag__.ld(inputs), ag__.ld(look_ahead_mask)), None, fscope)\n        File \"C:\\Users\\user\\AppData\\Local\\Temp\\__autograph_generated_fileoogvb3ty.py\", line 17, in tf__call\n            (scaled_attention, attention_weights) = ag__.converted_call(ag__.ld(ScaledDotProductAttention), (ag__.ld(query), ag__.ld(key), ag__.ld(value), ag__.ld(mask)), None, fscope)\n        File \"C:\\Users\\user\\AppData\\Local\\Temp\\__autograph_generated_file1at9d0_i.py\", line 25, in tf__ScaledDotProductAttention\n            dk = ag__.converted_call(ag__.ld(tf).cast, (ag__.converted_call(ag__.ld(tf).shape, (ag__.ld(key),), None, fscope)[-1].tf.float32,), None, fscope)\n    \n        AttributeError: Exception encountered when calling layer 'decoder' (type Decoder).\n        \n        in user code:\n        \n            File \"C:\\Users\\user\\AppData\\Local\\Temp\\ipykernel_27444\\3466053320.py\", line 27, in call  *\n                output, block1 = self.dec_layers[i](output, training, look_ahead_mask)\n            File \"c:\\ProgramData\\Anaconda3\\lib\\site-packages\\keras\\src\\utils\\traceback_utils.py\", line 70, in error_handler  **\n                raise e.with_traceback(filtered_tb) from None\n            File \"C:\\Users\\user\\AppData\\Local\\Temp\\__autograph_generated_files64w0xxv.py\", line 10, in tf__call\n                (attention1, attn_weights_block1) = ag__.converted_call(ag__.ld(self).attn, (ag__.ld(inputs), ag__.ld(inputs), ag__.ld(inputs), ag__.ld(look_ahead_mask)), None, fscope)\n            File \"C:\\Users\\user\\AppData\\Local\\Temp\\__autograph_generated_fileoogvb3ty.py\", line 17, in tf__call\n                (scaled_attention, attention_weights) = ag__.converted_call(ag__.ld(ScaledDotProductAttention), (ag__.ld(query), ag__.ld(key), ag__.ld(value), ag__.ld(mask)), None, fscope)\n            File \"C:\\Users\\user\\AppData\\Local\\Temp\\__autograph_generated_file1at9d0_i.py\", line 25, in tf__ScaledDotProductAttention\n                dk = ag__.converted_call(ag__.ld(tf).cast, (ag__.converted_call(ag__.ld(tf).shape, (ag__.ld(key),), None, fscope)[-1].tf.float32,), None, fscope)\n        \n            AttributeError: Exception encountered when calling layer 'decoder_layer' (type DecoderLayer).\n            \n            in user code:\n            \n                File \"C:\\Users\\user\\AppData\\Local\\Temp\\ipykernel_27444\\3315783466.py\", line 19, in call  *\n                    attention1, attn_weights_block1 = self.attn(inputs, inputs, inputs, look_ahead_mask)\n                File \"c:\\ProgramData\\Anaconda3\\lib\\site-packages\\keras\\src\\utils\\traceback_utils.py\", line 70, in error_handler  **\n                    raise e.with_traceback(filtered_tb) from None\n                File \"C:\\Users\\user\\AppData\\Local\\Temp\\__autograph_generated_fileoogvb3ty.py\", line 17, in tf__call\n                    (scaled_attention, attention_weights) = ag__.converted_call(ag__.ld(ScaledDotProductAttention), (ag__.ld(query), ag__.ld(key), ag__.ld(value), ag__.ld(mask)), None, fscope)\n                File \"C:\\Users\\user\\AppData\\Local\\Temp\\__autograph_generated_file1at9d0_i.py\", line 25, in tf__ScaledDotProductAttention\n                    dk = ag__.converted_call(ag__.ld(tf).cast, (ag__.converted_call(ag__.ld(tf).shape, (ag__.ld(key),), None, fscope)[-1].tf.float32,), None, fscope)\n            \n                AttributeError: Exception encountered when calling layer 'multi_head_attention_layer' (type MultiHeadAttentionLayer).\n                \n                in user code:\n                \n                    File \"C:\\Users\\user\\AppData\\Local\\Temp\\ipykernel_27444\\4203886506.py\", line 40, in call  *\n                        scaled_attention, attention_weights = ScaledDotProductAttention(query, key, value, mask)\n                    File \"C:\\Users\\user\\AppData\\Local\\Temp\\ipykernel_27444\\580998220.py\", line 22, in ScaledDotProductAttention  *\n                        dk = tf.cast(tf.shape(key)[-1]. tf.float32)\n                \n                    AttributeError: 'Tensor' object has no attribute 'tf'\n                \n                \n                Call arguments received by layer 'multi_head_attention_layer' (type MultiHeadAttentionLayer):\n                  • value=tf.Tensor(shape=(256, 61, 128), dtype=float32)\n                  • key=tf.Tensor(shape=(256, 61, 128), dtype=float32)\n                  • query=tf.Tensor(shape=(256, 61, 128), dtype=float32)\n                  • mask=tf.Tensor(shape=(256, 1, 61, 61), dtype=float32)\n            \n            \n            Call arguments received by layer 'decoder_layer' (type DecoderLayer):\n              • inputs=tf.Tensor(shape=(256, 61, 128), dtype=float32)\n              • training=True\n              • look_ahead_mask=tf.Tensor(shape=(256, 1, 61, 61), dtype=float32)\n        \n        \n        Call arguments received by layer 'decoder' (type Decoder):\n          • dec_input=tf.Tensor(shape=(256, 61), dtype=int64)\n          • training=True\n          • look_ahead_mask=tf.Tensor(shape=(256, 1, 61, 61), dtype=float32)\n    \n    \n    Call arguments received by layer 'gpt2' (type GPT2):\n      • inp=tf.Tensor(shape=(256, 61), dtype=int64)\n      • training=True\n      • look_ahead_mask=tf.Tensor(shape=(256, 1, 61, 61), dtype=float32)\n"
     ]
    }
   ],
   "source": [
    "for epoch in range(N_EPRCHS):\n",
    "    train_loss.reset_state()\n",
    "\n",
    "    with tqdm_notebook(total=len(datasets), desc = f'Train {epoch+1}') as pbar :\n",
    "        for (batch, (inp, tar)) in enumerate(datasets):\n",
    "            train_step(inp, tar)\n",
    "\n",
    "            pbar.update(1)\n",
    "            pbar.set_postfix_str(f\"Loss {train_loss.result():.4f} Accuracy {train_accuracy.result():.4f}\")\n",
    "\n",
    "    print(f'Epoch {epoch + 1} Loss {train_loss.result():.4f} Accuracy {train_accuracy.result():.4f}')\n",
    "\n",
    "ckpt_save_path = ckpt_manager.save()\n",
    "print('Saving checkpoint for epoch {} at {}'.format(epoch+1, ckpt_save_path))"
   ]
  },
  {
   "cell_type": "code",
   "execution_count": null,
   "metadata": {},
   "outputs": [],
   "source": []
  }
 ],
 "metadata": {
  "kernelspec": {
   "display_name": "base",
   "language": "python",
   "name": "python3"
  },
  "language_info": {
   "codemirror_mode": {
    "name": "ipython",
    "version": 3
   },
   "file_extension": ".py",
   "mimetype": "text/x-python",
   "name": "python",
   "nbconvert_exporter": "python",
   "pygments_lexer": "ipython3",
   "version": "3.9.13"
  },
  "orig_nbformat": 4
 },
 "nbformat": 4,
 "nbformat_minor": 2
}
