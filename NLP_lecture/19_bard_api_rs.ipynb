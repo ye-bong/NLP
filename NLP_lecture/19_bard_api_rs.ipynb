{
 "cells": [
  {
   "cell_type": "markdown",
   "metadata": {},
   "source": [
    "구글 바드 사용하기\n",
    "\n",
    "* 키 발급(현재는 비공식)\n",
    "1. 시크릿 모드로 크롬 오픈\n",
    "2. 바드 사이트로 이동\n",
    "3. 구글 아이디로 로그인\n",
    "4. F12  > Application -> Storage -> Cookies -> 'https://bard.google.com'의 _Secure-1PSID 에 있는 값을 키값\n"
   ]
  },
  {
   "cell_type": "code",
   "execution_count": 2,
   "metadata": {},
   "outputs": [
    {
     "name": "stderr",
     "output_type": "stream",
     "text": [
      "WARNING: Ignoring invalid distribution -pype1 (c:\\users\\luck\\appdata\\local\\programs\\python\\python310\\lib\\site-packages)\n",
      "WARNING: Ignoring invalid distribution -rotobuf (c:\\users\\luck\\appdata\\local\\programs\\python\\python310\\lib\\site-packages)\n",
      "WARNING: Ignoring invalid distribution -pype1 (c:\\users\\luck\\appdata\\local\\programs\\python\\python310\\lib\\site-packages)\n",
      "WARNING: Ignoring invalid distribution -rotobuf (c:\\users\\luck\\appdata\\local\\programs\\python\\python310\\lib\\site-packages)\n"
     ]
    },
    {
     "name": "stdout",
     "output_type": "stream",
     "text": [
      "Collecting bardapi\n",
      "  Obtaining dependency information for bardapi from https://files.pythonhosted.org/packages/8e/1f/6c7d9056e077775896721b8f6412c2d175730274acef0ff4313f192413e1/bardapi-0.1.38-py3-none-any.whl.metadata\n",
      "  Downloading bardapi-0.1.38-py3-none-any.whl.metadata (21 kB)\n",
      "Collecting httpx[http2]>=0.20.0 (from bardapi)\n",
      "  Obtaining dependency information for httpx[http2]>=0.20.0 from https://files.pythonhosted.org/packages/33/0d/d9ce469af019741c8999711d36b270ff992ceb1a0293f73f9f34fdf131e9/httpx-0.25.0-py3-none-any.whl.metadata\n",
      "  Downloading httpx-0.25.0-py3-none-any.whl.metadata (7.6 kB)\n",
      "Requirement already satisfied: requests in c:\\users\\luck\\appdata\\local\\programs\\python\\python310\\lib\\site-packages (from bardapi) (2.31.0)\n",
      "Collecting deep-translator (from bardapi)\n",
      "  Obtaining dependency information for deep-translator from https://files.pythonhosted.org/packages/38/3f/61a8ef73236dbea83a1a063a8af2f8e1e41a0df64f122233938391d0f175/deep_translator-1.11.4-py3-none-any.whl.metadata\n",
      "  Downloading deep_translator-1.11.4-py3-none-any.whl.metadata (30 kB)\n",
      "Requirement already satisfied: colorama in c:\\users\\luck\\appdata\\roaming\\python\\python310\\site-packages (from bardapi) (0.4.6)\n",
      "Collecting google-cloud-translate (from bardapi)\n",
      "  Obtaining dependency information for google-cloud-translate from https://files.pythonhosted.org/packages/84/8f/da05f953868e4f5cfe056da26db0e7917e86227de4821c378d199211c81f/google_cloud_translate-3.12.0-py2.py3-none-any.whl.metadata\n",
      "  Downloading google_cloud_translate-3.12.0-py2.py3-none-any.whl.metadata (5.2 kB)\n",
      "Collecting browser-cookie3 (from bardapi)\n",
      "  Obtaining dependency information for browser-cookie3 from https://files.pythonhosted.org/packages/0a/0d/0fa3b3a13870a9beb4739449e2fc0071d66715b5c300783966541867457c/browser_cookie3-0.19.1-py3-none-any.whl.metadata\n",
      "  Downloading browser_cookie3-0.19.1-py3-none-any.whl.metadata (632 bytes)\n",
      "Collecting langdetect (from bardapi)\n",
      "  Downloading langdetect-1.0.9.tar.gz (981 kB)\n",
      "     ---------------------------------------- 0.0/981.5 kB ? eta -:--:--\n",
      "     ---------------------------------------- 10.2/981.5 kB ? eta -:--:--\n",
      "     ------ ------------------------------- 163.8/981.5 kB 3.3 MB/s eta 0:00:01\n",
      "     -------- ----------------------------- 225.3/981.5 kB 2.3 MB/s eta 0:00:01\n",
      "     ----------- -------------------------- 307.2/981.5 kB 2.4 MB/s eta 0:00:01\n",
      "     --------------- ---------------------- 409.6/981.5 kB 2.6 MB/s eta 0:00:01\n",
      "     ------------------ ------------------- 471.0/981.5 kB 2.1 MB/s eta 0:00:01\n",
      "     ---------------------- --------------- 583.7/981.5 kB 2.2 MB/s eta 0:00:01\n",
      "     -------------------------- ----------- 686.1/981.5 kB 2.2 MB/s eta 0:00:01\n",
      "     -------------------------------- ----- 839.7/981.5 kB 2.3 MB/s eta 0:00:01\n",
      "     -------------------------------------  962.6/981.5 kB 2.3 MB/s eta 0:00:01\n",
      "     -------------------------------------- 981.5/981.5 kB 2.3 MB/s eta 0:00:00\n",
      "  Preparing metadata (setup.py): started\n",
      "  Preparing metadata (setup.py): finished with status 'done'\n",
      "Requirement already satisfied: certifi in c:\\users\\luck\\appdata\\local\\programs\\python\\python310\\lib\\site-packages (from httpx[http2]>=0.20.0->bardapi) (2023.7.22)\n",
      "Collecting httpcore<0.19.0,>=0.18.0 (from httpx[http2]>=0.20.0->bardapi)\n",
      "  Obtaining dependency information for httpcore<0.19.0,>=0.18.0 from https://files.pythonhosted.org/packages/ac/97/724afbb7925339f6214bf1fdb5714d1a462690466832bf8fb3fd497649f1/httpcore-0.18.0-py3-none-any.whl.metadata\n",
      "  Downloading httpcore-0.18.0-py3-none-any.whl.metadata (18 kB)\n",
      "Requirement already satisfied: idna in c:\\users\\luck\\appdata\\local\\programs\\python\\python310\\lib\\site-packages (from httpx[http2]>=0.20.0->bardapi) (3.4)\n",
      "Collecting sniffio (from httpx[http2]>=0.20.0->bardapi)\n",
      "  Downloading sniffio-1.3.0-py3-none-any.whl (10 kB)\n",
      "Collecting h2<5,>=3 (from httpx[http2]>=0.20.0->bardapi)\n",
      "  Downloading h2-4.1.0-py3-none-any.whl (57 kB)\n",
      "     ---------------------------------------- 0.0/57.5 kB ? eta -:--:--\n",
      "     ---------------------------------------- 57.5/57.5 kB 3.0 MB/s eta 0:00:00\n",
      "Collecting lz4 (from browser-cookie3->bardapi)\n",
      "  Downloading lz4-4.3.2-cp310-cp310-win_amd64.whl (99 kB)\n",
      "     ---------------------------------------- 0.0/99.8 kB ? eta -:--:--\n",
      "     ---------------------------------------- 99.8/99.8 kB 6.0 MB/s eta 0:00:00\n",
      "Requirement already satisfied: pycryptodomex in c:\\users\\luck\\appdata\\local\\programs\\python\\python310\\lib\\site-packages (from browser-cookie3->bardapi) (3.18.0)\n",
      "Collecting beautifulsoup4<5.0.0,>=4.9.1 (from deep-translator->bardapi)\n",
      "  Downloading beautifulsoup4-4.12.2-py3-none-any.whl (142 kB)\n",
      "     ---------------------------------------- 0.0/143.0 kB ? eta -:--:--\n",
      "     -------------------------------------- 143.0/143.0 kB 4.3 MB/s eta 0:00:00\n",
      "Requirement already satisfied: charset-normalizer<4,>=2 in c:\\users\\luck\\appdata\\local\\programs\\python\\python310\\lib\\site-packages (from requests->bardapi) (3.2.0)\n",
      "Requirement already satisfied: urllib3<3,>=1.21.1 in c:\\users\\luck\\appdata\\local\\programs\\python\\python310\\lib\\site-packages (from requests->bardapi) (1.26.16)\n",
      "Collecting google-api-core[grpc]!=2.0.*,!=2.1.*,!=2.10.*,!=2.2.*,!=2.3.*,!=2.4.*,!=2.5.*,!=2.6.*,!=2.7.*,!=2.8.*,!=2.9.*,<3.0.0dev,>=1.34.0 (from google-cloud-translate->bardapi)\n",
      "  Obtaining dependency information for google-api-core[grpc]!=2.0.*,!=2.1.*,!=2.10.*,!=2.2.*,!=2.3.*,!=2.4.*,!=2.5.*,!=2.6.*,!=2.7.*,!=2.8.*,!=2.9.*,<3.0.0dev,>=1.34.0 from https://files.pythonhosted.org/packages/4d/ce/4fd62ea66b3508debc795e475336ce915929765870f0ad52328426ba016e/google_api_core-2.12.0-py3-none-any.whl.metadata\n",
      "  Downloading google_api_core-2.12.0-py3-none-any.whl.metadata (2.7 kB)\n",
      "Collecting google-cloud-core<3.0.0dev,>=1.3.0 (from google-cloud-translate->bardapi)\n",
      "  Obtaining dependency information for google-cloud-core<3.0.0dev,>=1.3.0 from https://files.pythonhosted.org/packages/a2/40/02045f776fdb6e44194f34b6375a26ce8a61bd9bd03cd8930ed91cf51a62/google_cloud_core-2.3.3-py2.py3-none-any.whl.metadata\n",
      "  Downloading google_cloud_core-2.3.3-py2.py3-none-any.whl.metadata (2.5 kB)\n",
      "Collecting proto-plus<2.0.0dev,>=1.22.0 (from google-cloud-translate->bardapi)\n",
      "  Obtaining dependency information for proto-plus<2.0.0dev,>=1.22.0 from https://files.pythonhosted.org/packages/36/5b/e02636d221917d6fa2a61289b3f16002eb4c93d51c0191ac8e896d527182/proto_plus-1.22.3-py3-none-any.whl.metadata\n",
      "  Downloading proto_plus-1.22.3-py3-none-any.whl.metadata (2.2 kB)\n",
      "Requirement already satisfied: protobuf!=3.20.0,!=3.20.1,!=4.21.0,!=4.21.1,!=4.21.2,!=4.21.3,!=4.21.4,!=4.21.5,<5.0.0dev,>=3.19.5 in c:\\users\\luck\\appdata\\local\\programs\\python\\python310\\lib\\site-packages (from google-cloud-translate->bardapi) (4.24.3)\n",
      "Requirement already satisfied: six in c:\\users\\luck\\appdata\\roaming\\python\\python310\\site-packages (from langdetect->bardapi) (1.16.0)\n",
      "Collecting soupsieve>1.2 (from beautifulsoup4<5.0.0,>=4.9.1->deep-translator->bardapi)\n",
      "  Obtaining dependency information for soupsieve>1.2 from https://files.pythonhosted.org/packages/4c/f3/038b302fdfbe3be7da016777069f26ceefe11a681055ea1f7817546508e3/soupsieve-2.5-py3-none-any.whl.metadata\n",
      "  Downloading soupsieve-2.5-py3-none-any.whl.metadata (4.7 kB)\n",
      "Collecting googleapis-common-protos<2.0.dev0,>=1.56.2 (from google-api-core[grpc]!=2.0.*,!=2.1.*,!=2.10.*,!=2.2.*,!=2.3.*,!=2.4.*,!=2.5.*,!=2.6.*,!=2.7.*,!=2.8.*,!=2.9.*,<3.0.0dev,>=1.34.0->google-cloud-translate->bardapi)\n",
      "  Obtaining dependency information for googleapis-common-protos<2.0.dev0,>=1.56.2 from https://files.pythonhosted.org/packages/a7/bc/416a1ffeba4dcd072bc10523dac9ed97f2e7fc4b760580e2bdbdc1e2afdd/googleapis_common_protos-1.60.0-py2.py3-none-any.whl.metadata\n",
      "  Downloading googleapis_common_protos-1.60.0-py2.py3-none-any.whl.metadata (1.5 kB)\n",
      "Requirement already satisfied: google-auth<3.0.dev0,>=2.14.1 in c:\\users\\luck\\appdata\\local\\programs\\python\\python310\\lib\\site-packages (from google-api-core[grpc]!=2.0.*,!=2.1.*,!=2.10.*,!=2.2.*,!=2.3.*,!=2.4.*,!=2.5.*,!=2.6.*,!=2.7.*,!=2.8.*,!=2.9.*,<3.0.0dev,>=1.34.0->google-cloud-translate->bardapi) (2.23.0)\n",
      "Requirement already satisfied: grpcio<2.0dev,>=1.33.2 in c:\\users\\luck\\appdata\\local\\programs\\python\\python310\\lib\\site-packages (from google-api-core[grpc]!=2.0.*,!=2.1.*,!=2.10.*,!=2.2.*,!=2.3.*,!=2.4.*,!=2.5.*,!=2.6.*,!=2.7.*,!=2.8.*,!=2.9.*,<3.0.0dev,>=1.34.0->google-cloud-translate->bardapi) (1.58.0)\n",
      "Collecting grpcio-status<2.0.dev0,>=1.33.2 (from google-api-core[grpc]!=2.0.*,!=2.1.*,!=2.10.*,!=2.2.*,!=2.3.*,!=2.4.*,!=2.5.*,!=2.6.*,!=2.7.*,!=2.8.*,!=2.9.*,<3.0.0dev,>=1.34.0->google-cloud-translate->bardapi)\n",
      "  Obtaining dependency information for grpcio-status<2.0.dev0,>=1.33.2 from https://files.pythonhosted.org/packages/55/ce/e6d0382610240439ced22fe2183bcc387946bf80e5e0f17f5b5250978ff3/grpcio_status-1.59.0-py3-none-any.whl.metadata\n",
      "  Downloading grpcio_status-1.59.0-py3-none-any.whl.metadata (1.3 kB)\n",
      "Collecting hyperframe<7,>=6.0 (from h2<5,>=3->httpx[http2]>=0.20.0->bardapi)\n",
      "  Downloading hyperframe-6.0.1-py3-none-any.whl (12 kB)\n",
      "Collecting hpack<5,>=4.0 (from h2<5,>=3->httpx[http2]>=0.20.0->bardapi)\n",
      "  Downloading hpack-4.0.0-py3-none-any.whl (32 kB)\n",
      "Collecting anyio<5.0,>=3.0 (from httpcore<0.19.0,>=0.18.0->httpx[http2]>=0.20.0->bardapi)\n",
      "  Obtaining dependency information for anyio<5.0,>=3.0 from https://files.pythonhosted.org/packages/36/55/ad4de788d84a630656ece71059665e01ca793c04294c463fd84132f40fe6/anyio-4.0.0-py3-none-any.whl.metadata\n",
      "  Downloading anyio-4.0.0-py3-none-any.whl.metadata (4.5 kB)\n",
      "Collecting h11<0.15,>=0.13 (from httpcore<0.19.0,>=0.18.0->httpx[http2]>=0.20.0->bardapi)\n",
      "  Downloading h11-0.14.0-py3-none-any.whl (58 kB)\n",
      "     ---------------------------------------- 0.0/58.3 kB ? eta -:--:--\n",
      "     ---------------------------------------- 58.3/58.3 kB 3.0 MB/s eta 0:00:00\n",
      "Collecting exceptiongroup>=1.0.2 (from anyio<5.0,>=3.0->httpcore<0.19.0,>=0.18.0->httpx[http2]>=0.20.0->bardapi)\n",
      "  Obtaining dependency information for exceptiongroup>=1.0.2 from https://files.pythonhosted.org/packages/ad/83/b71e58666f156a39fb29417e4c8ca4bc7400c0dd4ed9e8842ab54dc8c344/exceptiongroup-1.1.3-py3-none-any.whl.metadata\n",
      "  Downloading exceptiongroup-1.1.3-py3-none-any.whl.metadata (6.1 kB)\n",
      "Requirement already satisfied: cachetools<6.0,>=2.0.0 in c:\\users\\luck\\appdata\\local\\programs\\python\\python310\\lib\\site-packages (from google-auth<3.0.dev0,>=2.14.1->google-api-core[grpc]!=2.0.*,!=2.1.*,!=2.10.*,!=2.2.*,!=2.3.*,!=2.4.*,!=2.5.*,!=2.6.*,!=2.7.*,!=2.8.*,!=2.9.*,<3.0.0dev,>=1.34.0->google-cloud-translate->bardapi) (5.3.1)\n",
      "Requirement already satisfied: pyasn1-modules>=0.2.1 in c:\\users\\luck\\appdata\\local\\programs\\python\\python310\\lib\\site-packages (from google-auth<3.0.dev0,>=2.14.1->google-api-core[grpc]!=2.0.*,!=2.1.*,!=2.10.*,!=2.2.*,!=2.3.*,!=2.4.*,!=2.5.*,!=2.6.*,!=2.7.*,!=2.8.*,!=2.9.*,<3.0.0dev,>=1.34.0->google-cloud-translate->bardapi) (0.3.0)\n",
      "Requirement already satisfied: rsa<5,>=3.1.4 in c:\\users\\luck\\appdata\\local\\programs\\python\\python310\\lib\\site-packages (from google-auth<3.0.dev0,>=2.14.1->google-api-core[grpc]!=2.0.*,!=2.1.*,!=2.10.*,!=2.2.*,!=2.3.*,!=2.4.*,!=2.5.*,!=2.6.*,!=2.7.*,!=2.8.*,!=2.9.*,<3.0.0dev,>=1.34.0->google-cloud-translate->bardapi) (4.9)\n",
      "Collecting grpcio<2.0dev,>=1.33.2 (from google-api-core[grpc]!=2.0.*,!=2.1.*,!=2.10.*,!=2.2.*,!=2.3.*,!=2.4.*,!=2.5.*,!=2.6.*,!=2.7.*,!=2.8.*,!=2.9.*,<3.0.0dev,>=1.34.0->google-cloud-translate->bardapi)\n",
      "  Obtaining dependency information for grpcio<2.0dev,>=1.33.2 from https://files.pythonhosted.org/packages/c7/40/d43d62a1da2d49700c3defddc307ca4b4e1a405a6ffd5fdacfcb4eea03da/grpcio-1.59.0-cp310-cp310-win_amd64.whl.metadata\n",
      "  Downloading grpcio-1.59.0-cp310-cp310-win_amd64.whl.metadata (4.2 kB)\n",
      "Requirement already satisfied: pyasn1<0.6.0,>=0.4.6 in c:\\users\\luck\\appdata\\local\\programs\\python\\python310\\lib\\site-packages (from pyasn1-modules>=0.2.1->google-auth<3.0.dev0,>=2.14.1->google-api-core[grpc]!=2.0.*,!=2.1.*,!=2.10.*,!=2.2.*,!=2.3.*,!=2.4.*,!=2.5.*,!=2.6.*,!=2.7.*,!=2.8.*,!=2.9.*,<3.0.0dev,>=1.34.0->google-cloud-translate->bardapi) (0.5.0)\n",
      "Downloading bardapi-0.1.38-py3-none-any.whl (39 kB)\n",
      "Downloading browser_cookie3-0.19.1-py3-none-any.whl (14 kB)\n",
      "Downloading deep_translator-1.11.4-py3-none-any.whl (42 kB)\n",
      "   ---------------------------------------- 0.0/42.3 kB ? eta -:--:--\n",
      "   ---------------------------------------- 42.3/42.3 kB ? eta 0:00:00\n",
      "Downloading google_cloud_translate-3.12.0-py2.py3-none-any.whl (128 kB)\n",
      "   ---------------------------------------- 0.0/128.9 kB ? eta -:--:--\n",
      "   ---------------------------------------- 128.9/128.9 kB 7.4 MB/s eta 0:00:00\n",
      "Downloading google_cloud_core-2.3.3-py2.py3-none-any.whl (29 kB)\n",
      "Downloading httpcore-0.18.0-py3-none-any.whl (76 kB)\n",
      "   ---------------------------------------- 0.0/76.0 kB ? eta -:--:--\n",
      "   ---------------------------------------- 76.0/76.0 kB 4.4 MB/s eta 0:00:00\n",
      "Downloading proto_plus-1.22.3-py3-none-any.whl (48 kB)\n",
      "   ---------------------------------------- 0.0/48.1 kB ? eta -:--:--\n",
      "   ---------------------------------------- 48.1/48.1 kB ? eta 0:00:00\n",
      "Downloading httpx-0.25.0-py3-none-any.whl (75 kB)\n",
      "   ---------------------------------------- 0.0/75.7 kB ? eta -:--:--\n",
      "   ---------------------------------------- 75.7/75.7 kB 4.4 MB/s eta 0:00:00\n",
      "Downloading anyio-4.0.0-py3-none-any.whl (83 kB)\n",
      "   ---------------------------------------- 0.0/83.1 kB ? eta -:--:--\n",
      "   ---------------------------------------- 83.1/83.1 kB 2.4 MB/s eta 0:00:00\n",
      "Downloading google_api_core-2.12.0-py3-none-any.whl (121 kB)\n",
      "   ---------------------------------------- 0.0/121.4 kB ? eta -:--:--\n",
      "   ---------------------------------------- 121.4/121.4 kB 7.4 MB/s eta 0:00:00\n",
      "Downloading googleapis_common_protos-1.60.0-py2.py3-none-any.whl (227 kB)\n",
      "   ---------------------------------------- 0.0/227.6 kB ? eta -:--:--\n",
      "   ---------------------------- ----------- 163.8/227.6 kB 5.0 MB/s eta 0:00:01\n",
      "   ---------------------------------------- 227.6/227.6 kB 3.5 MB/s eta 0:00:00\n",
      "Downloading grpcio_status-1.59.0-py3-none-any.whl (14 kB)\n",
      "Downloading grpcio-1.59.0-cp310-cp310-win_amd64.whl (3.7 MB)\n",
      "   ---------------------------------------- 0.0/3.7 MB ? eta -:--:--\n",
      "   -- ------------------------------------- 0.2/3.7 MB 6.7 MB/s eta 0:00:01\n",
      "   ---- ----------------------------------- 0.5/3.7 MB 5.6 MB/s eta 0:00:01\n",
      "   ------ --------------------------------- 0.6/3.7 MB 4.8 MB/s eta 0:00:01\n",
      "   --------- ------------------------------ 0.9/3.7 MB 5.0 MB/s eta 0:00:01\n",
      "   ------------ --------------------------- 1.2/3.7 MB 5.2 MB/s eta 0:00:01\n",
      "   -------------- ------------------------- 1.4/3.7 MB 5.1 MB/s eta 0:00:01\n",
      "   ----------------- ---------------------- 1.6/3.7 MB 5.4 MB/s eta 0:00:01\n",
      "   ------------------- -------------------- 1.8/3.7 MB 5.3 MB/s eta 0:00:01\n",
      "   ---------------------- ----------------- 2.0/3.7 MB 5.2 MB/s eta 0:00:01\n",
      "   ------------------------ --------------- 2.2/3.7 MB 5.0 MB/s eta 0:00:01\n",
      "   -------------------------- ------------- 2.4/3.7 MB 4.9 MB/s eta 0:00:01\n",
      "   ---------------------------- ----------- 2.6/3.7 MB 5.0 MB/s eta 0:00:01\n",
      "   ------------------------------ --------- 2.8/3.7 MB 4.8 MB/s eta 0:00:01\n",
      "   -------------------------------- ------- 3.0/3.7 MB 4.8 MB/s eta 0:00:01\n",
      "   ----------------------------------- ---- 3.3/3.7 MB 4.9 MB/s eta 0:00:01\n",
      "   ------------------------------------- -- 3.5/3.7 MB 4.8 MB/s eta 0:00:01\n",
      "   ---------------------------------------  3.6/3.7 MB 4.8 MB/s eta 0:00:01\n",
      "   ---------------------------------------- 3.7/3.7 MB 4.6 MB/s eta 0:00:00\n",
      "Downloading soupsieve-2.5-py3-none-any.whl (36 kB)\n",
      "Downloading exceptiongroup-1.1.3-py3-none-any.whl (14 kB)\n",
      "Building wheels for collected packages: langdetect\n",
      "  Building wheel for langdetect (setup.py): started\n",
      "  Building wheel for langdetect (setup.py): finished with status 'done'\n",
      "  Created wheel for langdetect: filename=langdetect-1.0.9-py3-none-any.whl size=993253 sha256=69301415488c783143c46b6b745a20c7c16061e81c2dbc98316cd85fb129f7e0\n",
      "  Stored in directory: c:\\users\\luck\\appdata\\local\\pip\\cache\\wheels\\95\\03\\7d\\59ea870c70ce4e5a370638b5462a7711ab78fba2f655d05106\n",
      "Successfully built langdetect\n",
      "Installing collected packages: soupsieve, sniffio, proto-plus, lz4, langdetect, hyperframe, hpack, h11, grpcio, googleapis-common-protos, exceptiongroup, h2, grpcio-status, browser-cookie3, beautifulsoup4, anyio, httpcore, google-api-core, deep-translator, httpx, google-cloud-core, google-cloud-translate, bardapi\n",
      "  Attempting uninstall: grpcio\n",
      "    Found existing installation: grpcio 1.58.0\n",
      "    Uninstalling grpcio-1.58.0:\n",
      "      Successfully uninstalled grpcio-1.58.0\n",
      "Successfully installed anyio-4.0.0 bardapi-0.1.38 beautifulsoup4-4.12.2 browser-cookie3-0.19.1 deep-translator-1.11.4 exceptiongroup-1.1.3 google-api-core-2.12.0 google-cloud-core-2.3.3 google-cloud-translate-3.12.0 googleapis-common-protos-1.60.0 grpcio-1.59.0 grpcio-status-1.59.0 h11-0.14.0 h2-4.1.0 hpack-4.0.0 httpcore-0.18.0 httpx-0.25.0 hyperframe-6.0.1 langdetect-1.0.9 lz4-4.3.2 proto-plus-1.22.3 sniffio-1.3.0 soupsieve-2.5\n"
     ]
    },
    {
     "ename": "FileNotFoundError",
     "evalue": "[Errno 2] No such file or directory: 'c:\\\\users\\\\luck\\\\appdata\\\\local\\\\programs\\\\python\\\\python310\\\\lib\\\\site-packages\\\\grpcio-1.58.0.dist-info\\\\METADATA'",
     "output_type": "error",
     "traceback": [
      "\u001b[1;31m---------------------------------------------------------------------------\u001b[0m",
      "\u001b[1;31mAttributeError\u001b[0m                            Traceback (most recent call last)",
      "File \u001b[1;32mc:\\Users\\luck\\AppData\\Local\\Programs\\Python\\Python310\\lib\\site-packages\\pkg_resources\\__init__.py:3109\u001b[0m, in \u001b[0;36mDistInfoDistribution._dep_map\u001b[1;34m(self)\u001b[0m\n\u001b[0;32m   3108\u001b[0m \u001b[39mtry\u001b[39;00m:\n\u001b[1;32m-> 3109\u001b[0m     \u001b[39mreturn\u001b[39;00m \u001b[39mself\u001b[39;49m\u001b[39m.\u001b[39;49m__dep_map\n\u001b[0;32m   3110\u001b[0m \u001b[39mexcept\u001b[39;00m \u001b[39mAttributeError\u001b[39;00m:\n",
      "File \u001b[1;32mc:\\Users\\luck\\AppData\\Local\\Programs\\Python\\Python310\\lib\\site-packages\\pkg_resources\\__init__.py:2902\u001b[0m, in \u001b[0;36mDistribution.__getattr__\u001b[1;34m(self, attr)\u001b[0m\n\u001b[0;32m   2901\u001b[0m \u001b[39mif\u001b[39;00m attr\u001b[39m.\u001b[39mstartswith(\u001b[39m'\u001b[39m\u001b[39m_\u001b[39m\u001b[39m'\u001b[39m):\n\u001b[1;32m-> 2902\u001b[0m     \u001b[39mraise\u001b[39;00m \u001b[39mAttributeError\u001b[39;00m(attr)\n\u001b[0;32m   2903\u001b[0m \u001b[39mreturn\u001b[39;00m \u001b[39mgetattr\u001b[39m(\u001b[39mself\u001b[39m\u001b[39m.\u001b[39m_provider, attr)\n",
      "\u001b[1;31mAttributeError\u001b[0m: _DistInfoDistribution__dep_map",
      "\nDuring handling of the above exception, another exception occurred:\n",
      "\u001b[1;31mAttributeError\u001b[0m                            Traceback (most recent call last)",
      "File \u001b[1;32mc:\\Users\\luck\\AppData\\Local\\Programs\\Python\\Python310\\lib\\site-packages\\pkg_resources\\__init__.py:3100\u001b[0m, in \u001b[0;36mDistInfoDistribution._parsed_pkg_info\u001b[1;34m(self)\u001b[0m\n\u001b[0;32m   3099\u001b[0m \u001b[39mtry\u001b[39;00m:\n\u001b[1;32m-> 3100\u001b[0m     \u001b[39mreturn\u001b[39;00m \u001b[39mself\u001b[39;49m\u001b[39m.\u001b[39;49m_pkg_info\n\u001b[0;32m   3101\u001b[0m \u001b[39mexcept\u001b[39;00m \u001b[39mAttributeError\u001b[39;00m:\n",
      "File \u001b[1;32mc:\\Users\\luck\\AppData\\Local\\Programs\\Python\\Python310\\lib\\site-packages\\pkg_resources\\__init__.py:2902\u001b[0m, in \u001b[0;36mDistribution.__getattr__\u001b[1;34m(self, attr)\u001b[0m\n\u001b[0;32m   2901\u001b[0m \u001b[39mif\u001b[39;00m attr\u001b[39m.\u001b[39mstartswith(\u001b[39m'\u001b[39m\u001b[39m_\u001b[39m\u001b[39m'\u001b[39m):\n\u001b[1;32m-> 2902\u001b[0m     \u001b[39mraise\u001b[39;00m \u001b[39mAttributeError\u001b[39;00m(attr)\n\u001b[0;32m   2903\u001b[0m \u001b[39mreturn\u001b[39;00m \u001b[39mgetattr\u001b[39m(\u001b[39mself\u001b[39m\u001b[39m.\u001b[39m_provider, attr)\n",
      "\u001b[1;31mAttributeError\u001b[0m: _pkg_info",
      "\nDuring handling of the above exception, another exception occurred:\n",
      "\u001b[1;31mFileNotFoundError\u001b[0m                         Traceback (most recent call last)",
      "\u001b[1;32mc:\\Users\\luck\\work_space\\nlp_class\\19_bard_api.ipynb Cell 2\u001b[0m line \u001b[0;36m2\n\u001b[0;32m      <a href='vscode-notebook-cell:/c%3A/Users/luck/work_space/nlp_class/19_bard_api.ipynb#W0sZmlsZQ%3D%3D?line=0'>1</a>\u001b[0m get_ipython()\u001b[39m.\u001b[39msystem(\u001b[39m'\u001b[39m\u001b[39mpip install bardapi\u001b[39m\u001b[39m'\u001b[39m)\n\u001b[1;32m----> <a href='vscode-notebook-cell:/c%3A/Users/luck/work_space/nlp_class/19_bard_api.ipynb#W0sZmlsZQ%3D%3D?line=1'>2</a>\u001b[0m \u001b[39mimport\u001b[39;00m \u001b[39mbardapi\u001b[39;00m\n\u001b[0;32m      <a href='vscode-notebook-cell:/c%3A/Users/luck/work_space/nlp_class/19_bard_api.ipynb#W0sZmlsZQ%3D%3D?line=2'>3</a>\u001b[0m \u001b[39mimport\u001b[39;00m \u001b[39mos\u001b[39;00m \n",
      "File \u001b[1;32mc:\\Users\\luck\\AppData\\Local\\Programs\\Python\\Python310\\lib\\site-packages\\bardapi\\__init__.py:4\u001b[0m\n\u001b[0;32m      1\u001b[0m \u001b[39m# Copyright 2023 Minwoo Park, MIT License.\u001b[39;00m\n\u001b[0;32m      3\u001b[0m \u001b[39mfrom\u001b[39;00m \u001b[39mos\u001b[39;00m \u001b[39mimport\u001b[39;00m environ\n\u001b[1;32m----> 4\u001b[0m \u001b[39mfrom\u001b[39;00m \u001b[39mbardapi\u001b[39;00m\u001b[39m.\u001b[39;00m\u001b[39mcore\u001b[39;00m \u001b[39mimport\u001b[39;00m Bard\n\u001b[0;32m      5\u001b[0m \u001b[39mfrom\u001b[39;00m \u001b[39mbardapi\u001b[39;00m\u001b[39m.\u001b[39;00m\u001b[39mchat\u001b[39;00m \u001b[39mimport\u001b[39;00m ChatBard\n\u001b[0;32m      6\u001b[0m \u001b[39mfrom\u001b[39;00m \u001b[39mbardapi\u001b[39;00m\u001b[39m.\u001b[39;00m\u001b[39mcore_async\u001b[39;00m \u001b[39mimport\u001b[39;00m BardAsync\n",
      "File \u001b[1;32mc:\\Users\\luck\\AppData\\Local\\Programs\\Python\\Python310\\lib\\site-packages\\bardapi\\core.py:16\u001b[0m\n\u001b[0;32m     14\u001b[0m \u001b[39mtry\u001b[39;00m:\n\u001b[0;32m     15\u001b[0m     \u001b[39mfrom\u001b[39;00m \u001b[39mdeep_translator\u001b[39;00m \u001b[39mimport\u001b[39;00m GoogleTranslator\n\u001b[1;32m---> 16\u001b[0m     \u001b[39mfrom\u001b[39;00m \u001b[39mgoogle\u001b[39;00m\u001b[39m.\u001b[39;00m\u001b[39mcloud\u001b[39;00m \u001b[39mimport\u001b[39;00m translate_v2 \u001b[39mas\u001b[39;00m translate\n\u001b[0;32m     17\u001b[0m \u001b[39mexcept\u001b[39;00m \u001b[39mImportError\u001b[39;00m:\n\u001b[0;32m     18\u001b[0m     \u001b[39mpass\u001b[39;00m\n",
      "File \u001b[1;32mc:\\Users\\luck\\AppData\\Local\\Programs\\Python\\Python310\\lib\\site-packages\\google\\cloud\\translate_v2\\__init__.py:20\u001b[0m\n\u001b[0;32m     15\u001b[0m \u001b[39m\"\"\"Google Cloud Translation API wrapper.\"\"\"\u001b[39;00m\n\u001b[0;32m     18\u001b[0m \u001b[39mfrom\u001b[39;00m \u001b[39mpkg_resources\u001b[39;00m \u001b[39mimport\u001b[39;00m get_distribution\n\u001b[1;32m---> 20\u001b[0m __version__ \u001b[39m=\u001b[39m get_distribution(\u001b[39m\"\u001b[39;49m\u001b[39mgoogle-cloud-translate\u001b[39;49m\u001b[39m\"\u001b[39;49m)\u001b[39m.\u001b[39mversion\n\u001b[0;32m     22\u001b[0m \u001b[39mfrom\u001b[39;00m \u001b[39mgoogle\u001b[39;00m\u001b[39m.\u001b[39;00m\u001b[39mcloud\u001b[39;00m\u001b[39m.\u001b[39;00m\u001b[39mtranslate_v2\u001b[39;00m\u001b[39m.\u001b[39;00m\u001b[39mclient\u001b[39;00m \u001b[39mimport\u001b[39;00m Client\n\u001b[0;32m     25\u001b[0m __all__ \u001b[39m=\u001b[39m (\u001b[39m\"\u001b[39m\u001b[39m__version__\u001b[39m\u001b[39m\"\u001b[39m, \u001b[39m\"\u001b[39m\u001b[39mClient\u001b[39m\u001b[39m\"\u001b[39m)\n",
      "File \u001b[1;32mc:\\Users\\luck\\AppData\\Local\\Programs\\Python\\Python310\\lib\\site-packages\\pkg_resources\\__init__.py:528\u001b[0m, in \u001b[0;36mget_distribution\u001b[1;34m(dist)\u001b[0m\n\u001b[0;32m    526\u001b[0m     dist \u001b[39m=\u001b[39m Requirement\u001b[39m.\u001b[39mparse(dist)\n\u001b[0;32m    527\u001b[0m \u001b[39mif\u001b[39;00m \u001b[39misinstance\u001b[39m(dist, Requirement):\n\u001b[1;32m--> 528\u001b[0m     dist \u001b[39m=\u001b[39m get_provider(dist)\n\u001b[0;32m    529\u001b[0m \u001b[39mif\u001b[39;00m \u001b[39mnot\u001b[39;00m \u001b[39misinstance\u001b[39m(dist, Distribution):\n\u001b[0;32m    530\u001b[0m     \u001b[39mraise\u001b[39;00m \u001b[39mTypeError\u001b[39;00m(\u001b[39m\"\u001b[39m\u001b[39mExpected string, Requirement, or Distribution\u001b[39m\u001b[39m\"\u001b[39m, dist)\n",
      "File \u001b[1;32mc:\\Users\\luck\\AppData\\Local\\Programs\\Python\\Python310\\lib\\site-packages\\pkg_resources\\__init__.py:400\u001b[0m, in \u001b[0;36mget_provider\u001b[1;34m(moduleOrReq)\u001b[0m\n\u001b[0;32m    398\u001b[0m \u001b[39m\u001b[39m\u001b[39m\"\"\"Return an IResourceProvider for the named module or requirement\"\"\"\u001b[39;00m\n\u001b[0;32m    399\u001b[0m \u001b[39mif\u001b[39;00m \u001b[39misinstance\u001b[39m(moduleOrReq, Requirement):\n\u001b[1;32m--> 400\u001b[0m     \u001b[39mreturn\u001b[39;00m working_set\u001b[39m.\u001b[39mfind(moduleOrReq) \u001b[39mor\u001b[39;00m require(\u001b[39mstr\u001b[39;49m(moduleOrReq))[\u001b[39m0\u001b[39m]\n\u001b[0;32m    401\u001b[0m \u001b[39mtry\u001b[39;00m:\n\u001b[0;32m    402\u001b[0m     module \u001b[39m=\u001b[39m sys\u001b[39m.\u001b[39mmodules[moduleOrReq]\n",
      "File \u001b[1;32mc:\\Users\\luck\\AppData\\Local\\Programs\\Python\\Python310\\lib\\site-packages\\pkg_resources\\__init__.py:968\u001b[0m, in \u001b[0;36mWorkingSet.require\u001b[1;34m(self, *requirements)\u001b[0m\n\u001b[0;32m    959\u001b[0m \u001b[39mdef\u001b[39;00m \u001b[39mrequire\u001b[39m(\u001b[39mself\u001b[39m, \u001b[39m*\u001b[39mrequirements):\n\u001b[0;32m    960\u001b[0m \u001b[39m    \u001b[39m\u001b[39m\"\"\"Ensure that distributions matching `requirements` are activated\u001b[39;00m\n\u001b[0;32m    961\u001b[0m \n\u001b[0;32m    962\u001b[0m \u001b[39m    `requirements` must be a string or a (possibly-nested) sequence\u001b[39;00m\n\u001b[1;32m   (...)\u001b[0m\n\u001b[0;32m    966\u001b[0m \u001b[39m    included, even if they were already activated in this working set.\u001b[39;00m\n\u001b[0;32m    967\u001b[0m \u001b[39m    \"\"\"\u001b[39;00m\n\u001b[1;32m--> 968\u001b[0m     needed \u001b[39m=\u001b[39m \u001b[39mself\u001b[39;49m\u001b[39m.\u001b[39;49mresolve(parse_requirements(requirements))\n\u001b[0;32m    970\u001b[0m     \u001b[39mfor\u001b[39;00m dist \u001b[39min\u001b[39;00m needed:\n\u001b[0;32m    971\u001b[0m         \u001b[39mself\u001b[39m\u001b[39m.\u001b[39madd(dist)\n",
      "File \u001b[1;32mc:\\Users\\luck\\AppData\\Local\\Programs\\Python\\Python310\\lib\\site-packages\\pkg_resources\\__init__.py:834\u001b[0m, in \u001b[0;36mWorkingSet.resolve\u001b[1;34m(self, requirements, env, installer, replace_conflicting, extras)\u001b[0m\n\u001b[0;32m    829\u001b[0m dist \u001b[39m=\u001b[39m \u001b[39mself\u001b[39m\u001b[39m.\u001b[39m_resolve_dist(\n\u001b[0;32m    830\u001b[0m     req, best, replace_conflicting, env, installer, required_by, to_activate\n\u001b[0;32m    831\u001b[0m )\n\u001b[0;32m    833\u001b[0m \u001b[39m# push the new requirements onto the stack\u001b[39;00m\n\u001b[1;32m--> 834\u001b[0m new_requirements \u001b[39m=\u001b[39m dist\u001b[39m.\u001b[39;49mrequires(req\u001b[39m.\u001b[39;49mextras)[::\u001b[39m-\u001b[39m\u001b[39m1\u001b[39m]\n\u001b[0;32m    835\u001b[0m requirements\u001b[39m.\u001b[39mextend(new_requirements)\n\u001b[0;32m    837\u001b[0m \u001b[39m# Register the new requirements needed by req\u001b[39;00m\n",
      "File \u001b[1;32mc:\\Users\\luck\\AppData\\Local\\Programs\\Python\\Python310\\lib\\site-packages\\pkg_resources\\__init__.py:2822\u001b[0m, in \u001b[0;36mDistribution.requires\u001b[1;34m(self, extras)\u001b[0m\n\u001b[0;32m   2820\u001b[0m \u001b[39mdef\u001b[39;00m \u001b[39mrequires\u001b[39m(\u001b[39mself\u001b[39m, extras\u001b[39m=\u001b[39m()):\n\u001b[0;32m   2821\u001b[0m \u001b[39m    \u001b[39m\u001b[39m\"\"\"List of Requirements needed for this distro if `extras` are used\"\"\"\u001b[39;00m\n\u001b[1;32m-> 2822\u001b[0m     dm \u001b[39m=\u001b[39m \u001b[39mself\u001b[39;49m\u001b[39m.\u001b[39;49m_dep_map\n\u001b[0;32m   2823\u001b[0m     deps \u001b[39m=\u001b[39m []\n\u001b[0;32m   2824\u001b[0m     deps\u001b[39m.\u001b[39mextend(dm\u001b[39m.\u001b[39mget(\u001b[39mNone\u001b[39;00m, ()))\n",
      "File \u001b[1;32mc:\\Users\\luck\\AppData\\Local\\Programs\\Python\\Python310\\lib\\site-packages\\pkg_resources\\__init__.py:3111\u001b[0m, in \u001b[0;36mDistInfoDistribution._dep_map\u001b[1;34m(self)\u001b[0m\n\u001b[0;32m   3109\u001b[0m     \u001b[39mreturn\u001b[39;00m \u001b[39mself\u001b[39m\u001b[39m.\u001b[39m__dep_map\n\u001b[0;32m   3110\u001b[0m \u001b[39mexcept\u001b[39;00m \u001b[39mAttributeError\u001b[39;00m:\n\u001b[1;32m-> 3111\u001b[0m     \u001b[39mself\u001b[39m\u001b[39m.\u001b[39m__dep_map \u001b[39m=\u001b[39m \u001b[39mself\u001b[39;49m\u001b[39m.\u001b[39;49m_compute_dependencies()\n\u001b[0;32m   3112\u001b[0m     \u001b[39mreturn\u001b[39;00m \u001b[39mself\u001b[39m\u001b[39m.\u001b[39m__dep_map\n",
      "File \u001b[1;32mc:\\Users\\luck\\AppData\\Local\\Programs\\Python\\Python310\\lib\\site-packages\\pkg_resources\\__init__.py:3120\u001b[0m, in \u001b[0;36mDistInfoDistribution._compute_dependencies\u001b[1;34m(self)\u001b[0m\n\u001b[0;32m   3118\u001b[0m reqs \u001b[39m=\u001b[39m []\n\u001b[0;32m   3119\u001b[0m \u001b[39m# Including any condition expressions\u001b[39;00m\n\u001b[1;32m-> 3120\u001b[0m \u001b[39mfor\u001b[39;00m req \u001b[39min\u001b[39;00m \u001b[39mself\u001b[39;49m\u001b[39m.\u001b[39;49m_parsed_pkg_info\u001b[39m.\u001b[39mget_all(\u001b[39m'\u001b[39m\u001b[39mRequires-Dist\u001b[39m\u001b[39m'\u001b[39m) \u001b[39mor\u001b[39;00m []:\n\u001b[0;32m   3121\u001b[0m     reqs\u001b[39m.\u001b[39mextend(parse_requirements(req))\n\u001b[0;32m   3123\u001b[0m \u001b[39mdef\u001b[39;00m \u001b[39mreqs_for_extra\u001b[39m(extra):\n",
      "File \u001b[1;32mc:\\Users\\luck\\AppData\\Local\\Programs\\Python\\Python310\\lib\\site-packages\\pkg_resources\\__init__.py:3102\u001b[0m, in \u001b[0;36mDistInfoDistribution._parsed_pkg_info\u001b[1;34m(self)\u001b[0m\n\u001b[0;32m   3100\u001b[0m     \u001b[39mreturn\u001b[39;00m \u001b[39mself\u001b[39m\u001b[39m.\u001b[39m_pkg_info\n\u001b[0;32m   3101\u001b[0m \u001b[39mexcept\u001b[39;00m \u001b[39mAttributeError\u001b[39;00m:\n\u001b[1;32m-> 3102\u001b[0m     metadata \u001b[39m=\u001b[39m \u001b[39mself\u001b[39;49m\u001b[39m.\u001b[39;49mget_metadata(\u001b[39mself\u001b[39;49m\u001b[39m.\u001b[39;49mPKG_INFO)\n\u001b[0;32m   3103\u001b[0m     \u001b[39mself\u001b[39m\u001b[39m.\u001b[39m_pkg_info \u001b[39m=\u001b[39m email\u001b[39m.\u001b[39mparser\u001b[39m.\u001b[39mParser()\u001b[39m.\u001b[39mparsestr(metadata)\n\u001b[0;32m   3104\u001b[0m     \u001b[39mreturn\u001b[39;00m \u001b[39mself\u001b[39m\u001b[39m.\u001b[39m_pkg_info\n",
      "File \u001b[1;32mc:\\Users\\luck\\AppData\\Local\\Programs\\Python\\Python310\\lib\\site-packages\\pkg_resources\\__init__.py:1519\u001b[0m, in \u001b[0;36mNullProvider.get_metadata\u001b[1;34m(self, name)\u001b[0m\n\u001b[0;32m   1517\u001b[0m     \u001b[39mreturn\u001b[39;00m \u001b[39m\"\u001b[39m\u001b[39m\"\u001b[39m\n\u001b[0;32m   1518\u001b[0m path \u001b[39m=\u001b[39m \u001b[39mself\u001b[39m\u001b[39m.\u001b[39m_get_metadata_path(name)\n\u001b[1;32m-> 1519\u001b[0m value \u001b[39m=\u001b[39m \u001b[39mself\u001b[39;49m\u001b[39m.\u001b[39;49m_get(path)\n\u001b[0;32m   1520\u001b[0m \u001b[39mtry\u001b[39;00m:\n\u001b[0;32m   1521\u001b[0m     \u001b[39mreturn\u001b[39;00m value\u001b[39m.\u001b[39mdecode(\u001b[39m'\u001b[39m\u001b[39mutf-8\u001b[39m\u001b[39m'\u001b[39m)\n",
      "File \u001b[1;32mc:\\Users\\luck\\AppData\\Local\\Programs\\Python\\Python310\\lib\\site-packages\\pkg_resources\\__init__.py:1727\u001b[0m, in \u001b[0;36mDefaultProvider._get\u001b[1;34m(self, path)\u001b[0m\n\u001b[0;32m   1726\u001b[0m \u001b[39mdef\u001b[39;00m \u001b[39m_get\u001b[39m(\u001b[39mself\u001b[39m, path):\n\u001b[1;32m-> 1727\u001b[0m     \u001b[39mwith\u001b[39;00m \u001b[39mopen\u001b[39;49m(path, \u001b[39m'\u001b[39;49m\u001b[39mrb\u001b[39;49m\u001b[39m'\u001b[39;49m) \u001b[39mas\u001b[39;00m stream:\n\u001b[0;32m   1728\u001b[0m         \u001b[39mreturn\u001b[39;00m stream\u001b[39m.\u001b[39mread()\n",
      "\u001b[1;31mFileNotFoundError\u001b[0m: [Errno 2] No such file or directory: 'c:\\\\users\\\\luck\\\\appdata\\\\local\\\\programs\\\\python\\\\python310\\\\lib\\\\site-packages\\\\grpcio-1.58.0.dist-info\\\\METADATA'"
     ]
    }
   ],
   "source": [
    "# !pip install bardapi\n"
   ]
  },
  {
   "cell_type": "code",
   "execution_count": 1,
   "metadata": {},
   "outputs": [],
   "source": [
    "from bardapi import Bard\n",
    "import os "
   ]
  },
  {
   "cell_type": "code",
   "execution_count": 2,
   "metadata": {},
   "outputs": [
    {
     "data": {
      "text/plain": [
       "'0.1.23a'"
      ]
     },
     "execution_count": 2,
     "metadata": {},
     "output_type": "execute_result"
    }
   ],
   "source": [
    "import bardapi\n",
    "bardapi.__version__"
   ]
  },
  {
   "cell_type": "code",
   "execution_count": 9,
   "metadata": {},
   "outputs": [],
   "source": [
    "token = ''"
   ]
  },
  {
   "cell_type": "code",
   "execution_count": 10,
   "metadata": {},
   "outputs": [],
   "source": [
    "os.environ['_BARD_API_KEY'] = token"
   ]
  },
  {
   "cell_type": "code",
   "execution_count": 11,
   "metadata": {},
   "outputs": [],
   "source": [
    "bard = Bard()\n",
    "response = bard.get_answer(\"자연어 처리란 무엇일까?\")"
   ]
  },
  {
   "cell_type": "code",
   "execution_count": 12,
   "metadata": {},
   "outputs": [
    {
     "data": {
      "text/plain": [
       "{'content': '자연어 처리(NLP)는 컴퓨터가 인간의 언어를 이해하고 처리할 수 있도록 하는 인공 지능(AI)의 한 분야입니다. 인간의 언어는 매우 복잡하고 모호하기 때문에 컴퓨터가 인간의 언어를 완벽하게 이해하고 처리하는 것은 매우 어렵습니다. 그러나 자연어 처리 기술은 최근 몇 년 동안 크게 발전하여 음성 인식, 기계 번역, 챗봇, 질문 응답 시스템 등과 같은 다양한 분야에서 널리 사용되고 있습니다.\\n\\n자연어 처리의 주요 작업은 다음과 같습니다.\\n\\n* **음성 인식:** 음성 데이터를 텍스트 데이터로 변환하는 작업입니다.\\n* **기계 번역:** 한 언어의 텍스트를 다른 언어로 번역하는 작업입니다.\\n* **감정 분석:** 텍스트의 감정을 분석하는 작업입니다.\\n* **질문 응답:** 사용자의 질문에 답변하는 작업입니다.\\n* **텍스트 요약:** 긴 텍스트를 짧은 요약으로 변환하는 작업입니다.\\n\\n자연어 처리 기술은 다양한 분야에서 활용되고 있습니다. 다음은 자연어 처리 기술이 사용되는 몇 가지 예입니다.\\n\\n* **검색 엔진:** 검색 엔진은 사용자가 입력한 검색어를 이해하고 관련 웹 페이지를 검색하기 위해 자연어 처리 기술을 사용합니다.\\n* **챗봇:** 챗봇은 사용자의 질문에 응답하고 대화를 나누기 위해 자연어 처리 기술을 사용합니다.\\n* **고객 서비스:** 고객 서비스 에이전트는 고객의 불만 사항을 이해하고 해결하기 위해 자연어 처리 기술을 사용합니다.\\n* **의료:** 의료 전문가는 환자의 증상을 이해하고 진단하기 위해 자연어 처리 기술을 사용합니다.\\n* **금융:** 금융 전문가는 고객의 금융 데이터를 분석하고 최적의 투자 전략을 추천하기 위해 자연어 처리 기술을 사용합니다.\\n\\n자연어 처리 기술은 앞으로도 더욱 발전하여 우리 삶의 다양한 영역에서 더욱 널리 사용될 것으로 기대됩니다.',\n",
       " 'conversation_id': 'c_d2fbe437388726cc',\n",
       " 'response_id': 'r_d2fbe43738872897',\n",
       " 'factualityQueries': None,\n",
       " 'textQuery': ['인공 지능 자연어 처리', 1],\n",
       " 'choices': [{'id': 'rc_d2fbe4373887218e',\n",
       "   'content': ['자연어 처리(NLP)는 컴퓨터가 인간의 언어를 이해하고 처리할 수 있도록 하는 인공 지능(AI)의 한 분야입니다. 인간의 언어는 매우 복잡하고 모호하기 때문에 컴퓨터가 인간의 언어를 완벽하게 이해하고 처리하는 것은 매우 어렵습니다. 그러나 자연어 처리 기술은 최근 몇 년 동안 크게 발전하여 음성 인식, 기계 번역, 챗봇, 질문 응답 시스템 등과 같은 다양한 분야에서 널리 사용되고 있습니다.\\n\\n자연어 처리의 주요 작업은 다음과 같습니다.\\n\\n* **음성 인식:** 음성 데이터를 텍스트 데이터로 변환하는 작업입니다.\\n* **기계 번역:** 한 언어의 텍스트를 다른 언어로 번역하는 작업입니다.\\n* **감정 분석:** 텍스트의 감정을 분석하는 작업입니다.\\n* **질문 응답:** 사용자의 질문에 답변하는 작업입니다.\\n* **텍스트 요약:** 긴 텍스트를 짧은 요약으로 변환하는 작업입니다.\\n\\n자연어 처리 기술은 다양한 분야에서 활용되고 있습니다. 다음은 자연어 처리 기술이 사용되는 몇 가지 예입니다.\\n\\n* **검색 엔진:** 검색 엔진은 사용자가 입력한 검색어를 이해하고 관련 웹 페이지를 검색하기 위해 자연어 처리 기술을 사용합니다.\\n* **챗봇:** 챗봇은 사용자의 질문에 응답하고 대화를 나누기 위해 자연어 처리 기술을 사용합니다.\\n* **고객 서비스:** 고객 서비스 에이전트는 고객의 불만 사항을 이해하고 해결하기 위해 자연어 처리 기술을 사용합니다.\\n* **의료:** 의료 전문가는 환자의 증상을 이해하고 진단하기 위해 자연어 처리 기술을 사용합니다.\\n* **금융:** 금융 전문가는 고객의 금융 데이터를 분석하고 최적의 투자 전략을 추천하기 위해 자연어 처리 기술을 사용합니다.\\n\\n자연어 처리 기술은 앞으로도 더욱 발전하여 우리 삶의 다양한 영역에서 더욱 널리 사용될 것으로 기대됩니다.']},\n",
       "  {'id': 'rc_d2fbe43738872359',\n",
       "   'content': ['자연어 처리(NLP)는 컴퓨터가 인간이 사용하는 자연어를 이해하고 처리할 수 있도록 하는 인공지능의 한 분야입니다. 인간의 언어는 복잡하고 모호한 경우가 많기 때문에 컴퓨터가 이를 이해하는 것은 매우 어려운 일입니다. NLP는 통계적 기계 학습, 딥 러닝, 자연어 모델링 등의 기술을 사용하여 이러한 문제를 해결합니다.\\n\\nNLP는 다양한 분야에서 활용될 수 있습니다. 대표적인 예로는 다음과 같은 것들이 있습니다.\\n\\n* **음성 인식:** 음성으로 입력된 정보를 텍스트로 변환하는 기술입니다. 음성 기반의 챗봇, 가상 비서, 스마트 스피커 등에 사용됩니다.\\n* **기계 번역:** 한 언어로 작성된 텍스트를 다른 언어로 번역하는 기술입니다. 글로벌 비즈니스, 여행, 교육 등 다양한 분야에서 사용됩니다.\\n* **텍스트 요약:** 긴 텍스트를 짧은 문장으로 요약하는 기술입니다. 기사, 문서, 보고서 등을 간략하게 요약하는 데 사용됩니다.\\n* **질의 응답:** 사용자의 질문에 답변하는 기술입니다. 고객 서비스, 뉴스, 교육 등 다양한 분야에서 사용됩니다.\\n* **감정 분석:** 텍스트에서 감정을 식별하는 기술입니다. 소셜 미디어, 고객 피드백 등에서 사용자의 감정을 분석하는 데 사용됩니다.\\n\\nNLP는 인공지능의 발전과 함께 빠르게 발전하고 있습니다. 최근에는 딥 러닝을 기반으로 한 NLP 기술이 크게 발전하면서 음성 인식, 기계 번역, 질의 응답 등의 분야에서 인간과 구별하기 어려운 수준의 성능을 달성하고 있습니다.\\n\\nNLP는 우리 삶의 많은 부분을 변화시킬 잠재력을 가지고 있습니다. 컴퓨터와 인간이 보다 자연스럽게 상호 작용할 수 있도록 해주며, 다양한 분야에서 새로운 혁신을 가능하게 할 것입니다.']},\n",
       "  {'id': 'rc_d2fbe43738872524',\n",
       "   'content': ['자연어 처리(NLP)는 컴퓨터가 인간의 언어를 이해하고 처리할 수 있도록 하는 인공지능 분야입니다. 인간의 언어는 복잡하고 모호하기 때문에 컴퓨터가 이를 이해하고 처리하는 것은 매우 어려운 일입니다. NLP는 이러한 어려움을 극복하기 위해 다양한 기술을 사용합니다.\\n\\nNLP의 주요 작업은 다음과 같습니다.\\n\\n* **음성 인식:** 음성 데이터를 텍스트 데이터로 변환하는 작업입니다.\\n* **텍스트 인식:** 텍스트 데이터를 의미 있는 단위로 분해하는 작업입니다.\\n* **구문 분석:** 문장의 구조를 분석하는 작업입니다.\\n* **의미 분석:** 문장의 의미를 파악하는 작업입니다.\\n* **자연어 생성:** 텍스트를 생성하는 작업입니다.\\n\\nNLP는 다양한 분야에서 사용됩니다. 다음은 NLP의 주요 응용 분야입니다.\\n\\n* **검색 엔진:** 검색 엔진은 사용자의 검색어를 이해하고 관련 정보를 제공하기 위해 NLP를 사용합니다.\\n* **챗봇:** 챗봇은 사용자의 질문과 요청을 이해하고 응답하기 위해 NLP를 사용합니다.\\n* **기계 번역:** 기계 번역은 한 언어를 다른 언어로 번역하기 위해 NLP를 사용합니다.\\n* **감정 분석:** 감정 분석은 사용자의 감정을 분석하기 위해 NLP를 사용합니다.\\n* **자연어 요약:** 자연어 요약은 텍스트의 주요 내용을 요약하기 위해 NLP를 사용합니다.\\n\\nNLP는 인공지능 분야에서 가장 활발하게 연구되고 있는 분야 중 하나입니다. NLP의 발전은 컴퓨터와 인간의 상호 작용을 더욱 자연스럽고 편리하게 만들어 줄 것입니다.\\n\\n최근에는 딥 러닝 기술의 발전으로 NLP의 성능이 크게 향상되었습니다. 딥 러닝은 인간의 언어를 이해하는 데 필요한 복잡한 패턴을 학습할 수 있습니다. 그 결과, 음성 인식, 텍스트 인식, 기계 번역, 감정 분석 등 다양한 NLP 작업에서 괄목할만한 성과를 거두었습니다.\\n\\nNLP는 우리 생활의 다양한 영역에서 사용되고 있습니다. 음성 인식을 통해 스마트 스피커와 상호 작용하고, 챗봇을 통해 고객 서비스 상담을 받고, 기계 번역을 통해 외국어를 이해하고, 감정 분석을 통해 사용자의 피드백을 분석하는 등 NLP는 우리 삶을 더욱 편리하고 풍요롭게 만들어 주고 있습니다.']}]}"
      ]
     },
     "execution_count": 12,
     "metadata": {},
     "output_type": "execute_result"
    }
   ],
   "source": [
    "response"
   ]
  }
 ],
 "metadata": {
  "kernelspec": {
   "display_name": "Python 3",
   "language": "python",
   "name": "python3"
  },
  "language_info": {
   "codemirror_mode": {
    "name": "ipython",
    "version": 3
   },
   "file_extension": ".py",
   "mimetype": "text/x-python",
   "name": "python",
   "nbconvert_exporter": "python",
   "pygments_lexer": "ipython3",
   "version": "3.9.18"
  },
  "orig_nbformat": 4
 },
 "nbformat": 4,
 "nbformat_minor": 2
}
