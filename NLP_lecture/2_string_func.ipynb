{
 "cells": [
  {
   "cell_type": "markdown",
   "metadata": {},
   "source": [
    "### 문자열 표기법\n",
    "\n",
    "* 작은 따옴표 사용 가능\n",
    "* 큰 따옴표 사용 가능"
   ]
  },
  {
   "cell_type": "code",
   "execution_count": 1,
   "metadata": {},
   "outputs": [],
   "source": [
    "text_a = 'Hello World'\n",
    "text_b = \"Hello World\"\n",
    "text_c = '''Hello World'''\n",
    "text_d = \"\"\"Hello World\"\"\""
   ]
  },
  {
   "cell_type": "code",
   "execution_count": 5,
   "metadata": {},
   "outputs": [
    {
     "data": {
      "text/plain": [
       "'Hello World'"
      ]
     },
     "execution_count": 5,
     "metadata": {},
     "output_type": "execute_result"
    }
   ],
   "source": [
    "text_a"
   ]
  },
  {
   "cell_type": "markdown",
   "metadata": {},
   "source": [
    "## 이스케이프 문자 사용하기\n",
    "\n",
    "* \\n : 문자열 안에서 줄을 바꿀 때 사용\n",
    "* \\t : 문자열 사이에 탭 간격을 줄 때 사용\n",
    "* \\\\ : \\를 그대로 표현할 때 사용\n",
    "* \\' : 작은따옴표(')를 그대로 표현할 때 사용\n",
    "* \\\" : 큰따옴표(\")를 그대로 표현할 때 사용\n",
    "* \\r : 캐리지 리턴(줄 바꿈 문자, 커서를 현재 줄의 가장 앞으로 이동)\n",
    "* \\000 : 널 문자"
   ]
  },
  {
   "cell_type": "code",
   "execution_count": 7,
   "metadata": {},
   "outputs": [
    {
     "name": "stdout",
     "output_type": "stream",
     "text": [
      "'좋은 성과를 얻으려면 한 걸음 한 걸음이 힘차고 충실하지 않으면 안 된다'라고 단테가 말했다\n"
     ]
    }
   ],
   "source": [
    "text_e = \"\\'좋은 성과를 얻으려면 한 걸음 한 걸음이 힘차고 충실하지 않으면 안 된다\\'라고 단테가 말했다\"\n",
    "print(text_e)"
   ]
  },
  {
   "cell_type": "code",
   "execution_count": 8,
   "metadata": {},
   "outputs": [
    {
     "name": "stdout",
     "output_type": "stream",
     "text": [
      "Hello World\n",
      "Hello Python\n",
      "\n",
      "Hello World\n",
      "Hello Python\n",
      "\n"
     ]
    }
   ],
   "source": [
    "text_f = \"\"\"Hello World\\nHello Python\"\"\"\n",
    "print(text_f)\n",
    "\n",
    "text_g = \"\"\"\n",
    "Hello World\n",
    "Hello Python\n",
    "\"\"\"\n",
    "print(text_g)"
   ]
  },
  {
   "cell_type": "markdown",
   "metadata": {},
   "source": [
    "## 문자열 연산하기\n",
    "\n",
    "* 문자열 sequence 데이터이다.\n",
    "  * 인덱싱이 있음\n",
    "  * 길이 연산이 가능함\n",
    "  * 곱하기/더하기 가능함"
   ]
  },
  {
   "cell_type": "code",
   "execution_count": 9,
   "metadata": {},
   "outputs": [],
   "source": [
    "head = \"Attention\"\n",
    "tail = \"is all you need\""
   ]
  },
  {
   "cell_type": "code",
   "execution_count": 10,
   "metadata": {},
   "outputs": [
    {
     "data": {
      "text/plain": [
       "(9, 15)"
      ]
     },
     "execution_count": 10,
     "metadata": {},
     "output_type": "execute_result"
    }
   ],
   "source": [
    "# 길이 연산\n",
    "len(head) , len(tail)"
   ]
  },
  {
   "cell_type": "code",
   "execution_count": 11,
   "metadata": {},
   "outputs": [
    {
     "data": {
      "text/plain": [
       "'AttentionAttention'"
      ]
     },
     "execution_count": 11,
     "metadata": {},
     "output_type": "execute_result"
    }
   ],
   "source": [
    "# 곱하기\n",
    "head * 2"
   ]
  },
  {
   "cell_type": "code",
   "execution_count": 12,
   "metadata": {},
   "outputs": [
    {
     "data": {
      "text/plain": [
       "'Attention is all you need'"
      ]
     },
     "execution_count": 12,
     "metadata": {},
     "output_type": "execute_result"
    }
   ],
   "source": [
    "# 더하기\n",
    "full_text = head + ' ' + tail\n",
    "full_text"
   ]
  },
  {
   "cell_type": "code",
   "execution_count": 13,
   "metadata": {},
   "outputs": [
    {
     "data": {
      "text/plain": [
       "('A', 'd')"
      ]
     },
     "execution_count": 13,
     "metadata": {},
     "output_type": "execute_result"
    }
   ],
   "source": [
    "# 인덱싱하기\n",
    "full_text[0], full_text[-1]"
   ]
  },
  {
   "cell_type": "code",
   "execution_count": 14,
   "metadata": {},
   "outputs": [
    {
     "name": "stdout",
     "output_type": "stream",
     "text": [
      "Attention is all you need\n",
      "Attention\n",
      " is all you need\n",
      "need\n"
     ]
    }
   ],
   "source": [
    "# 슬라이싱하기\n",
    "print(full_text[:])\n",
    "print(full_text[:9])\n",
    "print(full_text[9:])\n",
    "print(full_text[-4:])"
   ]
  },
  {
   "cell_type": "code",
   "execution_count": 15,
   "metadata": {},
   "outputs": [
    {
     "data": {
      "text/plain": [
       "'deen uoy lla si noitnettA'"
      ]
     },
     "execution_count": 15,
     "metadata": {},
     "output_type": "execute_result"
    }
   ],
   "source": [
    "# 순서변환하기\n",
    "full_text[::-1]"
   ]
  },
  {
   "cell_type": "code",
   "execution_count": 17,
   "metadata": {},
   "outputs": [
    {
     "ename": "TypeError",
     "evalue": "'str' object does not support item assignment",
     "output_type": "error",
     "traceback": [
      "\u001b[1;31m---------------------------------------------------------------------------\u001b[0m",
      "\u001b[1;31mTypeError\u001b[0m                                 Traceback (most recent call last)",
      "\u001b[1;32m~\\AppData\\Local\\Temp\\ipykernel_25492\\677925219.py\u001b[0m in \u001b[0;36m<module>\u001b[1;34m\u001b[0m\n\u001b[0;32m      1\u001b[0m \u001b[1;31m# 데이터 변환하기\u001b[0m\u001b[1;33m\u001b[0m\u001b[1;33m\u001b[0m\u001b[0m\n\u001b[0;32m      2\u001b[0m \u001b[1;31m# 문자열은 변경 불가능한 자료형임 / TypeError 발생\u001b[0m\u001b[1;33m\u001b[0m\u001b[1;33m\u001b[0m\u001b[0m\n\u001b[1;32m----> 3\u001b[1;33m \u001b[0mfull_text\u001b[0m\u001b[1;33m[\u001b[0m\u001b[1;36m21\u001b[0m\u001b[1;33m]\u001b[0m \u001b[1;33m=\u001b[0m \u001b[1;34m'N'\u001b[0m\u001b[1;33m\u001b[0m\u001b[1;33m\u001b[0m\u001b[0m\n\u001b[0m",
      "\u001b[1;31mTypeError\u001b[0m: 'str' object does not support item assignment"
     ]
    }
   ],
   "source": [
    "# 데이터 변환하기\n",
    "# 문자열은 변경 불가능한 자료형임 / TypeError 발생\n",
    "full_text[21] = 'N'"
   ]
  },
  {
   "cell_type": "markdown",
   "metadata": {},
   "source": [
    "## 문자열 함수\n",
    "\n",
    "문자열 내장 함수 : len , count \n",
    "\n",
    "* len(문자열) : 문자열의 길이를 반환함\n",
    "* 문자열.count(찾을 문자) : 문자열 내에서 찾을 문자의 개수"
   ]
  },
  {
   "cell_type": "code",
   "execution_count": 18,
   "metadata": {},
   "outputs": [
    {
     "data": {
      "text/plain": [
       "3"
      ]
     },
     "execution_count": 18,
     "metadata": {},
     "output_type": "execute_result"
    }
   ],
   "source": [
    "# 문자열에서 문자 찾기\n",
    "full_text.count('n')"
   ]
  },
  {
   "cell_type": "code",
   "execution_count": 19,
   "metadata": {},
   "outputs": [
    {
     "data": {
      "text/plain": [
       "'Attention is all you need'"
      ]
     },
     "execution_count": 19,
     "metadata": {},
     "output_type": "execute_result"
    }
   ],
   "source": [
    "full_text"
   ]
  },
  {
   "cell_type": "markdown",
   "metadata": {},
   "source": [
    "## 문자열 내장 함수 : find, index, rfind\n",
    "\n",
    "* 문자열.find(찾을 문자, 시작 인덱스, 종료인덱스) : 문자열 시작~종료 인덱스 사이에서 찾을 문자의 처음 나타나는 위치를 반환함  \n",
    "* 문자열.index(찾을 문자, 시작 인덱스, 종료 인덱스) : 문자열 시작~종료 인덱스 사이에서 찾을 문자의 처음 나타나는 위치를 반환함  \n",
    "* find, index 공통점: 문자열 내에서 찾을 값이 처음 나타나는 위치를 탐색함  \n",
    "* find, index 차이점: 문자열 내에서 찾을 문자가 없는 경우에 차이가 발생함  \n",
    "  * find : -1 값을 리턴  \n",
    "  * index : ValueError 발생    \n",
    "* 문자열.rfind(찾을 문자) : 문자열 끝나는 위치부터 시작하여 찾을 문자가 처음 나타는 위치를 반환함(끝에서부터서 탐색)\n",
    "\n",
    "lfind ?  <== No"
   ]
  },
  {
   "cell_type": "code",
   "execution_count": 20,
   "metadata": {},
   "outputs": [
    {
     "name": "stdout",
     "output_type": "stream",
     "text": [
      "Attention is all you need 4\n",
      "Attention is all you need 8\n",
      "Attention is all you need 21\n"
     ]
    }
   ],
   "source": [
    "print(full_text, full_text.find('n'))\n",
    "print(full_text, full_text.find('n', 6, 10))\n",
    "print(full_text, full_text.find('n', 10))"
   ]
  },
  {
   "cell_type": "code",
   "execution_count": 21,
   "metadata": {},
   "outputs": [
    {
     "name": "stdout",
     "output_type": "stream",
     "text": [
      "ntion is all you need\n",
      "n is all you need\n",
      "need\n"
     ]
    }
   ],
   "source": [
    "print(full_text[4:])\n",
    "print(full_text[8:])\n",
    "print(full_text[21:])"
   ]
  },
  {
   "cell_type": "code",
   "execution_count": 22,
   "metadata": {},
   "outputs": [
    {
     "name": "stdout",
     "output_type": "stream",
     "text": [
      "Attention is all you need 4\n",
      "Attention is all you need 8\n",
      "Attention is all you need 21\n"
     ]
    }
   ],
   "source": [
    "print(full_text, full_text.index('n'))\n",
    "print(full_text, full_text.index('n', 6, 10))\n",
    "print(full_text, full_text.index('n', 10))"
   ]
  },
  {
   "cell_type": "code",
   "execution_count": 23,
   "metadata": {},
   "outputs": [
    {
     "data": {
      "text/plain": [
       "-1"
      ]
     },
     "execution_count": 23,
     "metadata": {},
     "output_type": "execute_result"
    }
   ],
   "source": [
    "full_text.find('z')"
   ]
  },
  {
   "cell_type": "code",
   "execution_count": 24,
   "metadata": {},
   "outputs": [
    {
     "ename": "ValueError",
     "evalue": "substring not found",
     "output_type": "error",
     "traceback": [
      "\u001b[1;31m---------------------------------------------------------------------------\u001b[0m",
      "\u001b[1;31mValueError\u001b[0m                                Traceback (most recent call last)",
      "\u001b[1;32m~\\AppData\\Local\\Temp\\ipykernel_25492\\818258705.py\u001b[0m in \u001b[0;36m<module>\u001b[1;34m\u001b[0m\n\u001b[1;32m----> 1\u001b[1;33m \u001b[0mfull_text\u001b[0m\u001b[1;33m.\u001b[0m\u001b[0mindex\u001b[0m\u001b[1;33m(\u001b[0m\u001b[1;34m'z'\u001b[0m\u001b[1;33m)\u001b[0m\u001b[1;33m\u001b[0m\u001b[1;33m\u001b[0m\u001b[0m\n\u001b[0m",
      "\u001b[1;31mValueError\u001b[0m: substring not found"
     ]
    }
   ],
   "source": [
    "full_text.index('z')"
   ]
  },
  {
   "cell_type": "markdown",
   "metadata": {},
   "source": [
    "## 문자열 내장 함수 : split, join\n",
    "\n",
    "* 문자열.split(구분자) : 문자열을 구분자 기준으로 나눔, list 타입 리턴\n",
    "* 구분자.join(문자열 or 리스트) : 문자열 사이에 구분자가 추가됨"
   ]
  },
  {
   "cell_type": "code",
   "execution_count": 25,
   "metadata": {},
   "outputs": [
    {
     "name": "stdout",
     "output_type": "stream",
     "text": [
      "['Attention', 'is', 'all', 'you', 'need']\n",
      "Attention is all you need\n",
      "가 나 다 라 마\n"
     ]
    }
   ],
   "source": [
    "splited = full_text.split(' ') # \\n , \\t , .\n",
    "print(splited)\n",
    "\n",
    "joined = ' '.join(splited)\n",
    "print(joined)\n",
    "\n",
    "print(' '.join('가나다라마'))"
   ]
  },
  {
   "cell_type": "markdown",
   "metadata": {},
   "source": [
    "## 문자열 내장 함수 : replace, upper, lower \n",
    "\n",
    "* 문자열.replace(기존값, 변경할값, 변경횟수) : 변경횟수 만큼 기존 값을 변경할 값으로 대체함\n",
    "* 문자열.upper() : 알파벳 소문자를 대문자로 변환하여 반환함\n",
    "* 문자열.lower() : 알파벳 대문자를 소문자로 변환하여 반환함\n",
    "* 문자열.isupper() : 문자열 전체가 대문자인지 판정함\n",
    "* 문자열.islower() : 문자열 전체가 소문자인지 판정함"
   ]
  },
  {
   "cell_type": "code",
   "execution_count": 26,
   "metadata": {},
   "outputs": [
    {
     "name": "stdout",
     "output_type": "stream",
     "text": [
      "AtteNtioN is all you Need\n",
      "AtteNtioN is all you need\n"
     ]
    }
   ],
   "source": [
    "print(full_text.replace('n', 'N'))\n",
    "print(full_text.replace('n', 'N', 2))"
   ]
  },
  {
   "cell_type": "code",
   "execution_count": 27,
   "metadata": {},
   "outputs": [
    {
     "name": "stdout",
     "output_type": "stream",
     "text": [
      "ATTENTION IS ALL YOU NEED\n",
      "True\n",
      "False\n"
     ]
    }
   ],
   "source": [
    "full_text_upper = full_text.upper()\n",
    "print(full_text_upper)\n",
    "print(full_text_upper.isupper())\n",
    "print(full_text.isupper())"
   ]
  },
  {
   "cell_type": "code",
   "execution_count": 28,
   "metadata": {},
   "outputs": [
    {
     "name": "stdout",
     "output_type": "stream",
     "text": [
      "attention is all you need\n",
      "True\n",
      "False\n"
     ]
    }
   ],
   "source": [
    "full_text_lower = full_text.lower()\n",
    "print(full_text_lower)\n",
    "print(full_text_lower.islower())\n",
    "print(full_text.islower())"
   ]
  },
  {
   "cell_type": "markdown",
   "metadata": {},
   "source": [
    "## 문자열 내장 함수 : strip, lstrip, rstrip \n",
    "\n",
    "* 문자열.strip(제거할 값) : 양쪽 끝에서 특정 값을 제거함\n",
    "* 문자열.lstrip(제거할 값) : 왼쪽 끝에서 특정 값을 제거함\n",
    "* 문자열.rstrip(제거할 값) : 오른쪽 끝에서 특정 값을 제거함"
   ]
  },
  {
   "cell_type": "code",
   "execution_count": 29,
   "metadata": {},
   "outputs": [],
   "source": [
    "샘플데이터 = \"\"\"    요즘 대세는 LLM(Large Language Model)입니다     \"\"\""
   ]
  },
  {
   "cell_type": "code",
   "execution_count": 30,
   "metadata": {},
   "outputs": [
    {
     "name": "stdout",
     "output_type": "stream",
     "text": [
      "* 요즘 대세는 LLM(Large Language Model)입니다 *\n",
      "* 요즘 대세는 LLM(Large Language Model)입니다      *\n",
      "*     요즘 대세는 LLM(Large Language Model)입니다 *\n"
     ]
    }
   ],
   "source": [
    "print('*', 샘플데이터.strip() , '*')\n",
    "print('*', 샘플데이터.lstrip() , '*')\n",
    "print('*', 샘플데이터.rstrip() , '*')"
   ]
  },
  {
   "cell_type": "code",
   "execution_count": 31,
   "metadata": {},
   "outputs": [
    {
     "name": "stdout",
     "output_type": "stream",
     "text": [
      "* 요즘 대세는 LLM(Large Language Model)입니다 *\n",
      "* 요즘 대세는 LLM(Large Language Model)입니다11111 *\n",
      "* 11111요즘 대세는 LLM(Large Language Model)입니다 *\n"
     ]
    }
   ],
   "source": [
    "샘플데이터 = \"\"\"11111요즘 대세는 LLM(Large Language Model)입니다11111\"\"\"\n",
    "print('*', 샘플데이터.strip('1') , '*')\n",
    "print('*', 샘플데이터.lstrip('1') , '*')\n",
    "print('*', 샘플데이터.rstrip('1') , '*')"
   ]
  },
  {
   "cell_type": "markdown",
   "metadata": {},
   "source": [
    "## 문자열 내장 함수 : zfill, rjust, ljust, center\n",
    "\n",
    "* 문자열.zfill(정수) : 문자열의 길이가 지정된 정수가 될때까지 문자열 왼쪽에 0을 채움\n",
    "* 문자열.rjust(정수, 원하는 문자) : 문자열의 길이가 지정된 정수가 될때까지 문자열 왼쪽에 '원하는 문자'을 채움\n",
    "* 문자열.ljust(정수, 원하는 문자) : 문자열의 길이가 지정된 정수가 될때까지 문자열 오른쪽에 '원하는 문자'을 채움\n",
    "* 문자열.center(정수, 원하는 문자) : 문자열의 길이가 지정된 정수가 될때까지 문자열 양쪽에 '원하는 문자'을 채움"
   ]
  },
  {
   "cell_type": "code",
   "execution_count": 32,
   "metadata": {},
   "outputs": [
    {
     "name": "stdout",
     "output_type": "stream",
     "text": [
      "Attention is all you need\n",
      "0000000000000000000000000Attention is all you need\n",
      "*************************Attention is all you need\n",
      "Attention is all you need*************************\n",
      "************Attention is all you need*************\n"
     ]
    }
   ],
   "source": [
    "print(full_text.zfill(20))\n",
    "print(full_text.zfill(50))\n",
    "print(full_text.rjust(50, '*'))\n",
    "print(full_text.ljust(50, '*'))\n",
    "print(full_text.center(50, '*'))"
   ]
  },
  {
   "cell_type": "code",
   "execution_count": null,
   "metadata": {},
   "outputs": [],
   "source": []
  }
 ],
 "metadata": {
  "kernelspec": {
   "display_name": "base",
   "language": "python",
   "name": "python3"
  },
  "language_info": {
   "codemirror_mode": {
    "name": "ipython",
    "version": 3
   },
   "file_extension": ".py",
   "mimetype": "text/x-python",
   "name": "python",
   "nbconvert_exporter": "python",
   "pygments_lexer": "ipython3",
   "version": "3.9.13"
  },
  "orig_nbformat": 4
 },
 "nbformat": 4,
 "nbformat_minor": 2
}
