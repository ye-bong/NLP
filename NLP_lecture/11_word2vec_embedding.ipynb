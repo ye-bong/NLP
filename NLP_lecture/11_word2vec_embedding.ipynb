{
 "cells": [
  {
   "cell_type": "markdown",
   "metadata": {},
   "source": [
    "## Word2Vec"
   ]
  },
  {
   "cell_type": "code",
   "execution_count": 2,
   "metadata": {},
   "outputs": [],
   "source": [
    "from gensim.models.word2vec import Word2Vec\n",
    "import pandas as pd\n",
    "import gensim\n",
    "from konlpy.tag import Okt"
   ]
  },
  {
   "cell_type": "code",
   "execution_count": 6,
   "metadata": {},
   "outputs": [],
   "source": [
    "#  데이터 로드\n",
    "train_df = pd.read_csv('./data/ratings_train.csv')\n",
    "train_df.dropna(inplace=True)"
   ]
  },
  {
   "cell_type": "markdown",
   "metadata": {},
   "source": [
    "자연어 처리를 할 때, 단시간에 분석을 빠르게 하는 방법(공통적인 전처리 과정)\n",
    "\n",
    "1. 특수 기호를 제외하고 한글만 뽑아서 분석한다.\n",
    "2. 명사의 사용이 많기 때문에 명사만을 추출해서 분석한다.(구문 분석 등에서는 사용 불가)"
   ]
  },
  {
   "cell_type": "code",
   "execution_count": 7,
   "metadata": {},
   "outputs": [
    {
     "name": "stderr",
     "output_type": "stream",
     "text": [
      "C:\\Users\\user\\AppData\\Local\\Temp\\ipykernel_19392\\1763865445.py:2: FutureWarning: The default value of regex will change from True to False in a future version.\n",
      "  train_df['document'] = train_df['document'].str.replace(\"[^ㄱ-ㅎㅏ-ㅣ가-힣]\", \" \")\n"
     ]
    }
   ],
   "source": [
    "# 특수 기호 제외하고 한글만 뽑아서 분석\n",
    "train_df['document'] = train_df['document'].str.replace(\"[^ㄱ-ㅎㅏ-ㅣ가-힣]\", \" \")"
   ]
  },
  {
   "cell_type": "code",
   "execution_count": 8,
   "metadata": {},
   "outputs": [
    {
     "data": {
      "text/html": [
       "<div>\n",
       "<style scoped>\n",
       "    .dataframe tbody tr th:only-of-type {\n",
       "        vertical-align: middle;\n",
       "    }\n",
       "\n",
       "    .dataframe tbody tr th {\n",
       "        vertical-align: top;\n",
       "    }\n",
       "\n",
       "    .dataframe thead th {\n",
       "        text-align: right;\n",
       "    }\n",
       "</style>\n",
       "<table border=\"1\" class=\"dataframe\">\n",
       "  <thead>\n",
       "    <tr style=\"text-align: right;\">\n",
       "      <th></th>\n",
       "      <th>id</th>\n",
       "      <th>document</th>\n",
       "      <th>label</th>\n",
       "    </tr>\n",
       "  </thead>\n",
       "  <tbody>\n",
       "    <tr>\n",
       "      <th>0</th>\n",
       "      <td>9976970</td>\n",
       "      <td>아 더빙   진짜 짜증나네요 목소리</td>\n",
       "      <td>0</td>\n",
       "    </tr>\n",
       "    <tr>\n",
       "      <th>1</th>\n",
       "      <td>3819312</td>\n",
       "      <td>흠   포스터보고 초딩영화줄    오버연기조차 가볍지 않구나</td>\n",
       "      <td>1</td>\n",
       "    </tr>\n",
       "    <tr>\n",
       "      <th>2</th>\n",
       "      <td>10265843</td>\n",
       "      <td>너무재밓었다그래서보는것을추천한다</td>\n",
       "      <td>0</td>\n",
       "    </tr>\n",
       "    <tr>\n",
       "      <th>3</th>\n",
       "      <td>9045019</td>\n",
       "      <td>교도소 이야기구먼   솔직히 재미는 없다  평점 조정</td>\n",
       "      <td>0</td>\n",
       "    </tr>\n",
       "    <tr>\n",
       "      <th>4</th>\n",
       "      <td>6483659</td>\n",
       "      <td>사이몬페그의 익살스런 연기가 돋보였던 영화 스파이더맨에서 늙어보이기만 했던 커스틴 ...</td>\n",
       "      <td>1</td>\n",
       "    </tr>\n",
       "  </tbody>\n",
       "</table>\n",
       "</div>"
      ],
      "text/plain": [
       "         id                                           document  label\n",
       "0   9976970                                아 더빙   진짜 짜증나네요 목소리      0\n",
       "1   3819312                  흠   포스터보고 초딩영화줄    오버연기조차 가볍지 않구나      1\n",
       "2  10265843                                  너무재밓었다그래서보는것을추천한다      0\n",
       "3   9045019                      교도소 이야기구먼   솔직히 재미는 없다  평점 조정      0\n",
       "4   6483659  사이몬페그의 익살스런 연기가 돋보였던 영화 스파이더맨에서 늙어보이기만 했던 커스틴 ...      1"
      ]
     },
     "execution_count": 8,
     "metadata": {},
     "output_type": "execute_result"
    }
   ],
   "source": [
    "train_df.head()"
   ]
  },
  {
   "cell_type": "code",
   "execution_count": 9,
   "metadata": {},
   "outputs": [],
   "source": [
    "# 불용어 정의\n",
    "stopwords = ['의', '가', '이', '은', '들', '는', '좀', '을', '를', '는', '으로']"
   ]
  },
  {
   "cell_type": "code",
   "execution_count": 10,
   "metadata": {},
   "outputs": [],
   "source": [
    "# 토크나이저에 불용어 적용\n",
    "\n",
    "okt = Okt()\n",
    "\n",
    "tokenized_words , sentence_nouns = [] , []\n",
    "\n",
    "for sentence in train_df['document'] :\n",
    "    # 형태소 분석 토큰화\n",
    "    tokenized_word = okt.morphs(sentence, stem=True) # 토큰화 및 정규화\n",
    "    stopwords_removed_sentence = [word for word in tokenized_word if not word in stopwords]\n",
    "    tokenized_words.append(stopwords_removed_sentence)\n",
    "\n",
    "    # 명사만 추출\n",
    "    nouns = okt.nouns(sentence)\n",
    "    sentence_nouns.append(nouns)"
   ]
  },
  {
   "cell_type": "markdown",
   "metadata": {},
   "source": [
    "## 자연어처리에서 데이터 EDA하기\n",
    "\n",
    "1. 텍스트 데이터의 수를 기준(통계적 수치 확인)  \n",
    "    1. 텍스트 길이의 최대, 최소, 중앙값, 평균값을 확인  \n",
    "        - 최대값 : 임베딩을 할 때, max_len 파라미터에 대한 값을 설정\n",
    "    2. 각 품사별 데이터 수 확인\n",
    "        - 대부분은 명사가 많이 사용됨\n",
    "        - 만약 하드웨어등의 사양이 낮아 문제가 되는 경우, 명사만 분석을 하기 위해 데이터 수 확인  \n",
    "  \n",
    "2. 용어(텍스트) 기준  \n",
    "    1. 불용어 사용할 단어\n",
    "    2. 유의어들 확인하기 위한 원문 데이터 확인"
   ]
  },
  {
   "cell_type": "code",
   "execution_count": 11,
   "metadata": {},
   "outputs": [
    {
     "name": "stdout",
     "output_type": "stream",
     "text": [
      "가장 긴 단어 길이 : 74 || 가장 짧은 단어 길이 : 0\n",
      "가장 긴 명사 길이 : 66 || 가장 짧은 명사 길이 : 0\n"
     ]
    }
   ],
   "source": [
    "# 리뷰의 최대 길이\n",
    "word_len = [len(l) for l in tokenized_words]\n",
    "nouns_len = [len(l) for l in sentence_nouns]\n",
    "\n",
    "print(f\"가장 긴 단어 길이 : {max(word_len)} || 가장 짧은 단어 길이 : {min(word_len)}\")\n",
    "print(f\"가장 긴 명사 길이 : {max(nouns_len)} || 가장 짧은 명사 길이 : {min(nouns_len)}\")\n"
   ]
  },
  {
   "cell_type": "markdown",
   "metadata": {},
   "source": [
    "## Word2Vec 훈련\n",
    "\n",
    "vector_size = 워드 벡터의 특징 값, 즉 임베딩 된 벡터의 차원  \n",
    "window = 컨텐스트 윈도우 크기  \n",
    "min_count = 단어 최소 빈도 수 제한(빈도가 적은 단어들을 학습하지 않도록 하는 기준)  \n",
    "workers = 학습을 위한 프로세스 수 (workers로 설정을 하거나 혹은 multiprocessing으로 병렬처리)  \n",
    "sg = 0 (CBOW) , 1 (Skip-gram)  "
   ]
  },
  {
   "cell_type": "code",
   "execution_count": 12,
   "metadata": {},
   "outputs": [],
   "source": [
    "model_cbow = Word2Vec(tokenized_words, vector_size=100, window=5, min_count=5, workers= 4, sg =0)\n",
    "model_skipgram = Word2Vec(tokenized_words, vector_size=100, window=5, min_count=5, workers=4, sg=1)"
   ]
  },
  {
   "cell_type": "code",
   "execution_count": 13,
   "metadata": {},
   "outputs": [
    {
     "name": "stdout",
     "output_type": "stream",
     "text": [
      "(14175, 100)\n",
      "(14175, 100)\n"
     ]
    }
   ],
   "source": [
    "# 완성된 임베딩 매트릭스의 크기 확인(단어수, 차원수)\n",
    "print(model_cbow.wv.vectors.shape)\n",
    "print(model_skipgram.wv.vectors.shape)"
   ]
  },
  {
   "cell_type": "markdown",
   "metadata": {},
   "source": [
    "모델 저장 방법\n",
    "\n",
    "1. 재훈련 없이 모델만 사용\n",
    "2. 재훈련을 할 수 있도록 임베딩에 대한 기본 정보를 함께 저장"
   ]
  },
  {
   "cell_type": "code",
   "execution_count": 14,
   "metadata": {},
   "outputs": [],
   "source": [
    "# 모델 저장 방법 1 : 재훈련을 하지 않는 경우\n",
    "## Ram에 로드하지 않고도 디스크나 네트워크에서 데이터를 즉시 읽어 반복할 수 있음\n",
    "## 모델 inference 에서 활용하면 좋음\n",
    "\n",
    "model_cbow.wv.save_word2vec_format('./model/kor_w2v_cbow')\n",
    "model_skipgram.wv.save_word2vec_format('./model/kor_w2v_skipgram')\n"
   ]
  },
  {
   "cell_type": "code",
   "execution_count": 15,
   "metadata": {},
   "outputs": [],
   "source": [
    "# 모델 저장 방법1의 결과를 다시 로드해서 사용\n",
    "\n",
    "from gensim.models import KeyedVectors\n",
    "\n",
    "# 모델 불러오기\n",
    "model_cbow_kv = KeyedVectors.load_word2vec_format('./model/kor_w2v_cbow')\n",
    "model_skipgram_kv = KeyedVectors.load_word2vec_format('./model/kor_w2v_skipgram')"
   ]
  },
  {
   "cell_type": "code",
   "execution_count": 16,
   "metadata": {},
   "outputs": [
    {
     "name": "stdout",
     "output_type": "stream",
     "text": [
      "[('이미숙', 0.8768097162246704), ('이상우', 0.8582505583763123), ('윤제문', 0.8518229722976685), ('김상중', 0.8502136468887329), ('이민호', 0.8494804501533508)]\n",
      "[('차인표', 0.805023729801178), ('이민호', 0.7997734546661377), ('노희경', 0.7845466136932373), ('노민우', 0.7824868559837341), ('감우성', 0.7791303992271423)]\n"
     ]
    }
   ],
   "source": [
    "# 특정 단어를 중심으로 유사한 단어 확인하기\n",
    "\n",
    "print(model_cbow_kv.most_similar(\"김수현\", topn=5))\n",
    "print(model_skipgram_kv.most_similar(\"김수현\", topn=5))"
   ]
  },
  {
   "cell_type": "code",
   "execution_count": 17,
   "metadata": {},
   "outputs": [],
   "source": [
    "# 모델 저장 방법2 : 재훈련 가능한 모델\n",
    "\n",
    "model_cbow.save('./model/kor_w2v_cbow.model')\n",
    "model_skipgram.save('./model/kor_w2v_skipgram.model')"
   ]
  },
  {
   "cell_type": "code",
   "execution_count": 20,
   "metadata": {},
   "outputs": [],
   "source": [
    "# 모델 불러오기\n",
    "## 모델에 vocab 정보 등이 함께 저장된 결과를 로드함\n",
    "\n",
    "model_cbow_model = Word2Vec.load('./model/kor_w2v_cbow.model')\n",
    "model_skipgram_model = Word2Vec.load('./model/kor_w2v_skipgram.model')"
   ]
  },
  {
   "cell_type": "code",
   "execution_count": 21,
   "metadata": {},
   "outputs": [
    {
     "name": "stdout",
     "output_type": "stream",
     "text": [
      "[('강추', 0.7136712670326233), ('꼭', 0.6647068858146667), ('후회', 0.6508971452713013), ('강력', 0.6338691711425781), ('즐기다', 0.5913116931915283), ('만족하다', 0.5588042140007019), ('권하다', 0.5584846138954163), ('신분', 0.5552674531936646), ('감상', 0.5475688576698303), ('감사', 0.5454172492027283)]\n",
      "[('강력', 0.7811578512191772), ('적극', 0.7592275738716125), ('권하다', 0.7561793923377991), ('강추', 0.7393668293952942), ('해드리다', 0.7008063793182373), ('보삼', 0.6786929368972778), ('본분', 0.649509072303772), ('어쨌든', 0.634772539138794), ('추하다', 0.6337924599647522), ('신분', 0.6337730884552002)]\n"
     ]
    }
   ],
   "source": [
    "# 특정 단어를 중심으로 유사한 단어 확인하기\n",
    "\n",
    "print(model_cbow_model.wv.most_similar('추천'))\n",
    "print(model_skipgram_model.wv.most_similar('추천'))"
   ]
  },
  {
   "cell_type": "code",
   "execution_count": 22,
   "metadata": {},
   "outputs": [
    {
     "data": {
      "text/plain": [
       "0.7811579"
      ]
     },
     "execution_count": 22,
     "metadata": {},
     "output_type": "execute_result"
    }
   ],
   "source": [
    "# 두 단어 간의 유사도 파악하기\n",
    "model_skipgram_model.wv.similarity('추천', '강력')"
   ]
  },
  {
   "cell_type": "code",
   "execution_count": 23,
   "metadata": {},
   "outputs": [
    {
     "data": {
      "text/plain": [
       "[('판타지영화', 0.7454604506492615),\n",
       " ('멜로영화', 0.741395115852356),\n",
       " ('만화영화', 0.7301835417747498),\n",
       " ('로맨스영화', 0.7223159670829773),\n",
       " ('공포영화', 0.7067182660102844),\n",
       " ('공포물', 0.703985869884491),\n",
       " ('청춘영화', 0.6999533772468567),\n",
       " ('범죄영화', 0.6996877789497375),\n",
       " ('중국영화', 0.6948389410972595),\n",
       " ('인도영화', 0.6920429468154907)]"
      ]
     },
     "execution_count": 23,
     "metadata": {},
     "output_type": "execute_result"
    }
   ],
   "source": [
    "model_skipgram_model.wv.most_similar(\"영화\")"
   ]
  },
  {
   "cell_type": "code",
   "execution_count": 24,
   "metadata": {},
   "outputs": [
    {
     "data": {
      "text/plain": [
       "[('데스노트', 0.8409923315048218),\n",
       " ('피에타', 0.8220688104629517),\n",
       " ('드라마스페셜', 0.8172650933265686),\n",
       " ('딥블루씨', 0.8157952427864075),\n",
       " ('실사판', 0.8119974136352539),\n",
       " ('아노하나', 0.8085247278213501),\n",
       " ('테드', 0.8076390624046326),\n",
       " ('아포칼립토', 0.8073863387107849),\n",
       " ('영화광', 0.8068525195121765),\n",
       " ('반올림', 0.8055214881896973)]"
      ]
     },
     "execution_count": 24,
     "metadata": {},
     "output_type": "execute_result"
    }
   ],
   "source": [
    "model_skipgram_model.wv.most_similar(\"인터스텔라\")"
   ]
  },
  {
   "cell_type": "code",
   "execution_count": 25,
   "metadata": {},
   "outputs": [
    {
     "ename": "KeyError",
     "evalue": "\"Key '오펜하이머' not present\"",
     "output_type": "error",
     "traceback": [
      "\u001b[1;31m---------------------------------------------------------------------------\u001b[0m",
      "\u001b[1;31mKeyError\u001b[0m                                  Traceback (most recent call last)",
      "\u001b[1;32m~\\AppData\\Local\\Temp\\ipykernel_19392\\4108573519.py\u001b[0m in \u001b[0;36m<module>\u001b[1;34m\u001b[0m\n\u001b[0;32m      1\u001b[0m \u001b[1;31m# 사전에 없는 경우 확인\u001b[0m\u001b[1;33m\u001b[0m\u001b[1;33m\u001b[0m\u001b[0m\n\u001b[1;32m----> 2\u001b[1;33m \u001b[0mmodel_skipgram_model\u001b[0m\u001b[1;33m.\u001b[0m\u001b[0mwv\u001b[0m\u001b[1;33m.\u001b[0m\u001b[0mmost_similar\u001b[0m\u001b[1;33m(\u001b[0m\u001b[1;34m\"오펜하이머\"\u001b[0m\u001b[1;33m)\u001b[0m\u001b[1;33m\u001b[0m\u001b[1;33m\u001b[0m\u001b[0m\n\u001b[0m",
      "\u001b[1;32mc:\\ProgramData\\Anaconda3\\lib\\site-packages\\gensim\\models\\keyedvectors.py\u001b[0m in \u001b[0;36mmost_similar\u001b[1;34m(self, positive, negative, topn, clip_start, clip_end, restrict_vocab, indexer)\u001b[0m\n\u001b[0;32m    771\u001b[0m                 \u001b[0mmean\u001b[0m\u001b[1;33m.\u001b[0m\u001b[0mappend\u001b[0m\u001b[1;33m(\u001b[0m\u001b[0mweight\u001b[0m \u001b[1;33m*\u001b[0m \u001b[0mkey\u001b[0m\u001b[1;33m)\u001b[0m\u001b[1;33m\u001b[0m\u001b[1;33m\u001b[0m\u001b[0m\n\u001b[0;32m    772\u001b[0m             \u001b[1;32melse\u001b[0m\u001b[1;33m:\u001b[0m\u001b[1;33m\u001b[0m\u001b[1;33m\u001b[0m\u001b[0m\n\u001b[1;32m--> 773\u001b[1;33m                 \u001b[0mmean\u001b[0m\u001b[1;33m.\u001b[0m\u001b[0mappend\u001b[0m\u001b[1;33m(\u001b[0m\u001b[0mweight\u001b[0m \u001b[1;33m*\u001b[0m \u001b[0mself\u001b[0m\u001b[1;33m.\u001b[0m\u001b[0mget_vector\u001b[0m\u001b[1;33m(\u001b[0m\u001b[0mkey\u001b[0m\u001b[1;33m,\u001b[0m \u001b[0mnorm\u001b[0m\u001b[1;33m=\u001b[0m\u001b[1;32mTrue\u001b[0m\u001b[1;33m)\u001b[0m\u001b[1;33m)\u001b[0m\u001b[1;33m\u001b[0m\u001b[1;33m\u001b[0m\u001b[0m\n\u001b[0m\u001b[0;32m    774\u001b[0m                 \u001b[1;32mif\u001b[0m \u001b[0mself\u001b[0m\u001b[1;33m.\u001b[0m\u001b[0mhas_index_for\u001b[0m\u001b[1;33m(\u001b[0m\u001b[0mkey\u001b[0m\u001b[1;33m)\u001b[0m\u001b[1;33m:\u001b[0m\u001b[1;33m\u001b[0m\u001b[1;33m\u001b[0m\u001b[0m\n\u001b[0;32m    775\u001b[0m                     \u001b[0mall_keys\u001b[0m\u001b[1;33m.\u001b[0m\u001b[0madd\u001b[0m\u001b[1;33m(\u001b[0m\u001b[0mself\u001b[0m\u001b[1;33m.\u001b[0m\u001b[0mget_index\u001b[0m\u001b[1;33m(\u001b[0m\u001b[0mkey\u001b[0m\u001b[1;33m)\u001b[0m\u001b[1;33m)\u001b[0m\u001b[1;33m\u001b[0m\u001b[1;33m\u001b[0m\u001b[0m\n",
      "\u001b[1;32mc:\\ProgramData\\Anaconda3\\lib\\site-packages\\gensim\\models\\keyedvectors.py\u001b[0m in \u001b[0;36mget_vector\u001b[1;34m(self, key, norm)\u001b[0m\n\u001b[0;32m    436\u001b[0m \u001b[1;33m\u001b[0m\u001b[0m\n\u001b[0;32m    437\u001b[0m         \"\"\"\n\u001b[1;32m--> 438\u001b[1;33m         \u001b[0mindex\u001b[0m \u001b[1;33m=\u001b[0m \u001b[0mself\u001b[0m\u001b[1;33m.\u001b[0m\u001b[0mget_index\u001b[0m\u001b[1;33m(\u001b[0m\u001b[0mkey\u001b[0m\u001b[1;33m)\u001b[0m\u001b[1;33m\u001b[0m\u001b[1;33m\u001b[0m\u001b[0m\n\u001b[0m\u001b[0;32m    439\u001b[0m         \u001b[1;32mif\u001b[0m \u001b[0mnorm\u001b[0m\u001b[1;33m:\u001b[0m\u001b[1;33m\u001b[0m\u001b[1;33m\u001b[0m\u001b[0m\n\u001b[0;32m    440\u001b[0m             \u001b[0mself\u001b[0m\u001b[1;33m.\u001b[0m\u001b[0mfill_norms\u001b[0m\u001b[1;33m(\u001b[0m\u001b[1;33m)\u001b[0m\u001b[1;33m\u001b[0m\u001b[1;33m\u001b[0m\u001b[0m\n",
      "\u001b[1;32mc:\\ProgramData\\Anaconda3\\lib\\site-packages\\gensim\\models\\keyedvectors.py\u001b[0m in \u001b[0;36mget_index\u001b[1;34m(self, key, default)\u001b[0m\n\u001b[0;32m    410\u001b[0m             \u001b[1;32mreturn\u001b[0m \u001b[0mdefault\u001b[0m\u001b[1;33m\u001b[0m\u001b[1;33m\u001b[0m\u001b[0m\n\u001b[0;32m    411\u001b[0m         \u001b[1;32melse\u001b[0m\u001b[1;33m:\u001b[0m\u001b[1;33m\u001b[0m\u001b[1;33m\u001b[0m\u001b[0m\n\u001b[1;32m--> 412\u001b[1;33m             \u001b[1;32mraise\u001b[0m \u001b[0mKeyError\u001b[0m\u001b[1;33m(\u001b[0m\u001b[1;34mf\"Key '{key}' not present\"\u001b[0m\u001b[1;33m)\u001b[0m\u001b[1;33m\u001b[0m\u001b[1;33m\u001b[0m\u001b[0m\n\u001b[0m\u001b[0;32m    413\u001b[0m \u001b[1;33m\u001b[0m\u001b[0m\n\u001b[0;32m    414\u001b[0m     \u001b[1;32mdef\u001b[0m \u001b[0mget_vector\u001b[0m\u001b[1;33m(\u001b[0m\u001b[0mself\u001b[0m\u001b[1;33m,\u001b[0m \u001b[0mkey\u001b[0m\u001b[1;33m,\u001b[0m \u001b[0mnorm\u001b[0m\u001b[1;33m=\u001b[0m\u001b[1;32mFalse\u001b[0m\u001b[1;33m)\u001b[0m\u001b[1;33m:\u001b[0m\u001b[1;33m\u001b[0m\u001b[1;33m\u001b[0m\u001b[0m\n",
      "\u001b[1;31mKeyError\u001b[0m: \"Key '오펜하이머' not present\""
     ]
    }
   ],
   "source": [
    "# 사전에 없는 경우 확인\n",
    "model_skipgram_model.wv.most_similar(\"오펜하이머\")"
   ]
  },
  {
   "cell_type": "code",
   "execution_count": 26,
   "metadata": {},
   "outputs": [
    {
     "data": {
      "text/plain": [
       "[('김기덕', 0.6098467707633972),\n",
       " ('장진', 0.5679637789726257),\n",
       " ('제작자', 0.5667645931243896),\n",
       " ('서극', 0.5555869340896606),\n",
       " ('박찬욱', 0.5511433482170105),\n",
       " ('자질', 0.5361679792404175),\n",
       " ('역량', 0.535893440246582),\n",
       " ('본인', 0.5354532599449158),\n",
       " ('제작사', 0.5344191789627075),\n",
       " ('오시', 0.5296825766563416)]"
      ]
     },
     "execution_count": 26,
     "metadata": {},
     "output_type": "execute_result"
    }
   ],
   "source": [
    "model_skipgram_model.wv.most_similar(positive=['여자', '감독'], negative=['남자'])"
   ]
  },
  {
   "cell_type": "code",
   "execution_count": 27,
   "metadata": {},
   "outputs": [
    {
     "data": {
      "text/plain": [
       "[('김기덕', 0.5775765776634216),\n",
       " ('장진', 0.5632359981536865),\n",
       " ('핀처', 0.5628596544265747),\n",
       " ('영화감독', 0.5616186857223511),\n",
       " ('천재', 0.5512694120407104),\n",
       " ('노희경', 0.5484815835952759),\n",
       " ('거장', 0.5394881963729858),\n",
       " ('봉준호', 0.5355942845344543),\n",
       " ('린치', 0.5291549563407898),\n",
       " ('연출자', 0.526273787021637)]"
      ]
     },
     "execution_count": 27,
     "metadata": {},
     "output_type": "execute_result"
    }
   ],
   "source": [
    "model_skipgram_model.wv.most_similar(positive=['남자', '감독'], negative=['여자'])"
   ]
  },
  {
   "cell_type": "code",
   "execution_count": 29,
   "metadata": {},
   "outputs": [
    {
     "data": {
      "text/plain": [
       "[('배우다', 0.9069709777832031),\n",
       " ('연기자', 0.8991476893424988),\n",
       " ('여배우', 0.8728074431419373),\n",
       " ('조연', 0.8280839323997498),\n",
       " ('제작비', 0.8265543580055237),\n",
       " ('배역', 0.8186014294624329),\n",
       " ('연출', 0.8180999755859375),\n",
       " ('시나리오', 0.8118687868118286),\n",
       " ('대본', 0.8057276010513306),\n",
       " ('캐스팅', 0.7860802412033081)]"
      ]
     },
     "execution_count": 29,
     "metadata": {},
     "output_type": "execute_result"
    }
   ],
   "source": [
    "# 기본은 코사인 유사도 => \"cosmul\"\n",
    "\n",
    "model_cbow_model.wv.most_similar_cosmul(positive=['여자', '배우'], negative=['남자'])"
   ]
  },
  {
   "cell_type": "code",
   "execution_count": 30,
   "metadata": {},
   "outputs": [
    {
     "data": {
      "text/plain": [
       "[('연기자', 0.9090546369552612),\n",
       " ('조연', 0.8559450507164001),\n",
       " ('배우다', 0.849780261516571),\n",
       " ('훌륭하다', 0.813683271408081),\n",
       " ('송강호', 0.8126857876777649),\n",
       " ('주연', 0.8114134073257446),\n",
       " ('배역', 0.8090488314628601),\n",
       " ('캐스팅', 0.8062933683395386),\n",
       " ('엄정화', 0.8049212694168091),\n",
       " ('아역', 0.8043770790100098)]"
      ]
     },
     "execution_count": 30,
     "metadata": {},
     "output_type": "execute_result"
    }
   ],
   "source": [
    "model_cbow_model.wv.most_similar_cosmul(positive=['남자', '배우'], negative=['여자'])"
   ]
  },
  {
   "cell_type": "code",
   "execution_count": 31,
   "metadata": {},
   "outputs": [
    {
     "name": "stdout",
     "output_type": "stream",
     "text": [
      "0.68480104\n",
      "0.7313894\n"
     ]
    }
   ],
   "source": [
    "print(model_skipgram_model.wv.n_similarity(['남자', '배우'], ['여자', '감독']))\n",
    "print(model_skipgram_model.wv.n_similarity(['남자', '배우'], ['남자', '감독']))"
   ]
  },
  {
   "cell_type": "code",
   "execution_count": 32,
   "metadata": {},
   "outputs": [
    {
     "name": "stdout",
     "output_type": "stream",
     "text": [
      "감독\n"
     ]
    }
   ],
   "source": [
    "# 한 문장에서 포함이 안되는 단어\n",
    "print(model_skipgram_model.wv.doesnt_match(['영화', '포스터', '감독', '드라마']))"
   ]
  },
  {
   "cell_type": "code",
   "execution_count": 44,
   "metadata": {},
   "outputs": [
    {
     "data": {
      "text/html": [
       "<div>\n",
       "<style scoped>\n",
       "    .dataframe tbody tr th:only-of-type {\n",
       "        vertical-align: middle;\n",
       "    }\n",
       "\n",
       "    .dataframe tbody tr th {\n",
       "        vertical-align: top;\n",
       "    }\n",
       "\n",
       "    .dataframe thead th {\n",
       "        text-align: right;\n",
       "    }\n",
       "</style>\n",
       "<table border=\"1\" class=\"dataframe\">\n",
       "  <thead>\n",
       "    <tr style=\"text-align: right;\">\n",
       "      <th></th>\n",
       "      <th>id</th>\n",
       "      <th>document</th>\n",
       "      <th>label</th>\n",
       "    </tr>\n",
       "  </thead>\n",
       "  <tbody>\n",
       "    <tr>\n",
       "      <th>49</th>\n",
       "      <td>9837767</td>\n",
       "      <td>데너리스 타르 가르엔   나도 용의주인이 되고 싶다   누이랑 근친상간이나 하고 다...</td>\n",
       "      <td>1</td>\n",
       "    </tr>\n",
       "    <tr>\n",
       "      <th>82</th>\n",
       "      <td>7280935</td>\n",
       "      <td>감독이 럼먹고 영화를 만들었나보다   관객에게 뭘 말하는지도 모르겠고  엉망진창 개...</td>\n",
       "      <td>0</td>\n",
       "    </tr>\n",
       "    <tr>\n",
       "      <th>103</th>\n",
       "      <td>10273782</td>\n",
       "      <td>감독님들 고은님 쓰면 영화안봅니다</td>\n",
       "      <td>0</td>\n",
       "    </tr>\n",
       "    <tr>\n",
       "      <th>175</th>\n",
       "      <td>8570013</td>\n",
       "      <td>이 영화 머임    내가 왜 받아 봤을까  그것이 알고싶다    이 영화는 배우들과...</td>\n",
       "      <td>0</td>\n",
       "    </tr>\n",
       "    <tr>\n",
       "      <th>244</th>\n",
       "      <td>3988502</td>\n",
       "      <td>이영화는 제발 책을보세여 감독이 미친겁니다 이따위로 만들어놓고 화가 날정도 ㅡㅡ</td>\n",
       "      <td>0</td>\n",
       "    </tr>\n",
       "    <tr>\n",
       "      <th>...</th>\n",
       "      <td>...</td>\n",
       "      <td>...</td>\n",
       "      <td>...</td>\n",
       "    </tr>\n",
       "    <tr>\n",
       "      <th>149802</th>\n",
       "      <td>5629388</td>\n",
       "      <td>공수창 감독의 역량을 믿고 쭉 봤으나   실망과 조소를 금치 못하였다</td>\n",
       "      <td>0</td>\n",
       "    </tr>\n",
       "    <tr>\n",
       "      <th>149813</th>\n",
       "      <td>3423297</td>\n",
       "      <td>감독의 욕심이 과했다</td>\n",
       "      <td>0</td>\n",
       "    </tr>\n",
       "    <tr>\n",
       "      <th>149896</th>\n",
       "      <td>3144990</td>\n",
       "      <td>제작사와감독에게할복을요청하고싶다   일본영화의 최대망작</td>\n",
       "      <td>0</td>\n",
       "    </tr>\n",
       "    <tr>\n",
       "      <th>149969</th>\n",
       "      <td>2207994</td>\n",
       "      <td>데스페라도는 시원하게 봤다만 역시 후속작은 못만드는 감독</td>\n",
       "      <td>0</td>\n",
       "    </tr>\n",
       "    <tr>\n",
       "      <th>149973</th>\n",
       "      <td>4433006</td>\n",
       "      <td>명감독의 지휘 아래 카리스마 빛나는 당대 톱배우들의 암살 대결이 흥미롭게 펼쳐진다</td>\n",
       "      <td>1</td>\n",
       "    </tr>\n",
       "  </tbody>\n",
       "</table>\n",
       "<p>3983 rows × 3 columns</p>\n",
       "</div>"
      ],
      "text/plain": [
       "              id                                           document  label\n",
       "49       9837767  데너리스 타르 가르엔   나도 용의주인이 되고 싶다   누이랑 근친상간이나 하고 다...      1\n",
       "82       7280935  감독이 럼먹고 영화를 만들었나보다   관객에게 뭘 말하는지도 모르겠고  엉망진창 개...      0\n",
       "103     10273782                               감독님들 고은님 쓰면 영화안봅니다        0\n",
       "175      8570013  이 영화 머임    내가 왜 받아 봤을까  그것이 알고싶다    이 영화는 배우들과...      0\n",
       "244      3988502       이영화는 제발 책을보세여 감독이 미친겁니다 이따위로 만들어놓고 화가 날정도 ㅡㅡ      0\n",
       "...          ...                                                ...    ...\n",
       "149802   5629388          공수창 감독의 역량을 믿고 쭉 봤으나   실망과 조소를 금치 못하였다         0\n",
       "149813   3423297                                       감독의 욕심이 과했다       0\n",
       "149896   3144990                  제작사와감독에게할복을요청하고싶다   일본영화의 최대망작         0\n",
       "149969   2207994                  데스페라도는 시원하게 봤다만 역시 후속작은 못만드는 감독        0\n",
       "149973   4433006      명감독의 지휘 아래 카리스마 빛나는 당대 톱배우들의 암살 대결이 흥미롭게 펼쳐진다      1\n",
       "\n",
       "[3983 rows x 3 columns]"
      ]
     },
     "execution_count": 44,
     "metadata": {},
     "output_type": "execute_result"
    }
   ],
   "source": [
    "tmp_df = train_df[train_df['document'].str.contains('감독')]\n",
    "tmp_df"
   ]
  },
  {
   "cell_type": "code",
   "execution_count": 46,
   "metadata": {},
   "outputs": [
    {
     "data": {
      "text/html": [
       "<div>\n",
       "<style scoped>\n",
       "    .dataframe tbody tr th:only-of-type {\n",
       "        vertical-align: middle;\n",
       "    }\n",
       "\n",
       "    .dataframe tbody tr th {\n",
       "        vertical-align: top;\n",
       "    }\n",
       "\n",
       "    .dataframe thead th {\n",
       "        text-align: right;\n",
       "    }\n",
       "</style>\n",
       "<table border=\"1\" class=\"dataframe\">\n",
       "  <thead>\n",
       "    <tr style=\"text-align: right;\">\n",
       "      <th></th>\n",
       "      <th>id</th>\n",
       "      <th>document</th>\n",
       "      <th>label</th>\n",
       "    </tr>\n",
       "  </thead>\n",
       "  <tbody>\n",
       "    <tr>\n",
       "      <th>7336</th>\n",
       "      <td>8014790</td>\n",
       "      <td>대구에선 몇  간 유명한 사건이었다나도 초등학교때부터 담배각 학교포스터에 있던 애...</td>\n",
       "      <td>0</td>\n",
       "    </tr>\n",
       "    <tr>\n",
       "      <th>15234</th>\n",
       "      <td>3339167</td>\n",
       "      <td>감독은 첫사랑의 자각을 의도한게 아니었나 보다  우리는 포스터에 낚인것이다</td>\n",
       "      <td>0</td>\n",
       "    </tr>\n",
       "    <tr>\n",
       "      <th>23138</th>\n",
       "      <td>9351571</td>\n",
       "      <td>우울증을 자아분열 비버로 연결한게 먼가 공감이 안되는   조디포스터 감독 기대작이 ...</td>\n",
       "      <td>0</td>\n",
       "    </tr>\n",
       "    <tr>\n",
       "      <th>28136</th>\n",
       "      <td>9625597</td>\n",
       "      <td>그리스신화같은 소리하고 자빠졌네 그딴건 혼자 만들어보시죠 감독님  포스터랑 제목으로...</td>\n",
       "      <td>0</td>\n",
       "    </tr>\n",
       "    <tr>\n",
       "      <th>34713</th>\n",
       "      <td>8016110</td>\n",
       "      <td>처음으로 이런거 평점 남겨보는데   이유가   내 소중한 시간을 허비한것에대한 보상...</td>\n",
       "      <td>0</td>\n",
       "    </tr>\n",
       "    <tr>\n",
       "      <th>43807</th>\n",
       "      <td>9931461</td>\n",
       "      <td>두번 세번 다시 영화를 볼때마다 느낀다  감독의 연출은 너무 아름다웠다 다만 예고편...</td>\n",
       "      <td>1</td>\n",
       "    </tr>\n",
       "    <tr>\n",
       "      <th>50393</th>\n",
       "      <td>10244200</td>\n",
       "      <td>포스터 다시보니까 옆동석 얼짱동석 정면동석 이네 배우빨로 손익분기점 적당히 맞춰 지...</td>\n",
       "      <td>0</td>\n",
       "    </tr>\n",
       "    <tr>\n",
       "      <th>51283</th>\n",
       "      <td>9127481</td>\n",
       "      <td>인셉션과 동급이라하긴 뭐하지만  이정도면 진짜 수작이다  놀란감독의 트랜센던스 포스...</td>\n",
       "      <td>1</td>\n",
       "    </tr>\n",
       "    <tr>\n",
       "      <th>52289</th>\n",
       "      <td>9823602</td>\n",
       "      <td>기대를 했던 포스터나 스틸컷 장면은 나오지도 않고 솔직히 기대했던것 이하다  아줌마...</td>\n",
       "      <td>0</td>\n",
       "    </tr>\n",
       "    <tr>\n",
       "      <th>54952</th>\n",
       "      <td>8666628</td>\n",
       "      <td>우울증이 있기전엔 완벽히 공감은 못하지만  재미있게 잘 봤구요 엔딩크래딧 올라갈때 ...</td>\n",
       "      <td>1</td>\n",
       "    </tr>\n",
       "    <tr>\n",
       "      <th>59936</th>\n",
       "      <td>8684833</td>\n",
       "      <td>포스터만 무서운 공포영화    초짜 감독이 공포  스릴러  멜로 등 너무 많은 장르...</td>\n",
       "      <td>0</td>\n",
       "    </tr>\n",
       "    <tr>\n",
       "      <th>66834</th>\n",
       "      <td>9088352</td>\n",
       "      <td>포스터만 봐도 소름끼치지 않은가  요세 한국영화 감독들은 반성해라</td>\n",
       "      <td>1</td>\n",
       "    </tr>\n",
       "    <tr>\n",
       "      <th>74220</th>\n",
       "      <td>7874298</td>\n",
       "      <td>감독도 감독이지만 포스터에 저 영혼없는표정     연기가 말해주는듯 니들은이런거하는...</td>\n",
       "      <td>0</td>\n",
       "    </tr>\n",
       "    <tr>\n",
       "      <th>77392</th>\n",
       "      <td>5886248</td>\n",
       "      <td>포스터만 보고는 솔직히 무시했었는데 영화보면서 감독의 재능을 느꼈다</td>\n",
       "      <td>1</td>\n",
       "    </tr>\n",
       "    <tr>\n",
       "      <th>93079</th>\n",
       "      <td>8746921</td>\n",
       "      <td>포스터만 보면 재미있어 보이지만 내용은 감독을 죽이고 싶은 내용</td>\n",
       "      <td>0</td>\n",
       "    </tr>\n",
       "    <tr>\n",
       "      <th>108333</th>\n",
       "      <td>7168763</td>\n",
       "      <td>포스터에 왜  어메이징스파이더맨 을 집어넣은걸까 난또 감독인줄</td>\n",
       "      <td>0</td>\n",
       "    </tr>\n",
       "    <tr>\n",
       "      <th>110154</th>\n",
       "      <td>9752268</td>\n",
       "      <td>와 이거 진짜 편집신 포스터 만든 사람은 감독한테 사과해라 어쩐지 감독이   감독출...</td>\n",
       "      <td>1</td>\n",
       "    </tr>\n",
       "    <tr>\n",
       "      <th>114929</th>\n",
       "      <td>9985762</td>\n",
       "      <td>감독  출연진  포스터만 봐도  류 졸작삘이 느껴지지 않는가  그렇다  당신이 느낀...</td>\n",
       "      <td>0</td>\n",
       "    </tr>\n",
       "    <tr>\n",
       "      <th>116709</th>\n",
       "      <td>6317988</td>\n",
       "      <td>포스터부터 영화까지   나도 영화감독을 꿈꿔볼만하다</td>\n",
       "      <td>0</td>\n",
       "    </tr>\n",
       "    <tr>\n",
       "      <th>149181</th>\n",
       "      <td>9721670</td>\n",
       "      <td>이 영화는 포스터 자체부터 반전이다백악관 폭파된 사진은 뭐임  ㅋㅋㅋ감독 때려주고 ...</td>\n",
       "      <td>0</td>\n",
       "    </tr>\n",
       "  </tbody>\n",
       "</table>\n",
       "</div>"
      ],
      "text/plain": [
       "              id                                           document  label\n",
       "7336     8014790   대구에선 몇  간 유명한 사건이었다나도 초등학교때부터 담배각 학교포스터에 있던 애...      0\n",
       "15234    3339167          감독은 첫사랑의 자각을 의도한게 아니었나 보다  우리는 포스터에 낚인것이다      0\n",
       "23138    9351571  우울증을 자아분열 비버로 연결한게 먼가 공감이 안되는   조디포스터 감독 기대작이 ...      0\n",
       "28136    9625597  그리스신화같은 소리하고 자빠졌네 그딴건 혼자 만들어보시죠 감독님  포스터랑 제목으로...      0\n",
       "34713    8016110  처음으로 이런거 평점 남겨보는데   이유가   내 소중한 시간을 허비한것에대한 보상...      0\n",
       "43807    9931461  두번 세번 다시 영화를 볼때마다 느낀다  감독의 연출은 너무 아름다웠다 다만 예고편...      1\n",
       "50393   10244200  포스터 다시보니까 옆동석 얼짱동석 정면동석 이네 배우빨로 손익분기점 적당히 맞춰 지...      0\n",
       "51283    9127481  인셉션과 동급이라하긴 뭐하지만  이정도면 진짜 수작이다  놀란감독의 트랜센던스 포스...      1\n",
       "52289    9823602  기대를 했던 포스터나 스틸컷 장면은 나오지도 않고 솔직히 기대했던것 이하다  아줌마...      0\n",
       "54952    8666628  우울증이 있기전엔 완벽히 공감은 못하지만  재미있게 잘 봤구요 엔딩크래딧 올라갈때 ...      1\n",
       "59936    8684833  포스터만 무서운 공포영화    초짜 감독이 공포  스릴러  멜로 등 너무 많은 장르...      0\n",
       "66834    9088352              포스터만 봐도 소름끼치지 않은가  요세 한국영화 감독들은 반성해라       1\n",
       "74220    7874298  감독도 감독이지만 포스터에 저 영혼없는표정     연기가 말해주는듯 니들은이런거하는...      0\n",
       "77392    5886248             포스터만 보고는 솔직히 무시했었는데 영화보면서 감독의 재능을 느꼈다       1\n",
       "93079    8746921                포스터만 보면 재미있어 보이지만 내용은 감독을 죽이고 싶은 내용      0\n",
       "108333   7168763                 포스터에 왜  어메이징스파이더맨 을 집어넣은걸까 난또 감독인줄      0\n",
       "110154   9752268  와 이거 진짜 편집신 포스터 만든 사람은 감독한테 사과해라 어쩐지 감독이   감독출...      1\n",
       "114929   9985762  감독  출연진  포스터만 봐도  류 졸작삘이 느껴지지 않는가  그렇다  당신이 느낀...      0\n",
       "116709   6317988                       포스터부터 영화까지   나도 영화감독을 꿈꿔볼만하다      0\n",
       "149181   9721670  이 영화는 포스터 자체부터 반전이다백악관 폭파된 사진은 뭐임  ㅋㅋㅋ감독 때려주고 ...      0"
      ]
     },
     "execution_count": 46,
     "metadata": {},
     "output_type": "execute_result"
    }
   ],
   "source": [
    "tmp_df[tmp_df['document'].str.contains('포스터')]"
   ]
  },
  {
   "cell_type": "code",
   "execution_count": 49,
   "metadata": {},
   "outputs": [
    {
     "data": {
      "text/plain": [
       "id                                                    9752268\n",
       "document    와 이거 진짜 편집신 포스터 만든 사람은 감독한테 사과해라 어쩐지 감독이   감독출...\n",
       "label                                                       1\n",
       "Name: 110154, dtype: object"
      ]
     },
     "execution_count": 49,
     "metadata": {},
     "output_type": "execute_result"
    }
   ],
   "source": [
    "tmp_df.loc[110154]"
   ]
  },
  {
   "cell_type": "code",
   "execution_count": 51,
   "metadata": {},
   "outputs": [
    {
     "data": {
      "text/plain": [
       "['오다',\n",
       " '이',\n",
       " '거',\n",
       " '진짜',\n",
       " '편집',\n",
       " '신',\n",
       " '포스터',\n",
       " '만들다',\n",
       " '사람',\n",
       " '은',\n",
       " '감독',\n",
       " '한테',\n",
       " '사과',\n",
       " '하다',\n",
       " '어쩐지',\n",
       " '감독',\n",
       " '이',\n",
       " '감독',\n",
       " '출신',\n",
       " '이다']"
      ]
     },
     "execution_count": 51,
     "metadata": {},
     "output_type": "execute_result"
    }
   ],
   "source": [
    "okt.morphs(tmp_df.loc[110154, 'document'], stem=True)"
   ]
  },
  {
   "cell_type": "markdown",
   "metadata": {},
   "source": [
    "기존에 학습된 모델 확인 및 사용"
   ]
  },
  {
   "cell_type": "code",
   "execution_count": 33,
   "metadata": {},
   "outputs": [
    {
     "name": "stdout",
     "output_type": "stream",
     "text": [
      "['fasttext-wiki-news-subwords-300',\n",
      " 'conceptnet-numberbatch-17-06-300',\n",
      " 'word2vec-ruscorpora-300',\n",
      " 'word2vec-google-news-300',\n",
      " 'glove-wiki-gigaword-50',\n",
      " 'glove-wiki-gigaword-100',\n",
      " 'glove-wiki-gigaword-200',\n",
      " 'glove-wiki-gigaword-300',\n",
      " 'glove-twitter-25',\n",
      " 'glove-twitter-50',\n",
      " 'glove-twitter-100',\n",
      " 'glove-twitter-200',\n",
      " '__testing_word2vec-matrix-synopsis']\n"
     ]
    }
   ],
   "source": [
    "import gensim.downloader as api\n",
    "from pprint import pprint as pp\n",
    "pp(list(gensim.downloader.info()['models'].keys()))"
   ]
  },
  {
   "cell_type": "code",
   "execution_count": 34,
   "metadata": {},
   "outputs": [
    {
     "name": "stdout",
     "output_type": "stream",
     "text": [
      "[==================================================] 100.0% 104.8/104.8MB downloaded\n"
     ]
    }
   ],
   "source": [
    "glove_vectors_25 = api.load(\"glove-twitter-25\")"
   ]
  },
  {
   "cell_type": "code",
   "execution_count": 35,
   "metadata": {},
   "outputs": [
    {
     "data": {
      "text/plain": [
       "[('facebook', 0.948005199432373),\n",
       " ('tweet', 0.9403423070907593),\n",
       " ('fb', 0.9342358708381653),\n",
       " ('instagram', 0.9104824066162109),\n",
       " ('chat', 0.8964964747428894),\n",
       " ('hashtag', 0.8885937333106995),\n",
       " ('tweets', 0.8878158330917358),\n",
       " ('tl', 0.8778461217880249),\n",
       " ('link', 0.8778210878372192),\n",
       " ('internet', 0.8753897547721863)]"
      ]
     },
     "execution_count": 35,
     "metadata": {},
     "output_type": "execute_result"
    }
   ],
   "source": [
    "glove_vectors_25.most_similar(\"twitter\")"
   ]
  },
  {
   "cell_type": "code",
   "execution_count": 36,
   "metadata": {},
   "outputs": [
    {
     "data": {
      "text/plain": [
       "[('meets', 0.8841924071311951),\n",
       " ('prince', 0.832163393497467),\n",
       " ('queen', 0.8257461190223694),\n",
       " ('’s', 0.8174097537994385),\n",
       " ('crow', 0.813499391078949),\n",
       " ('hunter', 0.8131037950515747),\n",
       " ('father', 0.8115834593772888),\n",
       " ('soldier', 0.81113600730896),\n",
       " ('mercy', 0.8082392811775208),\n",
       " ('hero', 0.8082264065742493)]"
      ]
     },
     "execution_count": 36,
     "metadata": {},
     "output_type": "execute_result"
    }
   ],
   "source": [
    "glove_vectors_25.most_similar(positive=['woman', 'king'], negative=['man'])"
   ]
  },
  {
   "cell_type": "code",
   "execution_count": 37,
   "metadata": {},
   "outputs": [
    {
     "name": "stdout",
     "output_type": "stream",
     "text": [
      "[==================================================] 100.0% 128.1/128.1MB downloaded\n"
     ]
    }
   ],
   "source": [
    "glove_vectors_100 = api.load(\"glove-wiki-gigaword-100\")"
   ]
  },
  {
   "cell_type": "code",
   "execution_count": 38,
   "metadata": {},
   "outputs": [
    {
     "data": {
      "text/plain": [
       "[('facebook', 0.9159134030342102),\n",
       " ('myspace', 0.8384657502174377),\n",
       " ('youtube', 0.7946597337722778),\n",
       " ('blog', 0.7410154938697815),\n",
       " ('tweets', 0.726836085319519),\n",
       " ('tumblr', 0.7218027114868164),\n",
       " ('blogging', 0.7101113200187683),\n",
       " ('blogs', 0.6958351731300354),\n",
       " ('instagram', 0.6919254064559937),\n",
       " ('email', 0.6856087446212769)]"
      ]
     },
     "execution_count": 38,
     "metadata": {},
     "output_type": "execute_result"
    }
   ],
   "source": [
    "glove_vectors_100.most_similar(\"twitter\")"
   ]
  },
  {
   "cell_type": "code",
   "execution_count": 39,
   "metadata": {},
   "outputs": [
    {
     "data": {
      "text/plain": [
       "[('queen', 0.7698540687561035),\n",
       " ('monarch', 0.6843381524085999),\n",
       " ('throne', 0.6755736470222473),\n",
       " ('daughter', 0.6594556570053101),\n",
       " ('princess', 0.6520534157752991),\n",
       " ('prince', 0.6517034769058228),\n",
       " ('elizabeth', 0.6464517712593079),\n",
       " ('mother', 0.631171703338623),\n",
       " ('emperor', 0.6106470823287964),\n",
       " ('wife', 0.6098655462265015)]"
      ]
     },
     "execution_count": 39,
     "metadata": {},
     "output_type": "execute_result"
    }
   ],
   "source": [
    "glove_vectors_100.most_similar(positive=['woman', 'king'], negative=['man'])"
   ]
  },
  {
   "cell_type": "code",
   "execution_count": 40,
   "metadata": {},
   "outputs": [
    {
     "data": {
      "text/plain": [
       "[('dog', 0.8798074722290039),\n",
       " ('rabbit', 0.7424427270889282),\n",
       " ('cats', 0.732300341129303),\n",
       " ('monkey', 0.7288709878921509),\n",
       " ('pet', 0.719014048576355),\n",
       " ('dogs', 0.7163872718811035),\n",
       " ('mouse', 0.6915250420570374),\n",
       " ('puppy', 0.6800068020820618),\n",
       " ('rat', 0.6641027331352234),\n",
       " ('spider', 0.6501135230064392)]"
      ]
     },
     "execution_count": 40,
     "metadata": {},
     "output_type": "execute_result"
    }
   ],
   "source": [
    "glove_vectors_100.similar_by_word(\"cat\")"
   ]
  },
  {
   "cell_type": "code",
   "execution_count": 41,
   "metadata": {},
   "outputs": [
    {
     "data": {
      "text/plain": [
       "0.7066633"
      ]
     },
     "execution_count": 41,
     "metadata": {},
     "output_type": "execute_result"
    }
   ],
   "source": [
    "glove_vectors_100.n_similarity(['sushi', 'shop'],['japanese', 'restaurant'])"
   ]
  },
  {
   "cell_type": "code",
   "execution_count": null,
   "metadata": {},
   "outputs": [],
   "source": []
  }
 ],
 "metadata": {
  "kernelspec": {
   "display_name": "base",
   "language": "python",
   "name": "python3"
  },
  "language_info": {
   "codemirror_mode": {
    "name": "ipython",
    "version": 3
   },
   "file_extension": ".py",
   "mimetype": "text/x-python",
   "name": "python",
   "nbconvert_exporter": "python",
   "pygments_lexer": "ipython3",
   "version": "3.9.13"
  },
  "orig_nbformat": 4
 },
 "nbformat": 4,
 "nbformat_minor": 2
}
