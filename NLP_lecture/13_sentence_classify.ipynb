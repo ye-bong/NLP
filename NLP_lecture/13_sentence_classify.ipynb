{
 "cells": [
  {
   "cell_type": "markdown",
   "metadata": {},
   "source": [
    "## 다운스트림 태스크\n",
    "\n",
    "### 문서 분류\n",
    "\n",
    "* 데이터 : 네이버 평점 데이터(train)  \n",
    "* 분석 목적 : 네이버 평점에 대한 긍정과 부정(이진분류)  \n",
    "* 분석 성능 기준 : 정확도  "
   ]
  },
  {
   "cell_type": "code",
   "execution_count": 1,
   "metadata": {},
   "outputs": [
    {
     "name": "stdout",
     "output_type": "stream",
     "text": [
      "Collecting xgboost\n",
      "  Downloading xgboost-2.0.0-py3-none-win_amd64.whl (99.7 MB)\n",
      "     --------------------------------------- 99.7/99.7 MB 10.1 MB/s eta 0:00:00\n",
      "Requirement already satisfied: numpy in c:\\programdata\\anaconda3\\lib\\site-packages (from xgboost) (1.24.3)\n",
      "Requirement already satisfied: scipy in c:\\programdata\\anaconda3\\lib\\site-packages (from xgboost) (1.9.1)\n",
      "Installing collected packages: xgboost\n",
      "Successfully installed xgboost-2.0.0\n"
     ]
    }
   ],
   "source": [
    "# 졍규 표현식 패키지\n",
    "import re\n",
    "\n",
    "# 토크나이저 패키지\n",
    "from nltk.tokenize import word_tokenize\n",
    "from ckonlpy.tag import Twitter\n",
    "from konlpy.tag import Kkma\n",
    "\n",
    "from tokenizers import Tokenizer\n",
    "from nltk.tokenize import RegexpTokenizer\n",
    "\n",
    "# 벡터화 패키지\n",
    "from sklearn.feature_extraction.text import TfidfVectorizer\n",
    "\n",
    "# 분류 모델 패키지\n",
    "from sklearn.linear_model import LogisticRegression\n",
    "from sklearn.neighbors import KNeighborsClassifier\n",
    "from sklearn.tree import DecisionTreeClassifier\n",
    "from sklearn.ensemble import RandomForestClassifier\n",
    "from sklearn.neural_network import MLPClassifier\n",
    "from sklearn.ensemble import VotingClassifier\n",
    "\n",
    "!pip install xgboost\n",
    "from xgboost import XGBClassifier\n",
    "\n",
    "# 분류 모델 평가\n",
    "from sklearn.metrics import classification_report\n",
    "\n",
    "# 데이터 핸들링\n",
    "import numpy as np\n",
    "import pandas as pd\n",
    "\n",
    "# 기타\n",
    "from tqdm import tqdm # 분석 속도, 시간 확인, 정도 확인"
   ]
  },
  {
   "cell_type": "code",
   "execution_count": 61,
   "metadata": {},
   "outputs": [],
   "source": [
    "train_df = pd.read_csv('./data/ratings_train.csv')"
   ]
  },
  {
   "cell_type": "code",
   "execution_count": 62,
   "metadata": {},
   "outputs": [],
   "source": [
    "train_df.dropna(inplace=True)"
   ]
  },
  {
   "cell_type": "code",
   "execution_count": 63,
   "metadata": {},
   "outputs": [
    {
     "name": "stderr",
     "output_type": "stream",
     "text": [
      "C:\\Users\\user\\AppData\\Local\\Temp\\ipykernel_11208\\4009781535.py:2: FutureWarning: The behavior of `series[i:j]` with an integer-dtype index is deprecated. In a future version, this will be treated as *label-based* indexing, consistent with e.g. `series[i]` lookups. To retain the old behavior, use `series.iloc[i:j]`. To get the future behavior, use `series.loc[i:j]`.\n",
      "  X_train, y_train = train_df['document'][:100000], train_df['label'][:100000]\n",
      "C:\\Users\\user\\AppData\\Local\\Temp\\ipykernel_11208\\4009781535.py:3: FutureWarning: The behavior of `series[i:j]` with an integer-dtype index is deprecated. In a future version, this will be treated as *label-based* indexing, consistent with e.g. `series[i]` lookups. To retain the old behavior, use `series.iloc[i:j]`. To get the future behavior, use `series.loc[i:j]`.\n",
      "  X_test, y_test = train_df['document'][100000:] , train_df['label'][100000:]\n"
     ]
    }
   ],
   "source": [
    "# 1. 데이터 분리 \n",
    "X_train, y_train = train_df['document'][:100000], train_df['label'][:100000]\n",
    "X_test, y_test = train_df['document'][100000:] , train_df['label'][100000:]"
   ]
  },
  {
   "cell_type": "code",
   "execution_count": 64,
   "metadata": {},
   "outputs": [
    {
     "data": {
      "text/plain": [
       "((100000,), (49995,))"
      ]
     },
     "execution_count": 64,
     "metadata": {},
     "output_type": "execute_result"
    }
   ],
   "source": [
    "X_train.shape , X_test.shape"
   ]
  },
  {
   "cell_type": "markdown",
   "metadata": {},
   "source": [
    "사용자 사전 추가"
   ]
  },
  {
   "cell_type": "markdown",
   "metadata": {},
   "source": [
    "### 사용자 토크나이저 만들기"
   ]
  },
  {
   "cell_type": "code",
   "execution_count": 65,
   "metadata": {},
   "outputs": [],
   "source": [
    "class UserTokenizers :\n",
    "    def __init__(self) -> None:\n",
    "        self.okt = Twitter()\n",
    "        self.kkma = Kkma()\n",
    "        self.bpe_tokenizer_pretrained = Tokenizer.from_file('./tokenizer_data/bpe_tokenizer.json')\n",
    "\n",
    "    @staticmethod\n",
    "    def whitespaceToken(data : str) -> list :\n",
    "        token_rs = data.split(' ')\n",
    "        return token_rs\n",
    "    \n",
    "    @staticmethod\n",
    "    def regexsplitToken(data : str , pat : str = '[\\,\\.!?\\n]') -> list :\n",
    "        re_rs = re.split(pat, data , maxsplit= 0)\n",
    "        token_rs = [rs_unit.strip() for rs_unit in re_rs if len(rs_unit.strip()) > 1]\n",
    "        return token_rs\n",
    "    \n",
    "    @staticmethod\n",
    "    def regexselectToken(data : str , pat : str = '[\\w]+') -> list :\n",
    "        token_rs = RegexpTokenizer(pat).tokenize(data)\n",
    "        return token_rs\n",
    "    \n",
    "    def BPETokenizer(self, data : str ) -> list :\n",
    "        token_rs = self.bpe_tokenizer_pretrained.encode(data).tokens\n",
    "        return token_rs\n",
    "    \n",
    "    #한글과 영어를 같이 사용\n",
    "    def tokenizingKorEng(self, data :str ) -> list :\n",
    "        kor_re = re.findall('[ㄱ-ㅎ|ㅏ-ㅣ|가-힣]+', data)\n",
    "        kor_str = ' '.join(kor_re)\n",
    "\n",
    "        eng_re = re.findall('[a-zA-Z]+', data)\n",
    "        eng_str = ' '.join(eng_re)\n",
    "\n",
    "        kor_rs = self.okt.morphs(kor_str)\n",
    "        eng_rs = word_tokenize(eng_str)\n",
    "\n",
    "        token_rs = kor_rs + eng_rs\n",
    "\n",
    "        return token_rs\n",
    "    \n",
    "    def konlpyNounsTokenizer(self, data:str) -> list :\n",
    "        token_rs = self.kkma.nouns(data)\n",
    "        return token_rs\n",
    "    "
   ]
  },
  {
   "cell_type": "code",
   "execution_count": 66,
   "metadata": {},
   "outputs": [
    {
     "name": "stderr",
     "output_type": "stream",
     "text": [
      "c:\\ProgramData\\Anaconda3\\lib\\site-packages\\konlpy\\tag\\_okt.py:17: UserWarning: \"Twitter\" has changed to \"Okt\" since KoNLPy v0.4.5.\n",
      "  warn('\"Twitter\" has changed to \"Okt\" since KoNLPy v0.4.5.')\n"
     ]
    }
   ],
   "source": [
    "ut_cls = UserTokenizers()"
   ]
  },
  {
   "cell_type": "markdown",
   "metadata": {},
   "source": [
    "사용자 토크나이저 적용 및 확인"
   ]
  },
  {
   "cell_type": "code",
   "execution_count": 67,
   "metadata": {},
   "outputs": [
    {
     "data": {
      "text/plain": [
       "'막 걸음마 뗀 3세부터 초등학교 1학년생인 8살용영화.ㅋㅋㅋ...별반개도 아까움.'"
      ]
     },
     "execution_count": 67,
     "metadata": {},
     "output_type": "execute_result"
    }
   ],
   "source": [
    "X_train[5]"
   ]
  },
  {
   "cell_type": "code",
   "execution_count": 68,
   "metadata": {},
   "outputs": [
    {
     "data": {
      "text/plain": [
       "['막',\n",
       " '걸음',\n",
       " '마',\n",
       " '뗀',\n",
       " '세부',\n",
       " '터',\n",
       " '초등학교',\n",
       " '학년',\n",
       " '생인',\n",
       " '살용',\n",
       " '영화',\n",
       " 'ㅋㅋㅋ',\n",
       " '별반',\n",
       " '개도',\n",
       " '아까',\n",
       " '움']"
      ]
     },
     "execution_count": 68,
     "metadata": {},
     "output_type": "execute_result"
    }
   ],
   "source": [
    "ut_cls.tokenizingKorEng(X_train[5])"
   ]
  },
  {
   "cell_type": "code",
   "execution_count": 69,
   "metadata": {},
   "outputs": [
    {
     "data": {
      "text/plain": [
       "['걸음마',\n",
       " '3',\n",
       " '3세',\n",
       " '세',\n",
       " '초등학교',\n",
       " '1',\n",
       " '1학년생인',\n",
       " '학년',\n",
       " '생인',\n",
       " '8',\n",
       " '8살용영화',\n",
       " '살',\n",
       " '용',\n",
       " '영화',\n",
       " '별',\n",
       " '별반개',\n",
       " '반개']"
      ]
     },
     "execution_count": 69,
     "metadata": {},
     "output_type": "execute_result"
    }
   ],
   "source": [
    "ut_cls.konlpyNounsTokenizer(X_train[5])"
   ]
  },
  {
   "cell_type": "code",
   "execution_count": 70,
   "metadata": {},
   "outputs": [
    {
     "data": {
      "text/plain": [
       "['막</w>',\n",
       " '걸',\n",
       " '음',\n",
       " '마</w>',\n",
       " '<unk>',\n",
       " '3',\n",
       " '세',\n",
       " '부터</w>',\n",
       " '초등학교</w>',\n",
       " '1',\n",
       " '학년',\n",
       " '생',\n",
       " '인</w>',\n",
       " '8',\n",
       " '살',\n",
       " '용',\n",
       " '영화</w>',\n",
       " '.</w>',\n",
       " 'ㅋㅋㅋ</w>',\n",
       " '.</w>',\n",
       " '.</w>',\n",
       " '.</w>',\n",
       " '별',\n",
       " '반개도</w>',\n",
       " '아까움</w>',\n",
       " '.</w>']"
      ]
     },
     "execution_count": 70,
     "metadata": {},
     "output_type": "execute_result"
    }
   ],
   "source": [
    "ut_cls.BPETokenizer(X_train[5])"
   ]
  },
  {
   "cell_type": "markdown",
   "metadata": {},
   "source": [
    "불용어 적용하기"
   ]
  },
  {
   "cell_type": "code",
   "execution_count": 71,
   "metadata": {},
   "outputs": [],
   "source": [
    "stopwords = ['의', '가', '은', '는', '이', '을', '를', '으로', '에', '와', '과']"
   ]
  },
  {
   "cell_type": "markdown",
   "metadata": {},
   "source": [
    "벡터화 하기"
   ]
  },
  {
   "cell_type": "code",
   "execution_count": 72,
   "metadata": {},
   "outputs": [],
   "source": [
    "# tfidf_vect = TfidfVectorizer(tokenizer=ut_cls.BPETokenizer , stop_words=stopwords, ngram_range=(1,2))\n",
    "tfidf_vect = TfidfVectorizer(tokenizer=ut_cls.BPETokenizer , stop_words=stopwords)"
   ]
  },
  {
   "cell_type": "code",
   "execution_count": 73,
   "metadata": {},
   "outputs": [
    {
     "name": "stderr",
     "output_type": "stream",
     "text": [
      "c:\\ProgramData\\Anaconda3\\lib\\site-packages\\sklearn\\feature_extraction\\text.py:516: UserWarning: The parameter 'token_pattern' will not be used since 'tokenizer' is not None'\n",
      "  warnings.warn(\n",
      "c:\\ProgramData\\Anaconda3\\lib\\site-packages\\sklearn\\feature_extraction\\text.py:396: UserWarning: Your stop_words may be inconsistent with your preprocessing. Tokenizing the stop words generated tokens ['가</w>', '과</w>', '는</w>', '를</w>', '에</w>', '와</w>', '으로</w>', '은</w>', '을</w>', '의</w>', '이</w>'] not in stop_words.\n",
      "  warnings.warn(\n"
     ]
    },
    {
     "data": {
      "text/plain": [
       "TfidfVectorizer(stop_words=['의', '가', '은', '는', '이', '을', '를', '으로', '에', '와',\n",
       "                            '과'],\n",
       "                tokenizer=<bound method UserTokenizers.BPETokenizer of <__main__.UserTokenizers object at 0x00000275BCED3AF0>>)"
      ]
     },
     "execution_count": 73,
     "metadata": {},
     "output_type": "execute_result"
    }
   ],
   "source": [
    "tfidf_vect.fit(X_train)"
   ]
  },
  {
   "cell_type": "code",
   "execution_count": 49,
   "metadata": {},
   "outputs": [
    {
     "data": {
      "text/plain": [
       "array(['!</w>', '\"</w>', '%</w>', ..., '힘든</w>', '힘들', '힘들었'],\n",
       "      dtype=object)"
      ]
     },
     "execution_count": 49,
     "metadata": {},
     "output_type": "execute_result"
    }
   ],
   "source": [
    "tfidf_vect.get_feature_names_out()"
   ]
  },
  {
   "cell_type": "code",
   "execution_count": 129,
   "metadata": {},
   "outputs": [],
   "source": [
    "class TransformVect :\n",
    "    def __init__(self, vec_model) -> None:\n",
    "        # 서비스로 개발을 한다면, 저장된 vec_model을 로딩하는 부분으로 변경\n",
    "        self.vec_model = vec_model\n",
    "    \n",
    "    def transVect_run(self, chunk_size : int = 500 , data : pd.DataFrame = None ) -> np.array :\n",
    "        \n",
    "        data_len = len(data) \n",
    "\n",
    "        for st_idx in tqdm(range(0, data_len, chunk_size)):\n",
    "            tmp_data = data[st_idx:st_idx+chunk_size]\n",
    "\n",
    "            if st_idx == 0:\n",
    "                vec_arr = self.vec_model.transform(tmp_data).toarray()\n",
    "                # print(f\"num1 : {vec_arr.shape} || dim : {vec_arr.ndim}\")\n",
    "\n",
    "            else :\n",
    "                tmp_data_arr = self.vec_model.transform(tmp_data).toarray()\n",
    "                # print(f\"num2 : {tmp_data_arr.shape} || dim : {tmp_data_arr.ndim}\")\n",
    "\n",
    "                vec_arr = np.concatenate([vec_arr, tmp_data_arr], 0)                \n",
    "                # print(f\"num2 more : tmp_data_arr : {tmp_data_arr.shape} || vec_arr : {vec_arr.shape}\")\n",
    "\n",
    "        return vec_arr\n",
    "\n"
   ]
  },
  {
   "cell_type": "code",
   "execution_count": 130,
   "metadata": {},
   "outputs": [],
   "source": [
    "tfv_cls = TransformVect(tfidf_vect)"
   ]
  },
  {
   "cell_type": "code",
   "execution_count": 123,
   "metadata": {},
   "outputs": [],
   "source": [
    "# X_train, y_train = X_train[:500],  y_train[:500]\n",
    "# X_test , y_test = X_test[:100] , y_test[:100]"
   ]
  },
  {
   "cell_type": "code",
   "execution_count": 124,
   "metadata": {},
   "outputs": [
    {
     "data": {
      "text/plain": [
       "(49885, 100000, 24940, 49995)"
      ]
     },
     "execution_count": 124,
     "metadata": {},
     "output_type": "execute_result"
    }
   ],
   "source": [
    "y_train.sum() , y_train.count() , y_test.sum() , y_test.count()"
   ]
  },
  {
   "cell_type": "code",
   "execution_count": 125,
   "metadata": {},
   "outputs": [
    {
     "name": "stderr",
     "output_type": "stream",
     "text": [
      "  0%|          | 0/1000 [00:00<?, ?it/s]C:\\Users\\user\\AppData\\Local\\Temp\\ipykernel_11208\\3731986954.py:11: FutureWarning: The behavior of `series[i:j]` with an integer-dtype index is deprecated. In a future version, this will be treated as *label-based* indexing, consistent with e.g. `series[i]` lookups. To retain the old behavior, use `series.iloc[i:j]`. To get the future behavior, use `series.loc[i:j]`.\n",
      "  tmp_data = data[st_idx:st_idx+chunk_size]\n",
      "  1%|          | 6/1000 [00:00<00:16, 59.51it/s]"
     ]
    },
    {
     "name": "stdout",
     "output_type": "stream",
     "text": [
      "num1 : (100, 9858) || dim : 2\n",
      "num2 : (100, 9858) || dim : 2\n",
      "num2 more : tmp_data_arr : (100, 9858) || vec_arr : (200, 9858)\n",
      "num2 : (100, 9858) || dim : 2\n",
      "num2 more : tmp_data_arr : (100, 9858) || vec_arr : (300, 9858)\n",
      "num2 : (100, 9858) || dim : 2\n",
      "num2 more : tmp_data_arr : (100, 9858) || vec_arr : (400, 9858)\n",
      "num2 : (100, 9858) || dim : 2\n",
      "num2 more : tmp_data_arr : (100, 9858) || vec_arr : (500, 9858)\n",
      "num2 : (100, 9858) || dim : 2\n",
      "num2 more : tmp_data_arr : (100, 9858) || vec_arr : (600, 9858)\n",
      "num2 : (100, 9858) || dim : 2\n",
      "num2 more : tmp_data_arr : (100, 9858) || vec_arr : (700, 9858)\n",
      "num2 : (100, 9858) || dim : 2\n",
      "num2 more : tmp_data_arr : (100, 9858) || vec_arr : (800, 9858)\n",
      "num2 : (100, 9858) || dim : 2\n",
      "num2 more : tmp_data_arr : (100, 9858) || vec_arr : (900, 9858)\n",
      "num2 : (100, 9858) || dim : 2\n",
      "num2 more : tmp_data_arr : (100, 9858) || vec_arr : (1000, 9858)\n"
     ]
    },
    {
     "name": "stderr",
     "output_type": "stream",
     "text": [
      "  1%|          | 12/1000 [00:00<00:23, 41.81it/s]"
     ]
    },
    {
     "name": "stdout",
     "output_type": "stream",
     "text": [
      "num2 : (100, 9858) || dim : 2\n",
      "num2 more : tmp_data_arr : (100, 9858) || vec_arr : (1100, 9858)\n",
      "num2 : (100, 9858) || dim : 2\n",
      "num2 more : tmp_data_arr : (100, 9858) || vec_arr : (1200, 9858)\n",
      "num2 : (100, 9858) || dim : 2\n",
      "num2 more : tmp_data_arr : (100, 9858) || vec_arr : (1300, 9858)\n",
      "num2 : (100, 9858) || dim : 2\n",
      "num2 more : tmp_data_arr : (100, 9858) || vec_arr : (1400, 9858)\n",
      "num2 : (100, 9858) || dim : 2\n",
      "num2 more : tmp_data_arr : (100, 9858) || vec_arr : (1500, 9858)\n",
      "num2 : (100, 9858) || dim : 2\n",
      "num2 more : tmp_data_arr : (100, 9858) || vec_arr : (1600, 9858)\n",
      "num2 : (100, 9858) || dim : 2\n"
     ]
    },
    {
     "name": "stderr",
     "output_type": "stream",
     "text": [
      "  2%|▏         | 21/1000 [00:00<00:33, 28.80it/s]"
     ]
    },
    {
     "name": "stdout",
     "output_type": "stream",
     "text": [
      "num2 more : tmp_data_arr : (100, 9858) || vec_arr : (1700, 9858)\n",
      "num2 : (100, 9858) || dim : 2\n",
      "num2 more : tmp_data_arr : (100, 9858) || vec_arr : (1800, 9858)\n",
      "num2 : (100, 9858) || dim : 2\n",
      "num2 more : tmp_data_arr : (100, 9858) || vec_arr : (1900, 9858)\n",
      "num2 : (100, 9858) || dim : 2\n",
      "num2 more : tmp_data_arr : (100, 9858) || vec_arr : (2000, 9858)\n",
      "num2 : (100, 9858) || dim : 2\n",
      "num2 more : tmp_data_arr : (100, 9858) || vec_arr : (2100, 9858)\n",
      "num2 : (100, 9858) || dim : 2\n",
      "num2 more : tmp_data_arr : (100, 9858) || vec_arr : (2200, 9858)\n",
      "num2 : (100, 9858) || dim : 2\n",
      "num2 more : tmp_data_arr : (100, 9858) || vec_arr : (2300, 9858)\n",
      "num2 : (100, 9858) || dim : 2\n",
      "num2 more : tmp_data_arr : (100, 9858) || vec_arr : (2400, 9858)\n",
      "num2 : (100, 9858) || dim : 2\n"
     ]
    },
    {
     "name": "stderr",
     "output_type": "stream",
     "text": [
      "  3%|▎         | 28/1000 [00:01<00:44, 21.79it/s]"
     ]
    },
    {
     "name": "stdout",
     "output_type": "stream",
     "text": [
      "num2 more : tmp_data_arr : (100, 9858) || vec_arr : (2500, 9858)\n",
      "num2 : (100, 9858) || dim : 2\n",
      "num2 more : tmp_data_arr : (100, 9858) || vec_arr : (2600, 9858)\n",
      "num2 : (100, 9858) || dim : 2\n",
      "num2 more : tmp_data_arr : (100, 9858) || vec_arr : (2700, 9858)\n",
      "num2 : (100, 9858) || dim : 2\n",
      "num2 more : tmp_data_arr : (100, 9858) || vec_arr : (2800, 9858)\n"
     ]
    },
    {
     "name": "stderr",
     "output_type": "stream",
     "text": [
      "  3%|▎         | 31/1000 [00:01<00:49, 19.40it/s]"
     ]
    },
    {
     "name": "stdout",
     "output_type": "stream",
     "text": [
      "num2 : (100, 9858) || dim : 2\n",
      "num2 more : tmp_data_arr : (100, 9858) || vec_arr : (2900, 9858)\n",
      "num2 : (100, 9858) || dim : 2\n",
      "num2 more : tmp_data_arr : (100, 9858) || vec_arr : (3000, 9858)\n",
      "num2 : (100, 9858) || dim : 2\n",
      "num2 more : tmp_data_arr : (100, 9858) || vec_arr : (3100, 9858)\n",
      "num2 : (100, 9858) || dim : 2\n",
      "num2 more : tmp_data_arr : (100, 9858) || vec_arr : (3200, 9858)\n",
      "num2 : (100, 9858) || dim : 2\n",
      "num2 more : tmp_data_arr : (100, 9858) || vec_arr : (3300, 9858)\n",
      "num2 : (100, 9858) || dim : 2\n"
     ]
    },
    {
     "name": "stderr",
     "output_type": "stream",
     "text": [
      "  4%|▎         | 36/1000 [00:01<01:00, 15.94it/s]"
     ]
    },
    {
     "name": "stdout",
     "output_type": "stream",
     "text": [
      "num2 more : tmp_data_arr : (100, 9858) || vec_arr : (3400, 9858)\n",
      "num2 : (100, 9858) || dim : 2\n",
      "num2 more : tmp_data_arr : (100, 9858) || vec_arr : (3500, 9858)\n",
      "num2 : (100, 9858) || dim : 2\n",
      "num2 more : tmp_data_arr : (100, 9858) || vec_arr : (3600, 9858)\n",
      "num2 : (100, 9858) || dim : 2\n"
     ]
    },
    {
     "name": "stderr",
     "output_type": "stream",
     "text": [
      "  4%|▍         | 38/1000 [00:01<01:04, 14.85it/s]"
     ]
    },
    {
     "name": "stdout",
     "output_type": "stream",
     "text": [
      "num2 more : tmp_data_arr : (100, 9858) || vec_arr : (3700, 9858)\n",
      "num2 : (100, 9858) || dim : 2\n",
      "num2 more : tmp_data_arr : (100, 9858) || vec_arr : (3800, 9858)\n",
      "num2 : (100, 9858) || dim : 2\n",
      "num2 more : tmp_data_arr : (100, 9858) || vec_arr : (3900, 9858)\n",
      "num2 : (100, 9858) || dim : 2\n"
     ]
    },
    {
     "name": "stderr",
     "output_type": "stream",
     "text": [
      "  4%|▍         | 42/1000 [00:02<01:14, 12.78it/s]"
     ]
    },
    {
     "name": "stdout",
     "output_type": "stream",
     "text": [
      "num2 more : tmp_data_arr : (100, 9858) || vec_arr : (4000, 9858)\n",
      "num2 : (100, 9858) || dim : 2\n",
      "num2 more : tmp_data_arr : (100, 9858) || vec_arr : (4100, 9858)\n",
      "num2 : (100, 9858) || dim : 2\n",
      "num2 more : tmp_data_arr : (100, 9858) || vec_arr : (4200, 9858)\n"
     ]
    },
    {
     "name": "stderr",
     "output_type": "stream",
     "text": [
      "  4%|▍         | 44/1000 [00:02<01:19, 12.02it/s]"
     ]
    },
    {
     "name": "stdout",
     "output_type": "stream",
     "text": [
      "num2 : (100, 9858) || dim : 2\n",
      "num2 more : tmp_data_arr : (100, 9858) || vec_arr : (4300, 9858)\n",
      "num2 : (100, 9858) || dim : 2\n",
      "num2 more : tmp_data_arr : (100, 9858) || vec_arr : (4400, 9858)\n"
     ]
    },
    {
     "name": "stderr",
     "output_type": "stream",
     "text": [
      "  5%|▍         | 46/1000 [00:02<01:23, 11.40it/s]"
     ]
    },
    {
     "name": "stdout",
     "output_type": "stream",
     "text": [
      "num2 : (100, 9858) || dim : 2\n",
      "num2 more : tmp_data_arr : (100, 9858) || vec_arr : (4500, 9858)\n",
      "num2 : (100, 9858) || dim : 2\n",
      "num2 more : tmp_data_arr : (100, 9858) || vec_arr : (4600, 9858)\n"
     ]
    },
    {
     "name": "stderr",
     "output_type": "stream",
     "text": [
      "  5%|▍         | 48/1000 [00:02<01:27, 10.85it/s]"
     ]
    },
    {
     "name": "stdout",
     "output_type": "stream",
     "text": [
      "num2 : (100, 9858) || dim : 2\n",
      "num2 more : tmp_data_arr : (100, 9858) || vec_arr : (4700, 9858)\n",
      "num2 : (100, 9858) || dim : 2\n",
      "num2 more : tmp_data_arr : (100, 9858) || vec_arr : (4800, 9858)\n"
     ]
    },
    {
     "name": "stderr",
     "output_type": "stream",
     "text": [
      "  5%|▌         | 50/1000 [00:02<01:31, 10.38it/s]"
     ]
    },
    {
     "name": "stdout",
     "output_type": "stream",
     "text": [
      "num2 : (100, 9858) || dim : 2\n",
      "num2 more : tmp_data_arr : (100, 9858) || vec_arr : (4900, 9858)\n",
      "num2 : (100, 9858) || dim : 2\n",
      "num2 more : tmp_data_arr : (100, 9858) || vec_arr : (5000, 9858)\n",
      "num2 : (100, 9858) || dim : 2\n",
      "num2 more : tmp_data_arr : (100, 9858) || vec_arr : (5100, 9858)\n",
      "num2 : (100, 9858) || dim : 2\n"
     ]
    },
    {
     "name": "stderr",
     "output_type": "stream",
     "text": [
      "  5%|▌         | 53/1000 [00:03<01:42,  9.26it/s]"
     ]
    },
    {
     "name": "stdout",
     "output_type": "stream",
     "text": [
      "num2 more : tmp_data_arr : (100, 9858) || vec_arr : (5200, 9858)\n",
      "num2 : (100, 9858) || dim : 2\n",
      "num2 more : tmp_data_arr : (100, 9858) || vec_arr : (5300, 9858)\n",
      "num2 : (100, 9858) || dim : 2\n"
     ]
    },
    {
     "name": "stderr",
     "output_type": "stream",
     "text": [
      "  6%|▌         | 55/1000 [00:03<01:45,  8.98it/s]"
     ]
    },
    {
     "name": "stdout",
     "output_type": "stream",
     "text": [
      "num2 more : tmp_data_arr : (100, 9858) || vec_arr : (5400, 9858)\n",
      "num2 : (100, 9858) || dim : 2\n",
      "num2 more : tmp_data_arr : (100, 9858) || vec_arr : (5500, 9858)\n",
      "num2 : (100, 9858) || dim : 2\n"
     ]
    },
    {
     "name": "stderr",
     "output_type": "stream",
     "text": [
      "  6%|▌         | 57/1000 [00:03<01:49,  8.60it/s]"
     ]
    },
    {
     "name": "stdout",
     "output_type": "stream",
     "text": [
      "num2 more : tmp_data_arr : (100, 9858) || vec_arr : (5600, 9858)\n",
      "num2 : (100, 9858) || dim : 2\n",
      "num2 more : tmp_data_arr : (100, 9858) || vec_arr : (5700, 9858)\n",
      "num2 : (100, 9858) || dim : 2\n"
     ]
    },
    {
     "name": "stderr",
     "output_type": "stream",
     "text": [
      "  6%|▌         | 59/1000 [00:04<01:55,  8.14it/s]"
     ]
    },
    {
     "name": "stdout",
     "output_type": "stream",
     "text": [
      "num2 more : tmp_data_arr : (100, 9858) || vec_arr : (5800, 9858)\n",
      "num2 : (100, 9858) || dim : 2\n",
      "num2 more : tmp_data_arr : (100, 9858) || vec_arr : (5900, 9858)\n",
      "num2 : (100, 9858) || dim : 2\n"
     ]
    },
    {
     "name": "stderr",
     "output_type": "stream",
     "text": [
      "  6%|▌         | 61/1000 [00:04<01:59,  7.88it/s]"
     ]
    },
    {
     "name": "stdout",
     "output_type": "stream",
     "text": [
      "num2 more : tmp_data_arr : (100, 9858) || vec_arr : (6000, 9858)\n",
      "num2 : (100, 9858) || dim : 2\n",
      "num2 more : tmp_data_arr : (100, 9858) || vec_arr : (6100, 9858)\n",
      "num2 : (100, 9858) || dim : 2\n"
     ]
    },
    {
     "name": "stderr",
     "output_type": "stream",
     "text": [
      "  6%|▋         | 63/1000 [00:04<02:03,  7.61it/s]"
     ]
    },
    {
     "name": "stdout",
     "output_type": "stream",
     "text": [
      "num2 more : tmp_data_arr : (100, 9858) || vec_arr : (6200, 9858)\n",
      "num2 : (100, 9858) || dim : 2\n",
      "num2 more : tmp_data_arr : (100, 9858) || vec_arr : (6300, 9858)\n",
      "num2 : (100, 9858) || dim : 2\n"
     ]
    },
    {
     "name": "stderr",
     "output_type": "stream",
     "text": [
      "  6%|▋         | 65/1000 [00:04<02:05,  7.45it/s]"
     ]
    },
    {
     "name": "stdout",
     "output_type": "stream",
     "text": [
      "num2 more : tmp_data_arr : (100, 9858) || vec_arr : (6400, 9858)\n",
      "num2 : (100, 9858) || dim : 2\n",
      "num2 more : tmp_data_arr : (100, 9858) || vec_arr : (6500, 9858)\n",
      "num2 : (100, 9858) || dim : 2\n"
     ]
    },
    {
     "name": "stderr",
     "output_type": "stream",
     "text": [
      "  7%|▋         | 67/1000 [00:05<02:09,  7.21it/s]"
     ]
    },
    {
     "name": "stdout",
     "output_type": "stream",
     "text": [
      "num2 more : tmp_data_arr : (100, 9858) || vec_arr : (6600, 9858)\n",
      "num2 : (100, 9858) || dim : 2\n",
      "num2 more : tmp_data_arr : (100, 9858) || vec_arr : (6700, 9858)\n",
      "num2 : (100, 9858) || dim : 2\n"
     ]
    },
    {
     "name": "stderr",
     "output_type": "stream",
     "text": [
      "  7%|▋         | 69/1000 [00:05<02:12,  7.03it/s]"
     ]
    },
    {
     "name": "stdout",
     "output_type": "stream",
     "text": [
      "num2 more : tmp_data_arr : (100, 9858) || vec_arr : (6800, 9858)\n",
      "num2 : (100, 9858) || dim : 2\n",
      "num2 more : tmp_data_arr : (100, 9858) || vec_arr : (6900, 9858)\n",
      "num2 : (100, 9858) || dim : 2\n"
     ]
    },
    {
     "name": "stderr",
     "output_type": "stream",
     "text": [
      "  7%|▋         | 71/1000 [00:05<02:19,  6.68it/s]"
     ]
    },
    {
     "name": "stdout",
     "output_type": "stream",
     "text": [
      "num2 more : tmp_data_arr : (100, 9858) || vec_arr : (7000, 9858)\n",
      "num2 : (100, 9858) || dim : 2\n",
      "num2 more : tmp_data_arr : (100, 9858) || vec_arr : (7100, 9858)\n",
      "num2 : (100, 9858) || dim : 2\n"
     ]
    },
    {
     "name": "stderr",
     "output_type": "stream",
     "text": [
      "  7%|▋         | 73/1000 [00:06<02:19,  6.64it/s]"
     ]
    },
    {
     "name": "stdout",
     "output_type": "stream",
     "text": [
      "num2 more : tmp_data_arr : (100, 9858) || vec_arr : (7200, 9858)\n",
      "num2 : (100, 9858) || dim : 2\n",
      "num2 more : tmp_data_arr : (100, 9858) || vec_arr : (7300, 9858)\n",
      "num2 : (100, 9858) || dim : 2\n"
     ]
    },
    {
     "name": "stderr",
     "output_type": "stream",
     "text": [
      "  8%|▊         | 75/1000 [00:06<02:20,  6.56it/s]"
     ]
    },
    {
     "name": "stdout",
     "output_type": "stream",
     "text": [
      "num2 more : tmp_data_arr : (100, 9858) || vec_arr : (7400, 9858)\n",
      "num2 : (100, 9858) || dim : 2\n",
      "num2 more : tmp_data_arr : (100, 9858) || vec_arr : (7500, 9858)\n",
      "num2 : (100, 9858) || dim : 2\n"
     ]
    },
    {
     "name": "stderr",
     "output_type": "stream",
     "text": [
      "  8%|▊         | 77/1000 [00:06<02:27,  6.25it/s]"
     ]
    },
    {
     "name": "stdout",
     "output_type": "stream",
     "text": [
      "num2 more : tmp_data_arr : (100, 9858) || vec_arr : (7600, 9858)\n",
      "num2 : (100, 9858) || dim : 2\n",
      "num2 more : tmp_data_arr : (100, 9858) || vec_arr : (7700, 9858)\n",
      "num2 : (100, 9858) || dim : 2\n"
     ]
    },
    {
     "name": "stderr",
     "output_type": "stream",
     "text": [
      "  8%|▊         | 79/1000 [00:07<02:28,  6.19it/s]"
     ]
    },
    {
     "name": "stdout",
     "output_type": "stream",
     "text": [
      "num2 more : tmp_data_arr : (100, 9858) || vec_arr : (7800, 9858)\n",
      "num2 : (100, 9858) || dim : 2\n",
      "num2 more : tmp_data_arr : (100, 9858) || vec_arr : (7900, 9858)\n",
      "num2 : (100, 9858) || dim : 2\n"
     ]
    },
    {
     "name": "stderr",
     "output_type": "stream",
     "text": [
      "  8%|▊         | 81/1000 [00:07<02:29,  6.13it/s]"
     ]
    },
    {
     "name": "stdout",
     "output_type": "stream",
     "text": [
      "num2 more : tmp_data_arr : (100, 9858) || vec_arr : (8000, 9858)\n",
      "num2 : (100, 9858) || dim : 2\n",
      "num2 more : tmp_data_arr : (100, 9858) || vec_arr : (8100, 9858)\n",
      "num2 : (100, 9858) || dim : 2\n"
     ]
    },
    {
     "name": "stderr",
     "output_type": "stream",
     "text": [
      "  8%|▊         | 83/1000 [00:07<02:33,  5.97it/s]"
     ]
    },
    {
     "name": "stdout",
     "output_type": "stream",
     "text": [
      "num2 more : tmp_data_arr : (100, 9858) || vec_arr : (8200, 9858)\n",
      "num2 : (100, 9858) || dim : 2\n",
      "num2 more : tmp_data_arr : (100, 9858) || vec_arr : (8300, 9858)\n",
      "num2 : (100, 9858) || dim : 2\n"
     ]
    },
    {
     "name": "stderr",
     "output_type": "stream",
     "text": [
      "  8%|▊         | 85/1000 [00:08<02:37,  5.80it/s]"
     ]
    },
    {
     "name": "stdout",
     "output_type": "stream",
     "text": [
      "num2 more : tmp_data_arr : (100, 9858) || vec_arr : (8400, 9858)\n",
      "num2 : (100, 9858) || dim : 2\n",
      "num2 more : tmp_data_arr : (100, 9858) || vec_arr : (8500, 9858)\n"
     ]
    },
    {
     "name": "stderr",
     "output_type": "stream",
     "text": [
      "  9%|▊         | 86/1000 [00:08<02:39,  5.75it/s]"
     ]
    },
    {
     "name": "stdout",
     "output_type": "stream",
     "text": [
      "num2 : (100, 9858) || dim : 2\n",
      "num2 more : tmp_data_arr : (100, 9858) || vec_arr : (8600, 9858)\n",
      "num2 : (100, 9858) || dim : 2\n"
     ]
    },
    {
     "name": "stderr",
     "output_type": "stream",
     "text": [
      "  9%|▉         | 88/1000 [00:08<02:41,  5.64it/s]"
     ]
    },
    {
     "name": "stdout",
     "output_type": "stream",
     "text": [
      "num2 more : tmp_data_arr : (100, 9858) || vec_arr : (8700, 9858)\n",
      "num2 : (100, 9858) || dim : 2\n",
      "num2 more : tmp_data_arr : (100, 9858) || vec_arr : (8800, 9858)\n"
     ]
    },
    {
     "name": "stderr",
     "output_type": "stream",
     "text": [
      "  9%|▉         | 89/1000 [00:08<02:42,  5.61it/s]"
     ]
    },
    {
     "name": "stdout",
     "output_type": "stream",
     "text": [
      "num2 : (100, 9858) || dim : 2\n",
      "num2 more : tmp_data_arr : (100, 9858) || vec_arr : (8900, 9858)\n"
     ]
    },
    {
     "name": "stderr",
     "output_type": "stream",
     "text": [
      "  9%|▉         | 90/1000 [00:08<02:42,  5.59it/s]"
     ]
    },
    {
     "name": "stdout",
     "output_type": "stream",
     "text": [
      "num2 : (100, 9858) || dim : 2\n",
      "num2 more : tmp_data_arr : (100, 9858) || vec_arr : (9000, 9858)\n",
      "num2 : (100, 9858) || dim : 2\n"
     ]
    },
    {
     "name": "stderr",
     "output_type": "stream",
     "text": [
      "  9%|▉         | 92/1000 [00:09<02:45,  5.48it/s]"
     ]
    },
    {
     "name": "stdout",
     "output_type": "stream",
     "text": [
      "num2 more : tmp_data_arr : (100, 9858) || vec_arr : (9100, 9858)\n",
      "num2 : (100, 9858) || dim : 2\n",
      "num2 more : tmp_data_arr : (100, 9858) || vec_arr : (9200, 9858)\n"
     ]
    },
    {
     "name": "stderr",
     "output_type": "stream",
     "text": [
      "  9%|▉         | 93/1000 [00:09<02:47,  5.40it/s]"
     ]
    },
    {
     "name": "stdout",
     "output_type": "stream",
     "text": [
      "num2 : (100, 9858) || dim : 2\n",
      "num2 more : tmp_data_arr : (100, 9858) || vec_arr : (9300, 9858)\n"
     ]
    },
    {
     "name": "stderr",
     "output_type": "stream",
     "text": [
      "  9%|▉         | 94/1000 [00:09<02:48,  5.39it/s]"
     ]
    },
    {
     "name": "stdout",
     "output_type": "stream",
     "text": [
      "num2 : (100, 9858) || dim : 2\n",
      "num2 more : tmp_data_arr : (100, 9858) || vec_arr : (9400, 9858)\n"
     ]
    },
    {
     "name": "stderr",
     "output_type": "stream",
     "text": [
      " 10%|▉         | 95/1000 [00:09<02:52,  5.25it/s]"
     ]
    },
    {
     "name": "stdout",
     "output_type": "stream",
     "text": [
      "num2 : (100, 9858) || dim : 2\n",
      "num2 more : tmp_data_arr : (100, 9858) || vec_arr : (9500, 9858)\n"
     ]
    },
    {
     "name": "stderr",
     "output_type": "stream",
     "text": [
      " 10%|▉         | 96/1000 [00:10<02:52,  5.23it/s]"
     ]
    },
    {
     "name": "stdout",
     "output_type": "stream",
     "text": [
      "num2 : (100, 9858) || dim : 2\n",
      "num2 more : tmp_data_arr : (100, 9858) || vec_arr : (9600, 9858)\n"
     ]
    },
    {
     "name": "stderr",
     "output_type": "stream",
     "text": [
      " 10%|▉         | 97/1000 [00:10<02:54,  5.18it/s]"
     ]
    },
    {
     "name": "stdout",
     "output_type": "stream",
     "text": [
      "num2 : (100, 9858) || dim : 2\n",
      "num2 more : tmp_data_arr : (100, 9858) || vec_arr : (9700, 9858)\n"
     ]
    },
    {
     "name": "stderr",
     "output_type": "stream",
     "text": [
      " 10%|▉         | 98/1000 [00:10<02:55,  5.14it/s]"
     ]
    },
    {
     "name": "stdout",
     "output_type": "stream",
     "text": [
      "num2 : (100, 9858) || dim : 2\n",
      "num2 more : tmp_data_arr : (100, 9858) || vec_arr : (9800, 9858)\n"
     ]
    },
    {
     "name": "stderr",
     "output_type": "stream",
     "text": [
      " 10%|▉         | 99/1000 [00:10<02:57,  5.07it/s]"
     ]
    },
    {
     "name": "stdout",
     "output_type": "stream",
     "text": [
      "num2 : (100, 9858) || dim : 2\n",
      "num2 more : tmp_data_arr : (100, 9858) || vec_arr : (9900, 9858)\n"
     ]
    },
    {
     "name": "stderr",
     "output_type": "stream",
     "text": [
      " 10%|█         | 100/1000 [00:10<02:58,  5.04it/s]"
     ]
    },
    {
     "name": "stdout",
     "output_type": "stream",
     "text": [
      "num2 : (100, 9858) || dim : 2\n",
      "num2 more : tmp_data_arr : (100, 9858) || vec_arr : (10000, 9858)\n"
     ]
    },
    {
     "name": "stderr",
     "output_type": "stream",
     "text": [
      " 10%|█         | 101/1000 [00:11<02:59,  5.01it/s]"
     ]
    },
    {
     "name": "stdout",
     "output_type": "stream",
     "text": [
      "num2 : (100, 9858) || dim : 2\n",
      "num2 more : tmp_data_arr : (100, 9858) || vec_arr : (10100, 9858)\n"
     ]
    },
    {
     "name": "stderr",
     "output_type": "stream",
     "text": [
      " 10%|█         | 102/1000 [00:11<02:59,  5.01it/s]"
     ]
    },
    {
     "name": "stdout",
     "output_type": "stream",
     "text": [
      "num2 : (100, 9858) || dim : 2\n",
      "num2 more : tmp_data_arr : (100, 9858) || vec_arr : (10200, 9858)\n",
      "num2 : (100, 9858) || dim : 2\n"
     ]
    },
    {
     "name": "stderr",
     "output_type": "stream",
     "text": [
      " 10%|█         | 103/1000 [00:11<03:08,  4.76it/s]"
     ]
    },
    {
     "name": "stdout",
     "output_type": "stream",
     "text": [
      "num2 more : tmp_data_arr : (100, 9858) || vec_arr : (10300, 9858)\n",
      "num2 : (100, 9858) || dim : 2\n",
      "num2 more : tmp_data_arr : (100, 9858) || vec_arr : (10400, 9858)\n"
     ]
    },
    {
     "name": "stderr",
     "output_type": "stream",
     "text": [
      " 10%|█         | 104/1000 [00:11<03:08,  4.75it/s]"
     ]
    },
    {
     "name": "stdout",
     "output_type": "stream",
     "text": [
      "num2 : (100, 9858) || dim : 2\n"
     ]
    },
    {
     "name": "stderr",
     "output_type": "stream",
     "text": [
      " 10%|█         | 105/1000 [00:11<03:10,  4.71it/s]"
     ]
    },
    {
     "name": "stdout",
     "output_type": "stream",
     "text": [
      "num2 more : tmp_data_arr : (100, 9858) || vec_arr : (10500, 9858)\n",
      "num2 : (100, 9858) || dim : 2\n",
      "num2 more : tmp_data_arr : (100, 9858) || vec_arr : (10600, 9858)\n"
     ]
    },
    {
     "name": "stderr",
     "output_type": "stream",
     "text": [
      " 11%|█         | 106/1000 [00:12<03:10,  4.70it/s]"
     ]
    },
    {
     "name": "stdout",
     "output_type": "stream",
     "text": [
      "num2 : (100, 9858) || dim : 2\n"
     ]
    },
    {
     "name": "stderr",
     "output_type": "stream",
     "text": [
      " 11%|█         | 107/1000 [00:12<03:13,  4.61it/s]"
     ]
    },
    {
     "name": "stdout",
     "output_type": "stream",
     "text": [
      "num2 more : tmp_data_arr : (100, 9858) || vec_arr : (10700, 9858)\n",
      "num2 : (100, 9858) || dim : 2\n"
     ]
    },
    {
     "name": "stderr",
     "output_type": "stream",
     "text": [
      " 11%|█         | 108/1000 [00:12<03:14,  4.59it/s]"
     ]
    },
    {
     "name": "stdout",
     "output_type": "stream",
     "text": [
      "num2 more : tmp_data_arr : (100, 9858) || vec_arr : (10800, 9858)\n",
      "num2 : (100, 9858) || dim : 2\n"
     ]
    },
    {
     "name": "stderr",
     "output_type": "stream",
     "text": [
      " 11%|█         | 109/1000 [00:12<03:18,  4.48it/s]"
     ]
    },
    {
     "name": "stdout",
     "output_type": "stream",
     "text": [
      "num2 more : tmp_data_arr : (100, 9858) || vec_arr : (10900, 9858)\n",
      "num2 : (100, 9858) || dim : 2\n",
      "num2 more : tmp_data_arr : (100, 9858) || vec_arr : (11000, 9858)\n"
     ]
    },
    {
     "name": "stderr",
     "output_type": "stream",
     "text": [
      " 11%|█         | 111/1000 [00:13<03:19,  4.46it/s]"
     ]
    },
    {
     "name": "stdout",
     "output_type": "stream",
     "text": [
      "num2 : (100, 9858) || dim : 2\n",
      "num2 more : tmp_data_arr : (100, 9858) || vec_arr : (11100, 9858)\n",
      "num2 : (100, 9858) || dim : 2\n"
     ]
    },
    {
     "name": "stderr",
     "output_type": "stream",
     "text": [
      " 11%|█         | 112/1000 [00:13<03:16,  4.51it/s]"
     ]
    },
    {
     "name": "stdout",
     "output_type": "stream",
     "text": [
      "num2 more : tmp_data_arr : (100, 9858) || vec_arr : (11200, 9858)\n",
      "num2 : (100, 9858) || dim : 2\n",
      "num2 more : tmp_data_arr : (100, 9858) || vec_arr : (11300, 9858)\n"
     ]
    },
    {
     "name": "stderr",
     "output_type": "stream",
     "text": [
      " 11%|█▏        | 114/1000 [00:13<03:10,  4.65it/s]"
     ]
    },
    {
     "name": "stdout",
     "output_type": "stream",
     "text": [
      "num2 : (100, 9858) || dim : 2\n",
      "num2 more : tmp_data_arr : (100, 9858) || vec_arr : (11400, 9858)\n"
     ]
    },
    {
     "name": "stderr",
     "output_type": "stream",
     "text": [
      " 12%|█▏        | 115/1000 [00:14<03:10,  4.64it/s]"
     ]
    },
    {
     "name": "stdout",
     "output_type": "stream",
     "text": [
      "num2 : (100, 9858) || dim : 2\n",
      "num2 more : tmp_data_arr : (100, 9858) || vec_arr : (11500, 9858)\n"
     ]
    },
    {
     "name": "stderr",
     "output_type": "stream",
     "text": [
      " 12%|█▏        | 116/1000 [00:14<03:07,  4.72it/s]"
     ]
    },
    {
     "name": "stdout",
     "output_type": "stream",
     "text": [
      "num2 : (100, 9858) || dim : 2\n",
      "num2 more : tmp_data_arr : (100, 9858) || vec_arr : (11600, 9858)\n"
     ]
    },
    {
     "name": "stderr",
     "output_type": "stream",
     "text": [
      " 12%|█▏        | 117/1000 [00:14<03:07,  4.71it/s]"
     ]
    },
    {
     "name": "stdout",
     "output_type": "stream",
     "text": [
      "num2 : (100, 9858) || dim : 2\n",
      "num2 more : tmp_data_arr : (100, 9858) || vec_arr : (11700, 9858)\n"
     ]
    },
    {
     "name": "stderr",
     "output_type": "stream",
     "text": [
      " 12%|█▏        | 118/1000 [00:14<03:09,  4.65it/s]"
     ]
    },
    {
     "name": "stdout",
     "output_type": "stream",
     "text": [
      "num2 : (100, 9858) || dim : 2\n",
      "num2 more : tmp_data_arr : (100, 9858) || vec_arr : (11800, 9858)\n"
     ]
    },
    {
     "name": "stderr",
     "output_type": "stream",
     "text": [
      " 12%|█▏        | 119/1000 [00:15<03:11,  4.61it/s]"
     ]
    },
    {
     "name": "stdout",
     "output_type": "stream",
     "text": [
      "num2 : (100, 9858) || dim : 2\n",
      "num2 more : tmp_data_arr : (100, 9858) || vec_arr : (11900, 9858)\n",
      "num2 : (100, 9858) || dim : 2\n"
     ]
    },
    {
     "name": "stderr",
     "output_type": "stream",
     "text": [
      " 12%|█▏        | 120/1000 [00:15<03:14,  4.53it/s]"
     ]
    },
    {
     "name": "stdout",
     "output_type": "stream",
     "text": [
      "num2 more : tmp_data_arr : (100, 9858) || vec_arr : (12000, 9858)\n",
      "num2 : (100, 9858) || dim : 2\n",
      "num2 more : tmp_data_arr : (100, 9858) || vec_arr : (12100, 9858)\n"
     ]
    },
    {
     "name": "stderr",
     "output_type": "stream",
     "text": [
      " 12%|█▏        | 121/1000 [00:15<03:14,  4.53it/s]"
     ]
    },
    {
     "name": "stdout",
     "output_type": "stream",
     "text": [
      "num2 : (100, 9858) || dim : 2\n"
     ]
    },
    {
     "name": "stderr",
     "output_type": "stream",
     "text": [
      " 12%|█▏        | 122/1000 [00:15<03:22,  4.34it/s]"
     ]
    },
    {
     "name": "stdout",
     "output_type": "stream",
     "text": [
      "num2 more : tmp_data_arr : (100, 9858) || vec_arr : (12200, 9858)\n",
      "num2 : (100, 9858) || dim : 2\n"
     ]
    },
    {
     "name": "stderr",
     "output_type": "stream",
     "text": [
      " 12%|█▏        | 123/1000 [00:15<03:26,  4.24it/s]"
     ]
    },
    {
     "name": "stdout",
     "output_type": "stream",
     "text": [
      "num2 more : tmp_data_arr : (100, 9858) || vec_arr : (12300, 9858)\n",
      "num2 : (100, 9858) || dim : 2\n"
     ]
    },
    {
     "name": "stderr",
     "output_type": "stream",
     "text": [
      " 12%|█▏        | 124/1000 [00:16<03:40,  3.97it/s]"
     ]
    },
    {
     "name": "stdout",
     "output_type": "stream",
     "text": [
      "num2 more : tmp_data_arr : (100, 9858) || vec_arr : (12400, 9858)\n",
      "num2 : (100, 9858) || dim : 2\n"
     ]
    },
    {
     "name": "stderr",
     "output_type": "stream",
     "text": [
      " 12%|█▎        | 125/1000 [00:16<03:46,  3.87it/s]"
     ]
    },
    {
     "name": "stdout",
     "output_type": "stream",
     "text": [
      "num2 more : tmp_data_arr : (100, 9858) || vec_arr : (12500, 9858)\n",
      "num2 : (100, 9858) || dim : 2\n"
     ]
    },
    {
     "name": "stderr",
     "output_type": "stream",
     "text": [
      " 13%|█▎        | 126/1000 [00:16<03:47,  3.84it/s]"
     ]
    },
    {
     "name": "stdout",
     "output_type": "stream",
     "text": [
      "num2 more : tmp_data_arr : (100, 9858) || vec_arr : (12600, 9858)\n",
      "num2 : (100, 9858) || dim : 2\n"
     ]
    },
    {
     "name": "stderr",
     "output_type": "stream",
     "text": [
      " 13%|█▎        | 127/1000 [00:17<03:47,  3.83it/s]"
     ]
    },
    {
     "name": "stdout",
     "output_type": "stream",
     "text": [
      "num2 more : tmp_data_arr : (100, 9858) || vec_arr : (12700, 9858)\n",
      "num2 : (100, 9858) || dim : 2\n"
     ]
    },
    {
     "name": "stderr",
     "output_type": "stream",
     "text": [
      " 13%|█▎        | 128/1000 [00:17<03:50,  3.78it/s]"
     ]
    },
    {
     "name": "stdout",
     "output_type": "stream",
     "text": [
      "num2 more : tmp_data_arr : (100, 9858) || vec_arr : (12800, 9858)\n",
      "num2 : (100, 9858) || dim : 2\n"
     ]
    },
    {
     "name": "stderr",
     "output_type": "stream",
     "text": [
      " 13%|█▎        | 129/1000 [00:17<03:49,  3.79it/s]"
     ]
    },
    {
     "name": "stdout",
     "output_type": "stream",
     "text": [
      "num2 more : tmp_data_arr : (100, 9858) || vec_arr : (12900, 9858)\n",
      "num2 : (100, 9858) || dim : 2\n"
     ]
    },
    {
     "name": "stderr",
     "output_type": "stream",
     "text": [
      " 13%|█▎        | 130/1000 [00:17<03:54,  3.71it/s]"
     ]
    },
    {
     "name": "stdout",
     "output_type": "stream",
     "text": [
      "num2 more : tmp_data_arr : (100, 9858) || vec_arr : (13000, 9858)\n",
      "num2 : (100, 9858) || dim : 2\n"
     ]
    },
    {
     "name": "stderr",
     "output_type": "stream",
     "text": [
      " 13%|█▎        | 131/1000 [00:18<04:01,  3.60it/s]"
     ]
    },
    {
     "name": "stdout",
     "output_type": "stream",
     "text": [
      "num2 more : tmp_data_arr : (100, 9858) || vec_arr : (13100, 9858)\n",
      "num2 : (100, 9858) || dim : 2\n"
     ]
    },
    {
     "name": "stderr",
     "output_type": "stream",
     "text": [
      " 13%|█▎        | 132/1000 [00:18<04:13,  3.42it/s]"
     ]
    },
    {
     "name": "stdout",
     "output_type": "stream",
     "text": [
      "num2 more : tmp_data_arr : (100, 9858) || vec_arr : (13200, 9858)\n",
      "num2 : (100, 9858) || dim : 2\n"
     ]
    },
    {
     "name": "stderr",
     "output_type": "stream",
     "text": [
      " 13%|█▎        | 133/1000 [00:18<04:18,  3.36it/s]"
     ]
    },
    {
     "name": "stdout",
     "output_type": "stream",
     "text": [
      "num2 more : tmp_data_arr : (100, 9858) || vec_arr : (13300, 9858)\n",
      "num2 : (100, 9858) || dim : 2\n"
     ]
    },
    {
     "name": "stderr",
     "output_type": "stream",
     "text": [
      " 13%|█▎        | 134/1000 [00:19<04:19,  3.33it/s]"
     ]
    },
    {
     "name": "stdout",
     "output_type": "stream",
     "text": [
      "num2 more : tmp_data_arr : (100, 9858) || vec_arr : (13400, 9858)\n",
      "num2 : (100, 9858) || dim : 2\n"
     ]
    },
    {
     "name": "stderr",
     "output_type": "stream",
     "text": [
      " 14%|█▎        | 135/1000 [00:19<04:21,  3.31it/s]"
     ]
    },
    {
     "name": "stdout",
     "output_type": "stream",
     "text": [
      "num2 more : tmp_data_arr : (100, 9858) || vec_arr : (13500, 9858)\n",
      "num2 : (100, 9858) || dim : 2\n"
     ]
    },
    {
     "name": "stderr",
     "output_type": "stream",
     "text": [
      " 14%|█▎        | 136/1000 [00:19<04:21,  3.30it/s]"
     ]
    },
    {
     "name": "stdout",
     "output_type": "stream",
     "text": [
      "num2 more : tmp_data_arr : (100, 9858) || vec_arr : (13600, 9858)\n",
      "num2 : (100, 9858) || dim : 2\n"
     ]
    },
    {
     "name": "stderr",
     "output_type": "stream",
     "text": [
      " 14%|█▎        | 137/1000 [00:20<04:23,  3.27it/s]"
     ]
    },
    {
     "name": "stdout",
     "output_type": "stream",
     "text": [
      "num2 more : tmp_data_arr : (100, 9858) || vec_arr : (13700, 9858)\n",
      "num2 : (100, 9858) || dim : 2\n"
     ]
    },
    {
     "name": "stderr",
     "output_type": "stream",
     "text": [
      " 14%|█▍        | 138/1000 [00:20<04:25,  3.24it/s]"
     ]
    },
    {
     "name": "stdout",
     "output_type": "stream",
     "text": [
      "num2 more : tmp_data_arr : (100, 9858) || vec_arr : (13800, 9858)\n",
      "num2 : (100, 9858) || dim : 2\n"
     ]
    },
    {
     "name": "stderr",
     "output_type": "stream",
     "text": [
      " 14%|█▍        | 139/1000 [00:20<04:30,  3.18it/s]"
     ]
    },
    {
     "name": "stdout",
     "output_type": "stream",
     "text": [
      "num2 more : tmp_data_arr : (100, 9858) || vec_arr : (13900, 9858)\n",
      "num2 : (100, 9858) || dim : 2\n"
     ]
    },
    {
     "name": "stderr",
     "output_type": "stream",
     "text": [
      " 14%|█▍        | 140/1000 [00:21<04:30,  3.17it/s]"
     ]
    },
    {
     "name": "stdout",
     "output_type": "stream",
     "text": [
      "num2 more : tmp_data_arr : (100, 9858) || vec_arr : (14000, 9858)\n",
      "num2 : (100, 9858) || dim : 2\n"
     ]
    },
    {
     "name": "stderr",
     "output_type": "stream",
     "text": [
      " 14%|█▍        | 141/1000 [00:21<04:31,  3.16it/s]"
     ]
    },
    {
     "name": "stdout",
     "output_type": "stream",
     "text": [
      "num2 more : tmp_data_arr : (100, 9858) || vec_arr : (14100, 9858)\n",
      "num2 : (100, 9858) || dim : 2\n"
     ]
    },
    {
     "name": "stderr",
     "output_type": "stream",
     "text": [
      " 14%|█▍        | 142/1000 [00:21<04:32,  3.15it/s]"
     ]
    },
    {
     "name": "stdout",
     "output_type": "stream",
     "text": [
      "num2 more : tmp_data_arr : (100, 9858) || vec_arr : (14200, 9858)\n",
      "num2 : (100, 9858) || dim : 2\n"
     ]
    },
    {
     "name": "stderr",
     "output_type": "stream",
     "text": [
      " 14%|█▍        | 143/1000 [00:21<04:32,  3.14it/s]"
     ]
    },
    {
     "name": "stdout",
     "output_type": "stream",
     "text": [
      "num2 more : tmp_data_arr : (100, 9858) || vec_arr : (14300, 9858)\n",
      "num2 : (100, 9858) || dim : 2\n"
     ]
    },
    {
     "name": "stderr",
     "output_type": "stream",
     "text": [
      " 14%|█▍        | 144/1000 [00:22<04:34,  3.12it/s]"
     ]
    },
    {
     "name": "stdout",
     "output_type": "stream",
     "text": [
      "num2 more : tmp_data_arr : (100, 9858) || vec_arr : (14400, 9858)\n",
      "num2 : (100, 9858) || dim : 2\n"
     ]
    },
    {
     "name": "stderr",
     "output_type": "stream",
     "text": [
      " 14%|█▍        | 145/1000 [00:22<04:40,  3.05it/s]"
     ]
    },
    {
     "name": "stdout",
     "output_type": "stream",
     "text": [
      "num2 more : tmp_data_arr : (100, 9858) || vec_arr : (14500, 9858)\n",
      "num2 : (100, 9858) || dim : 2\n"
     ]
    },
    {
     "name": "stderr",
     "output_type": "stream",
     "text": [
      " 15%|█▍        | 146/1000 [00:22<04:39,  3.06it/s]"
     ]
    },
    {
     "name": "stdout",
     "output_type": "stream",
     "text": [
      "num2 more : tmp_data_arr : (100, 9858) || vec_arr : (14600, 9858)\n",
      "num2 : (100, 9858) || dim : 2\n"
     ]
    },
    {
     "name": "stderr",
     "output_type": "stream",
     "text": [
      " 15%|█▍        | 147/1000 [00:23<04:38,  3.06it/s]"
     ]
    },
    {
     "name": "stdout",
     "output_type": "stream",
     "text": [
      "num2 more : tmp_data_arr : (100, 9858) || vec_arr : (14700, 9858)\n",
      "num2 : (100, 9858) || dim : 2\n"
     ]
    },
    {
     "name": "stderr",
     "output_type": "stream",
     "text": [
      " 15%|█▍        | 148/1000 [00:23<04:35,  3.09it/s]"
     ]
    },
    {
     "name": "stdout",
     "output_type": "stream",
     "text": [
      "num2 more : tmp_data_arr : (100, 9858) || vec_arr : (14800, 9858)\n",
      "num2 : (100, 9858) || dim : 2\n"
     ]
    },
    {
     "name": "stderr",
     "output_type": "stream",
     "text": [
      " 15%|█▍        | 149/1000 [00:23<04:32,  3.12it/s]"
     ]
    },
    {
     "name": "stdout",
     "output_type": "stream",
     "text": [
      "num2 more : tmp_data_arr : (100, 9858) || vec_arr : (14900, 9858)\n",
      "num2 : (100, 9858) || dim : 2\n"
     ]
    },
    {
     "name": "stderr",
     "output_type": "stream",
     "text": [
      " 15%|█▌        | 150/1000 [00:24<04:31,  3.13it/s]"
     ]
    },
    {
     "name": "stdout",
     "output_type": "stream",
     "text": [
      "num2 more : tmp_data_arr : (100, 9858) || vec_arr : (15000, 9858)\n",
      "num2 : (100, 9858) || dim : 2\n"
     ]
    },
    {
     "name": "stderr",
     "output_type": "stream",
     "text": [
      " 15%|█▌        | 151/1000 [00:24<04:32,  3.12it/s]"
     ]
    },
    {
     "name": "stdout",
     "output_type": "stream",
     "text": [
      "num2 more : tmp_data_arr : (100, 9858) || vec_arr : (15100, 9858)\n",
      "num2 : (100, 9858) || dim : 2\n"
     ]
    },
    {
     "name": "stderr",
     "output_type": "stream",
     "text": [
      " 15%|█▌        | 152/1000 [00:24<04:31,  3.12it/s]"
     ]
    },
    {
     "name": "stdout",
     "output_type": "stream",
     "text": [
      "num2 more : tmp_data_arr : (100, 9858) || vec_arr : (15200, 9858)\n",
      "num2 : (100, 9858) || dim : 2\n"
     ]
    },
    {
     "name": "stderr",
     "output_type": "stream",
     "text": [
      " 15%|█▌        | 153/1000 [00:25<04:31,  3.12it/s]"
     ]
    },
    {
     "name": "stdout",
     "output_type": "stream",
     "text": [
      "num2 more : tmp_data_arr : (100, 9858) || vec_arr : (15300, 9858)\n",
      "num2 : (100, 9858) || dim : 2\n"
     ]
    },
    {
     "name": "stderr",
     "output_type": "stream",
     "text": [
      " 15%|█▌        | 154/1000 [00:25<04:33,  3.10it/s]"
     ]
    },
    {
     "name": "stdout",
     "output_type": "stream",
     "text": [
      "num2 more : tmp_data_arr : (100, 9858) || vec_arr : (15400, 9858)\n",
      "num2 : (100, 9858) || dim : 2\n"
     ]
    },
    {
     "name": "stderr",
     "output_type": "stream",
     "text": [
      " 16%|█▌        | 155/1000 [00:25<04:34,  3.08it/s]"
     ]
    },
    {
     "name": "stdout",
     "output_type": "stream",
     "text": [
      "num2 more : tmp_data_arr : (100, 9858) || vec_arr : (15500, 9858)\n",
      "num2 : (100, 9858) || dim : 2\n"
     ]
    },
    {
     "name": "stderr",
     "output_type": "stream",
     "text": [
      " 16%|█▌        | 156/1000 [00:26<04:37,  3.04it/s]"
     ]
    },
    {
     "name": "stdout",
     "output_type": "stream",
     "text": [
      "num2 more : tmp_data_arr : (100, 9858) || vec_arr : (15600, 9858)\n",
      "num2 : (100, 9858) || dim : 2\n"
     ]
    },
    {
     "name": "stderr",
     "output_type": "stream",
     "text": [
      " 16%|█▌        | 157/1000 [00:26<04:36,  3.04it/s]"
     ]
    },
    {
     "name": "stdout",
     "output_type": "stream",
     "text": [
      "num2 more : tmp_data_arr : (100, 9858) || vec_arr : (15700, 9858)\n",
      "num2 : (100, 9858) || dim : 2\n"
     ]
    },
    {
     "name": "stderr",
     "output_type": "stream",
     "text": [
      " 16%|█▌        | 158/1000 [00:26<04:38,  3.03it/s]"
     ]
    },
    {
     "name": "stdout",
     "output_type": "stream",
     "text": [
      "num2 more : tmp_data_arr : (100, 9858) || vec_arr : (15800, 9858)\n",
      "num2 : (100, 9858) || dim : 2\n"
     ]
    },
    {
     "name": "stderr",
     "output_type": "stream",
     "text": [
      " 16%|█▌        | 159/1000 [00:27<04:39,  3.01it/s]"
     ]
    },
    {
     "name": "stdout",
     "output_type": "stream",
     "text": [
      "num2 more : tmp_data_arr : (100, 9858) || vec_arr : (15900, 9858)\n",
      "num2 : (100, 9858) || dim : 2\n"
     ]
    },
    {
     "name": "stderr",
     "output_type": "stream",
     "text": [
      " 16%|█▌        | 160/1000 [00:27<04:40,  2.99it/s]"
     ]
    },
    {
     "name": "stdout",
     "output_type": "stream",
     "text": [
      "num2 more : tmp_data_arr : (100, 9858) || vec_arr : (16000, 9858)\n",
      "num2 : (100, 9858) || dim : 2\n"
     ]
    },
    {
     "name": "stderr",
     "output_type": "stream",
     "text": [
      " 16%|█▌        | 161/1000 [00:27<04:43,  2.96it/s]"
     ]
    },
    {
     "name": "stdout",
     "output_type": "stream",
     "text": [
      "num2 more : tmp_data_arr : (100, 9858) || vec_arr : (16100, 9858)\n",
      "num2 : (100, 9858) || dim : 2\n"
     ]
    },
    {
     "name": "stderr",
     "output_type": "stream",
     "text": [
      " 16%|█▌        | 162/1000 [00:28<04:39,  3.00it/s]"
     ]
    },
    {
     "name": "stdout",
     "output_type": "stream",
     "text": [
      "num2 more : tmp_data_arr : (100, 9858) || vec_arr : (16200, 9858)\n",
      "num2 : (100, 9858) || dim : 2\n"
     ]
    },
    {
     "name": "stderr",
     "output_type": "stream",
     "text": [
      " 16%|█▋        | 163/1000 [00:28<04:42,  2.97it/s]"
     ]
    },
    {
     "name": "stdout",
     "output_type": "stream",
     "text": [
      "num2 more : tmp_data_arr : (100, 9858) || vec_arr : (16300, 9858)\n",
      "num2 : (100, 9858) || dim : 2\n"
     ]
    },
    {
     "name": "stderr",
     "output_type": "stream",
     "text": [
      " 16%|█▋        | 164/1000 [00:28<04:40,  2.98it/s]"
     ]
    },
    {
     "name": "stdout",
     "output_type": "stream",
     "text": [
      "num2 more : tmp_data_arr : (100, 9858) || vec_arr : (16400, 9858)\n",
      "num2 : (100, 9858) || dim : 2\n"
     ]
    },
    {
     "name": "stderr",
     "output_type": "stream",
     "text": [
      " 16%|█▋        | 165/1000 [00:29<04:46,  2.92it/s]"
     ]
    },
    {
     "name": "stdout",
     "output_type": "stream",
     "text": [
      "num2 more : tmp_data_arr : (100, 9858) || vec_arr : (16500, 9858)\n",
      "num2 : (100, 9858) || dim : 2\n"
     ]
    },
    {
     "name": "stderr",
     "output_type": "stream",
     "text": [
      " 17%|█▋        | 166/1000 [00:29<04:49,  2.89it/s]"
     ]
    },
    {
     "name": "stdout",
     "output_type": "stream",
     "text": [
      "num2 more : tmp_data_arr : (100, 9858) || vec_arr : (16600, 9858)\n",
      "num2 : (100, 9858) || dim : 2\n"
     ]
    },
    {
     "name": "stderr",
     "output_type": "stream",
     "text": [
      " 17%|█▋        | 167/1000 [00:29<04:47,  2.90it/s]"
     ]
    },
    {
     "name": "stdout",
     "output_type": "stream",
     "text": [
      "num2 more : tmp_data_arr : (100, 9858) || vec_arr : (16700, 9858)\n",
      "num2 : (100, 9858) || dim : 2\n"
     ]
    },
    {
     "name": "stderr",
     "output_type": "stream",
     "text": [
      " 17%|█▋        | 168/1000 [00:30<04:43,  2.94it/s]"
     ]
    },
    {
     "name": "stdout",
     "output_type": "stream",
     "text": [
      "num2 more : tmp_data_arr : (100, 9858) || vec_arr : (16800, 9858)\n",
      "num2 : (100, 9858) || dim : 2\n"
     ]
    },
    {
     "name": "stderr",
     "output_type": "stream",
     "text": [
      " 17%|█▋        | 169/1000 [00:30<04:40,  2.97it/s]"
     ]
    },
    {
     "name": "stdout",
     "output_type": "stream",
     "text": [
      "num2 more : tmp_data_arr : (100, 9858) || vec_arr : (16900, 9858)\n",
      "num2 : (100, 9858) || dim : 2\n"
     ]
    },
    {
     "name": "stderr",
     "output_type": "stream",
     "text": [
      " 17%|█▋        | 170/1000 [00:30<04:42,  2.93it/s]"
     ]
    },
    {
     "name": "stdout",
     "output_type": "stream",
     "text": [
      "num2 more : tmp_data_arr : (100, 9858) || vec_arr : (17000, 9858)\n",
      "num2 : (100, 9858) || dim : 2\n"
     ]
    },
    {
     "name": "stderr",
     "output_type": "stream",
     "text": [
      " 17%|█▋        | 171/1000 [00:31<04:45,  2.91it/s]"
     ]
    },
    {
     "name": "stdout",
     "output_type": "stream",
     "text": [
      "num2 more : tmp_data_arr : (100, 9858) || vec_arr : (17100, 9858)\n",
      "num2 : (100, 9858) || dim : 2\n"
     ]
    },
    {
     "name": "stderr",
     "output_type": "stream",
     "text": [
      " 17%|█▋        | 172/1000 [00:31<04:46,  2.89it/s]"
     ]
    },
    {
     "name": "stdout",
     "output_type": "stream",
     "text": [
      "num2 more : tmp_data_arr : (100, 9858) || vec_arr : (17200, 9858)\n",
      "num2 : (100, 9858) || dim : 2\n"
     ]
    },
    {
     "name": "stderr",
     "output_type": "stream",
     "text": [
      " 17%|█▋        | 173/1000 [00:31<04:43,  2.91it/s]"
     ]
    },
    {
     "name": "stdout",
     "output_type": "stream",
     "text": [
      "num2 more : tmp_data_arr : (100, 9858) || vec_arr : (17300, 9858)\n",
      "num2 : (100, 9858) || dim : 2\n"
     ]
    },
    {
     "name": "stderr",
     "output_type": "stream",
     "text": [
      " 17%|█▋        | 174/1000 [00:32<04:44,  2.90it/s]"
     ]
    },
    {
     "name": "stdout",
     "output_type": "stream",
     "text": [
      "num2 more : tmp_data_arr : (100, 9858) || vec_arr : (17400, 9858)\n",
      "num2 : (100, 9858) || dim : 2\n"
     ]
    },
    {
     "name": "stderr",
     "output_type": "stream",
     "text": [
      " 18%|█▊        | 175/1000 [00:32<04:49,  2.85it/s]"
     ]
    },
    {
     "name": "stdout",
     "output_type": "stream",
     "text": [
      "num2 more : tmp_data_arr : (100, 9858) || vec_arr : (17500, 9858)\n",
      "num2 : (100, 9858) || dim : 2\n"
     ]
    },
    {
     "name": "stderr",
     "output_type": "stream",
     "text": [
      " 18%|█▊        | 176/1000 [00:33<04:49,  2.84it/s]"
     ]
    },
    {
     "name": "stdout",
     "output_type": "stream",
     "text": [
      "num2 more : tmp_data_arr : (100, 9858) || vec_arr : (17600, 9858)\n",
      "num2 : (100, 9858) || dim : 2\n"
     ]
    },
    {
     "name": "stderr",
     "output_type": "stream",
     "text": [
      " 18%|█▊        | 177/1000 [00:33<04:51,  2.82it/s]"
     ]
    },
    {
     "name": "stdout",
     "output_type": "stream",
     "text": [
      "num2 more : tmp_data_arr : (100, 9858) || vec_arr : (17700, 9858)\n",
      "num2 : (100, 9858) || dim : 2\n"
     ]
    },
    {
     "name": "stderr",
     "output_type": "stream",
     "text": [
      " 18%|█▊        | 178/1000 [00:33<04:52,  2.81it/s]"
     ]
    },
    {
     "name": "stdout",
     "output_type": "stream",
     "text": [
      "num2 more : tmp_data_arr : (100, 9858) || vec_arr : (17800, 9858)\n",
      "num2 : (100, 9858) || dim : 2\n"
     ]
    },
    {
     "name": "stderr",
     "output_type": "stream",
     "text": [
      " 18%|█▊        | 179/1000 [00:34<04:48,  2.84it/s]"
     ]
    },
    {
     "name": "stdout",
     "output_type": "stream",
     "text": [
      "num2 more : tmp_data_arr : (100, 9858) || vec_arr : (17900, 9858)\n",
      "num2 : (100, 9858) || dim : 2\n"
     ]
    },
    {
     "name": "stderr",
     "output_type": "stream",
     "text": [
      " 18%|█▊        | 180/1000 [00:34<04:52,  2.80it/s]"
     ]
    },
    {
     "name": "stdout",
     "output_type": "stream",
     "text": [
      "num2 more : tmp_data_arr : (100, 9858) || vec_arr : (18000, 9858)\n",
      "num2 : (100, 9858) || dim : 2\n"
     ]
    },
    {
     "name": "stderr",
     "output_type": "stream",
     "text": [
      " 18%|█▊        | 181/1000 [00:34<04:55,  2.77it/s]"
     ]
    },
    {
     "name": "stdout",
     "output_type": "stream",
     "text": [
      "num2 more : tmp_data_arr : (100, 9858) || vec_arr : (18100, 9858)\n",
      "num2 : (100, 9858) || dim : 2\n"
     ]
    },
    {
     "name": "stderr",
     "output_type": "stream",
     "text": [
      " 18%|█▊        | 182/1000 [00:35<04:55,  2.76it/s]"
     ]
    },
    {
     "name": "stdout",
     "output_type": "stream",
     "text": [
      "num2 more : tmp_data_arr : (100, 9858) || vec_arr : (18200, 9858)\n",
      "num2 : (100, 9858) || dim : 2\n"
     ]
    },
    {
     "name": "stderr",
     "output_type": "stream",
     "text": [
      " 18%|█▊        | 183/1000 [00:35<04:52,  2.79it/s]"
     ]
    },
    {
     "name": "stdout",
     "output_type": "stream",
     "text": [
      "num2 more : tmp_data_arr : (100, 9858) || vec_arr : (18300, 9858)\n",
      "num2 : (100, 9858) || dim : 2\n"
     ]
    },
    {
     "name": "stderr",
     "output_type": "stream",
     "text": [
      " 18%|█▊        | 184/1000 [00:35<04:57,  2.74it/s]"
     ]
    },
    {
     "name": "stdout",
     "output_type": "stream",
     "text": [
      "num2 more : tmp_data_arr : (100, 9858) || vec_arr : (18400, 9858)\n",
      "num2 : (100, 9858) || dim : 2\n"
     ]
    },
    {
     "name": "stderr",
     "output_type": "stream",
     "text": [
      " 18%|█▊        | 185/1000 [00:36<04:58,  2.73it/s]"
     ]
    },
    {
     "name": "stdout",
     "output_type": "stream",
     "text": [
      "num2 more : tmp_data_arr : (100, 9858) || vec_arr : (18500, 9858)\n",
      "num2 : (100, 9858) || dim : 2\n"
     ]
    },
    {
     "name": "stderr",
     "output_type": "stream",
     "text": [
      " 19%|█▊        | 186/1000 [00:36<05:00,  2.71it/s]"
     ]
    },
    {
     "name": "stdout",
     "output_type": "stream",
     "text": [
      "num2 more : tmp_data_arr : (100, 9858) || vec_arr : (18600, 9858)\n",
      "num2 : (100, 9858) || dim : 2\n"
     ]
    },
    {
     "name": "stderr",
     "output_type": "stream",
     "text": [
      " 19%|█▊        | 187/1000 [00:37<05:05,  2.67it/s]"
     ]
    },
    {
     "name": "stdout",
     "output_type": "stream",
     "text": [
      "num2 more : tmp_data_arr : (100, 9858) || vec_arr : (18700, 9858)\n",
      "num2 : (100, 9858) || dim : 2\n"
     ]
    },
    {
     "name": "stderr",
     "output_type": "stream",
     "text": [
      " 19%|█▉        | 188/1000 [00:37<05:06,  2.65it/s]"
     ]
    },
    {
     "name": "stdout",
     "output_type": "stream",
     "text": [
      "num2 more : tmp_data_arr : (100, 9858) || vec_arr : (18800, 9858)\n",
      "num2 : (100, 9858) || dim : 2\n"
     ]
    },
    {
     "name": "stderr",
     "output_type": "stream",
     "text": [
      " 19%|█▉        | 189/1000 [00:37<05:10,  2.62it/s]"
     ]
    },
    {
     "name": "stdout",
     "output_type": "stream",
     "text": [
      "num2 more : tmp_data_arr : (100, 9858) || vec_arr : (18900, 9858)\n",
      "num2 : (100, 9858) || dim : 2\n"
     ]
    },
    {
     "name": "stderr",
     "output_type": "stream",
     "text": [
      " 19%|█▉        | 190/1000 [00:38<05:10,  2.61it/s]"
     ]
    },
    {
     "name": "stdout",
     "output_type": "stream",
     "text": [
      "num2 more : tmp_data_arr : (100, 9858) || vec_arr : (19000, 9858)\n",
      "num2 : (100, 9858) || dim : 2\n"
     ]
    },
    {
     "name": "stderr",
     "output_type": "stream",
     "text": [
      " 19%|█▉        | 191/1000 [00:38<05:17,  2.55it/s]"
     ]
    },
    {
     "name": "stdout",
     "output_type": "stream",
     "text": [
      "num2 more : tmp_data_arr : (100, 9858) || vec_arr : (19100, 9858)\n",
      "num2 : (100, 9858) || dim : 2\n"
     ]
    },
    {
     "name": "stderr",
     "output_type": "stream",
     "text": [
      " 19%|█▉        | 192/1000 [00:39<05:11,  2.59it/s]"
     ]
    },
    {
     "name": "stdout",
     "output_type": "stream",
     "text": [
      "num2 more : tmp_data_arr : (100, 9858) || vec_arr : (19200, 9858)\n",
      "num2 : (100, 9858) || dim : 2\n"
     ]
    },
    {
     "name": "stderr",
     "output_type": "stream",
     "text": [
      " 19%|█▉        | 193/1000 [00:39<05:13,  2.57it/s]"
     ]
    },
    {
     "name": "stdout",
     "output_type": "stream",
     "text": [
      "num2 more : tmp_data_arr : (100, 9858) || vec_arr : (19300, 9858)\n",
      "num2 : (100, 9858) || dim : 2\n"
     ]
    },
    {
     "name": "stderr",
     "output_type": "stream",
     "text": [
      " 19%|█▉        | 194/1000 [00:39<05:11,  2.59it/s]"
     ]
    },
    {
     "name": "stdout",
     "output_type": "stream",
     "text": [
      "num2 more : tmp_data_arr : (100, 9858) || vec_arr : (19400, 9858)\n",
      "num2 : (100, 9858) || dim : 2\n"
     ]
    },
    {
     "name": "stderr",
     "output_type": "stream",
     "text": [
      " 20%|█▉        | 195/1000 [00:40<05:12,  2.57it/s]"
     ]
    },
    {
     "name": "stdout",
     "output_type": "stream",
     "text": [
      "num2 more : tmp_data_arr : (100, 9858) || vec_arr : (19500, 9858)\n",
      "num2 : (100, 9858) || dim : 2\n"
     ]
    },
    {
     "name": "stderr",
     "output_type": "stream",
     "text": [
      " 20%|█▉        | 196/1000 [00:40<05:16,  2.54it/s]"
     ]
    },
    {
     "name": "stdout",
     "output_type": "stream",
     "text": [
      "num2 more : tmp_data_arr : (100, 9858) || vec_arr : (19600, 9858)\n",
      "num2 : (100, 9858) || dim : 2\n"
     ]
    },
    {
     "name": "stderr",
     "output_type": "stream",
     "text": [
      " 20%|█▉        | 197/1000 [00:41<05:18,  2.52it/s]"
     ]
    },
    {
     "name": "stdout",
     "output_type": "stream",
     "text": [
      "num2 more : tmp_data_arr : (100, 9858) || vec_arr : (19700, 9858)\n",
      "num2 : (100, 9858) || dim : 2\n"
     ]
    },
    {
     "name": "stderr",
     "output_type": "stream",
     "text": [
      " 20%|█▉        | 198/1000 [00:41<05:20,  2.50it/s]"
     ]
    },
    {
     "name": "stdout",
     "output_type": "stream",
     "text": [
      "num2 more : tmp_data_arr : (100, 9858) || vec_arr : (19800, 9858)\n",
      "num2 : (100, 9858) || dim : 2\n"
     ]
    },
    {
     "name": "stderr",
     "output_type": "stream",
     "text": [
      " 20%|█▉        | 199/1000 [00:41<05:24,  2.47it/s]"
     ]
    },
    {
     "name": "stdout",
     "output_type": "stream",
     "text": [
      "num2 more : tmp_data_arr : (100, 9858) || vec_arr : (19900, 9858)\n",
      "num2 : (100, 9858) || dim : 2\n"
     ]
    },
    {
     "name": "stderr",
     "output_type": "stream",
     "text": [
      " 20%|██        | 200/1000 [00:42<05:24,  2.47it/s]"
     ]
    },
    {
     "name": "stdout",
     "output_type": "stream",
     "text": [
      "num2 more : tmp_data_arr : (100, 9858) || vec_arr : (20000, 9858)\n",
      "num2 : (100, 9858) || dim : 2\n"
     ]
    },
    {
     "name": "stderr",
     "output_type": "stream",
     "text": [
      " 20%|██        | 201/1000 [00:42<05:26,  2.45it/s]"
     ]
    },
    {
     "name": "stdout",
     "output_type": "stream",
     "text": [
      "num2 more : tmp_data_arr : (100, 9858) || vec_arr : (20100, 9858)\n",
      "num2 : (100, 9858) || dim : 2\n"
     ]
    },
    {
     "name": "stderr",
     "output_type": "stream",
     "text": [
      " 20%|██        | 202/1000 [00:43<05:21,  2.48it/s]"
     ]
    },
    {
     "name": "stdout",
     "output_type": "stream",
     "text": [
      "num2 more : tmp_data_arr : (100, 9858) || vec_arr : (20200, 9858)\n",
      "num2 : (100, 9858) || dim : 2\n"
     ]
    },
    {
     "name": "stderr",
     "output_type": "stream",
     "text": [
      " 20%|██        | 203/1000 [00:43<05:25,  2.45it/s]"
     ]
    },
    {
     "name": "stdout",
     "output_type": "stream",
     "text": [
      "num2 more : tmp_data_arr : (100, 9858) || vec_arr : (20300, 9858)\n",
      "num2 : (100, 9858) || dim : 2\n"
     ]
    },
    {
     "name": "stderr",
     "output_type": "stream",
     "text": [
      " 20%|██        | 204/1000 [00:43<05:24,  2.45it/s]"
     ]
    },
    {
     "name": "stdout",
     "output_type": "stream",
     "text": [
      "num2 more : tmp_data_arr : (100, 9858) || vec_arr : (20400, 9858)\n",
      "num2 : (100, 9858) || dim : 2\n"
     ]
    },
    {
     "name": "stderr",
     "output_type": "stream",
     "text": [
      " 20%|██        | 205/1000 [00:44<05:26,  2.44it/s]"
     ]
    },
    {
     "name": "stdout",
     "output_type": "stream",
     "text": [
      "num2 more : tmp_data_arr : (100, 9858) || vec_arr : (20500, 9858)\n",
      "num2 : (100, 9858) || dim : 2\n"
     ]
    },
    {
     "name": "stderr",
     "output_type": "stream",
     "text": [
      " 21%|██        | 206/1000 [00:44<05:28,  2.41it/s]"
     ]
    },
    {
     "name": "stdout",
     "output_type": "stream",
     "text": [
      "num2 more : tmp_data_arr : (100, 9858) || vec_arr : (20600, 9858)\n",
      "num2 : (100, 9858) || dim : 2\n"
     ]
    },
    {
     "name": "stderr",
     "output_type": "stream",
     "text": [
      " 21%|██        | 207/1000 [00:45<05:27,  2.42it/s]"
     ]
    },
    {
     "name": "stdout",
     "output_type": "stream",
     "text": [
      "num2 more : tmp_data_arr : (100, 9858) || vec_arr : (20700, 9858)\n",
      "num2 : (100, 9858) || dim : 2\n"
     ]
    },
    {
     "name": "stderr",
     "output_type": "stream",
     "text": [
      " 21%|██        | 208/1000 [00:45<05:28,  2.41it/s]"
     ]
    },
    {
     "name": "stdout",
     "output_type": "stream",
     "text": [
      "num2 more : tmp_data_arr : (100, 9858) || vec_arr : (20800, 9858)\n",
      "num2 : (100, 9858) || dim : 2\n"
     ]
    },
    {
     "name": "stderr",
     "output_type": "stream",
     "text": [
      " 21%|██        | 209/1000 [00:45<05:32,  2.38it/s]"
     ]
    },
    {
     "name": "stdout",
     "output_type": "stream",
     "text": [
      "num2 more : tmp_data_arr : (100, 9858) || vec_arr : (20900, 9858)\n",
      "num2 : (100, 9858) || dim : 2\n"
     ]
    },
    {
     "name": "stderr",
     "output_type": "stream",
     "text": [
      " 21%|██        | 210/1000 [00:46<05:31,  2.38it/s]"
     ]
    },
    {
     "name": "stdout",
     "output_type": "stream",
     "text": [
      "num2 more : tmp_data_arr : (100, 9858) || vec_arr : (21000, 9858)\n",
      "num2 : (100, 9858) || dim : 2\n"
     ]
    },
    {
     "name": "stderr",
     "output_type": "stream",
     "text": [
      " 21%|██        | 211/1000 [00:46<05:33,  2.37it/s]"
     ]
    },
    {
     "name": "stdout",
     "output_type": "stream",
     "text": [
      "num2 more : tmp_data_arr : (100, 9858) || vec_arr : (21100, 9858)\n",
      "num2 : (100, 9858) || dim : 2\n"
     ]
    },
    {
     "name": "stderr",
     "output_type": "stream",
     "text": [
      " 21%|██        | 212/1000 [00:47<05:34,  2.35it/s]"
     ]
    },
    {
     "name": "stdout",
     "output_type": "stream",
     "text": [
      "num2 more : tmp_data_arr : (100, 9858) || vec_arr : (21200, 9858)\n",
      "num2 : (100, 9858) || dim : 2\n"
     ]
    },
    {
     "name": "stderr",
     "output_type": "stream",
     "text": [
      " 21%|██▏       | 213/1000 [00:47<05:28,  2.40it/s]"
     ]
    },
    {
     "name": "stdout",
     "output_type": "stream",
     "text": [
      "num2 more : tmp_data_arr : (100, 9858) || vec_arr : (21300, 9858)\n",
      "num2 : (100, 9858) || dim : 2\n"
     ]
    },
    {
     "name": "stderr",
     "output_type": "stream",
     "text": [
      " 21%|██▏       | 214/1000 [00:48<05:29,  2.39it/s]"
     ]
    },
    {
     "name": "stdout",
     "output_type": "stream",
     "text": [
      "num2 more : tmp_data_arr : (100, 9858) || vec_arr : (21400, 9858)\n",
      "num2 : (100, 9858) || dim : 2\n"
     ]
    },
    {
     "name": "stderr",
     "output_type": "stream",
     "text": [
      " 22%|██▏       | 215/1000 [00:48<05:29,  2.38it/s]"
     ]
    },
    {
     "name": "stdout",
     "output_type": "stream",
     "text": [
      "num2 more : tmp_data_arr : (100, 9858) || vec_arr : (21500, 9858)\n",
      "num2 : (100, 9858) || dim : 2\n"
     ]
    },
    {
     "name": "stderr",
     "output_type": "stream",
     "text": [
      " 22%|██▏       | 216/1000 [00:48<05:29,  2.38it/s]"
     ]
    },
    {
     "name": "stdout",
     "output_type": "stream",
     "text": [
      "num2 more : tmp_data_arr : (100, 9858) || vec_arr : (21600, 9858)\n",
      "num2 : (100, 9858) || dim : 2\n"
     ]
    },
    {
     "name": "stderr",
     "output_type": "stream",
     "text": [
      " 22%|██▏       | 217/1000 [00:49<05:38,  2.32it/s]"
     ]
    },
    {
     "name": "stdout",
     "output_type": "stream",
     "text": [
      "num2 more : tmp_data_arr : (100, 9858) || vec_arr : (21700, 9858)\n",
      "num2 : (100, 9858) || dim : 2\n"
     ]
    },
    {
     "name": "stderr",
     "output_type": "stream",
     "text": [
      " 22%|██▏       | 218/1000 [00:49<05:40,  2.30it/s]"
     ]
    },
    {
     "name": "stdout",
     "output_type": "stream",
     "text": [
      "num2 more : tmp_data_arr : (100, 9858) || vec_arr : (21800, 9858)\n",
      "num2 : (100, 9858) || dim : 2\n"
     ]
    },
    {
     "name": "stderr",
     "output_type": "stream",
     "text": [
      " 22%|██▏       | 219/1000 [00:50<05:41,  2.29it/s]"
     ]
    },
    {
     "name": "stdout",
     "output_type": "stream",
     "text": [
      "num2 more : tmp_data_arr : (100, 9858) || vec_arr : (21900, 9858)\n",
      "num2 : (100, 9858) || dim : 2\n"
     ]
    },
    {
     "name": "stderr",
     "output_type": "stream",
     "text": [
      " 22%|██▏       | 220/1000 [00:50<05:43,  2.27it/s]"
     ]
    },
    {
     "name": "stdout",
     "output_type": "stream",
     "text": [
      "num2 more : tmp_data_arr : (100, 9858) || vec_arr : (22000, 9858)\n",
      "num2 : (100, 9858) || dim : 2\n"
     ]
    },
    {
     "name": "stderr",
     "output_type": "stream",
     "text": [
      " 22%|██▏       | 221/1000 [00:51<05:47,  2.24it/s]"
     ]
    },
    {
     "name": "stdout",
     "output_type": "stream",
     "text": [
      "num2 more : tmp_data_arr : (100, 9858) || vec_arr : (22100, 9858)\n",
      "num2 : (100, 9858) || dim : 2\n"
     ]
    },
    {
     "name": "stderr",
     "output_type": "stream",
     "text": [
      " 22%|██▏       | 222/1000 [00:51<05:50,  2.22it/s]"
     ]
    },
    {
     "name": "stdout",
     "output_type": "stream",
     "text": [
      "num2 more : tmp_data_arr : (100, 9858) || vec_arr : (22200, 9858)\n",
      "num2 : (100, 9858) || dim : 2\n"
     ]
    },
    {
     "name": "stderr",
     "output_type": "stream",
     "text": [
      " 22%|██▏       | 223/1000 [00:52<05:52,  2.20it/s]"
     ]
    },
    {
     "name": "stdout",
     "output_type": "stream",
     "text": [
      "num2 more : tmp_data_arr : (100, 9858) || vec_arr : (22300, 9858)\n",
      "num2 : (100, 9858) || dim : 2\n"
     ]
    },
    {
     "name": "stderr",
     "output_type": "stream",
     "text": [
      " 22%|██▏       | 224/1000 [00:52<05:50,  2.21it/s]"
     ]
    },
    {
     "name": "stdout",
     "output_type": "stream",
     "text": [
      "num2 more : tmp_data_arr : (100, 9858) || vec_arr : (22400, 9858)\n",
      "num2 : (100, 9858) || dim : 2\n"
     ]
    },
    {
     "name": "stderr",
     "output_type": "stream",
     "text": [
      " 22%|██▎       | 225/1000 [00:53<05:50,  2.21it/s]"
     ]
    },
    {
     "name": "stdout",
     "output_type": "stream",
     "text": [
      "num2 more : tmp_data_arr : (100, 9858) || vec_arr : (22500, 9858)\n",
      "num2 : (100, 9858) || dim : 2\n"
     ]
    },
    {
     "name": "stderr",
     "output_type": "stream",
     "text": [
      " 23%|██▎       | 226/1000 [00:53<05:56,  2.17it/s]"
     ]
    },
    {
     "name": "stdout",
     "output_type": "stream",
     "text": [
      "num2 more : tmp_data_arr : (100, 9858) || vec_arr : (22600, 9858)\n",
      "num2 : (100, 9858) || dim : 2\n"
     ]
    },
    {
     "name": "stderr",
     "output_type": "stream",
     "text": [
      " 23%|██▎       | 227/1000 [00:53<06:07,  2.10it/s]"
     ]
    },
    {
     "name": "stdout",
     "output_type": "stream",
     "text": [
      "num2 more : tmp_data_arr : (100, 9858) || vec_arr : (22700, 9858)\n",
      "num2 : (100, 9858) || dim : 2\n"
     ]
    },
    {
     "name": "stderr",
     "output_type": "stream",
     "text": [
      " 23%|██▎       | 228/1000 [00:54<06:21,  2.02it/s]"
     ]
    },
    {
     "name": "stdout",
     "output_type": "stream",
     "text": [
      "num2 more : tmp_data_arr : (100, 9858) || vec_arr : (22800, 9858)\n",
      "num2 : (100, 9858) || dim : 2\n"
     ]
    },
    {
     "name": "stderr",
     "output_type": "stream",
     "text": [
      " 23%|██▎       | 229/1000 [00:55<06:22,  2.01it/s]"
     ]
    },
    {
     "name": "stdout",
     "output_type": "stream",
     "text": [
      "num2 more : tmp_data_arr : (100, 9858) || vec_arr : (22900, 9858)\n",
      "num2 : (100, 9858) || dim : 2\n"
     ]
    },
    {
     "name": "stderr",
     "output_type": "stream",
     "text": [
      " 23%|██▎       | 230/1000 [00:55<06:15,  2.05it/s]"
     ]
    },
    {
     "name": "stdout",
     "output_type": "stream",
     "text": [
      "num2 more : tmp_data_arr : (100, 9858) || vec_arr : (23000, 9858)\n",
      "num2 : (100, 9858) || dim : 2\n"
     ]
    },
    {
     "name": "stderr",
     "output_type": "stream",
     "text": [
      " 23%|██▎       | 231/1000 [00:55<06:12,  2.07it/s]"
     ]
    },
    {
     "name": "stdout",
     "output_type": "stream",
     "text": [
      "num2 more : tmp_data_arr : (100, 9858) || vec_arr : (23100, 9858)\n",
      "num2 : (100, 9858) || dim : 2\n"
     ]
    },
    {
     "name": "stderr",
     "output_type": "stream",
     "text": [
      " 23%|██▎       | 232/1000 [00:56<06:07,  2.09it/s]"
     ]
    },
    {
     "name": "stdout",
     "output_type": "stream",
     "text": [
      "num2 more : tmp_data_arr : (100, 9858) || vec_arr : (23200, 9858)\n",
      "num2 : (100, 9858) || dim : 2\n"
     ]
    },
    {
     "name": "stderr",
     "output_type": "stream",
     "text": [
      " 23%|██▎       | 233/1000 [00:56<06:09,  2.07it/s]"
     ]
    },
    {
     "name": "stdout",
     "output_type": "stream",
     "text": [
      "num2 more : tmp_data_arr : (100, 9858) || vec_arr : (23300, 9858)\n",
      "num2 : (100, 9858) || dim : 2\n"
     ]
    },
    {
     "name": "stderr",
     "output_type": "stream",
     "text": [
      " 23%|██▎       | 234/1000 [00:57<06:07,  2.09it/s]"
     ]
    },
    {
     "name": "stdout",
     "output_type": "stream",
     "text": [
      "num2 more : tmp_data_arr : (100, 9858) || vec_arr : (23400, 9858)\n",
      "num2 : (100, 9858) || dim : 2\n"
     ]
    },
    {
     "name": "stderr",
     "output_type": "stream",
     "text": [
      " 24%|██▎       | 235/1000 [00:57<06:02,  2.11it/s]"
     ]
    },
    {
     "name": "stdout",
     "output_type": "stream",
     "text": [
      "num2 more : tmp_data_arr : (100, 9858) || vec_arr : (23500, 9858)\n",
      "num2 : (100, 9858) || dim : 2\n"
     ]
    },
    {
     "name": "stderr",
     "output_type": "stream",
     "text": [
      " 24%|██▎       | 236/1000 [00:58<06:06,  2.09it/s]"
     ]
    },
    {
     "name": "stdout",
     "output_type": "stream",
     "text": [
      "num2 more : tmp_data_arr : (100, 9858) || vec_arr : (23600, 9858)\n",
      "num2 : (100, 9858) || dim : 2\n"
     ]
    },
    {
     "name": "stderr",
     "output_type": "stream",
     "text": [
      " 24%|██▎       | 237/1000 [00:58<06:09,  2.06it/s]"
     ]
    },
    {
     "name": "stdout",
     "output_type": "stream",
     "text": [
      "num2 more : tmp_data_arr : (100, 9858) || vec_arr : (23700, 9858)\n",
      "num2 : (100, 9858) || dim : 2\n"
     ]
    },
    {
     "name": "stderr",
     "output_type": "stream",
     "text": [
      " 24%|██▍       | 238/1000 [00:59<06:07,  2.08it/s]"
     ]
    },
    {
     "name": "stdout",
     "output_type": "stream",
     "text": [
      "num2 more : tmp_data_arr : (100, 9858) || vec_arr : (23800, 9858)\n",
      "num2 : (100, 9858) || dim : 2\n"
     ]
    },
    {
     "name": "stderr",
     "output_type": "stream",
     "text": [
      " 24%|██▍       | 239/1000 [00:59<06:09,  2.06it/s]"
     ]
    },
    {
     "name": "stdout",
     "output_type": "stream",
     "text": [
      "num2 more : tmp_data_arr : (100, 9858) || vec_arr : (23900, 9858)\n",
      "num2 : (100, 9858) || dim : 2\n"
     ]
    },
    {
     "name": "stderr",
     "output_type": "stream",
     "text": [
      " 24%|██▍       | 240/1000 [01:00<06:11,  2.05it/s]"
     ]
    },
    {
     "name": "stdout",
     "output_type": "stream",
     "text": [
      "num2 more : tmp_data_arr : (100, 9858) || vec_arr : (24000, 9858)\n",
      "num2 : (100, 9858) || dim : 2\n"
     ]
    },
    {
     "name": "stderr",
     "output_type": "stream",
     "text": [
      " 24%|██▍       | 241/1000 [01:00<06:10,  2.05it/s]"
     ]
    },
    {
     "name": "stdout",
     "output_type": "stream",
     "text": [
      "num2 more : tmp_data_arr : (100, 9858) || vec_arr : (24100, 9858)\n",
      "num2 : (100, 9858) || dim : 2\n"
     ]
    },
    {
     "name": "stderr",
     "output_type": "stream",
     "text": [
      " 24%|██▍       | 242/1000 [01:01<06:04,  2.08it/s]"
     ]
    },
    {
     "name": "stdout",
     "output_type": "stream",
     "text": [
      "num2 more : tmp_data_arr : (100, 9858) || vec_arr : (24200, 9858)\n",
      "num2 : (100, 9858) || dim : 2\n"
     ]
    },
    {
     "name": "stderr",
     "output_type": "stream",
     "text": [
      " 24%|██▍       | 243/1000 [01:01<05:53,  2.14it/s]"
     ]
    },
    {
     "name": "stdout",
     "output_type": "stream",
     "text": [
      "num2 more : tmp_data_arr : (100, 9858) || vec_arr : (24300, 9858)\n",
      "num2 : (100, 9858) || dim : 2\n"
     ]
    },
    {
     "name": "stderr",
     "output_type": "stream",
     "text": [
      " 24%|██▍       | 244/1000 [01:02<06:00,  2.10it/s]"
     ]
    },
    {
     "name": "stdout",
     "output_type": "stream",
     "text": [
      "num2 more : tmp_data_arr : (100, 9858) || vec_arr : (24400, 9858)\n",
      "num2 : (100, 9858) || dim : 2\n"
     ]
    },
    {
     "name": "stderr",
     "output_type": "stream",
     "text": [
      " 24%|██▍       | 245/1000 [01:02<06:04,  2.07it/s]"
     ]
    },
    {
     "name": "stdout",
     "output_type": "stream",
     "text": [
      "num2 more : tmp_data_arr : (100, 9858) || vec_arr : (24500, 9858)\n",
      "num2 : (100, 9858) || dim : 2\n"
     ]
    },
    {
     "name": "stderr",
     "output_type": "stream",
     "text": [
      " 25%|██▍       | 246/1000 [01:03<06:05,  2.06it/s]"
     ]
    },
    {
     "name": "stdout",
     "output_type": "stream",
     "text": [
      "num2 more : tmp_data_arr : (100, 9858) || vec_arr : (24600, 9858)\n",
      "num2 : (100, 9858) || dim : 2\n"
     ]
    },
    {
     "name": "stderr",
     "output_type": "stream",
     "text": [
      " 25%|██▍       | 247/1000 [01:03<06:10,  2.03it/s]"
     ]
    },
    {
     "name": "stdout",
     "output_type": "stream",
     "text": [
      "num2 more : tmp_data_arr : (100, 9858) || vec_arr : (24700, 9858)\n",
      "num2 : (100, 9858) || dim : 2\n"
     ]
    },
    {
     "name": "stderr",
     "output_type": "stream",
     "text": [
      " 25%|██▍       | 248/1000 [01:04<06:11,  2.03it/s]"
     ]
    },
    {
     "name": "stdout",
     "output_type": "stream",
     "text": [
      "num2 more : tmp_data_arr : (100, 9858) || vec_arr : (24800, 9858)\n",
      "num2 : (100, 9858) || dim : 2\n"
     ]
    },
    {
     "name": "stderr",
     "output_type": "stream",
     "text": [
      " 25%|██▍       | 249/1000 [01:04<06:10,  2.03it/s]"
     ]
    },
    {
     "name": "stdout",
     "output_type": "stream",
     "text": [
      "num2 more : tmp_data_arr : (100, 9858) || vec_arr : (24900, 9858)\n",
      "num2 : (100, 9858) || dim : 2\n"
     ]
    },
    {
     "name": "stderr",
     "output_type": "stream",
     "text": [
      " 25%|██▌       | 250/1000 [01:05<06:16,  1.99it/s]"
     ]
    },
    {
     "name": "stdout",
     "output_type": "stream",
     "text": [
      "num2 more : tmp_data_arr : (100, 9858) || vec_arr : (25000, 9858)\n",
      "num2 : (100, 9858) || dim : 2\n"
     ]
    },
    {
     "name": "stderr",
     "output_type": "stream",
     "text": [
      " 25%|██▌       | 251/1000 [01:05<06:16,  1.99it/s]"
     ]
    },
    {
     "name": "stdout",
     "output_type": "stream",
     "text": [
      "num2 more : tmp_data_arr : (100, 9858) || vec_arr : (25100, 9858)\n",
      "num2 : (100, 9858) || dim : 2\n"
     ]
    },
    {
     "name": "stderr",
     "output_type": "stream",
     "text": [
      " 25%|██▌       | 252/1000 [01:06<06:21,  1.96it/s]"
     ]
    },
    {
     "name": "stdout",
     "output_type": "stream",
     "text": [
      "num2 more : tmp_data_arr : (100, 9858) || vec_arr : (25200, 9858)\n",
      "num2 : (100, 9858) || dim : 2\n"
     ]
    },
    {
     "name": "stderr",
     "output_type": "stream",
     "text": [
      " 25%|██▌       | 253/1000 [01:06<06:19,  1.97it/s]"
     ]
    },
    {
     "name": "stdout",
     "output_type": "stream",
     "text": [
      "num2 more : tmp_data_arr : (100, 9858) || vec_arr : (25300, 9858)\n",
      "num2 : (100, 9858) || dim : 2\n"
     ]
    },
    {
     "name": "stderr",
     "output_type": "stream",
     "text": [
      " 25%|██▌       | 254/1000 [01:07<06:18,  1.97it/s]"
     ]
    },
    {
     "name": "stdout",
     "output_type": "stream",
     "text": [
      "num2 more : tmp_data_arr : (100, 9858) || vec_arr : (25400, 9858)\n",
      "num2 : (100, 9858) || dim : 2\n"
     ]
    },
    {
     "name": "stderr",
     "output_type": "stream",
     "text": [
      " 26%|██▌       | 255/1000 [01:07<06:24,  1.94it/s]"
     ]
    },
    {
     "name": "stdout",
     "output_type": "stream",
     "text": [
      "num2 more : tmp_data_arr : (100, 9858) || vec_arr : (25500, 9858)\n",
      "num2 : (100, 9858) || dim : 2\n"
     ]
    },
    {
     "name": "stderr",
     "output_type": "stream",
     "text": [
      " 26%|██▌       | 256/1000 [01:08<06:27,  1.92it/s]"
     ]
    },
    {
     "name": "stdout",
     "output_type": "stream",
     "text": [
      "num2 more : tmp_data_arr : (100, 9858) || vec_arr : (25600, 9858)\n",
      "num2 : (100, 9858) || dim : 2\n"
     ]
    },
    {
     "name": "stderr",
     "output_type": "stream",
     "text": [
      " 26%|██▌       | 257/1000 [01:08<06:26,  1.92it/s]"
     ]
    },
    {
     "name": "stdout",
     "output_type": "stream",
     "text": [
      "num2 more : tmp_data_arr : (100, 9858) || vec_arr : (25700, 9858)\n",
      "num2 : (100, 9858) || dim : 2\n"
     ]
    },
    {
     "name": "stderr",
     "output_type": "stream",
     "text": [
      " 26%|██▌       | 258/1000 [01:09<06:30,  1.90it/s]"
     ]
    },
    {
     "name": "stdout",
     "output_type": "stream",
     "text": [
      "num2 more : tmp_data_arr : (100, 9858) || vec_arr : (25800, 9858)\n",
      "num2 : (100, 9858) || dim : 2\n"
     ]
    },
    {
     "name": "stderr",
     "output_type": "stream",
     "text": [
      " 26%|██▌       | 259/1000 [01:09<06:26,  1.92it/s]"
     ]
    },
    {
     "name": "stdout",
     "output_type": "stream",
     "text": [
      "num2 more : tmp_data_arr : (100, 9858) || vec_arr : (25900, 9858)\n",
      "num2 : (100, 9858) || dim : 2\n"
     ]
    },
    {
     "name": "stderr",
     "output_type": "stream",
     "text": [
      " 26%|██▌       | 260/1000 [01:10<06:25,  1.92it/s]"
     ]
    },
    {
     "name": "stdout",
     "output_type": "stream",
     "text": [
      "num2 more : tmp_data_arr : (100, 9858) || vec_arr : (26000, 9858)\n",
      "num2 : (100, 9858) || dim : 2\n"
     ]
    },
    {
     "name": "stderr",
     "output_type": "stream",
     "text": [
      " 26%|██▌       | 261/1000 [01:10<06:21,  1.94it/s]"
     ]
    },
    {
     "name": "stdout",
     "output_type": "stream",
     "text": [
      "num2 more : tmp_data_arr : (100, 9858) || vec_arr : (26100, 9858)\n",
      "num2 : (100, 9858) || dim : 2\n"
     ]
    },
    {
     "name": "stderr",
     "output_type": "stream",
     "text": [
      " 26%|██▌       | 262/1000 [01:11<06:25,  1.92it/s]"
     ]
    },
    {
     "name": "stdout",
     "output_type": "stream",
     "text": [
      "num2 more : tmp_data_arr : (100, 9858) || vec_arr : (26200, 9858)\n",
      "num2 : (100, 9858) || dim : 2\n"
     ]
    },
    {
     "name": "stderr",
     "output_type": "stream",
     "text": [
      " 26%|██▋       | 263/1000 [01:11<06:27,  1.90it/s]"
     ]
    },
    {
     "name": "stdout",
     "output_type": "stream",
     "text": [
      "num2 more : tmp_data_arr : (100, 9858) || vec_arr : (26300, 9858)\n",
      "num2 : (100, 9858) || dim : 2\n"
     ]
    },
    {
     "name": "stderr",
     "output_type": "stream",
     "text": [
      " 26%|██▋       | 264/1000 [01:12<06:29,  1.89it/s]"
     ]
    },
    {
     "name": "stdout",
     "output_type": "stream",
     "text": [
      "num2 more : tmp_data_arr : (100, 9858) || vec_arr : (26400, 9858)\n",
      "num2 : (100, 9858) || dim : 2\n"
     ]
    },
    {
     "name": "stderr",
     "output_type": "stream",
     "text": [
      " 26%|██▋       | 265/1000 [01:13<06:31,  1.88it/s]"
     ]
    },
    {
     "name": "stdout",
     "output_type": "stream",
     "text": [
      "num2 more : tmp_data_arr : (100, 9858) || vec_arr : (26500, 9858)\n",
      "num2 : (100, 9858) || dim : 2\n"
     ]
    },
    {
     "name": "stderr",
     "output_type": "stream",
     "text": [
      " 27%|██▋       | 266/1000 [01:13<06:30,  1.88it/s]"
     ]
    },
    {
     "name": "stdout",
     "output_type": "stream",
     "text": [
      "num2 more : tmp_data_arr : (100, 9858) || vec_arr : (26600, 9858)\n",
      "num2 : (100, 9858) || dim : 2\n"
     ]
    },
    {
     "name": "stderr",
     "output_type": "stream",
     "text": [
      " 27%|██▋       | 267/1000 [01:14<06:28,  1.89it/s]"
     ]
    },
    {
     "name": "stdout",
     "output_type": "stream",
     "text": [
      "num2 more : tmp_data_arr : (100, 9858) || vec_arr : (26700, 9858)\n",
      "num2 : (100, 9858) || dim : 2\n"
     ]
    },
    {
     "name": "stderr",
     "output_type": "stream",
     "text": [
      " 27%|██▋       | 268/1000 [01:14<06:28,  1.88it/s]"
     ]
    },
    {
     "name": "stdout",
     "output_type": "stream",
     "text": [
      "num2 more : tmp_data_arr : (100, 9858) || vec_arr : (26800, 9858)\n",
      "num2 : (100, 9858) || dim : 2\n"
     ]
    },
    {
     "name": "stderr",
     "output_type": "stream",
     "text": [
      " 27%|██▋       | 269/1000 [01:15<06:28,  1.88it/s]"
     ]
    },
    {
     "name": "stdout",
     "output_type": "stream",
     "text": [
      "num2 more : tmp_data_arr : (100, 9858) || vec_arr : (26900, 9858)\n",
      "num2 : (100, 9858) || dim : 2\n"
     ]
    },
    {
     "name": "stderr",
     "output_type": "stream",
     "text": [
      " 27%|██▋       | 270/1000 [01:15<06:32,  1.86it/s]"
     ]
    },
    {
     "name": "stdout",
     "output_type": "stream",
     "text": [
      "num2 more : tmp_data_arr : (100, 9858) || vec_arr : (27000, 9858)\n",
      "num2 : (100, 9858) || dim : 2\n"
     ]
    },
    {
     "name": "stderr",
     "output_type": "stream",
     "text": [
      " 27%|██▋       | 271/1000 [01:16<06:31,  1.86it/s]"
     ]
    },
    {
     "name": "stdout",
     "output_type": "stream",
     "text": [
      "num2 more : tmp_data_arr : (100, 9858) || vec_arr : (27100, 9858)\n",
      "num2 : (100, 9858) || dim : 2\n"
     ]
    },
    {
     "name": "stderr",
     "output_type": "stream",
     "text": [
      " 27%|██▋       | 272/1000 [01:16<06:31,  1.86it/s]"
     ]
    },
    {
     "name": "stdout",
     "output_type": "stream",
     "text": [
      "num2 more : tmp_data_arr : (100, 9858) || vec_arr : (27200, 9858)\n",
      "num2 : (100, 9858) || dim : 2\n"
     ]
    },
    {
     "name": "stderr",
     "output_type": "stream",
     "text": [
      " 27%|██▋       | 273/1000 [01:17<06:33,  1.85it/s]"
     ]
    },
    {
     "name": "stdout",
     "output_type": "stream",
     "text": [
      "num2 more : tmp_data_arr : (100, 9858) || vec_arr : (27300, 9858)\n",
      "num2 : (100, 9858) || dim : 2\n"
     ]
    },
    {
     "name": "stderr",
     "output_type": "stream",
     "text": [
      " 27%|██▋       | 274/1000 [01:17<06:35,  1.84it/s]"
     ]
    },
    {
     "name": "stdout",
     "output_type": "stream",
     "text": [
      "num2 more : tmp_data_arr : (100, 9858) || vec_arr : (27400, 9858)\n",
      "num2 : (100, 9858) || dim : 2\n"
     ]
    },
    {
     "name": "stderr",
     "output_type": "stream",
     "text": [
      " 28%|██▊       | 275/1000 [01:18<06:38,  1.82it/s]"
     ]
    },
    {
     "name": "stdout",
     "output_type": "stream",
     "text": [
      "num2 more : tmp_data_arr : (100, 9858) || vec_arr : (27500, 9858)\n",
      "num2 : (100, 9858) || dim : 2\n"
     ]
    },
    {
     "name": "stderr",
     "output_type": "stream",
     "text": [
      " 28%|██▊       | 276/1000 [01:19<06:34,  1.84it/s]"
     ]
    },
    {
     "name": "stdout",
     "output_type": "stream",
     "text": [
      "num2 more : tmp_data_arr : (100, 9858) || vec_arr : (27600, 9858)\n",
      "num2 : (100, 9858) || dim : 2\n"
     ]
    },
    {
     "name": "stderr",
     "output_type": "stream",
     "text": [
      " 28%|██▊       | 277/1000 [01:19<06:40,  1.81it/s]"
     ]
    },
    {
     "name": "stdout",
     "output_type": "stream",
     "text": [
      "num2 more : tmp_data_arr : (100, 9858) || vec_arr : (27700, 9858)\n",
      "num2 : (100, 9858) || dim : 2\n"
     ]
    },
    {
     "name": "stderr",
     "output_type": "stream",
     "text": [
      " 28%|██▊       | 278/1000 [01:20<06:42,  1.79it/s]"
     ]
    },
    {
     "name": "stdout",
     "output_type": "stream",
     "text": [
      "num2 more : tmp_data_arr : (100, 9858) || vec_arr : (27800, 9858)\n",
      "num2 : (100, 9858) || dim : 2\n"
     ]
    },
    {
     "name": "stderr",
     "output_type": "stream",
     "text": [
      " 28%|██▊       | 279/1000 [01:20<06:39,  1.80it/s]"
     ]
    },
    {
     "name": "stdout",
     "output_type": "stream",
     "text": [
      "num2 more : tmp_data_arr : (100, 9858) || vec_arr : (27900, 9858)\n",
      "num2 : (100, 9858) || dim : 2\n"
     ]
    },
    {
     "name": "stderr",
     "output_type": "stream",
     "text": [
      " 28%|██▊       | 280/1000 [01:21<06:42,  1.79it/s]"
     ]
    },
    {
     "name": "stdout",
     "output_type": "stream",
     "text": [
      "num2 more : tmp_data_arr : (100, 9858) || vec_arr : (28000, 9858)\n",
      "num2 : (100, 9858) || dim : 2\n"
     ]
    },
    {
     "name": "stderr",
     "output_type": "stream",
     "text": [
      " 28%|██▊       | 281/1000 [01:21<06:42,  1.78it/s]"
     ]
    },
    {
     "name": "stdout",
     "output_type": "stream",
     "text": [
      "num2 more : tmp_data_arr : (100, 9858) || vec_arr : (28100, 9858)\n",
      "num2 : (100, 9858) || dim : 2\n"
     ]
    },
    {
     "name": "stderr",
     "output_type": "stream",
     "text": [
      " 28%|██▊       | 282/1000 [01:22<06:41,  1.79it/s]"
     ]
    },
    {
     "name": "stdout",
     "output_type": "stream",
     "text": [
      "num2 more : tmp_data_arr : (100, 9858) || vec_arr : (28200, 9858)\n",
      "num2 : (100, 9858) || dim : 2\n"
     ]
    },
    {
     "name": "stderr",
     "output_type": "stream",
     "text": [
      " 28%|██▊       | 283/1000 [01:22<06:43,  1.78it/s]"
     ]
    },
    {
     "name": "stdout",
     "output_type": "stream",
     "text": [
      "num2 more : tmp_data_arr : (100, 9858) || vec_arr : (28300, 9858)\n",
      "num2 : (100, 9858) || dim : 2\n"
     ]
    },
    {
     "name": "stderr",
     "output_type": "stream",
     "text": [
      " 28%|██▊       | 284/1000 [01:23<06:43,  1.78it/s]"
     ]
    },
    {
     "name": "stdout",
     "output_type": "stream",
     "text": [
      "num2 more : tmp_data_arr : (100, 9858) || vec_arr : (28400, 9858)\n",
      "num2 : (100, 9858) || dim : 2\n"
     ]
    },
    {
     "name": "stderr",
     "output_type": "stream",
     "text": [
      " 28%|██▊       | 285/1000 [01:24<06:45,  1.76it/s]"
     ]
    },
    {
     "name": "stdout",
     "output_type": "stream",
     "text": [
      "num2 more : tmp_data_arr : (100, 9858) || vec_arr : (28500, 9858)\n",
      "num2 : (100, 9858) || dim : 2\n"
     ]
    },
    {
     "name": "stderr",
     "output_type": "stream",
     "text": [
      " 29%|██▊       | 286/1000 [01:24<06:44,  1.76it/s]"
     ]
    },
    {
     "name": "stdout",
     "output_type": "stream",
     "text": [
      "num2 more : tmp_data_arr : (100, 9858) || vec_arr : (28600, 9858)\n",
      "num2 : (100, 9858) || dim : 2\n"
     ]
    },
    {
     "name": "stderr",
     "output_type": "stream",
     "text": [
      " 29%|██▊       | 287/1000 [01:25<06:55,  1.72it/s]"
     ]
    },
    {
     "name": "stdout",
     "output_type": "stream",
     "text": [
      "num2 more : tmp_data_arr : (100, 9858) || vec_arr : (28700, 9858)\n",
      "num2 : (100, 9858) || dim : 2\n"
     ]
    },
    {
     "name": "stderr",
     "output_type": "stream",
     "text": [
      " 29%|██▉       | 288/1000 [01:25<06:56,  1.71it/s]"
     ]
    },
    {
     "name": "stdout",
     "output_type": "stream",
     "text": [
      "num2 more : tmp_data_arr : (100, 9858) || vec_arr : (28800, 9858)\n",
      "num2 : (100, 9858) || dim : 2\n"
     ]
    },
    {
     "name": "stderr",
     "output_type": "stream",
     "text": [
      " 29%|██▉       | 289/1000 [01:26<06:50,  1.73it/s]"
     ]
    },
    {
     "name": "stdout",
     "output_type": "stream",
     "text": [
      "num2 more : tmp_data_arr : (100, 9858) || vec_arr : (28900, 9858)\n",
      "num2 : (100, 9858) || dim : 2\n"
     ]
    },
    {
     "name": "stderr",
     "output_type": "stream",
     "text": [
      " 29%|██▉       | 290/1000 [01:27<06:54,  1.71it/s]"
     ]
    },
    {
     "name": "stdout",
     "output_type": "stream",
     "text": [
      "num2 more : tmp_data_arr : (100, 9858) || vec_arr : (29000, 9858)\n",
      "num2 : (100, 9858) || dim : 2\n"
     ]
    },
    {
     "name": "stderr",
     "output_type": "stream",
     "text": [
      " 29%|██▉       | 291/1000 [01:27<06:52,  1.72it/s]"
     ]
    },
    {
     "name": "stdout",
     "output_type": "stream",
     "text": [
      "num2 more : tmp_data_arr : (100, 9858) || vec_arr : (29100, 9858)\n",
      "num2 : (100, 9858) || dim : 2\n"
     ]
    },
    {
     "name": "stderr",
     "output_type": "stream",
     "text": [
      " 29%|██▉       | 292/1000 [01:28<06:43,  1.75it/s]"
     ]
    },
    {
     "name": "stdout",
     "output_type": "stream",
     "text": [
      "num2 more : tmp_data_arr : (100, 9858) || vec_arr : (29200, 9858)\n",
      "num2 : (100, 9858) || dim : 2\n"
     ]
    },
    {
     "name": "stderr",
     "output_type": "stream",
     "text": [
      " 29%|██▉       | 293/1000 [01:28<06:33,  1.79it/s]"
     ]
    },
    {
     "name": "stdout",
     "output_type": "stream",
     "text": [
      "num2 more : tmp_data_arr : (100, 9858) || vec_arr : (29300, 9858)\n",
      "num2 : (100, 9858) || dim : 2\n"
     ]
    },
    {
     "name": "stderr",
     "output_type": "stream",
     "text": [
      " 29%|██▉       | 294/1000 [01:29<06:36,  1.78it/s]"
     ]
    },
    {
     "name": "stdout",
     "output_type": "stream",
     "text": [
      "num2 more : tmp_data_arr : (100, 9858) || vec_arr : (29400, 9858)\n",
      "num2 : (100, 9858) || dim : 2\n"
     ]
    },
    {
     "name": "stderr",
     "output_type": "stream",
     "text": [
      " 30%|██▉       | 295/1000 [01:29<06:40,  1.76it/s]"
     ]
    },
    {
     "name": "stdout",
     "output_type": "stream",
     "text": [
      "num2 more : tmp_data_arr : (100, 9858) || vec_arr : (29500, 9858)\n",
      "num2 : (100, 9858) || dim : 2\n"
     ]
    },
    {
     "name": "stderr",
     "output_type": "stream",
     "text": [
      " 30%|██▉       | 296/1000 [01:30<06:43,  1.74it/s]"
     ]
    },
    {
     "name": "stdout",
     "output_type": "stream",
     "text": [
      "num2 more : tmp_data_arr : (100, 9858) || vec_arr : (29600, 9858)\n",
      "num2 : (100, 9858) || dim : 2\n"
     ]
    },
    {
     "name": "stderr",
     "output_type": "stream",
     "text": [
      " 30%|██▉       | 297/1000 [01:31<06:47,  1.73it/s]"
     ]
    },
    {
     "name": "stdout",
     "output_type": "stream",
     "text": [
      "num2 more : tmp_data_arr : (100, 9858) || vec_arr : (29700, 9858)\n",
      "num2 : (100, 9858) || dim : 2\n"
     ]
    },
    {
     "name": "stderr",
     "output_type": "stream",
     "text": [
      " 30%|██▉       | 298/1000 [01:31<06:49,  1.72it/s]"
     ]
    },
    {
     "name": "stdout",
     "output_type": "stream",
     "text": [
      "num2 more : tmp_data_arr : (100, 9858) || vec_arr : (29800, 9858)\n",
      "num2 : (100, 9858) || dim : 2\n"
     ]
    },
    {
     "name": "stderr",
     "output_type": "stream",
     "text": [
      " 30%|██▉       | 299/1000 [01:32<06:58,  1.68it/s]"
     ]
    },
    {
     "name": "stdout",
     "output_type": "stream",
     "text": [
      "num2 more : tmp_data_arr : (100, 9858) || vec_arr : (29900, 9858)\n",
      "num2 : (100, 9858) || dim : 2\n"
     ]
    },
    {
     "name": "stderr",
     "output_type": "stream",
     "text": [
      " 30%|███       | 300/1000 [01:32<07:01,  1.66it/s]"
     ]
    },
    {
     "name": "stdout",
     "output_type": "stream",
     "text": [
      "num2 more : tmp_data_arr : (100, 9858) || vec_arr : (30000, 9858)\n",
      "num2 : (100, 9858) || dim : 2\n"
     ]
    },
    {
     "name": "stderr",
     "output_type": "stream",
     "text": [
      " 30%|███       | 301/1000 [01:33<06:59,  1.67it/s]"
     ]
    },
    {
     "name": "stdout",
     "output_type": "stream",
     "text": [
      "num2 more : tmp_data_arr : (100, 9858) || vec_arr : (30100, 9858)\n",
      "num2 : (100, 9858) || dim : 2\n"
     ]
    },
    {
     "name": "stderr",
     "output_type": "stream",
     "text": [
      " 30%|███       | 302/1000 [01:34<07:00,  1.66it/s]"
     ]
    },
    {
     "name": "stdout",
     "output_type": "stream",
     "text": [
      "num2 more : tmp_data_arr : (100, 9858) || vec_arr : (30200, 9858)\n",
      "num2 : (100, 9858) || dim : 2\n"
     ]
    },
    {
     "name": "stderr",
     "output_type": "stream",
     "text": [
      " 30%|███       | 303/1000 [01:34<06:57,  1.67it/s]"
     ]
    },
    {
     "name": "stdout",
     "output_type": "stream",
     "text": [
      "num2 more : tmp_data_arr : (100, 9858) || vec_arr : (30300, 9858)\n",
      "num2 : (100, 9858) || dim : 2\n"
     ]
    },
    {
     "name": "stderr",
     "output_type": "stream",
     "text": [
      " 30%|███       | 304/1000 [01:35<07:01,  1.65it/s]"
     ]
    },
    {
     "name": "stdout",
     "output_type": "stream",
     "text": [
      "num2 more : tmp_data_arr : (100, 9858) || vec_arr : (30400, 9858)\n",
      "num2 : (100, 9858) || dim : 2\n"
     ]
    },
    {
     "name": "stderr",
     "output_type": "stream",
     "text": [
      " 30%|███       | 305/1000 [01:35<06:50,  1.70it/s]"
     ]
    },
    {
     "name": "stdout",
     "output_type": "stream",
     "text": [
      "num2 more : tmp_data_arr : (100, 9858) || vec_arr : (30500, 9858)\n",
      "num2 : (100, 9858) || dim : 2\n"
     ]
    },
    {
     "name": "stderr",
     "output_type": "stream",
     "text": [
      " 31%|███       | 306/1000 [01:36<06:45,  1.71it/s]"
     ]
    },
    {
     "name": "stdout",
     "output_type": "stream",
     "text": [
      "num2 more : tmp_data_arr : (100, 9858) || vec_arr : (30600, 9858)\n",
      "num2 : (100, 9858) || dim : 2\n"
     ]
    },
    {
     "name": "stderr",
     "output_type": "stream",
     "text": [
      " 31%|███       | 307/1000 [01:36<06:48,  1.70it/s]"
     ]
    },
    {
     "name": "stdout",
     "output_type": "stream",
     "text": [
      "num2 more : tmp_data_arr : (100, 9858) || vec_arr : (30700, 9858)\n",
      "num2 : (100, 9858) || dim : 2\n"
     ]
    },
    {
     "name": "stderr",
     "output_type": "stream",
     "text": [
      " 31%|███       | 308/1000 [01:37<06:53,  1.67it/s]"
     ]
    },
    {
     "name": "stdout",
     "output_type": "stream",
     "text": [
      "num2 more : tmp_data_arr : (100, 9858) || vec_arr : (30800, 9858)\n",
      "num2 : (100, 9858) || dim : 2\n"
     ]
    },
    {
     "name": "stderr",
     "output_type": "stream",
     "text": [
      " 31%|███       | 309/1000 [01:38<07:03,  1.63it/s]"
     ]
    },
    {
     "name": "stdout",
     "output_type": "stream",
     "text": [
      "num2 more : tmp_data_arr : (100, 9858) || vec_arr : (30900, 9858)\n",
      "num2 : (100, 9858) || dim : 2\n"
     ]
    },
    {
     "name": "stderr",
     "output_type": "stream",
     "text": [
      " 31%|███       | 310/1000 [01:38<07:01,  1.64it/s]"
     ]
    },
    {
     "name": "stdout",
     "output_type": "stream",
     "text": [
      "num2 more : tmp_data_arr : (100, 9858) || vec_arr : (31000, 9858)\n",
      "num2 : (100, 9858) || dim : 2\n"
     ]
    },
    {
     "name": "stderr",
     "output_type": "stream",
     "text": [
      " 31%|███       | 311/1000 [01:39<07:08,  1.61it/s]"
     ]
    },
    {
     "name": "stdout",
     "output_type": "stream",
     "text": [
      "num2 more : tmp_data_arr : (100, 9858) || vec_arr : (31100, 9858)\n",
      "num2 : (100, 9858) || dim : 2\n"
     ]
    },
    {
     "name": "stderr",
     "output_type": "stream",
     "text": [
      " 31%|███       | 312/1000 [01:40<07:06,  1.61it/s]"
     ]
    },
    {
     "name": "stdout",
     "output_type": "stream",
     "text": [
      "num2 more : tmp_data_arr : (100, 9858) || vec_arr : (31200, 9858)\n",
      "num2 : (100, 9858) || dim : 2\n"
     ]
    },
    {
     "name": "stderr",
     "output_type": "stream",
     "text": [
      " 31%|███▏      | 313/1000 [01:40<07:07,  1.61it/s]"
     ]
    },
    {
     "name": "stdout",
     "output_type": "stream",
     "text": [
      "num2 more : tmp_data_arr : (100, 9858) || vec_arr : (31300, 9858)\n",
      "num2 : (100, 9858) || dim : 2\n"
     ]
    },
    {
     "name": "stderr",
     "output_type": "stream",
     "text": [
      " 31%|███▏      | 314/1000 [01:41<07:06,  1.61it/s]"
     ]
    },
    {
     "name": "stdout",
     "output_type": "stream",
     "text": [
      "num2 more : tmp_data_arr : (100, 9858) || vec_arr : (31400, 9858)\n",
      "num2 : (100, 9858) || dim : 2\n"
     ]
    },
    {
     "name": "stderr",
     "output_type": "stream",
     "text": [
      " 32%|███▏      | 315/1000 [01:42<07:07,  1.60it/s]"
     ]
    },
    {
     "name": "stdout",
     "output_type": "stream",
     "text": [
      "num2 more : tmp_data_arr : (100, 9858) || vec_arr : (31500, 9858)\n",
      "num2 : (100, 9858) || dim : 2\n"
     ]
    },
    {
     "name": "stderr",
     "output_type": "stream",
     "text": [
      " 32%|███▏      | 316/1000 [01:42<07:06,  1.60it/s]"
     ]
    },
    {
     "name": "stdout",
     "output_type": "stream",
     "text": [
      "num2 more : tmp_data_arr : (100, 9858) || vec_arr : (31600, 9858)\n",
      "num2 : (100, 9858) || dim : 2\n"
     ]
    },
    {
     "name": "stderr",
     "output_type": "stream",
     "text": [
      " 32%|███▏      | 317/1000 [01:43<07:13,  1.58it/s]"
     ]
    },
    {
     "name": "stdout",
     "output_type": "stream",
     "text": [
      "num2 more : tmp_data_arr : (100, 9858) || vec_arr : (31700, 9858)\n",
      "num2 : (100, 9858) || dim : 2\n"
     ]
    },
    {
     "name": "stderr",
     "output_type": "stream",
     "text": [
      " 32%|███▏      | 318/1000 [01:43<07:02,  1.61it/s]"
     ]
    },
    {
     "name": "stdout",
     "output_type": "stream",
     "text": [
      "num2 more : tmp_data_arr : (100, 9858) || vec_arr : (31800, 9858)\n",
      "num2 : (100, 9858) || dim : 2\n"
     ]
    },
    {
     "name": "stderr",
     "output_type": "stream",
     "text": [
      " 32%|███▏      | 319/1000 [01:44<06:58,  1.63it/s]"
     ]
    },
    {
     "name": "stdout",
     "output_type": "stream",
     "text": [
      "num2 more : tmp_data_arr : (100, 9858) || vec_arr : (31900, 9858)\n",
      "num2 : (100, 9858) || dim : 2\n"
     ]
    },
    {
     "name": "stderr",
     "output_type": "stream",
     "text": [
      " 32%|███▏      | 320/1000 [01:45<07:04,  1.60it/s]"
     ]
    },
    {
     "name": "stdout",
     "output_type": "stream",
     "text": [
      "num2 more : tmp_data_arr : (100, 9858) || vec_arr : (32000, 9858)\n",
      "num2 : (100, 9858) || dim : 2\n"
     ]
    },
    {
     "name": "stderr",
     "output_type": "stream",
     "text": [
      " 32%|███▏      | 321/1000 [01:45<07:07,  1.59it/s]"
     ]
    },
    {
     "name": "stdout",
     "output_type": "stream",
     "text": [
      "num2 more : tmp_data_arr : (100, 9858) || vec_arr : (32100, 9858)\n",
      "num2 : (100, 9858) || dim : 2\n"
     ]
    },
    {
     "name": "stderr",
     "output_type": "stream",
     "text": [
      " 32%|███▏      | 322/1000 [01:46<07:15,  1.56it/s]"
     ]
    },
    {
     "name": "stdout",
     "output_type": "stream",
     "text": [
      "num2 more : tmp_data_arr : (100, 9858) || vec_arr : (32200, 9858)\n",
      "num2 : (100, 9858) || dim : 2\n"
     ]
    },
    {
     "name": "stderr",
     "output_type": "stream",
     "text": [
      " 32%|███▏      | 323/1000 [01:47<07:18,  1.54it/s]"
     ]
    },
    {
     "name": "stdout",
     "output_type": "stream",
     "text": [
      "num2 more : tmp_data_arr : (100, 9858) || vec_arr : (32300, 9858)\n",
      "num2 : (100, 9858) || dim : 2\n"
     ]
    },
    {
     "name": "stderr",
     "output_type": "stream",
     "text": [
      " 32%|███▏      | 324/1000 [01:47<07:17,  1.54it/s]"
     ]
    },
    {
     "name": "stdout",
     "output_type": "stream",
     "text": [
      "num2 more : tmp_data_arr : (100, 9858) || vec_arr : (32400, 9858)\n",
      "num2 : (100, 9858) || dim : 2\n"
     ]
    },
    {
     "name": "stderr",
     "output_type": "stream",
     "text": [
      " 32%|███▎      | 325/1000 [01:48<07:13,  1.56it/s]"
     ]
    },
    {
     "name": "stdout",
     "output_type": "stream",
     "text": [
      "num2 more : tmp_data_arr : (100, 9858) || vec_arr : (32500, 9858)\n",
      "num2 : (100, 9858) || dim : 2\n"
     ]
    },
    {
     "name": "stderr",
     "output_type": "stream",
     "text": [
      " 33%|███▎      | 326/1000 [01:49<07:19,  1.53it/s]"
     ]
    },
    {
     "name": "stdout",
     "output_type": "stream",
     "text": [
      "num2 more : tmp_data_arr : (100, 9858) || vec_arr : (32600, 9858)\n",
      "num2 : (100, 9858) || dim : 2\n"
     ]
    },
    {
     "name": "stderr",
     "output_type": "stream",
     "text": [
      " 33%|███▎      | 327/1000 [01:49<07:16,  1.54it/s]"
     ]
    },
    {
     "name": "stdout",
     "output_type": "stream",
     "text": [
      "num2 more : tmp_data_arr : (100, 9858) || vec_arr : (32700, 9858)\n",
      "num2 : (100, 9858) || dim : 2\n"
     ]
    },
    {
     "name": "stderr",
     "output_type": "stream",
     "text": [
      " 33%|███▎      | 328/1000 [01:50<07:13,  1.55it/s]"
     ]
    },
    {
     "name": "stdout",
     "output_type": "stream",
     "text": [
      "num2 more : tmp_data_arr : (100, 9858) || vec_arr : (32800, 9858)\n",
      "num2 : (100, 9858) || dim : 2\n"
     ]
    },
    {
     "name": "stderr",
     "output_type": "stream",
     "text": [
      " 33%|███▎      | 329/1000 [01:50<07:11,  1.56it/s]"
     ]
    },
    {
     "name": "stdout",
     "output_type": "stream",
     "text": [
      "num2 more : tmp_data_arr : (100, 9858) || vec_arr : (32900, 9858)\n",
      "num2 : (100, 9858) || dim : 2\n"
     ]
    },
    {
     "name": "stderr",
     "output_type": "stream",
     "text": [
      " 33%|███▎      | 330/1000 [01:51<07:17,  1.53it/s]"
     ]
    },
    {
     "name": "stdout",
     "output_type": "stream",
     "text": [
      "num2 more : tmp_data_arr : (100, 9858) || vec_arr : (33000, 9858)\n",
      "num2 : (100, 9858) || dim : 2\n"
     ]
    },
    {
     "name": "stderr",
     "output_type": "stream",
     "text": [
      " 33%|███▎      | 331/1000 [01:52<07:17,  1.53it/s]"
     ]
    },
    {
     "name": "stdout",
     "output_type": "stream",
     "text": [
      "num2 more : tmp_data_arr : (100, 9858) || vec_arr : (33100, 9858)\n",
      "num2 : (100, 9858) || dim : 2\n"
     ]
    },
    {
     "name": "stderr",
     "output_type": "stream",
     "text": [
      " 33%|███▎      | 332/1000 [01:52<07:19,  1.52it/s]"
     ]
    },
    {
     "name": "stdout",
     "output_type": "stream",
     "text": [
      "num2 more : tmp_data_arr : (100, 9858) || vec_arr : (33200, 9858)\n",
      "num2 : (100, 9858) || dim : 2\n"
     ]
    },
    {
     "name": "stderr",
     "output_type": "stream",
     "text": [
      " 33%|███▎      | 333/1000 [01:53<07:16,  1.53it/s]"
     ]
    },
    {
     "name": "stdout",
     "output_type": "stream",
     "text": [
      "num2 more : tmp_data_arr : (100, 9858) || vec_arr : (33300, 9858)\n",
      "num2 : (100, 9858) || dim : 2\n"
     ]
    },
    {
     "name": "stderr",
     "output_type": "stream",
     "text": [
      " 33%|███▎      | 334/1000 [01:54<07:21,  1.51it/s]"
     ]
    },
    {
     "name": "stdout",
     "output_type": "stream",
     "text": [
      "num2 more : tmp_data_arr : (100, 9858) || vec_arr : (33400, 9858)\n",
      "num2 : (100, 9858) || dim : 2\n"
     ]
    },
    {
     "name": "stderr",
     "output_type": "stream",
     "text": [
      " 34%|███▎      | 335/1000 [01:54<07:18,  1.52it/s]"
     ]
    },
    {
     "name": "stdout",
     "output_type": "stream",
     "text": [
      "num2 more : tmp_data_arr : (100, 9858) || vec_arr : (33500, 9858)\n",
      "num2 : (100, 9858) || dim : 2\n"
     ]
    },
    {
     "name": "stderr",
     "output_type": "stream",
     "text": [
      " 34%|███▎      | 336/1000 [01:55<07:18,  1.51it/s]"
     ]
    },
    {
     "name": "stdout",
     "output_type": "stream",
     "text": [
      "num2 more : tmp_data_arr : (100, 9858) || vec_arr : (33600, 9858)\n",
      "num2 : (100, 9858) || dim : 2\n"
     ]
    },
    {
     "name": "stderr",
     "output_type": "stream",
     "text": [
      " 34%|███▎      | 337/1000 [01:56<07:16,  1.52it/s]"
     ]
    },
    {
     "name": "stdout",
     "output_type": "stream",
     "text": [
      "num2 more : tmp_data_arr : (100, 9858) || vec_arr : (33700, 9858)\n",
      "num2 : (100, 9858) || dim : 2\n"
     ]
    },
    {
     "name": "stderr",
     "output_type": "stream",
     "text": [
      " 34%|███▍      | 338/1000 [01:56<07:16,  1.52it/s]"
     ]
    },
    {
     "name": "stdout",
     "output_type": "stream",
     "text": [
      "num2 more : tmp_data_arr : (100, 9858) || vec_arr : (33800, 9858)\n",
      "num2 : (100, 9858) || dim : 2\n"
     ]
    },
    {
     "name": "stderr",
     "output_type": "stream",
     "text": [
      " 34%|███▍      | 339/1000 [01:57<07:16,  1.51it/s]"
     ]
    },
    {
     "name": "stdout",
     "output_type": "stream",
     "text": [
      "num2 more : tmp_data_arr : (100, 9858) || vec_arr : (33900, 9858)\n",
      "num2 : (100, 9858) || dim : 2\n"
     ]
    },
    {
     "name": "stderr",
     "output_type": "stream",
     "text": [
      " 34%|███▍      | 340/1000 [01:58<07:17,  1.51it/s]"
     ]
    },
    {
     "name": "stdout",
     "output_type": "stream",
     "text": [
      "num2 more : tmp_data_arr : (100, 9858) || vec_arr : (34000, 9858)\n",
      "num2 : (100, 9858) || dim : 2\n"
     ]
    },
    {
     "name": "stderr",
     "output_type": "stream",
     "text": [
      " 34%|███▍      | 341/1000 [01:58<07:16,  1.51it/s]"
     ]
    },
    {
     "name": "stdout",
     "output_type": "stream",
     "text": [
      "num2 more : tmp_data_arr : (100, 9858) || vec_arr : (34100, 9858)\n",
      "num2 : (100, 9858) || dim : 2\n"
     ]
    },
    {
     "name": "stderr",
     "output_type": "stream",
     "text": [
      " 34%|███▍      | 342/1000 [01:59<07:21,  1.49it/s]"
     ]
    },
    {
     "name": "stdout",
     "output_type": "stream",
     "text": [
      "num2 more : tmp_data_arr : (100, 9858) || vec_arr : (34200, 9858)\n",
      "num2 : (100, 9858) || dim : 2\n"
     ]
    },
    {
     "name": "stderr",
     "output_type": "stream",
     "text": [
      " 34%|███▍      | 343/1000 [02:00<07:18,  1.50it/s]"
     ]
    },
    {
     "name": "stdout",
     "output_type": "stream",
     "text": [
      "num2 more : tmp_data_arr : (100, 9858) || vec_arr : (34300, 9858)\n",
      "num2 : (100, 9858) || dim : 2\n"
     ]
    },
    {
     "name": "stderr",
     "output_type": "stream",
     "text": [
      " 34%|███▍      | 344/1000 [02:00<07:24,  1.48it/s]"
     ]
    },
    {
     "name": "stdout",
     "output_type": "stream",
     "text": [
      "num2 more : tmp_data_arr : (100, 9858) || vec_arr : (34400, 9858)\n",
      "num2 : (100, 9858) || dim : 2\n"
     ]
    },
    {
     "name": "stderr",
     "output_type": "stream",
     "text": [
      " 34%|███▍      | 345/1000 [02:01<07:30,  1.45it/s]"
     ]
    },
    {
     "name": "stdout",
     "output_type": "stream",
     "text": [
      "num2 more : tmp_data_arr : (100, 9858) || vec_arr : (34500, 9858)\n",
      "num2 : (100, 9858) || dim : 2\n"
     ]
    },
    {
     "name": "stderr",
     "output_type": "stream",
     "text": [
      " 35%|███▍      | 346/1000 [02:02<07:26,  1.46it/s]"
     ]
    },
    {
     "name": "stdout",
     "output_type": "stream",
     "text": [
      "num2 more : tmp_data_arr : (100, 9858) || vec_arr : (34600, 9858)\n",
      "num2 : (100, 9858) || dim : 2\n"
     ]
    },
    {
     "name": "stderr",
     "output_type": "stream",
     "text": [
      " 35%|███▍      | 347/1000 [02:03<07:32,  1.44it/s]"
     ]
    },
    {
     "name": "stdout",
     "output_type": "stream",
     "text": [
      "num2 more : tmp_data_arr : (100, 9858) || vec_arr : (34700, 9858)\n",
      "num2 : (100, 9858) || dim : 2\n"
     ]
    },
    {
     "name": "stderr",
     "output_type": "stream",
     "text": [
      " 35%|███▍      | 348/1000 [02:03<07:35,  1.43it/s]"
     ]
    },
    {
     "name": "stdout",
     "output_type": "stream",
     "text": [
      "num2 more : tmp_data_arr : (100, 9858) || vec_arr : (34800, 9858)\n",
      "num2 : (100, 9858) || dim : 2\n"
     ]
    },
    {
     "name": "stderr",
     "output_type": "stream",
     "text": [
      " 35%|███▍      | 349/1000 [02:04<07:33,  1.43it/s]"
     ]
    },
    {
     "name": "stdout",
     "output_type": "stream",
     "text": [
      "num2 more : tmp_data_arr : (100, 9858) || vec_arr : (34900, 9858)\n",
      "num2 : (100, 9858) || dim : 2\n"
     ]
    },
    {
     "name": "stderr",
     "output_type": "stream",
     "text": [
      " 35%|███▌      | 350/1000 [02:05<07:29,  1.44it/s]"
     ]
    },
    {
     "name": "stdout",
     "output_type": "stream",
     "text": [
      "num2 more : tmp_data_arr : (100, 9858) || vec_arr : (35000, 9858)\n",
      "num2 : (100, 9858) || dim : 2\n"
     ]
    },
    {
     "name": "stderr",
     "output_type": "stream",
     "text": [
      " 35%|███▌      | 351/1000 [02:05<07:30,  1.44it/s]"
     ]
    },
    {
     "name": "stdout",
     "output_type": "stream",
     "text": [
      "num2 more : tmp_data_arr : (100, 9858) || vec_arr : (35100, 9858)\n",
      "num2 : (100, 9858) || dim : 2\n"
     ]
    },
    {
     "name": "stderr",
     "output_type": "stream",
     "text": [
      " 35%|███▌      | 352/1000 [02:06<07:31,  1.43it/s]"
     ]
    },
    {
     "name": "stdout",
     "output_type": "stream",
     "text": [
      "num2 more : tmp_data_arr : (100, 9858) || vec_arr : (35200, 9858)\n",
      "num2 : (100, 9858) || dim : 2\n"
     ]
    },
    {
     "name": "stderr",
     "output_type": "stream",
     "text": [
      " 35%|███▌      | 353/1000 [02:07<07:30,  1.44it/s]"
     ]
    },
    {
     "name": "stdout",
     "output_type": "stream",
     "text": [
      "num2 more : tmp_data_arr : (100, 9858) || vec_arr : (35300, 9858)\n",
      "num2 : (100, 9858) || dim : 2\n"
     ]
    },
    {
     "name": "stderr",
     "output_type": "stream",
     "text": [
      " 35%|███▌      | 354/1000 [02:07<07:34,  1.42it/s]"
     ]
    },
    {
     "name": "stdout",
     "output_type": "stream",
     "text": [
      "num2 more : tmp_data_arr : (100, 9858) || vec_arr : (35400, 9858)\n",
      "num2 : (100, 9858) || dim : 2\n"
     ]
    },
    {
     "name": "stderr",
     "output_type": "stream",
     "text": [
      " 36%|███▌      | 355/1000 [02:08<07:32,  1.43it/s]"
     ]
    },
    {
     "name": "stdout",
     "output_type": "stream",
     "text": [
      "num2 more : tmp_data_arr : (100, 9858) || vec_arr : (35500, 9858)\n",
      "num2 : (100, 9858) || dim : 2\n"
     ]
    },
    {
     "name": "stderr",
     "output_type": "stream",
     "text": [
      " 36%|███▌      | 356/1000 [02:09<07:31,  1.42it/s]"
     ]
    },
    {
     "name": "stdout",
     "output_type": "stream",
     "text": [
      "num2 more : tmp_data_arr : (100, 9858) || vec_arr : (35600, 9858)\n",
      "num2 : (100, 9858) || dim : 2\n"
     ]
    },
    {
     "name": "stderr",
     "output_type": "stream",
     "text": [
      " 36%|███▌      | 357/1000 [02:10<07:29,  1.43it/s]"
     ]
    },
    {
     "name": "stdout",
     "output_type": "stream",
     "text": [
      "num2 more : tmp_data_arr : (100, 9858) || vec_arr : (35700, 9858)\n",
      "num2 : (100, 9858) || dim : 2\n"
     ]
    },
    {
     "name": "stderr",
     "output_type": "stream",
     "text": [
      " 36%|███▌      | 358/1000 [02:10<07:31,  1.42it/s]"
     ]
    },
    {
     "name": "stdout",
     "output_type": "stream",
     "text": [
      "num2 more : tmp_data_arr : (100, 9858) || vec_arr : (35800, 9858)\n",
      "num2 : (100, 9858) || dim : 2\n"
     ]
    },
    {
     "name": "stderr",
     "output_type": "stream",
     "text": [
      " 36%|███▌      | 359/1000 [02:11<07:30,  1.42it/s]"
     ]
    },
    {
     "name": "stdout",
     "output_type": "stream",
     "text": [
      "num2 more : tmp_data_arr : (100, 9858) || vec_arr : (35900, 9858)\n",
      "num2 : (100, 9858) || dim : 2\n"
     ]
    },
    {
     "name": "stderr",
     "output_type": "stream",
     "text": [
      " 36%|███▌      | 360/1000 [02:12<07:30,  1.42it/s]"
     ]
    },
    {
     "name": "stdout",
     "output_type": "stream",
     "text": [
      "num2 more : tmp_data_arr : (100, 9858) || vec_arr : (36000, 9858)\n",
      "num2 : (100, 9858) || dim : 2\n"
     ]
    },
    {
     "name": "stderr",
     "output_type": "stream",
     "text": [
      " 36%|███▌      | 361/1000 [02:12<07:30,  1.42it/s]"
     ]
    },
    {
     "name": "stdout",
     "output_type": "stream",
     "text": [
      "num2 more : tmp_data_arr : (100, 9858) || vec_arr : (36100, 9858)\n",
      "num2 : (100, 9858) || dim : 2\n"
     ]
    },
    {
     "name": "stderr",
     "output_type": "stream",
     "text": [
      " 36%|███▌      | 362/1000 [02:13<07:32,  1.41it/s]"
     ]
    },
    {
     "name": "stdout",
     "output_type": "stream",
     "text": [
      "num2 more : tmp_data_arr : (100, 9858) || vec_arr : (36200, 9858)\n",
      "num2 : (100, 9858) || dim : 2\n"
     ]
    },
    {
     "name": "stderr",
     "output_type": "stream",
     "text": [
      " 36%|███▋      | 363/1000 [02:14<07:38,  1.39it/s]"
     ]
    },
    {
     "name": "stdout",
     "output_type": "stream",
     "text": [
      "num2 more : tmp_data_arr : (100, 9858) || vec_arr : (36300, 9858)\n",
      "num2 : (100, 9858) || dim : 2\n"
     ]
    },
    {
     "name": "stderr",
     "output_type": "stream",
     "text": [
      " 36%|███▋      | 364/1000 [02:15<07:38,  1.39it/s]"
     ]
    },
    {
     "name": "stdout",
     "output_type": "stream",
     "text": [
      "num2 more : tmp_data_arr : (100, 9858) || vec_arr : (36400, 9858)\n",
      "num2 : (100, 9858) || dim : 2\n"
     ]
    },
    {
     "name": "stderr",
     "output_type": "stream",
     "text": [
      " 36%|███▋      | 365/1000 [02:15<07:39,  1.38it/s]"
     ]
    },
    {
     "name": "stdout",
     "output_type": "stream",
     "text": [
      "num2 more : tmp_data_arr : (100, 9858) || vec_arr : (36500, 9858)\n",
      "num2 : (100, 9858) || dim : 2\n"
     ]
    },
    {
     "name": "stderr",
     "output_type": "stream",
     "text": [
      " 37%|███▋      | 366/1000 [02:16<07:39,  1.38it/s]"
     ]
    },
    {
     "name": "stdout",
     "output_type": "stream",
     "text": [
      "num2 more : tmp_data_arr : (100, 9858) || vec_arr : (36600, 9858)\n",
      "num2 : (100, 9858) || dim : 2\n"
     ]
    },
    {
     "name": "stderr",
     "output_type": "stream",
     "text": [
      " 37%|███▋      | 367/1000 [02:17<07:40,  1.38it/s]"
     ]
    },
    {
     "name": "stdout",
     "output_type": "stream",
     "text": [
      "num2 more : tmp_data_arr : (100, 9858) || vec_arr : (36700, 9858)\n",
      "num2 : (100, 9858) || dim : 2\n"
     ]
    },
    {
     "name": "stderr",
     "output_type": "stream",
     "text": [
      " 37%|███▋      | 368/1000 [02:17<07:38,  1.38it/s]"
     ]
    },
    {
     "name": "stdout",
     "output_type": "stream",
     "text": [
      "num2 more : tmp_data_arr : (100, 9858) || vec_arr : (36800, 9858)\n",
      "num2 : (100, 9858) || dim : 2\n"
     ]
    },
    {
     "name": "stderr",
     "output_type": "stream",
     "text": [
      " 37%|███▋      | 369/1000 [02:18<07:36,  1.38it/s]"
     ]
    },
    {
     "name": "stdout",
     "output_type": "stream",
     "text": [
      "num2 more : tmp_data_arr : (100, 9858) || vec_arr : (36900, 9858)\n",
      "num2 : (100, 9858) || dim : 2\n"
     ]
    },
    {
     "name": "stderr",
     "output_type": "stream",
     "text": [
      " 37%|███▋      | 370/1000 [02:19<07:23,  1.42it/s]"
     ]
    },
    {
     "name": "stdout",
     "output_type": "stream",
     "text": [
      "num2 more : tmp_data_arr : (100, 9858) || vec_arr : (37000, 9858)\n",
      "num2 : (100, 9858) || dim : 2\n"
     ]
    },
    {
     "name": "stderr",
     "output_type": "stream",
     "text": [
      " 37%|███▋      | 371/1000 [02:20<07:24,  1.42it/s]"
     ]
    },
    {
     "name": "stdout",
     "output_type": "stream",
     "text": [
      "num2 more : tmp_data_arr : (100, 9858) || vec_arr : (37100, 9858)\n",
      "num2 : (100, 9858) || dim : 2\n"
     ]
    },
    {
     "name": "stderr",
     "output_type": "stream",
     "text": [
      " 37%|███▋      | 372/1000 [02:20<07:19,  1.43it/s]"
     ]
    },
    {
     "name": "stdout",
     "output_type": "stream",
     "text": [
      "num2 more : tmp_data_arr : (100, 9858) || vec_arr : (37200, 9858)\n",
      "num2 : (100, 9858) || dim : 2\n"
     ]
    },
    {
     "name": "stderr",
     "output_type": "stream",
     "text": [
      " 37%|███▋      | 373/1000 [02:21<07:15,  1.44it/s]"
     ]
    },
    {
     "name": "stdout",
     "output_type": "stream",
     "text": [
      "num2 more : tmp_data_arr : (100, 9858) || vec_arr : (37300, 9858)\n",
      "num2 : (100, 9858) || dim : 2\n"
     ]
    },
    {
     "name": "stderr",
     "output_type": "stream",
     "text": [
      " 37%|███▋      | 374/1000 [02:22<07:11,  1.45it/s]"
     ]
    },
    {
     "name": "stdout",
     "output_type": "stream",
     "text": [
      "num2 more : tmp_data_arr : (100, 9858) || vec_arr : (37400, 9858)\n",
      "num2 : (100, 9858) || dim : 2\n"
     ]
    },
    {
     "name": "stderr",
     "output_type": "stream",
     "text": [
      " 38%|███▊      | 375/1000 [02:22<07:06,  1.46it/s]"
     ]
    },
    {
     "name": "stdout",
     "output_type": "stream",
     "text": [
      "num2 more : tmp_data_arr : (100, 9858) || vec_arr : (37500, 9858)\n",
      "num2 : (100, 9858) || dim : 2\n"
     ]
    },
    {
     "name": "stderr",
     "output_type": "stream",
     "text": [
      " 38%|███▊      | 376/1000 [02:23<06:59,  1.49it/s]"
     ]
    },
    {
     "name": "stdout",
     "output_type": "stream",
     "text": [
      "num2 more : tmp_data_arr : (100, 9858) || vec_arr : (37600, 9858)\n",
      "num2 : (100, 9858) || dim : 2\n"
     ]
    },
    {
     "name": "stderr",
     "output_type": "stream",
     "text": [
      " 38%|███▊      | 377/1000 [02:24<07:03,  1.47it/s]"
     ]
    },
    {
     "name": "stdout",
     "output_type": "stream",
     "text": [
      "num2 more : tmp_data_arr : (100, 9858) || vec_arr : (37700, 9858)\n",
      "num2 : (100, 9858) || dim : 2\n"
     ]
    },
    {
     "name": "stderr",
     "output_type": "stream",
     "text": [
      " 38%|███▊      | 378/1000 [02:24<07:05,  1.46it/s]"
     ]
    },
    {
     "name": "stdout",
     "output_type": "stream",
     "text": [
      "num2 more : tmp_data_arr : (100, 9858) || vec_arr : (37800, 9858)\n",
      "num2 : (100, 9858) || dim : 2\n"
     ]
    },
    {
     "name": "stderr",
     "output_type": "stream",
     "text": [
      " 38%|███▊      | 379/1000 [02:25<07:22,  1.40it/s]"
     ]
    },
    {
     "name": "stdout",
     "output_type": "stream",
     "text": [
      "num2 more : tmp_data_arr : (100, 9858) || vec_arr : (37900, 9858)\n",
      "num2 : (100, 9858) || dim : 2\n"
     ]
    },
    {
     "name": "stderr",
     "output_type": "stream",
     "text": [
      " 38%|███▊      | 380/1000 [02:26<07:31,  1.37it/s]"
     ]
    },
    {
     "name": "stdout",
     "output_type": "stream",
     "text": [
      "num2 more : tmp_data_arr : (100, 9858) || vec_arr : (38000, 9858)\n",
      "num2 : (100, 9858) || dim : 2\n"
     ]
    },
    {
     "name": "stderr",
     "output_type": "stream",
     "text": [
      " 38%|███▊      | 381/1000 [02:27<07:38,  1.35it/s]"
     ]
    },
    {
     "name": "stdout",
     "output_type": "stream",
     "text": [
      "num2 more : tmp_data_arr : (100, 9858) || vec_arr : (38100, 9858)\n",
      "num2 : (100, 9858) || dim : 2\n"
     ]
    },
    {
     "name": "stderr",
     "output_type": "stream",
     "text": [
      " 38%|███▊      | 382/1000 [02:27<07:47,  1.32it/s]"
     ]
    },
    {
     "name": "stdout",
     "output_type": "stream",
     "text": [
      "num2 more : tmp_data_arr : (100, 9858) || vec_arr : (38200, 9858)\n",
      "num2 : (100, 9858) || dim : 2\n"
     ]
    },
    {
     "name": "stderr",
     "output_type": "stream",
     "text": [
      " 38%|███▊      | 383/1000 [02:28<07:47,  1.32it/s]"
     ]
    },
    {
     "name": "stdout",
     "output_type": "stream",
     "text": [
      "num2 more : tmp_data_arr : (100, 9858) || vec_arr : (38300, 9858)\n",
      "num2 : (100, 9858) || dim : 2\n"
     ]
    },
    {
     "name": "stderr",
     "output_type": "stream",
     "text": [
      " 38%|███▊      | 384/1000 [02:29<07:45,  1.32it/s]"
     ]
    },
    {
     "name": "stdout",
     "output_type": "stream",
     "text": [
      "num2 more : tmp_data_arr : (100, 9858) || vec_arr : (38400, 9858)\n",
      "num2 : (100, 9858) || dim : 2\n"
     ]
    },
    {
     "name": "stderr",
     "output_type": "stream",
     "text": [
      " 38%|███▊      | 385/1000 [02:30<07:32,  1.36it/s]"
     ]
    },
    {
     "name": "stdout",
     "output_type": "stream",
     "text": [
      "num2 more : tmp_data_arr : (100, 9858) || vec_arr : (38500, 9858)\n",
      "num2 : (100, 9858) || dim : 2\n"
     ]
    },
    {
     "name": "stderr",
     "output_type": "stream",
     "text": [
      " 39%|███▊      | 386/1000 [02:30<07:30,  1.36it/s]"
     ]
    },
    {
     "name": "stdout",
     "output_type": "stream",
     "text": [
      "num2 more : tmp_data_arr : (100, 9858) || vec_arr : (38600, 9858)\n",
      "num2 : (100, 9858) || dim : 2\n"
     ]
    },
    {
     "name": "stderr",
     "output_type": "stream",
     "text": [
      " 39%|███▊      | 387/1000 [02:31<07:38,  1.34it/s]"
     ]
    },
    {
     "name": "stdout",
     "output_type": "stream",
     "text": [
      "num2 more : tmp_data_arr : (100, 9858) || vec_arr : (38700, 9858)\n",
      "num2 : (100, 9858) || dim : 2\n"
     ]
    },
    {
     "name": "stderr",
     "output_type": "stream",
     "text": [
      " 39%|███▉      | 388/1000 [02:32<07:33,  1.35it/s]"
     ]
    },
    {
     "name": "stdout",
     "output_type": "stream",
     "text": [
      "num2 more : tmp_data_arr : (100, 9858) || vec_arr : (38800, 9858)\n",
      "num2 : (100, 9858) || dim : 2\n"
     ]
    },
    {
     "name": "stderr",
     "output_type": "stream",
     "text": [
      " 39%|███▉      | 389/1000 [02:33<07:30,  1.36it/s]"
     ]
    },
    {
     "name": "stdout",
     "output_type": "stream",
     "text": [
      "num2 more : tmp_data_arr : (100, 9858) || vec_arr : (38900, 9858)\n",
      "num2 : (100, 9858) || dim : 2\n"
     ]
    },
    {
     "name": "stderr",
     "output_type": "stream",
     "text": [
      " 39%|███▉      | 390/1000 [02:33<07:28,  1.36it/s]"
     ]
    },
    {
     "name": "stdout",
     "output_type": "stream",
     "text": [
      "num2 more : tmp_data_arr : (100, 9858) || vec_arr : (39000, 9858)\n",
      "num2 : (100, 9858) || dim : 2\n"
     ]
    },
    {
     "name": "stderr",
     "output_type": "stream",
     "text": [
      " 39%|███▉      | 391/1000 [02:34<07:25,  1.37it/s]"
     ]
    },
    {
     "name": "stdout",
     "output_type": "stream",
     "text": [
      "num2 more : tmp_data_arr : (100, 9858) || vec_arr : (39100, 9858)\n",
      "num2 : (100, 9858) || dim : 2\n"
     ]
    },
    {
     "name": "stderr",
     "output_type": "stream",
     "text": [
      " 39%|███▉      | 392/1000 [02:35<07:35,  1.34it/s]"
     ]
    },
    {
     "name": "stdout",
     "output_type": "stream",
     "text": [
      "num2 more : tmp_data_arr : (100, 9858) || vec_arr : (39200, 9858)\n",
      "num2 : (100, 9858) || dim : 2\n"
     ]
    },
    {
     "name": "stderr",
     "output_type": "stream",
     "text": [
      " 39%|███▉      | 393/1000 [02:36<07:40,  1.32it/s]"
     ]
    },
    {
     "name": "stdout",
     "output_type": "stream",
     "text": [
      "num2 more : tmp_data_arr : (100, 9858) || vec_arr : (39300, 9858)\n",
      "num2 : (100, 9858) || dim : 2\n"
     ]
    },
    {
     "name": "stderr",
     "output_type": "stream",
     "text": [
      " 39%|███▉      | 394/1000 [02:36<07:43,  1.31it/s]"
     ]
    },
    {
     "name": "stdout",
     "output_type": "stream",
     "text": [
      "num2 more : tmp_data_arr : (100, 9858) || vec_arr : (39400, 9858)\n",
      "num2 : (100, 9858) || dim : 2\n"
     ]
    },
    {
     "name": "stderr",
     "output_type": "stream",
     "text": [
      " 40%|███▉      | 395/1000 [02:37<07:48,  1.29it/s]"
     ]
    },
    {
     "name": "stdout",
     "output_type": "stream",
     "text": [
      "num2 more : tmp_data_arr : (100, 9858) || vec_arr : (39500, 9858)\n",
      "num2 : (100, 9858) || dim : 2\n"
     ]
    },
    {
     "name": "stderr",
     "output_type": "stream",
     "text": [
      " 40%|███▉      | 396/1000 [02:38<07:52,  1.28it/s]"
     ]
    },
    {
     "name": "stdout",
     "output_type": "stream",
     "text": [
      "num2 more : tmp_data_arr : (100, 9858) || vec_arr : (39600, 9858)\n",
      "num2 : (100, 9858) || dim : 2\n"
     ]
    },
    {
     "name": "stderr",
     "output_type": "stream",
     "text": [
      " 40%|███▉      | 397/1000 [02:39<07:50,  1.28it/s]"
     ]
    },
    {
     "name": "stdout",
     "output_type": "stream",
     "text": [
      "num2 more : tmp_data_arr : (100, 9858) || vec_arr : (39700, 9858)\n",
      "num2 : (100, 9858) || dim : 2\n"
     ]
    },
    {
     "name": "stderr",
     "output_type": "stream",
     "text": [
      " 40%|███▉      | 398/1000 [02:40<07:51,  1.28it/s]"
     ]
    },
    {
     "name": "stdout",
     "output_type": "stream",
     "text": [
      "num2 more : tmp_data_arr : (100, 9858) || vec_arr : (39800, 9858)\n",
      "num2 : (100, 9858) || dim : 2\n"
     ]
    },
    {
     "name": "stderr",
     "output_type": "stream",
     "text": [
      " 40%|███▉      | 399/1000 [02:40<07:49,  1.28it/s]"
     ]
    },
    {
     "name": "stdout",
     "output_type": "stream",
     "text": [
      "num2 more : tmp_data_arr : (100, 9858) || vec_arr : (39900, 9858)\n",
      "num2 : (100, 9858) || dim : 2\n"
     ]
    },
    {
     "name": "stderr",
     "output_type": "stream",
     "text": [
      " 40%|████      | 400/1000 [02:41<07:53,  1.27it/s]"
     ]
    },
    {
     "name": "stdout",
     "output_type": "stream",
     "text": [
      "num2 more : tmp_data_arr : (100, 9858) || vec_arr : (40000, 9858)\n",
      "num2 : (100, 9858) || dim : 2\n"
     ]
    },
    {
     "name": "stderr",
     "output_type": "stream",
     "text": [
      " 40%|████      | 401/1000 [02:42<07:51,  1.27it/s]"
     ]
    },
    {
     "name": "stdout",
     "output_type": "stream",
     "text": [
      "num2 more : tmp_data_arr : (100, 9858) || vec_arr : (40100, 9858)\n",
      "num2 : (100, 9858) || dim : 2\n"
     ]
    },
    {
     "name": "stderr",
     "output_type": "stream",
     "text": [
      " 40%|████      | 402/1000 [02:43<07:53,  1.26it/s]"
     ]
    },
    {
     "name": "stdout",
     "output_type": "stream",
     "text": [
      "num2 more : tmp_data_arr : (100, 9858) || vec_arr : (40200, 9858)\n",
      "num2 : (100, 9858) || dim : 2\n"
     ]
    },
    {
     "name": "stderr",
     "output_type": "stream",
     "text": [
      " 40%|████      | 403/1000 [02:44<07:55,  1.25it/s]"
     ]
    },
    {
     "name": "stdout",
     "output_type": "stream",
     "text": [
      "num2 more : tmp_data_arr : (100, 9858) || vec_arr : (40300, 9858)\n",
      "num2 : (100, 9858) || dim : 2\n"
     ]
    },
    {
     "name": "stderr",
     "output_type": "stream",
     "text": [
      " 40%|████      | 404/1000 [02:44<07:55,  1.25it/s]"
     ]
    },
    {
     "name": "stdout",
     "output_type": "stream",
     "text": [
      "num2 more : tmp_data_arr : (100, 9858) || vec_arr : (40400, 9858)\n",
      "num2 : (100, 9858) || dim : 2\n"
     ]
    },
    {
     "name": "stderr",
     "output_type": "stream",
     "text": [
      " 40%|████      | 405/1000 [02:45<07:58,  1.24it/s]"
     ]
    },
    {
     "name": "stdout",
     "output_type": "stream",
     "text": [
      "num2 more : tmp_data_arr : (100, 9858) || vec_arr : (40500, 9858)\n",
      "num2 : (100, 9858) || dim : 2\n"
     ]
    },
    {
     "name": "stderr",
     "output_type": "stream",
     "text": [
      " 41%|████      | 406/1000 [02:46<07:54,  1.25it/s]"
     ]
    },
    {
     "name": "stdout",
     "output_type": "stream",
     "text": [
      "num2 more : tmp_data_arr : (100, 9858) || vec_arr : (40600, 9858)\n",
      "num2 : (100, 9858) || dim : 2\n"
     ]
    },
    {
     "name": "stderr",
     "output_type": "stream",
     "text": [
      " 41%|████      | 407/1000 [02:47<07:47,  1.27it/s]"
     ]
    },
    {
     "name": "stdout",
     "output_type": "stream",
     "text": [
      "num2 more : tmp_data_arr : (100, 9858) || vec_arr : (40700, 9858)\n",
      "num2 : (100, 9858) || dim : 2\n"
     ]
    },
    {
     "name": "stderr",
     "output_type": "stream",
     "text": [
      " 41%|████      | 408/1000 [02:47<07:42,  1.28it/s]"
     ]
    },
    {
     "name": "stdout",
     "output_type": "stream",
     "text": [
      "num2 more : tmp_data_arr : (100, 9858) || vec_arr : (40800, 9858)\n",
      "num2 : (100, 9858) || dim : 2\n"
     ]
    },
    {
     "name": "stderr",
     "output_type": "stream",
     "text": [
      " 41%|████      | 409/1000 [02:48<07:49,  1.26it/s]"
     ]
    },
    {
     "name": "stdout",
     "output_type": "stream",
     "text": [
      "num2 more : tmp_data_arr : (100, 9858) || vec_arr : (40900, 9858)\n",
      "num2 : (100, 9858) || dim : 2\n"
     ]
    },
    {
     "name": "stderr",
     "output_type": "stream",
     "text": [
      " 41%|████      | 410/1000 [02:49<07:50,  1.25it/s]"
     ]
    },
    {
     "name": "stdout",
     "output_type": "stream",
     "text": [
      "num2 more : tmp_data_arr : (100, 9858) || vec_arr : (41000, 9858)\n",
      "num2 : (100, 9858) || dim : 2\n"
     ]
    },
    {
     "name": "stderr",
     "output_type": "stream",
     "text": [
      " 41%|████      | 411/1000 [02:50<07:50,  1.25it/s]"
     ]
    },
    {
     "name": "stdout",
     "output_type": "stream",
     "text": [
      "num2 more : tmp_data_arr : (100, 9858) || vec_arr : (41100, 9858)\n",
      "num2 : (100, 9858) || dim : 2\n"
     ]
    },
    {
     "name": "stderr",
     "output_type": "stream",
     "text": [
      " 41%|████      | 412/1000 [02:51<07:53,  1.24it/s]"
     ]
    },
    {
     "name": "stdout",
     "output_type": "stream",
     "text": [
      "num2 more : tmp_data_arr : (100, 9858) || vec_arr : (41200, 9858)\n",
      "num2 : (100, 9858) || dim : 2\n"
     ]
    },
    {
     "name": "stderr",
     "output_type": "stream",
     "text": [
      " 41%|████▏     | 413/1000 [02:52<07:54,  1.24it/s]"
     ]
    },
    {
     "name": "stdout",
     "output_type": "stream",
     "text": [
      "num2 more : tmp_data_arr : (100, 9858) || vec_arr : (41300, 9858)\n",
      "num2 : (100, 9858) || dim : 2\n"
     ]
    },
    {
     "name": "stderr",
     "output_type": "stream",
     "text": [
      " 41%|████▏     | 414/1000 [02:52<07:59,  1.22it/s]"
     ]
    },
    {
     "name": "stdout",
     "output_type": "stream",
     "text": [
      "num2 more : tmp_data_arr : (100, 9858) || vec_arr : (41400, 9858)\n",
      "num2 : (100, 9858) || dim : 2\n"
     ]
    },
    {
     "name": "stderr",
     "output_type": "stream",
     "text": [
      " 42%|████▏     | 415/1000 [02:53<08:01,  1.21it/s]"
     ]
    },
    {
     "name": "stdout",
     "output_type": "stream",
     "text": [
      "num2 more : tmp_data_arr : (100, 9858) || vec_arr : (41500, 9858)\n",
      "num2 : (100, 9858) || dim : 2\n"
     ]
    },
    {
     "name": "stderr",
     "output_type": "stream",
     "text": [
      " 42%|████▏     | 416/1000 [02:54<08:00,  1.21it/s]"
     ]
    },
    {
     "name": "stdout",
     "output_type": "stream",
     "text": [
      "num2 more : tmp_data_arr : (100, 9858) || vec_arr : (41600, 9858)\n",
      "num2 : (100, 9858) || dim : 2\n"
     ]
    },
    {
     "name": "stderr",
     "output_type": "stream",
     "text": [
      " 42%|████▏     | 417/1000 [02:55<07:55,  1.22it/s]"
     ]
    },
    {
     "name": "stdout",
     "output_type": "stream",
     "text": [
      "num2 more : tmp_data_arr : (100, 9858) || vec_arr : (41700, 9858)\n",
      "num2 : (100, 9858) || dim : 2\n"
     ]
    },
    {
     "name": "stderr",
     "output_type": "stream",
     "text": [
      " 42%|████▏     | 418/1000 [02:56<08:00,  1.21it/s]"
     ]
    },
    {
     "name": "stdout",
     "output_type": "stream",
     "text": [
      "num2 more : tmp_data_arr : (100, 9858) || vec_arr : (41800, 9858)\n",
      "num2 : (100, 9858) || dim : 2\n"
     ]
    },
    {
     "name": "stderr",
     "output_type": "stream",
     "text": [
      " 42%|████▏     | 419/1000 [02:56<07:56,  1.22it/s]"
     ]
    },
    {
     "name": "stdout",
     "output_type": "stream",
     "text": [
      "num2 more : tmp_data_arr : (100, 9858) || vec_arr : (41900, 9858)\n",
      "num2 : (100, 9858) || dim : 2\n"
     ]
    },
    {
     "name": "stderr",
     "output_type": "stream",
     "text": [
      " 42%|████▏     | 420/1000 [02:57<07:59,  1.21it/s]"
     ]
    },
    {
     "name": "stdout",
     "output_type": "stream",
     "text": [
      "num2 more : tmp_data_arr : (100, 9858) || vec_arr : (42000, 9858)\n",
      "num2 : (100, 9858) || dim : 2\n"
     ]
    },
    {
     "name": "stderr",
     "output_type": "stream",
     "text": [
      " 42%|████▏     | 421/1000 [02:58<08:01,  1.20it/s]"
     ]
    },
    {
     "name": "stdout",
     "output_type": "stream",
     "text": [
      "num2 more : tmp_data_arr : (100, 9858) || vec_arr : (42100, 9858)\n",
      "num2 : (100, 9858) || dim : 2\n"
     ]
    },
    {
     "name": "stderr",
     "output_type": "stream",
     "text": [
      " 42%|████▏     | 422/1000 [02:59<07:58,  1.21it/s]"
     ]
    },
    {
     "name": "stdout",
     "output_type": "stream",
     "text": [
      "num2 more : tmp_data_arr : (100, 9858) || vec_arr : (42200, 9858)\n",
      "num2 : (100, 9858) || dim : 2\n"
     ]
    },
    {
     "name": "stderr",
     "output_type": "stream",
     "text": [
      " 42%|████▏     | 423/1000 [03:00<08:03,  1.19it/s]"
     ]
    },
    {
     "name": "stdout",
     "output_type": "stream",
     "text": [
      "num2 more : tmp_data_arr : (100, 9858) || vec_arr : (42300, 9858)\n",
      "num2 : (100, 9858) || dim : 2\n"
     ]
    },
    {
     "name": "stderr",
     "output_type": "stream",
     "text": [
      " 42%|████▏     | 424/1000 [03:01<08:04,  1.19it/s]"
     ]
    },
    {
     "name": "stdout",
     "output_type": "stream",
     "text": [
      "num2 more : tmp_data_arr : (100, 9858) || vec_arr : (42400, 9858)\n",
      "num2 : (100, 9858) || dim : 2\n"
     ]
    },
    {
     "name": "stderr",
     "output_type": "stream",
     "text": [
      " 42%|████▎     | 425/1000 [03:02<08:02,  1.19it/s]"
     ]
    },
    {
     "name": "stdout",
     "output_type": "stream",
     "text": [
      "num2 more : tmp_data_arr : (100, 9858) || vec_arr : (42500, 9858)\n",
      "num2 : (100, 9858) || dim : 2\n"
     ]
    },
    {
     "name": "stderr",
     "output_type": "stream",
     "text": [
      " 43%|████▎     | 426/1000 [03:02<08:09,  1.17it/s]"
     ]
    },
    {
     "name": "stdout",
     "output_type": "stream",
     "text": [
      "num2 more : tmp_data_arr : (100, 9858) || vec_arr : (42600, 9858)\n",
      "num2 : (100, 9858) || dim : 2\n"
     ]
    },
    {
     "name": "stderr",
     "output_type": "stream",
     "text": [
      " 43%|████▎     | 427/1000 [03:03<08:06,  1.18it/s]"
     ]
    },
    {
     "name": "stdout",
     "output_type": "stream",
     "text": [
      "num2 more : tmp_data_arr : (100, 9858) || vec_arr : (42700, 9858)\n",
      "num2 : (100, 9858) || dim : 2\n"
     ]
    },
    {
     "name": "stderr",
     "output_type": "stream",
     "text": [
      " 43%|████▎     | 428/1000 [03:04<08:02,  1.18it/s]"
     ]
    },
    {
     "name": "stdout",
     "output_type": "stream",
     "text": [
      "num2 more : tmp_data_arr : (100, 9858) || vec_arr : (42800, 9858)\n",
      "num2 : (100, 9858) || dim : 2\n"
     ]
    },
    {
     "name": "stderr",
     "output_type": "stream",
     "text": [
      " 43%|████▎     | 429/1000 [03:05<08:06,  1.17it/s]"
     ]
    },
    {
     "name": "stdout",
     "output_type": "stream",
     "text": [
      "num2 more : tmp_data_arr : (100, 9858) || vec_arr : (42900, 9858)\n",
      "num2 : (100, 9858) || dim : 2\n"
     ]
    },
    {
     "name": "stderr",
     "output_type": "stream",
     "text": [
      " 43%|████▎     | 430/1000 [03:06<08:07,  1.17it/s]"
     ]
    },
    {
     "name": "stdout",
     "output_type": "stream",
     "text": [
      "num2 more : tmp_data_arr : (100, 9858) || vec_arr : (43000, 9858)\n",
      "num2 : (100, 9858) || dim : 2\n"
     ]
    },
    {
     "name": "stderr",
     "output_type": "stream",
     "text": [
      " 43%|████▎     | 431/1000 [03:07<08:07,  1.17it/s]"
     ]
    },
    {
     "name": "stdout",
     "output_type": "stream",
     "text": [
      "num2 more : tmp_data_arr : (100, 9858) || vec_arr : (43100, 9858)\n",
      "num2 : (100, 9858) || dim : 2\n"
     ]
    },
    {
     "name": "stderr",
     "output_type": "stream",
     "text": [
      " 43%|████▎     | 432/1000 [03:08<08:06,  1.17it/s]"
     ]
    },
    {
     "name": "stdout",
     "output_type": "stream",
     "text": [
      "num2 more : tmp_data_arr : (100, 9858) || vec_arr : (43200, 9858)\n",
      "num2 : (100, 9858) || dim : 2\n"
     ]
    },
    {
     "name": "stderr",
     "output_type": "stream",
     "text": [
      " 43%|████▎     | 433/1000 [03:08<08:08,  1.16it/s]"
     ]
    },
    {
     "name": "stdout",
     "output_type": "stream",
     "text": [
      "num2 more : tmp_data_arr : (100, 9858) || vec_arr : (43300, 9858)\n",
      "num2 : (100, 9858) || dim : 2\n"
     ]
    },
    {
     "name": "stderr",
     "output_type": "stream",
     "text": [
      " 43%|████▎     | 434/1000 [03:09<08:07,  1.16it/s]"
     ]
    },
    {
     "name": "stdout",
     "output_type": "stream",
     "text": [
      "num2 more : tmp_data_arr : (100, 9858) || vec_arr : (43400, 9858)\n",
      "num2 : (100, 9858) || dim : 2\n"
     ]
    },
    {
     "name": "stderr",
     "output_type": "stream",
     "text": [
      " 44%|████▎     | 435/1000 [03:10<08:06,  1.16it/s]"
     ]
    },
    {
     "name": "stdout",
     "output_type": "stream",
     "text": [
      "num2 more : tmp_data_arr : (100, 9858) || vec_arr : (43500, 9858)\n",
      "num2 : (100, 9858) || dim : 2\n"
     ]
    },
    {
     "name": "stderr",
     "output_type": "stream",
     "text": [
      " 44%|████▎     | 436/1000 [03:11<07:59,  1.18it/s]"
     ]
    },
    {
     "name": "stdout",
     "output_type": "stream",
     "text": [
      "num2 more : tmp_data_arr : (100, 9858) || vec_arr : (43600, 9858)\n",
      "num2 : (100, 9858) || dim : 2\n"
     ]
    },
    {
     "name": "stderr",
     "output_type": "stream",
     "text": [
      " 44%|████▎     | 437/1000 [03:12<08:06,  1.16it/s]"
     ]
    },
    {
     "name": "stdout",
     "output_type": "stream",
     "text": [
      "num2 more : tmp_data_arr : (100, 9858) || vec_arr : (43700, 9858)\n",
      "num2 : (100, 9858) || dim : 2\n"
     ]
    },
    {
     "name": "stderr",
     "output_type": "stream",
     "text": [
      " 44%|████▍     | 438/1000 [03:13<08:05,  1.16it/s]"
     ]
    },
    {
     "name": "stdout",
     "output_type": "stream",
     "text": [
      "num2 more : tmp_data_arr : (100, 9858) || vec_arr : (43800, 9858)\n",
      "num2 : (100, 9858) || dim : 2\n"
     ]
    },
    {
     "name": "stderr",
     "output_type": "stream",
     "text": [
      " 44%|████▍     | 439/1000 [03:14<08:06,  1.15it/s]"
     ]
    },
    {
     "name": "stdout",
     "output_type": "stream",
     "text": [
      "num2 more : tmp_data_arr : (100, 9858) || vec_arr : (43900, 9858)\n",
      "num2 : (100, 9858) || dim : 2\n"
     ]
    },
    {
     "name": "stderr",
     "output_type": "stream",
     "text": [
      " 44%|████▍     | 440/1000 [03:14<08:08,  1.15it/s]"
     ]
    },
    {
     "name": "stdout",
     "output_type": "stream",
     "text": [
      "num2 more : tmp_data_arr : (100, 9858) || vec_arr : (44000, 9858)\n",
      "num2 : (100, 9858) || dim : 2\n"
     ]
    },
    {
     "name": "stderr",
     "output_type": "stream",
     "text": [
      " 44%|████▍     | 441/1000 [03:15<08:10,  1.14it/s]"
     ]
    },
    {
     "name": "stdout",
     "output_type": "stream",
     "text": [
      "num2 more : tmp_data_arr : (100, 9858) || vec_arr : (44100, 9858)\n",
      "num2 : (100, 9858) || dim : 2\n"
     ]
    },
    {
     "name": "stderr",
     "output_type": "stream",
     "text": [
      " 44%|████▍     | 442/1000 [03:16<08:14,  1.13it/s]"
     ]
    },
    {
     "name": "stdout",
     "output_type": "stream",
     "text": [
      "num2 more : tmp_data_arr : (100, 9858) || vec_arr : (44200, 9858)\n",
      "num2 : (100, 9858) || dim : 2\n"
     ]
    },
    {
     "name": "stderr",
     "output_type": "stream",
     "text": [
      " 44%|████▍     | 443/1000 [03:17<08:12,  1.13it/s]"
     ]
    },
    {
     "name": "stdout",
     "output_type": "stream",
     "text": [
      "num2 more : tmp_data_arr : (100, 9858) || vec_arr : (44300, 9858)\n",
      "num2 : (100, 9858) || dim : 2\n"
     ]
    },
    {
     "name": "stderr",
     "output_type": "stream",
     "text": [
      " 44%|████▍     | 444/1000 [03:18<08:15,  1.12it/s]"
     ]
    },
    {
     "name": "stdout",
     "output_type": "stream",
     "text": [
      "num2 more : tmp_data_arr : (100, 9858) || vec_arr : (44400, 9858)\n",
      "num2 : (100, 9858) || dim : 2\n"
     ]
    },
    {
     "name": "stderr",
     "output_type": "stream",
     "text": [
      " 44%|████▍     | 445/1000 [03:19<08:17,  1.12it/s]"
     ]
    },
    {
     "name": "stdout",
     "output_type": "stream",
     "text": [
      "num2 more : tmp_data_arr : (100, 9858) || vec_arr : (44500, 9858)\n",
      "num2 : (100, 9858) || dim : 2\n"
     ]
    },
    {
     "name": "stderr",
     "output_type": "stream",
     "text": [
      " 45%|████▍     | 446/1000 [03:20<08:21,  1.11it/s]"
     ]
    },
    {
     "name": "stdout",
     "output_type": "stream",
     "text": [
      "num2 more : tmp_data_arr : (100, 9858) || vec_arr : (44600, 9858)\n",
      "num2 : (100, 9858) || dim : 2\n"
     ]
    },
    {
     "name": "stderr",
     "output_type": "stream",
     "text": [
      " 45%|████▍     | 447/1000 [03:21<08:23,  1.10it/s]"
     ]
    },
    {
     "name": "stdout",
     "output_type": "stream",
     "text": [
      "num2 more : tmp_data_arr : (100, 9858) || vec_arr : (44700, 9858)\n",
      "num2 : (100, 9858) || dim : 2\n"
     ]
    },
    {
     "name": "stderr",
     "output_type": "stream",
     "text": [
      " 45%|████▍     | 448/1000 [03:22<08:24,  1.10it/s]"
     ]
    },
    {
     "name": "stdout",
     "output_type": "stream",
     "text": [
      "num2 more : tmp_data_arr : (100, 9858) || vec_arr : (44800, 9858)\n",
      "num2 : (100, 9858) || dim : 2\n"
     ]
    },
    {
     "name": "stderr",
     "output_type": "stream",
     "text": [
      " 45%|████▍     | 449/1000 [03:23<08:25,  1.09it/s]"
     ]
    },
    {
     "name": "stdout",
     "output_type": "stream",
     "text": [
      "num2 more : tmp_data_arr : (100, 9858) || vec_arr : (44900, 9858)\n",
      "num2 : (100, 9858) || dim : 2\n"
     ]
    },
    {
     "name": "stderr",
     "output_type": "stream",
     "text": [
      " 45%|████▌     | 450/1000 [03:24<08:27,  1.08it/s]"
     ]
    },
    {
     "name": "stdout",
     "output_type": "stream",
     "text": [
      "num2 more : tmp_data_arr : (100, 9858) || vec_arr : (45000, 9858)\n",
      "num2 : (100, 9858) || dim : 2\n"
     ]
    },
    {
     "name": "stderr",
     "output_type": "stream",
     "text": [
      " 45%|████▌     | 451/1000 [03:25<08:25,  1.09it/s]"
     ]
    },
    {
     "name": "stdout",
     "output_type": "stream",
     "text": [
      "num2 more : tmp_data_arr : (100, 9858) || vec_arr : (45100, 9858)\n",
      "num2 : (100, 9858) || dim : 2\n"
     ]
    },
    {
     "name": "stderr",
     "output_type": "stream",
     "text": [
      " 45%|████▌     | 452/1000 [03:25<08:28,  1.08it/s]"
     ]
    },
    {
     "name": "stdout",
     "output_type": "stream",
     "text": [
      "num2 more : tmp_data_arr : (100, 9858) || vec_arr : (45200, 9858)\n",
      "num2 : (100, 9858) || dim : 2\n"
     ]
    },
    {
     "name": "stderr",
     "output_type": "stream",
     "text": [
      " 45%|████▌     | 453/1000 [03:26<08:27,  1.08it/s]"
     ]
    },
    {
     "name": "stdout",
     "output_type": "stream",
     "text": [
      "num2 more : tmp_data_arr : (100, 9858) || vec_arr : (45300, 9858)\n",
      "num2 : (100, 9858) || dim : 2\n"
     ]
    },
    {
     "name": "stderr",
     "output_type": "stream",
     "text": [
      " 45%|████▌     | 454/1000 [03:27<08:29,  1.07it/s]"
     ]
    },
    {
     "name": "stdout",
     "output_type": "stream",
     "text": [
      "num2 more : tmp_data_arr : (100, 9858) || vec_arr : (45400, 9858)\n",
      "num2 : (100, 9858) || dim : 2\n"
     ]
    },
    {
     "name": "stderr",
     "output_type": "stream",
     "text": [
      " 46%|████▌     | 455/1000 [03:28<08:24,  1.08it/s]"
     ]
    },
    {
     "name": "stdout",
     "output_type": "stream",
     "text": [
      "num2 more : tmp_data_arr : (100, 9858) || vec_arr : (45500, 9858)\n",
      "num2 : (100, 9858) || dim : 2\n"
     ]
    },
    {
     "name": "stderr",
     "output_type": "stream",
     "text": [
      " 46%|████▌     | 456/1000 [03:29<08:32,  1.06it/s]"
     ]
    },
    {
     "name": "stdout",
     "output_type": "stream",
     "text": [
      "num2 more : tmp_data_arr : (100, 9858) || vec_arr : (45600, 9858)\n",
      "num2 : (100, 9858) || dim : 2\n"
     ]
    },
    {
     "name": "stderr",
     "output_type": "stream",
     "text": [
      " 46%|████▌     | 457/1000 [03:30<08:27,  1.07it/s]"
     ]
    },
    {
     "name": "stdout",
     "output_type": "stream",
     "text": [
      "num2 more : tmp_data_arr : (100, 9858) || vec_arr : (45700, 9858)\n",
      "num2 : (100, 9858) || dim : 2\n"
     ]
    },
    {
     "name": "stderr",
     "output_type": "stream",
     "text": [
      " 46%|████▌     | 458/1000 [03:31<08:26,  1.07it/s]"
     ]
    },
    {
     "name": "stdout",
     "output_type": "stream",
     "text": [
      "num2 more : tmp_data_arr : (100, 9858) || vec_arr : (45800, 9858)\n",
      "num2 : (100, 9858) || dim : 2\n"
     ]
    },
    {
     "name": "stderr",
     "output_type": "stream",
     "text": [
      " 46%|████▌     | 459/1000 [03:32<08:28,  1.06it/s]"
     ]
    },
    {
     "name": "stdout",
     "output_type": "stream",
     "text": [
      "num2 more : tmp_data_arr : (100, 9858) || vec_arr : (45900, 9858)\n",
      "num2 : (100, 9858) || dim : 2\n"
     ]
    },
    {
     "name": "stderr",
     "output_type": "stream",
     "text": [
      " 46%|████▌     | 460/1000 [03:33<08:20,  1.08it/s]"
     ]
    },
    {
     "name": "stdout",
     "output_type": "stream",
     "text": [
      "num2 more : tmp_data_arr : (100, 9858) || vec_arr : (46000, 9858)\n",
      "num2 : (100, 9858) || dim : 2\n"
     ]
    },
    {
     "name": "stderr",
     "output_type": "stream",
     "text": [
      " 46%|████▌     | 461/1000 [03:34<08:21,  1.07it/s]"
     ]
    },
    {
     "name": "stdout",
     "output_type": "stream",
     "text": [
      "num2 more : tmp_data_arr : (100, 9858) || vec_arr : (46100, 9858)\n",
      "num2 : (100, 9858) || dim : 2\n"
     ]
    },
    {
     "name": "stderr",
     "output_type": "stream",
     "text": [
      " 46%|████▌     | 462/1000 [03:35<08:26,  1.06it/s]"
     ]
    },
    {
     "name": "stdout",
     "output_type": "stream",
     "text": [
      "num2 more : tmp_data_arr : (100, 9858) || vec_arr : (46200, 9858)\n",
      "num2 : (100, 9858) || dim : 2\n"
     ]
    },
    {
     "name": "stderr",
     "output_type": "stream",
     "text": [
      " 46%|████▋     | 463/1000 [03:36<08:24,  1.06it/s]"
     ]
    },
    {
     "name": "stdout",
     "output_type": "stream",
     "text": [
      "num2 more : tmp_data_arr : (100, 9858) || vec_arr : (46300, 9858)\n",
      "num2 : (100, 9858) || dim : 2\n"
     ]
    },
    {
     "name": "stderr",
     "output_type": "stream",
     "text": [
      " 46%|████▋     | 464/1000 [03:37<08:29,  1.05it/s]"
     ]
    },
    {
     "name": "stdout",
     "output_type": "stream",
     "text": [
      "num2 more : tmp_data_arr : (100, 9858) || vec_arr : (46400, 9858)\n",
      "num2 : (100, 9858) || dim : 2\n"
     ]
    },
    {
     "name": "stderr",
     "output_type": "stream",
     "text": [
      " 46%|████▋     | 465/1000 [03:38<08:27,  1.05it/s]"
     ]
    },
    {
     "name": "stdout",
     "output_type": "stream",
     "text": [
      "num2 more : tmp_data_arr : (100, 9858) || vec_arr : (46500, 9858)\n",
      "num2 : (100, 9858) || dim : 2\n"
     ]
    },
    {
     "name": "stderr",
     "output_type": "stream",
     "text": [
      " 47%|████▋     | 466/1000 [03:39<08:28,  1.05it/s]"
     ]
    },
    {
     "name": "stdout",
     "output_type": "stream",
     "text": [
      "num2 more : tmp_data_arr : (100, 9858) || vec_arr : (46600, 9858)\n",
      "num2 : (100, 9858) || dim : 2\n"
     ]
    },
    {
     "name": "stderr",
     "output_type": "stream",
     "text": [
      " 47%|████▋     | 467/1000 [03:40<08:22,  1.06it/s]"
     ]
    },
    {
     "name": "stdout",
     "output_type": "stream",
     "text": [
      "num2 more : tmp_data_arr : (100, 9858) || vec_arr : (46700, 9858)\n",
      "num2 : (100, 9858) || dim : 2\n"
     ]
    },
    {
     "name": "stderr",
     "output_type": "stream",
     "text": [
      " 47%|████▋     | 468/1000 [03:40<08:14,  1.08it/s]"
     ]
    },
    {
     "name": "stdout",
     "output_type": "stream",
     "text": [
      "num2 more : tmp_data_arr : (100, 9858) || vec_arr : (46800, 9858)\n",
      "num2 : (100, 9858) || dim : 2\n"
     ]
    },
    {
     "name": "stderr",
     "output_type": "stream",
     "text": [
      " 47%|████▋     | 469/1000 [03:41<08:17,  1.07it/s]"
     ]
    },
    {
     "name": "stdout",
     "output_type": "stream",
     "text": [
      "num2 more : tmp_data_arr : (100, 9858) || vec_arr : (46900, 9858)\n",
      "num2 : (100, 9858) || dim : 2\n"
     ]
    },
    {
     "name": "stderr",
     "output_type": "stream",
     "text": [
      " 47%|████▋     | 470/1000 [03:42<08:20,  1.06it/s]"
     ]
    },
    {
     "name": "stdout",
     "output_type": "stream",
     "text": [
      "num2 more : tmp_data_arr : (100, 9858) || vec_arr : (47000, 9858)\n",
      "num2 : (100, 9858) || dim : 2\n"
     ]
    },
    {
     "name": "stderr",
     "output_type": "stream",
     "text": [
      " 47%|████▋     | 471/1000 [03:43<08:21,  1.05it/s]"
     ]
    },
    {
     "name": "stdout",
     "output_type": "stream",
     "text": [
      "num2 more : tmp_data_arr : (100, 9858) || vec_arr : (47100, 9858)\n",
      "num2 : (100, 9858) || dim : 2\n"
     ]
    },
    {
     "name": "stderr",
     "output_type": "stream",
     "text": [
      " 47%|████▋     | 472/1000 [03:44<08:28,  1.04it/s]"
     ]
    },
    {
     "name": "stdout",
     "output_type": "stream",
     "text": [
      "num2 more : tmp_data_arr : (100, 9858) || vec_arr : (47200, 9858)\n",
      "num2 : (100, 9858) || dim : 2\n"
     ]
    },
    {
     "name": "stderr",
     "output_type": "stream",
     "text": [
      " 47%|████▋     | 473/1000 [03:45<08:27,  1.04it/s]"
     ]
    },
    {
     "name": "stdout",
     "output_type": "stream",
     "text": [
      "num2 more : tmp_data_arr : (100, 9858) || vec_arr : (47300, 9858)\n",
      "num2 : (100, 9858) || dim : 2\n"
     ]
    },
    {
     "name": "stderr",
     "output_type": "stream",
     "text": [
      " 47%|████▋     | 474/1000 [03:46<08:32,  1.03it/s]"
     ]
    },
    {
     "name": "stdout",
     "output_type": "stream",
     "text": [
      "num2 more : tmp_data_arr : (100, 9858) || vec_arr : (47400, 9858)\n",
      "num2 : (100, 9858) || dim : 2\n"
     ]
    },
    {
     "name": "stderr",
     "output_type": "stream",
     "text": [
      " 48%|████▊     | 475/1000 [03:47<08:38,  1.01it/s]"
     ]
    },
    {
     "name": "stdout",
     "output_type": "stream",
     "text": [
      "num2 more : tmp_data_arr : (100, 9858) || vec_arr : (47500, 9858)\n",
      "num2 : (100, 9858) || dim : 2\n"
     ]
    },
    {
     "name": "stderr",
     "output_type": "stream",
     "text": [
      " 48%|████▊     | 476/1000 [03:48<08:36,  1.01it/s]"
     ]
    },
    {
     "name": "stdout",
     "output_type": "stream",
     "text": [
      "num2 more : tmp_data_arr : (100, 9858) || vec_arr : (47600, 9858)\n",
      "num2 : (100, 9858) || dim : 2\n"
     ]
    },
    {
     "name": "stderr",
     "output_type": "stream",
     "text": [
      " 48%|████▊     | 477/1000 [03:49<08:36,  1.01it/s]"
     ]
    },
    {
     "name": "stdout",
     "output_type": "stream",
     "text": [
      "num2 more : tmp_data_arr : (100, 9858) || vec_arr : (47700, 9858)\n",
      "num2 : (100, 9858) || dim : 2\n"
     ]
    },
    {
     "name": "stderr",
     "output_type": "stream",
     "text": [
      " 48%|████▊     | 478/1000 [03:50<08:34,  1.02it/s]"
     ]
    },
    {
     "name": "stdout",
     "output_type": "stream",
     "text": [
      "num2 more : tmp_data_arr : (100, 9858) || vec_arr : (47800, 9858)\n",
      "num2 : (100, 9858) || dim : 2\n"
     ]
    },
    {
     "name": "stderr",
     "output_type": "stream",
     "text": [
      " 48%|████▊     | 479/1000 [03:51<08:27,  1.03it/s]"
     ]
    },
    {
     "name": "stdout",
     "output_type": "stream",
     "text": [
      "num2 more : tmp_data_arr : (100, 9858) || vec_arr : (47900, 9858)\n",
      "num2 : (100, 9858) || dim : 2\n"
     ]
    },
    {
     "name": "stderr",
     "output_type": "stream",
     "text": [
      " 48%|████▊     | 480/1000 [03:52<08:28,  1.02it/s]"
     ]
    },
    {
     "name": "stdout",
     "output_type": "stream",
     "text": [
      "num2 more : tmp_data_arr : (100, 9858) || vec_arr : (48000, 9858)\n",
      "num2 : (100, 9858) || dim : 2\n"
     ]
    },
    {
     "name": "stderr",
     "output_type": "stream",
     "text": [
      " 48%|████▊     | 481/1000 [03:53<08:27,  1.02it/s]"
     ]
    },
    {
     "name": "stdout",
     "output_type": "stream",
     "text": [
      "num2 more : tmp_data_arr : (100, 9858) || vec_arr : (48100, 9858)\n",
      "num2 : (100, 9858) || dim : 2\n"
     ]
    },
    {
     "name": "stderr",
     "output_type": "stream",
     "text": [
      " 48%|████▊     | 482/1000 [03:54<08:28,  1.02it/s]"
     ]
    },
    {
     "name": "stdout",
     "output_type": "stream",
     "text": [
      "num2 more : tmp_data_arr : (100, 9858) || vec_arr : (48200, 9858)\n",
      "num2 : (100, 9858) || dim : 2\n"
     ]
    },
    {
     "name": "stderr",
     "output_type": "stream",
     "text": [
      " 48%|████▊     | 483/1000 [03:55<08:29,  1.02it/s]"
     ]
    },
    {
     "name": "stdout",
     "output_type": "stream",
     "text": [
      "num2 more : tmp_data_arr : (100, 9858) || vec_arr : (48300, 9858)\n",
      "num2 : (100, 9858) || dim : 2\n"
     ]
    },
    {
     "name": "stderr",
     "output_type": "stream",
     "text": [
      " 48%|████▊     | 484/1000 [03:56<08:32,  1.01it/s]"
     ]
    },
    {
     "name": "stdout",
     "output_type": "stream",
     "text": [
      "num2 more : tmp_data_arr : (100, 9858) || vec_arr : (48400, 9858)\n",
      "num2 : (100, 9858) || dim : 2\n"
     ]
    },
    {
     "name": "stderr",
     "output_type": "stream",
     "text": [
      " 48%|████▊     | 485/1000 [03:57<08:30,  1.01it/s]"
     ]
    },
    {
     "name": "stdout",
     "output_type": "stream",
     "text": [
      "num2 more : tmp_data_arr : (100, 9858) || vec_arr : (48500, 9858)\n",
      "num2 : (100, 9858) || dim : 2\n"
     ]
    },
    {
     "name": "stderr",
     "output_type": "stream",
     "text": [
      " 49%|████▊     | 486/1000 [03:58<08:33,  1.00it/s]"
     ]
    },
    {
     "name": "stdout",
     "output_type": "stream",
     "text": [
      "num2 more : tmp_data_arr : (100, 9858) || vec_arr : (48600, 9858)\n",
      "num2 : (100, 9858) || dim : 2\n"
     ]
    },
    {
     "name": "stderr",
     "output_type": "stream",
     "text": [
      " 49%|████▊     | 487/1000 [03:59<08:29,  1.01it/s]"
     ]
    },
    {
     "name": "stdout",
     "output_type": "stream",
     "text": [
      "num2 more : tmp_data_arr : (100, 9858) || vec_arr : (48700, 9858)\n",
      "num2 : (100, 9858) || dim : 2\n"
     ]
    },
    {
     "name": "stderr",
     "output_type": "stream",
     "text": [
      " 49%|████▉     | 488/1000 [04:00<08:38,  1.01s/it]"
     ]
    },
    {
     "name": "stdout",
     "output_type": "stream",
     "text": [
      "num2 more : tmp_data_arr : (100, 9858) || vec_arr : (48800, 9858)\n",
      "num2 : (100, 9858) || dim : 2\n"
     ]
    },
    {
     "name": "stderr",
     "output_type": "stream",
     "text": [
      " 49%|████▉     | 489/1000 [04:01<08:30,  1.00it/s]"
     ]
    },
    {
     "name": "stdout",
     "output_type": "stream",
     "text": [
      "num2 more : tmp_data_arr : (100, 9858) || vec_arr : (48900, 9858)\n",
      "num2 : (100, 9858) || dim : 2\n"
     ]
    },
    {
     "name": "stderr",
     "output_type": "stream",
     "text": [
      " 49%|████▉     | 490/1000 [04:02<08:34,  1.01s/it]"
     ]
    },
    {
     "name": "stdout",
     "output_type": "stream",
     "text": [
      "num2 more : tmp_data_arr : (100, 9858) || vec_arr : (49000, 9858)\n",
      "num2 : (100, 9858) || dim : 2\n"
     ]
    },
    {
     "name": "stderr",
     "output_type": "stream",
     "text": [
      " 49%|████▉     | 491/1000 [04:03<08:30,  1.00s/it]"
     ]
    },
    {
     "name": "stdout",
     "output_type": "stream",
     "text": [
      "num2 more : tmp_data_arr : (100, 9858) || vec_arr : (49100, 9858)\n",
      "num2 : (100, 9858) || dim : 2\n"
     ]
    },
    {
     "name": "stderr",
     "output_type": "stream",
     "text": [
      " 49%|████▉     | 492/1000 [04:04<08:30,  1.01s/it]"
     ]
    },
    {
     "name": "stdout",
     "output_type": "stream",
     "text": [
      "num2 more : tmp_data_arr : (100, 9858) || vec_arr : (49200, 9858)\n",
      "num2 : (100, 9858) || dim : 2\n"
     ]
    },
    {
     "name": "stderr",
     "output_type": "stream",
     "text": [
      " 49%|████▉     | 493/1000 [04:05<08:28,  1.00s/it]"
     ]
    },
    {
     "name": "stdout",
     "output_type": "stream",
     "text": [
      "num2 more : tmp_data_arr : (100, 9858) || vec_arr : (49300, 9858)\n",
      "num2 : (100, 9858) || dim : 2\n"
     ]
    },
    {
     "name": "stderr",
     "output_type": "stream",
     "text": [
      " 49%|████▉     | 494/1000 [04:06<08:31,  1.01s/it]"
     ]
    },
    {
     "name": "stdout",
     "output_type": "stream",
     "text": [
      "num2 more : tmp_data_arr : (100, 9858) || vec_arr : (49400, 9858)\n",
      "num2 : (100, 9858) || dim : 2\n"
     ]
    },
    {
     "name": "stderr",
     "output_type": "stream",
     "text": [
      " 50%|████▉     | 495/1000 [04:07<08:28,  1.01s/it]"
     ]
    },
    {
     "name": "stdout",
     "output_type": "stream",
     "text": [
      "num2 more : tmp_data_arr : (100, 9858) || vec_arr : (49500, 9858)\n",
      "num2 : (100, 9858) || dim : 2\n"
     ]
    },
    {
     "name": "stderr",
     "output_type": "stream",
     "text": [
      " 50%|████▉     | 496/1000 [04:08<08:31,  1.02s/it]"
     ]
    },
    {
     "name": "stdout",
     "output_type": "stream",
     "text": [
      "num2 more : tmp_data_arr : (100, 9858) || vec_arr : (49600, 9858)\n",
      "num2 : (100, 9858) || dim : 2\n"
     ]
    },
    {
     "name": "stderr",
     "output_type": "stream",
     "text": [
      " 50%|████▉     | 497/1000 [04:09<08:28,  1.01s/it]"
     ]
    },
    {
     "name": "stdout",
     "output_type": "stream",
     "text": [
      "num2 more : tmp_data_arr : (100, 9858) || vec_arr : (49700, 9858)\n",
      "num2 : (100, 9858) || dim : 2\n"
     ]
    },
    {
     "name": "stderr",
     "output_type": "stream",
     "text": [
      " 50%|████▉     | 498/1000 [04:10<08:31,  1.02s/it]"
     ]
    },
    {
     "name": "stdout",
     "output_type": "stream",
     "text": [
      "num2 more : tmp_data_arr : (100, 9858) || vec_arr : (49800, 9858)\n",
      "num2 : (100, 9858) || dim : 2\n"
     ]
    },
    {
     "name": "stderr",
     "output_type": "stream",
     "text": [
      " 50%|████▉     | 499/1000 [04:11<08:24,  1.01s/it]"
     ]
    },
    {
     "name": "stdout",
     "output_type": "stream",
     "text": [
      "num2 more : tmp_data_arr : (100, 9858) || vec_arr : (49900, 9858)\n",
      "num2 : (100, 9858) || dim : 2\n"
     ]
    },
    {
     "name": "stderr",
     "output_type": "stream",
     "text": [
      " 50%|█████     | 500/1000 [04:12<08:29,  1.02s/it]"
     ]
    },
    {
     "name": "stdout",
     "output_type": "stream",
     "text": [
      "num2 more : tmp_data_arr : (100, 9858) || vec_arr : (50000, 9858)\n",
      "num2 : (100, 9858) || dim : 2\n"
     ]
    },
    {
     "name": "stderr",
     "output_type": "stream",
     "text": [
      " 50%|█████     | 501/1000 [04:13<08:26,  1.02s/it]"
     ]
    },
    {
     "name": "stdout",
     "output_type": "stream",
     "text": [
      "num2 more : tmp_data_arr : (100, 9858) || vec_arr : (50100, 9858)\n",
      "num2 : (100, 9858) || dim : 2\n"
     ]
    },
    {
     "name": "stderr",
     "output_type": "stream",
     "text": [
      " 50%|█████     | 502/1000 [04:14<08:32,  1.03s/it]"
     ]
    },
    {
     "name": "stdout",
     "output_type": "stream",
     "text": [
      "num2 more : tmp_data_arr : (100, 9858) || vec_arr : (50200, 9858)\n",
      "num2 : (100, 9858) || dim : 2\n"
     ]
    },
    {
     "name": "stderr",
     "output_type": "stream",
     "text": [
      " 50%|█████     | 503/1000 [04:15<08:23,  1.01s/it]"
     ]
    },
    {
     "name": "stdout",
     "output_type": "stream",
     "text": [
      "num2 more : tmp_data_arr : (100, 9858) || vec_arr : (50300, 9858)\n",
      "num2 : (100, 9858) || dim : 2\n"
     ]
    },
    {
     "name": "stderr",
     "output_type": "stream",
     "text": [
      " 50%|█████     | 504/1000 [04:17<08:35,  1.04s/it]"
     ]
    },
    {
     "name": "stdout",
     "output_type": "stream",
     "text": [
      "num2 more : tmp_data_arr : (100, 9858) || vec_arr : (50400, 9858)\n",
      "num2 : (100, 9858) || dim : 2\n"
     ]
    },
    {
     "name": "stderr",
     "output_type": "stream",
     "text": [
      " 50%|█████     | 505/1000 [04:18<08:32,  1.03s/it]"
     ]
    },
    {
     "name": "stdout",
     "output_type": "stream",
     "text": [
      "num2 more : tmp_data_arr : (100, 9858) || vec_arr : (50500, 9858)\n",
      "num2 : (100, 9858) || dim : 2\n"
     ]
    },
    {
     "name": "stderr",
     "output_type": "stream",
     "text": [
      " 51%|█████     | 506/1000 [04:19<08:34,  1.04s/it]"
     ]
    },
    {
     "name": "stdout",
     "output_type": "stream",
     "text": [
      "num2 more : tmp_data_arr : (100, 9858) || vec_arr : (50600, 9858)\n",
      "num2 : (100, 9858) || dim : 2\n"
     ]
    },
    {
     "name": "stderr",
     "output_type": "stream",
     "text": [
      " 51%|█████     | 507/1000 [04:20<08:28,  1.03s/it]"
     ]
    },
    {
     "name": "stdout",
     "output_type": "stream",
     "text": [
      "num2 more : tmp_data_arr : (100, 9858) || vec_arr : (50700, 9858)\n",
      "num2 : (100, 9858) || dim : 2\n"
     ]
    },
    {
     "name": "stderr",
     "output_type": "stream",
     "text": [
      " 51%|█████     | 508/1000 [04:21<08:37,  1.05s/it]"
     ]
    },
    {
     "name": "stdout",
     "output_type": "stream",
     "text": [
      "num2 more : tmp_data_arr : (100, 9858) || vec_arr : (50800, 9858)\n",
      "num2 : (100, 9858) || dim : 2\n"
     ]
    },
    {
     "name": "stderr",
     "output_type": "stream",
     "text": [
      " 51%|█████     | 509/1000 [04:22<08:31,  1.04s/it]"
     ]
    },
    {
     "name": "stdout",
     "output_type": "stream",
     "text": [
      "num2 more : tmp_data_arr : (100, 9858) || vec_arr : (50900, 9858)\n",
      "num2 : (100, 9858) || dim : 2\n"
     ]
    },
    {
     "name": "stderr",
     "output_type": "stream",
     "text": [
      " 51%|█████     | 510/1000 [04:23<08:33,  1.05s/it]"
     ]
    },
    {
     "name": "stdout",
     "output_type": "stream",
     "text": [
      "num2 more : tmp_data_arr : (100, 9858) || vec_arr : (51000, 9858)\n",
      "num2 : (100, 9858) || dim : 2\n"
     ]
    },
    {
     "name": "stderr",
     "output_type": "stream",
     "text": [
      " 51%|█████     | 511/1000 [04:24<08:29,  1.04s/it]"
     ]
    },
    {
     "name": "stdout",
     "output_type": "stream",
     "text": [
      "num2 more : tmp_data_arr : (100, 9858) || vec_arr : (51100, 9858)\n",
      "num2 : (100, 9858) || dim : 2\n"
     ]
    },
    {
     "name": "stderr",
     "output_type": "stream",
     "text": [
      " 51%|█████     | 512/1000 [04:25<08:34,  1.05s/it]"
     ]
    },
    {
     "name": "stdout",
     "output_type": "stream",
     "text": [
      "num2 more : tmp_data_arr : (100, 9858) || vec_arr : (51200, 9858)\n",
      "num2 : (100, 9858) || dim : 2\n"
     ]
    },
    {
     "name": "stderr",
     "output_type": "stream",
     "text": [
      " 51%|█████▏    | 513/1000 [04:26<08:28,  1.04s/it]"
     ]
    },
    {
     "name": "stdout",
     "output_type": "stream",
     "text": [
      "num2 more : tmp_data_arr : (100, 9858) || vec_arr : (51300, 9858)\n",
      "num2 : (100, 9858) || dim : 2\n"
     ]
    },
    {
     "name": "stderr",
     "output_type": "stream",
     "text": [
      " 51%|█████▏    | 514/1000 [04:27<08:34,  1.06s/it]"
     ]
    },
    {
     "name": "stdout",
     "output_type": "stream",
     "text": [
      "num2 more : tmp_data_arr : (100, 9858) || vec_arr : (51400, 9858)\n",
      "num2 : (100, 9858) || dim : 2\n"
     ]
    },
    {
     "name": "stderr",
     "output_type": "stream",
     "text": [
      " 52%|█████▏    | 515/1000 [04:28<08:33,  1.06s/it]"
     ]
    },
    {
     "name": "stdout",
     "output_type": "stream",
     "text": [
      "num2 more : tmp_data_arr : (100, 9858) || vec_arr : (51500, 9858)\n",
      "num2 : (100, 9858) || dim : 2\n"
     ]
    },
    {
     "name": "stderr",
     "output_type": "stream",
     "text": [
      " 52%|█████▏    | 516/1000 [04:29<08:35,  1.07s/it]"
     ]
    },
    {
     "name": "stdout",
     "output_type": "stream",
     "text": [
      "num2 more : tmp_data_arr : (100, 9858) || vec_arr : (51600, 9858)\n",
      "num2 : (100, 9858) || dim : 2\n"
     ]
    },
    {
     "name": "stderr",
     "output_type": "stream",
     "text": [
      " 52%|█████▏    | 517/1000 [04:30<08:30,  1.06s/it]"
     ]
    },
    {
     "name": "stdout",
     "output_type": "stream",
     "text": [
      "num2 more : tmp_data_arr : (100, 9858) || vec_arr : (51700, 9858)\n",
      "num2 : (100, 9858) || dim : 2\n"
     ]
    },
    {
     "name": "stderr",
     "output_type": "stream",
     "text": [
      " 52%|█████▏    | 518/1000 [04:31<08:40,  1.08s/it]"
     ]
    },
    {
     "name": "stdout",
     "output_type": "stream",
     "text": [
      "num2 more : tmp_data_arr : (100, 9858) || vec_arr : (51800, 9858)\n",
      "num2 : (100, 9858) || dim : 2\n"
     ]
    },
    {
     "name": "stderr",
     "output_type": "stream",
     "text": [
      " 52%|█████▏    | 519/1000 [04:32<08:34,  1.07s/it]"
     ]
    },
    {
     "name": "stdout",
     "output_type": "stream",
     "text": [
      "num2 more : tmp_data_arr : (100, 9858) || vec_arr : (51900, 9858)\n",
      "num2 : (100, 9858) || dim : 2\n"
     ]
    },
    {
     "name": "stderr",
     "output_type": "stream",
     "text": [
      " 52%|█████▏    | 520/1000 [04:33<08:38,  1.08s/it]"
     ]
    },
    {
     "name": "stdout",
     "output_type": "stream",
     "text": [
      "num2 more : tmp_data_arr : (100, 9858) || vec_arr : (52000, 9858)\n",
      "num2 : (100, 9858) || dim : 2\n"
     ]
    },
    {
     "name": "stderr",
     "output_type": "stream",
     "text": [
      " 52%|█████▏    | 521/1000 [04:35<08:35,  1.08s/it]"
     ]
    },
    {
     "name": "stdout",
     "output_type": "stream",
     "text": [
      "num2 more : tmp_data_arr : (100, 9858) || vec_arr : (52100, 9858)\n",
      "num2 : (100, 9858) || dim : 2\n"
     ]
    },
    {
     "name": "stderr",
     "output_type": "stream",
     "text": [
      " 52%|█████▏    | 522/1000 [04:36<08:36,  1.08s/it]"
     ]
    },
    {
     "name": "stdout",
     "output_type": "stream",
     "text": [
      "num2 more : tmp_data_arr : (100, 9858) || vec_arr : (52200, 9858)\n",
      "num2 : (100, 9858) || dim : 2\n"
     ]
    },
    {
     "name": "stderr",
     "output_type": "stream",
     "text": [
      " 52%|█████▏    | 523/1000 [04:37<08:37,  1.08s/it]"
     ]
    },
    {
     "name": "stdout",
     "output_type": "stream",
     "text": [
      "num2 more : tmp_data_arr : (100, 9858) || vec_arr : (52300, 9858)\n",
      "num2 : (100, 9858) || dim : 2\n"
     ]
    },
    {
     "name": "stderr",
     "output_type": "stream",
     "text": [
      " 52%|█████▏    | 524/1000 [04:38<08:37,  1.09s/it]"
     ]
    },
    {
     "name": "stdout",
     "output_type": "stream",
     "text": [
      "num2 more : tmp_data_arr : (100, 9858) || vec_arr : (52400, 9858)\n",
      "num2 : (100, 9858) || dim : 2\n"
     ]
    },
    {
     "name": "stderr",
     "output_type": "stream",
     "text": [
      " 52%|█████▎    | 525/1000 [04:39<08:33,  1.08s/it]"
     ]
    },
    {
     "name": "stdout",
     "output_type": "stream",
     "text": [
      "num2 more : tmp_data_arr : (100, 9858) || vec_arr : (52500, 9858)\n",
      "num2 : (100, 9858) || dim : 2\n"
     ]
    },
    {
     "name": "stderr",
     "output_type": "stream",
     "text": [
      " 53%|█████▎    | 526/1000 [04:40<08:38,  1.09s/it]"
     ]
    },
    {
     "name": "stdout",
     "output_type": "stream",
     "text": [
      "num2 more : tmp_data_arr : (100, 9858) || vec_arr : (52600, 9858)\n",
      "num2 : (100, 9858) || dim : 2\n"
     ]
    },
    {
     "name": "stderr",
     "output_type": "stream",
     "text": [
      " 53%|█████▎    | 527/1000 [04:41<08:34,  1.09s/it]"
     ]
    },
    {
     "name": "stdout",
     "output_type": "stream",
     "text": [
      "num2 more : tmp_data_arr : (100, 9858) || vec_arr : (52700, 9858)\n",
      "num2 : (100, 9858) || dim : 2\n"
     ]
    },
    {
     "name": "stderr",
     "output_type": "stream",
     "text": [
      " 53%|█████▎    | 528/1000 [04:42<08:41,  1.10s/it]"
     ]
    },
    {
     "name": "stdout",
     "output_type": "stream",
     "text": [
      "num2 more : tmp_data_arr : (100, 9858) || vec_arr : (52800, 9858)\n",
      "num2 : (100, 9858) || dim : 2\n"
     ]
    },
    {
     "name": "stderr",
     "output_type": "stream",
     "text": [
      " 53%|█████▎    | 529/1000 [04:43<08:34,  1.09s/it]"
     ]
    },
    {
     "name": "stdout",
     "output_type": "stream",
     "text": [
      "num2 more : tmp_data_arr : (100, 9858) || vec_arr : (52900, 9858)\n",
      "num2 : (100, 9858) || dim : 2\n"
     ]
    },
    {
     "name": "stderr",
     "output_type": "stream",
     "text": [
      " 53%|█████▎    | 530/1000 [04:44<08:38,  1.10s/it]"
     ]
    },
    {
     "name": "stdout",
     "output_type": "stream",
     "text": [
      "num2 more : tmp_data_arr : (100, 9858) || vec_arr : (53000, 9858)\n",
      "num2 : (100, 9858) || dim : 2\n"
     ]
    },
    {
     "name": "stderr",
     "output_type": "stream",
     "text": [
      " 53%|█████▎    | 531/1000 [04:45<08:32,  1.09s/it]"
     ]
    },
    {
     "name": "stdout",
     "output_type": "stream",
     "text": [
      "num2 more : tmp_data_arr : (100, 9858) || vec_arr : (53100, 9858)\n",
      "num2 : (100, 9858) || dim : 2\n"
     ]
    },
    {
     "name": "stderr",
     "output_type": "stream",
     "text": [
      " 53%|█████▎    | 532/1000 [04:47<08:36,  1.10s/it]"
     ]
    },
    {
     "name": "stdout",
     "output_type": "stream",
     "text": [
      "num2 more : tmp_data_arr : (100, 9858) || vec_arr : (53200, 9858)\n",
      "num2 : (100, 9858) || dim : 2\n"
     ]
    },
    {
     "name": "stderr",
     "output_type": "stream",
     "text": [
      " 53%|█████▎    | 533/1000 [04:48<08:32,  1.10s/it]"
     ]
    },
    {
     "name": "stdout",
     "output_type": "stream",
     "text": [
      "num2 more : tmp_data_arr : (100, 9858) || vec_arr : (53300, 9858)\n",
      "num2 : (100, 9858) || dim : 2\n"
     ]
    },
    {
     "name": "stderr",
     "output_type": "stream",
     "text": [
      " 53%|█████▎    | 534/1000 [04:49<08:35,  1.11s/it]"
     ]
    },
    {
     "name": "stdout",
     "output_type": "stream",
     "text": [
      "num2 more : tmp_data_arr : (100, 9858) || vec_arr : (53400, 9858)\n",
      "num2 : (100, 9858) || dim : 2\n"
     ]
    },
    {
     "name": "stderr",
     "output_type": "stream",
     "text": [
      " 54%|█████▎    | 535/1000 [04:50<08:30,  1.10s/it]"
     ]
    },
    {
     "name": "stdout",
     "output_type": "stream",
     "text": [
      "num2 more : tmp_data_arr : (100, 9858) || vec_arr : (53500, 9858)\n",
      "num2 : (100, 9858) || dim : 2\n"
     ]
    },
    {
     "name": "stderr",
     "output_type": "stream",
     "text": [
      " 54%|█████▎    | 536/1000 [04:51<08:34,  1.11s/it]"
     ]
    },
    {
     "name": "stdout",
     "output_type": "stream",
     "text": [
      "num2 more : tmp_data_arr : (100, 9858) || vec_arr : (53600, 9858)\n",
      "num2 : (100, 9858) || dim : 2\n"
     ]
    },
    {
     "name": "stderr",
     "output_type": "stream",
     "text": [
      " 54%|█████▎    | 537/1000 [04:52<08:27,  1.10s/it]"
     ]
    },
    {
     "name": "stdout",
     "output_type": "stream",
     "text": [
      "num2 more : tmp_data_arr : (100, 9858) || vec_arr : (53700, 9858)\n",
      "num2 : (100, 9858) || dim : 2\n"
     ]
    },
    {
     "name": "stderr",
     "output_type": "stream",
     "text": [
      " 54%|█████▍    | 538/1000 [04:53<08:29,  1.10s/it]"
     ]
    },
    {
     "name": "stdout",
     "output_type": "stream",
     "text": [
      "num2 more : tmp_data_arr : (100, 9858) || vec_arr : (53800, 9858)\n",
      "num2 : (100, 9858) || dim : 2\n"
     ]
    },
    {
     "name": "stderr",
     "output_type": "stream",
     "text": [
      " 54%|█████▍    | 539/1000 [04:54<08:30,  1.11s/it]"
     ]
    },
    {
     "name": "stdout",
     "output_type": "stream",
     "text": [
      "num2 more : tmp_data_arr : (100, 9858) || vec_arr : (53900, 9858)\n",
      "num2 : (100, 9858) || dim : 2\n"
     ]
    },
    {
     "name": "stderr",
     "output_type": "stream",
     "text": [
      " 54%|█████▍    | 540/1000 [04:55<08:37,  1.13s/it]"
     ]
    },
    {
     "name": "stdout",
     "output_type": "stream",
     "text": [
      "num2 more : tmp_data_arr : (100, 9858) || vec_arr : (54000, 9858)\n",
      "num2 : (100, 9858) || dim : 2\n"
     ]
    },
    {
     "name": "stderr",
     "output_type": "stream",
     "text": [
      " 54%|█████▍    | 541/1000 [04:57<08:33,  1.12s/it]"
     ]
    },
    {
     "name": "stdout",
     "output_type": "stream",
     "text": [
      "num2 more : tmp_data_arr : (100, 9858) || vec_arr : (54100, 9858)\n",
      "num2 : (100, 9858) || dim : 2\n"
     ]
    },
    {
     "name": "stderr",
     "output_type": "stream",
     "text": [
      " 54%|█████▍    | 542/1000 [04:58<08:32,  1.12s/it]"
     ]
    },
    {
     "name": "stdout",
     "output_type": "stream",
     "text": [
      "num2 more : tmp_data_arr : (100, 9858) || vec_arr : (54200, 9858)\n",
      "num2 : (100, 9858) || dim : 2\n"
     ]
    },
    {
     "name": "stderr",
     "output_type": "stream",
     "text": [
      " 54%|█████▍    | 543/1000 [04:59<08:28,  1.11s/it]"
     ]
    },
    {
     "name": "stdout",
     "output_type": "stream",
     "text": [
      "num2 more : tmp_data_arr : (100, 9858) || vec_arr : (54300, 9858)\n",
      "num2 : (100, 9858) || dim : 2\n"
     ]
    },
    {
     "name": "stderr",
     "output_type": "stream",
     "text": [
      " 54%|█████▍    | 544/1000 [05:00<08:33,  1.13s/it]"
     ]
    },
    {
     "name": "stdout",
     "output_type": "stream",
     "text": [
      "num2 more : tmp_data_arr : (100, 9858) || vec_arr : (54400, 9858)\n",
      "num2 : (100, 9858) || dim : 2\n"
     ]
    },
    {
     "name": "stderr",
     "output_type": "stream",
     "text": [
      " 55%|█████▍    | 545/1000 [05:01<08:28,  1.12s/it]"
     ]
    },
    {
     "name": "stdout",
     "output_type": "stream",
     "text": [
      "num2 more : tmp_data_arr : (100, 9858) || vec_arr : (54500, 9858)\n",
      "num2 : (100, 9858) || dim : 2\n"
     ]
    },
    {
     "name": "stderr",
     "output_type": "stream",
     "text": [
      " 55%|█████▍    | 546/1000 [05:02<08:32,  1.13s/it]"
     ]
    },
    {
     "name": "stdout",
     "output_type": "stream",
     "text": [
      "num2 more : tmp_data_arr : (100, 9858) || vec_arr : (54600, 9858)\n",
      "num2 : (100, 9858) || dim : 2\n"
     ]
    },
    {
     "name": "stderr",
     "output_type": "stream",
     "text": [
      " 55%|█████▍    | 547/1000 [05:03<08:26,  1.12s/it]"
     ]
    },
    {
     "name": "stdout",
     "output_type": "stream",
     "text": [
      "num2 more : tmp_data_arr : (100, 9858) || vec_arr : (54700, 9858)\n",
      "num2 : (100, 9858) || dim : 2\n"
     ]
    },
    {
     "name": "stderr",
     "output_type": "stream",
     "text": [
      " 55%|█████▍    | 548/1000 [05:04<08:32,  1.13s/it]"
     ]
    },
    {
     "name": "stdout",
     "output_type": "stream",
     "text": [
      "num2 more : tmp_data_arr : (100, 9858) || vec_arr : (54800, 9858)\n",
      "num2 : (100, 9858) || dim : 2\n"
     ]
    },
    {
     "name": "stderr",
     "output_type": "stream",
     "text": [
      " 55%|█████▍    | 549/1000 [05:06<08:28,  1.13s/it]"
     ]
    },
    {
     "name": "stdout",
     "output_type": "stream",
     "text": [
      "num2 more : tmp_data_arr : (100, 9858) || vec_arr : (54900, 9858)\n",
      "num2 : (100, 9858) || dim : 2\n"
     ]
    },
    {
     "name": "stderr",
     "output_type": "stream",
     "text": [
      " 55%|█████▌    | 550/1000 [05:07<08:37,  1.15s/it]"
     ]
    },
    {
     "name": "stdout",
     "output_type": "stream",
     "text": [
      "num2 more : tmp_data_arr : (100, 9858) || vec_arr : (55000, 9858)\n",
      "num2 : (100, 9858) || dim : 2\n"
     ]
    },
    {
     "name": "stderr",
     "output_type": "stream",
     "text": [
      " 55%|█████▌    | 551/1000 [05:08<08:54,  1.19s/it]"
     ]
    },
    {
     "name": "stdout",
     "output_type": "stream",
     "text": [
      "num2 more : tmp_data_arr : (100, 9858) || vec_arr : (55100, 9858)\n",
      "num2 : (100, 9858) || dim : 2\n"
     ]
    },
    {
     "name": "stderr",
     "output_type": "stream",
     "text": [
      " 55%|█████▌    | 552/1000 [05:10<09:34,  1.28s/it]"
     ]
    },
    {
     "name": "stdout",
     "output_type": "stream",
     "text": [
      "num2 more : tmp_data_arr : (100, 9858) || vec_arr : (55200, 9858)\n",
      "num2 : (100, 9858) || dim : 2\n"
     ]
    },
    {
     "name": "stderr",
     "output_type": "stream",
     "text": [
      " 55%|█████▌    | 553/1000 [05:11<09:42,  1.30s/it]"
     ]
    },
    {
     "name": "stdout",
     "output_type": "stream",
     "text": [
      "num2 more : tmp_data_arr : (100, 9858) || vec_arr : (55300, 9858)\n",
      "num2 : (100, 9858) || dim : 2\n"
     ]
    },
    {
     "name": "stderr",
     "output_type": "stream",
     "text": [
      " 55%|█████▌    | 554/1000 [05:12<09:46,  1.31s/it]"
     ]
    },
    {
     "name": "stdout",
     "output_type": "stream",
     "text": [
      "num2 more : tmp_data_arr : (100, 9858) || vec_arr : (55400, 9858)\n",
      "num2 : (100, 9858) || dim : 2\n"
     ]
    },
    {
     "name": "stderr",
     "output_type": "stream",
     "text": [
      " 56%|█████▌    | 555/1000 [05:14<09:41,  1.31s/it]"
     ]
    },
    {
     "name": "stdout",
     "output_type": "stream",
     "text": [
      "num2 more : tmp_data_arr : (100, 9858) || vec_arr : (55500, 9858)\n",
      "num2 : (100, 9858) || dim : 2\n"
     ]
    },
    {
     "name": "stderr",
     "output_type": "stream",
     "text": [
      " 56%|█████▌    | 556/1000 [05:15<09:24,  1.27s/it]"
     ]
    },
    {
     "name": "stdout",
     "output_type": "stream",
     "text": [
      "num2 more : tmp_data_arr : (100, 9858) || vec_arr : (55600, 9858)\n",
      "num2 : (100, 9858) || dim : 2\n"
     ]
    },
    {
     "name": "stderr",
     "output_type": "stream",
     "text": [
      " 56%|█████▌    | 557/1000 [05:16<09:03,  1.23s/it]"
     ]
    },
    {
     "name": "stdout",
     "output_type": "stream",
     "text": [
      "num2 more : tmp_data_arr : (100, 9858) || vec_arr : (55700, 9858)\n",
      "num2 : (100, 9858) || dim : 2\n"
     ]
    },
    {
     "name": "stderr",
     "output_type": "stream",
     "text": [
      " 56%|█████▌    | 558/1000 [05:17<09:07,  1.24s/it]"
     ]
    },
    {
     "name": "stdout",
     "output_type": "stream",
     "text": [
      "num2 more : tmp_data_arr : (100, 9858) || vec_arr : (55800, 9858)\n",
      "num2 : (100, 9858) || dim : 2\n"
     ]
    },
    {
     "name": "stderr",
     "output_type": "stream",
     "text": [
      " 56%|█████▌    | 559/1000 [05:18<08:52,  1.21s/it]"
     ]
    },
    {
     "name": "stdout",
     "output_type": "stream",
     "text": [
      "num2 more : tmp_data_arr : (100, 9858) || vec_arr : (55900, 9858)\n",
      "num2 : (100, 9858) || dim : 2\n"
     ]
    },
    {
     "name": "stderr",
     "output_type": "stream",
     "text": [
      " 56%|█████▌    | 560/1000 [05:19<08:48,  1.20s/it]"
     ]
    },
    {
     "name": "stdout",
     "output_type": "stream",
     "text": [
      "num2 more : tmp_data_arr : (100, 9858) || vec_arr : (56000, 9858)\n",
      "num2 : (100, 9858) || dim : 2\n"
     ]
    },
    {
     "name": "stderr",
     "output_type": "stream",
     "text": [
      " 56%|█████▌    | 561/1000 [05:21<08:34,  1.17s/it]"
     ]
    },
    {
     "name": "stdout",
     "output_type": "stream",
     "text": [
      "num2 more : tmp_data_arr : (100, 9858) || vec_arr : (56100, 9858)\n",
      "num2 : (100, 9858) || dim : 2\n"
     ]
    },
    {
     "name": "stderr",
     "output_type": "stream",
     "text": [
      " 56%|█████▌    | 562/1000 [05:22<08:48,  1.21s/it]"
     ]
    },
    {
     "name": "stdout",
     "output_type": "stream",
     "text": [
      "num2 more : tmp_data_arr : (100, 9858) || vec_arr : (56200, 9858)\n",
      "num2 : (100, 9858) || dim : 2\n"
     ]
    },
    {
     "name": "stderr",
     "output_type": "stream",
     "text": [
      " 56%|█████▋    | 563/1000 [05:23<08:37,  1.19s/it]"
     ]
    },
    {
     "name": "stdout",
     "output_type": "stream",
     "text": [
      "num2 more : tmp_data_arr : (100, 9858) || vec_arr : (56300, 9858)\n",
      "num2 : (100, 9858) || dim : 2\n"
     ]
    },
    {
     "name": "stderr",
     "output_type": "stream",
     "text": [
      " 56%|█████▋    | 564/1000 [05:24<08:35,  1.18s/it]"
     ]
    },
    {
     "name": "stdout",
     "output_type": "stream",
     "text": [
      "num2 more : tmp_data_arr : (100, 9858) || vec_arr : (56400, 9858)\n",
      "num2 : (100, 9858) || dim : 2\n"
     ]
    },
    {
     "name": "stderr",
     "output_type": "stream",
     "text": [
      " 56%|█████▋    | 565/1000 [05:25<08:27,  1.17s/it]"
     ]
    },
    {
     "name": "stdout",
     "output_type": "stream",
     "text": [
      "num2 more : tmp_data_arr : (100, 9858) || vec_arr : (56500, 9858)\n",
      "num2 : (100, 9858) || dim : 2\n"
     ]
    },
    {
     "name": "stderr",
     "output_type": "stream",
     "text": [
      " 57%|█████▋    | 566/1000 [05:27<08:36,  1.19s/it]"
     ]
    },
    {
     "name": "stdout",
     "output_type": "stream",
     "text": [
      "num2 more : tmp_data_arr : (100, 9858) || vec_arr : (56600, 9858)\n",
      "num2 : (100, 9858) || dim : 2\n"
     ]
    },
    {
     "name": "stderr",
     "output_type": "stream",
     "text": [
      " 57%|█████▋    | 567/1000 [05:28<08:29,  1.18s/it]"
     ]
    },
    {
     "name": "stdout",
     "output_type": "stream",
     "text": [
      "num2 more : tmp_data_arr : (100, 9858) || vec_arr : (56700, 9858)\n",
      "num2 : (100, 9858) || dim : 2\n"
     ]
    },
    {
     "name": "stderr",
     "output_type": "stream",
     "text": [
      " 57%|█████▋    | 568/1000 [05:29<08:28,  1.18s/it]"
     ]
    },
    {
     "name": "stdout",
     "output_type": "stream",
     "text": [
      "num2 more : tmp_data_arr : (100, 9858) || vec_arr : (56800, 9858)\n",
      "num2 : (100, 9858) || dim : 2\n"
     ]
    },
    {
     "name": "stderr",
     "output_type": "stream",
     "text": [
      " 57%|█████▋    | 569/1000 [05:30<08:19,  1.16s/it]"
     ]
    },
    {
     "name": "stdout",
     "output_type": "stream",
     "text": [
      "num2 more : tmp_data_arr : (100, 9858) || vec_arr : (56900, 9858)\n",
      "num2 : (100, 9858) || dim : 2\n"
     ]
    },
    {
     "name": "stderr",
     "output_type": "stream",
     "text": [
      " 57%|█████▋    | 570/1000 [05:31<08:33,  1.19s/it]"
     ]
    },
    {
     "name": "stdout",
     "output_type": "stream",
     "text": [
      "num2 more : tmp_data_arr : (100, 9858) || vec_arr : (57000, 9858)\n",
      "num2 : (100, 9858) || dim : 2\n"
     ]
    },
    {
     "name": "stderr",
     "output_type": "stream",
     "text": [
      " 57%|█████▋    | 571/1000 [05:32<08:25,  1.18s/it]"
     ]
    },
    {
     "name": "stdout",
     "output_type": "stream",
     "text": [
      "num2 more : tmp_data_arr : (100, 9858) || vec_arr : (57100, 9858)\n",
      "num2 : (100, 9858) || dim : 2\n"
     ]
    },
    {
     "name": "stderr",
     "output_type": "stream",
     "text": [
      " 57%|█████▋    | 572/1000 [05:34<08:29,  1.19s/it]"
     ]
    },
    {
     "name": "stdout",
     "output_type": "stream",
     "text": [
      "num2 more : tmp_data_arr : (100, 9858) || vec_arr : (57200, 9858)\n",
      "num2 : (100, 9858) || dim : 2\n"
     ]
    },
    {
     "name": "stderr",
     "output_type": "stream",
     "text": [
      " 57%|█████▋    | 573/1000 [05:35<08:22,  1.18s/it]"
     ]
    },
    {
     "name": "stdout",
     "output_type": "stream",
     "text": [
      "num2 more : tmp_data_arr : (100, 9858) || vec_arr : (57300, 9858)\n",
      "num2 : (100, 9858) || dim : 2\n"
     ]
    },
    {
     "name": "stderr",
     "output_type": "stream",
     "text": [
      " 57%|█████▋    | 574/1000 [05:36<08:33,  1.21s/it]"
     ]
    },
    {
     "name": "stdout",
     "output_type": "stream",
     "text": [
      "num2 more : tmp_data_arr : (100, 9858) || vec_arr : (57400, 9858)\n",
      "num2 : (100, 9858) || dim : 2\n"
     ]
    },
    {
     "name": "stderr",
     "output_type": "stream",
     "text": [
      " 57%|█████▊    | 575/1000 [05:37<08:26,  1.19s/it]"
     ]
    },
    {
     "name": "stdout",
     "output_type": "stream",
     "text": [
      "num2 more : tmp_data_arr : (100, 9858) || vec_arr : (57500, 9858)\n",
      "num2 : (100, 9858) || dim : 2\n"
     ]
    },
    {
     "name": "stderr",
     "output_type": "stream",
     "text": [
      " 58%|█████▊    | 576/1000 [05:38<08:23,  1.19s/it]"
     ]
    },
    {
     "name": "stdout",
     "output_type": "stream",
     "text": [
      "num2 more : tmp_data_arr : (100, 9858) || vec_arr : (57600, 9858)\n",
      "num2 : (100, 9858) || dim : 2\n"
     ]
    },
    {
     "name": "stderr",
     "output_type": "stream",
     "text": [
      " 58%|█████▊    | 577/1000 [05:40<08:17,  1.18s/it]"
     ]
    },
    {
     "name": "stdout",
     "output_type": "stream",
     "text": [
      "num2 more : tmp_data_arr : (100, 9858) || vec_arr : (57700, 9858)\n",
      "num2 : (100, 9858) || dim : 2\n"
     ]
    },
    {
     "name": "stderr",
     "output_type": "stream",
     "text": [
      " 58%|█████▊    | 578/1000 [05:41<08:14,  1.17s/it]"
     ]
    },
    {
     "name": "stdout",
     "output_type": "stream",
     "text": [
      "num2 more : tmp_data_arr : (100, 9858) || vec_arr : (57800, 9858)\n",
      "num2 : (100, 9858) || dim : 2\n"
     ]
    },
    {
     "name": "stderr",
     "output_type": "stream",
     "text": [
      " 58%|█████▊    | 579/1000 [05:42<08:14,  1.17s/it]"
     ]
    },
    {
     "name": "stdout",
     "output_type": "stream",
     "text": [
      "num2 more : tmp_data_arr : (100, 9858) || vec_arr : (57900, 9858)\n",
      "num2 : (100, 9858) || dim : 2\n"
     ]
    },
    {
     "name": "stderr",
     "output_type": "stream",
     "text": [
      " 58%|█████▊    | 580/1000 [05:43<08:11,  1.17s/it]"
     ]
    },
    {
     "name": "stdout",
     "output_type": "stream",
     "text": [
      "num2 more : tmp_data_arr : (100, 9858) || vec_arr : (58000, 9858)\n",
      "num2 : (100, 9858) || dim : 2\n"
     ]
    },
    {
     "name": "stderr",
     "output_type": "stream",
     "text": [
      " 58%|█████▊    | 581/1000 [05:44<08:16,  1.19s/it]"
     ]
    },
    {
     "name": "stdout",
     "output_type": "stream",
     "text": [
      "num2 more : tmp_data_arr : (100, 9858) || vec_arr : (58100, 9858)\n",
      "num2 : (100, 9858) || dim : 2\n"
     ]
    },
    {
     "name": "stderr",
     "output_type": "stream",
     "text": [
      " 58%|█████▊    | 582/1000 [05:45<08:17,  1.19s/it]"
     ]
    },
    {
     "name": "stdout",
     "output_type": "stream",
     "text": [
      "num2 more : tmp_data_arr : (100, 9858) || vec_arr : (58200, 9858)\n",
      "num2 : (100, 9858) || dim : 2\n"
     ]
    },
    {
     "name": "stderr",
     "output_type": "stream",
     "text": [
      " 58%|█████▊    | 583/1000 [05:47<08:15,  1.19s/it]"
     ]
    },
    {
     "name": "stdout",
     "output_type": "stream",
     "text": [
      "num2 more : tmp_data_arr : (100, 9858) || vec_arr : (58300, 9858)\n",
      "num2 : (100, 9858) || dim : 2\n"
     ]
    },
    {
     "name": "stderr",
     "output_type": "stream",
     "text": [
      " 58%|█████▊    | 584/1000 [05:48<08:22,  1.21s/it]"
     ]
    },
    {
     "name": "stdout",
     "output_type": "stream",
     "text": [
      "num2 more : tmp_data_arr : (100, 9858) || vec_arr : (58400, 9858)\n",
      "num2 : (100, 9858) || dim : 2\n"
     ]
    },
    {
     "name": "stderr",
     "output_type": "stream",
     "text": [
      " 58%|█████▊    | 585/1000 [05:49<08:20,  1.21s/it]"
     ]
    },
    {
     "name": "stdout",
     "output_type": "stream",
     "text": [
      "num2 more : tmp_data_arr : (100, 9858) || vec_arr : (58500, 9858)\n",
      "num2 : (100, 9858) || dim : 2\n"
     ]
    },
    {
     "name": "stderr",
     "output_type": "stream",
     "text": [
      " 59%|█████▊    | 586/1000 [05:50<08:27,  1.23s/it]"
     ]
    },
    {
     "name": "stdout",
     "output_type": "stream",
     "text": [
      "num2 more : tmp_data_arr : (100, 9858) || vec_arr : (58600, 9858)\n",
      "num2 : (100, 9858) || dim : 2\n"
     ]
    },
    {
     "name": "stderr",
     "output_type": "stream",
     "text": [
      " 59%|█████▊    | 587/1000 [05:52<08:23,  1.22s/it]"
     ]
    },
    {
     "name": "stdout",
     "output_type": "stream",
     "text": [
      "num2 more : tmp_data_arr : (100, 9858) || vec_arr : (58700, 9858)\n",
      "num2 : (100, 9858) || dim : 2\n"
     ]
    },
    {
     "name": "stderr",
     "output_type": "stream",
     "text": [
      " 59%|█████▉    | 588/1000 [05:53<08:22,  1.22s/it]"
     ]
    },
    {
     "name": "stdout",
     "output_type": "stream",
     "text": [
      "num2 more : tmp_data_arr : (100, 9858) || vec_arr : (58800, 9858)\n",
      "num2 : (100, 9858) || dim : 2\n"
     ]
    },
    {
     "name": "stderr",
     "output_type": "stream",
     "text": [
      " 59%|█████▉    | 589/1000 [05:54<08:23,  1.23s/it]"
     ]
    },
    {
     "name": "stdout",
     "output_type": "stream",
     "text": [
      "num2 more : tmp_data_arr : (100, 9858) || vec_arr : (58900, 9858)\n",
      "num2 : (100, 9858) || dim : 2\n"
     ]
    },
    {
     "name": "stderr",
     "output_type": "stream",
     "text": [
      " 59%|█████▉    | 590/1000 [05:55<08:25,  1.23s/it]"
     ]
    },
    {
     "name": "stdout",
     "output_type": "stream",
     "text": [
      "num2 more : tmp_data_arr : (100, 9858) || vec_arr : (59000, 9858)\n",
      "num2 : (100, 9858) || dim : 2\n"
     ]
    },
    {
     "name": "stderr",
     "output_type": "stream",
     "text": [
      " 59%|█████▉    | 591/1000 [05:57<08:27,  1.24s/it]"
     ]
    },
    {
     "name": "stdout",
     "output_type": "stream",
     "text": [
      "num2 more : tmp_data_arr : (100, 9858) || vec_arr : (59100, 9858)\n",
      "num2 : (100, 9858) || dim : 2\n"
     ]
    },
    {
     "name": "stderr",
     "output_type": "stream",
     "text": [
      " 59%|█████▉    | 592/1000 [05:58<08:27,  1.24s/it]"
     ]
    },
    {
     "name": "stdout",
     "output_type": "stream",
     "text": [
      "num2 more : tmp_data_arr : (100, 9858) || vec_arr : (59200, 9858)\n",
      "num2 : (100, 9858) || dim : 2\n"
     ]
    },
    {
     "name": "stderr",
     "output_type": "stream",
     "text": [
      " 59%|█████▉    | 593/1000 [05:59<08:15,  1.22s/it]"
     ]
    },
    {
     "name": "stdout",
     "output_type": "stream",
     "text": [
      "num2 more : tmp_data_arr : (100, 9858) || vec_arr : (59300, 9858)\n",
      "num2 : (100, 9858) || dim : 2\n"
     ]
    },
    {
     "name": "stderr",
     "output_type": "stream",
     "text": [
      " 59%|█████▉    | 594/1000 [06:00<08:28,  1.25s/it]"
     ]
    },
    {
     "name": "stdout",
     "output_type": "stream",
     "text": [
      "num2 more : tmp_data_arr : (100, 9858) || vec_arr : (59400, 9858)\n",
      "num2 : (100, 9858) || dim : 2\n"
     ]
    },
    {
     "name": "stderr",
     "output_type": "stream",
     "text": [
      " 60%|█████▉    | 595/1000 [06:01<08:22,  1.24s/it]"
     ]
    },
    {
     "name": "stdout",
     "output_type": "stream",
     "text": [
      "num2 more : tmp_data_arr : (100, 9858) || vec_arr : (59500, 9858)\n",
      "num2 : (100, 9858) || dim : 2\n"
     ]
    },
    {
     "name": "stderr",
     "output_type": "stream",
     "text": [
      " 60%|█████▉    | 596/1000 [06:03<08:24,  1.25s/it]"
     ]
    },
    {
     "name": "stdout",
     "output_type": "stream",
     "text": [
      "num2 more : tmp_data_arr : (100, 9858) || vec_arr : (59600, 9858)\n",
      "num2 : (100, 9858) || dim : 2\n"
     ]
    },
    {
     "name": "stderr",
     "output_type": "stream",
     "text": [
      " 60%|█████▉    | 597/1000 [06:04<08:18,  1.24s/it]"
     ]
    },
    {
     "name": "stdout",
     "output_type": "stream",
     "text": [
      "num2 more : tmp_data_arr : (100, 9858) || vec_arr : (59700, 9858)\n",
      "num2 : (100, 9858) || dim : 2\n"
     ]
    },
    {
     "name": "stderr",
     "output_type": "stream",
     "text": [
      " 60%|█████▉    | 598/1000 [06:05<08:19,  1.24s/it]"
     ]
    },
    {
     "name": "stdout",
     "output_type": "stream",
     "text": [
      "num2 more : tmp_data_arr : (100, 9858) || vec_arr : (59800, 9858)\n",
      "num2 : (100, 9858) || dim : 2\n"
     ]
    },
    {
     "name": "stderr",
     "output_type": "stream",
     "text": [
      " 60%|█████▉    | 599/1000 [06:06<08:12,  1.23s/it]"
     ]
    },
    {
     "name": "stdout",
     "output_type": "stream",
     "text": [
      "num2 more : tmp_data_arr : (100, 9858) || vec_arr : (59900, 9858)\n",
      "num2 : (100, 9858) || dim : 2\n"
     ]
    },
    {
     "name": "stderr",
     "output_type": "stream",
     "text": [
      " 60%|██████    | 600/1000 [06:08<08:20,  1.25s/it]"
     ]
    },
    {
     "name": "stdout",
     "output_type": "stream",
     "text": [
      "num2 more : tmp_data_arr : (100, 9858) || vec_arr : (60000, 9858)\n",
      "num2 : (100, 9858) || dim : 2\n"
     ]
    },
    {
     "name": "stderr",
     "output_type": "stream",
     "text": [
      " 60%|██████    | 601/1000 [06:09<08:13,  1.24s/it]"
     ]
    },
    {
     "name": "stdout",
     "output_type": "stream",
     "text": [
      "num2 more : tmp_data_arr : (100, 9858) || vec_arr : (60100, 9858)\n",
      "num2 : (100, 9858) || dim : 2\n"
     ]
    },
    {
     "name": "stderr",
     "output_type": "stream",
     "text": [
      " 60%|██████    | 602/1000 [06:10<08:16,  1.25s/it]"
     ]
    },
    {
     "name": "stdout",
     "output_type": "stream",
     "text": [
      "num2 more : tmp_data_arr : (100, 9858) || vec_arr : (60200, 9858)\n",
      "num2 : (100, 9858) || dim : 2\n"
     ]
    },
    {
     "name": "stderr",
     "output_type": "stream",
     "text": [
      " 60%|██████    | 603/1000 [06:11<08:10,  1.24s/it]"
     ]
    },
    {
     "name": "stdout",
     "output_type": "stream",
     "text": [
      "num2 more : tmp_data_arr : (100, 9858) || vec_arr : (60300, 9858)\n",
      "num2 : (100, 9858) || dim : 2\n"
     ]
    },
    {
     "name": "stderr",
     "output_type": "stream",
     "text": [
      " 60%|██████    | 604/1000 [06:13<08:17,  1.26s/it]"
     ]
    },
    {
     "name": "stdout",
     "output_type": "stream",
     "text": [
      "num2 more : tmp_data_arr : (100, 9858) || vec_arr : (60400, 9858)\n",
      "num2 : (100, 9858) || dim : 2\n"
     ]
    },
    {
     "name": "stderr",
     "output_type": "stream",
     "text": [
      " 60%|██████    | 605/1000 [06:14<08:13,  1.25s/it]"
     ]
    },
    {
     "name": "stdout",
     "output_type": "stream",
     "text": [
      "num2 more : tmp_data_arr : (100, 9858) || vec_arr : (60500, 9858)\n",
      "num2 : (100, 9858) || dim : 2\n"
     ]
    },
    {
     "name": "stderr",
     "output_type": "stream",
     "text": [
      " 61%|██████    | 606/1000 [06:15<08:18,  1.27s/it]"
     ]
    },
    {
     "name": "stdout",
     "output_type": "stream",
     "text": [
      "num2 more : tmp_data_arr : (100, 9858) || vec_arr : (60600, 9858)\n",
      "num2 : (100, 9858) || dim : 2\n"
     ]
    },
    {
     "name": "stderr",
     "output_type": "stream",
     "text": [
      " 61%|██████    | 607/1000 [06:16<08:11,  1.25s/it]"
     ]
    },
    {
     "name": "stdout",
     "output_type": "stream",
     "text": [
      "num2 more : tmp_data_arr : (100, 9858) || vec_arr : (60700, 9858)\n",
      "num2 : (100, 9858) || dim : 2\n"
     ]
    },
    {
     "name": "stderr",
     "output_type": "stream",
     "text": [
      " 61%|██████    | 608/1000 [06:18<08:14,  1.26s/it]"
     ]
    },
    {
     "name": "stdout",
     "output_type": "stream",
     "text": [
      "num2 more : tmp_data_arr : (100, 9858) || vec_arr : (60800, 9858)\n",
      "num2 : (100, 9858) || dim : 2\n"
     ]
    },
    {
     "name": "stderr",
     "output_type": "stream",
     "text": [
      " 61%|██████    | 609/1000 [06:19<08:06,  1.25s/it]"
     ]
    },
    {
     "name": "stdout",
     "output_type": "stream",
     "text": [
      "num2 more : tmp_data_arr : (100, 9858) || vec_arr : (60900, 9858)\n",
      "num2 : (100, 9858) || dim : 2\n"
     ]
    },
    {
     "name": "stderr",
     "output_type": "stream",
     "text": [
      " 61%|██████    | 610/1000 [06:20<08:13,  1.26s/it]"
     ]
    },
    {
     "name": "stdout",
     "output_type": "stream",
     "text": [
      "num2 more : tmp_data_arr : (100, 9858) || vec_arr : (61000, 9858)\n",
      "num2 : (100, 9858) || dim : 2\n"
     ]
    },
    {
     "name": "stderr",
     "output_type": "stream",
     "text": [
      " 61%|██████    | 611/1000 [06:21<08:07,  1.25s/it]"
     ]
    },
    {
     "name": "stdout",
     "output_type": "stream",
     "text": [
      "num2 more : tmp_data_arr : (100, 9858) || vec_arr : (61100, 9858)\n",
      "num2 : (100, 9858) || dim : 2\n"
     ]
    },
    {
     "name": "stderr",
     "output_type": "stream",
     "text": [
      " 61%|██████    | 612/1000 [06:23<08:11,  1.27s/it]"
     ]
    },
    {
     "name": "stdout",
     "output_type": "stream",
     "text": [
      "num2 more : tmp_data_arr : (100, 9858) || vec_arr : (61200, 9858)\n",
      "num2 : (100, 9858) || dim : 2\n"
     ]
    },
    {
     "name": "stderr",
     "output_type": "stream",
     "text": [
      " 61%|██████▏   | 613/1000 [06:24<08:06,  1.26s/it]"
     ]
    },
    {
     "name": "stdout",
     "output_type": "stream",
     "text": [
      "num2 more : tmp_data_arr : (100, 9858) || vec_arr : (61300, 9858)\n",
      "num2 : (100, 9858) || dim : 2\n"
     ]
    },
    {
     "name": "stderr",
     "output_type": "stream",
     "text": [
      " 61%|██████▏   | 614/1000 [06:25<08:11,  1.27s/it]"
     ]
    },
    {
     "name": "stdout",
     "output_type": "stream",
     "text": [
      "num2 more : tmp_data_arr : (100, 9858) || vec_arr : (61400, 9858)\n",
      "num2 : (100, 9858) || dim : 2\n"
     ]
    },
    {
     "name": "stderr",
     "output_type": "stream",
     "text": [
      " 62%|██████▏   | 615/1000 [06:27<08:01,  1.25s/it]"
     ]
    },
    {
     "name": "stdout",
     "output_type": "stream",
     "text": [
      "num2 more : tmp_data_arr : (100, 9858) || vec_arr : (61500, 9858)\n",
      "num2 : (100, 9858) || dim : 2\n"
     ]
    },
    {
     "name": "stderr",
     "output_type": "stream",
     "text": [
      " 62%|██████▏   | 616/1000 [06:28<07:57,  1.24s/it]"
     ]
    },
    {
     "name": "stdout",
     "output_type": "stream",
     "text": [
      "num2 more : tmp_data_arr : (100, 9858) || vec_arr : (61600, 9858)\n",
      "num2 : (100, 9858) || dim : 2\n"
     ]
    },
    {
     "name": "stderr",
     "output_type": "stream",
     "text": [
      " 62%|██████▏   | 617/1000 [06:29<07:57,  1.25s/it]"
     ]
    },
    {
     "name": "stdout",
     "output_type": "stream",
     "text": [
      "num2 more : tmp_data_arr : (100, 9858) || vec_arr : (61700, 9858)\n",
      "num2 : (100, 9858) || dim : 2\n"
     ]
    },
    {
     "name": "stderr",
     "output_type": "stream",
     "text": [
      " 62%|██████▏   | 618/1000 [06:30<07:57,  1.25s/it]"
     ]
    },
    {
     "name": "stdout",
     "output_type": "stream",
     "text": [
      "num2 more : tmp_data_arr : (100, 9858) || vec_arr : (61800, 9858)\n",
      "num2 : (100, 9858) || dim : 2\n"
     ]
    },
    {
     "name": "stderr",
     "output_type": "stream",
     "text": [
      " 62%|██████▏   | 619/1000 [06:31<07:52,  1.24s/it]"
     ]
    },
    {
     "name": "stdout",
     "output_type": "stream",
     "text": [
      "num2 more : tmp_data_arr : (100, 9858) || vec_arr : (61900, 9858)\n",
      "num2 : (100, 9858) || dim : 2\n"
     ]
    },
    {
     "name": "stderr",
     "output_type": "stream",
     "text": [
      " 62%|██████▏   | 620/1000 [06:33<07:55,  1.25s/it]"
     ]
    },
    {
     "name": "stdout",
     "output_type": "stream",
     "text": [
      "num2 more : tmp_data_arr : (100, 9858) || vec_arr : (62000, 9858)\n",
      "num2 : (100, 9858) || dim : 2\n"
     ]
    },
    {
     "name": "stderr",
     "output_type": "stream",
     "text": [
      " 62%|██████▏   | 621/1000 [06:35<10:07,  1.60s/it]"
     ]
    },
    {
     "name": "stdout",
     "output_type": "stream",
     "text": [
      "num2 more : tmp_data_arr : (100, 9858) || vec_arr : (62100, 9858)\n",
      "num2 : (100, 9858) || dim : 2\n"
     ]
    },
    {
     "name": "stderr",
     "output_type": "stream",
     "text": [
      " 62%|██████▏   | 622/1000 [06:36<09:23,  1.49s/it]"
     ]
    },
    {
     "name": "stdout",
     "output_type": "stream",
     "text": [
      "num2 more : tmp_data_arr : (100, 9858) || vec_arr : (62200, 9858)\n",
      "num2 : (100, 9858) || dim : 2\n"
     ]
    },
    {
     "name": "stderr",
     "output_type": "stream",
     "text": [
      " 62%|██████▏   | 623/1000 [06:38<08:52,  1.41s/it]"
     ]
    },
    {
     "name": "stdout",
     "output_type": "stream",
     "text": [
      "num2 more : tmp_data_arr : (100, 9858) || vec_arr : (62300, 9858)\n",
      "num2 : (100, 9858) || dim : 2\n"
     ]
    },
    {
     "name": "stderr",
     "output_type": "stream",
     "text": [
      " 62%|██████▏   | 624/1000 [06:39<08:37,  1.38s/it]"
     ]
    },
    {
     "name": "stdout",
     "output_type": "stream",
     "text": [
      "num2 more : tmp_data_arr : (100, 9858) || vec_arr : (62400, 9858)\n",
      "num2 : (100, 9858) || dim : 2\n"
     ]
    },
    {
     "name": "stderr",
     "output_type": "stream",
     "text": [
      " 62%|██████▎   | 625/1000 [06:41<08:59,  1.44s/it]"
     ]
    },
    {
     "name": "stdout",
     "output_type": "stream",
     "text": [
      "num2 more : tmp_data_arr : (100, 9858) || vec_arr : (62500, 9858)\n",
      "num2 : (100, 9858) || dim : 2\n"
     ]
    },
    {
     "name": "stderr",
     "output_type": "stream",
     "text": [
      " 63%|██████▎   | 626/1000 [06:42<08:48,  1.41s/it]"
     ]
    },
    {
     "name": "stdout",
     "output_type": "stream",
     "text": [
      "num2 more : tmp_data_arr : (100, 9858) || vec_arr : (62600, 9858)\n",
      "num2 : (100, 9858) || dim : 2\n"
     ]
    },
    {
     "name": "stderr",
     "output_type": "stream",
     "text": [
      " 63%|██████▎   | 627/1000 [06:43<08:55,  1.44s/it]"
     ]
    },
    {
     "name": "stdout",
     "output_type": "stream",
     "text": [
      "num2 more : tmp_data_arr : (100, 9858) || vec_arr : (62700, 9858)\n",
      "num2 : (100, 9858) || dim : 2\n"
     ]
    },
    {
     "name": "stderr",
     "output_type": "stream",
     "text": [
      " 63%|██████▎   | 628/1000 [06:45<08:47,  1.42s/it]"
     ]
    },
    {
     "name": "stdout",
     "output_type": "stream",
     "text": [
      "num2 more : tmp_data_arr : (100, 9858) || vec_arr : (62800, 9858)\n",
      "num2 : (100, 9858) || dim : 2\n"
     ]
    },
    {
     "name": "stderr",
     "output_type": "stream",
     "text": [
      " 63%|██████▎   | 629/1000 [06:46<08:28,  1.37s/it]"
     ]
    },
    {
     "name": "stdout",
     "output_type": "stream",
     "text": [
      "num2 more : tmp_data_arr : (100, 9858) || vec_arr : (62900, 9858)\n",
      "num2 : (100, 9858) || dim : 2\n"
     ]
    },
    {
     "name": "stderr",
     "output_type": "stream",
     "text": [
      " 63%|██████▎   | 630/1000 [06:48<08:47,  1.43s/it]"
     ]
    },
    {
     "name": "stdout",
     "output_type": "stream",
     "text": [
      "num2 more : tmp_data_arr : (100, 9858) || vec_arr : (63000, 9858)\n",
      "num2 : (100, 9858) || dim : 2\n"
     ]
    },
    {
     "name": "stderr",
     "output_type": "stream",
     "text": [
      " 63%|██████▎   | 631/1000 [06:49<08:29,  1.38s/it]"
     ]
    },
    {
     "name": "stdout",
     "output_type": "stream",
     "text": [
      "num2 more : tmp_data_arr : (100, 9858) || vec_arr : (63100, 9858)\n",
      "num2 : (100, 9858) || dim : 2\n"
     ]
    },
    {
     "name": "stderr",
     "output_type": "stream",
     "text": [
      " 63%|██████▎   | 632/1000 [06:50<08:40,  1.41s/it]"
     ]
    },
    {
     "name": "stdout",
     "output_type": "stream",
     "text": [
      "num2 more : tmp_data_arr : (100, 9858) || vec_arr : (63200, 9858)\n",
      "num2 : (100, 9858) || dim : 2\n"
     ]
    },
    {
     "name": "stderr",
     "output_type": "stream",
     "text": [
      " 63%|██████▎   | 633/1000 [06:52<09:04,  1.48s/it]"
     ]
    },
    {
     "name": "stdout",
     "output_type": "stream",
     "text": [
      "num2 more : tmp_data_arr : (100, 9858) || vec_arr : (63300, 9858)\n",
      "num2 : (100, 9858) || dim : 2\n"
     ]
    },
    {
     "name": "stderr",
     "output_type": "stream",
     "text": [
      " 63%|██████▎   | 634/1000 [06:53<08:49,  1.45s/it]"
     ]
    },
    {
     "name": "stdout",
     "output_type": "stream",
     "text": [
      "num2 more : tmp_data_arr : (100, 9858) || vec_arr : (63400, 9858)\n",
      "num2 : (100, 9858) || dim : 2\n"
     ]
    },
    {
     "name": "stderr",
     "output_type": "stream",
     "text": [
      " 64%|██████▎   | 635/1000 [06:55<08:30,  1.40s/it]"
     ]
    },
    {
     "name": "stdout",
     "output_type": "stream",
     "text": [
      "num2 more : tmp_data_arr : (100, 9858) || vec_arr : (63500, 9858)\n",
      "num2 : (100, 9858) || dim : 2\n"
     ]
    },
    {
     "name": "stderr",
     "output_type": "stream",
     "text": [
      " 64%|██████▎   | 636/1000 [06:56<08:17,  1.37s/it]"
     ]
    },
    {
     "name": "stdout",
     "output_type": "stream",
     "text": [
      "num2 more : tmp_data_arr : (100, 9858) || vec_arr : (63600, 9858)\n",
      "num2 : (100, 9858) || dim : 2\n"
     ]
    },
    {
     "name": "stderr",
     "output_type": "stream",
     "text": [
      " 64%|██████▎   | 637/1000 [06:57<08:07,  1.34s/it]"
     ]
    },
    {
     "name": "stdout",
     "output_type": "stream",
     "text": [
      "num2 more : tmp_data_arr : (100, 9858) || vec_arr : (63700, 9858)\n",
      "num2 : (100, 9858) || dim : 2\n"
     ]
    },
    {
     "name": "stderr",
     "output_type": "stream",
     "text": [
      " 64%|██████▍   | 638/1000 [06:58<08:01,  1.33s/it]"
     ]
    },
    {
     "name": "stdout",
     "output_type": "stream",
     "text": [
      "num2 more : tmp_data_arr : (100, 9858) || vec_arr : (63800, 9858)\n",
      "num2 : (100, 9858) || dim : 2\n"
     ]
    },
    {
     "name": "stderr",
     "output_type": "stream",
     "text": [
      " 64%|██████▍   | 639/1000 [07:00<08:15,  1.37s/it]"
     ]
    },
    {
     "name": "stdout",
     "output_type": "stream",
     "text": [
      "num2 more : tmp_data_arr : (100, 9858) || vec_arr : (63900, 9858)\n",
      "num2 : (100, 9858) || dim : 2\n"
     ]
    },
    {
     "name": "stderr",
     "output_type": "stream",
     "text": [
      " 64%|██████▍   | 640/1000 [07:01<08:04,  1.35s/it]"
     ]
    },
    {
     "name": "stdout",
     "output_type": "stream",
     "text": [
      "num2 more : tmp_data_arr : (100, 9858) || vec_arr : (64000, 9858)\n",
      "num2 : (100, 9858) || dim : 2\n"
     ]
    },
    {
     "name": "stderr",
     "output_type": "stream",
     "text": [
      " 64%|██████▍   | 641/1000 [07:03<07:58,  1.33s/it]"
     ]
    },
    {
     "name": "stdout",
     "output_type": "stream",
     "text": [
      "num2 more : tmp_data_arr : (100, 9858) || vec_arr : (64100, 9858)\n",
      "num2 : (100, 9858) || dim : 2\n"
     ]
    },
    {
     "name": "stderr",
     "output_type": "stream",
     "text": [
      " 64%|██████▍   | 642/1000 [07:04<07:56,  1.33s/it]"
     ]
    },
    {
     "name": "stdout",
     "output_type": "stream",
     "text": [
      "num2 more : tmp_data_arr : (100, 9858) || vec_arr : (64200, 9858)\n",
      "num2 : (100, 9858) || dim : 2\n"
     ]
    },
    {
     "name": "stderr",
     "output_type": "stream",
     "text": [
      " 64%|██████▍   | 643/1000 [07:05<07:51,  1.32s/it]"
     ]
    },
    {
     "name": "stdout",
     "output_type": "stream",
     "text": [
      "num2 more : tmp_data_arr : (100, 9858) || vec_arr : (64300, 9858)\n",
      "num2 : (100, 9858) || dim : 2\n"
     ]
    },
    {
     "name": "stderr",
     "output_type": "stream",
     "text": [
      " 64%|██████▍   | 644/1000 [07:06<07:46,  1.31s/it]"
     ]
    },
    {
     "name": "stdout",
     "output_type": "stream",
     "text": [
      "num2 more : tmp_data_arr : (100, 9858) || vec_arr : (64400, 9858)\n",
      "num2 : (100, 9858) || dim : 2\n"
     ]
    },
    {
     "name": "stderr",
     "output_type": "stream",
     "text": [
      " 64%|██████▍   | 645/1000 [07:08<07:45,  1.31s/it]"
     ]
    },
    {
     "name": "stdout",
     "output_type": "stream",
     "text": [
      "num2 more : tmp_data_arr : (100, 9858) || vec_arr : (64500, 9858)\n",
      "num2 : (100, 9858) || dim : 2\n"
     ]
    },
    {
     "name": "stderr",
     "output_type": "stream",
     "text": [
      " 65%|██████▍   | 646/1000 [07:09<07:44,  1.31s/it]"
     ]
    },
    {
     "name": "stdout",
     "output_type": "stream",
     "text": [
      "num2 more : tmp_data_arr : (100, 9858) || vec_arr : (64600, 9858)\n",
      "num2 : (100, 9858) || dim : 2\n"
     ]
    },
    {
     "name": "stderr",
     "output_type": "stream",
     "text": [
      " 65%|██████▍   | 647/1000 [07:10<07:42,  1.31s/it]"
     ]
    },
    {
     "name": "stdout",
     "output_type": "stream",
     "text": [
      "num2 more : tmp_data_arr : (100, 9858) || vec_arr : (64700, 9858)\n",
      "num2 : (100, 9858) || dim : 2\n"
     ]
    },
    {
     "name": "stderr",
     "output_type": "stream",
     "text": [
      " 65%|██████▍   | 648/1000 [07:12<07:39,  1.31s/it]"
     ]
    },
    {
     "name": "stdout",
     "output_type": "stream",
     "text": [
      "num2 more : tmp_data_arr : (100, 9858) || vec_arr : (64800, 9858)\n",
      "num2 : (100, 9858) || dim : 2\n"
     ]
    },
    {
     "name": "stderr",
     "output_type": "stream",
     "text": [
      " 65%|██████▍   | 649/1000 [07:13<07:35,  1.30s/it]"
     ]
    },
    {
     "name": "stdout",
     "output_type": "stream",
     "text": [
      "num2 more : tmp_data_arr : (100, 9858) || vec_arr : (64900, 9858)\n",
      "num2 : (100, 9858) || dim : 2\n"
     ]
    },
    {
     "name": "stderr",
     "output_type": "stream",
     "text": [
      " 65%|██████▌   | 650/1000 [07:14<07:37,  1.31s/it]"
     ]
    },
    {
     "name": "stdout",
     "output_type": "stream",
     "text": [
      "num2 more : tmp_data_arr : (100, 9858) || vec_arr : (65000, 9858)\n",
      "num2 : (100, 9858) || dim : 2\n"
     ]
    },
    {
     "name": "stderr",
     "output_type": "stream",
     "text": [
      " 65%|██████▌   | 651/1000 [07:16<07:36,  1.31s/it]"
     ]
    },
    {
     "name": "stdout",
     "output_type": "stream",
     "text": [
      "num2 more : tmp_data_arr : (100, 9858) || vec_arr : (65100, 9858)\n",
      "num2 : (100, 9858) || dim : 2\n"
     ]
    },
    {
     "name": "stderr",
     "output_type": "stream",
     "text": [
      " 65%|██████▌   | 652/1000 [07:17<07:36,  1.31s/it]"
     ]
    },
    {
     "name": "stdout",
     "output_type": "stream",
     "text": [
      "num2 more : tmp_data_arr : (100, 9858) || vec_arr : (65200, 9858)\n",
      "num2 : (100, 9858) || dim : 2\n"
     ]
    },
    {
     "name": "stderr",
     "output_type": "stream",
     "text": [
      " 65%|██████▌   | 653/1000 [07:18<07:37,  1.32s/it]"
     ]
    },
    {
     "name": "stdout",
     "output_type": "stream",
     "text": [
      "num2 more : tmp_data_arr : (100, 9858) || vec_arr : (65300, 9858)\n",
      "num2 : (100, 9858) || dim : 2\n"
     ]
    },
    {
     "name": "stderr",
     "output_type": "stream",
     "text": [
      " 65%|██████▌   | 654/1000 [07:20<07:35,  1.32s/it]"
     ]
    },
    {
     "name": "stdout",
     "output_type": "stream",
     "text": [
      "num2 more : tmp_data_arr : (100, 9858) || vec_arr : (65400, 9858)\n",
      "num2 : (100, 9858) || dim : 2\n"
     ]
    },
    {
     "name": "stderr",
     "output_type": "stream",
     "text": [
      " 66%|██████▌   | 655/1000 [07:21<07:32,  1.31s/it]"
     ]
    },
    {
     "name": "stdout",
     "output_type": "stream",
     "text": [
      "num2 more : tmp_data_arr : (100, 9858) || vec_arr : (65500, 9858)\n",
      "num2 : (100, 9858) || dim : 2\n"
     ]
    },
    {
     "name": "stderr",
     "output_type": "stream",
     "text": [
      " 66%|██████▌   | 656/1000 [07:22<07:32,  1.32s/it]"
     ]
    },
    {
     "name": "stdout",
     "output_type": "stream",
     "text": [
      "num2 more : tmp_data_arr : (100, 9858) || vec_arr : (65600, 9858)\n",
      "num2 : (100, 9858) || dim : 2\n"
     ]
    },
    {
     "name": "stderr",
     "output_type": "stream",
     "text": [
      " 66%|██████▌   | 657/1000 [07:24<07:32,  1.32s/it]"
     ]
    },
    {
     "name": "stdout",
     "output_type": "stream",
     "text": [
      "num2 more : tmp_data_arr : (100, 9858) || vec_arr : (65700, 9858)\n",
      "num2 : (100, 9858) || dim : 2\n"
     ]
    },
    {
     "name": "stderr",
     "output_type": "stream",
     "text": [
      " 66%|██████▌   | 658/1000 [07:25<07:30,  1.32s/it]"
     ]
    },
    {
     "name": "stdout",
     "output_type": "stream",
     "text": [
      "num2 more : tmp_data_arr : (100, 9858) || vec_arr : (65800, 9858)\n",
      "num2 : (100, 9858) || dim : 2\n"
     ]
    },
    {
     "name": "stderr",
     "output_type": "stream",
     "text": [
      " 66%|██████▌   | 659/1000 [07:26<07:55,  1.39s/it]"
     ]
    },
    {
     "name": "stdout",
     "output_type": "stream",
     "text": [
      "num2 more : tmp_data_arr : (100, 9858) || vec_arr : (65900, 9858)\n",
      "num2 : (100, 9858) || dim : 2\n"
     ]
    },
    {
     "name": "stderr",
     "output_type": "stream",
     "text": [
      " 66%|██████▌   | 660/1000 [07:28<08:05,  1.43s/it]"
     ]
    },
    {
     "name": "stdout",
     "output_type": "stream",
     "text": [
      "num2 more : tmp_data_arr : (100, 9858) || vec_arr : (66000, 9858)\n",
      "num2 : (100, 9858) || dim : 2\n"
     ]
    },
    {
     "name": "stderr",
     "output_type": "stream",
     "text": [
      " 66%|██████▌   | 661/1000 [07:29<08:18,  1.47s/it]"
     ]
    },
    {
     "name": "stdout",
     "output_type": "stream",
     "text": [
      "num2 more : tmp_data_arr : (100, 9858) || vec_arr : (66100, 9858)\n",
      "num2 : (100, 9858) || dim : 2\n"
     ]
    },
    {
     "name": "stderr",
     "output_type": "stream",
     "text": [
      " 66%|██████▌   | 662/1000 [07:31<08:07,  1.44s/it]"
     ]
    },
    {
     "name": "stdout",
     "output_type": "stream",
     "text": [
      "num2 more : tmp_data_arr : (100, 9858) || vec_arr : (66200, 9858)\n",
      "num2 : (100, 9858) || dim : 2\n"
     ]
    },
    {
     "name": "stderr",
     "output_type": "stream",
     "text": [
      " 66%|██████▋   | 663/1000 [07:32<08:19,  1.48s/it]"
     ]
    },
    {
     "name": "stdout",
     "output_type": "stream",
     "text": [
      "num2 more : tmp_data_arr : (100, 9858) || vec_arr : (66300, 9858)\n",
      "num2 : (100, 9858) || dim : 2\n"
     ]
    },
    {
     "name": "stderr",
     "output_type": "stream",
     "text": [
      " 66%|██████▋   | 664/1000 [07:34<08:09,  1.46s/it]"
     ]
    },
    {
     "name": "stdout",
     "output_type": "stream",
     "text": [
      "num2 more : tmp_data_arr : (100, 9858) || vec_arr : (66400, 9858)\n",
      "num2 : (100, 9858) || dim : 2\n"
     ]
    },
    {
     "name": "stderr",
     "output_type": "stream",
     "text": [
      " 66%|██████▋   | 665/1000 [07:35<08:19,  1.49s/it]"
     ]
    },
    {
     "name": "stdout",
     "output_type": "stream",
     "text": [
      "num2 more : tmp_data_arr : (100, 9858) || vec_arr : (66500, 9858)\n",
      "num2 : (100, 9858) || dim : 2\n"
     ]
    },
    {
     "name": "stderr",
     "output_type": "stream",
     "text": [
      " 67%|██████▋   | 666/1000 [07:37<08:10,  1.47s/it]"
     ]
    },
    {
     "name": "stdout",
     "output_type": "stream",
     "text": [
      "num2 more : tmp_data_arr : (100, 9858) || vec_arr : (66600, 9858)\n",
      "num2 : (100, 9858) || dim : 2\n"
     ]
    },
    {
     "name": "stderr",
     "output_type": "stream",
     "text": [
      " 67%|██████▋   | 667/1000 [07:38<07:55,  1.43s/it]"
     ]
    },
    {
     "name": "stdout",
     "output_type": "stream",
     "text": [
      "num2 more : tmp_data_arr : (100, 9858) || vec_arr : (66700, 9858)\n",
      "num2 : (100, 9858) || dim : 2\n"
     ]
    },
    {
     "name": "stderr",
     "output_type": "stream",
     "text": [
      " 67%|██████▋   | 668/1000 [07:39<07:45,  1.40s/it]"
     ]
    },
    {
     "name": "stdout",
     "output_type": "stream",
     "text": [
      "num2 more : tmp_data_arr : (100, 9858) || vec_arr : (66800, 9858)\n",
      "num2 : (100, 9858) || dim : 2\n"
     ]
    },
    {
     "name": "stderr",
     "output_type": "stream",
     "text": [
      " 67%|██████▋   | 669/1000 [07:41<07:40,  1.39s/it]"
     ]
    },
    {
     "name": "stdout",
     "output_type": "stream",
     "text": [
      "num2 more : tmp_data_arr : (100, 9858) || vec_arr : (66900, 9858)\n",
      "num2 : (100, 9858) || dim : 2\n"
     ]
    },
    {
     "name": "stderr",
     "output_type": "stream",
     "text": [
      " 67%|██████▋   | 670/1000 [07:42<07:34,  1.38s/it]"
     ]
    },
    {
     "name": "stdout",
     "output_type": "stream",
     "text": [
      "num2 more : tmp_data_arr : (100, 9858) || vec_arr : (67000, 9858)\n",
      "num2 : (100, 9858) || dim : 2\n"
     ]
    },
    {
     "name": "stderr",
     "output_type": "stream",
     "text": [
      " 67%|██████▋   | 671/1000 [07:44<07:33,  1.38s/it]"
     ]
    },
    {
     "name": "stdout",
     "output_type": "stream",
     "text": [
      "num2 more : tmp_data_arr : (100, 9858) || vec_arr : (67100, 9858)\n",
      "num2 : (100, 9858) || dim : 2\n"
     ]
    },
    {
     "name": "stderr",
     "output_type": "stream",
     "text": [
      " 67%|██████▋   | 672/1000 [07:45<07:29,  1.37s/it]"
     ]
    },
    {
     "name": "stdout",
     "output_type": "stream",
     "text": [
      "num2 more : tmp_data_arr : (100, 9858) || vec_arr : (67200, 9858)\n",
      "num2 : (100, 9858) || dim : 2\n"
     ]
    },
    {
     "name": "stderr",
     "output_type": "stream",
     "text": [
      " 67%|██████▋   | 673/1000 [07:46<07:25,  1.36s/it]"
     ]
    },
    {
     "name": "stdout",
     "output_type": "stream",
     "text": [
      "num2 more : tmp_data_arr : (100, 9858) || vec_arr : (67300, 9858)\n",
      "num2 : (100, 9858) || dim : 2\n"
     ]
    },
    {
     "name": "stderr",
     "output_type": "stream",
     "text": [
      " 67%|██████▋   | 674/1000 [07:48<07:23,  1.36s/it]"
     ]
    },
    {
     "name": "stdout",
     "output_type": "stream",
     "text": [
      "num2 more : tmp_data_arr : (100, 9858) || vec_arr : (67400, 9858)\n",
      "num2 : (100, 9858) || dim : 2\n"
     ]
    },
    {
     "name": "stderr",
     "output_type": "stream",
     "text": [
      " 68%|██████▊   | 675/1000 [07:49<07:20,  1.36s/it]"
     ]
    },
    {
     "name": "stdout",
     "output_type": "stream",
     "text": [
      "num2 more : tmp_data_arr : (100, 9858) || vec_arr : (67500, 9858)\n",
      "num2 : (100, 9858) || dim : 2\n"
     ]
    },
    {
     "name": "stderr",
     "output_type": "stream",
     "text": [
      " 68%|██████▊   | 676/1000 [07:50<07:27,  1.38s/it]"
     ]
    },
    {
     "name": "stdout",
     "output_type": "stream",
     "text": [
      "num2 more : tmp_data_arr : (100, 9858) || vec_arr : (67600, 9858)\n",
      "num2 : (100, 9858) || dim : 2\n"
     ]
    },
    {
     "name": "stderr",
     "output_type": "stream",
     "text": [
      " 68%|██████▊   | 677/1000 [07:52<07:21,  1.37s/it]"
     ]
    },
    {
     "name": "stdout",
     "output_type": "stream",
     "text": [
      "num2 more : tmp_data_arr : (100, 9858) || vec_arr : (67700, 9858)\n",
      "num2 : (100, 9858) || dim : 2\n"
     ]
    },
    {
     "name": "stderr",
     "output_type": "stream",
     "text": [
      " 68%|██████▊   | 678/1000 [07:53<07:19,  1.36s/it]"
     ]
    },
    {
     "name": "stdout",
     "output_type": "stream",
     "text": [
      "num2 more : tmp_data_arr : (100, 9858) || vec_arr : (67800, 9858)\n",
      "num2 : (100, 9858) || dim : 2\n"
     ]
    },
    {
     "name": "stderr",
     "output_type": "stream",
     "text": [
      " 68%|██████▊   | 679/1000 [07:54<07:18,  1.37s/it]"
     ]
    },
    {
     "name": "stdout",
     "output_type": "stream",
     "text": [
      "num2 more : tmp_data_arr : (100, 9858) || vec_arr : (67900, 9858)\n",
      "num2 : (100, 9858) || dim : 2\n"
     ]
    },
    {
     "name": "stderr",
     "output_type": "stream",
     "text": [
      " 68%|██████▊   | 680/1000 [07:56<07:17,  1.37s/it]"
     ]
    },
    {
     "name": "stdout",
     "output_type": "stream",
     "text": [
      "num2 more : tmp_data_arr : (100, 9858) || vec_arr : (68000, 9858)\n",
      "num2 : (100, 9858) || dim : 2\n"
     ]
    },
    {
     "name": "stderr",
     "output_type": "stream",
     "text": [
      " 68%|██████▊   | 681/1000 [07:57<07:17,  1.37s/it]"
     ]
    },
    {
     "name": "stdout",
     "output_type": "stream",
     "text": [
      "num2 more : tmp_data_arr : (100, 9858) || vec_arr : (68100, 9858)\n",
      "num2 : (100, 9858) || dim : 2\n"
     ]
    },
    {
     "name": "stderr",
     "output_type": "stream",
     "text": [
      " 68%|██████▊   | 682/1000 [07:59<07:22,  1.39s/it]"
     ]
    },
    {
     "name": "stdout",
     "output_type": "stream",
     "text": [
      "num2 more : tmp_data_arr : (100, 9858) || vec_arr : (68200, 9858)\n",
      "num2 : (100, 9858) || dim : 2\n"
     ]
    },
    {
     "name": "stderr",
     "output_type": "stream",
     "text": [
      " 68%|██████▊   | 683/1000 [08:00<07:15,  1.37s/it]"
     ]
    },
    {
     "name": "stdout",
     "output_type": "stream",
     "text": [
      "num2 more : tmp_data_arr : (100, 9858) || vec_arr : (68300, 9858)\n",
      "num2 : (100, 9858) || dim : 2\n"
     ]
    },
    {
     "name": "stderr",
     "output_type": "stream",
     "text": [
      " 68%|██████▊   | 684/1000 [08:04<10:56,  2.08s/it]"
     ]
    },
    {
     "name": "stdout",
     "output_type": "stream",
     "text": [
      "num2 more : tmp_data_arr : (100, 9858) || vec_arr : (68400, 9858)\n",
      "num2 : (100, 9858) || dim : 2\n"
     ]
    },
    {
     "name": "stderr",
     "output_type": "stream",
     "text": [
      " 68%|██████▊   | 685/1000 [08:07<12:04,  2.30s/it]"
     ]
    },
    {
     "name": "stdout",
     "output_type": "stream",
     "text": [
      "num2 more : tmp_data_arr : (100, 9858) || vec_arr : (68500, 9858)\n",
      "num2 : (100, 9858) || dim : 2\n"
     ]
    },
    {
     "name": "stderr",
     "output_type": "stream",
     "text": [
      " 69%|██████▊   | 686/1000 [08:08<11:04,  2.12s/it]"
     ]
    },
    {
     "name": "stdout",
     "output_type": "stream",
     "text": [
      "num2 more : tmp_data_arr : (100, 9858) || vec_arr : (68600, 9858)\n",
      "num2 : (100, 9858) || dim : 2\n"
     ]
    },
    {
     "name": "stderr",
     "output_type": "stream",
     "text": [
      " 69%|██████▊   | 687/1000 [08:10<10:14,  1.96s/it]"
     ]
    },
    {
     "name": "stdout",
     "output_type": "stream",
     "text": [
      "num2 more : tmp_data_arr : (100, 9858) || vec_arr : (68700, 9858)\n",
      "num2 : (100, 9858) || dim : 2\n"
     ]
    },
    {
     "name": "stderr",
     "output_type": "stream",
     "text": [
      " 69%|██████▉   | 688/1000 [08:11<09:42,  1.87s/it]"
     ]
    },
    {
     "name": "stdout",
     "output_type": "stream",
     "text": [
      "num2 more : tmp_data_arr : (100, 9858) || vec_arr : (68800, 9858)\n",
      "num2 : (100, 9858) || dim : 2\n"
     ]
    },
    {
     "name": "stderr",
     "output_type": "stream",
     "text": [
      " 69%|██████▉   | 689/1000 [08:13<08:58,  1.73s/it]"
     ]
    },
    {
     "name": "stdout",
     "output_type": "stream",
     "text": [
      "num2 more : tmp_data_arr : (100, 9858) || vec_arr : (68900, 9858)\n",
      "num2 : (100, 9858) || dim : 2\n"
     ]
    },
    {
     "name": "stderr",
     "output_type": "stream",
     "text": [
      " 69%|██████▉   | 690/1000 [08:15<08:52,  1.72s/it]"
     ]
    },
    {
     "name": "stdout",
     "output_type": "stream",
     "text": [
      "num2 more : tmp_data_arr : (100, 9858) || vec_arr : (69000, 9858)\n",
      "num2 : (100, 9858) || dim : 2\n"
     ]
    },
    {
     "name": "stderr",
     "output_type": "stream",
     "text": [
      " 69%|██████▉   | 691/1000 [08:16<08:40,  1.68s/it]"
     ]
    },
    {
     "name": "stdout",
     "output_type": "stream",
     "text": [
      "num2 more : tmp_data_arr : (100, 9858) || vec_arr : (69100, 9858)\n",
      "num2 : (100, 9858) || dim : 2\n"
     ]
    },
    {
     "name": "stderr",
     "output_type": "stream",
     "text": [
      " 69%|██████▉   | 692/1000 [08:18<08:26,  1.64s/it]"
     ]
    },
    {
     "name": "stdout",
     "output_type": "stream",
     "text": [
      "num2 more : tmp_data_arr : (100, 9858) || vec_arr : (69200, 9858)\n",
      "num2 : (100, 9858) || dim : 2\n"
     ]
    },
    {
     "name": "stderr",
     "output_type": "stream",
     "text": [
      " 69%|██████▉   | 693/1000 [08:19<07:59,  1.56s/it]"
     ]
    },
    {
     "name": "stdout",
     "output_type": "stream",
     "text": [
      "num2 more : tmp_data_arr : (100, 9858) || vec_arr : (69300, 9858)\n",
      "num2 : (100, 9858) || dim : 2\n"
     ]
    },
    {
     "name": "stderr",
     "output_type": "stream",
     "text": [
      " 69%|██████▉   | 694/1000 [08:20<07:42,  1.51s/it]"
     ]
    },
    {
     "name": "stdout",
     "output_type": "stream",
     "text": [
      "num2 more : tmp_data_arr : (100, 9858) || vec_arr : (69400, 9858)\n",
      "num2 : (100, 9858) || dim : 2\n"
     ]
    },
    {
     "name": "stderr",
     "output_type": "stream",
     "text": [
      " 70%|██████▉   | 695/1000 [08:22<08:10,  1.61s/it]"
     ]
    },
    {
     "name": "stdout",
     "output_type": "stream",
     "text": [
      "num2 more : tmp_data_arr : (100, 9858) || vec_arr : (69500, 9858)\n",
      "num2 : (100, 9858) || dim : 2\n"
     ]
    },
    {
     "name": "stderr",
     "output_type": "stream",
     "text": [
      " 70%|██████▉   | 696/1000 [08:24<08:06,  1.60s/it]"
     ]
    },
    {
     "name": "stdout",
     "output_type": "stream",
     "text": [
      "num2 more : tmp_data_arr : (100, 9858) || vec_arr : (69600, 9858)\n",
      "num2 : (100, 9858) || dim : 2\n"
     ]
    },
    {
     "name": "stderr",
     "output_type": "stream",
     "text": [
      " 70%|██████▉   | 697/1000 [08:26<08:12,  1.62s/it]"
     ]
    },
    {
     "name": "stdout",
     "output_type": "stream",
     "text": [
      "num2 more : tmp_data_arr : (100, 9858) || vec_arr : (69700, 9858)\n",
      "num2 : (100, 9858) || dim : 2\n"
     ]
    },
    {
     "name": "stderr",
     "output_type": "stream",
     "text": [
      " 70%|██████▉   | 698/1000 [08:27<07:58,  1.59s/it]"
     ]
    },
    {
     "name": "stdout",
     "output_type": "stream",
     "text": [
      "num2 more : tmp_data_arr : (100, 9858) || vec_arr : (69800, 9858)\n",
      "num2 : (100, 9858) || dim : 2\n"
     ]
    },
    {
     "name": "stderr",
     "output_type": "stream",
     "text": [
      " 70%|██████▉   | 699/1000 [08:29<07:44,  1.54s/it]"
     ]
    },
    {
     "name": "stdout",
     "output_type": "stream",
     "text": [
      "num2 more : tmp_data_arr : (100, 9858) || vec_arr : (69900, 9858)\n",
      "num2 : (100, 9858) || dim : 2\n"
     ]
    },
    {
     "name": "stderr",
     "output_type": "stream",
     "text": [
      " 70%|███████   | 700/1000 [08:30<07:37,  1.53s/it]"
     ]
    },
    {
     "name": "stdout",
     "output_type": "stream",
     "text": [
      "num2 more : tmp_data_arr : (100, 9858) || vec_arr : (70000, 9858)\n",
      "num2 : (100, 9858) || dim : 2\n"
     ]
    },
    {
     "name": "stderr",
     "output_type": "stream",
     "text": [
      " 70%|███████   | 701/1000 [08:32<07:47,  1.57s/it]"
     ]
    },
    {
     "name": "stdout",
     "output_type": "stream",
     "text": [
      "num2 more : tmp_data_arr : (100, 9858) || vec_arr : (70100, 9858)\n",
      "num2 : (100, 9858) || dim : 2\n"
     ]
    },
    {
     "name": "stderr",
     "output_type": "stream",
     "text": [
      " 70%|███████   | 702/1000 [08:33<07:32,  1.52s/it]"
     ]
    },
    {
     "name": "stdout",
     "output_type": "stream",
     "text": [
      "num2 more : tmp_data_arr : (100, 9858) || vec_arr : (70200, 9858)\n",
      "num2 : (100, 9858) || dim : 2\n"
     ]
    },
    {
     "name": "stderr",
     "output_type": "stream",
     "text": [
      " 70%|███████   | 703/1000 [08:35<07:40,  1.55s/it]"
     ]
    },
    {
     "name": "stdout",
     "output_type": "stream",
     "text": [
      "num2 more : tmp_data_arr : (100, 9858) || vec_arr : (70300, 9858)\n",
      "num2 : (100, 9858) || dim : 2\n"
     ]
    },
    {
     "name": "stderr",
     "output_type": "stream",
     "text": [
      " 70%|███████   | 704/1000 [08:36<07:29,  1.52s/it]"
     ]
    },
    {
     "name": "stdout",
     "output_type": "stream",
     "text": [
      "num2 more : tmp_data_arr : (100, 9858) || vec_arr : (70400, 9858)\n",
      "num2 : (100, 9858) || dim : 2\n"
     ]
    },
    {
     "name": "stderr",
     "output_type": "stream",
     "text": [
      " 70%|███████   | 705/1000 [08:38<07:21,  1.50s/it]"
     ]
    },
    {
     "name": "stdout",
     "output_type": "stream",
     "text": [
      "num2 more : tmp_data_arr : (100, 9858) || vec_arr : (70500, 9858)\n",
      "num2 : (100, 9858) || dim : 2\n"
     ]
    },
    {
     "name": "stderr",
     "output_type": "stream",
     "text": [
      " 71%|███████   | 706/1000 [08:39<07:15,  1.48s/it]"
     ]
    },
    {
     "name": "stdout",
     "output_type": "stream",
     "text": [
      "num2 more : tmp_data_arr : (100, 9858) || vec_arr : (70600, 9858)\n",
      "num2 : (100, 9858) || dim : 2\n"
     ]
    },
    {
     "name": "stderr",
     "output_type": "stream",
     "text": [
      " 71%|███████   | 707/1000 [08:40<07:10,  1.47s/it]"
     ]
    },
    {
     "name": "stdout",
     "output_type": "stream",
     "text": [
      "num2 more : tmp_data_arr : (100, 9858) || vec_arr : (70700, 9858)\n",
      "num2 : (100, 9858) || dim : 2\n"
     ]
    },
    {
     "name": "stderr",
     "output_type": "stream",
     "text": [
      " 71%|███████   | 708/1000 [08:42<07:17,  1.50s/it]"
     ]
    },
    {
     "name": "stdout",
     "output_type": "stream",
     "text": [
      "num2 more : tmp_data_arr : (100, 9858) || vec_arr : (70800, 9858)\n",
      "num2 : (100, 9858) || dim : 2\n"
     ]
    },
    {
     "name": "stderr",
     "output_type": "stream",
     "text": [
      " 71%|███████   | 709/1000 [08:44<07:27,  1.54s/it]"
     ]
    },
    {
     "name": "stdout",
     "output_type": "stream",
     "text": [
      "num2 more : tmp_data_arr : (100, 9858) || vec_arr : (70900, 9858)\n",
      "num2 : (100, 9858) || dim : 2\n"
     ]
    },
    {
     "name": "stderr",
     "output_type": "stream",
     "text": [
      " 71%|███████   | 710/1000 [08:45<07:20,  1.52s/it]"
     ]
    },
    {
     "name": "stdout",
     "output_type": "stream",
     "text": [
      "num2 more : tmp_data_arr : (100, 9858) || vec_arr : (71000, 9858)\n",
      "num2 : (100, 9858) || dim : 2\n"
     ]
    },
    {
     "name": "stderr",
     "output_type": "stream",
     "text": [
      " 71%|███████   | 711/1000 [08:47<07:23,  1.53s/it]"
     ]
    },
    {
     "name": "stdout",
     "output_type": "stream",
     "text": [
      "num2 more : tmp_data_arr : (100, 9858) || vec_arr : (71100, 9858)\n",
      "num2 : (100, 9858) || dim : 2\n"
     ]
    },
    {
     "name": "stderr",
     "output_type": "stream",
     "text": [
      " 71%|███████   | 712/1000 [08:48<07:14,  1.51s/it]"
     ]
    },
    {
     "name": "stdout",
     "output_type": "stream",
     "text": [
      "num2 more : tmp_data_arr : (100, 9858) || vec_arr : (71200, 9858)\n",
      "num2 : (100, 9858) || dim : 2\n"
     ]
    },
    {
     "name": "stderr",
     "output_type": "stream",
     "text": [
      " 71%|███████▏  | 713/1000 [08:50<07:21,  1.54s/it]"
     ]
    },
    {
     "name": "stdout",
     "output_type": "stream",
     "text": [
      "num2 more : tmp_data_arr : (100, 9858) || vec_arr : (71300, 9858)\n",
      "num2 : (100, 9858) || dim : 2\n"
     ]
    },
    {
     "name": "stderr",
     "output_type": "stream",
     "text": [
      " 71%|███████▏  | 714/1000 [08:51<07:10,  1.51s/it]"
     ]
    },
    {
     "name": "stdout",
     "output_type": "stream",
     "text": [
      "num2 more : tmp_data_arr : (100, 9858) || vec_arr : (71400, 9858)\n",
      "num2 : (100, 9858) || dim : 2\n"
     ]
    },
    {
     "name": "stderr",
     "output_type": "stream",
     "text": [
      " 72%|███████▏  | 715/1000 [08:53<07:14,  1.53s/it]"
     ]
    },
    {
     "name": "stdout",
     "output_type": "stream",
     "text": [
      "num2 more : tmp_data_arr : (100, 9858) || vec_arr : (71500, 9858)\n",
      "num2 : (100, 9858) || dim : 2\n"
     ]
    },
    {
     "name": "stderr",
     "output_type": "stream",
     "text": [
      " 72%|███████▏  | 716/1000 [08:55<07:39,  1.62s/it]"
     ]
    },
    {
     "name": "stdout",
     "output_type": "stream",
     "text": [
      "num2 more : tmp_data_arr : (100, 9858) || vec_arr : (71600, 9858)\n",
      "num2 : (100, 9858) || dim : 2\n"
     ]
    },
    {
     "name": "stderr",
     "output_type": "stream",
     "text": [
      " 72%|███████▏  | 717/1000 [08:56<07:24,  1.57s/it]"
     ]
    },
    {
     "name": "stdout",
     "output_type": "stream",
     "text": [
      "num2 more : tmp_data_arr : (100, 9858) || vec_arr : (71700, 9858)\n",
      "num2 : (100, 9858) || dim : 2\n"
     ]
    },
    {
     "name": "stderr",
     "output_type": "stream",
     "text": [
      " 72%|███████▏  | 718/1000 [08:58<07:31,  1.60s/it]"
     ]
    },
    {
     "name": "stdout",
     "output_type": "stream",
     "text": [
      "num2 more : tmp_data_arr : (100, 9858) || vec_arr : (71800, 9858)\n",
      "num2 : (100, 9858) || dim : 2\n"
     ]
    },
    {
     "name": "stderr",
     "output_type": "stream",
     "text": [
      " 72%|███████▏  | 719/1000 [08:59<07:38,  1.63s/it]"
     ]
    },
    {
     "name": "stdout",
     "output_type": "stream",
     "text": [
      "num2 more : tmp_data_arr : (100, 9858) || vec_arr : (71900, 9858)\n",
      "num2 : (100, 9858) || dim : 2\n"
     ]
    },
    {
     "name": "stderr",
     "output_type": "stream",
     "text": [
      " 72%|███████▏  | 720/1000 [09:01<07:32,  1.62s/it]"
     ]
    },
    {
     "name": "stdout",
     "output_type": "stream",
     "text": [
      "num2 more : tmp_data_arr : (100, 9858) || vec_arr : (72000, 9858)\n",
      "num2 : (100, 9858) || dim : 2\n"
     ]
    },
    {
     "name": "stderr",
     "output_type": "stream",
     "text": [
      " 72%|███████▏  | 721/1000 [09:03<07:43,  1.66s/it]"
     ]
    },
    {
     "name": "stdout",
     "output_type": "stream",
     "text": [
      "num2 more : tmp_data_arr : (100, 9858) || vec_arr : (72100, 9858)\n",
      "num2 : (100, 9858) || dim : 2\n"
     ]
    },
    {
     "name": "stderr",
     "output_type": "stream",
     "text": [
      " 72%|███████▏  | 722/1000 [09:05<07:49,  1.69s/it]"
     ]
    },
    {
     "name": "stdout",
     "output_type": "stream",
     "text": [
      "num2 more : tmp_data_arr : (100, 9858) || vec_arr : (72200, 9858)\n",
      "num2 : (100, 9858) || dim : 2\n"
     ]
    },
    {
     "name": "stderr",
     "output_type": "stream",
     "text": [
      " 72%|███████▏  | 723/1000 [09:06<07:39,  1.66s/it]"
     ]
    },
    {
     "name": "stdout",
     "output_type": "stream",
     "text": [
      "num2 more : tmp_data_arr : (100, 9858) || vec_arr : (72300, 9858)\n",
      "num2 : (100, 9858) || dim : 2\n"
     ]
    },
    {
     "name": "stderr",
     "output_type": "stream",
     "text": [
      " 72%|███████▏  | 724/1000 [09:08<07:51,  1.71s/it]"
     ]
    },
    {
     "name": "stdout",
     "output_type": "stream",
     "text": [
      "num2 more : tmp_data_arr : (100, 9858) || vec_arr : (72400, 9858)\n",
      "num2 : (100, 9858) || dim : 2\n"
     ]
    },
    {
     "name": "stderr",
     "output_type": "stream",
     "text": [
      " 72%|███████▎  | 725/1000 [09:10<07:55,  1.73s/it]"
     ]
    },
    {
     "name": "stdout",
     "output_type": "stream",
     "text": [
      "num2 more : tmp_data_arr : (100, 9858) || vec_arr : (72500, 9858)\n",
      "num2 : (100, 9858) || dim : 2\n"
     ]
    },
    {
     "name": "stderr",
     "output_type": "stream",
     "text": [
      " 73%|███████▎  | 726/1000 [09:11<07:49,  1.71s/it]"
     ]
    },
    {
     "name": "stdout",
     "output_type": "stream",
     "text": [
      "num2 more : tmp_data_arr : (100, 9858) || vec_arr : (72600, 9858)\n",
      "num2 : (100, 9858) || dim : 2\n"
     ]
    },
    {
     "name": "stderr",
     "output_type": "stream",
     "text": [
      " 73%|███████▎  | 727/1000 [09:13<07:35,  1.67s/it]"
     ]
    },
    {
     "name": "stdout",
     "output_type": "stream",
     "text": [
      "num2 more : tmp_data_arr : (100, 9858) || vec_arr : (72700, 9858)\n",
      "num2 : (100, 9858) || dim : 2\n"
     ]
    },
    {
     "name": "stderr",
     "output_type": "stream",
     "text": [
      " 73%|███████▎  | 728/1000 [09:15<07:43,  1.71s/it]"
     ]
    },
    {
     "name": "stdout",
     "output_type": "stream",
     "text": [
      "num2 more : tmp_data_arr : (100, 9858) || vec_arr : (72800, 9858)\n",
      "num2 : (100, 9858) || dim : 2\n"
     ]
    },
    {
     "name": "stderr",
     "output_type": "stream",
     "text": [
      " 73%|███████▎  | 729/1000 [09:17<07:45,  1.72s/it]"
     ]
    },
    {
     "name": "stdout",
     "output_type": "stream",
     "text": [
      "num2 more : tmp_data_arr : (100, 9858) || vec_arr : (72900, 9858)\n",
      "num2 : (100, 9858) || dim : 2\n"
     ]
    },
    {
     "name": "stderr",
     "output_type": "stream",
     "text": [
      " 73%|███████▎  | 730/1000 [09:18<07:38,  1.70s/it]"
     ]
    },
    {
     "name": "stdout",
     "output_type": "stream",
     "text": [
      "num2 more : tmp_data_arr : (100, 9858) || vec_arr : (73000, 9858)\n",
      "num2 : (100, 9858) || dim : 2\n"
     ]
    },
    {
     "name": "stderr",
     "output_type": "stream",
     "text": [
      " 73%|███████▎  | 731/1000 [09:20<07:33,  1.68s/it]"
     ]
    },
    {
     "name": "stdout",
     "output_type": "stream",
     "text": [
      "num2 more : tmp_data_arr : (100, 9858) || vec_arr : (73100, 9858)\n",
      "num2 : (100, 9858) || dim : 2\n"
     ]
    },
    {
     "name": "stderr",
     "output_type": "stream",
     "text": [
      " 73%|███████▎  | 732/1000 [09:22<07:36,  1.70s/it]"
     ]
    },
    {
     "name": "stdout",
     "output_type": "stream",
     "text": [
      "num2 more : tmp_data_arr : (100, 9858) || vec_arr : (73200, 9858)\n",
      "num2 : (100, 9858) || dim : 2\n"
     ]
    },
    {
     "name": "stderr",
     "output_type": "stream",
     "text": [
      " 73%|███████▎  | 733/1000 [09:25<09:48,  2.21s/it]"
     ]
    },
    {
     "name": "stdout",
     "output_type": "stream",
     "text": [
      "num2 more : tmp_data_arr : (100, 9858) || vec_arr : (73300, 9858)\n",
      "num2 : (100, 9858) || dim : 2\n"
     ]
    },
    {
     "name": "stderr",
     "output_type": "stream",
     "text": [
      " 73%|███████▎  | 734/1000 [09:33<17:59,  4.06s/it]"
     ]
    },
    {
     "name": "stdout",
     "output_type": "stream",
     "text": [
      "num2 more : tmp_data_arr : (100, 9858) || vec_arr : (73400, 9858)\n",
      "num2 : (100, 9858) || dim : 2\n"
     ]
    },
    {
     "name": "stderr",
     "output_type": "stream",
     "text": [
      " 74%|███████▎  | 735/1000 [09:35<14:56,  3.38s/it]"
     ]
    },
    {
     "name": "stdout",
     "output_type": "stream",
     "text": [
      "num2 more : tmp_data_arr : (100, 9858) || vec_arr : (73500, 9858)\n",
      "num2 : (100, 9858) || dim : 2\n"
     ]
    },
    {
     "name": "stderr",
     "output_type": "stream",
     "text": [
      " 74%|███████▎  | 736/1000 [09:37<12:34,  2.86s/it]"
     ]
    },
    {
     "name": "stdout",
     "output_type": "stream",
     "text": [
      "num2 more : tmp_data_arr : (100, 9858) || vec_arr : (73600, 9858)\n",
      "num2 : (100, 9858) || dim : 2\n"
     ]
    },
    {
     "name": "stderr",
     "output_type": "stream",
     "text": [
      " 74%|███████▎  | 737/1000 [09:38<10:52,  2.48s/it]"
     ]
    },
    {
     "name": "stdout",
     "output_type": "stream",
     "text": [
      "num2 more : tmp_data_arr : (100, 9858) || vec_arr : (73700, 9858)\n",
      "num2 : (100, 9858) || dim : 2\n"
     ]
    },
    {
     "name": "stderr",
     "output_type": "stream",
     "text": [
      " 74%|███████▍  | 738/1000 [09:40<09:49,  2.25s/it]"
     ]
    },
    {
     "name": "stdout",
     "output_type": "stream",
     "text": [
      "num2 more : tmp_data_arr : (100, 9858) || vec_arr : (73800, 9858)\n",
      "num2 : (100, 9858) || dim : 2\n"
     ]
    },
    {
     "name": "stderr",
     "output_type": "stream",
     "text": [
      " 74%|███████▍  | 739/1000 [09:42<08:52,  2.04s/it]"
     ]
    },
    {
     "name": "stdout",
     "output_type": "stream",
     "text": [
      "num2 more : tmp_data_arr : (100, 9858) || vec_arr : (73900, 9858)\n",
      "num2 : (100, 9858) || dim : 2\n"
     ]
    },
    {
     "name": "stderr",
     "output_type": "stream",
     "text": [
      " 74%|███████▍  | 740/1000 [09:43<08:05,  1.87s/it]"
     ]
    },
    {
     "name": "stdout",
     "output_type": "stream",
     "text": [
      "num2 more : tmp_data_arr : (100, 9858) || vec_arr : (74000, 9858)\n",
      "num2 : (100, 9858) || dim : 2\n"
     ]
    },
    {
     "name": "stderr",
     "output_type": "stream",
     "text": [
      " 74%|███████▍  | 741/1000 [09:45<07:52,  1.82s/it]"
     ]
    },
    {
     "name": "stdout",
     "output_type": "stream",
     "text": [
      "num2 more : tmp_data_arr : (100, 9858) || vec_arr : (74100, 9858)\n",
      "num2 : (100, 9858) || dim : 2\n"
     ]
    },
    {
     "name": "stderr",
     "output_type": "stream",
     "text": [
      " 74%|███████▍  | 742/1000 [09:47<07:45,  1.81s/it]"
     ]
    },
    {
     "name": "stdout",
     "output_type": "stream",
     "text": [
      "num2 more : tmp_data_arr : (100, 9858) || vec_arr : (74200, 9858)\n",
      "num2 : (100, 9858) || dim : 2\n"
     ]
    },
    {
     "name": "stderr",
     "output_type": "stream",
     "text": [
      " 74%|███████▍  | 743/1000 [09:48<07:21,  1.72s/it]"
     ]
    },
    {
     "name": "stdout",
     "output_type": "stream",
     "text": [
      "num2 more : tmp_data_arr : (100, 9858) || vec_arr : (74300, 9858)\n",
      "num2 : (100, 9858) || dim : 2\n"
     ]
    },
    {
     "name": "stderr",
     "output_type": "stream",
     "text": [
      " 74%|███████▍  | 744/1000 [09:50<07:17,  1.71s/it]"
     ]
    },
    {
     "name": "stdout",
     "output_type": "stream",
     "text": [
      "num2 more : tmp_data_arr : (100, 9858) || vec_arr : (74400, 9858)\n",
      "num2 : (100, 9858) || dim : 2\n"
     ]
    },
    {
     "name": "stderr",
     "output_type": "stream",
     "text": [
      " 74%|███████▍  | 745/1000 [09:52<07:27,  1.75s/it]"
     ]
    },
    {
     "name": "stdout",
     "output_type": "stream",
     "text": [
      "num2 more : tmp_data_arr : (100, 9858) || vec_arr : (74500, 9858)\n",
      "num2 : (100, 9858) || dim : 2\n"
     ]
    },
    {
     "name": "stderr",
     "output_type": "stream",
     "text": [
      " 75%|███████▍  | 746/1000 [09:53<07:18,  1.73s/it]"
     ]
    },
    {
     "name": "stdout",
     "output_type": "stream",
     "text": [
      "num2 more : tmp_data_arr : (100, 9858) || vec_arr : (74600, 9858)\n",
      "num2 : (100, 9858) || dim : 2\n"
     ]
    },
    {
     "name": "stderr",
     "output_type": "stream",
     "text": [
      " 75%|███████▍  | 747/1000 [09:55<07:29,  1.78s/it]"
     ]
    },
    {
     "name": "stdout",
     "output_type": "stream",
     "text": [
      "num2 more : tmp_data_arr : (100, 9858) || vec_arr : (74700, 9858)\n",
      "num2 : (100, 9858) || dim : 2\n"
     ]
    },
    {
     "name": "stderr",
     "output_type": "stream",
     "text": [
      " 75%|███████▍  | 748/1000 [09:57<07:26,  1.77s/it]"
     ]
    },
    {
     "name": "stdout",
     "output_type": "stream",
     "text": [
      "num2 more : tmp_data_arr : (100, 9858) || vec_arr : (74800, 9858)\n",
      "num2 : (100, 9858) || dim : 2\n"
     ]
    },
    {
     "name": "stderr",
     "output_type": "stream",
     "text": [
      " 75%|███████▍  | 749/1000 [09:59<07:27,  1.78s/it]"
     ]
    },
    {
     "name": "stdout",
     "output_type": "stream",
     "text": [
      "num2 more : tmp_data_arr : (100, 9858) || vec_arr : (74900, 9858)\n",
      "num2 : (100, 9858) || dim : 2\n"
     ]
    },
    {
     "name": "stderr",
     "output_type": "stream",
     "text": [
      " 75%|███████▌  | 750/1000 [10:01<07:25,  1.78s/it]"
     ]
    },
    {
     "name": "stdout",
     "output_type": "stream",
     "text": [
      "num2 more : tmp_data_arr : (100, 9858) || vec_arr : (75000, 9858)\n",
      "num2 : (100, 9858) || dim : 2\n"
     ]
    },
    {
     "name": "stderr",
     "output_type": "stream",
     "text": [
      " 75%|███████▌  | 751/1000 [10:02<07:06,  1.71s/it]"
     ]
    },
    {
     "name": "stdout",
     "output_type": "stream",
     "text": [
      "num2 more : tmp_data_arr : (100, 9858) || vec_arr : (75100, 9858)\n",
      "num2 : (100, 9858) || dim : 2\n"
     ]
    },
    {
     "name": "stderr",
     "output_type": "stream",
     "text": [
      " 75%|███████▌  | 752/1000 [10:04<07:10,  1.74s/it]"
     ]
    },
    {
     "name": "stdout",
     "output_type": "stream",
     "text": [
      "num2 more : tmp_data_arr : (100, 9858) || vec_arr : (75200, 9858)\n",
      "num2 : (100, 9858) || dim : 2\n"
     ]
    },
    {
     "name": "stderr",
     "output_type": "stream",
     "text": [
      " 75%|███████▌  | 753/1000 [10:06<07:55,  1.92s/it]"
     ]
    },
    {
     "name": "stdout",
     "output_type": "stream",
     "text": [
      "num2 more : tmp_data_arr : (100, 9858) || vec_arr : (75300, 9858)\n",
      "num2 : (100, 9858) || dim : 2\n"
     ]
    },
    {
     "name": "stderr",
     "output_type": "stream",
     "text": [
      " 75%|███████▌  | 754/1000 [10:08<07:52,  1.92s/it]"
     ]
    },
    {
     "name": "stdout",
     "output_type": "stream",
     "text": [
      "num2 more : tmp_data_arr : (100, 9858) || vec_arr : (75400, 9858)\n",
      "num2 : (100, 9858) || dim : 2\n"
     ]
    },
    {
     "name": "stderr",
     "output_type": "stream",
     "text": [
      " 76%|███████▌  | 755/1000 [10:10<07:46,  1.90s/it]"
     ]
    },
    {
     "name": "stdout",
     "output_type": "stream",
     "text": [
      "num2 more : tmp_data_arr : (100, 9858) || vec_arr : (75500, 9858)\n",
      "num2 : (100, 9858) || dim : 2\n"
     ]
    },
    {
     "name": "stderr",
     "output_type": "stream",
     "text": [
      " 76%|███████▌  | 756/1000 [10:12<07:36,  1.87s/it]"
     ]
    },
    {
     "name": "stdout",
     "output_type": "stream",
     "text": [
      "num2 more : tmp_data_arr : (100, 9858) || vec_arr : (75600, 9858)\n",
      "num2 : (100, 9858) || dim : 2\n"
     ]
    },
    {
     "name": "stderr",
     "output_type": "stream",
     "text": [
      " 76%|███████▌  | 757/1000 [10:14<07:27,  1.84s/it]"
     ]
    },
    {
     "name": "stdout",
     "output_type": "stream",
     "text": [
      "num2 more : tmp_data_arr : (100, 9858) || vec_arr : (75700, 9858)\n",
      "num2 : (100, 9858) || dim : 2\n"
     ]
    },
    {
     "name": "stderr",
     "output_type": "stream",
     "text": [
      " 76%|███████▌  | 758/1000 [10:15<07:19,  1.82s/it]"
     ]
    },
    {
     "name": "stdout",
     "output_type": "stream",
     "text": [
      "num2 more : tmp_data_arr : (100, 9858) || vec_arr : (75800, 9858)\n",
      "num2 : (100, 9858) || dim : 2\n"
     ]
    },
    {
     "name": "stderr",
     "output_type": "stream",
     "text": [
      " 76%|███████▌  | 759/1000 [10:17<07:15,  1.81s/it]"
     ]
    },
    {
     "name": "stdout",
     "output_type": "stream",
     "text": [
      "num2 more : tmp_data_arr : (100, 9858) || vec_arr : (75900, 9858)\n",
      "num2 : (100, 9858) || dim : 2\n"
     ]
    },
    {
     "name": "stderr",
     "output_type": "stream",
     "text": [
      " 76%|███████▌  | 760/1000 [10:19<07:11,  1.80s/it]"
     ]
    },
    {
     "name": "stdout",
     "output_type": "stream",
     "text": [
      "num2 more : tmp_data_arr : (100, 9858) || vec_arr : (76000, 9858)\n",
      "num2 : (100, 9858) || dim : 2\n"
     ]
    },
    {
     "name": "stderr",
     "output_type": "stream",
     "text": [
      " 76%|███████▌  | 761/1000 [10:21<07:07,  1.79s/it]"
     ]
    },
    {
     "name": "stdout",
     "output_type": "stream",
     "text": [
      "num2 more : tmp_data_arr : (100, 9858) || vec_arr : (76100, 9858)\n",
      "num2 : (100, 9858) || dim : 2\n"
     ]
    },
    {
     "name": "stderr",
     "output_type": "stream",
     "text": [
      " 76%|███████▌  | 762/1000 [10:23<07:08,  1.80s/it]"
     ]
    },
    {
     "name": "stdout",
     "output_type": "stream",
     "text": [
      "num2 more : tmp_data_arr : (100, 9858) || vec_arr : (76200, 9858)\n",
      "num2 : (100, 9858) || dim : 2\n"
     ]
    },
    {
     "name": "stderr",
     "output_type": "stream",
     "text": [
      " 76%|███████▋  | 763/1000 [10:24<07:07,  1.80s/it]"
     ]
    },
    {
     "name": "stdout",
     "output_type": "stream",
     "text": [
      "num2 more : tmp_data_arr : (100, 9858) || vec_arr : (76300, 9858)\n",
      "num2 : (100, 9858) || dim : 2\n"
     ]
    },
    {
     "name": "stderr",
     "output_type": "stream",
     "text": [
      " 76%|███████▋  | 764/1000 [10:26<07:05,  1.80s/it]"
     ]
    },
    {
     "name": "stdout",
     "output_type": "stream",
     "text": [
      "num2 more : tmp_data_arr : (100, 9858) || vec_arr : (76400, 9858)\n",
      "num2 : (100, 9858) || dim : 2\n"
     ]
    },
    {
     "name": "stderr",
     "output_type": "stream",
     "text": [
      " 76%|███████▋  | 765/1000 [10:28<07:08,  1.83s/it]"
     ]
    },
    {
     "name": "stdout",
     "output_type": "stream",
     "text": [
      "num2 more : tmp_data_arr : (100, 9858) || vec_arr : (76500, 9858)\n",
      "num2 : (100, 9858) || dim : 2\n"
     ]
    },
    {
     "name": "stderr",
     "output_type": "stream",
     "text": [
      " 77%|███████▋  | 766/1000 [10:30<06:57,  1.78s/it]"
     ]
    },
    {
     "name": "stdout",
     "output_type": "stream",
     "text": [
      "num2 more : tmp_data_arr : (100, 9858) || vec_arr : (76600, 9858)\n",
      "num2 : (100, 9858) || dim : 2\n"
     ]
    },
    {
     "name": "stderr",
     "output_type": "stream",
     "text": [
      " 77%|███████▋  | 767/1000 [10:31<06:40,  1.72s/it]"
     ]
    },
    {
     "name": "stdout",
     "output_type": "stream",
     "text": [
      "num2 more : tmp_data_arr : (100, 9858) || vec_arr : (76700, 9858)\n",
      "num2 : (100, 9858) || dim : 2\n"
     ]
    },
    {
     "name": "stderr",
     "output_type": "stream",
     "text": [
      " 77%|███████▋  | 768/1000 [10:33<07:03,  1.82s/it]"
     ]
    },
    {
     "name": "stdout",
     "output_type": "stream",
     "text": [
      "num2 more : tmp_data_arr : (100, 9858) || vec_arr : (76800, 9858)\n",
      "num2 : (100, 9858) || dim : 2\n"
     ]
    },
    {
     "name": "stderr",
     "output_type": "stream",
     "text": [
      " 77%|███████▋  | 769/1000 [10:35<07:23,  1.92s/it]"
     ]
    },
    {
     "name": "stdout",
     "output_type": "stream",
     "text": [
      "num2 more : tmp_data_arr : (100, 9858) || vec_arr : (76900, 9858)\n",
      "num2 : (100, 9858) || dim : 2\n"
     ]
    },
    {
     "name": "stderr",
     "output_type": "stream",
     "text": [
      " 77%|███████▋  | 770/1000 [10:38<07:47,  2.03s/it]"
     ]
    },
    {
     "name": "stdout",
     "output_type": "stream",
     "text": [
      "num2 more : tmp_data_arr : (100, 9858) || vec_arr : (77000, 9858)\n",
      "num2 : (100, 9858) || dim : 2\n"
     ]
    },
    {
     "name": "stderr",
     "output_type": "stream",
     "text": [
      " 77%|███████▋  | 771/1000 [10:40<08:33,  2.24s/it]"
     ]
    },
    {
     "name": "stdout",
     "output_type": "stream",
     "text": [
      "num2 more : tmp_data_arr : (100, 9858) || vec_arr : (77100, 9858)\n",
      "num2 : (100, 9858) || dim : 2\n"
     ]
    },
    {
     "name": "stderr",
     "output_type": "stream",
     "text": [
      " 77%|███████▋  | 772/1000 [10:42<08:09,  2.15s/it]"
     ]
    },
    {
     "name": "stdout",
     "output_type": "stream",
     "text": [
      "num2 more : tmp_data_arr : (100, 9858) || vec_arr : (77200, 9858)\n",
      "num2 : (100, 9858) || dim : 2\n"
     ]
    },
    {
     "name": "stderr",
     "output_type": "stream",
     "text": [
      " 77%|███████▋  | 773/1000 [10:44<07:45,  2.05s/it]"
     ]
    },
    {
     "name": "stdout",
     "output_type": "stream",
     "text": [
      "num2 more : tmp_data_arr : (100, 9858) || vec_arr : (77300, 9858)\n",
      "num2 : (100, 9858) || dim : 2\n"
     ]
    },
    {
     "name": "stderr",
     "output_type": "stream",
     "text": [
      " 77%|███████▋  | 774/1000 [10:46<07:26,  1.97s/it]"
     ]
    },
    {
     "name": "stdout",
     "output_type": "stream",
     "text": [
      "num2 more : tmp_data_arr : (100, 9858) || vec_arr : (77400, 9858)\n",
      "num2 : (100, 9858) || dim : 2\n"
     ]
    },
    {
     "name": "stderr",
     "output_type": "stream",
     "text": [
      " 78%|███████▊  | 775/1000 [10:48<07:07,  1.90s/it]"
     ]
    },
    {
     "name": "stdout",
     "output_type": "stream",
     "text": [
      "num2 more : tmp_data_arr : (100, 9858) || vec_arr : (77500, 9858)\n",
      "num2 : (100, 9858) || dim : 2\n"
     ]
    },
    {
     "name": "stderr",
     "output_type": "stream",
     "text": [
      " 78%|███████▊  | 776/1000 [10:50<07:00,  1.88s/it]"
     ]
    },
    {
     "name": "stdout",
     "output_type": "stream",
     "text": [
      "num2 more : tmp_data_arr : (100, 9858) || vec_arr : (77600, 9858)\n",
      "num2 : (100, 9858) || dim : 2\n"
     ]
    },
    {
     "name": "stderr",
     "output_type": "stream",
     "text": [
      " 78%|███████▊  | 777/1000 [10:51<06:46,  1.82s/it]"
     ]
    },
    {
     "name": "stdout",
     "output_type": "stream",
     "text": [
      "num2 more : tmp_data_arr : (100, 9858) || vec_arr : (77700, 9858)\n",
      "num2 : (100, 9858) || dim : 2\n"
     ]
    },
    {
     "name": "stderr",
     "output_type": "stream",
     "text": [
      " 78%|███████▊  | 778/1000 [10:53<06:48,  1.84s/it]"
     ]
    },
    {
     "name": "stdout",
     "output_type": "stream",
     "text": [
      "num2 more : tmp_data_arr : (100, 9858) || vec_arr : (77800, 9858)\n",
      "num2 : (100, 9858) || dim : 2\n"
     ]
    },
    {
     "name": "stderr",
     "output_type": "stream",
     "text": [
      " 78%|███████▊  | 779/1000 [10:55<06:59,  1.90s/it]"
     ]
    },
    {
     "name": "stdout",
     "output_type": "stream",
     "text": [
      "num2 more : tmp_data_arr : (100, 9858) || vec_arr : (77900, 9858)\n",
      "num2 : (100, 9858) || dim : 2\n"
     ]
    },
    {
     "name": "stderr",
     "output_type": "stream",
     "text": [
      " 78%|███████▊  | 780/1000 [10:57<06:54,  1.88s/it]"
     ]
    },
    {
     "name": "stdout",
     "output_type": "stream",
     "text": [
      "num2 more : tmp_data_arr : (100, 9858) || vec_arr : (78000, 9858)\n",
      "num2 : (100, 9858) || dim : 2\n"
     ]
    },
    {
     "name": "stderr",
     "output_type": "stream",
     "text": [
      " 78%|███████▊  | 781/1000 [10:59<06:43,  1.84s/it]"
     ]
    },
    {
     "name": "stdout",
     "output_type": "stream",
     "text": [
      "num2 more : tmp_data_arr : (100, 9858) || vec_arr : (78100, 9858)\n",
      "num2 : (100, 9858) || dim : 2\n"
     ]
    },
    {
     "name": "stderr",
     "output_type": "stream",
     "text": [
      " 78%|███████▊  | 782/1000 [11:01<06:47,  1.87s/it]"
     ]
    },
    {
     "name": "stdout",
     "output_type": "stream",
     "text": [
      "num2 more : tmp_data_arr : (100, 9858) || vec_arr : (78200, 9858)\n",
      "num2 : (100, 9858) || dim : 2\n"
     ]
    },
    {
     "name": "stderr",
     "output_type": "stream",
     "text": [
      " 78%|███████▊  | 783/1000 [11:03<06:44,  1.87s/it]"
     ]
    },
    {
     "name": "stdout",
     "output_type": "stream",
     "text": [
      "num2 more : tmp_data_arr : (100, 9858) || vec_arr : (78300, 9858)\n",
      "num2 : (100, 9858) || dim : 2\n"
     ]
    },
    {
     "name": "stderr",
     "output_type": "stream",
     "text": [
      " 78%|███████▊  | 784/1000 [11:04<06:32,  1.82s/it]"
     ]
    },
    {
     "name": "stdout",
     "output_type": "stream",
     "text": [
      "num2 more : tmp_data_arr : (100, 9858) || vec_arr : (78400, 9858)\n",
      "num2 : (100, 9858) || dim : 2\n"
     ]
    },
    {
     "name": "stderr",
     "output_type": "stream",
     "text": [
      " 78%|███████▊  | 785/1000 [11:06<06:49,  1.90s/it]"
     ]
    },
    {
     "name": "stdout",
     "output_type": "stream",
     "text": [
      "num2 more : tmp_data_arr : (100, 9858) || vec_arr : (78500, 9858)\n",
      "num2 : (100, 9858) || dim : 2\n"
     ]
    },
    {
     "name": "stderr",
     "output_type": "stream",
     "text": [
      " 79%|███████▊  | 786/1000 [11:09<07:37,  2.14s/it]"
     ]
    },
    {
     "name": "stdout",
     "output_type": "stream",
     "text": [
      "num2 more : tmp_data_arr : (100, 9858) || vec_arr : (78600, 9858)\n",
      "num2 : (100, 9858) || dim : 2\n"
     ]
    },
    {
     "name": "stderr",
     "output_type": "stream",
     "text": [
      " 79%|███████▊  | 787/1000 [11:12<08:20,  2.35s/it]"
     ]
    },
    {
     "name": "stdout",
     "output_type": "stream",
     "text": [
      "num2 more : tmp_data_arr : (100, 9858) || vec_arr : (78700, 9858)\n",
      "num2 : (100, 9858) || dim : 2\n"
     ]
    },
    {
     "name": "stderr",
     "output_type": "stream",
     "text": [
      " 79%|███████▉  | 788/1000 [11:15<08:56,  2.53s/it]"
     ]
    },
    {
     "name": "stdout",
     "output_type": "stream",
     "text": [
      "num2 more : tmp_data_arr : (100, 9858) || vec_arr : (78800, 9858)\n",
      "num2 : (100, 9858) || dim : 2\n"
     ]
    },
    {
     "name": "stderr",
     "output_type": "stream",
     "text": [
      " 79%|███████▉  | 789/1000 [11:17<08:51,  2.52s/it]"
     ]
    },
    {
     "name": "stdout",
     "output_type": "stream",
     "text": [
      "num2 more : tmp_data_arr : (100, 9858) || vec_arr : (78900, 9858)\n",
      "num2 : (100, 9858) || dim : 2\n"
     ]
    },
    {
     "name": "stderr",
     "output_type": "stream",
     "text": [
      " 79%|███████▉  | 790/1000 [11:19<08:15,  2.36s/it]"
     ]
    },
    {
     "name": "stdout",
     "output_type": "stream",
     "text": [
      "num2 more : tmp_data_arr : (100, 9858) || vec_arr : (79000, 9858)\n",
      "num2 : (100, 9858) || dim : 2\n"
     ]
    },
    {
     "name": "stderr",
     "output_type": "stream",
     "text": [
      " 79%|███████▉  | 791/1000 [11:21<07:47,  2.24s/it]"
     ]
    },
    {
     "name": "stdout",
     "output_type": "stream",
     "text": [
      "num2 more : tmp_data_arr : (100, 9858) || vec_arr : (79100, 9858)\n",
      "num2 : (100, 9858) || dim : 2\n"
     ]
    },
    {
     "name": "stderr",
     "output_type": "stream",
     "text": [
      " 79%|███████▉  | 792/1000 [11:23<07:20,  2.12s/it]"
     ]
    },
    {
     "name": "stdout",
     "output_type": "stream",
     "text": [
      "num2 more : tmp_data_arr : (100, 9858) || vec_arr : (79200, 9858)\n",
      "num2 : (100, 9858) || dim : 2\n"
     ]
    },
    {
     "name": "stderr",
     "output_type": "stream",
     "text": [
      " 79%|███████▉  | 793/1000 [11:25<07:05,  2.06s/it]"
     ]
    },
    {
     "name": "stdout",
     "output_type": "stream",
     "text": [
      "num2 more : tmp_data_arr : (100, 9858) || vec_arr : (79300, 9858)\n",
      "num2 : (100, 9858) || dim : 2\n"
     ]
    },
    {
     "name": "stderr",
     "output_type": "stream",
     "text": [
      " 79%|███████▉  | 794/1000 [11:29<08:40,  2.53s/it]"
     ]
    },
    {
     "name": "stdout",
     "output_type": "stream",
     "text": [
      "num2 more : tmp_data_arr : (100, 9858) || vec_arr : (79400, 9858)\n",
      "num2 : (100, 9858) || dim : 2\n"
     ]
    },
    {
     "name": "stderr",
     "output_type": "stream",
     "text": [
      " 80%|███████▉  | 795/1000 [11:31<08:06,  2.37s/it]"
     ]
    },
    {
     "name": "stdout",
     "output_type": "stream",
     "text": [
      "num2 more : tmp_data_arr : (100, 9858) || vec_arr : (79500, 9858)\n",
      "num2 : (100, 9858) || dim : 2\n"
     ]
    },
    {
     "name": "stderr",
     "output_type": "stream",
     "text": [
      " 80%|███████▉  | 796/1000 [11:32<07:21,  2.16s/it]"
     ]
    },
    {
     "name": "stdout",
     "output_type": "stream",
     "text": [
      "num2 more : tmp_data_arr : (100, 9858) || vec_arr : (79600, 9858)\n",
      "num2 : (100, 9858) || dim : 2\n"
     ]
    },
    {
     "name": "stderr",
     "output_type": "stream",
     "text": [
      " 80%|███████▉  | 797/1000 [11:34<07:01,  2.08s/it]"
     ]
    },
    {
     "name": "stdout",
     "output_type": "stream",
     "text": [
      "num2 more : tmp_data_arr : (100, 9858) || vec_arr : (79700, 9858)\n",
      "num2 : (100, 9858) || dim : 2\n"
     ]
    },
    {
     "name": "stderr",
     "output_type": "stream",
     "text": [
      " 80%|███████▉  | 798/1000 [11:36<07:05,  2.11s/it]"
     ]
    },
    {
     "name": "stdout",
     "output_type": "stream",
     "text": [
      "num2 more : tmp_data_arr : (100, 9858) || vec_arr : (79800, 9858)\n",
      "num2 : (100, 9858) || dim : 2\n"
     ]
    },
    {
     "name": "stderr",
     "output_type": "stream",
     "text": [
      " 80%|███████▉  | 799/1000 [11:39<07:36,  2.27s/it]"
     ]
    },
    {
     "name": "stdout",
     "output_type": "stream",
     "text": [
      "num2 more : tmp_data_arr : (100, 9858) || vec_arr : (79900, 9858)\n",
      "num2 : (100, 9858) || dim : 2\n"
     ]
    },
    {
     "name": "stderr",
     "output_type": "stream",
     "text": [
      " 80%|████████  | 800/1000 [11:42<08:11,  2.46s/it]"
     ]
    },
    {
     "name": "stdout",
     "output_type": "stream",
     "text": [
      "num2 more : tmp_data_arr : (100, 9858) || vec_arr : (80000, 9858)\n",
      "num2 : (100, 9858) || dim : 2\n"
     ]
    },
    {
     "name": "stderr",
     "output_type": "stream",
     "text": [
      " 80%|████████  | 801/1000 [11:45<08:23,  2.53s/it]"
     ]
    },
    {
     "name": "stdout",
     "output_type": "stream",
     "text": [
      "num2 more : tmp_data_arr : (100, 9858) || vec_arr : (80100, 9858)\n",
      "num2 : (100, 9858) || dim : 2\n"
     ]
    },
    {
     "name": "stderr",
     "output_type": "stream",
     "text": [
      " 80%|████████  | 802/1000 [11:47<07:52,  2.39s/it]"
     ]
    },
    {
     "name": "stdout",
     "output_type": "stream",
     "text": [
      "num2 more : tmp_data_arr : (100, 9858) || vec_arr : (80200, 9858)\n",
      "num2 : (100, 9858) || dim : 2\n"
     ]
    },
    {
     "name": "stderr",
     "output_type": "stream",
     "text": [
      " 80%|████████  | 803/1000 [11:49<08:09,  2.48s/it]"
     ]
    },
    {
     "name": "stdout",
     "output_type": "stream",
     "text": [
      "num2 more : tmp_data_arr : (100, 9858) || vec_arr : (80300, 9858)\n",
      "num2 : (100, 9858) || dim : 2\n"
     ]
    },
    {
     "name": "stderr",
     "output_type": "stream",
     "text": [
      " 80%|████████  | 804/1000 [11:51<07:34,  2.32s/it]"
     ]
    },
    {
     "name": "stdout",
     "output_type": "stream",
     "text": [
      "num2 more : tmp_data_arr : (100, 9858) || vec_arr : (80400, 9858)\n",
      "num2 : (100, 9858) || dim : 2\n"
     ]
    },
    {
     "name": "stderr",
     "output_type": "stream",
     "text": [
      " 80%|████████  | 805/1000 [11:53<07:13,  2.23s/it]"
     ]
    },
    {
     "name": "stdout",
     "output_type": "stream",
     "text": [
      "num2 more : tmp_data_arr : (100, 9858) || vec_arr : (80500, 9858)\n",
      "num2 : (100, 9858) || dim : 2\n"
     ]
    },
    {
     "name": "stderr",
     "output_type": "stream",
     "text": [
      " 81%|████████  | 806/1000 [11:55<06:54,  2.13s/it]"
     ]
    },
    {
     "name": "stdout",
     "output_type": "stream",
     "text": [
      "num2 more : tmp_data_arr : (100, 9858) || vec_arr : (80600, 9858)\n",
      "num2 : (100, 9858) || dim : 2\n"
     ]
    },
    {
     "name": "stderr",
     "output_type": "stream",
     "text": [
      " 81%|████████  | 807/1000 [11:57<06:36,  2.05s/it]"
     ]
    },
    {
     "name": "stdout",
     "output_type": "stream",
     "text": [
      "num2 more : tmp_data_arr : (100, 9858) || vec_arr : (80700, 9858)\n",
      "num2 : (100, 9858) || dim : 2\n"
     ]
    },
    {
     "name": "stderr",
     "output_type": "stream",
     "text": [
      " 81%|████████  | 808/1000 [11:59<06:22,  1.99s/it]"
     ]
    },
    {
     "name": "stdout",
     "output_type": "stream",
     "text": [
      "num2 more : tmp_data_arr : (100, 9858) || vec_arr : (80800, 9858)\n",
      "num2 : (100, 9858) || dim : 2\n"
     ]
    },
    {
     "name": "stderr",
     "output_type": "stream",
     "text": [
      " 81%|████████  | 809/1000 [12:01<06:42,  2.11s/it]"
     ]
    },
    {
     "name": "stdout",
     "output_type": "stream",
     "text": [
      "num2 more : tmp_data_arr : (100, 9858) || vec_arr : (80900, 9858)\n",
      "num2 : (100, 9858) || dim : 2\n"
     ]
    },
    {
     "name": "stderr",
     "output_type": "stream",
     "text": [
      " 81%|████████  | 810/1000 [12:04<07:11,  2.27s/it]"
     ]
    },
    {
     "name": "stdout",
     "output_type": "stream",
     "text": [
      "num2 more : tmp_data_arr : (100, 9858) || vec_arr : (81000, 9858)\n",
      "num2 : (100, 9858) || dim : 2\n"
     ]
    },
    {
     "name": "stderr",
     "output_type": "stream",
     "text": [
      " 81%|████████  | 811/1000 [12:07<07:43,  2.45s/it]"
     ]
    },
    {
     "name": "stdout",
     "output_type": "stream",
     "text": [
      "num2 more : tmp_data_arr : (100, 9858) || vec_arr : (81100, 9858)\n",
      "num2 : (100, 9858) || dim : 2\n"
     ]
    },
    {
     "name": "stderr",
     "output_type": "stream",
     "text": [
      " 81%|████████  | 812/1000 [12:10<08:05,  2.58s/it]"
     ]
    },
    {
     "name": "stdout",
     "output_type": "stream",
     "text": [
      "num2 more : tmp_data_arr : (100, 9858) || vec_arr : (81200, 9858)\n",
      "num2 : (100, 9858) || dim : 2\n"
     ]
    },
    {
     "name": "stderr",
     "output_type": "stream",
     "text": [
      " 81%|████████▏ | 813/1000 [12:12<07:43,  2.48s/it]"
     ]
    },
    {
     "name": "stdout",
     "output_type": "stream",
     "text": [
      "num2 more : tmp_data_arr : (100, 9858) || vec_arr : (81300, 9858)\n",
      "num2 : (100, 9858) || dim : 2\n"
     ]
    },
    {
     "name": "stderr",
     "output_type": "stream",
     "text": [
      " 81%|████████▏ | 814/1000 [12:14<07:11,  2.32s/it]"
     ]
    },
    {
     "name": "stdout",
     "output_type": "stream",
     "text": [
      "num2 more : tmp_data_arr : (100, 9858) || vec_arr : (81400, 9858)\n",
      "num2 : (100, 9858) || dim : 2\n"
     ]
    },
    {
     "name": "stderr",
     "output_type": "stream",
     "text": [
      " 82%|████████▏ | 815/1000 [12:16<06:46,  2.20s/it]"
     ]
    },
    {
     "name": "stdout",
     "output_type": "stream",
     "text": [
      "num2 more : tmp_data_arr : (100, 9858) || vec_arr : (81500, 9858)\n",
      "num2 : (100, 9858) || dim : 2\n"
     ]
    },
    {
     "name": "stderr",
     "output_type": "stream",
     "text": [
      " 82%|████████▏ | 816/1000 [12:18<06:58,  2.27s/it]"
     ]
    },
    {
     "name": "stdout",
     "output_type": "stream",
     "text": [
      "num2 more : tmp_data_arr : (100, 9858) || vec_arr : (81600, 9858)\n",
      "num2 : (100, 9858) || dim : 2\n"
     ]
    },
    {
     "name": "stderr",
     "output_type": "stream",
     "text": [
      " 82%|████████▏ | 817/1000 [12:22<07:52,  2.58s/it]"
     ]
    },
    {
     "name": "stdout",
     "output_type": "stream",
     "text": [
      "num2 more : tmp_data_arr : (100, 9858) || vec_arr : (81700, 9858)\n",
      "num2 : (100, 9858) || dim : 2\n"
     ]
    },
    {
     "name": "stderr",
     "output_type": "stream",
     "text": [
      " 82%|████████▏ | 818/1000 [12:25<08:27,  2.79s/it]"
     ]
    },
    {
     "name": "stdout",
     "output_type": "stream",
     "text": [
      "num2 more : tmp_data_arr : (100, 9858) || vec_arr : (81800, 9858)\n",
      "num2 : (100, 9858) || dim : 2\n"
     ]
    },
    {
     "name": "stderr",
     "output_type": "stream",
     "text": [
      " 82%|████████▏ | 819/1000 [12:28<08:31,  2.83s/it]"
     ]
    },
    {
     "name": "stdout",
     "output_type": "stream",
     "text": [
      "num2 more : tmp_data_arr : (100, 9858) || vec_arr : (81900, 9858)\n",
      "num2 : (100, 9858) || dim : 2\n"
     ]
    },
    {
     "name": "stderr",
     "output_type": "stream",
     "text": [
      " 82%|████████▏ | 820/1000 [12:31<08:39,  2.89s/it]"
     ]
    },
    {
     "name": "stdout",
     "output_type": "stream",
     "text": [
      "num2 more : tmp_data_arr : (100, 9858) || vec_arr : (82000, 9858)\n",
      "num2 : (100, 9858) || dim : 2\n"
     ]
    },
    {
     "name": "stderr",
     "output_type": "stream",
     "text": [
      " 82%|████████▏ | 821/1000 [12:34<09:03,  3.04s/it]"
     ]
    },
    {
     "name": "stdout",
     "output_type": "stream",
     "text": [
      "num2 more : tmp_data_arr : (100, 9858) || vec_arr : (82100, 9858)\n",
      "num2 : (100, 9858) || dim : 2\n"
     ]
    },
    {
     "name": "stderr",
     "output_type": "stream",
     "text": [
      " 82%|████████▏ | 822/1000 [12:37<09:08,  3.08s/it]"
     ]
    },
    {
     "name": "stdout",
     "output_type": "stream",
     "text": [
      "num2 more : tmp_data_arr : (100, 9858) || vec_arr : (82200, 9858)\n",
      "num2 : (100, 9858) || dim : 2\n"
     ]
    },
    {
     "name": "stderr",
     "output_type": "stream",
     "text": [
      " 82%|████████▏ | 823/1000 [12:40<09:04,  3.07s/it]"
     ]
    },
    {
     "name": "stdout",
     "output_type": "stream",
     "text": [
      "num2 more : tmp_data_arr : (100, 9858) || vec_arr : (82300, 9858)\n",
      "num2 : (100, 9858) || dim : 2\n"
     ]
    },
    {
     "name": "stderr",
     "output_type": "stream",
     "text": [
      " 82%|████████▏ | 824/1000 [12:44<09:22,  3.19s/it]"
     ]
    },
    {
     "name": "stdout",
     "output_type": "stream",
     "text": [
      "num2 more : tmp_data_arr : (100, 9858) || vec_arr : (82400, 9858)\n",
      "num2 : (100, 9858) || dim : 2\n"
     ]
    },
    {
     "name": "stderr",
     "output_type": "stream",
     "text": [
      " 82%|████████▎ | 825/1000 [12:47<09:22,  3.21s/it]"
     ]
    },
    {
     "name": "stdout",
     "output_type": "stream",
     "text": [
      "num2 more : tmp_data_arr : (100, 9858) || vec_arr : (82500, 9858)\n",
      "num2 : (100, 9858) || dim : 2\n"
     ]
    },
    {
     "name": "stderr",
     "output_type": "stream",
     "text": [
      " 83%|████████▎ | 826/1000 [12:51<09:56,  3.43s/it]"
     ]
    },
    {
     "name": "stdout",
     "output_type": "stream",
     "text": [
      "num2 more : tmp_data_arr : (100, 9858) || vec_arr : (82600, 9858)\n",
      "num2 : (100, 9858) || dim : 2\n"
     ]
    },
    {
     "name": "stderr",
     "output_type": "stream",
     "text": [
      " 83%|████████▎ | 827/1000 [12:55<10:20,  3.59s/it]"
     ]
    },
    {
     "name": "stdout",
     "output_type": "stream",
     "text": [
      "num2 more : tmp_data_arr : (100, 9858) || vec_arr : (82700, 9858)\n",
      "num2 : (100, 9858) || dim : 2\n"
     ]
    },
    {
     "name": "stderr",
     "output_type": "stream",
     "text": [
      " 83%|████████▎ | 828/1000 [12:58<09:34,  3.34s/it]"
     ]
    },
    {
     "name": "stdout",
     "output_type": "stream",
     "text": [
      "num2 more : tmp_data_arr : (100, 9858) || vec_arr : (82800, 9858)\n",
      "num2 : (100, 9858) || dim : 2\n"
     ]
    },
    {
     "name": "stderr",
     "output_type": "stream",
     "text": [
      " 83%|████████▎ | 829/1000 [13:01<09:23,  3.29s/it]"
     ]
    },
    {
     "name": "stdout",
     "output_type": "stream",
     "text": [
      "num2 more : tmp_data_arr : (100, 9858) || vec_arr : (82900, 9858)\n",
      "num2 : (100, 9858) || dim : 2\n"
     ]
    },
    {
     "name": "stderr",
     "output_type": "stream",
     "text": [
      " 83%|████████▎ | 830/1000 [13:04<09:23,  3.31s/it]"
     ]
    },
    {
     "name": "stdout",
     "output_type": "stream",
     "text": [
      "num2 more : tmp_data_arr : (100, 9858) || vec_arr : (83000, 9858)\n",
      "num2 : (100, 9858) || dim : 2\n"
     ]
    },
    {
     "name": "stderr",
     "output_type": "stream",
     "text": [
      " 83%|████████▎ | 831/1000 [13:08<09:34,  3.40s/it]"
     ]
    },
    {
     "name": "stdout",
     "output_type": "stream",
     "text": [
      "num2 more : tmp_data_arr : (100, 9858) || vec_arr : (83100, 9858)\n",
      "num2 : (100, 9858) || dim : 2\n"
     ]
    },
    {
     "name": "stderr",
     "output_type": "stream",
     "text": [
      " 83%|████████▎ | 832/1000 [13:11<09:00,  3.22s/it]"
     ]
    },
    {
     "name": "stdout",
     "output_type": "stream",
     "text": [
      "num2 more : tmp_data_arr : (100, 9858) || vec_arr : (83200, 9858)\n",
      "num2 : (100, 9858) || dim : 2\n"
     ]
    },
    {
     "name": "stderr",
     "output_type": "stream",
     "text": [
      " 83%|████████▎ | 833/1000 [13:14<09:16,  3.33s/it]"
     ]
    },
    {
     "name": "stdout",
     "output_type": "stream",
     "text": [
      "num2 more : tmp_data_arr : (100, 9858) || vec_arr : (83300, 9858)\n",
      "num2 : (100, 9858) || dim : 2\n"
     ]
    },
    {
     "name": "stderr",
     "output_type": "stream",
     "text": [
      " 83%|████████▎ | 834/1000 [13:18<09:05,  3.29s/it]"
     ]
    },
    {
     "name": "stdout",
     "output_type": "stream",
     "text": [
      "num2 more : tmp_data_arr : (100, 9858) || vec_arr : (83400, 9858)\n",
      "num2 : (100, 9858) || dim : 2\n"
     ]
    },
    {
     "name": "stderr",
     "output_type": "stream",
     "text": [
      " 84%|████████▎ | 835/1000 [13:21<08:49,  3.21s/it]"
     ]
    },
    {
     "name": "stdout",
     "output_type": "stream",
     "text": [
      "num2 more : tmp_data_arr : (100, 9858) || vec_arr : (83500, 9858)\n",
      "num2 : (100, 9858) || dim : 2\n"
     ]
    },
    {
     "name": "stderr",
     "output_type": "stream",
     "text": [
      " 84%|████████▎ | 836/1000 [13:25<09:19,  3.41s/it]"
     ]
    },
    {
     "name": "stdout",
     "output_type": "stream",
     "text": [
      "num2 more : tmp_data_arr : (100, 9858) || vec_arr : (83600, 9858)\n",
      "num2 : (100, 9858) || dim : 2\n"
     ]
    },
    {
     "name": "stderr",
     "output_type": "stream",
     "text": [
      " 84%|████████▎ | 837/1000 [13:28<09:40,  3.56s/it]"
     ]
    },
    {
     "name": "stdout",
     "output_type": "stream",
     "text": [
      "num2 more : tmp_data_arr : (100, 9858) || vec_arr : (83700, 9858)\n",
      "num2 : (100, 9858) || dim : 2\n"
     ]
    },
    {
     "name": "stderr",
     "output_type": "stream",
     "text": [
      " 84%|████████▍ | 838/1000 [13:32<09:21,  3.47s/it]"
     ]
    },
    {
     "name": "stdout",
     "output_type": "stream",
     "text": [
      "num2 more : tmp_data_arr : (100, 9858) || vec_arr : (83800, 9858)\n",
      "num2 : (100, 9858) || dim : 2\n"
     ]
    },
    {
     "name": "stderr",
     "output_type": "stream",
     "text": [
      " 84%|████████▍ | 839/1000 [13:35<08:54,  3.32s/it]"
     ]
    },
    {
     "name": "stdout",
     "output_type": "stream",
     "text": [
      "num2 more : tmp_data_arr : (100, 9858) || vec_arr : (83900, 9858)\n",
      "num2 : (100, 9858) || dim : 2\n"
     ]
    },
    {
     "name": "stderr",
     "output_type": "stream",
     "text": [
      " 84%|████████▍ | 840/1000 [13:37<08:17,  3.11s/it]"
     ]
    },
    {
     "name": "stdout",
     "output_type": "stream",
     "text": [
      "num2 more : tmp_data_arr : (100, 9858) || vec_arr : (84000, 9858)\n",
      "num2 : (100, 9858) || dim : 2\n"
     ]
    },
    {
     "name": "stderr",
     "output_type": "stream",
     "text": [
      " 84%|████████▍ | 841/1000 [13:41<08:25,  3.18s/it]"
     ]
    },
    {
     "name": "stdout",
     "output_type": "stream",
     "text": [
      "num2 more : tmp_data_arr : (100, 9858) || vec_arr : (84100, 9858)\n",
      "num2 : (100, 9858) || dim : 2\n"
     ]
    },
    {
     "name": "stderr",
     "output_type": "stream",
     "text": [
      " 84%|████████▍ | 842/1000 [13:44<08:46,  3.33s/it]"
     ]
    },
    {
     "name": "stdout",
     "output_type": "stream",
     "text": [
      "num2 more : tmp_data_arr : (100, 9858) || vec_arr : (84200, 9858)\n",
      "num2 : (100, 9858) || dim : 2\n"
     ]
    },
    {
     "name": "stderr",
     "output_type": "stream",
     "text": [
      " 84%|████████▍ | 843/1000 [13:48<08:41,  3.32s/it]"
     ]
    },
    {
     "name": "stdout",
     "output_type": "stream",
     "text": [
      "num2 more : tmp_data_arr : (100, 9858) || vec_arr : (84300, 9858)\n",
      "num2 : (100, 9858) || dim : 2\n"
     ]
    },
    {
     "name": "stderr",
     "output_type": "stream",
     "text": [
      " 84%|████████▍ | 844/1000 [13:51<08:19,  3.20s/it]"
     ]
    },
    {
     "name": "stdout",
     "output_type": "stream",
     "text": [
      "num2 more : tmp_data_arr : (100, 9858) || vec_arr : (84400, 9858)\n",
      "num2 : (100, 9858) || dim : 2\n"
     ]
    },
    {
     "name": "stderr",
     "output_type": "stream",
     "text": [
      " 84%|████████▍ | 845/1000 [13:54<08:09,  3.16s/it]"
     ]
    },
    {
     "name": "stdout",
     "output_type": "stream",
     "text": [
      "num2 more : tmp_data_arr : (100, 9858) || vec_arr : (84500, 9858)\n",
      "num2 : (100, 9858) || dim : 2\n"
     ]
    },
    {
     "name": "stderr",
     "output_type": "stream",
     "text": [
      " 85%|████████▍ | 846/1000 [13:57<08:03,  3.14s/it]"
     ]
    },
    {
     "name": "stdout",
     "output_type": "stream",
     "text": [
      "num2 more : tmp_data_arr : (100, 9858) || vec_arr : (84600, 9858)\n",
      "num2 : (100, 9858) || dim : 2\n"
     ]
    },
    {
     "name": "stderr",
     "output_type": "stream",
     "text": [
      " 85%|████████▍ | 847/1000 [13:59<07:44,  3.03s/it]"
     ]
    },
    {
     "name": "stdout",
     "output_type": "stream",
     "text": [
      "num2 more : tmp_data_arr : (100, 9858) || vec_arr : (84700, 9858)\n",
      "num2 : (100, 9858) || dim : 2\n"
     ]
    },
    {
     "name": "stderr",
     "output_type": "stream",
     "text": [
      " 85%|████████▍ | 848/1000 [14:02<07:34,  2.99s/it]"
     ]
    },
    {
     "name": "stdout",
     "output_type": "stream",
     "text": [
      "num2 more : tmp_data_arr : (100, 9858) || vec_arr : (84800, 9858)\n",
      "num2 : (100, 9858) || dim : 2\n"
     ]
    },
    {
     "name": "stderr",
     "output_type": "stream",
     "text": [
      " 85%|████████▍ | 849/1000 [14:05<07:35,  3.01s/it]"
     ]
    },
    {
     "name": "stdout",
     "output_type": "stream",
     "text": [
      "num2 more : tmp_data_arr : (100, 9858) || vec_arr : (84900, 9858)\n",
      "num2 : (100, 9858) || dim : 2\n"
     ]
    },
    {
     "name": "stderr",
     "output_type": "stream",
     "text": [
      " 85%|████████▌ | 850/1000 [14:09<08:16,  3.31s/it]"
     ]
    },
    {
     "name": "stdout",
     "output_type": "stream",
     "text": [
      "num2 more : tmp_data_arr : (100, 9858) || vec_arr : (85000, 9858)\n",
      "num2 : (100, 9858) || dim : 2\n"
     ]
    },
    {
     "name": "stderr",
     "output_type": "stream",
     "text": [
      " 85%|████████▌ | 851/1000 [14:13<08:13,  3.32s/it]"
     ]
    },
    {
     "name": "stdout",
     "output_type": "stream",
     "text": [
      "num2 more : tmp_data_arr : (100, 9858) || vec_arr : (85100, 9858)\n",
      "num2 : (100, 9858) || dim : 2\n"
     ]
    },
    {
     "name": "stderr",
     "output_type": "stream",
     "text": [
      " 85%|████████▌ | 852/1000 [14:16<07:58,  3.24s/it]"
     ]
    },
    {
     "name": "stdout",
     "output_type": "stream",
     "text": [
      "num2 more : tmp_data_arr : (100, 9858) || vec_arr : (85200, 9858)\n",
      "num2 : (100, 9858) || dim : 2\n"
     ]
    },
    {
     "name": "stderr",
     "output_type": "stream",
     "text": [
      " 85%|████████▌ | 853/1000 [14:19<07:55,  3.24s/it]"
     ]
    },
    {
     "name": "stdout",
     "output_type": "stream",
     "text": [
      "num2 more : tmp_data_arr : (100, 9858) || vec_arr : (85300, 9858)\n",
      "num2 : (100, 9858) || dim : 2\n"
     ]
    },
    {
     "name": "stderr",
     "output_type": "stream",
     "text": [
      " 85%|████████▌ | 854/1000 [14:23<08:03,  3.31s/it]"
     ]
    },
    {
     "name": "stdout",
     "output_type": "stream",
     "text": [
      "num2 more : tmp_data_arr : (100, 9858) || vec_arr : (85400, 9858)\n",
      "num2 : (100, 9858) || dim : 2\n"
     ]
    },
    {
     "name": "stderr",
     "output_type": "stream",
     "text": [
      " 86%|████████▌ | 855/1000 [14:27<08:51,  3.67s/it]"
     ]
    },
    {
     "name": "stdout",
     "output_type": "stream",
     "text": [
      "num2 more : tmp_data_arr : (100, 9858) || vec_arr : (85500, 9858)\n",
      "num2 : (100, 9858) || dim : 2\n"
     ]
    },
    {
     "name": "stderr",
     "output_type": "stream",
     "text": [
      " 86%|████████▌ | 856/1000 [14:31<09:18,  3.88s/it]"
     ]
    },
    {
     "name": "stdout",
     "output_type": "stream",
     "text": [
      "num2 more : tmp_data_arr : (100, 9858) || vec_arr : (85600, 9858)\n",
      "num2 : (100, 9858) || dim : 2\n"
     ]
    },
    {
     "name": "stderr",
     "output_type": "stream",
     "text": [
      " 86%|████████▌ | 857/1000 [14:38<11:12,  4.71s/it]"
     ]
    },
    {
     "name": "stdout",
     "output_type": "stream",
     "text": [
      "num2 more : tmp_data_arr : (100, 9858) || vec_arr : (85700, 9858)\n",
      "num2 : (100, 9858) || dim : 2\n"
     ]
    },
    {
     "name": "stderr",
     "output_type": "stream",
     "text": [
      " 86%|████████▌ | 858/1000 [14:42<10:35,  4.48s/it]"
     ]
    },
    {
     "name": "stdout",
     "output_type": "stream",
     "text": [
      "num2 more : tmp_data_arr : (100, 9858) || vec_arr : (85800, 9858)\n",
      "num2 : (100, 9858) || dim : 2\n"
     ]
    },
    {
     "name": "stderr",
     "output_type": "stream",
     "text": [
      " 86%|████████▌ | 859/1000 [14:46<10:18,  4.38s/it]"
     ]
    },
    {
     "name": "stdout",
     "output_type": "stream",
     "text": [
      "num2 more : tmp_data_arr : (100, 9858) || vec_arr : (85900, 9858)\n",
      "num2 : (100, 9858) || dim : 2\n"
     ]
    },
    {
     "name": "stderr",
     "output_type": "stream",
     "text": [
      " 86%|████████▌ | 860/1000 [14:50<09:47,  4.19s/it]"
     ]
    },
    {
     "name": "stdout",
     "output_type": "stream",
     "text": [
      "num2 more : tmp_data_arr : (100, 9858) || vec_arr : (86000, 9858)\n",
      "num2 : (100, 9858) || dim : 2\n"
     ]
    },
    {
     "name": "stderr",
     "output_type": "stream",
     "text": [
      " 86%|████████▌ | 861/1000 [14:53<09:14,  3.99s/it]"
     ]
    },
    {
     "name": "stdout",
     "output_type": "stream",
     "text": [
      "num2 more : tmp_data_arr : (100, 9858) || vec_arr : (86100, 9858)\n",
      "num2 : (100, 9858) || dim : 2\n"
     ]
    },
    {
     "name": "stderr",
     "output_type": "stream",
     "text": [
      " 86%|████████▌ | 862/1000 [14:57<09:01,  3.93s/it]"
     ]
    },
    {
     "name": "stdout",
     "output_type": "stream",
     "text": [
      "num2 more : tmp_data_arr : (100, 9858) || vec_arr : (86200, 9858)\n",
      "num2 : (100, 9858) || dim : 2\n"
     ]
    },
    {
     "name": "stderr",
     "output_type": "stream",
     "text": [
      " 86%|████████▋ | 863/1000 [15:01<08:52,  3.88s/it]"
     ]
    },
    {
     "name": "stdout",
     "output_type": "stream",
     "text": [
      "num2 more : tmp_data_arr : (100, 9858) || vec_arr : (86300, 9858)\n",
      "num2 : (100, 9858) || dim : 2\n"
     ]
    },
    {
     "name": "stderr",
     "output_type": "stream",
     "text": [
      " 86%|████████▋ | 864/1000 [15:05<08:47,  3.88s/it]"
     ]
    },
    {
     "name": "stdout",
     "output_type": "stream",
     "text": [
      "num2 more : tmp_data_arr : (100, 9858) || vec_arr : (86400, 9858)\n",
      "num2 : (100, 9858) || dim : 2\n"
     ]
    },
    {
     "name": "stderr",
     "output_type": "stream",
     "text": [
      " 86%|████████▋ | 865/1000 [15:09<08:56,  3.98s/it]"
     ]
    },
    {
     "name": "stdout",
     "output_type": "stream",
     "text": [
      "num2 more : tmp_data_arr : (100, 9858) || vec_arr : (86500, 9858)\n",
      "num2 : (100, 9858) || dim : 2\n"
     ]
    },
    {
     "name": "stderr",
     "output_type": "stream",
     "text": [
      " 87%|████████▋ | 866/1000 [15:13<08:43,  3.91s/it]"
     ]
    },
    {
     "name": "stdout",
     "output_type": "stream",
     "text": [
      "num2 more : tmp_data_arr : (100, 9858) || vec_arr : (86600, 9858)\n",
      "num2 : (100, 9858) || dim : 2\n"
     ]
    },
    {
     "name": "stderr",
     "output_type": "stream",
     "text": [
      " 87%|████████▋ | 867/1000 [15:17<09:02,  4.08s/it]"
     ]
    },
    {
     "name": "stdout",
     "output_type": "stream",
     "text": [
      "num2 more : tmp_data_arr : (100, 9858) || vec_arr : (86700, 9858)\n",
      "num2 : (100, 9858) || dim : 2\n"
     ]
    },
    {
     "name": "stderr",
     "output_type": "stream",
     "text": [
      " 87%|████████▋ | 868/1000 [15:21<08:59,  4.09s/it]"
     ]
    },
    {
     "name": "stdout",
     "output_type": "stream",
     "text": [
      "num2 more : tmp_data_arr : (100, 9858) || vec_arr : (86800, 9858)\n",
      "num2 : (100, 9858) || dim : 2\n"
     ]
    },
    {
     "name": "stderr",
     "output_type": "stream",
     "text": [
      " 87%|████████▋ | 869/1000 [15:25<08:48,  4.03s/it]"
     ]
    },
    {
     "name": "stdout",
     "output_type": "stream",
     "text": [
      "num2 more : tmp_data_arr : (100, 9858) || vec_arr : (86900, 9858)\n",
      "num2 : (100, 9858) || dim : 2\n"
     ]
    },
    {
     "name": "stderr",
     "output_type": "stream",
     "text": [
      " 87%|████████▋ | 870/1000 [15:29<08:52,  4.09s/it]"
     ]
    },
    {
     "name": "stdout",
     "output_type": "stream",
     "text": [
      "num2 more : tmp_data_arr : (100, 9858) || vec_arr : (87000, 9858)\n",
      "num2 : (100, 9858) || dim : 2\n"
     ]
    },
    {
     "name": "stderr",
     "output_type": "stream",
     "text": [
      " 87%|████████▋ | 871/1000 [15:33<08:44,  4.07s/it]"
     ]
    },
    {
     "name": "stdout",
     "output_type": "stream",
     "text": [
      "num2 more : tmp_data_arr : (100, 9858) || vec_arr : (87100, 9858)\n",
      "num2 : (100, 9858) || dim : 2\n"
     ]
    },
    {
     "name": "stderr",
     "output_type": "stream",
     "text": [
      " 87%|████████▋ | 872/1000 [15:38<08:40,  4.06s/it]"
     ]
    },
    {
     "name": "stdout",
     "output_type": "stream",
     "text": [
      "num2 more : tmp_data_arr : (100, 9858) || vec_arr : (87200, 9858)\n",
      "num2 : (100, 9858) || dim : 2\n"
     ]
    },
    {
     "name": "stderr",
     "output_type": "stream",
     "text": [
      " 87%|████████▋ | 873/1000 [15:42<08:38,  4.08s/it]"
     ]
    },
    {
     "name": "stdout",
     "output_type": "stream",
     "text": [
      "num2 more : tmp_data_arr : (100, 9858) || vec_arr : (87300, 9858)\n",
      "num2 : (100, 9858) || dim : 2\n"
     ]
    },
    {
     "name": "stderr",
     "output_type": "stream",
     "text": [
      " 87%|████████▋ | 874/1000 [15:46<08:39,  4.12s/it]"
     ]
    },
    {
     "name": "stdout",
     "output_type": "stream",
     "text": [
      "num2 more : tmp_data_arr : (100, 9858) || vec_arr : (87400, 9858)\n",
      "num2 : (100, 9858) || dim : 2\n"
     ]
    },
    {
     "name": "stderr",
     "output_type": "stream",
     "text": [
      " 88%|████████▊ | 875/1000 [15:50<08:50,  4.24s/it]"
     ]
    },
    {
     "name": "stdout",
     "output_type": "stream",
     "text": [
      "num2 more : tmp_data_arr : (100, 9858) || vec_arr : (87500, 9858)\n",
      "num2 : (100, 9858) || dim : 2\n"
     ]
    },
    {
     "name": "stderr",
     "output_type": "stream",
     "text": [
      " 88%|████████▊ | 876/1000 [15:54<08:24,  4.07s/it]"
     ]
    },
    {
     "name": "stdout",
     "output_type": "stream",
     "text": [
      "num2 more : tmp_data_arr : (100, 9858) || vec_arr : (87600, 9858)\n",
      "num2 : (100, 9858) || dim : 2\n"
     ]
    },
    {
     "name": "stderr",
     "output_type": "stream",
     "text": [
      " 88%|████████▊ | 877/1000 [15:58<08:21,  4.08s/it]"
     ]
    },
    {
     "name": "stdout",
     "output_type": "stream",
     "text": [
      "num2 more : tmp_data_arr : (100, 9858) || vec_arr : (87700, 9858)\n",
      "num2 : (100, 9858) || dim : 2\n"
     ]
    },
    {
     "name": "stderr",
     "output_type": "stream",
     "text": [
      " 88%|████████▊ | 878/1000 [16:02<08:09,  4.02s/it]"
     ]
    },
    {
     "name": "stdout",
     "output_type": "stream",
     "text": [
      "num2 more : tmp_data_arr : (100, 9858) || vec_arr : (87800, 9858)\n",
      "num2 : (100, 9858) || dim : 2\n"
     ]
    },
    {
     "name": "stderr",
     "output_type": "stream",
     "text": [
      " 88%|████████▊ | 879/1000 [16:06<07:56,  3.94s/it]"
     ]
    },
    {
     "name": "stdout",
     "output_type": "stream",
     "text": [
      "num2 more : tmp_data_arr : (100, 9858) || vec_arr : (87900, 9858)\n",
      "num2 : (100, 9858) || dim : 2\n"
     ]
    },
    {
     "name": "stderr",
     "output_type": "stream",
     "text": [
      " 88%|████████▊ | 880/1000 [16:10<07:46,  3.89s/it]"
     ]
    },
    {
     "name": "stdout",
     "output_type": "stream",
     "text": [
      "num2 more : tmp_data_arr : (100, 9858) || vec_arr : (88000, 9858)\n",
      "num2 : (100, 9858) || dim : 2\n"
     ]
    },
    {
     "name": "stderr",
     "output_type": "stream",
     "text": [
      " 88%|████████▊ | 881/1000 [16:14<08:17,  4.18s/it]"
     ]
    },
    {
     "name": "stdout",
     "output_type": "stream",
     "text": [
      "num2 more : tmp_data_arr : (100, 9858) || vec_arr : (88100, 9858)\n",
      "num2 : (100, 9858) || dim : 2\n"
     ]
    },
    {
     "name": "stderr",
     "output_type": "stream",
     "text": [
      " 88%|████████▊ | 882/1000 [16:19<08:40,  4.41s/it]"
     ]
    },
    {
     "name": "stdout",
     "output_type": "stream",
     "text": [
      "num2 more : tmp_data_arr : (100, 9858) || vec_arr : (88200, 9858)\n",
      "num2 : (100, 9858) || dim : 2\n"
     ]
    },
    {
     "name": "stderr",
     "output_type": "stream",
     "text": [
      " 88%|████████▊ | 883/1000 [16:23<08:16,  4.24s/it]"
     ]
    },
    {
     "name": "stdout",
     "output_type": "stream",
     "text": [
      "num2 more : tmp_data_arr : (100, 9858) || vec_arr : (88300, 9858)\n",
      "num2 : (100, 9858) || dim : 2\n"
     ]
    },
    {
     "name": "stderr",
     "output_type": "stream",
     "text": [
      " 88%|████████▊ | 884/1000 [16:28<08:36,  4.45s/it]"
     ]
    },
    {
     "name": "stdout",
     "output_type": "stream",
     "text": [
      "num2 more : tmp_data_arr : (100, 9858) || vec_arr : (88400, 9858)\n",
      "num2 : (100, 9858) || dim : 2\n"
     ]
    },
    {
     "name": "stderr",
     "output_type": "stream",
     "text": [
      " 88%|████████▊ | 885/1000 [16:33<08:34,  4.47s/it]"
     ]
    },
    {
     "name": "stdout",
     "output_type": "stream",
     "text": [
      "num2 more : tmp_data_arr : (100, 9858) || vec_arr : (88500, 9858)\n",
      "num2 : (100, 9858) || dim : 2\n"
     ]
    },
    {
     "name": "stderr",
     "output_type": "stream",
     "text": [
      " 89%|████████▊ | 886/1000 [16:37<08:15,  4.35s/it]"
     ]
    },
    {
     "name": "stdout",
     "output_type": "stream",
     "text": [
      "num2 more : tmp_data_arr : (100, 9858) || vec_arr : (88600, 9858)\n",
      "num2 : (100, 9858) || dim : 2\n"
     ]
    },
    {
     "name": "stderr",
     "output_type": "stream",
     "text": [
      " 89%|████████▊ | 887/1000 [16:41<08:02,  4.27s/it]"
     ]
    },
    {
     "name": "stdout",
     "output_type": "stream",
     "text": [
      "num2 more : tmp_data_arr : (100, 9858) || vec_arr : (88700, 9858)\n",
      "num2 : (100, 9858) || dim : 2\n"
     ]
    },
    {
     "name": "stderr",
     "output_type": "stream",
     "text": [
      " 89%|████████▉ | 888/1000 [16:45<07:57,  4.27s/it]"
     ]
    },
    {
     "name": "stdout",
     "output_type": "stream",
     "text": [
      "num2 more : tmp_data_arr : (100, 9858) || vec_arr : (88800, 9858)\n",
      "num2 : (100, 9858) || dim : 2\n"
     ]
    },
    {
     "name": "stderr",
     "output_type": "stream",
     "text": [
      " 89%|████████▉ | 889/1000 [16:49<07:52,  4.25s/it]"
     ]
    },
    {
     "name": "stdout",
     "output_type": "stream",
     "text": [
      "num2 more : tmp_data_arr : (100, 9858) || vec_arr : (88900, 9858)\n",
      "num2 : (100, 9858) || dim : 2\n"
     ]
    },
    {
     "name": "stderr",
     "output_type": "stream",
     "text": [
      " 89%|████████▉ | 890/1000 [16:53<07:40,  4.19s/it]"
     ]
    },
    {
     "name": "stdout",
     "output_type": "stream",
     "text": [
      "num2 more : tmp_data_arr : (100, 9858) || vec_arr : (89000, 9858)\n",
      "num2 : (100, 9858) || dim : 2\n"
     ]
    },
    {
     "name": "stderr",
     "output_type": "stream",
     "text": [
      " 89%|████████▉ | 891/1000 [16:58<08:04,  4.45s/it]"
     ]
    },
    {
     "name": "stdout",
     "output_type": "stream",
     "text": [
      "num2 more : tmp_data_arr : (100, 9858) || vec_arr : (89100, 9858)\n",
      "num2 : (100, 9858) || dim : 2\n"
     ]
    },
    {
     "name": "stderr",
     "output_type": "stream",
     "text": [
      " 89%|████████▉ | 892/1000 [17:03<07:51,  4.36s/it]"
     ]
    },
    {
     "name": "stdout",
     "output_type": "stream",
     "text": [
      "num2 more : tmp_data_arr : (100, 9858) || vec_arr : (89200, 9858)\n",
      "num2 : (100, 9858) || dim : 2\n"
     ]
    },
    {
     "name": "stderr",
     "output_type": "stream",
     "text": [
      " 89%|████████▉ | 893/1000 [17:07<07:33,  4.23s/it]"
     ]
    },
    {
     "name": "stdout",
     "output_type": "stream",
     "text": [
      "num2 more : tmp_data_arr : (100, 9858) || vec_arr : (89300, 9858)\n",
      "num2 : (100, 9858) || dim : 2\n"
     ]
    },
    {
     "name": "stderr",
     "output_type": "stream",
     "text": [
      " 89%|████████▉ | 894/1000 [17:10<07:16,  4.12s/it]"
     ]
    },
    {
     "name": "stdout",
     "output_type": "stream",
     "text": [
      "num2 more : tmp_data_arr : (100, 9858) || vec_arr : (89400, 9858)\n",
      "num2 : (100, 9858) || dim : 2\n"
     ]
    },
    {
     "name": "stderr",
     "output_type": "stream",
     "text": [
      " 90%|████████▉ | 895/1000 [17:14<07:02,  4.03s/it]"
     ]
    },
    {
     "name": "stdout",
     "output_type": "stream",
     "text": [
      "num2 more : tmp_data_arr : (100, 9858) || vec_arr : (89500, 9858)\n",
      "num2 : (100, 9858) || dim : 2\n"
     ]
    },
    {
     "name": "stderr",
     "output_type": "stream",
     "text": [
      " 90%|████████▉ | 896/1000 [17:20<07:43,  4.45s/it]"
     ]
    },
    {
     "name": "stdout",
     "output_type": "stream",
     "text": [
      "num2 more : tmp_data_arr : (100, 9858) || vec_arr : (89600, 9858)\n",
      "num2 : (100, 9858) || dim : 2\n"
     ]
    },
    {
     "name": "stderr",
     "output_type": "stream",
     "text": [
      " 90%|████████▉ | 897/1000 [17:25<08:02,  4.68s/it]"
     ]
    },
    {
     "name": "stdout",
     "output_type": "stream",
     "text": [
      "num2 more : tmp_data_arr : (100, 9858) || vec_arr : (89700, 9858)\n",
      "num2 : (100, 9858) || dim : 2\n"
     ]
    },
    {
     "name": "stderr",
     "output_type": "stream",
     "text": [
      " 90%|████████▉ | 898/1000 [17:30<08:09,  4.80s/it]"
     ]
    },
    {
     "name": "stdout",
     "output_type": "stream",
     "text": [
      "num2 more : tmp_data_arr : (100, 9858) || vec_arr : (89800, 9858)\n",
      "num2 : (100, 9858) || dim : 2\n"
     ]
    },
    {
     "name": "stderr",
     "output_type": "stream",
     "text": [
      " 90%|████████▉ | 899/1000 [17:36<08:31,  5.06s/it]"
     ]
    },
    {
     "name": "stdout",
     "output_type": "stream",
     "text": [
      "num2 more : tmp_data_arr : (100, 9858) || vec_arr : (89900, 9858)\n",
      "num2 : (100, 9858) || dim : 2\n"
     ]
    },
    {
     "name": "stderr",
     "output_type": "stream",
     "text": [
      " 90%|█████████ | 900/1000 [17:42<08:59,  5.39s/it]"
     ]
    },
    {
     "name": "stdout",
     "output_type": "stream",
     "text": [
      "num2 more : tmp_data_arr : (100, 9858) || vec_arr : (90000, 9858)\n",
      "num2 : (100, 9858) || dim : 2\n"
     ]
    },
    {
     "name": "stderr",
     "output_type": "stream",
     "text": [
      " 90%|█████████ | 901/1000 [17:47<08:40,  5.26s/it]"
     ]
    },
    {
     "name": "stdout",
     "output_type": "stream",
     "text": [
      "num2 more : tmp_data_arr : (100, 9858) || vec_arr : (90100, 9858)\n",
      "num2 : (100, 9858) || dim : 2\n"
     ]
    },
    {
     "name": "stderr",
     "output_type": "stream",
     "text": [
      " 90%|█████████ | 902/1000 [17:52<08:35,  5.26s/it]"
     ]
    },
    {
     "name": "stdout",
     "output_type": "stream",
     "text": [
      "num2 more : tmp_data_arr : (100, 9858) || vec_arr : (90200, 9858)\n",
      "num2 : (100, 9858) || dim : 2\n"
     ]
    },
    {
     "name": "stderr",
     "output_type": "stream",
     "text": [
      " 90%|█████████ | 903/1000 [17:59<09:22,  5.80s/it]"
     ]
    },
    {
     "name": "stdout",
     "output_type": "stream",
     "text": [
      "num2 more : tmp_data_arr : (100, 9858) || vec_arr : (90300, 9858)\n",
      "num2 : (100, 9858) || dim : 2\n"
     ]
    },
    {
     "name": "stderr",
     "output_type": "stream",
     "text": [
      " 90%|█████████ | 904/1000 [18:04<08:58,  5.61s/it]"
     ]
    },
    {
     "name": "stdout",
     "output_type": "stream",
     "text": [
      "num2 more : tmp_data_arr : (100, 9858) || vec_arr : (90400, 9858)\n",
      "num2 : (100, 9858) || dim : 2\n"
     ]
    },
    {
     "name": "stderr",
     "output_type": "stream",
     "text": [
      " 90%|█████████ | 905/1000 [18:10<08:47,  5.55s/it]"
     ]
    },
    {
     "name": "stdout",
     "output_type": "stream",
     "text": [
      "num2 more : tmp_data_arr : (100, 9858) || vec_arr : (90500, 9858)\n",
      "num2 : (100, 9858) || dim : 2\n"
     ]
    },
    {
     "name": "stderr",
     "output_type": "stream",
     "text": [
      " 91%|█████████ | 906/1000 [18:15<08:36,  5.49s/it]"
     ]
    },
    {
     "name": "stdout",
     "output_type": "stream",
     "text": [
      "num2 more : tmp_data_arr : (100, 9858) || vec_arr : (90600, 9858)\n",
      "num2 : (100, 9858) || dim : 2\n"
     ]
    },
    {
     "name": "stderr",
     "output_type": "stream",
     "text": [
      " 91%|█████████ | 907/1000 [18:21<08:38,  5.57s/it]"
     ]
    },
    {
     "name": "stdout",
     "output_type": "stream",
     "text": [
      "num2 more : tmp_data_arr : (100, 9858) || vec_arr : (90700, 9858)\n",
      "num2 : (100, 9858) || dim : 2\n"
     ]
    },
    {
     "name": "stderr",
     "output_type": "stream",
     "text": [
      " 91%|█████████ | 908/1000 [18:25<08:03,  5.26s/it]"
     ]
    },
    {
     "name": "stdout",
     "output_type": "stream",
     "text": [
      "num2 more : tmp_data_arr : (100, 9858) || vec_arr : (90800, 9858)\n",
      "num2 : (100, 9858) || dim : 2\n"
     ]
    },
    {
     "name": "stderr",
     "output_type": "stream",
     "text": [
      " 91%|█████████ | 909/1000 [18:31<08:19,  5.49s/it]"
     ]
    },
    {
     "name": "stdout",
     "output_type": "stream",
     "text": [
      "num2 more : tmp_data_arr : (100, 9858) || vec_arr : (90900, 9858)\n",
      "num2 : (100, 9858) || dim : 2\n"
     ]
    },
    {
     "name": "stderr",
     "output_type": "stream",
     "text": [
      " 91%|█████████ | 910/1000 [18:36<07:49,  5.21s/it]"
     ]
    },
    {
     "name": "stdout",
     "output_type": "stream",
     "text": [
      "num2 more : tmp_data_arr : (100, 9858) || vec_arr : (91000, 9858)\n",
      "num2 : (100, 9858) || dim : 2\n"
     ]
    },
    {
     "name": "stderr",
     "output_type": "stream",
     "text": [
      " 91%|█████████ | 911/1000 [18:41<07:34,  5.11s/it]"
     ]
    },
    {
     "name": "stdout",
     "output_type": "stream",
     "text": [
      "num2 more : tmp_data_arr : (100, 9858) || vec_arr : (91100, 9858)\n",
      "num2 : (100, 9858) || dim : 2\n"
     ]
    },
    {
     "name": "stderr",
     "output_type": "stream",
     "text": [
      " 91%|█████████ | 912/1000 [18:46<07:35,  5.17s/it]"
     ]
    },
    {
     "name": "stdout",
     "output_type": "stream",
     "text": [
      "num2 more : tmp_data_arr : (100, 9858) || vec_arr : (91200, 9858)\n",
      "num2 : (100, 9858) || dim : 2\n"
     ]
    },
    {
     "name": "stderr",
     "output_type": "stream",
     "text": [
      " 91%|█████████▏| 913/1000 [18:52<07:50,  5.40s/it]"
     ]
    },
    {
     "name": "stdout",
     "output_type": "stream",
     "text": [
      "num2 more : tmp_data_arr : (100, 9858) || vec_arr : (91300, 9858)\n",
      "num2 : (100, 9858) || dim : 2\n"
     ]
    },
    {
     "name": "stderr",
     "output_type": "stream",
     "text": [
      " 91%|█████████▏| 914/1000 [18:58<08:08,  5.68s/it]"
     ]
    },
    {
     "name": "stdout",
     "output_type": "stream",
     "text": [
      "num2 more : tmp_data_arr : (100, 9858) || vec_arr : (91400, 9858)\n",
      "num2 : (100, 9858) || dim : 2\n"
     ]
    },
    {
     "name": "stderr",
     "output_type": "stream",
     "text": [
      " 92%|█████████▏| 915/1000 [19:04<08:09,  5.76s/it]"
     ]
    },
    {
     "name": "stdout",
     "output_type": "stream",
     "text": [
      "num2 more : tmp_data_arr : (100, 9858) || vec_arr : (91500, 9858)\n",
      "num2 : (100, 9858) || dim : 2\n"
     ]
    },
    {
     "name": "stderr",
     "output_type": "stream",
     "text": [
      " 92%|█████████▏| 916/1000 [19:11<08:29,  6.06s/it]"
     ]
    },
    {
     "name": "stdout",
     "output_type": "stream",
     "text": [
      "num2 more : tmp_data_arr : (100, 9858) || vec_arr : (91600, 9858)\n",
      "num2 : (100, 9858) || dim : 2\n"
     ]
    },
    {
     "name": "stderr",
     "output_type": "stream",
     "text": [
      " 92%|█████████▏| 917/1000 [19:17<08:21,  6.04s/it]"
     ]
    },
    {
     "name": "stdout",
     "output_type": "stream",
     "text": [
      "num2 more : tmp_data_arr : (100, 9858) || vec_arr : (91700, 9858)\n",
      "num2 : (100, 9858) || dim : 2\n"
     ]
    },
    {
     "name": "stderr",
     "output_type": "stream",
     "text": [
      " 92%|█████████▏| 918/1000 [19:21<07:34,  5.54s/it]"
     ]
    },
    {
     "name": "stdout",
     "output_type": "stream",
     "text": [
      "num2 more : tmp_data_arr : (100, 9858) || vec_arr : (91800, 9858)\n",
      "num2 : (100, 9858) || dim : 2\n"
     ]
    },
    {
     "name": "stderr",
     "output_type": "stream",
     "text": [
      " 92%|█████████▏| 919/1000 [19:26<07:08,  5.29s/it]"
     ]
    },
    {
     "name": "stdout",
     "output_type": "stream",
     "text": [
      "num2 more : tmp_data_arr : (100, 9858) || vec_arr : (91900, 9858)\n",
      "num2 : (100, 9858) || dim : 2\n"
     ]
    },
    {
     "name": "stderr",
     "output_type": "stream",
     "text": [
      " 92%|█████████▏| 920/1000 [19:31<07:02,  5.28s/it]"
     ]
    },
    {
     "name": "stdout",
     "output_type": "stream",
     "text": [
      "num2 more : tmp_data_arr : (100, 9858) || vec_arr : (92000, 9858)\n",
      "num2 : (100, 9858) || dim : 2\n"
     ]
    },
    {
     "name": "stderr",
     "output_type": "stream",
     "text": [
      " 92%|█████████▏| 921/1000 [19:38<07:28,  5.68s/it]"
     ]
    },
    {
     "name": "stdout",
     "output_type": "stream",
     "text": [
      "num2 more : tmp_data_arr : (100, 9858) || vec_arr : (92100, 9858)\n",
      "num2 : (100, 9858) || dim : 2\n"
     ]
    },
    {
     "name": "stderr",
     "output_type": "stream",
     "text": [
      " 92%|█████████▏| 922/1000 [19:47<08:30,  6.54s/it]"
     ]
    },
    {
     "name": "stdout",
     "output_type": "stream",
     "text": [
      "num2 more : tmp_data_arr : (100, 9858) || vec_arr : (92200, 9858)\n",
      "num2 : (100, 9858) || dim : 2\n"
     ]
    },
    {
     "name": "stderr",
     "output_type": "stream",
     "text": [
      " 92%|█████████▏| 923/1000 [19:51<07:36,  5.92s/it]"
     ]
    },
    {
     "name": "stdout",
     "output_type": "stream",
     "text": [
      "num2 more : tmp_data_arr : (100, 9858) || vec_arr : (92300, 9858)\n",
      "num2 : (100, 9858) || dim : 2\n"
     ]
    },
    {
     "name": "stderr",
     "output_type": "stream",
     "text": [
      " 92%|█████████▏| 924/1000 [19:56<07:20,  5.80s/it]"
     ]
    },
    {
     "name": "stdout",
     "output_type": "stream",
     "text": [
      "num2 more : tmp_data_arr : (100, 9858) || vec_arr : (92400, 9858)\n",
      "num2 : (100, 9858) || dim : 2\n"
     ]
    },
    {
     "name": "stderr",
     "output_type": "stream",
     "text": [
      " 92%|█████████▎| 925/1000 [20:02<07:07,  5.70s/it]"
     ]
    },
    {
     "name": "stdout",
     "output_type": "stream",
     "text": [
      "num2 more : tmp_data_arr : (100, 9858) || vec_arr : (92500, 9858)\n",
      "num2 : (100, 9858) || dim : 2\n"
     ]
    },
    {
     "name": "stderr",
     "output_type": "stream",
     "text": [
      " 93%|█████████▎| 926/1000 [20:10<07:58,  6.47s/it]"
     ]
    },
    {
     "name": "stdout",
     "output_type": "stream",
     "text": [
      "num2 more : tmp_data_arr : (100, 9858) || vec_arr : (92600, 9858)\n",
      "num2 : (100, 9858) || dim : 2\n"
     ]
    },
    {
     "name": "stderr",
     "output_type": "stream",
     "text": [
      " 93%|█████████▎| 927/1000 [20:16<07:31,  6.19s/it]"
     ]
    },
    {
     "name": "stdout",
     "output_type": "stream",
     "text": [
      "num2 more : tmp_data_arr : (100, 9858) || vec_arr : (92700, 9858)\n",
      "num2 : (100, 9858) || dim : 2\n"
     ]
    },
    {
     "name": "stderr",
     "output_type": "stream",
     "text": [
      " 93%|█████████▎| 928/1000 [20:20<06:52,  5.72s/it]"
     ]
    },
    {
     "name": "stdout",
     "output_type": "stream",
     "text": [
      "num2 more : tmp_data_arr : (100, 9858) || vec_arr : (92800, 9858)\n",
      "num2 : (100, 9858) || dim : 2\n"
     ]
    },
    {
     "name": "stderr",
     "output_type": "stream",
     "text": [
      " 93%|█████████▎| 929/1000 [20:26<06:36,  5.59s/it]"
     ]
    },
    {
     "name": "stdout",
     "output_type": "stream",
     "text": [
      "num2 more : tmp_data_arr : (100, 9858) || vec_arr : (92900, 9858)\n",
      "num2 : (100, 9858) || dim : 2\n"
     ]
    },
    {
     "name": "stderr",
     "output_type": "stream",
     "text": [
      " 93%|█████████▎| 930/1000 [20:31<06:31,  5.59s/it]"
     ]
    },
    {
     "name": "stdout",
     "output_type": "stream",
     "text": [
      "num2 more : tmp_data_arr : (100, 9858) || vec_arr : (93000, 9858)\n",
      "num2 : (100, 9858) || dim : 2\n"
     ]
    },
    {
     "name": "stderr",
     "output_type": "stream",
     "text": [
      " 93%|█████████▎| 931/1000 [20:36<06:13,  5.42s/it]"
     ]
    },
    {
     "name": "stdout",
     "output_type": "stream",
     "text": [
      "num2 more : tmp_data_arr : (100, 9858) || vec_arr : (93100, 9858)\n",
      "num2 : (100, 9858) || dim : 2\n"
     ]
    },
    {
     "name": "stderr",
     "output_type": "stream",
     "text": [
      " 93%|█████████▎| 932/1000 [20:41<05:47,  5.11s/it]"
     ]
    },
    {
     "name": "stdout",
     "output_type": "stream",
     "text": [
      "num2 more : tmp_data_arr : (100, 9858) || vec_arr : (93200, 9858)\n",
      "num2 : (100, 9858) || dim : 2\n"
     ]
    },
    {
     "name": "stderr",
     "output_type": "stream",
     "text": [
      " 93%|█████████▎| 933/1000 [20:46<05:42,  5.12s/it]"
     ]
    },
    {
     "name": "stdout",
     "output_type": "stream",
     "text": [
      "num2 more : tmp_data_arr : (100, 9858) || vec_arr : (93300, 9858)\n",
      "num2 : (100, 9858) || dim : 2\n"
     ]
    },
    {
     "name": "stderr",
     "output_type": "stream",
     "text": [
      " 93%|█████████▎| 934/1000 [20:51<05:32,  5.04s/it]"
     ]
    },
    {
     "name": "stdout",
     "output_type": "stream",
     "text": [
      "num2 more : tmp_data_arr : (100, 9858) || vec_arr : (93400, 9858)\n",
      "num2 : (100, 9858) || dim : 2\n"
     ]
    },
    {
     "name": "stderr",
     "output_type": "stream",
     "text": [
      " 94%|█████████▎| 935/1000 [20:56<05:25,  5.01s/it]"
     ]
    },
    {
     "name": "stdout",
     "output_type": "stream",
     "text": [
      "num2 more : tmp_data_arr : (100, 9858) || vec_arr : (93500, 9858)\n",
      "num2 : (100, 9858) || dim : 2\n"
     ]
    },
    {
     "name": "stderr",
     "output_type": "stream",
     "text": [
      " 94%|█████████▎| 936/1000 [21:01<05:28,  5.13s/it]"
     ]
    },
    {
     "name": "stdout",
     "output_type": "stream",
     "text": [
      "num2 more : tmp_data_arr : (100, 9858) || vec_arr : (93600, 9858)\n",
      "num2 : (100, 9858) || dim : 2\n"
     ]
    },
    {
     "name": "stderr",
     "output_type": "stream",
     "text": [
      " 94%|█████████▎| 937/1000 [21:07<05:42,  5.44s/it]"
     ]
    },
    {
     "name": "stdout",
     "output_type": "stream",
     "text": [
      "num2 more : tmp_data_arr : (100, 9858) || vec_arr : (93700, 9858)\n",
      "num2 : (100, 9858) || dim : 2\n"
     ]
    },
    {
     "name": "stderr",
     "output_type": "stream",
     "text": [
      " 94%|█████████▍| 938/1000 [21:15<06:12,  6.01s/it]"
     ]
    },
    {
     "name": "stdout",
     "output_type": "stream",
     "text": [
      "num2 more : tmp_data_arr : (100, 9858) || vec_arr : (93800, 9858)\n",
      "num2 : (100, 9858) || dim : 2\n"
     ]
    },
    {
     "name": "stderr",
     "output_type": "stream",
     "text": [
      " 94%|█████████▍| 939/1000 [21:22<06:41,  6.58s/it]"
     ]
    },
    {
     "name": "stdout",
     "output_type": "stream",
     "text": [
      "num2 more : tmp_data_arr : (100, 9858) || vec_arr : (93900, 9858)\n",
      "num2 : (100, 9858) || dim : 2\n"
     ]
    },
    {
     "name": "stderr",
     "output_type": "stream",
     "text": [
      " 94%|█████████▍| 940/1000 [21:29<06:41,  6.69s/it]"
     ]
    },
    {
     "name": "stdout",
     "output_type": "stream",
     "text": [
      "num2 more : tmp_data_arr : (100, 9858) || vec_arr : (94000, 9858)\n",
      "num2 : (100, 9858) || dim : 2\n"
     ]
    },
    {
     "name": "stderr",
     "output_type": "stream",
     "text": [
      " 94%|█████████▍| 941/1000 [21:37<06:43,  6.84s/it]"
     ]
    },
    {
     "name": "stdout",
     "output_type": "stream",
     "text": [
      "num2 more : tmp_data_arr : (100, 9858) || vec_arr : (94100, 9858)\n",
      "num2 : (100, 9858) || dim : 2\n"
     ]
    },
    {
     "name": "stderr",
     "output_type": "stream",
     "text": [
      " 94%|█████████▍| 942/1000 [21:42<06:08,  6.35s/it]"
     ]
    },
    {
     "name": "stdout",
     "output_type": "stream",
     "text": [
      "num2 more : tmp_data_arr : (100, 9858) || vec_arr : (94200, 9858)\n",
      "num2 : (100, 9858) || dim : 2\n"
     ]
    },
    {
     "name": "stderr",
     "output_type": "stream",
     "text": [
      " 94%|█████████▍| 943/1000 [21:47<05:47,  6.09s/it]"
     ]
    },
    {
     "name": "stdout",
     "output_type": "stream",
     "text": [
      "num2 more : tmp_data_arr : (100, 9858) || vec_arr : (94300, 9858)\n",
      "num2 : (100, 9858) || dim : 2\n"
     ]
    },
    {
     "name": "stderr",
     "output_type": "stream",
     "text": [
      " 94%|█████████▍| 944/1000 [21:53<05:26,  5.84s/it]"
     ]
    },
    {
     "name": "stdout",
     "output_type": "stream",
     "text": [
      "num2 more : tmp_data_arr : (100, 9858) || vec_arr : (94400, 9858)\n",
      "num2 : (100, 9858) || dim : 2\n"
     ]
    },
    {
     "name": "stderr",
     "output_type": "stream",
     "text": [
      " 94%|█████████▍| 945/1000 [22:00<05:48,  6.34s/it]"
     ]
    },
    {
     "name": "stdout",
     "output_type": "stream",
     "text": [
      "num2 more : tmp_data_arr : (100, 9858) || vec_arr : (94500, 9858)\n",
      "num2 : (100, 9858) || dim : 2\n"
     ]
    },
    {
     "name": "stderr",
     "output_type": "stream",
     "text": [
      " 95%|█████████▍| 946/1000 [22:09<06:18,  7.02s/it]"
     ]
    },
    {
     "name": "stdout",
     "output_type": "stream",
     "text": [
      "num2 more : tmp_data_arr : (100, 9858) || vec_arr : (94600, 9858)\n",
      "num2 : (100, 9858) || dim : 2\n"
     ]
    },
    {
     "name": "stderr",
     "output_type": "stream",
     "text": [
      " 95%|█████████▍| 947/1000 [22:14<05:49,  6.60s/it]"
     ]
    },
    {
     "name": "stdout",
     "output_type": "stream",
     "text": [
      "num2 more : tmp_data_arr : (100, 9858) || vec_arr : (94700, 9858)\n",
      "num2 : (100, 9858) || dim : 2\n"
     ]
    },
    {
     "name": "stderr",
     "output_type": "stream",
     "text": [
      " 95%|█████████▍| 948/1000 [22:21<05:48,  6.71s/it]"
     ]
    },
    {
     "name": "stdout",
     "output_type": "stream",
     "text": [
      "num2 more : tmp_data_arr : (100, 9858) || vec_arr : (94800, 9858)\n",
      "num2 : (100, 9858) || dim : 2\n"
     ]
    },
    {
     "name": "stderr",
     "output_type": "stream",
     "text": [
      " 95%|█████████▍| 949/1000 [22:27<05:29,  6.46s/it]"
     ]
    },
    {
     "name": "stdout",
     "output_type": "stream",
     "text": [
      "num2 more : tmp_data_arr : (100, 9858) || vec_arr : (94900, 9858)\n",
      "num2 : (100, 9858) || dim : 2\n"
     ]
    },
    {
     "name": "stderr",
     "output_type": "stream",
     "text": [
      " 95%|█████████▌| 950/1000 [22:33<05:11,  6.22s/it]"
     ]
    },
    {
     "name": "stdout",
     "output_type": "stream",
     "text": [
      "num2 more : tmp_data_arr : (100, 9858) || vec_arr : (95000, 9858)\n",
      "num2 : (100, 9858) || dim : 2\n"
     ]
    },
    {
     "name": "stderr",
     "output_type": "stream",
     "text": [
      " 95%|█████████▌| 951/1000 [22:39<05:03,  6.19s/it]"
     ]
    },
    {
     "name": "stdout",
     "output_type": "stream",
     "text": [
      "num2 more : tmp_data_arr : (100, 9858) || vec_arr : (95100, 9858)\n",
      "num2 : (100, 9858) || dim : 2\n"
     ]
    },
    {
     "name": "stderr",
     "output_type": "stream",
     "text": [
      " 95%|█████████▌| 952/1000 [22:46<05:12,  6.52s/it]"
     ]
    },
    {
     "name": "stdout",
     "output_type": "stream",
     "text": [
      "num2 more : tmp_data_arr : (100, 9858) || vec_arr : (95200, 9858)\n",
      "num2 : (100, 9858) || dim : 2\n"
     ]
    },
    {
     "name": "stderr",
     "output_type": "stream",
     "text": [
      " 95%|█████████▌| 953/1000 [22:55<05:35,  7.13s/it]"
     ]
    },
    {
     "name": "stdout",
     "output_type": "stream",
     "text": [
      "num2 more : tmp_data_arr : (100, 9858) || vec_arr : (95300, 9858)\n",
      "num2 : (100, 9858) || dim : 2\n"
     ]
    },
    {
     "name": "stderr",
     "output_type": "stream",
     "text": [
      " 95%|█████████▌| 954/1000 [23:01<05:19,  6.94s/it]"
     ]
    },
    {
     "name": "stdout",
     "output_type": "stream",
     "text": [
      "num2 more : tmp_data_arr : (100, 9858) || vec_arr : (95400, 9858)\n",
      "num2 : (100, 9858) || dim : 2\n"
     ]
    },
    {
     "name": "stderr",
     "output_type": "stream",
     "text": [
      " 96%|█████████▌| 955/1000 [23:10<05:35,  7.45s/it]"
     ]
    },
    {
     "name": "stdout",
     "output_type": "stream",
     "text": [
      "num2 more : tmp_data_arr : (100, 9858) || vec_arr : (95500, 9858)\n",
      "num2 : (100, 9858) || dim : 2\n"
     ]
    },
    {
     "name": "stderr",
     "output_type": "stream",
     "text": [
      " 96%|█████████▌| 956/1000 [23:17<05:17,  7.22s/it]"
     ]
    },
    {
     "name": "stdout",
     "output_type": "stream",
     "text": [
      "num2 more : tmp_data_arr : (100, 9858) || vec_arr : (95600, 9858)\n",
      "num2 : (100, 9858) || dim : 2\n"
     ]
    },
    {
     "name": "stderr",
     "output_type": "stream",
     "text": [
      " 96%|█████████▌| 957/1000 [23:23<05:00,  6.99s/it]"
     ]
    },
    {
     "name": "stdout",
     "output_type": "stream",
     "text": [
      "num2 more : tmp_data_arr : (100, 9858) || vec_arr : (95700, 9858)\n",
      "num2 : (100, 9858) || dim : 2\n"
     ]
    },
    {
     "name": "stderr",
     "output_type": "stream",
     "text": [
      " 96%|█████████▌| 958/1000 [23:32<05:13,  7.48s/it]"
     ]
    },
    {
     "name": "stdout",
     "output_type": "stream",
     "text": [
      "num2 more : tmp_data_arr : (100, 9858) || vec_arr : (95800, 9858)\n",
      "num2 : (100, 9858) || dim : 2\n"
     ]
    },
    {
     "name": "stderr",
     "output_type": "stream",
     "text": [
      " 96%|█████████▌| 959/1000 [23:39<05:08,  7.53s/it]"
     ]
    },
    {
     "name": "stdout",
     "output_type": "stream",
     "text": [
      "num2 more : tmp_data_arr : (100, 9858) || vec_arr : (95900, 9858)\n",
      "num2 : (100, 9858) || dim : 2\n"
     ]
    },
    {
     "name": "stderr",
     "output_type": "stream",
     "text": [
      " 96%|█████████▌| 960/1000 [23:45<04:40,  7.01s/it]"
     ]
    },
    {
     "name": "stdout",
     "output_type": "stream",
     "text": [
      "num2 more : tmp_data_arr : (100, 9858) || vec_arr : (96000, 9858)\n",
      "num2 : (100, 9858) || dim : 2\n"
     ]
    },
    {
     "name": "stderr",
     "output_type": "stream",
     "text": [
      " 96%|█████████▌| 961/1000 [23:51<04:25,  6.81s/it]"
     ]
    },
    {
     "name": "stdout",
     "output_type": "stream",
     "text": [
      "num2 more : tmp_data_arr : (100, 9858) || vec_arr : (96100, 9858)\n",
      "num2 : (100, 9858) || dim : 2\n"
     ]
    },
    {
     "name": "stderr",
     "output_type": "stream",
     "text": [
      " 96%|█████████▌| 962/1000 [24:00<04:37,  7.29s/it]"
     ]
    },
    {
     "name": "stdout",
     "output_type": "stream",
     "text": [
      "num2 more : tmp_data_arr : (100, 9858) || vec_arr : (96200, 9858)\n",
      "num2 : (100, 9858) || dim : 2\n"
     ]
    },
    {
     "name": "stderr",
     "output_type": "stream",
     "text": [
      " 96%|█████████▋| 963/1000 [24:06<04:14,  6.87s/it]"
     ]
    },
    {
     "name": "stdout",
     "output_type": "stream",
     "text": [
      "num2 more : tmp_data_arr : (100, 9858) || vec_arr : (96300, 9858)\n",
      "num2 : (100, 9858) || dim : 2\n"
     ]
    },
    {
     "name": "stderr",
     "output_type": "stream",
     "text": [
      " 96%|█████████▋| 964/1000 [24:14<04:17,  7.16s/it]"
     ]
    },
    {
     "name": "stdout",
     "output_type": "stream",
     "text": [
      "num2 more : tmp_data_arr : (100, 9858) || vec_arr : (96400, 9858)\n",
      "num2 : (100, 9858) || dim : 2\n"
     ]
    },
    {
     "name": "stderr",
     "output_type": "stream",
     "text": [
      " 96%|█████████▋| 965/1000 [24:21<04:09,  7.14s/it]"
     ]
    },
    {
     "name": "stdout",
     "output_type": "stream",
     "text": [
      "num2 more : tmp_data_arr : (100, 9858) || vec_arr : (96500, 9858)\n",
      "num2 : (100, 9858) || dim : 2\n"
     ]
    },
    {
     "name": "stderr",
     "output_type": "stream",
     "text": [
      " 97%|█████████▋| 966/1000 [24:27<03:59,  7.04s/it]"
     ]
    },
    {
     "name": "stdout",
     "output_type": "stream",
     "text": [
      "num2 more : tmp_data_arr : (100, 9858) || vec_arr : (96600, 9858)\n",
      "num2 : (100, 9858) || dim : 2\n"
     ]
    },
    {
     "name": "stderr",
     "output_type": "stream",
     "text": [
      " 97%|█████████▋| 967/1000 [24:34<03:43,  6.77s/it]"
     ]
    },
    {
     "name": "stdout",
     "output_type": "stream",
     "text": [
      "num2 more : tmp_data_arr : (100, 9858) || vec_arr : (96700, 9858)\n",
      "num2 : (100, 9858) || dim : 2\n"
     ]
    },
    {
     "name": "stderr",
     "output_type": "stream",
     "text": [
      " 97%|█████████▋| 968/1000 [24:43<03:57,  7.43s/it]"
     ]
    },
    {
     "name": "stdout",
     "output_type": "stream",
     "text": [
      "num2 more : tmp_data_arr : (100, 9858) || vec_arr : (96800, 9858)\n",
      "num2 : (100, 9858) || dim : 2\n"
     ]
    },
    {
     "name": "stderr",
     "output_type": "stream",
     "text": [
      " 97%|█████████▋| 969/1000 [24:50<03:49,  7.41s/it]"
     ]
    },
    {
     "name": "stdout",
     "output_type": "stream",
     "text": [
      "num2 more : tmp_data_arr : (100, 9858) || vec_arr : (96900, 9858)\n",
      "num2 : (100, 9858) || dim : 2\n"
     ]
    },
    {
     "name": "stderr",
     "output_type": "stream",
     "text": [
      " 97%|█████████▋| 970/1000 [24:58<03:45,  7.50s/it]"
     ]
    },
    {
     "name": "stdout",
     "output_type": "stream",
     "text": [
      "num2 more : tmp_data_arr : (100, 9858) || vec_arr : (97000, 9858)\n",
      "num2 : (100, 9858) || dim : 2\n"
     ]
    },
    {
     "name": "stderr",
     "output_type": "stream",
     "text": [
      " 97%|█████████▋| 971/1000 [25:04<03:25,  7.08s/it]"
     ]
    },
    {
     "name": "stdout",
     "output_type": "stream",
     "text": [
      "num2 more : tmp_data_arr : (100, 9858) || vec_arr : (97100, 9858)\n",
      "num2 : (100, 9858) || dim : 2\n"
     ]
    },
    {
     "name": "stderr",
     "output_type": "stream",
     "text": [
      " 97%|█████████▋| 972/1000 [25:11<03:19,  7.12s/it]"
     ]
    },
    {
     "name": "stdout",
     "output_type": "stream",
     "text": [
      "num2 more : tmp_data_arr : (100, 9858) || vec_arr : (97200, 9858)\n",
      "num2 : (100, 9858) || dim : 2\n"
     ]
    },
    {
     "name": "stderr",
     "output_type": "stream",
     "text": [
      " 97%|█████████▋| 973/1000 [25:21<03:33,  7.92s/it]"
     ]
    },
    {
     "name": "stdout",
     "output_type": "stream",
     "text": [
      "num2 more : tmp_data_arr : (100, 9858) || vec_arr : (97300, 9858)\n",
      "num2 : (100, 9858) || dim : 2\n"
     ]
    },
    {
     "name": "stderr",
     "output_type": "stream",
     "text": [
      " 97%|█████████▋| 974/1000 [25:30<03:35,  8.29s/it]"
     ]
    },
    {
     "name": "stdout",
     "output_type": "stream",
     "text": [
      "num2 more : tmp_data_arr : (100, 9858) || vec_arr : (97400, 9858)\n",
      "num2 : (100, 9858) || dim : 2\n"
     ]
    },
    {
     "name": "stderr",
     "output_type": "stream",
     "text": [
      " 98%|█████████▊| 975/1000 [25:36<03:14,  7.76s/it]"
     ]
    },
    {
     "name": "stdout",
     "output_type": "stream",
     "text": [
      "num2 more : tmp_data_arr : (100, 9858) || vec_arr : (97500, 9858)\n",
      "num2 : (100, 9858) || dim : 2\n"
     ]
    },
    {
     "name": "stderr",
     "output_type": "stream",
     "text": [
      " 98%|█████████▊| 976/1000 [25:42<02:52,  7.17s/it]"
     ]
    },
    {
     "name": "stdout",
     "output_type": "stream",
     "text": [
      "num2 more : tmp_data_arr : (100, 9858) || vec_arr : (97600, 9858)\n",
      "num2 : (100, 9858) || dim : 2\n"
     ]
    },
    {
     "name": "stderr",
     "output_type": "stream",
     "text": [
      " 98%|█████████▊| 977/1000 [25:49<02:42,  7.06s/it]"
     ]
    },
    {
     "name": "stdout",
     "output_type": "stream",
     "text": [
      "num2 more : tmp_data_arr : (100, 9858) || vec_arr : (97700, 9858)\n",
      "num2 : (100, 9858) || dim : 2\n"
     ]
    },
    {
     "name": "stderr",
     "output_type": "stream",
     "text": [
      " 98%|█████████▊| 978/1000 [25:57<02:43,  7.44s/it]"
     ]
    },
    {
     "name": "stdout",
     "output_type": "stream",
     "text": [
      "num2 more : tmp_data_arr : (100, 9858) || vec_arr : (97800, 9858)\n",
      "num2 : (100, 9858) || dim : 2\n"
     ]
    },
    {
     "name": "stderr",
     "output_type": "stream",
     "text": [
      " 98%|█████████▊| 979/1000 [26:07<02:50,  8.11s/it]"
     ]
    },
    {
     "name": "stdout",
     "output_type": "stream",
     "text": [
      "num2 more : tmp_data_arr : (100, 9858) || vec_arr : (97900, 9858)\n",
      "num2 : (100, 9858) || dim : 2\n"
     ]
    },
    {
     "name": "stderr",
     "output_type": "stream",
     "text": [
      " 98%|█████████▊| 980/1000 [26:17<02:55,  8.78s/it]"
     ]
    },
    {
     "name": "stdout",
     "output_type": "stream",
     "text": [
      "num2 more : tmp_data_arr : (100, 9858) || vec_arr : (98000, 9858)\n",
      "num2 : (100, 9858) || dim : 2\n"
     ]
    },
    {
     "name": "stderr",
     "output_type": "stream",
     "text": [
      " 98%|█████████▊| 981/1000 [26:24<02:36,  8.25s/it]"
     ]
    },
    {
     "name": "stdout",
     "output_type": "stream",
     "text": [
      "num2 more : tmp_data_arr : (100, 9858) || vec_arr : (98100, 9858)\n",
      "num2 : (100, 9858) || dim : 2\n"
     ]
    },
    {
     "name": "stderr",
     "output_type": "stream",
     "text": [
      " 98%|█████████▊| 982/1000 [26:33<02:31,  8.42s/it]"
     ]
    },
    {
     "name": "stdout",
     "output_type": "stream",
     "text": [
      "num2 more : tmp_data_arr : (100, 9858) || vec_arr : (98200, 9858)\n",
      "num2 : (100, 9858) || dim : 2\n"
     ]
    },
    {
     "name": "stderr",
     "output_type": "stream",
     "text": [
      " 98%|█████████▊| 983/1000 [26:41<02:21,  8.33s/it]"
     ]
    },
    {
     "name": "stdout",
     "output_type": "stream",
     "text": [
      "num2 more : tmp_data_arr : (100, 9858) || vec_arr : (98300, 9858)\n",
      "num2 : (100, 9858) || dim : 2\n"
     ]
    },
    {
     "name": "stderr",
     "output_type": "stream",
     "text": [
      " 98%|█████████▊| 984/1000 [26:50<02:15,  8.48s/it]"
     ]
    },
    {
     "name": "stdout",
     "output_type": "stream",
     "text": [
      "num2 more : tmp_data_arr : (100, 9858) || vec_arr : (98400, 9858)\n",
      "num2 : (100, 9858) || dim : 2\n"
     ]
    },
    {
     "name": "stderr",
     "output_type": "stream",
     "text": [
      " 98%|█████████▊| 985/1000 [27:01<02:17,  9.14s/it]"
     ]
    },
    {
     "name": "stdout",
     "output_type": "stream",
     "text": [
      "num2 more : tmp_data_arr : (100, 9858) || vec_arr : (98500, 9858)\n",
      "num2 : (100, 9858) || dim : 2\n"
     ]
    },
    {
     "name": "stderr",
     "output_type": "stream",
     "text": [
      " 99%|█████████▊| 986/1000 [27:09<02:02,  8.77s/it]"
     ]
    },
    {
     "name": "stdout",
     "output_type": "stream",
     "text": [
      "num2 more : tmp_data_arr : (100, 9858) || vec_arr : (98600, 9858)\n",
      "num2 : (100, 9858) || dim : 2\n"
     ]
    },
    {
     "name": "stderr",
     "output_type": "stream",
     "text": [
      " 99%|█████████▊| 987/1000 [27:18<01:56,  8.95s/it]"
     ]
    },
    {
     "name": "stdout",
     "output_type": "stream",
     "text": [
      "num2 more : tmp_data_arr : (100, 9858) || vec_arr : (98700, 9858)\n",
      "num2 : (100, 9858) || dim : 2\n"
     ]
    },
    {
     "name": "stderr",
     "output_type": "stream",
     "text": [
      " 99%|█████████▉| 988/1000 [27:29<01:53,  9.44s/it]"
     ]
    },
    {
     "name": "stdout",
     "output_type": "stream",
     "text": [
      "num2 more : tmp_data_arr : (100, 9858) || vec_arr : (98800, 9858)\n",
      "num2 : (100, 9858) || dim : 2\n"
     ]
    },
    {
     "name": "stderr",
     "output_type": "stream",
     "text": [
      " 99%|█████████▉| 989/1000 [27:38<01:43,  9.44s/it]"
     ]
    },
    {
     "name": "stdout",
     "output_type": "stream",
     "text": [
      "num2 more : tmp_data_arr : (100, 9858) || vec_arr : (98900, 9858)\n",
      "num2 : (100, 9858) || dim : 2\n"
     ]
    },
    {
     "name": "stderr",
     "output_type": "stream",
     "text": [
      " 99%|█████████▉| 990/1000 [27:46<01:30,  9.09s/it]"
     ]
    },
    {
     "name": "stdout",
     "output_type": "stream",
     "text": [
      "num2 more : tmp_data_arr : (100, 9858) || vec_arr : (99000, 9858)\n",
      "num2 : (100, 9858) || dim : 2\n"
     ]
    },
    {
     "name": "stderr",
     "output_type": "stream",
     "text": [
      " 99%|█████████▉| 991/1000 [27:54<01:19,  8.79s/it]"
     ]
    },
    {
     "name": "stdout",
     "output_type": "stream",
     "text": [
      "num2 more : tmp_data_arr : (100, 9858) || vec_arr : (99100, 9858)\n",
      "num2 : (100, 9858) || dim : 2\n"
     ]
    },
    {
     "name": "stderr",
     "output_type": "stream",
     "text": [
      " 99%|█████████▉| 992/1000 [28:05<01:13,  9.24s/it]"
     ]
    },
    {
     "name": "stdout",
     "output_type": "stream",
     "text": [
      "num2 more : tmp_data_arr : (100, 9858) || vec_arr : (99200, 9858)\n",
      "num2 : (100, 9858) || dim : 2\n"
     ]
    },
    {
     "name": "stderr",
     "output_type": "stream",
     "text": [
      " 99%|█████████▉| 993/1000 [28:14<01:05,  9.30s/it]"
     ]
    },
    {
     "name": "stdout",
     "output_type": "stream",
     "text": [
      "num2 more : tmp_data_arr : (100, 9858) || vec_arr : (99300, 9858)\n",
      "num2 : (100, 9858) || dim : 2\n"
     ]
    },
    {
     "name": "stderr",
     "output_type": "stream",
     "text": [
      " 99%|█████████▉| 994/1000 [28:26<00:59,  9.94s/it]"
     ]
    },
    {
     "name": "stdout",
     "output_type": "stream",
     "text": [
      "num2 more : tmp_data_arr : (100, 9858) || vec_arr : (99400, 9858)\n",
      "num2 : (100, 9858) || dim : 2\n"
     ]
    },
    {
     "name": "stderr",
     "output_type": "stream",
     "text": [
      "100%|█████████▉| 995/1000 [28:38<00:53, 10.74s/it]"
     ]
    },
    {
     "name": "stdout",
     "output_type": "stream",
     "text": [
      "num2 more : tmp_data_arr : (100, 9858) || vec_arr : (99500, 9858)\n",
      "num2 : (100, 9858) || dim : 2\n"
     ]
    },
    {
     "name": "stderr",
     "output_type": "stream",
     "text": [
      "100%|█████████▉| 996/1000 [28:48<00:42, 10.58s/it]"
     ]
    },
    {
     "name": "stdout",
     "output_type": "stream",
     "text": [
      "num2 more : tmp_data_arr : (100, 9858) || vec_arr : (99600, 9858)\n",
      "num2 : (100, 9858) || dim : 2\n"
     ]
    },
    {
     "name": "stderr",
     "output_type": "stream",
     "text": [
      "100%|█████████▉| 997/1000 [28:57<00:30, 10.07s/it]"
     ]
    },
    {
     "name": "stdout",
     "output_type": "stream",
     "text": [
      "num2 more : tmp_data_arr : (100, 9858) || vec_arr : (99700, 9858)\n",
      "num2 : (100, 9858) || dim : 2\n"
     ]
    },
    {
     "name": "stderr",
     "output_type": "stream",
     "text": [
      "100%|█████████▉| 998/1000 [29:06<00:19,  9.75s/it]"
     ]
    },
    {
     "name": "stdout",
     "output_type": "stream",
     "text": [
      "num2 more : tmp_data_arr : (100, 9858) || vec_arr : (99800, 9858)\n",
      "num2 : (100, 9858) || dim : 2\n"
     ]
    },
    {
     "name": "stderr",
     "output_type": "stream",
     "text": [
      "100%|█████████▉| 999/1000 [29:15<00:09,  9.49s/it]"
     ]
    },
    {
     "name": "stdout",
     "output_type": "stream",
     "text": [
      "num2 more : tmp_data_arr : (100, 9858) || vec_arr : (99900, 9858)\n",
      "num2 : (100, 9858) || dim : 2\n"
     ]
    },
    {
     "name": "stderr",
     "output_type": "stream",
     "text": [
      "100%|██████████| 1000/1000 [29:23<00:00,  1.76s/it]"
     ]
    },
    {
     "name": "stdout",
     "output_type": "stream",
     "text": [
      "num2 more : tmp_data_arr : (100, 9858) || vec_arr : (100000, 9858)\n"
     ]
    },
    {
     "name": "stderr",
     "output_type": "stream",
     "text": [
      "\n"
     ]
    }
   ],
   "source": [
    "x_train = tfv_cls.transVect_run(chunk_size=100, data=X_train)"
   ]
  },
  {
   "cell_type": "code",
   "execution_count": 131,
   "metadata": {},
   "outputs": [
    {
     "name": "stderr",
     "output_type": "stream",
     "text": [
      "  0%|          | 0/500 [00:00<?, ?it/s]C:\\Users\\user\\AppData\\Local\\Temp\\ipykernel_11208\\1455662524.py:11: FutureWarning: The behavior of `series[i:j]` with an integer-dtype index is deprecated. In a future version, this will be treated as *label-based* indexing, consistent with e.g. `series[i]` lookups. To retain the old behavior, use `series.iloc[i:j]`. To get the future behavior, use `series.loc[i:j]`.\n",
      "  tmp_data = data[st_idx:st_idx+chunk_size]\n",
      "100%|██████████| 500/500 [04:14<00:00,  1.96it/s]\n"
     ]
    }
   ],
   "source": [
    "x_test = tfv_cls.transVect_run(chunk_size=100, data=X_test)"
   ]
  },
  {
   "cell_type": "code",
   "execution_count": 32,
   "metadata": {},
   "outputs": [],
   "source": [
    "# x_train = tfidf_vect.transform(X_train).toarray()\n",
    "# x_test = tfidf_vect.transform(X_test).toarray()"
   ]
  },
  {
   "cell_type": "code",
   "execution_count": 132,
   "metadata": {},
   "outputs": [
    {
     "data": {
      "text/plain": [
       "((100000, 9858), (49995, 9858))"
      ]
     },
     "execution_count": 132,
     "metadata": {},
     "output_type": "execute_result"
    }
   ],
   "source": [
    "x_train.shape , x_test.shape"
   ]
  },
  {
   "cell_type": "markdown",
   "metadata": {},
   "source": [
    "분류 모델 적용하기"
   ]
  },
  {
   "cell_type": "code",
   "execution_count": 133,
   "metadata": {},
   "outputs": [],
   "source": [
    "# 고정된 모델 결과\n",
    "random_seed_num = 42"
   ]
  },
  {
   "cell_type": "code",
   "execution_count": 134,
   "metadata": {},
   "outputs": [],
   "source": [
    "# 의사결정나무 \n",
    "clf_decision = DecisionTreeClassifier(random_state=random_seed_num, max_depth=5)\n",
    "clf_decision.fit(x_train, y_train)\n",
    "\n",
    "y_train_pred = clf_decision.predict(x_train)\n",
    "# y_test_pred = clf_decision.predict(x_test)"
   ]
  },
  {
   "cell_type": "code",
   "execution_count": 135,
   "metadata": {},
   "outputs": [
    {
     "name": "stdout",
     "output_type": "stream",
     "text": [
      "              precision    recall  f1-score   support\n",
      "\n",
      "           0       0.54      0.95      0.69     50115\n",
      "           1       0.80      0.19      0.31     49885\n",
      "\n",
      "    accuracy                           0.57    100000\n",
      "   macro avg       0.67      0.57      0.50    100000\n",
      "weighted avg       0.67      0.57      0.50    100000\n",
      "\n"
     ]
    }
   ],
   "source": [
    "print(classification_report(y_train, y_train_pred))\n",
    "# print(classification_report(y_test, y_test_pred))"
   ]
  },
  {
   "cell_type": "code",
   "execution_count": 136,
   "metadata": {},
   "outputs": [],
   "source": [
    "# randomforest \n",
    "\n",
    "rfc_decision = RandomForestClassifier(random_state=random_seed_num, max_depth=5)\n",
    "rfc_decision.fit(x_train, y_train)\n",
    "\n",
    "y_train_pred = rfc_decision.predict(x_train)\n",
    "y_test_pred = rfc_decision.predict(x_test)"
   ]
  },
  {
   "cell_type": "code",
   "execution_count": 137,
   "metadata": {},
   "outputs": [
    {
     "name": "stdout",
     "output_type": "stream",
     "text": [
      "              precision    recall  f1-score   support\n",
      "\n",
      "           0       0.68      0.85      0.76     50115\n",
      "           1       0.80      0.60      0.69     49885\n",
      "\n",
      "    accuracy                           0.73    100000\n",
      "   macro avg       0.74      0.73      0.72    100000\n",
      "weighted avg       0.74      0.73      0.72    100000\n",
      "\n",
      "              precision    recall  f1-score   support\n",
      "\n",
      "           0       0.68      0.84      0.75     25055\n",
      "           1       0.79      0.60      0.68     24940\n",
      "\n",
      "    accuracy                           0.72     49995\n",
      "   macro avg       0.73      0.72      0.71     49995\n",
      "weighted avg       0.73      0.72      0.71     49995\n",
      "\n"
     ]
    }
   ],
   "source": [
    "print(classification_report(y_train, y_train_pred))\n",
    "print(classification_report(y_test, y_test_pred))"
   ]
  },
  {
   "cell_type": "code",
   "execution_count": 138,
   "metadata": {},
   "outputs": [],
   "source": [
    "# kneighbors \n",
    "\n",
    "clf_kneighbors = KNeighborsClassifier(n_neighbors=3 , weights='distance', leaf_size=50)\n",
    "clf_kneighbors.fit(x_train, y_train)\n",
    "\n",
    "y_train_pred = clf_kneighbors.predict(x_train)\n",
    "y_test_pred = clf_kneighbors.predict(x_test)"
   ]
  },
  {
   "cell_type": "code",
   "execution_count": 139,
   "metadata": {},
   "outputs": [
    {
     "name": "stdout",
     "output_type": "stream",
     "text": [
      "              precision    recall  f1-score   support\n",
      "\n",
      "           0       1.00      1.00      1.00     50115\n",
      "           1       1.00      1.00      1.00     49885\n",
      "\n",
      "    accuracy                           1.00    100000\n",
      "   macro avg       1.00      1.00      1.00    100000\n",
      "weighted avg       1.00      1.00      1.00    100000\n",
      "\n",
      "              precision    recall  f1-score   support\n",
      "\n",
      "           0       0.77      0.76      0.76     25055\n",
      "           1       0.76      0.77      0.76     24940\n",
      "\n",
      "    accuracy                           0.76     49995\n",
      "   macro avg       0.76      0.76      0.76     49995\n",
      "weighted avg       0.76      0.76      0.76     49995\n",
      "\n"
     ]
    }
   ],
   "source": [
    "print(classification_report(y_train, y_train_pred))\n",
    "print(classification_report(y_test, y_test_pred))"
   ]
  },
  {
   "cell_type": "code",
   "execution_count": 140,
   "metadata": {},
   "outputs": [],
   "source": [
    "# 로지스틱 \n",
    "\n",
    "clf_logistic = LogisticRegression(max_iter=3000, random_state=random_seed_num)\n",
    "clf_logistic.fit(x_train, y_train)\n",
    "\n",
    "y_train_pred = clf_logistic.predict(x_train)\n",
    "y_test_pred = clf_logistic.predict(x_test)"
   ]
  },
  {
   "cell_type": "code",
   "execution_count": 141,
   "metadata": {},
   "outputs": [
    {
     "name": "stdout",
     "output_type": "stream",
     "text": [
      "              precision    recall  f1-score   support\n",
      "\n",
      "           0       0.87      0.88      0.88     50115\n",
      "           1       0.88      0.87      0.88     49885\n",
      "\n",
      "    accuracy                           0.88    100000\n",
      "   macro avg       0.88      0.88      0.88    100000\n",
      "weighted avg       0.88      0.88      0.88    100000\n",
      "\n",
      "              precision    recall  f1-score   support\n",
      "\n",
      "           0       0.85      0.85      0.85     25055\n",
      "           1       0.85      0.84      0.85     24940\n",
      "\n",
      "    accuracy                           0.85     49995\n",
      "   macro avg       0.85      0.85      0.85     49995\n",
      "weighted avg       0.85      0.85      0.85     49995\n",
      "\n"
     ]
    }
   ],
   "source": [
    "print(classification_report(y_train, y_train_pred))\n",
    "print(classification_report(y_test, y_test_pred))\n",
    "\n",
    "\n"
   ]
  },
  {
   "cell_type": "code",
   "execution_count": 142,
   "metadata": {},
   "outputs": [],
   "source": [
    "# xgb \n",
    "\n",
    "clf_xgb = XGBClassifier(random_state = random_seed_num, max_depth=5)\n",
    "clf_xgb.fit(x_train, y_train)\n",
    "\n",
    "y_train_pred = clf_xgb.predict(x_train)\n",
    "y_test_pred = clf_xgb.predict(x_test)"
   ]
  },
  {
   "cell_type": "code",
   "execution_count": 143,
   "metadata": {},
   "outputs": [
    {
     "name": "stdout",
     "output_type": "stream",
     "text": [
      "              precision    recall  f1-score   support\n",
      "\n",
      "           0       0.73      0.86      0.79     50115\n",
      "           1       0.83      0.68      0.75     49885\n",
      "\n",
      "    accuracy                           0.77    100000\n",
      "   macro avg       0.78      0.77      0.77    100000\n",
      "weighted avg       0.78      0.77      0.77    100000\n",
      "\n",
      "              precision    recall  f1-score   support\n",
      "\n",
      "           0       0.71      0.84      0.77     25055\n",
      "           1       0.80      0.66      0.72     24940\n",
      "\n",
      "    accuracy                           0.75     49995\n",
      "   macro avg       0.76      0.75      0.75     49995\n",
      "weighted avg       0.76      0.75      0.75     49995\n",
      "\n"
     ]
    }
   ],
   "source": [
    "print(classification_report(y_train, y_train_pred))\n",
    "print(classification_report(y_test, y_test_pred))"
   ]
  },
  {
   "cell_type": "code",
   "execution_count": 144,
   "metadata": {},
   "outputs": [],
   "source": [
    "# 앙상블 모델\n",
    "\n",
    "# voting 방식 \n",
    "## soft : 각 모델의 결과가 특정 라벨이라고 하는 확률값을 사용하여 결과 도출\n",
    "## hard : 각 모델의 최종 결과(라벨)에서 다수로 라벨링된 결과를 도출, 0 : 5개 , 1 : 1개 => 0인 라벨 / 보팅 모델의 세부 총수 : 6개 \n",
    "\n",
    "clf_ensemble = VotingClassifier(estimators=[('logistic', clf_logistic), ('kneighbors', clf_kneighbors), ('xgboost', clf_xgb)], voting = 'soft')\n",
    "clf_ensemble.fit(x_train, y_train)\n",
    "\n",
    "y_train_pred = clf_ensemble.predict(x_train)\n",
    "y_test_pred = clf_ensemble.predict(x_test)\n",
    "\n"
   ]
  },
  {
   "cell_type": "code",
   "execution_count": 145,
   "metadata": {},
   "outputs": [
    {
     "name": "stdout",
     "output_type": "stream",
     "text": [
      "              precision    recall  f1-score   support\n",
      "\n",
      "           0       0.99      0.99      0.99     50115\n",
      "           1       0.99      0.99      0.99     49885\n",
      "\n",
      "    accuracy                           0.99    100000\n",
      "   macro avg       0.99      0.99      0.99    100000\n",
      "weighted avg       0.99      0.99      0.99    100000\n",
      "\n",
      "              precision    recall  f1-score   support\n",
      "\n",
      "           0       0.83      0.84      0.83     25055\n",
      "           1       0.84      0.83      0.83     24940\n",
      "\n",
      "    accuracy                           0.83     49995\n",
      "   macro avg       0.83      0.83      0.83     49995\n",
      "weighted avg       0.83      0.83      0.83     49995\n",
      "\n"
     ]
    }
   ],
   "source": [
    "print(classification_report(y_train, y_train_pred))\n",
    "print(classification_report(y_test, y_test_pred))"
   ]
  },
  {
   "cell_type": "markdown",
   "metadata": {},
   "source": [
    "## 메모리 에러가 나는 경우의 대처방법\n",
    "\n",
    "1. 하드웨어 변경 \n",
    "    - 메모리를 up \n",
    "    - 메모리가 넉넉한 서버로 이동하여 분석\n",
    "\n",
    "2. 코드로 제어\n",
    "    - chunk_size : 분석을 분할한다.\n",
    "    - 모델 제어 : word2vec / countVect / tfidfVect < = 통계기반으로 메모리 사용이 많을 수 있음 \n",
    "        => vocab 사이즈를 제어\n",
    "        => 피처 추출 : 전체 토큰화된 텍스트 데이터 => 명사만 분석\n",
    "\n",
    "- 에러가 나는 케이스\n",
    "  - numpy : index 값이 특정값 이상(int64)인 경우 sorting 등에서 에러 발생\n"
   ]
  },
  {
   "cell_type": "code",
   "execution_count": null,
   "metadata": {},
   "outputs": [],
   "source": []
  }
 ],
 "metadata": {
  "kernelspec": {
   "display_name": "base",
   "language": "python",
   "name": "python3"
  },
  "language_info": {
   "codemirror_mode": {
    "name": "ipython",
    "version": 3
   },
   "file_extension": ".py",
   "mimetype": "text/x-python",
   "name": "python",
   "nbconvert_exporter": "python",
   "pygments_lexer": "ipython3",
   "version": "3.9.13"
  },
  "orig_nbformat": 4
 },
 "nbformat": 4,
 "nbformat_minor": 2
}
