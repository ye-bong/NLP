{
 "cells": [
  {
   "cell_type": "markdown",
   "metadata": {},
   "source": [
    "## BPE(Byte Pair Encoding) 토크나이저 만들기\n",
    "\n",
    "* 어휘 집합(vocag.json) 생성 필요  \n",
    "* 병합 우선순위(merge.txt) 생성 필요  \n",
    "* 어휘 집합과 병합 우선순위가 있으면 토큰화를 수행 가능"
   ]
  },
  {
   "cell_type": "code",
   "execution_count": 2,
   "metadata": {},
   "outputs": [],
   "source": [
    "import pandas as pd\n",
    "import os "
   ]
  },
  {
   "cell_type": "code",
   "execution_count": 3,
   "metadata": {},
   "outputs": [],
   "source": [
    "data_dir = \"./tokenizer_data\""
   ]
  },
  {
   "cell_type": "code",
   "execution_count": 4,
   "metadata": {},
   "outputs": [],
   "source": [
    "train_data = pd.read_csv('https://raw.githubusercontent.com/e9t/nsmc/master/ratings_train.txt', sep='\\t', encoding='utf-8')\n",
    "train_data.to_csv('./data/ratings_train.csv', encoding='utf-8', index=False)\n",
    "test_data = pd.read_csv('https://raw.githubusercontent.com/e9t/nsmc/master/ratings_test.txt', sep='\\t', encoding='utf-8')\n",
    "test_data.to_csv('./data/ratings_test.csv', encoding='utf-8', index=False)\n"
   ]
  },
  {
   "cell_type": "code",
   "execution_count": 16,
   "metadata": {},
   "outputs": [],
   "source": [
    "train_file_nm = 'bpe_ratings_train.txt'\n",
    "full_data_dir = os.path.join(data_dir, train_file_nm)\n",
    "text_file = open(full_data_dir, 'w' , encoding='utf-8')\n",
    "\n",
    "corp = set()\n",
    "\n",
    "train_str = '\\n'.join(train_data['document'].astype('str').tolist())\n",
    "text_file.write(train_str)\n",
    "\n",
    "train_list = train_str.split(' ')\n",
    "train_set = set(train_list)\n",
    "corp.update(train_set)\n",
    "text_file.close()"
   ]
  },
  {
   "cell_type": "code",
   "execution_count": 17,
   "metadata": {},
   "outputs": [],
   "source": [
    "test_file_nm = 'bpe_ratings_test.txt'\n",
    "full_data_dir = os.path.join(data_dir, test_file_nm)\n",
    "text_file = open(full_data_dir, 'w' , encoding='utf-8')\n",
    "\n",
    "corp = set()\n",
    "\n",
    "test_str = '\\n'.join(test_data['document'].astype('str').tolist())\n",
    "text_file.write(test_str)\n",
    "\n",
    "test_list = test_str.split(' ')\n",
    "test_set = set(test_list)\n",
    "corp.update(test_set)\n",
    "text_file.close()"
   ]
  },
  {
   "cell_type": "code",
   "execution_count": 18,
   "metadata": {},
   "outputs": [],
   "source": [
    "from tokenizers import CharBPETokenizer"
   ]
  },
  {
   "cell_type": "code",
   "execution_count": 19,
   "metadata": {},
   "outputs": [],
   "source": [
    "vocab_size = 10000\n",
    "\n",
    "train_fnm = os.path.join(data_dir, train_file_nm)\n",
    "test_fnm = os.path.join(data_dir, test_file_nm)\n",
    "\n",
    "tokenizer = CharBPETokenizer()\n",
    "tokenizer.train(\n",
    "    files = [train_fnm, test_fnm] , \n",
    "    vocab_size = vocab_size , \n",
    "    special_tokens = [\"<unk>\"]\n",
    ")\n",
    "\n",
    "tokenizer.save_model(data_dir)\n",
    "tokenizer.save(f\"{data_dir}/bpe_tokenizer.json\")"
   ]
  },
  {
   "cell_type": "markdown",
   "metadata": {},
   "source": [
    "## 훈련한 토크나이저 적용하기"
   ]
  },
  {
   "cell_type": "code",
   "execution_count": 20,
   "metadata": {},
   "outputs": [],
   "source": [
    "from tokenizers import Tokenizer"
   ]
  },
  {
   "cell_type": "code",
   "execution_count": 21,
   "metadata": {},
   "outputs": [],
   "source": [
    "bpe_tokenizer_pretrained = Tokenizer.from_file(f\"{data_dir}/bpe_tokenizer.json\")\n",
    "global bpe_tokenizer_pretrained\n",
    "\n",
    "def usingBPETokenizer(data) -> list :\n",
    "    return bpe_tokenizer_pretrained.encode(data).tokens"
   ]
  },
  {
   "cell_type": "code",
   "execution_count": 22,
   "metadata": {},
   "outputs": [
    {
     "data": {
      "text/plain": [
       "'아 더빙.. 진짜 짜증나네요 목소리'"
      ]
     },
     "execution_count": 22,
     "metadata": {},
     "output_type": "execute_result"
    }
   ],
   "source": [
    "train_data['document'][0]"
   ]
  },
  {
   "cell_type": "code",
   "execution_count": 23,
   "metadata": {},
   "outputs": [
    {
     "name": "stdout",
     "output_type": "stream",
     "text": [
      "['아</w>', '더빙</w>', '.</w>', '.</w>', '진짜</w>', '짜증나', '네요</w>', '목소리</w>']\n"
     ]
    }
   ],
   "source": [
    "print(usingBPETokenizer(train_data['document'][0]))"
   ]
  },
  {
   "cell_type": "code",
   "execution_count": null,
   "metadata": {},
   "outputs": [],
   "source": []
  }
 ],
 "metadata": {
  "kernelspec": {
   "display_name": "base",
   "language": "python",
   "name": "python3"
  },
  "language_info": {
   "codemirror_mode": {
    "name": "ipython",
    "version": 3
   },
   "file_extension": ".py",
   "mimetype": "text/x-python",
   "name": "python",
   "nbconvert_exporter": "python",
   "pygments_lexer": "ipython3",
   "version": "3.9.13"
  },
  "orig_nbformat": 4
 },
 "nbformat": 4,
 "nbformat_minor": 2
}
